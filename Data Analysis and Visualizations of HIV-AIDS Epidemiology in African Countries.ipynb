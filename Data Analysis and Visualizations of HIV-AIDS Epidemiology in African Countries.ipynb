{
 "cells": [
  {
   "cell_type": "markdown",
   "id": "ec0d66df",
   "metadata": {},
   "source": [
    "# Comprehensive Data Analysis and Visualizations of HIV/AIDS Epidemiology in African Countries\"\n",
    "### By Edmund Joseph\n",
    "\n",
    "This project focuses on a thorough examination of HIV/AIDS epidemiological data for various African countries. It involves data collection, cleaning, and in-depth analysis to uncover key trends, challenges, and insights. The project also employs data visualization techniques to present the findings in a clear and informative manner. The dataset used here is available on https://www.kaggle.com/datasets/imdevskp/hiv-aids-dataset. This dataset contains the information from **WHO** and **UNESCO** of the HIV AIDS since a decade.\n",
    "\n",
    "The dataset is explored, cleaned, analyzed and visualized to produce valuable insights. There are six datasets in this.\n",
    "\n",
    "## Importing Packages and Reading dataset"
   ]
  },
  {
   "cell_type": "code",
   "execution_count": 121,
   "id": "5c17dc17",
   "metadata": {},
   "outputs": [],
   "source": [
    "import pandas as pd\n",
    "import numpy as np\n",
    "import plotly.express as px\n",
    "import matplotlib.pyplot as plt\n",
    "import seaborn as sns\n",
    "import warnings\n",
    "warnings.filterwarnings(\"ignore\")"
   ]
  },
  {
   "cell_type": "code",
   "execution_count": 122,
   "id": "a05c006e",
   "metadata": {},
   "outputs": [],
   "source": [
    "adult_data = pd.read_csv(r\"C:\\Users\\user1\\Downloads\\archive (6)\\no_of_cases_adults_15_to_49_by_country_clean.csv\")"
   ]
  },
  {
   "cell_type": "code",
   "execution_count": 123,
   "id": "ecbcaf77",
   "metadata": {},
   "outputs": [
    {
     "data": {
      "text/html": [
       "<div>\n",
       "<style scoped>\n",
       "    .dataframe tbody tr th:only-of-type {\n",
       "        vertical-align: middle;\n",
       "    }\n",
       "\n",
       "    .dataframe tbody tr th {\n",
       "        vertical-align: top;\n",
       "    }\n",
       "\n",
       "    .dataframe thead th {\n",
       "        text-align: right;\n",
       "    }\n",
       "</style>\n",
       "<table border=\"1\" class=\"dataframe\">\n",
       "  <thead>\n",
       "    <tr style=\"text-align: right;\">\n",
       "      <th></th>\n",
       "      <th>Country</th>\n",
       "      <th>Year</th>\n",
       "      <th>Count</th>\n",
       "      <th>Count_median</th>\n",
       "      <th>Count_min</th>\n",
       "      <th>Count_max</th>\n",
       "      <th>WHO Region</th>\n",
       "    </tr>\n",
       "  </thead>\n",
       "  <tbody>\n",
       "    <tr>\n",
       "      <th>0</th>\n",
       "      <td>Afghanistan</td>\n",
       "      <td>2018</td>\n",
       "      <td>0.1[0.1–0.1]</td>\n",
       "      <td>0.1</td>\n",
       "      <td>0.1</td>\n",
       "      <td>0.1</td>\n",
       "      <td>Eastern Mediterranean</td>\n",
       "    </tr>\n",
       "    <tr>\n",
       "      <th>1</th>\n",
       "      <td>Albania</td>\n",
       "      <td>2018</td>\n",
       "      <td>na</td>\n",
       "      <td>NaN</td>\n",
       "      <td>NaN</td>\n",
       "      <td>NaN</td>\n",
       "      <td>Europe</td>\n",
       "    </tr>\n",
       "    <tr>\n",
       "      <th>2</th>\n",
       "      <td>Algeria</td>\n",
       "      <td>2018</td>\n",
       "      <td>0.1[0.1–0.1]</td>\n",
       "      <td>0.1</td>\n",
       "      <td>0.1</td>\n",
       "      <td>0.1</td>\n",
       "      <td>Africa</td>\n",
       "    </tr>\n",
       "    <tr>\n",
       "      <th>3</th>\n",
       "      <td>Angola</td>\n",
       "      <td>2018</td>\n",
       "      <td>2.0[1.7–2.3]</td>\n",
       "      <td>2.0</td>\n",
       "      <td>1.7</td>\n",
       "      <td>2.3</td>\n",
       "      <td>Africa</td>\n",
       "    </tr>\n",
       "    <tr>\n",
       "      <th>4</th>\n",
       "      <td>Argentina</td>\n",
       "      <td>2018</td>\n",
       "      <td>0.4[0.4–0.4]</td>\n",
       "      <td>0.4</td>\n",
       "      <td>0.4</td>\n",
       "      <td>0.4</td>\n",
       "      <td>Americas</td>\n",
       "    </tr>\n",
       "  </tbody>\n",
       "</table>\n",
       "</div>"
      ],
      "text/plain": [
       "       Country  Year         Count  Count_median  Count_min  Count_max  \\\n",
       "0  Afghanistan  2018  0.1[0.1–0.1]           0.1        0.1        0.1   \n",
       "1      Albania  2018            na           NaN        NaN        NaN   \n",
       "2      Algeria  2018  0.1[0.1–0.1]           0.1        0.1        0.1   \n",
       "3       Angola  2018  2.0[1.7–2.3]           2.0        1.7        2.3   \n",
       "4    Argentina  2018  0.4[0.4–0.4]           0.4        0.4        0.4   \n",
       "\n",
       "              WHO Region  \n",
       "0  Eastern Mediterranean  \n",
       "1                 Europe  \n",
       "2                 Africa  \n",
       "3                 Africa  \n",
       "4               Americas  "
      ]
     },
     "execution_count": 123,
     "metadata": {},
     "output_type": "execute_result"
    }
   ],
   "source": [
    "adult_data.head()"
   ]
  },
  {
   "cell_type": "markdown",
   "id": "dce842e7",
   "metadata": {},
   "source": [
    "# Extacting no of adults case for African countries and storing in a new dataframe"
   ]
  },
  {
   "cell_type": "code",
   "execution_count": 124,
   "id": "c5a4a2cf",
   "metadata": {},
   "outputs": [],
   "source": [
    "afr_adult = adult_data[adult_data['WHO Region'] == 'Africa']"
   ]
  },
  {
   "cell_type": "code",
   "execution_count": 125,
   "id": "4f756f48",
   "metadata": {},
   "outputs": [
    {
     "data": {
      "text/html": [
       "<div>\n",
       "<style scoped>\n",
       "    .dataframe tbody tr th:only-of-type {\n",
       "        vertical-align: middle;\n",
       "    }\n",
       "\n",
       "    .dataframe tbody tr th {\n",
       "        vertical-align: top;\n",
       "    }\n",
       "\n",
       "    .dataframe thead th {\n",
       "        text-align: right;\n",
       "    }\n",
       "</style>\n",
       "<table border=\"1\" class=\"dataframe\">\n",
       "  <thead>\n",
       "    <tr style=\"text-align: right;\">\n",
       "      <th></th>\n",
       "      <th>Country</th>\n",
       "      <th>Year</th>\n",
       "      <th>Count</th>\n",
       "      <th>Count_median</th>\n",
       "      <th>Count_min</th>\n",
       "      <th>Count_max</th>\n",
       "      <th>WHO Region</th>\n",
       "    </tr>\n",
       "  </thead>\n",
       "  <tbody>\n",
       "    <tr>\n",
       "      <th>2</th>\n",
       "      <td>Algeria</td>\n",
       "      <td>2018</td>\n",
       "      <td>0.1[0.1–0.1]</td>\n",
       "      <td>0.1</td>\n",
       "      <td>0.1</td>\n",
       "      <td>0.1</td>\n",
       "      <td>Africa</td>\n",
       "    </tr>\n",
       "    <tr>\n",
       "      <th>3</th>\n",
       "      <td>Angola</td>\n",
       "      <td>2018</td>\n",
       "      <td>2.0[1.7–2.3]</td>\n",
       "      <td>2.0</td>\n",
       "      <td>1.7</td>\n",
       "      <td>2.3</td>\n",
       "      <td>Africa</td>\n",
       "    </tr>\n",
       "    <tr>\n",
       "      <th>16</th>\n",
       "      <td>Benin</td>\n",
       "      <td>2018</td>\n",
       "      <td>1.0[0.7–1.7]</td>\n",
       "      <td>1.0</td>\n",
       "      <td>0.7</td>\n",
       "      <td>1.7</td>\n",
       "      <td>Africa</td>\n",
       "    </tr>\n",
       "    <tr>\n",
       "      <th>20</th>\n",
       "      <td>Botswana</td>\n",
       "      <td>2018</td>\n",
       "      <td>20.3[17.3–21.8]</td>\n",
       "      <td>20.3</td>\n",
       "      <td>17.3</td>\n",
       "      <td>21.8</td>\n",
       "      <td>Africa</td>\n",
       "    </tr>\n",
       "    <tr>\n",
       "      <th>24</th>\n",
       "      <td>Burkina Faso</td>\n",
       "      <td>2018</td>\n",
       "      <td>0.7[0.6–0.9]</td>\n",
       "      <td>0.7</td>\n",
       "      <td>0.6</td>\n",
       "      <td>0.9</td>\n",
       "      <td>Africa</td>\n",
       "    </tr>\n",
       "  </tbody>\n",
       "</table>\n",
       "</div>"
      ],
      "text/plain": [
       "         Country  Year            Count  Count_median  Count_min  Count_max  \\\n",
       "2        Algeria  2018     0.1[0.1–0.1]           0.1        0.1        0.1   \n",
       "3         Angola  2018     2.0[1.7–2.3]           2.0        1.7        2.3   \n",
       "16         Benin  2018     1.0[0.7–1.7]           1.0        0.7        1.7   \n",
       "20      Botswana  2018  20.3[17.3–21.8]          20.3       17.3       21.8   \n",
       "24  Burkina Faso  2018     0.7[0.6–0.9]           0.7        0.6        0.9   \n",
       "\n",
       "   WHO Region  \n",
       "2      Africa  \n",
       "3      Africa  \n",
       "16     Africa  \n",
       "20     Africa  \n",
       "24     Africa  "
      ]
     },
     "execution_count": 125,
     "metadata": {},
     "output_type": "execute_result"
    }
   ],
   "source": [
    "afr_adult.head()"
   ]
  },
  {
   "cell_type": "markdown",
   "id": "0ce6afdc",
   "metadata": {},
   "source": [
    "# take a quick view of the data"
   ]
  },
  {
   "cell_type": "code",
   "execution_count": 126,
   "id": "cff3c085",
   "metadata": {},
   "outputs": [
    {
     "name": "stdout",
     "output_type": "stream",
     "text": [
      "<class 'pandas.core.frame.DataFrame'>\n",
      "Int64Index: 176 entries, 2 to 679\n",
      "Data columns (total 7 columns):\n",
      " #   Column        Non-Null Count  Dtype  \n",
      "---  ------        --------------  -----  \n",
      " 0   Country       176 non-null    object \n",
      " 1   Year          176 non-null    int64  \n",
      " 2   Count         176 non-null    object \n",
      " 3   Count_median  176 non-null    float64\n",
      " 4   Count_min     176 non-null    float64\n",
      " 5   Count_max     176 non-null    float64\n",
      " 6   WHO Region    176 non-null    object \n",
      "dtypes: float64(3), int64(1), object(3)\n",
      "memory usage: 11.0+ KB\n"
     ]
    }
   ],
   "source": [
    "afr_adult.info()"
   ]
  },
  {
   "cell_type": "code",
   "execution_count": 127,
   "id": "28d5f0d0",
   "metadata": {},
   "outputs": [
    {
     "data": {
      "text/plain": [
       "Country          object\n",
       "Year              int64\n",
       "Count            object\n",
       "Count_median    float64\n",
       "Count_min       float64\n",
       "Count_max       float64\n",
       "WHO Region       object\n",
       "dtype: object"
      ]
     },
     "execution_count": 127,
     "metadata": {},
     "output_type": "execute_result"
    }
   ],
   "source": [
    "afr_adult.dtypes"
   ]
  },
  {
   "cell_type": "markdown",
   "id": "2eb1f2a7",
   "metadata": {},
   "source": [
    "# next is importing data for no of death cases and exptracting death cases for africa"
   ]
  },
  {
   "cell_type": "code",
   "execution_count": 128,
   "id": "c01e637c",
   "metadata": {},
   "outputs": [
    {
     "data": {
      "text/html": [
       "<div>\n",
       "<style scoped>\n",
       "    .dataframe tbody tr th:only-of-type {\n",
       "        vertical-align: middle;\n",
       "    }\n",
       "\n",
       "    .dataframe tbody tr th {\n",
       "        vertical-align: top;\n",
       "    }\n",
       "\n",
       "    .dataframe thead th {\n",
       "        text-align: right;\n",
       "    }\n",
       "</style>\n",
       "<table border=\"1\" class=\"dataframe\">\n",
       "  <thead>\n",
       "    <tr style=\"text-align: right;\">\n",
       "      <th></th>\n",
       "      <th>Country</th>\n",
       "      <th>Year</th>\n",
       "      <th>Count</th>\n",
       "      <th>Count_median</th>\n",
       "      <th>Count_min</th>\n",
       "      <th>Count_max</th>\n",
       "      <th>WHO Region</th>\n",
       "    </tr>\n",
       "  </thead>\n",
       "  <tbody>\n",
       "    <tr>\n",
       "      <th>0</th>\n",
       "      <td>Afghanistan</td>\n",
       "      <td>2018</td>\n",
       "      <td>500[200–610]</td>\n",
       "      <td>500.0</td>\n",
       "      <td>200.0</td>\n",
       "      <td>610.0</td>\n",
       "      <td>Eastern Mediterranean</td>\n",
       "    </tr>\n",
       "    <tr>\n",
       "      <th>1</th>\n",
       "      <td>Albania</td>\n",
       "      <td>2018</td>\n",
       "      <td>na</td>\n",
       "      <td>NaN</td>\n",
       "      <td>NaN</td>\n",
       "      <td>NaN</td>\n",
       "      <td>Europe</td>\n",
       "    </tr>\n",
       "    <tr>\n",
       "      <th>2</th>\n",
       "      <td>Algeria</td>\n",
       "      <td>2018</td>\n",
       "      <td>200[200–200]</td>\n",
       "      <td>200.0</td>\n",
       "      <td>200.0</td>\n",
       "      <td>200.0</td>\n",
       "      <td>Africa</td>\n",
       "    </tr>\n",
       "    <tr>\n",
       "      <th>3</th>\n",
       "      <td>Angola</td>\n",
       "      <td>2018</td>\n",
       "      <td>14000[9500–18000]</td>\n",
       "      <td>14000.0</td>\n",
       "      <td>9500.0</td>\n",
       "      <td>18000.0</td>\n",
       "      <td>Africa</td>\n",
       "    </tr>\n",
       "    <tr>\n",
       "      <th>4</th>\n",
       "      <td>Argentina</td>\n",
       "      <td>2018</td>\n",
       "      <td>1700[1300–2100]</td>\n",
       "      <td>1700.0</td>\n",
       "      <td>1300.0</td>\n",
       "      <td>2100.0</td>\n",
       "      <td>Americas</td>\n",
       "    </tr>\n",
       "  </tbody>\n",
       "</table>\n",
       "</div>"
      ],
      "text/plain": [
       "       Country  Year              Count  Count_median  Count_min  Count_max  \\\n",
       "0  Afghanistan  2018       500[200–610]         500.0      200.0      610.0   \n",
       "1      Albania  2018                 na           NaN        NaN        NaN   \n",
       "2      Algeria  2018       200[200–200]         200.0      200.0      200.0   \n",
       "3       Angola  2018  14000[9500–18000]       14000.0     9500.0    18000.0   \n",
       "4    Argentina  2018    1700[1300–2100]        1700.0     1300.0     2100.0   \n",
       "\n",
       "              WHO Region  \n",
       "0  Eastern Mediterranean  \n",
       "1                 Europe  \n",
       "2                 Africa  \n",
       "3                 Africa  \n",
       "4               Americas  "
      ]
     },
     "execution_count": 128,
     "metadata": {},
     "output_type": "execute_result"
    }
   ],
   "source": [
    "death_case = pd.read_csv(r\"C:\\Users\\user1\\Downloads\\archive (6)\\no_of_deaths_by_country_clean.csv\")\n",
    "death_case.head()"
   ]
  },
  {
   "cell_type": "code",
   "execution_count": 129,
   "id": "a8cb9a32",
   "metadata": {},
   "outputs": [
    {
     "data": {
      "text/html": [
       "<div>\n",
       "<style scoped>\n",
       "    .dataframe tbody tr th:only-of-type {\n",
       "        vertical-align: middle;\n",
       "    }\n",
       "\n",
       "    .dataframe tbody tr th {\n",
       "        vertical-align: top;\n",
       "    }\n",
       "\n",
       "    .dataframe thead th {\n",
       "        text-align: right;\n",
       "    }\n",
       "</style>\n",
       "<table border=\"1\" class=\"dataframe\">\n",
       "  <thead>\n",
       "    <tr style=\"text-align: right;\">\n",
       "      <th></th>\n",
       "      <th>Country</th>\n",
       "      <th>Year</th>\n",
       "      <th>Count</th>\n",
       "      <th>Count_median</th>\n",
       "      <th>Count_min</th>\n",
       "      <th>Count_max</th>\n",
       "      <th>WHO Region</th>\n",
       "    </tr>\n",
       "  </thead>\n",
       "  <tbody>\n",
       "    <tr>\n",
       "      <th>2</th>\n",
       "      <td>Algeria</td>\n",
       "      <td>2018</td>\n",
       "      <td>200[200–200]</td>\n",
       "      <td>200.0</td>\n",
       "      <td>200.0</td>\n",
       "      <td>200.0</td>\n",
       "      <td>Africa</td>\n",
       "    </tr>\n",
       "    <tr>\n",
       "      <th>3</th>\n",
       "      <td>Angola</td>\n",
       "      <td>2018</td>\n",
       "      <td>14000[9500–18000]</td>\n",
       "      <td>14000.0</td>\n",
       "      <td>9500.0</td>\n",
       "      <td>18000.0</td>\n",
       "      <td>Africa</td>\n",
       "    </tr>\n",
       "    <tr>\n",
       "      <th>16</th>\n",
       "      <td>Benin</td>\n",
       "      <td>2018</td>\n",
       "      <td>2200[1100–4400]</td>\n",
       "      <td>2200.0</td>\n",
       "      <td>1100.0</td>\n",
       "      <td>4400.0</td>\n",
       "      <td>Africa</td>\n",
       "    </tr>\n",
       "    <tr>\n",
       "      <th>20</th>\n",
       "      <td>Botswana</td>\n",
       "      <td>2018</td>\n",
       "      <td>4800[4100–5700]</td>\n",
       "      <td>4800.0</td>\n",
       "      <td>4100.0</td>\n",
       "      <td>5700.0</td>\n",
       "      <td>Africa</td>\n",
       "    </tr>\n",
       "    <tr>\n",
       "      <th>24</th>\n",
       "      <td>Burkina Faso</td>\n",
       "      <td>2018</td>\n",
       "      <td>3300[2400–4400]</td>\n",
       "      <td>3300.0</td>\n",
       "      <td>2400.0</td>\n",
       "      <td>4400.0</td>\n",
       "      <td>Africa</td>\n",
       "    </tr>\n",
       "  </tbody>\n",
       "</table>\n",
       "</div>"
      ],
      "text/plain": [
       "         Country  Year              Count  Count_median  Count_min  Count_max  \\\n",
       "2        Algeria  2018       200[200–200]         200.0      200.0      200.0   \n",
       "3         Angola  2018  14000[9500–18000]       14000.0     9500.0    18000.0   \n",
       "16         Benin  2018    2200[1100–4400]        2200.0     1100.0     4400.0   \n",
       "20      Botswana  2018    4800[4100–5700]        4800.0     4100.0     5700.0   \n",
       "24  Burkina Faso  2018    3300[2400–4400]        3300.0     2400.0     4400.0   \n",
       "\n",
       "   WHO Region  \n",
       "2      Africa  \n",
       "3      Africa  \n",
       "16     Africa  \n",
       "20     Africa  \n",
       "24     Africa  "
      ]
     },
     "execution_count": 129,
     "metadata": {},
     "output_type": "execute_result"
    }
   ],
   "source": [
    "afr_death_case = death_case[death_case['WHO Region'] == 'Africa']\n",
    "afr_death_case.head()"
   ]
  },
  {
   "cell_type": "markdown",
   "id": "9b0f8e9f",
   "metadata": {},
   "source": [
    "# importing no of people living with hiv dataset and extract data for africa"
   ]
  },
  {
   "cell_type": "code",
   "execution_count": 130,
   "id": "ebb0b2f4",
   "metadata": {},
   "outputs": [
    {
     "data": {
      "text/html": [
       "<div>\n",
       "<style scoped>\n",
       "    .dataframe tbody tr th:only-of-type {\n",
       "        vertical-align: middle;\n",
       "    }\n",
       "\n",
       "    .dataframe tbody tr th {\n",
       "        vertical-align: top;\n",
       "    }\n",
       "\n",
       "    .dataframe thead th {\n",
       "        text-align: right;\n",
       "    }\n",
       "</style>\n",
       "<table border=\"1\" class=\"dataframe\">\n",
       "  <thead>\n",
       "    <tr style=\"text-align: right;\">\n",
       "      <th></th>\n",
       "      <th>Country</th>\n",
       "      <th>Year</th>\n",
       "      <th>Count</th>\n",
       "      <th>Count_median</th>\n",
       "      <th>Count_min</th>\n",
       "      <th>Count_max</th>\n",
       "      <th>WHO Region</th>\n",
       "    </tr>\n",
       "  </thead>\n",
       "  <tbody>\n",
       "    <tr>\n",
       "      <th>0</th>\n",
       "      <td>Afghanistan</td>\n",
       "      <td>2018</td>\n",
       "      <td>7200[4100–11000]</td>\n",
       "      <td>7200.0</td>\n",
       "      <td>4100.0</td>\n",
       "      <td>11000.0</td>\n",
       "      <td>Eastern Mediterranean</td>\n",
       "    </tr>\n",
       "    <tr>\n",
       "      <th>1</th>\n",
       "      <td>Albania</td>\n",
       "      <td>2018</td>\n",
       "      <td>na</td>\n",
       "      <td>NaN</td>\n",
       "      <td>NaN</td>\n",
       "      <td>NaN</td>\n",
       "      <td>Europe</td>\n",
       "    </tr>\n",
       "    <tr>\n",
       "      <th>2</th>\n",
       "      <td>Algeria</td>\n",
       "      <td>2018</td>\n",
       "      <td>16000[15000–17000]</td>\n",
       "      <td>16000.0</td>\n",
       "      <td>15000.0</td>\n",
       "      <td>17000.0</td>\n",
       "      <td>Africa</td>\n",
       "    </tr>\n",
       "    <tr>\n",
       "      <th>3</th>\n",
       "      <td>Angola</td>\n",
       "      <td>2018</td>\n",
       "      <td>330000[290000–390000]</td>\n",
       "      <td>330000.0</td>\n",
       "      <td>290000.0</td>\n",
       "      <td>390000.0</td>\n",
       "      <td>Africa</td>\n",
       "    </tr>\n",
       "    <tr>\n",
       "      <th>4</th>\n",
       "      <td>Argentina</td>\n",
       "      <td>2018</td>\n",
       "      <td>140000[130000–150000]</td>\n",
       "      <td>140000.0</td>\n",
       "      <td>130000.0</td>\n",
       "      <td>150000.0</td>\n",
       "      <td>Americas</td>\n",
       "    </tr>\n",
       "  </tbody>\n",
       "</table>\n",
       "</div>"
      ],
      "text/plain": [
       "       Country  Year                  Count  Count_median  Count_min  \\\n",
       "0  Afghanistan  2018       7200[4100–11000]        7200.0     4100.0   \n",
       "1      Albania  2018                     na           NaN        NaN   \n",
       "2      Algeria  2018     16000[15000–17000]       16000.0    15000.0   \n",
       "3       Angola  2018  330000[290000–390000]      330000.0   290000.0   \n",
       "4    Argentina  2018  140000[130000–150000]      140000.0   130000.0   \n",
       "\n",
       "   Count_max             WHO Region  \n",
       "0    11000.0  Eastern Mediterranean  \n",
       "1        NaN                 Europe  \n",
       "2    17000.0                 Africa  \n",
       "3   390000.0                 Africa  \n",
       "4   150000.0               Americas  "
      ]
     },
     "execution_count": 130,
     "metadata": {},
     "output_type": "execute_result"
    }
   ],
   "source": [
    "hiv_living_data = pd.read_csv(r\"C:\\Users\\user1\\Downloads\\archive (6)\\no_of_people_living_with_hiv_by_country_clean.csv\")\n",
    "hiv_living_data.head()"
   ]
  },
  {
   "cell_type": "code",
   "execution_count": 131,
   "id": "5dcf2335",
   "metadata": {},
   "outputs": [
    {
     "data": {
      "text/html": [
       "<div>\n",
       "<style scoped>\n",
       "    .dataframe tbody tr th:only-of-type {\n",
       "        vertical-align: middle;\n",
       "    }\n",
       "\n",
       "    .dataframe tbody tr th {\n",
       "        vertical-align: top;\n",
       "    }\n",
       "\n",
       "    .dataframe thead th {\n",
       "        text-align: right;\n",
       "    }\n",
       "</style>\n",
       "<table border=\"1\" class=\"dataframe\">\n",
       "  <thead>\n",
       "    <tr style=\"text-align: right;\">\n",
       "      <th></th>\n",
       "      <th>Country</th>\n",
       "      <th>Year</th>\n",
       "      <th>Count</th>\n",
       "      <th>Count_median</th>\n",
       "      <th>Count_min</th>\n",
       "      <th>Count_max</th>\n",
       "      <th>WHO Region</th>\n",
       "    </tr>\n",
       "  </thead>\n",
       "  <tbody>\n",
       "    <tr>\n",
       "      <th>2</th>\n",
       "      <td>Algeria</td>\n",
       "      <td>2018</td>\n",
       "      <td>16000[15000–17000]</td>\n",
       "      <td>16000.0</td>\n",
       "      <td>15000.0</td>\n",
       "      <td>17000.0</td>\n",
       "      <td>Africa</td>\n",
       "    </tr>\n",
       "    <tr>\n",
       "      <th>3</th>\n",
       "      <td>Angola</td>\n",
       "      <td>2018</td>\n",
       "      <td>330000[290000–390000]</td>\n",
       "      <td>330000.0</td>\n",
       "      <td>290000.0</td>\n",
       "      <td>390000.0</td>\n",
       "      <td>Africa</td>\n",
       "    </tr>\n",
       "    <tr>\n",
       "      <th>16</th>\n",
       "      <td>Benin</td>\n",
       "      <td>2018</td>\n",
       "      <td>73000[48000–120000]</td>\n",
       "      <td>73000.0</td>\n",
       "      <td>48000.0</td>\n",
       "      <td>120000.0</td>\n",
       "      <td>Africa</td>\n",
       "    </tr>\n",
       "    <tr>\n",
       "      <th>20</th>\n",
       "      <td>Botswana</td>\n",
       "      <td>2018</td>\n",
       "      <td>370000[330000–400000]</td>\n",
       "      <td>370000.0</td>\n",
       "      <td>330000.0</td>\n",
       "      <td>400000.0</td>\n",
       "      <td>Africa</td>\n",
       "    </tr>\n",
       "    <tr>\n",
       "      <th>24</th>\n",
       "      <td>Burkina Faso</td>\n",
       "      <td>2018</td>\n",
       "      <td>96000[78000–120000]</td>\n",
       "      <td>96000.0</td>\n",
       "      <td>78000.0</td>\n",
       "      <td>120000.0</td>\n",
       "      <td>Africa</td>\n",
       "    </tr>\n",
       "  </tbody>\n",
       "</table>\n",
       "</div>"
      ],
      "text/plain": [
       "         Country  Year                  Count  Count_median  Count_min  \\\n",
       "2        Algeria  2018     16000[15000–17000]       16000.0    15000.0   \n",
       "3         Angola  2018  330000[290000–390000]      330000.0   290000.0   \n",
       "16         Benin  2018    73000[48000–120000]       73000.0    48000.0   \n",
       "20      Botswana  2018  370000[330000–400000]      370000.0   330000.0   \n",
       "24  Burkina Faso  2018    96000[78000–120000]       96000.0    78000.0   \n",
       "\n",
       "    Count_max WHO Region  \n",
       "2     17000.0     Africa  \n",
       "3    390000.0     Africa  \n",
       "16   120000.0     Africa  \n",
       "20   400000.0     Africa  \n",
       "24   120000.0     Africa  "
      ]
     },
     "execution_count": 131,
     "metadata": {},
     "output_type": "execute_result"
    }
   ],
   "source": [
    "afr_hiv_living_data = hiv_living_data[hiv_living_data['WHO Region'] == 'Africa']\n",
    "afr_hiv_living_data.head()"
   ]
  },
  {
   "cell_type": "markdown",
   "id": "98199f65",
   "metadata": {},
   "source": [
    "# import mother2child prevention data and extract for africa"
   ]
  },
  {
   "cell_type": "code",
   "execution_count": 132,
   "id": "77dbb707",
   "metadata": {},
   "outputs": [
    {
     "data": {
      "text/html": [
       "<div>\n",
       "<style scoped>\n",
       "    .dataframe tbody tr th:only-of-type {\n",
       "        vertical-align: middle;\n",
       "    }\n",
       "\n",
       "    .dataframe tbody tr th {\n",
       "        vertical-align: top;\n",
       "    }\n",
       "\n",
       "    .dataframe thead th {\n",
       "        text-align: right;\n",
       "    }\n",
       "</style>\n",
       "<table border=\"1\" class=\"dataframe\">\n",
       "  <thead>\n",
       "    <tr style=\"text-align: right;\">\n",
       "      <th></th>\n",
       "      <th>Country</th>\n",
       "      <th>Received Antiretrovirals</th>\n",
       "      <th>Needing antiretrovirals</th>\n",
       "      <th>Percentage Recieved</th>\n",
       "      <th>Needing antiretrovirals_median</th>\n",
       "      <th>Needing antiretrovirals_min</th>\n",
       "      <th>Needing antiretrovirals_max</th>\n",
       "      <th>Percentage Recieved_median</th>\n",
       "      <th>Percentage Recieved_min</th>\n",
       "      <th>Percentage Recieved_max</th>\n",
       "      <th>WHO Region</th>\n",
       "    </tr>\n",
       "  </thead>\n",
       "  <tbody>\n",
       "    <tr>\n",
       "      <th>0</th>\n",
       "      <td>Afghanistan</td>\n",
       "      <td>20</td>\n",
       "      <td>200[100–500]</td>\n",
       "      <td>11[7–18]</td>\n",
       "      <td>200.0</td>\n",
       "      <td>100.0</td>\n",
       "      <td>500.0</td>\n",
       "      <td>11.0</td>\n",
       "      <td>7.0</td>\n",
       "      <td>18.0</td>\n",
       "      <td>Eastern Mediterranean</td>\n",
       "    </tr>\n",
       "    <tr>\n",
       "      <th>1</th>\n",
       "      <td>Albania</td>\n",
       "      <td>No data</td>\n",
       "      <td>Nodata</td>\n",
       "      <td>Nodata</td>\n",
       "      <td>NaN</td>\n",
       "      <td>NaN</td>\n",
       "      <td>NaN</td>\n",
       "      <td>NaN</td>\n",
       "      <td>NaN</td>\n",
       "      <td>NaN</td>\n",
       "      <td>Europe</td>\n",
       "    </tr>\n",
       "    <tr>\n",
       "      <th>2</th>\n",
       "      <td>Algeria</td>\n",
       "      <td>320</td>\n",
       "      <td>500[500–500]</td>\n",
       "      <td>74[69–78]</td>\n",
       "      <td>500.0</td>\n",
       "      <td>500.0</td>\n",
       "      <td>500.0</td>\n",
       "      <td>74.0</td>\n",
       "      <td>69.0</td>\n",
       "      <td>78.0</td>\n",
       "      <td>Africa</td>\n",
       "    </tr>\n",
       "    <tr>\n",
       "      <th>3</th>\n",
       "      <td>Angola</td>\n",
       "      <td>9600</td>\n",
       "      <td>25000[19000–32000]</td>\n",
       "      <td>38[29–48]</td>\n",
       "      <td>25000.0</td>\n",
       "      <td>19000.0</td>\n",
       "      <td>32000.0</td>\n",
       "      <td>38.0</td>\n",
       "      <td>29.0</td>\n",
       "      <td>48.0</td>\n",
       "      <td>Africa</td>\n",
       "    </tr>\n",
       "    <tr>\n",
       "      <th>4</th>\n",
       "      <td>Argentina</td>\n",
       "      <td>1800</td>\n",
       "      <td>1800[1600–2000]</td>\n",
       "      <td>95[85–95]</td>\n",
       "      <td>1800.0</td>\n",
       "      <td>1600.0</td>\n",
       "      <td>2000.0</td>\n",
       "      <td>95.0</td>\n",
       "      <td>85.0</td>\n",
       "      <td>95.0</td>\n",
       "      <td>Americas</td>\n",
       "    </tr>\n",
       "  </tbody>\n",
       "</table>\n",
       "</div>"
      ],
      "text/plain": [
       "       Country Received Antiretrovirals Needing antiretrovirals  \\\n",
       "0  Afghanistan                       20            200[100–500]   \n",
       "1      Albania                  No data                  Nodata   \n",
       "2      Algeria                      320            500[500–500]   \n",
       "3       Angola                     9600      25000[19000–32000]   \n",
       "4    Argentina                     1800         1800[1600–2000]   \n",
       "\n",
       "  Percentage Recieved  Needing antiretrovirals_median  \\\n",
       "0            11[7–18]                           200.0   \n",
       "1              Nodata                             NaN   \n",
       "2           74[69–78]                           500.0   \n",
       "3           38[29–48]                         25000.0   \n",
       "4           95[85–95]                          1800.0   \n",
       "\n",
       "   Needing antiretrovirals_min  Needing antiretrovirals_max  \\\n",
       "0                        100.0                        500.0   \n",
       "1                          NaN                          NaN   \n",
       "2                        500.0                        500.0   \n",
       "3                      19000.0                      32000.0   \n",
       "4                       1600.0                       2000.0   \n",
       "\n",
       "   Percentage Recieved_median  Percentage Recieved_min  \\\n",
       "0                        11.0                      7.0   \n",
       "1                         NaN                      NaN   \n",
       "2                        74.0                     69.0   \n",
       "3                        38.0                     29.0   \n",
       "4                        95.0                     85.0   \n",
       "\n",
       "   Percentage Recieved_max             WHO Region  \n",
       "0                     18.0  Eastern Mediterranean  \n",
       "1                      NaN                 Europe  \n",
       "2                     78.0                 Africa  \n",
       "3                     48.0                 Africa  \n",
       "4                     95.0               Americas  "
      ]
     },
     "execution_count": 132,
     "metadata": {},
     "output_type": "execute_result"
    }
   ],
   "source": [
    "mother2child_prevention = pd.read_csv(r\"C:\\Users\\user1\\Downloads\\archive (6)\\prevention_of_mother_to_child_transmission_by_country_clean.csv\")\n",
    "mother2child_prevention.head()"
   ]
  },
  {
   "cell_type": "code",
   "execution_count": 133,
   "id": "2fa2d467",
   "metadata": {},
   "outputs": [
    {
     "data": {
      "text/html": [
       "<div>\n",
       "<style scoped>\n",
       "    .dataframe tbody tr th:only-of-type {\n",
       "        vertical-align: middle;\n",
       "    }\n",
       "\n",
       "    .dataframe tbody tr th {\n",
       "        vertical-align: top;\n",
       "    }\n",
       "\n",
       "    .dataframe thead th {\n",
       "        text-align: right;\n",
       "    }\n",
       "</style>\n",
       "<table border=\"1\" class=\"dataframe\">\n",
       "  <thead>\n",
       "    <tr style=\"text-align: right;\">\n",
       "      <th></th>\n",
       "      <th>Country</th>\n",
       "      <th>Received Antiretrovirals</th>\n",
       "      <th>Needing antiretrovirals</th>\n",
       "      <th>Percentage Recieved</th>\n",
       "      <th>Needing antiretrovirals_median</th>\n",
       "      <th>Needing antiretrovirals_min</th>\n",
       "      <th>Needing antiretrovirals_max</th>\n",
       "      <th>Percentage Recieved_median</th>\n",
       "      <th>Percentage Recieved_min</th>\n",
       "      <th>Percentage Recieved_max</th>\n",
       "      <th>WHO Region</th>\n",
       "    </tr>\n",
       "  </thead>\n",
       "  <tbody>\n",
       "    <tr>\n",
       "      <th>2</th>\n",
       "      <td>Algeria</td>\n",
       "      <td>320</td>\n",
       "      <td>500[500–500]</td>\n",
       "      <td>74[69–78]</td>\n",
       "      <td>500.0</td>\n",
       "      <td>500.0</td>\n",
       "      <td>500.0</td>\n",
       "      <td>74.0</td>\n",
       "      <td>69.0</td>\n",
       "      <td>78.0</td>\n",
       "      <td>Africa</td>\n",
       "    </tr>\n",
       "    <tr>\n",
       "      <th>3</th>\n",
       "      <td>Angola</td>\n",
       "      <td>9600</td>\n",
       "      <td>25000[19000–32000]</td>\n",
       "      <td>38[29–48]</td>\n",
       "      <td>25000.0</td>\n",
       "      <td>19000.0</td>\n",
       "      <td>32000.0</td>\n",
       "      <td>38.0</td>\n",
       "      <td>29.0</td>\n",
       "      <td>48.0</td>\n",
       "      <td>Africa</td>\n",
       "    </tr>\n",
       "    <tr>\n",
       "      <th>16</th>\n",
       "      <td>Benin</td>\n",
       "      <td>4600</td>\n",
       "      <td>2600[1600–4300]</td>\n",
       "      <td>95[95–95]</td>\n",
       "      <td>2600.0</td>\n",
       "      <td>1600.0</td>\n",
       "      <td>4300.0</td>\n",
       "      <td>95.0</td>\n",
       "      <td>95.0</td>\n",
       "      <td>95.0</td>\n",
       "      <td>Africa</td>\n",
       "    </tr>\n",
       "    <tr>\n",
       "      <th>20</th>\n",
       "      <td>Botswana</td>\n",
       "      <td>12 400</td>\n",
       "      <td>13000[10000–14000]</td>\n",
       "      <td>95[77–95]</td>\n",
       "      <td>13000.0</td>\n",
       "      <td>10000.0</td>\n",
       "      <td>14000.0</td>\n",
       "      <td>95.0</td>\n",
       "      <td>77.0</td>\n",
       "      <td>95.0</td>\n",
       "      <td>Africa</td>\n",
       "    </tr>\n",
       "    <tr>\n",
       "      <th>24</th>\n",
       "      <td>Burkina Faso</td>\n",
       "      <td>4700</td>\n",
       "      <td>4900[3600–6100]</td>\n",
       "      <td>95[71–95]</td>\n",
       "      <td>4900.0</td>\n",
       "      <td>3600.0</td>\n",
       "      <td>6100.0</td>\n",
       "      <td>95.0</td>\n",
       "      <td>71.0</td>\n",
       "      <td>95.0</td>\n",
       "      <td>Africa</td>\n",
       "    </tr>\n",
       "  </tbody>\n",
       "</table>\n",
       "</div>"
      ],
      "text/plain": [
       "         Country Received Antiretrovirals Needing antiretrovirals  \\\n",
       "2        Algeria                      320            500[500–500]   \n",
       "3         Angola                     9600      25000[19000–32000]   \n",
       "16         Benin                     4600         2600[1600–4300]   \n",
       "20      Botswana                   12 400      13000[10000–14000]   \n",
       "24  Burkina Faso                     4700         4900[3600–6100]   \n",
       "\n",
       "   Percentage Recieved  Needing antiretrovirals_median  \\\n",
       "2            74[69–78]                           500.0   \n",
       "3            38[29–48]                         25000.0   \n",
       "16           95[95–95]                          2600.0   \n",
       "20           95[77–95]                         13000.0   \n",
       "24           95[71–95]                          4900.0   \n",
       "\n",
       "    Needing antiretrovirals_min  Needing antiretrovirals_max  \\\n",
       "2                         500.0                        500.0   \n",
       "3                       19000.0                      32000.0   \n",
       "16                       1600.0                       4300.0   \n",
       "20                      10000.0                      14000.0   \n",
       "24                       3600.0                       6100.0   \n",
       "\n",
       "    Percentage Recieved_median  Percentage Recieved_min  \\\n",
       "2                         74.0                     69.0   \n",
       "3                         38.0                     29.0   \n",
       "16                        95.0                     95.0   \n",
       "20                        95.0                     77.0   \n",
       "24                        95.0                     71.0   \n",
       "\n",
       "    Percentage Recieved_max WHO Region  \n",
       "2                      78.0     Africa  \n",
       "3                      48.0     Africa  \n",
       "16                     95.0     Africa  \n",
       "20                     95.0     Africa  \n",
       "24                     95.0     Africa  "
      ]
     },
     "execution_count": 133,
     "metadata": {},
     "output_type": "execute_result"
    }
   ],
   "source": [
    "afr_mother2child_prevention = mother2child_prevention[mother2child_prevention['WHO Region'] == 'Africa']\n",
    "afr_mother2child_prevention.head()"
   ]
  },
  {
   "cell_type": "markdown",
   "id": "c38f2184",
   "metadata": {},
   "source": [
    "# import art courarge data and extract for africa"
   ]
  },
  {
   "cell_type": "code",
   "execution_count": 134,
   "id": "7565a91d",
   "metadata": {},
   "outputs": [
    {
     "data": {
      "text/html": [
       "<div>\n",
       "<style scoped>\n",
       "    .dataframe tbody tr th:only-of-type {\n",
       "        vertical-align: middle;\n",
       "    }\n",
       "\n",
       "    .dataframe tbody tr th {\n",
       "        vertical-align: top;\n",
       "    }\n",
       "\n",
       "    .dataframe thead th {\n",
       "        text-align: right;\n",
       "    }\n",
       "</style>\n",
       "<table border=\"1\" class=\"dataframe\">\n",
       "  <thead>\n",
       "    <tr style=\"text-align: right;\">\n",
       "      <th></th>\n",
       "      <th>Country</th>\n",
       "      <th>Reported number of people receiving ART</th>\n",
       "      <th>Estimated number of people living with HIV</th>\n",
       "      <th>Estimated ART coverage among people living with HIV (%)</th>\n",
       "      <th>Estimated number of people living with HIV_median</th>\n",
       "      <th>Estimated number of people living with HIV_min</th>\n",
       "      <th>Estimated number of people living with HIV_max</th>\n",
       "      <th>Estimated ART coverage among people living with HIV (%)_median</th>\n",
       "      <th>Estimated ART coverage among people living with HIV (%)_min</th>\n",
       "      <th>Estimated ART coverage among people living with HIV (%)_max</th>\n",
       "      <th>WHO Region</th>\n",
       "    </tr>\n",
       "  </thead>\n",
       "  <tbody>\n",
       "    <tr>\n",
       "      <th>0</th>\n",
       "      <td>Afghanistan</td>\n",
       "      <td>920</td>\n",
       "      <td>7200[4100–11000]</td>\n",
       "      <td>13[7–20]</td>\n",
       "      <td>7200.0</td>\n",
       "      <td>4100.0</td>\n",
       "      <td>11000.0</td>\n",
       "      <td>13.0</td>\n",
       "      <td>7.0</td>\n",
       "      <td>20.0</td>\n",
       "      <td>Eastern Mediterranean</td>\n",
       "    </tr>\n",
       "    <tr>\n",
       "      <th>1</th>\n",
       "      <td>Albania</td>\n",
       "      <td>580</td>\n",
       "      <td>Nodata</td>\n",
       "      <td>Nodata</td>\n",
       "      <td>NaN</td>\n",
       "      <td>NaN</td>\n",
       "      <td>NaN</td>\n",
       "      <td>NaN</td>\n",
       "      <td>NaN</td>\n",
       "      <td>NaN</td>\n",
       "      <td>Europe</td>\n",
       "    </tr>\n",
       "    <tr>\n",
       "      <th>2</th>\n",
       "      <td>Algeria</td>\n",
       "      <td>12800</td>\n",
       "      <td>16000[15000–17000]</td>\n",
       "      <td>81[75–86]</td>\n",
       "      <td>16000.0</td>\n",
       "      <td>15000.0</td>\n",
       "      <td>17000.0</td>\n",
       "      <td>81.0</td>\n",
       "      <td>75.0</td>\n",
       "      <td>86.0</td>\n",
       "      <td>Africa</td>\n",
       "    </tr>\n",
       "    <tr>\n",
       "      <th>3</th>\n",
       "      <td>Angola</td>\n",
       "      <td>88700</td>\n",
       "      <td>330000[290000–390000]</td>\n",
       "      <td>27[23–31]</td>\n",
       "      <td>330000.0</td>\n",
       "      <td>290000.0</td>\n",
       "      <td>390000.0</td>\n",
       "      <td>27.0</td>\n",
       "      <td>23.0</td>\n",
       "      <td>31.0</td>\n",
       "      <td>Africa</td>\n",
       "    </tr>\n",
       "    <tr>\n",
       "      <th>4</th>\n",
       "      <td>Argentina</td>\n",
       "      <td>85500</td>\n",
       "      <td>140000[130000–150000]</td>\n",
       "      <td>61[55–67]</td>\n",
       "      <td>140000.0</td>\n",
       "      <td>130000.0</td>\n",
       "      <td>150000.0</td>\n",
       "      <td>61.0</td>\n",
       "      <td>55.0</td>\n",
       "      <td>67.0</td>\n",
       "      <td>Americas</td>\n",
       "    </tr>\n",
       "  </tbody>\n",
       "</table>\n",
       "</div>"
      ],
      "text/plain": [
       "       Country Reported number of people receiving ART  \\\n",
       "0  Afghanistan                                     920   \n",
       "1      Albania                                     580   \n",
       "2      Algeria                                   12800   \n",
       "3       Angola                                   88700   \n",
       "4    Argentina                                   85500   \n",
       "\n",
       "  Estimated number of people living with HIV  \\\n",
       "0                           7200[4100–11000]   \n",
       "1                                     Nodata   \n",
       "2                         16000[15000–17000]   \n",
       "3                      330000[290000–390000]   \n",
       "4                      140000[130000–150000]   \n",
       "\n",
       "  Estimated ART coverage among people living with HIV (%)  \\\n",
       "0                                           13[7–20]        \n",
       "1                                             Nodata        \n",
       "2                                          81[75–86]        \n",
       "3                                          27[23–31]        \n",
       "4                                          61[55–67]        \n",
       "\n",
       "   Estimated number of people living with HIV_median  \\\n",
       "0                                             7200.0   \n",
       "1                                                NaN   \n",
       "2                                            16000.0   \n",
       "3                                           330000.0   \n",
       "4                                           140000.0   \n",
       "\n",
       "   Estimated number of people living with HIV_min  \\\n",
       "0                                          4100.0   \n",
       "1                                             NaN   \n",
       "2                                         15000.0   \n",
       "3                                        290000.0   \n",
       "4                                        130000.0   \n",
       "\n",
       "   Estimated number of people living with HIV_max  \\\n",
       "0                                         11000.0   \n",
       "1                                             NaN   \n",
       "2                                         17000.0   \n",
       "3                                        390000.0   \n",
       "4                                        150000.0   \n",
       "\n",
       "   Estimated ART coverage among people living with HIV (%)_median  \\\n",
       "0                                               13.0                \n",
       "1                                                NaN                \n",
       "2                                               81.0                \n",
       "3                                               27.0                \n",
       "4                                               61.0                \n",
       "\n",
       "   Estimated ART coverage among people living with HIV (%)_min  \\\n",
       "0                                                7.0             \n",
       "1                                                NaN             \n",
       "2                                               75.0             \n",
       "3                                               23.0             \n",
       "4                                               55.0             \n",
       "\n",
       "   Estimated ART coverage among people living with HIV (%)_max  \\\n",
       "0                                               20.0             \n",
       "1                                                NaN             \n",
       "2                                               86.0             \n",
       "3                                               31.0             \n",
       "4                                               67.0             \n",
       "\n",
       "              WHO Region  \n",
       "0  Eastern Mediterranean  \n",
       "1                 Europe  \n",
       "2                 Africa  \n",
       "3                 Africa  \n",
       "4               Americas  "
      ]
     },
     "execution_count": 134,
     "metadata": {},
     "output_type": "execute_result"
    }
   ],
   "source": [
    "artCoverage_data = pd.read_csv(r\"C:\\Users\\user1\\Downloads\\archive (6)\\art_coverage_by_country_clean.csv\")\n",
    "artCoverage_data.head()"
   ]
  },
  {
   "cell_type": "code",
   "execution_count": 135,
   "id": "cc1df527",
   "metadata": {},
   "outputs": [
    {
     "data": {
      "text/html": [
       "<div>\n",
       "<style scoped>\n",
       "    .dataframe tbody tr th:only-of-type {\n",
       "        vertical-align: middle;\n",
       "    }\n",
       "\n",
       "    .dataframe tbody tr th {\n",
       "        vertical-align: top;\n",
       "    }\n",
       "\n",
       "    .dataframe thead th {\n",
       "        text-align: right;\n",
       "    }\n",
       "</style>\n",
       "<table border=\"1\" class=\"dataframe\">\n",
       "  <thead>\n",
       "    <tr style=\"text-align: right;\">\n",
       "      <th></th>\n",
       "      <th>Country</th>\n",
       "      <th>Reported number of people receiving ART</th>\n",
       "      <th>Estimated number of people living with HIV</th>\n",
       "      <th>Estimated ART coverage among people living with HIV (%)</th>\n",
       "      <th>Estimated number of people living with HIV_median</th>\n",
       "      <th>Estimated number of people living with HIV_min</th>\n",
       "      <th>Estimated number of people living with HIV_max</th>\n",
       "      <th>Estimated ART coverage among people living with HIV (%)_median</th>\n",
       "      <th>Estimated ART coverage among people living with HIV (%)_min</th>\n",
       "      <th>Estimated ART coverage among people living with HIV (%)_max</th>\n",
       "      <th>WHO Region</th>\n",
       "    </tr>\n",
       "  </thead>\n",
       "  <tbody>\n",
       "    <tr>\n",
       "      <th>2</th>\n",
       "      <td>Algeria</td>\n",
       "      <td>12800</td>\n",
       "      <td>16000[15000–17000]</td>\n",
       "      <td>81[75–86]</td>\n",
       "      <td>16000.0</td>\n",
       "      <td>15000.0</td>\n",
       "      <td>17000.0</td>\n",
       "      <td>81.0</td>\n",
       "      <td>75.0</td>\n",
       "      <td>86.0</td>\n",
       "      <td>Africa</td>\n",
       "    </tr>\n",
       "    <tr>\n",
       "      <th>3</th>\n",
       "      <td>Angola</td>\n",
       "      <td>88700</td>\n",
       "      <td>330000[290000–390000]</td>\n",
       "      <td>27[23–31]</td>\n",
       "      <td>330000.0</td>\n",
       "      <td>290000.0</td>\n",
       "      <td>390000.0</td>\n",
       "      <td>27.0</td>\n",
       "      <td>23.0</td>\n",
       "      <td>31.0</td>\n",
       "      <td>Africa</td>\n",
       "    </tr>\n",
       "    <tr>\n",
       "      <th>16</th>\n",
       "      <td>Benin</td>\n",
       "      <td>44200</td>\n",
       "      <td>73000[48000–120000]</td>\n",
       "      <td>61[40–95]</td>\n",
       "      <td>73000.0</td>\n",
       "      <td>48000.0</td>\n",
       "      <td>120000.0</td>\n",
       "      <td>61.0</td>\n",
       "      <td>40.0</td>\n",
       "      <td>95.0</td>\n",
       "      <td>Africa</td>\n",
       "    </tr>\n",
       "    <tr>\n",
       "      <th>20</th>\n",
       "      <td>Botswana</td>\n",
       "      <td>307000</td>\n",
       "      <td>370000[330000–400000]</td>\n",
       "      <td>83[75–90]</td>\n",
       "      <td>370000.0</td>\n",
       "      <td>330000.0</td>\n",
       "      <td>400000.0</td>\n",
       "      <td>83.0</td>\n",
       "      <td>75.0</td>\n",
       "      <td>90.0</td>\n",
       "      <td>Africa</td>\n",
       "    </tr>\n",
       "    <tr>\n",
       "      <th>24</th>\n",
       "      <td>Burkina Faso</td>\n",
       "      <td>59300</td>\n",
       "      <td>96000[78000–120000]</td>\n",
       "      <td>62[50–75]</td>\n",
       "      <td>96000.0</td>\n",
       "      <td>78000.0</td>\n",
       "      <td>120000.0</td>\n",
       "      <td>62.0</td>\n",
       "      <td>50.0</td>\n",
       "      <td>75.0</td>\n",
       "      <td>Africa</td>\n",
       "    </tr>\n",
       "  </tbody>\n",
       "</table>\n",
       "</div>"
      ],
      "text/plain": [
       "         Country Reported number of people receiving ART  \\\n",
       "2        Algeria                                   12800   \n",
       "3         Angola                                   88700   \n",
       "16         Benin                                   44200   \n",
       "20      Botswana                                  307000   \n",
       "24  Burkina Faso                                   59300   \n",
       "\n",
       "   Estimated number of people living with HIV  \\\n",
       "2                          16000[15000–17000]   \n",
       "3                       330000[290000–390000]   \n",
       "16                        73000[48000–120000]   \n",
       "20                      370000[330000–400000]   \n",
       "24                        96000[78000–120000]   \n",
       "\n",
       "   Estimated ART coverage among people living with HIV (%)  \\\n",
       "2                                           81[75–86]        \n",
       "3                                           27[23–31]        \n",
       "16                                          61[40–95]        \n",
       "20                                          83[75–90]        \n",
       "24                                          62[50–75]        \n",
       "\n",
       "    Estimated number of people living with HIV_median  \\\n",
       "2                                             16000.0   \n",
       "3                                            330000.0   \n",
       "16                                            73000.0   \n",
       "20                                           370000.0   \n",
       "24                                            96000.0   \n",
       "\n",
       "    Estimated number of people living with HIV_min  \\\n",
       "2                                          15000.0   \n",
       "3                                         290000.0   \n",
       "16                                         48000.0   \n",
       "20                                        330000.0   \n",
       "24                                         78000.0   \n",
       "\n",
       "    Estimated number of people living with HIV_max  \\\n",
       "2                                          17000.0   \n",
       "3                                         390000.0   \n",
       "16                                        120000.0   \n",
       "20                                        400000.0   \n",
       "24                                        120000.0   \n",
       "\n",
       "    Estimated ART coverage among people living with HIV (%)_median  \\\n",
       "2                                                81.0                \n",
       "3                                                27.0                \n",
       "16                                               61.0                \n",
       "20                                               83.0                \n",
       "24                                               62.0                \n",
       "\n",
       "    Estimated ART coverage among people living with HIV (%)_min  \\\n",
       "2                                                75.0             \n",
       "3                                                23.0             \n",
       "16                                               40.0             \n",
       "20                                               75.0             \n",
       "24                                               50.0             \n",
       "\n",
       "    Estimated ART coverage among people living with HIV (%)_max WHO Region  \n",
       "2                                                86.0               Africa  \n",
       "3                                                31.0               Africa  \n",
       "16                                               95.0               Africa  \n",
       "20                                               90.0               Africa  \n",
       "24                                               75.0               Africa  "
      ]
     },
     "execution_count": 135,
     "metadata": {},
     "output_type": "execute_result"
    }
   ],
   "source": [
    "afr_artCoverage_data = artCoverage_data[artCoverage_data['WHO Region'] == 'Africa']\n",
    "afr_artCoverage_data.head()"
   ]
  },
  {
   "cell_type": "markdown",
   "id": "b4721b67",
   "metadata": {},
   "source": [
    "# import art pediatric coverage data and extract africa data"
   ]
  },
  {
   "cell_type": "code",
   "execution_count": 136,
   "id": "420558df",
   "metadata": {},
   "outputs": [
    {
     "data": {
      "text/html": [
       "<div>\n",
       "<style scoped>\n",
       "    .dataframe tbody tr th:only-of-type {\n",
       "        vertical-align: middle;\n",
       "    }\n",
       "\n",
       "    .dataframe tbody tr th {\n",
       "        vertical-align: top;\n",
       "    }\n",
       "\n",
       "    .dataframe thead th {\n",
       "        text-align: right;\n",
       "    }\n",
       "</style>\n",
       "<table border=\"1\" class=\"dataframe\">\n",
       "  <thead>\n",
       "    <tr style=\"text-align: right;\">\n",
       "      <th></th>\n",
       "      <th>Country</th>\n",
       "      <th>Reported number of children receiving ART</th>\n",
       "      <th>Estimated number of children needing ART based on WHO methods</th>\n",
       "      <th>Estimated ART coverage among children (%)</th>\n",
       "      <th>Estimated number of children needing ART based on WHO methods_median</th>\n",
       "      <th>Estimated number of children needing ART based on WHO methods_min</th>\n",
       "      <th>Estimated number of children needing ART based on WHO methods_max</th>\n",
       "      <th>Estimated ART coverage among children (%)_median</th>\n",
       "      <th>Estimated ART coverage among children (%)_min</th>\n",
       "      <th>Estimated ART coverage among children (%)_max</th>\n",
       "      <th>WHO Region</th>\n",
       "    </tr>\n",
       "  </thead>\n",
       "  <tbody>\n",
       "    <tr>\n",
       "      <th>0</th>\n",
       "      <td>Afghanistan</td>\n",
       "      <td>60</td>\n",
       "      <td>500[500-530]</td>\n",
       "      <td>17[10-26]</td>\n",
       "      <td>500.0</td>\n",
       "      <td>500.0</td>\n",
       "      <td>530.0</td>\n",
       "      <td>17.0</td>\n",
       "      <td>10.0</td>\n",
       "      <td>26.0</td>\n",
       "      <td>Eastern Mediterranean</td>\n",
       "    </tr>\n",
       "    <tr>\n",
       "      <th>1</th>\n",
       "      <td>Albania</td>\n",
       "      <td>20</td>\n",
       "      <td>Nodata</td>\n",
       "      <td>Nodata</td>\n",
       "      <td>NaN</td>\n",
       "      <td>NaN</td>\n",
       "      <td>NaN</td>\n",
       "      <td>NaN</td>\n",
       "      <td>NaN</td>\n",
       "      <td>NaN</td>\n",
       "      <td>Europe</td>\n",
       "    </tr>\n",
       "    <tr>\n",
       "      <th>2</th>\n",
       "      <td>Algeria</td>\n",
       "      <td>770</td>\n",
       "      <td>500[500-520]</td>\n",
       "      <td>95[95-95]</td>\n",
       "      <td>500.0</td>\n",
       "      <td>500.0</td>\n",
       "      <td>520.0</td>\n",
       "      <td>95.0</td>\n",
       "      <td>95.0</td>\n",
       "      <td>95.0</td>\n",
       "      <td>Africa</td>\n",
       "    </tr>\n",
       "    <tr>\n",
       "      <th>3</th>\n",
       "      <td>Angola</td>\n",
       "      <td>4800</td>\n",
       "      <td>38000[30000-47000]</td>\n",
       "      <td>13[10-16]</td>\n",
       "      <td>38000.0</td>\n",
       "      <td>30000.0</td>\n",
       "      <td>47000.0</td>\n",
       "      <td>13.0</td>\n",
       "      <td>10.0</td>\n",
       "      <td>16.0</td>\n",
       "      <td>Africa</td>\n",
       "    </tr>\n",
       "    <tr>\n",
       "      <th>4</th>\n",
       "      <td>Argentina</td>\n",
       "      <td>1700</td>\n",
       "      <td>1800[1600-2100]</td>\n",
       "      <td>92[84-95]</td>\n",
       "      <td>1800.0</td>\n",
       "      <td>1600.0</td>\n",
       "      <td>2100.0</td>\n",
       "      <td>92.0</td>\n",
       "      <td>84.0</td>\n",
       "      <td>95.0</td>\n",
       "      <td>Americas</td>\n",
       "    </tr>\n",
       "  </tbody>\n",
       "</table>\n",
       "</div>"
      ],
      "text/plain": [
       "       Country Reported number of children receiving ART  \\\n",
       "0  Afghanistan                                        60   \n",
       "1      Albania                                        20   \n",
       "2      Algeria                                       770   \n",
       "3       Angola                                      4800   \n",
       "4    Argentina                                      1700   \n",
       "\n",
       "  Estimated number of children needing ART based on WHO methods  \\\n",
       "0                                       500[500-530]              \n",
       "1                                             Nodata              \n",
       "2                                       500[500-520]              \n",
       "3                                 38000[30000-47000]              \n",
       "4                                    1800[1600-2100]              \n",
       "\n",
       "  Estimated ART coverage among children (%)  \\\n",
       "0                                 17[10-26]   \n",
       "1                                    Nodata   \n",
       "2                                 95[95-95]   \n",
       "3                                 13[10-16]   \n",
       "4                                 92[84-95]   \n",
       "\n",
       "   Estimated number of children needing ART based on WHO methods_median  \\\n",
       "0                                              500.0                      \n",
       "1                                                NaN                      \n",
       "2                                              500.0                      \n",
       "3                                            38000.0                      \n",
       "4                                             1800.0                      \n",
       "\n",
       "   Estimated number of children needing ART based on WHO methods_min  \\\n",
       "0                                              500.0                   \n",
       "1                                                NaN                   \n",
       "2                                              500.0                   \n",
       "3                                            30000.0                   \n",
       "4                                             1600.0                   \n",
       "\n",
       "   Estimated number of children needing ART based on WHO methods_max  \\\n",
       "0                                              530.0                   \n",
       "1                                                NaN                   \n",
       "2                                              520.0                   \n",
       "3                                            47000.0                   \n",
       "4                                             2100.0                   \n",
       "\n",
       "   Estimated ART coverage among children (%)_median  \\\n",
       "0                                              17.0   \n",
       "1                                               NaN   \n",
       "2                                              95.0   \n",
       "3                                              13.0   \n",
       "4                                              92.0   \n",
       "\n",
       "   Estimated ART coverage among children (%)_min  \\\n",
       "0                                           10.0   \n",
       "1                                            NaN   \n",
       "2                                           95.0   \n",
       "3                                           10.0   \n",
       "4                                           84.0   \n",
       "\n",
       "   Estimated ART coverage among children (%)_max             WHO Region  \n",
       "0                                           26.0  Eastern Mediterranean  \n",
       "1                                            NaN                 Europe  \n",
       "2                                           95.0                 Africa  \n",
       "3                                           16.0                 Africa  \n",
       "4                                           95.0               Americas  "
      ]
     },
     "execution_count": 136,
     "metadata": {},
     "output_type": "execute_result"
    }
   ],
   "source": [
    "pediatricCoverage_df = pd.read_csv(r\"C:\\Users\\user1\\Downloads\\archive (6)\\art_pediatric_coverage_by_country_clean.csv\")\n",
    "pediatricCoverage_df.head()"
   ]
  },
  {
   "cell_type": "code",
   "execution_count": 137,
   "id": "dd2057f8",
   "metadata": {},
   "outputs": [
    {
     "data": {
      "text/html": [
       "<div>\n",
       "<style scoped>\n",
       "    .dataframe tbody tr th:only-of-type {\n",
       "        vertical-align: middle;\n",
       "    }\n",
       "\n",
       "    .dataframe tbody tr th {\n",
       "        vertical-align: top;\n",
       "    }\n",
       "\n",
       "    .dataframe thead th {\n",
       "        text-align: right;\n",
       "    }\n",
       "</style>\n",
       "<table border=\"1\" class=\"dataframe\">\n",
       "  <thead>\n",
       "    <tr style=\"text-align: right;\">\n",
       "      <th></th>\n",
       "      <th>Country</th>\n",
       "      <th>Reported number of children receiving ART</th>\n",
       "      <th>Estimated number of children needing ART based on WHO methods</th>\n",
       "      <th>Estimated ART coverage among children (%)</th>\n",
       "      <th>Estimated number of children needing ART based on WHO methods_median</th>\n",
       "      <th>Estimated number of children needing ART based on WHO methods_min</th>\n",
       "      <th>Estimated number of children needing ART based on WHO methods_max</th>\n",
       "      <th>Estimated ART coverage among children (%)_median</th>\n",
       "      <th>Estimated ART coverage among children (%)_min</th>\n",
       "      <th>Estimated ART coverage among children (%)_max</th>\n",
       "      <th>WHO Region</th>\n",
       "    </tr>\n",
       "  </thead>\n",
       "  <tbody>\n",
       "    <tr>\n",
       "      <th>2</th>\n",
       "      <td>Algeria</td>\n",
       "      <td>770</td>\n",
       "      <td>500[500-520]</td>\n",
       "      <td>95[95-95]</td>\n",
       "      <td>500.0</td>\n",
       "      <td>500.0</td>\n",
       "      <td>520.0</td>\n",
       "      <td>95.0</td>\n",
       "      <td>95.0</td>\n",
       "      <td>95.0</td>\n",
       "      <td>Africa</td>\n",
       "    </tr>\n",
       "    <tr>\n",
       "      <th>3</th>\n",
       "      <td>Angola</td>\n",
       "      <td>4800</td>\n",
       "      <td>38000[30000-47000]</td>\n",
       "      <td>13[10-16]</td>\n",
       "      <td>38000.0</td>\n",
       "      <td>30000.0</td>\n",
       "      <td>47000.0</td>\n",
       "      <td>13.0</td>\n",
       "      <td>10.0</td>\n",
       "      <td>16.0</td>\n",
       "      <td>Africa</td>\n",
       "    </tr>\n",
       "    <tr>\n",
       "      <th>16</th>\n",
       "      <td>Benin</td>\n",
       "      <td>2000</td>\n",
       "      <td>4600[2800-8000]</td>\n",
       "      <td>44[27-77]</td>\n",
       "      <td>4600.0</td>\n",
       "      <td>2800.0</td>\n",
       "      <td>8000.0</td>\n",
       "      <td>44.0</td>\n",
       "      <td>27.0</td>\n",
       "      <td>77.0</td>\n",
       "      <td>Africa</td>\n",
       "    </tr>\n",
       "    <tr>\n",
       "      <th>20</th>\n",
       "      <td>Botswana</td>\n",
       "      <td>5400</td>\n",
       "      <td>14000[10000-17000]</td>\n",
       "      <td>38[28-46]</td>\n",
       "      <td>14000.0</td>\n",
       "      <td>10000.0</td>\n",
       "      <td>17000.0</td>\n",
       "      <td>38.0</td>\n",
       "      <td>28.0</td>\n",
       "      <td>46.0</td>\n",
       "      <td>Africa</td>\n",
       "    </tr>\n",
       "    <tr>\n",
       "      <th>24</th>\n",
       "      <td>Burkina Faso</td>\n",
       "      <td>1900</td>\n",
       "      <td>9100[6300-12000]</td>\n",
       "      <td>21[15-29]</td>\n",
       "      <td>9100.0</td>\n",
       "      <td>6300.0</td>\n",
       "      <td>12000.0</td>\n",
       "      <td>21.0</td>\n",
       "      <td>15.0</td>\n",
       "      <td>29.0</td>\n",
       "      <td>Africa</td>\n",
       "    </tr>\n",
       "  </tbody>\n",
       "</table>\n",
       "</div>"
      ],
      "text/plain": [
       "         Country Reported number of children receiving ART  \\\n",
       "2        Algeria                                       770   \n",
       "3         Angola                                      4800   \n",
       "16         Benin                                      2000   \n",
       "20      Botswana                                      5400   \n",
       "24  Burkina Faso                                      1900   \n",
       "\n",
       "   Estimated number of children needing ART based on WHO methods  \\\n",
       "2                                        500[500-520]              \n",
       "3                                  38000[30000-47000]              \n",
       "16                                    4600[2800-8000]              \n",
       "20                                 14000[10000-17000]              \n",
       "24                                   9100[6300-12000]              \n",
       "\n",
       "   Estimated ART coverage among children (%)  \\\n",
       "2                                  95[95-95]   \n",
       "3                                  13[10-16]   \n",
       "16                                 44[27-77]   \n",
       "20                                 38[28-46]   \n",
       "24                                 21[15-29]   \n",
       "\n",
       "    Estimated number of children needing ART based on WHO methods_median  \\\n",
       "2                                               500.0                      \n",
       "3                                             38000.0                      \n",
       "16                                             4600.0                      \n",
       "20                                            14000.0                      \n",
       "24                                             9100.0                      \n",
       "\n",
       "    Estimated number of children needing ART based on WHO methods_min  \\\n",
       "2                                               500.0                   \n",
       "3                                             30000.0                   \n",
       "16                                             2800.0                   \n",
       "20                                            10000.0                   \n",
       "24                                             6300.0                   \n",
       "\n",
       "    Estimated number of children needing ART based on WHO methods_max  \\\n",
       "2                                               520.0                   \n",
       "3                                             47000.0                   \n",
       "16                                             8000.0                   \n",
       "20                                            17000.0                   \n",
       "24                                            12000.0                   \n",
       "\n",
       "    Estimated ART coverage among children (%)_median  \\\n",
       "2                                               95.0   \n",
       "3                                               13.0   \n",
       "16                                              44.0   \n",
       "20                                              38.0   \n",
       "24                                              21.0   \n",
       "\n",
       "    Estimated ART coverage among children (%)_min  \\\n",
       "2                                            95.0   \n",
       "3                                            10.0   \n",
       "16                                           27.0   \n",
       "20                                           28.0   \n",
       "24                                           15.0   \n",
       "\n",
       "    Estimated ART coverage among children (%)_max WHO Region  \n",
       "2                                            95.0     Africa  \n",
       "3                                            16.0     Africa  \n",
       "16                                           77.0     Africa  \n",
       "20                                           46.0     Africa  \n",
       "24                                           29.0     Africa  "
      ]
     },
     "execution_count": 137,
     "metadata": {},
     "output_type": "execute_result"
    }
   ],
   "source": [
    "afr_pediatricCoverage_df = pediatricCoverage_df[pediatricCoverage_df['WHO Region'] == 'Africa']\n",
    "afr_pediatricCoverage_df.head()"
   ]
  },
  {
   "cell_type": "markdown",
   "id": "a43aee31",
   "metadata": {},
   "source": [
    "## Data cleaning and preprocessing"
   ]
  },
  {
   "cell_type": "code",
   "execution_count": 138,
   "id": "d1788d1c",
   "metadata": {},
   "outputs": [
    {
     "data": {
      "text/plain": [
       "Country         0\n",
       "Year            0\n",
       "Count           0\n",
       "Count_median    0\n",
       "Count_min       0\n",
       "Count_max       0\n",
       "WHO Region      0\n",
       "dtype: int64"
      ]
     },
     "execution_count": 138,
     "metadata": {},
     "output_type": "execute_result"
    }
   ],
   "source": [
    "african_adult.isnull().sum()"
   ]
  },
  {
   "cell_type": "markdown",
   "id": "ab988ac1",
   "metadata": {},
   "source": [
    "# no missing data in any columns"
   ]
  },
  {
   "cell_type": "code",
   "execution_count": 142,
   "id": "60673721",
   "metadata": {},
   "outputs": [
    {
     "data": {
      "text/plain": [
       "Country         0\n",
       "Year            0\n",
       "Count           0\n",
       "Count_median    0\n",
       "Count_min       0\n",
       "Count_max       0\n",
       "WHO Region      0\n",
       "dtype: int64"
      ]
     },
     "execution_count": 142,
     "metadata": {},
     "output_type": "execute_result"
    }
   ],
   "source": [
    "african_death_case.isnull().sum()"
   ]
  },
  {
   "cell_type": "code",
   "execution_count": 143,
   "id": "986253c1",
   "metadata": {},
   "outputs": [
    {
     "data": {
      "text/plain": [
       "Country         0\n",
       "Year            0\n",
       "Count           0\n",
       "Count_median    0\n",
       "Count_min       0\n",
       "Count_max       0\n",
       "WHO Region      0\n",
       "dtype: int64"
      ]
     },
     "execution_count": 143,
     "metadata": {},
     "output_type": "execute_result"
    }
   ],
   "source": [
    "afr_hiv_living_data.isnull().sum()"
   ]
  },
  {
   "cell_type": "code",
   "execution_count": 144,
   "id": "10ab7652",
   "metadata": {},
   "outputs": [
    {
     "data": {
      "text/plain": [
       "Country                           0\n",
       "Received Antiretrovirals          0\n",
       "Needing antiretrovirals           0\n",
       "Percentage Recieved               0\n",
       "Needing antiretrovirals_median    3\n",
       "Needing antiretrovirals_min       3\n",
       "Needing antiretrovirals_max       3\n",
       "Percentage Recieved_median        3\n",
       "Percentage Recieved_min           3\n",
       "Percentage Recieved_max           3\n",
       "WHO Region                        0\n",
       "dtype: int64"
      ]
     },
     "execution_count": 144,
     "metadata": {},
     "output_type": "execute_result"
    }
   ],
   "source": [
    "afr_mother2child_prevention.isnull().sum()"
   ]
  },
  {
   "cell_type": "markdown",
   "id": "7d2d887f",
   "metadata": {},
   "source": [
    "# replace missing data with the mean value of the columns and drop less important columns"
   ]
  },
  {
   "cell_type": "code",
   "execution_count": 145,
   "id": "37321d01",
   "metadata": {},
   "outputs": [],
   "source": [
    "afr_mother2child_prevention.drop(columns=['Needing antiretrovirals','Needing antiretrovirals_min','Needing antiretrovirals_max','Percentage Recieved','Percentage Recieved_min','Percentage Recieved_max'], axis=1, inplace=True)"
   ]
  },
  {
   "cell_type": "code",
   "execution_count": 146,
   "id": "3ea040c6",
   "metadata": {},
   "outputs": [
    {
     "data": {
      "text/plain": [
       "Country                           0\n",
       "Received Antiretrovirals          0\n",
       "Needing antiretrovirals_median    3\n",
       "Percentage Recieved_median        3\n",
       "WHO Region                        0\n",
       "dtype: int64"
      ]
     },
     "execution_count": 146,
     "metadata": {},
     "output_type": "execute_result"
    }
   ],
   "source": [
    "afr_mother2child_prevention.isnull().sum()"
   ]
  },
  {
   "cell_type": "code",
   "execution_count": 147,
   "id": "b6ccef59",
   "metadata": {},
   "outputs": [],
   "source": [
    "afr_mother2child_prevention['Needing antiretrovirals_median'].fillna(afr_mother2child_prevention['Needing antiretrovirals_median'].mean(), inplace=True)"
   ]
  },
  {
   "cell_type": "code",
   "execution_count": 148,
   "id": "6f73d43f",
   "metadata": {},
   "outputs": [],
   "source": [
    "afr_mother2child_prevention['Percentage Recieved_median'].fillna(afr_mother2child_prevention['Percentage Recieved_median'].mean(), inplace=True)"
   ]
  },
  {
   "cell_type": "code",
   "execution_count": 149,
   "id": "ce1cbf49",
   "metadata": {},
   "outputs": [
    {
     "data": {
      "text/plain": [
       "Country                           0\n",
       "Received Antiretrovirals          0\n",
       "Needing antiretrovirals_median    0\n",
       "Percentage Recieved_median        0\n",
       "WHO Region                        0\n",
       "dtype: int64"
      ]
     },
     "execution_count": 149,
     "metadata": {},
     "output_type": "execute_result"
    }
   ],
   "source": [
    "afr_mother2child_prevention.isnull().sum()"
   ]
  },
  {
   "cell_type": "code",
   "execution_count": 150,
   "id": "11669575",
   "metadata": {
    "scrolled": true
   },
   "outputs": [
    {
     "data": {
      "text/plain": [
       "Country                                                           0\n",
       "Reported number of people receiving ART                           0\n",
       "Estimated number of people living with HIV                        0\n",
       "Estimated ART coverage among people living with HIV (%)           0\n",
       "Estimated number of people living with HIV_median                 0\n",
       "Estimated number of people living with HIV_min                    0\n",
       "Estimated number of people living with HIV_max                    0\n",
       "Estimated ART coverage among people living with HIV (%)_median    0\n",
       "Estimated ART coverage among people living with HIV (%)_min       0\n",
       "Estimated ART coverage among people living with HIV (%)_max       0\n",
       "WHO Region                                                        0\n",
       "dtype: int64"
      ]
     },
     "execution_count": 150,
     "metadata": {},
     "output_type": "execute_result"
    }
   ],
   "source": [
    "afr_artCoverage_data.head().isnull().sum()"
   ]
  },
  {
   "cell_type": "markdown",
   "id": "43225ea1",
   "metadata": {},
   "source": [
    "# drop some less important columns"
   ]
  },
  {
   "cell_type": "code",
   "execution_count": 157,
   "id": "f14bb9a0",
   "metadata": {},
   "outputs": [
    {
     "data": {
      "text/plain": [
       "Country                                                           0\n",
       "Reported number of people receiving ART                           0\n",
       "Estimated ART coverage among people living with HIV (%)_median    0\n",
       "WHO Region                                                        0\n",
       "dtype: int64"
      ]
     },
     "execution_count": 157,
     "metadata": {},
     "output_type": "execute_result"
    }
   ],
   "source": [
    "afr_artCoverage_data.head().isnull().sum()"
   ]
  },
  {
   "cell_type": "code",
   "execution_count": 158,
   "id": "e60092bd",
   "metadata": {},
   "outputs": [
    {
     "data": {
      "text/plain": [
       "Country                                                                 0\n",
       "Reported number of children receiving ART                               0\n",
       "Estimated number of children needing ART based on WHO methods           0\n",
       "Estimated ART coverage among children (%)                               0\n",
       "Estimated number of children needing ART based on WHO methods_median    2\n",
       "Estimated number of children needing ART based on WHO methods_min       2\n",
       "Estimated number of children needing ART based on WHO methods_max       2\n",
       "Estimated ART coverage among children (%)_median                        2\n",
       "Estimated ART coverage among children (%)_min                           2\n",
       "Estimated ART coverage among children (%)_max                           2\n",
       "WHO Region                                                              0\n",
       "dtype: int64"
      ]
     },
     "execution_count": 158,
     "metadata": {},
     "output_type": "execute_result"
    }
   ],
   "source": [
    "afr_pediatricCoverage_df.isnull().sum()"
   ]
  },
  {
   "cell_type": "markdown",
   "id": "ee55b258",
   "metadata": {},
   "source": [
    "# drop less important columns"
   ]
  },
  {
   "cell_type": "code",
   "execution_count": 159,
   "id": "3ba6832a",
   "metadata": {},
   "outputs": [],
   "source": [
    "afr_pediatricCoverage_df.drop(columns=['Estimated number of children needing ART based on WHO methods',\n",
    "                                   'Estimated ART coverage among children (%)',\n",
    "                                   'Estimated number of children needing ART based on WHO methods_min',\n",
    "                                   'Estimated number of children needing ART based on WHO methods_max',\n",
    "                                   'Estimated ART coverage among children (%)_min',\n",
    "                                   'Estimated ART coverage among children (%)_max'],axis=1,inplace=True)"
   ]
  },
  {
   "cell_type": "code",
   "execution_count": 160,
   "id": "052606e6",
   "metadata": {},
   "outputs": [
    {
     "data": {
      "text/plain": [
       "Country                                                                 0\n",
       "Reported number of children receiving ART                               0\n",
       "Estimated number of children needing ART based on WHO methods_median    2\n",
       "Estimated ART coverage among children (%)_median                        2\n",
       "WHO Region                                                              0\n",
       "dtype: int64"
      ]
     },
     "execution_count": 160,
     "metadata": {},
     "output_type": "execute_result"
    }
   ],
   "source": [
    "afr_pediatricCoverage_df.isnull().sum()"
   ]
  },
  {
   "cell_type": "code",
   "execution_count": 161,
   "id": "b2317c4d",
   "metadata": {},
   "outputs": [],
   "source": [
    "afr_pediatricCoverage_df['Estimated number of children needing ART based on WHO methods_median'].fillna(afr_pediatricCoverage_df['Estimated number of children needing ART based on WHO methods_median'].mean(), inplace=True)"
   ]
  },
  {
   "cell_type": "code",
   "execution_count": 162,
   "id": "f18bd4c7",
   "metadata": {},
   "outputs": [],
   "source": [
    "afr_pediatricCoverage_df['Estimated ART coverage among children (%)_median'].fillna(afr_pediatricCoverage_df['Estimated ART coverage among children (%)_median'].mean(), inplace=True)"
   ]
  },
  {
   "cell_type": "code",
   "execution_count": 163,
   "id": "d37d3fe1",
   "metadata": {},
   "outputs": [
    {
     "data": {
      "text/plain": [
       "Country                                                                 0\n",
       "Reported number of children receiving ART                               0\n",
       "Estimated number of children needing ART based on WHO methods_median    0\n",
       "Estimated ART coverage among children (%)_median                        0\n",
       "WHO Region                                                              0\n",
       "dtype: int64"
      ]
     },
     "execution_count": 163,
     "metadata": {},
     "output_type": "execute_result"
    }
   ],
   "source": [
    "afr_pediatricCoverage_df.isnull().sum()"
   ]
  },
  {
   "cell_type": "markdown",
   "id": "2ff29212",
   "metadata": {},
   "source": [
    "# datasets are all explored and cleaned for analysis\n",
    "\n",
    "Quick view of the datasets"
   ]
  },
  {
   "cell_type": "code",
   "execution_count": 164,
   "id": "c3e23e1a",
   "metadata": {},
   "outputs": [
    {
     "data": {
      "text/html": [
       "<div>\n",
       "<style scoped>\n",
       "    .dataframe tbody tr th:only-of-type {\n",
       "        vertical-align: middle;\n",
       "    }\n",
       "\n",
       "    .dataframe tbody tr th {\n",
       "        vertical-align: top;\n",
       "    }\n",
       "\n",
       "    .dataframe thead th {\n",
       "        text-align: right;\n",
       "    }\n",
       "</style>\n",
       "<table border=\"1\" class=\"dataframe\">\n",
       "  <thead>\n",
       "    <tr style=\"text-align: right;\">\n",
       "      <th></th>\n",
       "      <th>Country</th>\n",
       "      <th>Year</th>\n",
       "      <th>Count</th>\n",
       "      <th>Count_median</th>\n",
       "      <th>Count_min</th>\n",
       "      <th>Count_max</th>\n",
       "      <th>WHO Region</th>\n",
       "    </tr>\n",
       "  </thead>\n",
       "  <tbody>\n",
       "    <tr>\n",
       "      <th>2</th>\n",
       "      <td>Algeria</td>\n",
       "      <td>2018</td>\n",
       "      <td>0.1[0.1–0.1]</td>\n",
       "      <td>0.1</td>\n",
       "      <td>0.1</td>\n",
       "      <td>0.1</td>\n",
       "      <td>Africa</td>\n",
       "    </tr>\n",
       "    <tr>\n",
       "      <th>3</th>\n",
       "      <td>Angola</td>\n",
       "      <td>2018</td>\n",
       "      <td>2.0[1.7–2.3]</td>\n",
       "      <td>2.0</td>\n",
       "      <td>1.7</td>\n",
       "      <td>2.3</td>\n",
       "      <td>Africa</td>\n",
       "    </tr>\n",
       "    <tr>\n",
       "      <th>16</th>\n",
       "      <td>Benin</td>\n",
       "      <td>2018</td>\n",
       "      <td>1.0[0.7–1.7]</td>\n",
       "      <td>1.0</td>\n",
       "      <td>0.7</td>\n",
       "      <td>1.7</td>\n",
       "      <td>Africa</td>\n",
       "    </tr>\n",
       "    <tr>\n",
       "      <th>20</th>\n",
       "      <td>Botswana</td>\n",
       "      <td>2018</td>\n",
       "      <td>20.3[17.3–21.8]</td>\n",
       "      <td>20.3</td>\n",
       "      <td>17.3</td>\n",
       "      <td>21.8</td>\n",
       "      <td>Africa</td>\n",
       "    </tr>\n",
       "    <tr>\n",
       "      <th>24</th>\n",
       "      <td>Burkina Faso</td>\n",
       "      <td>2018</td>\n",
       "      <td>0.7[0.6–0.9]</td>\n",
       "      <td>0.7</td>\n",
       "      <td>0.6</td>\n",
       "      <td>0.9</td>\n",
       "      <td>Africa</td>\n",
       "    </tr>\n",
       "  </tbody>\n",
       "</table>\n",
       "</div>"
      ],
      "text/plain": [
       "         Country  Year            Count  Count_median  Count_min  Count_max  \\\n",
       "2        Algeria  2018     0.1[0.1–0.1]           0.1        0.1        0.1   \n",
       "3         Angola  2018     2.0[1.7–2.3]           2.0        1.7        2.3   \n",
       "16         Benin  2018     1.0[0.7–1.7]           1.0        0.7        1.7   \n",
       "20      Botswana  2018  20.3[17.3–21.8]          20.3       17.3       21.8   \n",
       "24  Burkina Faso  2018     0.7[0.6–0.9]           0.7        0.6        0.9   \n",
       "\n",
       "   WHO Region  \n",
       "2      Africa  \n",
       "3      Africa  \n",
       "16     Africa  \n",
       "20     Africa  \n",
       "24     Africa  "
      ]
     },
     "execution_count": 164,
     "metadata": {},
     "output_type": "execute_result"
    }
   ],
   "source": [
    "african_adult.head()"
   ]
  },
  {
   "cell_type": "code",
   "execution_count": 165,
   "id": "8201f39a",
   "metadata": {},
   "outputs": [
    {
     "data": {
      "text/html": [
       "<div>\n",
       "<style scoped>\n",
       "    .dataframe tbody tr th:only-of-type {\n",
       "        vertical-align: middle;\n",
       "    }\n",
       "\n",
       "    .dataframe tbody tr th {\n",
       "        vertical-align: top;\n",
       "    }\n",
       "\n",
       "    .dataframe thead th {\n",
       "        text-align: right;\n",
       "    }\n",
       "</style>\n",
       "<table border=\"1\" class=\"dataframe\">\n",
       "  <thead>\n",
       "    <tr style=\"text-align: right;\">\n",
       "      <th></th>\n",
       "      <th>Country</th>\n",
       "      <th>Year</th>\n",
       "      <th>Count</th>\n",
       "      <th>Count_median</th>\n",
       "      <th>Count_min</th>\n",
       "      <th>Count_max</th>\n",
       "      <th>WHO Region</th>\n",
       "    </tr>\n",
       "  </thead>\n",
       "  <tbody>\n",
       "    <tr>\n",
       "      <th>2</th>\n",
       "      <td>Algeria</td>\n",
       "      <td>2018</td>\n",
       "      <td>16000[15000–17000]</td>\n",
       "      <td>16000.0</td>\n",
       "      <td>15000.0</td>\n",
       "      <td>17000.0</td>\n",
       "      <td>Africa</td>\n",
       "    </tr>\n",
       "    <tr>\n",
       "      <th>3</th>\n",
       "      <td>Angola</td>\n",
       "      <td>2018</td>\n",
       "      <td>330000[290000–390000]</td>\n",
       "      <td>330000.0</td>\n",
       "      <td>290000.0</td>\n",
       "      <td>390000.0</td>\n",
       "      <td>Africa</td>\n",
       "    </tr>\n",
       "    <tr>\n",
       "      <th>16</th>\n",
       "      <td>Benin</td>\n",
       "      <td>2018</td>\n",
       "      <td>73000[48000–120000]</td>\n",
       "      <td>73000.0</td>\n",
       "      <td>48000.0</td>\n",
       "      <td>120000.0</td>\n",
       "      <td>Africa</td>\n",
       "    </tr>\n",
       "    <tr>\n",
       "      <th>20</th>\n",
       "      <td>Botswana</td>\n",
       "      <td>2018</td>\n",
       "      <td>370000[330000–400000]</td>\n",
       "      <td>370000.0</td>\n",
       "      <td>330000.0</td>\n",
       "      <td>400000.0</td>\n",
       "      <td>Africa</td>\n",
       "    </tr>\n",
       "    <tr>\n",
       "      <th>24</th>\n",
       "      <td>Burkina Faso</td>\n",
       "      <td>2018</td>\n",
       "      <td>96000[78000–120000]</td>\n",
       "      <td>96000.0</td>\n",
       "      <td>78000.0</td>\n",
       "      <td>120000.0</td>\n",
       "      <td>Africa</td>\n",
       "    </tr>\n",
       "  </tbody>\n",
       "</table>\n",
       "</div>"
      ],
      "text/plain": [
       "         Country  Year                  Count  Count_median  Count_min  \\\n",
       "2        Algeria  2018     16000[15000–17000]       16000.0    15000.0   \n",
       "3         Angola  2018  330000[290000–390000]      330000.0   290000.0   \n",
       "16         Benin  2018    73000[48000–120000]       73000.0    48000.0   \n",
       "20      Botswana  2018  370000[330000–400000]      370000.0   330000.0   \n",
       "24  Burkina Faso  2018    96000[78000–120000]       96000.0    78000.0   \n",
       "\n",
       "    Count_max WHO Region  \n",
       "2     17000.0     Africa  \n",
       "3    390000.0     Africa  \n",
       "16   120000.0     Africa  \n",
       "20   400000.0     Africa  \n",
       "24   120000.0     Africa  "
      ]
     },
     "execution_count": 165,
     "metadata": {},
     "output_type": "execute_result"
    }
   ],
   "source": [
    "afr_hiv_living_data.head()"
   ]
  },
  {
   "cell_type": "code",
   "execution_count": 166,
   "id": "50c8543b",
   "metadata": {},
   "outputs": [
    {
     "data": {
      "text/html": [
       "<div>\n",
       "<style scoped>\n",
       "    .dataframe tbody tr th:only-of-type {\n",
       "        vertical-align: middle;\n",
       "    }\n",
       "\n",
       "    .dataframe tbody tr th {\n",
       "        vertical-align: top;\n",
       "    }\n",
       "\n",
       "    .dataframe thead th {\n",
       "        text-align: right;\n",
       "    }\n",
       "</style>\n",
       "<table border=\"1\" class=\"dataframe\">\n",
       "  <thead>\n",
       "    <tr style=\"text-align: right;\">\n",
       "      <th></th>\n",
       "      <th>Country</th>\n",
       "      <th>Year</th>\n",
       "      <th>Count</th>\n",
       "      <th>Count_median</th>\n",
       "      <th>Count_min</th>\n",
       "      <th>Count_max</th>\n",
       "      <th>WHO Region</th>\n",
       "    </tr>\n",
       "  </thead>\n",
       "  <tbody>\n",
       "    <tr>\n",
       "      <th>2</th>\n",
       "      <td>Algeria</td>\n",
       "      <td>2018</td>\n",
       "      <td>200[200–200]</td>\n",
       "      <td>200.0</td>\n",
       "      <td>200.0</td>\n",
       "      <td>200.0</td>\n",
       "      <td>Africa</td>\n",
       "    </tr>\n",
       "    <tr>\n",
       "      <th>3</th>\n",
       "      <td>Angola</td>\n",
       "      <td>2018</td>\n",
       "      <td>14000[9500–18000]</td>\n",
       "      <td>14000.0</td>\n",
       "      <td>9500.0</td>\n",
       "      <td>18000.0</td>\n",
       "      <td>Africa</td>\n",
       "    </tr>\n",
       "    <tr>\n",
       "      <th>16</th>\n",
       "      <td>Benin</td>\n",
       "      <td>2018</td>\n",
       "      <td>2200[1100–4400]</td>\n",
       "      <td>2200.0</td>\n",
       "      <td>1100.0</td>\n",
       "      <td>4400.0</td>\n",
       "      <td>Africa</td>\n",
       "    </tr>\n",
       "    <tr>\n",
       "      <th>20</th>\n",
       "      <td>Botswana</td>\n",
       "      <td>2018</td>\n",
       "      <td>4800[4100–5700]</td>\n",
       "      <td>4800.0</td>\n",
       "      <td>4100.0</td>\n",
       "      <td>5700.0</td>\n",
       "      <td>Africa</td>\n",
       "    </tr>\n",
       "    <tr>\n",
       "      <th>24</th>\n",
       "      <td>Burkina Faso</td>\n",
       "      <td>2018</td>\n",
       "      <td>3300[2400–4400]</td>\n",
       "      <td>3300.0</td>\n",
       "      <td>2400.0</td>\n",
       "      <td>4400.0</td>\n",
       "      <td>Africa</td>\n",
       "    </tr>\n",
       "  </tbody>\n",
       "</table>\n",
       "</div>"
      ],
      "text/plain": [
       "         Country  Year              Count  Count_median  Count_min  Count_max  \\\n",
       "2        Algeria  2018       200[200–200]         200.0      200.0      200.0   \n",
       "3         Angola  2018  14000[9500–18000]       14000.0     9500.0    18000.0   \n",
       "16         Benin  2018    2200[1100–4400]        2200.0     1100.0     4400.0   \n",
       "20      Botswana  2018    4800[4100–5700]        4800.0     4100.0     5700.0   \n",
       "24  Burkina Faso  2018    3300[2400–4400]        3300.0     2400.0     4400.0   \n",
       "\n",
       "   WHO Region  \n",
       "2      Africa  \n",
       "3      Africa  \n",
       "16     Africa  \n",
       "20     Africa  \n",
       "24     Africa  "
      ]
     },
     "execution_count": 166,
     "metadata": {},
     "output_type": "execute_result"
    }
   ],
   "source": [
    "african_death_case.head()"
   ]
  },
  {
   "cell_type": "code",
   "execution_count": 167,
   "id": "e6a0db98",
   "metadata": {},
   "outputs": [
    {
     "data": {
      "text/html": [
       "<div>\n",
       "<style scoped>\n",
       "    .dataframe tbody tr th:only-of-type {\n",
       "        vertical-align: middle;\n",
       "    }\n",
       "\n",
       "    .dataframe tbody tr th {\n",
       "        vertical-align: top;\n",
       "    }\n",
       "\n",
       "    .dataframe thead th {\n",
       "        text-align: right;\n",
       "    }\n",
       "</style>\n",
       "<table border=\"1\" class=\"dataframe\">\n",
       "  <thead>\n",
       "    <tr style=\"text-align: right;\">\n",
       "      <th></th>\n",
       "      <th>Country</th>\n",
       "      <th>Received Antiretrovirals</th>\n",
       "      <th>Needing antiretrovirals_median</th>\n",
       "      <th>Percentage Recieved_median</th>\n",
       "      <th>WHO Region</th>\n",
       "    </tr>\n",
       "  </thead>\n",
       "  <tbody>\n",
       "    <tr>\n",
       "      <th>2</th>\n",
       "      <td>Algeria</td>\n",
       "      <td>320</td>\n",
       "      <td>500.0</td>\n",
       "      <td>74.0</td>\n",
       "      <td>Africa</td>\n",
       "    </tr>\n",
       "    <tr>\n",
       "      <th>3</th>\n",
       "      <td>Angola</td>\n",
       "      <td>9600</td>\n",
       "      <td>25000.0</td>\n",
       "      <td>38.0</td>\n",
       "      <td>Africa</td>\n",
       "    </tr>\n",
       "    <tr>\n",
       "      <th>16</th>\n",
       "      <td>Benin</td>\n",
       "      <td>4600</td>\n",
       "      <td>2600.0</td>\n",
       "      <td>95.0</td>\n",
       "      <td>Africa</td>\n",
       "    </tr>\n",
       "    <tr>\n",
       "      <th>20</th>\n",
       "      <td>Botswana</td>\n",
       "      <td>12 400</td>\n",
       "      <td>13000.0</td>\n",
       "      <td>95.0</td>\n",
       "      <td>Africa</td>\n",
       "    </tr>\n",
       "    <tr>\n",
       "      <th>24</th>\n",
       "      <td>Burkina Faso</td>\n",
       "      <td>4700</td>\n",
       "      <td>4900.0</td>\n",
       "      <td>95.0</td>\n",
       "      <td>Africa</td>\n",
       "    </tr>\n",
       "  </tbody>\n",
       "</table>\n",
       "</div>"
      ],
      "text/plain": [
       "         Country Received Antiretrovirals  Needing antiretrovirals_median  \\\n",
       "2        Algeria                      320                           500.0   \n",
       "3         Angola                     9600                         25000.0   \n",
       "16         Benin                     4600                          2600.0   \n",
       "20      Botswana                   12 400                         13000.0   \n",
       "24  Burkina Faso                     4700                          4900.0   \n",
       "\n",
       "    Percentage Recieved_median WHO Region  \n",
       "2                         74.0     Africa  \n",
       "3                         38.0     Africa  \n",
       "16                        95.0     Africa  \n",
       "20                        95.0     Africa  \n",
       "24                        95.0     Africa  "
      ]
     },
     "execution_count": 167,
     "metadata": {},
     "output_type": "execute_result"
    }
   ],
   "source": [
    "afr_mother2child_prevention.head()"
   ]
  },
  {
   "cell_type": "code",
   "execution_count": 168,
   "id": "74bcc99c",
   "metadata": {},
   "outputs": [
    {
     "data": {
      "text/html": [
       "<div>\n",
       "<style scoped>\n",
       "    .dataframe tbody tr th:only-of-type {\n",
       "        vertical-align: middle;\n",
       "    }\n",
       "\n",
       "    .dataframe tbody tr th {\n",
       "        vertical-align: top;\n",
       "    }\n",
       "\n",
       "    .dataframe thead th {\n",
       "        text-align: right;\n",
       "    }\n",
       "</style>\n",
       "<table border=\"1\" class=\"dataframe\">\n",
       "  <thead>\n",
       "    <tr style=\"text-align: right;\">\n",
       "      <th></th>\n",
       "      <th>Country</th>\n",
       "      <th>Reported number of people receiving ART</th>\n",
       "      <th>Estimated ART coverage among people living with HIV (%)_median</th>\n",
       "      <th>WHO Region</th>\n",
       "    </tr>\n",
       "  </thead>\n",
       "  <tbody>\n",
       "    <tr>\n",
       "      <th>2</th>\n",
       "      <td>Algeria</td>\n",
       "      <td>12800</td>\n",
       "      <td>81.0</td>\n",
       "      <td>Africa</td>\n",
       "    </tr>\n",
       "    <tr>\n",
       "      <th>3</th>\n",
       "      <td>Angola</td>\n",
       "      <td>88700</td>\n",
       "      <td>27.0</td>\n",
       "      <td>Africa</td>\n",
       "    </tr>\n",
       "    <tr>\n",
       "      <th>16</th>\n",
       "      <td>Benin</td>\n",
       "      <td>44200</td>\n",
       "      <td>61.0</td>\n",
       "      <td>Africa</td>\n",
       "    </tr>\n",
       "    <tr>\n",
       "      <th>20</th>\n",
       "      <td>Botswana</td>\n",
       "      <td>307000</td>\n",
       "      <td>83.0</td>\n",
       "      <td>Africa</td>\n",
       "    </tr>\n",
       "    <tr>\n",
       "      <th>24</th>\n",
       "      <td>Burkina Faso</td>\n",
       "      <td>59300</td>\n",
       "      <td>62.0</td>\n",
       "      <td>Africa</td>\n",
       "    </tr>\n",
       "  </tbody>\n",
       "</table>\n",
       "</div>"
      ],
      "text/plain": [
       "         Country Reported number of people receiving ART  \\\n",
       "2        Algeria                                   12800   \n",
       "3         Angola                                   88700   \n",
       "16         Benin                                   44200   \n",
       "20      Botswana                                  307000   \n",
       "24  Burkina Faso                                   59300   \n",
       "\n",
       "    Estimated ART coverage among people living with HIV (%)_median WHO Region  \n",
       "2                                                81.0                  Africa  \n",
       "3                                                27.0                  Africa  \n",
       "16                                               61.0                  Africa  \n",
       "20                                               83.0                  Africa  \n",
       "24                                               62.0                  Africa  "
      ]
     },
     "execution_count": 168,
     "metadata": {},
     "output_type": "execute_result"
    }
   ],
   "source": [
    "afr_artCoverage_data.head()"
   ]
  },
  {
   "cell_type": "code",
   "execution_count": 169,
   "id": "871aa677",
   "metadata": {},
   "outputs": [
    {
     "data": {
      "text/html": [
       "<div>\n",
       "<style scoped>\n",
       "    .dataframe tbody tr th:only-of-type {\n",
       "        vertical-align: middle;\n",
       "    }\n",
       "\n",
       "    .dataframe tbody tr th {\n",
       "        vertical-align: top;\n",
       "    }\n",
       "\n",
       "    .dataframe thead th {\n",
       "        text-align: right;\n",
       "    }\n",
       "</style>\n",
       "<table border=\"1\" class=\"dataframe\">\n",
       "  <thead>\n",
       "    <tr style=\"text-align: right;\">\n",
       "      <th></th>\n",
       "      <th>Country</th>\n",
       "      <th>Reported number of children receiving ART</th>\n",
       "      <th>Estimated number of children needing ART based on WHO methods_median</th>\n",
       "      <th>Estimated ART coverage among children (%)_median</th>\n",
       "      <th>WHO Region</th>\n",
       "    </tr>\n",
       "  </thead>\n",
       "  <tbody>\n",
       "    <tr>\n",
       "      <th>2</th>\n",
       "      <td>Algeria</td>\n",
       "      <td>770</td>\n",
       "      <td>500.0</td>\n",
       "      <td>95.0</td>\n",
       "      <td>Africa</td>\n",
       "    </tr>\n",
       "    <tr>\n",
       "      <th>3</th>\n",
       "      <td>Angola</td>\n",
       "      <td>4800</td>\n",
       "      <td>38000.0</td>\n",
       "      <td>13.0</td>\n",
       "      <td>Africa</td>\n",
       "    </tr>\n",
       "    <tr>\n",
       "      <th>16</th>\n",
       "      <td>Benin</td>\n",
       "      <td>2000</td>\n",
       "      <td>4600.0</td>\n",
       "      <td>44.0</td>\n",
       "      <td>Africa</td>\n",
       "    </tr>\n",
       "    <tr>\n",
       "      <th>20</th>\n",
       "      <td>Botswana</td>\n",
       "      <td>5400</td>\n",
       "      <td>14000.0</td>\n",
       "      <td>38.0</td>\n",
       "      <td>Africa</td>\n",
       "    </tr>\n",
       "    <tr>\n",
       "      <th>24</th>\n",
       "      <td>Burkina Faso</td>\n",
       "      <td>1900</td>\n",
       "      <td>9100.0</td>\n",
       "      <td>21.0</td>\n",
       "      <td>Africa</td>\n",
       "    </tr>\n",
       "  </tbody>\n",
       "</table>\n",
       "</div>"
      ],
      "text/plain": [
       "         Country Reported number of children receiving ART  \\\n",
       "2        Algeria                                       770   \n",
       "3         Angola                                      4800   \n",
       "16         Benin                                      2000   \n",
       "20      Botswana                                      5400   \n",
       "24  Burkina Faso                                      1900   \n",
       "\n",
       "    Estimated number of children needing ART based on WHO methods_median  \\\n",
       "2                                               500.0                      \n",
       "3                                             38000.0                      \n",
       "16                                             4600.0                      \n",
       "20                                            14000.0                      \n",
       "24                                             9100.0                      \n",
       "\n",
       "    Estimated ART coverage among children (%)_median WHO Region  \n",
       "2                                               95.0     Africa  \n",
       "3                                               13.0     Africa  \n",
       "16                                              44.0     Africa  \n",
       "20                                              38.0     Africa  \n",
       "24                                              21.0     Africa  "
      ]
     },
     "execution_count": 169,
     "metadata": {},
     "output_type": "execute_result"
    }
   ],
   "source": [
    "afr_pediatricCoverage_df.head()"
   ]
  },
  {
   "cell_type": "markdown",
   "id": "71f9ee68",
   "metadata": {},
   "source": [
    "## Data Analysis and Visualization\n",
    "\n",
    "### Number of HIV cases among adults (19-45)\n",
    "\n",
    "\n",
    "#### Country-wise:"
   ]
  },
  {
   "cell_type": "code",
   "execution_count": 170,
   "id": "ba00eec6",
   "metadata": {},
   "outputs": [],
   "source": [
    "country_cases = african_adult.groupby(['Country','Year']).mean()['Count_median']"
   ]
  },
  {
   "cell_type": "code",
   "execution_count": 171,
   "id": "4286a4ac",
   "metadata": {},
   "outputs": [
    {
     "data": {
      "text/plain": [
       "Country   Year\n",
       "Algeria   2000     0.1\n",
       "          2005     0.1\n",
       "          2010     0.1\n",
       "          2018     0.1\n",
       "Angola    2000     1.0\n",
       "                  ... \n",
       "Zambia    2018    11.3\n",
       "Zimbabwe  2000    25.0\n",
       "          2005    19.0\n",
       "          2010    15.4\n",
       "          2018    12.7\n",
       "Name: Count_median, Length: 176, dtype: float64"
      ]
     },
     "execution_count": 171,
     "metadata": {},
     "output_type": "execute_result"
    }
   ],
   "source": [
    "country_cases"
   ]
  },
  {
   "cell_type": "code",
   "execution_count": 172,
   "id": "1b19047b",
   "metadata": {},
   "outputs": [],
   "source": [
    "country_cases_fig = px.bar(country_cases.reset_index(), x='Year', y='Count_median', color='Country',\n",
    "             labels={'Year': 'Year', 'Count_median': 'Mean Count_median'},\n",
    "             title='Mean Count_median by Country and Year in Africa')"
   ]
  },
  {
   "cell_type": "code",
   "execution_count": 173,
   "id": "8daa112a",
   "metadata": {},
   "outputs": [
    {
     "data": {
      "application/vnd.plotly.v1+json": {
       "config": {
        "plotlyServerURL": "https://plot.ly"
       },
       "data": [
        {
         "alignmentgroup": "True",
         "hovertemplate": "Country=Algeria<br>Year=%{x}<br>Mean Count_median=%{y}<extra></extra>",
         "legendgroup": "Algeria",
         "marker": {
          "color": "#636efa",
          "pattern": {
           "shape": ""
          }
         },
         "name": "Algeria",
         "offsetgroup": "Algeria",
         "orientation": "v",
         "showlegend": true,
         "textposition": "auto",
         "type": "bar",
         "x": [
          2000,
          2005,
          2010,
          2018
         ],
         "xaxis": "x",
         "y": [
          0.1,
          0.1,
          0.1,
          0.1
         ],
         "yaxis": "y"
        },
        {
         "alignmentgroup": "True",
         "hovertemplate": "Country=Angola<br>Year=%{x}<br>Mean Count_median=%{y}<extra></extra>",
         "legendgroup": "Angola",
         "marker": {
          "color": "#EF553B",
          "pattern": {
           "shape": ""
          }
         },
         "name": "Angola",
         "offsetgroup": "Angola",
         "orientation": "v",
         "showlegend": true,
         "textposition": "auto",
         "type": "bar",
         "x": [
          2000,
          2005,
          2010,
          2018
         ],
         "xaxis": "x",
         "y": [
          1,
          1.4,
          1.7,
          2
         ],
         "yaxis": "y"
        },
        {
         "alignmentgroup": "True",
         "hovertemplate": "Country=Benin<br>Year=%{x}<br>Mean Count_median=%{y}<extra></extra>",
         "legendgroup": "Benin",
         "marker": {
          "color": "#00cc96",
          "pattern": {
           "shape": ""
          }
         },
         "name": "Benin",
         "offsetgroup": "Benin",
         "orientation": "v",
         "showlegend": true,
         "textposition": "auto",
         "type": "bar",
         "x": [
          2000,
          2005,
          2010,
          2018
         ],
         "xaxis": "x",
         "y": [
          1.3,
          1.3,
          1.1,
          1
         ],
         "yaxis": "y"
        },
        {
         "alignmentgroup": "True",
         "hovertemplate": "Country=Botswana<br>Year=%{x}<br>Mean Count_median=%{y}<extra></extra>",
         "legendgroup": "Botswana",
         "marker": {
          "color": "#ab63fa",
          "pattern": {
           "shape": ""
          }
         },
         "name": "Botswana",
         "offsetgroup": "Botswana",
         "orientation": "v",
         "showlegend": true,
         "textposition": "auto",
         "type": "bar",
         "x": [
          2000,
          2005,
          2010,
          2018
         ],
         "xaxis": "x",
         "y": [
          26.3,
          24.6,
          23.2,
          20.3
         ],
         "yaxis": "y"
        },
        {
         "alignmentgroup": "True",
         "hovertemplate": "Country=Burkina Faso<br>Year=%{x}<br>Mean Count_median=%{y}<extra></extra>",
         "legendgroup": "Burkina Faso",
         "marker": {
          "color": "#FFA15A",
          "pattern": {
           "shape": ""
          }
         },
         "name": "Burkina Faso",
         "offsetgroup": "Burkina Faso",
         "orientation": "v",
         "showlegend": true,
         "textposition": "auto",
         "type": "bar",
         "x": [
          2000,
          2005,
          2010,
          2018
         ],
         "xaxis": "x",
         "y": [
          2.1,
          1.5,
          1.2,
          0.7
         ],
         "yaxis": "y"
        },
        {
         "alignmentgroup": "True",
         "hovertemplate": "Country=Burundi<br>Year=%{x}<br>Mean Count_median=%{y}<extra></extra>",
         "legendgroup": "Burundi",
         "marker": {
          "color": "#19d3f3",
          "pattern": {
           "shape": ""
          }
         },
         "name": "Burundi",
         "offsetgroup": "Burundi",
         "orientation": "v",
         "showlegend": true,
         "textposition": "auto",
         "type": "bar",
         "x": [
          2000,
          2005,
          2010,
          2018
         ],
         "xaxis": "x",
         "y": [
          3.3,
          2.2,
          1.6,
          1
         ],
         "yaxis": "y"
        },
        {
         "alignmentgroup": "True",
         "hovertemplate": "Country=Cabo Verde<br>Year=%{x}<br>Mean Count_median=%{y}<extra></extra>",
         "legendgroup": "Cabo Verde",
         "marker": {
          "color": "#FF6692",
          "pattern": {
           "shape": ""
          }
         },
         "name": "Cabo Verde",
         "offsetgroup": "Cabo Verde",
         "orientation": "v",
         "showlegend": true,
         "textposition": "auto",
         "type": "bar",
         "x": [
          2000,
          2005,
          2010,
          2018
         ],
         "xaxis": "x",
         "y": [
          0.7,
          0.6,
          0.6,
          0.6
         ],
         "yaxis": "y"
        },
        {
         "alignmentgroup": "True",
         "hovertemplate": "Country=Cameroon<br>Year=%{x}<br>Mean Count_median=%{y}<extra></extra>",
         "legendgroup": "Cameroon",
         "marker": {
          "color": "#B6E880",
          "pattern": {
           "shape": ""
          }
         },
         "name": "Cameroon",
         "offsetgroup": "Cameroon",
         "orientation": "v",
         "showlegend": true,
         "textposition": "auto",
         "type": "bar",
         "x": [
          2000,
          2005,
          2010,
          2018
         ],
         "xaxis": "x",
         "y": [
          4.6,
          4.8,
          4.5,
          3.6
         ],
         "yaxis": "y"
        },
        {
         "alignmentgroup": "True",
         "hovertemplate": "Country=Central African Republic<br>Year=%{x}<br>Mean Count_median=%{y}<extra></extra>",
         "legendgroup": "Central African Republic",
         "marker": {
          "color": "#FF97FF",
          "pattern": {
           "shape": ""
          }
         },
         "name": "Central African Republic",
         "offsetgroup": "Central African Republic",
         "orientation": "v",
         "showlegend": true,
         "textposition": "auto",
         "type": "bar",
         "x": [
          2000,
          2005,
          2010,
          2018
         ],
         "xaxis": "x",
         "y": [
          7.2,
          5.9,
          5,
          3.6
         ],
         "yaxis": "y"
        },
        {
         "alignmentgroup": "True",
         "hovertemplate": "Country=Chad<br>Year=%{x}<br>Mean Count_median=%{y}<extra></extra>",
         "legendgroup": "Chad",
         "marker": {
          "color": "#FECB52",
          "pattern": {
           "shape": ""
          }
         },
         "name": "Chad",
         "offsetgroup": "Chad",
         "orientation": "v",
         "showlegend": true,
         "textposition": "auto",
         "type": "bar",
         "x": [
          2000,
          2005,
          2010,
          2018
         ],
         "xaxis": "x",
         "y": [
          1.8,
          1.5,
          1.5,
          1.3
         ],
         "yaxis": "y"
        },
        {
         "alignmentgroup": "True",
         "hovertemplate": "Country=Comoros<br>Year=%{x}<br>Mean Count_median=%{y}<extra></extra>",
         "legendgroup": "Comoros",
         "marker": {
          "color": "#636efa",
          "pattern": {
           "shape": ""
          }
         },
         "name": "Comoros",
         "offsetgroup": "Comoros",
         "orientation": "v",
         "showlegend": true,
         "textposition": "auto",
         "type": "bar",
         "x": [
          2000,
          2005,
          2010,
          2018
         ],
         "xaxis": "x",
         "y": [
          0.1,
          0.1,
          0.1,
          0.1
         ],
         "yaxis": "y"
        },
        {
         "alignmentgroup": "True",
         "hovertemplate": "Country=Côte d'Ivoire<br>Year=%{x}<br>Mean Count_median=%{y}<extra></extra>",
         "legendgroup": "Côte d'Ivoire",
         "marker": {
          "color": "#EF553B",
          "pattern": {
           "shape": ""
          }
         },
         "name": "Côte d'Ivoire",
         "offsetgroup": "Côte d'Ivoire",
         "orientation": "v",
         "showlegend": true,
         "textposition": "auto",
         "type": "bar",
         "x": [
          2000,
          2005,
          2010,
          2018
         ],
         "xaxis": "x",
         "y": [
          5.6,
          4.4,
          3.6,
          2.6
         ],
         "yaxis": "y"
        },
        {
         "alignmentgroup": "True",
         "hovertemplate": "Country=Democratic Republic of the Congo<br>Year=%{x}<br>Mean Count_median=%{y}<extra></extra>",
         "legendgroup": "Democratic Republic of the Congo",
         "marker": {
          "color": "#00cc96",
          "pattern": {
           "shape": ""
          }
         },
         "name": "Democratic Republic of the Congo",
         "offsetgroup": "Democratic Republic of the Congo",
         "orientation": "v",
         "showlegend": true,
         "textposition": "auto",
         "type": "bar",
         "x": [
          2000,
          2005,
          2010,
          2018
         ],
         "xaxis": "x",
         "y": [
          1.8,
          1.4,
          1.1,
          0.8
         ],
         "yaxis": "y"
        },
        {
         "alignmentgroup": "True",
         "hovertemplate": "Country=Equatorial Guinea<br>Year=%{x}<br>Mean Count_median=%{y}<extra></extra>",
         "legendgroup": "Equatorial Guinea",
         "marker": {
          "color": "#ab63fa",
          "pattern": {
           "shape": ""
          }
         },
         "name": "Equatorial Guinea",
         "offsetgroup": "Equatorial Guinea",
         "orientation": "v",
         "showlegend": true,
         "textposition": "auto",
         "type": "bar",
         "x": [
          2000,
          2005,
          2010,
          2018
         ],
         "xaxis": "x",
         "y": [
          3.5,
          4.6,
          5.7,
          7.1
         ],
         "yaxis": "y"
        },
        {
         "alignmentgroup": "True",
         "hovertemplate": "Country=Eritrea<br>Year=%{x}<br>Mean Count_median=%{y}<extra></extra>",
         "legendgroup": "Eritrea",
         "marker": {
          "color": "#FFA15A",
          "pattern": {
           "shape": ""
          }
         },
         "name": "Eritrea",
         "offsetgroup": "Eritrea",
         "orientation": "v",
         "showlegend": true,
         "textposition": "auto",
         "type": "bar",
         "x": [
          2000,
          2005,
          2010,
          2018
         ],
         "xaxis": "x",
         "y": [
          1.5,
          1.1,
          0.9,
          0.7
         ],
         "yaxis": "y"
        },
        {
         "alignmentgroup": "True",
         "hovertemplate": "Country=Eswatini<br>Year=%{x}<br>Mean Count_median=%{y}<extra></extra>",
         "legendgroup": "Eswatini",
         "marker": {
          "color": "#19d3f3",
          "pattern": {
           "shape": ""
          }
         },
         "name": "Eswatini",
         "offsetgroup": "Eswatini",
         "orientation": "v",
         "showlegend": true,
         "textposition": "auto",
         "type": "bar",
         "x": [
          2000,
          2005,
          2010,
          2018
         ],
         "xaxis": "x",
         "y": [
          24.6,
          26.3,
          27.4,
          27.3
         ],
         "yaxis": "y"
        },
        {
         "alignmentgroup": "True",
         "hovertemplate": "Country=Ethiopia<br>Year=%{x}<br>Mean Count_median=%{y}<extra></extra>",
         "legendgroup": "Ethiopia",
         "marker": {
          "color": "#FF6692",
          "pattern": {
           "shape": ""
          }
         },
         "name": "Ethiopia",
         "offsetgroup": "Ethiopia",
         "orientation": "v",
         "showlegend": true,
         "textposition": "auto",
         "type": "bar",
         "x": [
          2000,
          2005,
          2010,
          2018
         ],
         "xaxis": "x",
         "y": [
          2.4,
          1.7,
          1.3,
          1
         ],
         "yaxis": "y"
        },
        {
         "alignmentgroup": "True",
         "hovertemplate": "Country=Gabon<br>Year=%{x}<br>Mean Count_median=%{y}<extra></extra>",
         "legendgroup": "Gabon",
         "marker": {
          "color": "#B6E880",
          "pattern": {
           "shape": ""
          }
         },
         "name": "Gabon",
         "offsetgroup": "Gabon",
         "orientation": "v",
         "showlegend": true,
         "textposition": "auto",
         "type": "bar",
         "x": [
          2000,
          2005,
          2010,
          2018
         ],
         "xaxis": "x",
         "y": [
          4.1,
          4.2,
          4.1,
          3.8
         ],
         "yaxis": "y"
        },
        {
         "alignmentgroup": "True",
         "hovertemplate": "Country=Gambia<br>Year=%{x}<br>Mean Count_median=%{y}<extra></extra>",
         "legendgroup": "Gambia",
         "marker": {
          "color": "#FF97FF",
          "pattern": {
           "shape": ""
          }
         },
         "name": "Gambia",
         "offsetgroup": "Gambia",
         "orientation": "v",
         "showlegend": true,
         "textposition": "auto",
         "type": "bar",
         "x": [
          2000,
          2005,
          2010,
          2018
         ],
         "xaxis": "x",
         "y": [
          1.4,
          1.8,
          1.9,
          1.9
         ],
         "yaxis": "y"
        },
        {
         "alignmentgroup": "True",
         "hovertemplate": "Country=Ghana<br>Year=%{x}<br>Mean Count_median=%{y}<extra></extra>",
         "legendgroup": "Ghana",
         "marker": {
          "color": "#FECB52",
          "pattern": {
           "shape": ""
          }
         },
         "name": "Ghana",
         "offsetgroup": "Ghana",
         "orientation": "v",
         "showlegend": true,
         "textposition": "auto",
         "type": "bar",
         "x": [
          2000,
          2005,
          2010,
          2018
         ],
         "xaxis": "x",
         "y": [
          2.4,
          2.1,
          1.9,
          1.7
         ],
         "yaxis": "y"
        },
        {
         "alignmentgroup": "True",
         "hovertemplate": "Country=Guinea<br>Year=%{x}<br>Mean Count_median=%{y}<extra></extra>",
         "legendgroup": "Guinea",
         "marker": {
          "color": "#636efa",
          "pattern": {
           "shape": ""
          }
         },
         "name": "Guinea",
         "offsetgroup": "Guinea",
         "orientation": "v",
         "showlegend": true,
         "textposition": "auto",
         "type": "bar",
         "x": [
          2000,
          2005,
          2010,
          2018
         ],
         "xaxis": "x",
         "y": [
          1.7,
          1.7,
          1.6,
          1.4
         ],
         "yaxis": "y"
        },
        {
         "alignmentgroup": "True",
         "hovertemplate": "Country=Guinea-Bissau<br>Year=%{x}<br>Mean Count_median=%{y}<extra></extra>",
         "legendgroup": "Guinea-Bissau",
         "marker": {
          "color": "#EF553B",
          "pattern": {
           "shape": ""
          }
         },
         "name": "Guinea-Bissau",
         "offsetgroup": "Guinea-Bissau",
         "orientation": "v",
         "showlegend": true,
         "textposition": "auto",
         "type": "bar",
         "x": [
          2000,
          2005,
          2010,
          2018
         ],
         "xaxis": "x",
         "y": [
          3.2,
          3.8,
          3.8,
          3.5
         ],
         "yaxis": "y"
        },
        {
         "alignmentgroup": "True",
         "hovertemplate": "Country=Kenya<br>Year=%{x}<br>Mean Count_median=%{y}<extra></extra>",
         "legendgroup": "Kenya",
         "marker": {
          "color": "#00cc96",
          "pattern": {
           "shape": ""
          }
         },
         "name": "Kenya",
         "offsetgroup": "Kenya",
         "orientation": "v",
         "showlegend": true,
         "textposition": "auto",
         "type": "bar",
         "x": [
          2000,
          2005,
          2010,
          2018
         ],
         "xaxis": "x",
         "y": [
          9.8,
          7.3,
          6,
          4.7
         ],
         "yaxis": "y"
        },
        {
         "alignmentgroup": "True",
         "hovertemplate": "Country=Lesotho<br>Year=%{x}<br>Mean Count_median=%{y}<extra></extra>",
         "legendgroup": "Lesotho",
         "marker": {
          "color": "#ab63fa",
          "pattern": {
           "shape": ""
          }
         },
         "name": "Lesotho",
         "offsetgroup": "Lesotho",
         "orientation": "v",
         "showlegend": true,
         "textposition": "auto",
         "type": "bar",
         "x": [
          2000,
          2005,
          2010,
          2018
         ],
         "xaxis": "x",
         "y": [
          23.2,
          23.8,
          24.1,
          23.6
         ],
         "yaxis": "y"
        },
        {
         "alignmentgroup": "True",
         "hovertemplate": "Country=Liberia<br>Year=%{x}<br>Mean Count_median=%{y}<extra></extra>",
         "legendgroup": "Liberia",
         "marker": {
          "color": "#FFA15A",
          "pattern": {
           "shape": ""
          }
         },
         "name": "Liberia",
         "offsetgroup": "Liberia",
         "orientation": "v",
         "showlegend": true,
         "textposition": "auto",
         "type": "bar",
         "x": [
          2000,
          2005,
          2010,
          2018
         ],
         "xaxis": "x",
         "y": [
          2.6,
          2.1,
          1.7,
          1.3
         ],
         "yaxis": "y"
        },
        {
         "alignmentgroup": "True",
         "hovertemplate": "Country=Madagascar<br>Year=%{x}<br>Mean Count_median=%{y}<extra></extra>",
         "legendgroup": "Madagascar",
         "marker": {
          "color": "#19d3f3",
          "pattern": {
           "shape": ""
          }
         },
         "name": "Madagascar",
         "offsetgroup": "Madagascar",
         "orientation": "v",
         "showlegend": true,
         "textposition": "auto",
         "type": "bar",
         "x": [
          2000,
          2005,
          2010,
          2018
         ],
         "xaxis": "x",
         "y": [
          0.2,
          0.2,
          0.2,
          0.3
         ],
         "yaxis": "y"
        },
        {
         "alignmentgroup": "True",
         "hovertemplate": "Country=Malawi<br>Year=%{x}<br>Mean Count_median=%{y}<extra></extra>",
         "legendgroup": "Malawi",
         "marker": {
          "color": "#FF6692",
          "pattern": {
           "shape": ""
          }
         },
         "name": "Malawi",
         "offsetgroup": "Malawi",
         "orientation": "v",
         "showlegend": true,
         "textposition": "auto",
         "type": "bar",
         "x": [
          2000,
          2005,
          2010,
          2018
         ],
         "xaxis": "x",
         "y": [
          14.4,
          12.2,
          10.6,
          9.2
         ],
         "yaxis": "y"
        },
        {
         "alignmentgroup": "True",
         "hovertemplate": "Country=Mali<br>Year=%{x}<br>Mean Count_median=%{y}<extra></extra>",
         "legendgroup": "Mali",
         "marker": {
          "color": "#B6E880",
          "pattern": {
           "shape": ""
          }
         },
         "name": "Mali",
         "offsetgroup": "Mali",
         "orientation": "v",
         "showlegend": true,
         "textposition": "auto",
         "type": "bar",
         "x": [
          2000,
          2005,
          2010,
          2018
         ],
         "xaxis": "x",
         "y": [
          1.8,
          1.5,
          1.4,
          1.4
         ],
         "yaxis": "y"
        },
        {
         "alignmentgroup": "True",
         "hovertemplate": "Country=Mauritania<br>Year=%{x}<br>Mean Count_median=%{y}<extra></extra>",
         "legendgroup": "Mauritania",
         "marker": {
          "color": "#FF97FF",
          "pattern": {
           "shape": ""
          }
         },
         "name": "Mauritania",
         "offsetgroup": "Mauritania",
         "orientation": "v",
         "showlegend": true,
         "textposition": "auto",
         "type": "bar",
         "x": [
          2000,
          2005,
          2010,
          2018
         ],
         "xaxis": "x",
         "y": [
          0.4,
          0.5,
          0.4,
          0.2
         ],
         "yaxis": "y"
        },
        {
         "alignmentgroup": "True",
         "hovertemplate": "Country=Mauritius<br>Year=%{x}<br>Mean Count_median=%{y}<extra></extra>",
         "legendgroup": "Mauritius",
         "marker": {
          "color": "#FECB52",
          "pattern": {
           "shape": ""
          }
         },
         "name": "Mauritius",
         "offsetgroup": "Mauritius",
         "orientation": "v",
         "showlegend": true,
         "textposition": "auto",
         "type": "bar",
         "x": [
          2000,
          2005,
          2010,
          2018
         ],
         "xaxis": "x",
         "y": [
          0.4,
          1,
          1.3,
          1.3
         ],
         "yaxis": "y"
        },
        {
         "alignmentgroup": "True",
         "hovertemplate": "Country=Mozambique<br>Year=%{x}<br>Mean Count_median=%{y}<extra></extra>",
         "legendgroup": "Mozambique",
         "marker": {
          "color": "#636efa",
          "pattern": {
           "shape": ""
          }
         },
         "name": "Mozambique",
         "offsetgroup": "Mozambique",
         "orientation": "v",
         "showlegend": true,
         "textposition": "auto",
         "type": "bar",
         "x": [
          2000,
          2005,
          2010,
          2018
         ],
         "xaxis": "x",
         "y": [
          8.8,
          11.1,
          12,
          12.6
         ],
         "yaxis": "y"
        },
        {
         "alignmentgroup": "True",
         "hovertemplate": "Country=Namibia<br>Year=%{x}<br>Mean Count_median=%{y}<extra></extra>",
         "legendgroup": "Namibia",
         "marker": {
          "color": "#EF553B",
          "pattern": {
           "shape": ""
          }
         },
         "name": "Namibia",
         "offsetgroup": "Namibia",
         "orientation": "v",
         "showlegend": true,
         "textposition": "auto",
         "type": "bar",
         "x": [
          2000,
          2005,
          2010,
          2018
         ],
         "xaxis": "x",
         "y": [
          14,
          13.8,
          13.4,
          11.8
         ],
         "yaxis": "y"
        },
        {
         "alignmentgroup": "True",
         "hovertemplate": "Country=Niger<br>Year=%{x}<br>Mean Count_median=%{y}<extra></extra>",
         "legendgroup": "Niger",
         "marker": {
          "color": "#00cc96",
          "pattern": {
           "shape": ""
          }
         },
         "name": "Niger",
         "offsetgroup": "Niger",
         "orientation": "v",
         "showlegend": true,
         "textposition": "auto",
         "type": "bar",
         "x": [
          2000,
          2005,
          2010,
          2018
         ],
         "xaxis": "x",
         "y": [
          0.6,
          0.6,
          0.4,
          0.3
         ],
         "yaxis": "y"
        },
        {
         "alignmentgroup": "True",
         "hovertemplate": "Country=Nigeria<br>Year=%{x}<br>Mean Count_median=%{y}<extra></extra>",
         "legendgroup": "Nigeria",
         "marker": {
          "color": "#ab63fa",
          "pattern": {
           "shape": ""
          }
         },
         "name": "Nigeria",
         "offsetgroup": "Nigeria",
         "orientation": "v",
         "showlegend": true,
         "textposition": "auto",
         "type": "bar",
         "x": [
          2000,
          2005,
          2010,
          2018
         ],
         "xaxis": "x",
         "y": [
          1.8,
          1.7,
          1.6,
          1.5
         ],
         "yaxis": "y"
        },
        {
         "alignmentgroup": "True",
         "hovertemplate": "Country=Rwanda<br>Year=%{x}<br>Mean Count_median=%{y}<extra></extra>",
         "legendgroup": "Rwanda",
         "marker": {
          "color": "#FFA15A",
          "pattern": {
           "shape": ""
          }
         },
         "name": "Rwanda",
         "offsetgroup": "Rwanda",
         "orientation": "v",
         "showlegend": true,
         "textposition": "auto",
         "type": "bar",
         "x": [
          2000,
          2005,
          2010,
          2018
         ],
         "xaxis": "x",
         "y": [
          5.2,
          3.8,
          3.3,
          2.5
         ],
         "yaxis": "y"
        },
        {
         "alignmentgroup": "True",
         "hovertemplate": "Country=Senegal<br>Year=%{x}<br>Mean Count_median=%{y}<extra></extra>",
         "legendgroup": "Senegal",
         "marker": {
          "color": "#19d3f3",
          "pattern": {
           "shape": ""
          }
         },
         "name": "Senegal",
         "offsetgroup": "Senegal",
         "orientation": "v",
         "showlegend": true,
         "textposition": "auto",
         "type": "bar",
         "x": [
          2000,
          2005,
          2010,
          2018
         ],
         "xaxis": "x",
         "y": [
          0.6,
          0.7,
          0.6,
          0.4
         ],
         "yaxis": "y"
        },
        {
         "alignmentgroup": "True",
         "hovertemplate": "Country=Sierra Leone<br>Year=%{x}<br>Mean Count_median=%{y}<extra></extra>",
         "legendgroup": "Sierra Leone",
         "marker": {
          "color": "#FF6692",
          "pattern": {
           "shape": ""
          }
         },
         "name": "Sierra Leone",
         "offsetgroup": "Sierra Leone",
         "orientation": "v",
         "showlegend": true,
         "textposition": "auto",
         "type": "bar",
         "x": [
          2000,
          2005,
          2010,
          2018
         ],
         "xaxis": "x",
         "y": [
          1.5,
          1.5,
          1.5,
          1.5
         ],
         "yaxis": "y"
        },
        {
         "alignmentgroup": "True",
         "hovertemplate": "Country=South Africa<br>Year=%{x}<br>Mean Count_median=%{y}<extra></extra>",
         "legendgroup": "South Africa",
         "marker": {
          "color": "#B6E880",
          "pattern": {
           "shape": ""
          }
         },
         "name": "South Africa",
         "offsetgroup": "South Africa",
         "orientation": "v",
         "showlegend": true,
         "textposition": "auto",
         "type": "bar",
         "x": [
          2000,
          2005,
          2010,
          2018
         ],
         "xaxis": "x",
         "y": [
          12.6,
          16.8,
          18.9,
          20.4
         ],
         "yaxis": "y"
        },
        {
         "alignmentgroup": "True",
         "hovertemplate": "Country=South Sudan<br>Year=%{x}<br>Mean Count_median=%{y}<extra></extra>",
         "legendgroup": "South Sudan",
         "marker": {
          "color": "#FF97FF",
          "pattern": {
           "shape": ""
          }
         },
         "name": "South Sudan",
         "offsetgroup": "South Sudan",
         "orientation": "v",
         "showlegend": true,
         "textposition": "auto",
         "type": "bar",
         "x": [
          2000,
          2005,
          2010,
          2018
         ],
         "xaxis": "x",
         "y": [
          2.5,
          2.5,
          2.4,
          2.5
         ],
         "yaxis": "y"
        },
        {
         "alignmentgroup": "True",
         "hovertemplate": "Country=Togo<br>Year=%{x}<br>Mean Count_median=%{y}<extra></extra>",
         "legendgroup": "Togo",
         "marker": {
          "color": "#FECB52",
          "pattern": {
           "shape": ""
          }
         },
         "name": "Togo",
         "offsetgroup": "Togo",
         "orientation": "v",
         "showlegend": true,
         "textposition": "auto",
         "type": "bar",
         "x": [
          2000,
          2005,
          2010,
          2018
         ],
         "xaxis": "x",
         "y": [
          3.6,
          3.3,
          2.9,
          2.3
         ],
         "yaxis": "y"
        },
        {
         "alignmentgroup": "True",
         "hovertemplate": "Country=Uganda<br>Year=%{x}<br>Mean Count_median=%{y}<extra></extra>",
         "legendgroup": "Uganda",
         "marker": {
          "color": "#636efa",
          "pattern": {
           "shape": ""
          }
         },
         "name": "Uganda",
         "offsetgroup": "Uganda",
         "orientation": "v",
         "showlegend": true,
         "textposition": "auto",
         "type": "bar",
         "x": [
          2000,
          2005,
          2010,
          2018
         ],
         "xaxis": "x",
         "y": [
          8.3,
          7.3,
          6.8,
          5.7
         ],
         "yaxis": "y"
        },
        {
         "alignmentgroup": "True",
         "hovertemplate": "Country=United Republic of Tanzania<br>Year=%{x}<br>Mean Count_median=%{y}<extra></extra>",
         "legendgroup": "United Republic of Tanzania",
         "marker": {
          "color": "#EF553B",
          "pattern": {
           "shape": ""
          }
         },
         "name": "United Republic of Tanzania",
         "offsetgroup": "United Republic of Tanzania",
         "orientation": "v",
         "showlegend": true,
         "textposition": "auto",
         "type": "bar",
         "x": [
          2000,
          2005,
          2010,
          2018
         ],
         "xaxis": "x",
         "y": [
          6.3,
          5.4,
          5,
          4.6
         ],
         "yaxis": "y"
        },
        {
         "alignmentgroup": "True",
         "hovertemplate": "Country=Zambia<br>Year=%{x}<br>Mean Count_median=%{y}<extra></extra>",
         "legendgroup": "Zambia",
         "marker": {
          "color": "#00cc96",
          "pattern": {
           "shape": ""
          }
         },
         "name": "Zambia",
         "offsetgroup": "Zambia",
         "orientation": "v",
         "showlegend": true,
         "textposition": "auto",
         "type": "bar",
         "x": [
          2000,
          2005,
          2010,
          2018
         ],
         "xaxis": "x",
         "y": [
          16.2,
          14.1,
          13,
          11.3
         ],
         "yaxis": "y"
        },
        {
         "alignmentgroup": "True",
         "hovertemplate": "Country=Zimbabwe<br>Year=%{x}<br>Mean Count_median=%{y}<extra></extra>",
         "legendgroup": "Zimbabwe",
         "marker": {
          "color": "#ab63fa",
          "pattern": {
           "shape": ""
          }
         },
         "name": "Zimbabwe",
         "offsetgroup": "Zimbabwe",
         "orientation": "v",
         "showlegend": true,
         "textposition": "auto",
         "type": "bar",
         "x": [
          2000,
          2005,
          2010,
          2018
         ],
         "xaxis": "x",
         "y": [
          25,
          19,
          15.4,
          12.7
         ],
         "yaxis": "y"
        }
       ],
       "layout": {
        "barmode": "relative",
        "legend": {
         "title": {
          "text": "Country"
         },
         "tracegroupgap": 0
        },
        "template": {
         "data": {
          "bar": [
           {
            "error_x": {
             "color": "#2a3f5f"
            },
            "error_y": {
             "color": "#2a3f5f"
            },
            "marker": {
             "line": {
              "color": "#E5ECF6",
              "width": 0.5
             },
             "pattern": {
              "fillmode": "overlay",
              "size": 10,
              "solidity": 0.2
             }
            },
            "type": "bar"
           }
          ],
          "barpolar": [
           {
            "marker": {
             "line": {
              "color": "#E5ECF6",
              "width": 0.5
             },
             "pattern": {
              "fillmode": "overlay",
              "size": 10,
              "solidity": 0.2
             }
            },
            "type": "barpolar"
           }
          ],
          "carpet": [
           {
            "aaxis": {
             "endlinecolor": "#2a3f5f",
             "gridcolor": "white",
             "linecolor": "white",
             "minorgridcolor": "white",
             "startlinecolor": "#2a3f5f"
            },
            "baxis": {
             "endlinecolor": "#2a3f5f",
             "gridcolor": "white",
             "linecolor": "white",
             "minorgridcolor": "white",
             "startlinecolor": "#2a3f5f"
            },
            "type": "carpet"
           }
          ],
          "choropleth": [
           {
            "colorbar": {
             "outlinewidth": 0,
             "ticks": ""
            },
            "type": "choropleth"
           }
          ],
          "contour": [
           {
            "colorbar": {
             "outlinewidth": 0,
             "ticks": ""
            },
            "colorscale": [
             [
              0,
              "#0d0887"
             ],
             [
              0.1111111111111111,
              "#46039f"
             ],
             [
              0.2222222222222222,
              "#7201a8"
             ],
             [
              0.3333333333333333,
              "#9c179e"
             ],
             [
              0.4444444444444444,
              "#bd3786"
             ],
             [
              0.5555555555555556,
              "#d8576b"
             ],
             [
              0.6666666666666666,
              "#ed7953"
             ],
             [
              0.7777777777777778,
              "#fb9f3a"
             ],
             [
              0.8888888888888888,
              "#fdca26"
             ],
             [
              1,
              "#f0f921"
             ]
            ],
            "type": "contour"
           }
          ],
          "contourcarpet": [
           {
            "colorbar": {
             "outlinewidth": 0,
             "ticks": ""
            },
            "type": "contourcarpet"
           }
          ],
          "heatmap": [
           {
            "colorbar": {
             "outlinewidth": 0,
             "ticks": ""
            },
            "colorscale": [
             [
              0,
              "#0d0887"
             ],
             [
              0.1111111111111111,
              "#46039f"
             ],
             [
              0.2222222222222222,
              "#7201a8"
             ],
             [
              0.3333333333333333,
              "#9c179e"
             ],
             [
              0.4444444444444444,
              "#bd3786"
             ],
             [
              0.5555555555555556,
              "#d8576b"
             ],
             [
              0.6666666666666666,
              "#ed7953"
             ],
             [
              0.7777777777777778,
              "#fb9f3a"
             ],
             [
              0.8888888888888888,
              "#fdca26"
             ],
             [
              1,
              "#f0f921"
             ]
            ],
            "type": "heatmap"
           }
          ],
          "heatmapgl": [
           {
            "colorbar": {
             "outlinewidth": 0,
             "ticks": ""
            },
            "colorscale": [
             [
              0,
              "#0d0887"
             ],
             [
              0.1111111111111111,
              "#46039f"
             ],
             [
              0.2222222222222222,
              "#7201a8"
             ],
             [
              0.3333333333333333,
              "#9c179e"
             ],
             [
              0.4444444444444444,
              "#bd3786"
             ],
             [
              0.5555555555555556,
              "#d8576b"
             ],
             [
              0.6666666666666666,
              "#ed7953"
             ],
             [
              0.7777777777777778,
              "#fb9f3a"
             ],
             [
              0.8888888888888888,
              "#fdca26"
             ],
             [
              1,
              "#f0f921"
             ]
            ],
            "type": "heatmapgl"
           }
          ],
          "histogram": [
           {
            "marker": {
             "pattern": {
              "fillmode": "overlay",
              "size": 10,
              "solidity": 0.2
             }
            },
            "type": "histogram"
           }
          ],
          "histogram2d": [
           {
            "colorbar": {
             "outlinewidth": 0,
             "ticks": ""
            },
            "colorscale": [
             [
              0,
              "#0d0887"
             ],
             [
              0.1111111111111111,
              "#46039f"
             ],
             [
              0.2222222222222222,
              "#7201a8"
             ],
             [
              0.3333333333333333,
              "#9c179e"
             ],
             [
              0.4444444444444444,
              "#bd3786"
             ],
             [
              0.5555555555555556,
              "#d8576b"
             ],
             [
              0.6666666666666666,
              "#ed7953"
             ],
             [
              0.7777777777777778,
              "#fb9f3a"
             ],
             [
              0.8888888888888888,
              "#fdca26"
             ],
             [
              1,
              "#f0f921"
             ]
            ],
            "type": "histogram2d"
           }
          ],
          "histogram2dcontour": [
           {
            "colorbar": {
             "outlinewidth": 0,
             "ticks": ""
            },
            "colorscale": [
             [
              0,
              "#0d0887"
             ],
             [
              0.1111111111111111,
              "#46039f"
             ],
             [
              0.2222222222222222,
              "#7201a8"
             ],
             [
              0.3333333333333333,
              "#9c179e"
             ],
             [
              0.4444444444444444,
              "#bd3786"
             ],
             [
              0.5555555555555556,
              "#d8576b"
             ],
             [
              0.6666666666666666,
              "#ed7953"
             ],
             [
              0.7777777777777778,
              "#fb9f3a"
             ],
             [
              0.8888888888888888,
              "#fdca26"
             ],
             [
              1,
              "#f0f921"
             ]
            ],
            "type": "histogram2dcontour"
           }
          ],
          "mesh3d": [
           {
            "colorbar": {
             "outlinewidth": 0,
             "ticks": ""
            },
            "type": "mesh3d"
           }
          ],
          "parcoords": [
           {
            "line": {
             "colorbar": {
              "outlinewidth": 0,
              "ticks": ""
             }
            },
            "type": "parcoords"
           }
          ],
          "pie": [
           {
            "automargin": true,
            "type": "pie"
           }
          ],
          "scatter": [
           {
            "fillpattern": {
             "fillmode": "overlay",
             "size": 10,
             "solidity": 0.2
            },
            "type": "scatter"
           }
          ],
          "scatter3d": [
           {
            "line": {
             "colorbar": {
              "outlinewidth": 0,
              "ticks": ""
             }
            },
            "marker": {
             "colorbar": {
              "outlinewidth": 0,
              "ticks": ""
             }
            },
            "type": "scatter3d"
           }
          ],
          "scattercarpet": [
           {
            "marker": {
             "colorbar": {
              "outlinewidth": 0,
              "ticks": ""
             }
            },
            "type": "scattercarpet"
           }
          ],
          "scattergeo": [
           {
            "marker": {
             "colorbar": {
              "outlinewidth": 0,
              "ticks": ""
             }
            },
            "type": "scattergeo"
           }
          ],
          "scattergl": [
           {
            "marker": {
             "colorbar": {
              "outlinewidth": 0,
              "ticks": ""
             }
            },
            "type": "scattergl"
           }
          ],
          "scattermapbox": [
           {
            "marker": {
             "colorbar": {
              "outlinewidth": 0,
              "ticks": ""
             }
            },
            "type": "scattermapbox"
           }
          ],
          "scatterpolar": [
           {
            "marker": {
             "colorbar": {
              "outlinewidth": 0,
              "ticks": ""
             }
            },
            "type": "scatterpolar"
           }
          ],
          "scatterpolargl": [
           {
            "marker": {
             "colorbar": {
              "outlinewidth": 0,
              "ticks": ""
             }
            },
            "type": "scatterpolargl"
           }
          ],
          "scatterternary": [
           {
            "marker": {
             "colorbar": {
              "outlinewidth": 0,
              "ticks": ""
             }
            },
            "type": "scatterternary"
           }
          ],
          "surface": [
           {
            "colorbar": {
             "outlinewidth": 0,
             "ticks": ""
            },
            "colorscale": [
             [
              0,
              "#0d0887"
             ],
             [
              0.1111111111111111,
              "#46039f"
             ],
             [
              0.2222222222222222,
              "#7201a8"
             ],
             [
              0.3333333333333333,
              "#9c179e"
             ],
             [
              0.4444444444444444,
              "#bd3786"
             ],
             [
              0.5555555555555556,
              "#d8576b"
             ],
             [
              0.6666666666666666,
              "#ed7953"
             ],
             [
              0.7777777777777778,
              "#fb9f3a"
             ],
             [
              0.8888888888888888,
              "#fdca26"
             ],
             [
              1,
              "#f0f921"
             ]
            ],
            "type": "surface"
           }
          ],
          "table": [
           {
            "cells": {
             "fill": {
              "color": "#EBF0F8"
             },
             "line": {
              "color": "white"
             }
            },
            "header": {
             "fill": {
              "color": "#C8D4E3"
             },
             "line": {
              "color": "white"
             }
            },
            "type": "table"
           }
          ]
         },
         "layout": {
          "annotationdefaults": {
           "arrowcolor": "#2a3f5f",
           "arrowhead": 0,
           "arrowwidth": 1
          },
          "autotypenumbers": "strict",
          "coloraxis": {
           "colorbar": {
            "outlinewidth": 0,
            "ticks": ""
           }
          },
          "colorscale": {
           "diverging": [
            [
             0,
             "#8e0152"
            ],
            [
             0.1,
             "#c51b7d"
            ],
            [
             0.2,
             "#de77ae"
            ],
            [
             0.3,
             "#f1b6da"
            ],
            [
             0.4,
             "#fde0ef"
            ],
            [
             0.5,
             "#f7f7f7"
            ],
            [
             0.6,
             "#e6f5d0"
            ],
            [
             0.7,
             "#b8e186"
            ],
            [
             0.8,
             "#7fbc41"
            ],
            [
             0.9,
             "#4d9221"
            ],
            [
             1,
             "#276419"
            ]
           ],
           "sequential": [
            [
             0,
             "#0d0887"
            ],
            [
             0.1111111111111111,
             "#46039f"
            ],
            [
             0.2222222222222222,
             "#7201a8"
            ],
            [
             0.3333333333333333,
             "#9c179e"
            ],
            [
             0.4444444444444444,
             "#bd3786"
            ],
            [
             0.5555555555555556,
             "#d8576b"
            ],
            [
             0.6666666666666666,
             "#ed7953"
            ],
            [
             0.7777777777777778,
             "#fb9f3a"
            ],
            [
             0.8888888888888888,
             "#fdca26"
            ],
            [
             1,
             "#f0f921"
            ]
           ],
           "sequentialminus": [
            [
             0,
             "#0d0887"
            ],
            [
             0.1111111111111111,
             "#46039f"
            ],
            [
             0.2222222222222222,
             "#7201a8"
            ],
            [
             0.3333333333333333,
             "#9c179e"
            ],
            [
             0.4444444444444444,
             "#bd3786"
            ],
            [
             0.5555555555555556,
             "#d8576b"
            ],
            [
             0.6666666666666666,
             "#ed7953"
            ],
            [
             0.7777777777777778,
             "#fb9f3a"
            ],
            [
             0.8888888888888888,
             "#fdca26"
            ],
            [
             1,
             "#f0f921"
            ]
           ]
          },
          "colorway": [
           "#636efa",
           "#EF553B",
           "#00cc96",
           "#ab63fa",
           "#FFA15A",
           "#19d3f3",
           "#FF6692",
           "#B6E880",
           "#FF97FF",
           "#FECB52"
          ],
          "font": {
           "color": "#2a3f5f"
          },
          "geo": {
           "bgcolor": "white",
           "lakecolor": "white",
           "landcolor": "#E5ECF6",
           "showlakes": true,
           "showland": true,
           "subunitcolor": "white"
          },
          "hoverlabel": {
           "align": "left"
          },
          "hovermode": "closest",
          "mapbox": {
           "style": "light"
          },
          "paper_bgcolor": "white",
          "plot_bgcolor": "#E5ECF6",
          "polar": {
           "angularaxis": {
            "gridcolor": "white",
            "linecolor": "white",
            "ticks": ""
           },
           "bgcolor": "#E5ECF6",
           "radialaxis": {
            "gridcolor": "white",
            "linecolor": "white",
            "ticks": ""
           }
          },
          "scene": {
           "xaxis": {
            "backgroundcolor": "#E5ECF6",
            "gridcolor": "white",
            "gridwidth": 2,
            "linecolor": "white",
            "showbackground": true,
            "ticks": "",
            "zerolinecolor": "white"
           },
           "yaxis": {
            "backgroundcolor": "#E5ECF6",
            "gridcolor": "white",
            "gridwidth": 2,
            "linecolor": "white",
            "showbackground": true,
            "ticks": "",
            "zerolinecolor": "white"
           },
           "zaxis": {
            "backgroundcolor": "#E5ECF6",
            "gridcolor": "white",
            "gridwidth": 2,
            "linecolor": "white",
            "showbackground": true,
            "ticks": "",
            "zerolinecolor": "white"
           }
          },
          "shapedefaults": {
           "line": {
            "color": "#2a3f5f"
           }
          },
          "ternary": {
           "aaxis": {
            "gridcolor": "white",
            "linecolor": "white",
            "ticks": ""
           },
           "baxis": {
            "gridcolor": "white",
            "linecolor": "white",
            "ticks": ""
           },
           "bgcolor": "#E5ECF6",
           "caxis": {
            "gridcolor": "white",
            "linecolor": "white",
            "ticks": ""
           }
          },
          "title": {
           "x": 0.05
          },
          "xaxis": {
           "automargin": true,
           "gridcolor": "white",
           "linecolor": "white",
           "ticks": "",
           "title": {
            "standoff": 15
           },
           "zerolinecolor": "white",
           "zerolinewidth": 2
          },
          "yaxis": {
           "automargin": true,
           "gridcolor": "white",
           "linecolor": "white",
           "ticks": "",
           "title": {
            "standoff": 15
           },
           "zerolinecolor": "white",
           "zerolinewidth": 2
          }
         }
        },
        "title": {
         "text": "Mean Count_median by Country and Year in Africa"
        },
        "xaxis": {
         "anchor": "y",
         "domain": [
          0,
          1
         ],
         "title": {
          "text": "Year"
         }
        },
        "yaxis": {
         "anchor": "x",
         "domain": [
          0,
          1
         ],
         "title": {
          "text": "Mean Count_median"
         }
        }
       }
      },
      "text/html": [
       "<div>                            <div id=\"556243f0-97d2-4022-b058-0a9ea161e3fd\" class=\"plotly-graph-div\" style=\"height:525px; width:100%;\"></div>            <script type=\"text/javascript\">                require([\"plotly\"], function(Plotly) {                    window.PLOTLYENV=window.PLOTLYENV || {};                                    if (document.getElementById(\"556243f0-97d2-4022-b058-0a9ea161e3fd\")) {                    Plotly.newPlot(                        \"556243f0-97d2-4022-b058-0a9ea161e3fd\",                        [{\"alignmentgroup\":\"True\",\"hovertemplate\":\"Country=Algeria<br>Year=%{x}<br>Mean Count_median=%{y}<extra></extra>\",\"legendgroup\":\"Algeria\",\"marker\":{\"color\":\"#636efa\",\"pattern\":{\"shape\":\"\"}},\"name\":\"Algeria\",\"offsetgroup\":\"Algeria\",\"orientation\":\"v\",\"showlegend\":true,\"textposition\":\"auto\",\"x\":[2000,2005,2010,2018],\"xaxis\":\"x\",\"y\":[0.1,0.1,0.1,0.1],\"yaxis\":\"y\",\"type\":\"bar\"},{\"alignmentgroup\":\"True\",\"hovertemplate\":\"Country=Angola<br>Year=%{x}<br>Mean Count_median=%{y}<extra></extra>\",\"legendgroup\":\"Angola\",\"marker\":{\"color\":\"#EF553B\",\"pattern\":{\"shape\":\"\"}},\"name\":\"Angola\",\"offsetgroup\":\"Angola\",\"orientation\":\"v\",\"showlegend\":true,\"textposition\":\"auto\",\"x\":[2000,2005,2010,2018],\"xaxis\":\"x\",\"y\":[1.0,1.4,1.7,2.0],\"yaxis\":\"y\",\"type\":\"bar\"},{\"alignmentgroup\":\"True\",\"hovertemplate\":\"Country=Benin<br>Year=%{x}<br>Mean Count_median=%{y}<extra></extra>\",\"legendgroup\":\"Benin\",\"marker\":{\"color\":\"#00cc96\",\"pattern\":{\"shape\":\"\"}},\"name\":\"Benin\",\"offsetgroup\":\"Benin\",\"orientation\":\"v\",\"showlegend\":true,\"textposition\":\"auto\",\"x\":[2000,2005,2010,2018],\"xaxis\":\"x\",\"y\":[1.3,1.3,1.1,1.0],\"yaxis\":\"y\",\"type\":\"bar\"},{\"alignmentgroup\":\"True\",\"hovertemplate\":\"Country=Botswana<br>Year=%{x}<br>Mean Count_median=%{y}<extra></extra>\",\"legendgroup\":\"Botswana\",\"marker\":{\"color\":\"#ab63fa\",\"pattern\":{\"shape\":\"\"}},\"name\":\"Botswana\",\"offsetgroup\":\"Botswana\",\"orientation\":\"v\",\"showlegend\":true,\"textposition\":\"auto\",\"x\":[2000,2005,2010,2018],\"xaxis\":\"x\",\"y\":[26.3,24.6,23.2,20.3],\"yaxis\":\"y\",\"type\":\"bar\"},{\"alignmentgroup\":\"True\",\"hovertemplate\":\"Country=Burkina Faso<br>Year=%{x}<br>Mean Count_median=%{y}<extra></extra>\",\"legendgroup\":\"Burkina Faso\",\"marker\":{\"color\":\"#FFA15A\",\"pattern\":{\"shape\":\"\"}},\"name\":\"Burkina Faso\",\"offsetgroup\":\"Burkina Faso\",\"orientation\":\"v\",\"showlegend\":true,\"textposition\":\"auto\",\"x\":[2000,2005,2010,2018],\"xaxis\":\"x\",\"y\":[2.1,1.5,1.2,0.7],\"yaxis\":\"y\",\"type\":\"bar\"},{\"alignmentgroup\":\"True\",\"hovertemplate\":\"Country=Burundi<br>Year=%{x}<br>Mean Count_median=%{y}<extra></extra>\",\"legendgroup\":\"Burundi\",\"marker\":{\"color\":\"#19d3f3\",\"pattern\":{\"shape\":\"\"}},\"name\":\"Burundi\",\"offsetgroup\":\"Burundi\",\"orientation\":\"v\",\"showlegend\":true,\"textposition\":\"auto\",\"x\":[2000,2005,2010,2018],\"xaxis\":\"x\",\"y\":[3.3,2.2,1.6,1.0],\"yaxis\":\"y\",\"type\":\"bar\"},{\"alignmentgroup\":\"True\",\"hovertemplate\":\"Country=Cabo Verde<br>Year=%{x}<br>Mean Count_median=%{y}<extra></extra>\",\"legendgroup\":\"Cabo Verde\",\"marker\":{\"color\":\"#FF6692\",\"pattern\":{\"shape\":\"\"}},\"name\":\"Cabo Verde\",\"offsetgroup\":\"Cabo Verde\",\"orientation\":\"v\",\"showlegend\":true,\"textposition\":\"auto\",\"x\":[2000,2005,2010,2018],\"xaxis\":\"x\",\"y\":[0.7,0.6,0.6,0.6],\"yaxis\":\"y\",\"type\":\"bar\"},{\"alignmentgroup\":\"True\",\"hovertemplate\":\"Country=Cameroon<br>Year=%{x}<br>Mean Count_median=%{y}<extra></extra>\",\"legendgroup\":\"Cameroon\",\"marker\":{\"color\":\"#B6E880\",\"pattern\":{\"shape\":\"\"}},\"name\":\"Cameroon\",\"offsetgroup\":\"Cameroon\",\"orientation\":\"v\",\"showlegend\":true,\"textposition\":\"auto\",\"x\":[2000,2005,2010,2018],\"xaxis\":\"x\",\"y\":[4.6,4.8,4.5,3.6],\"yaxis\":\"y\",\"type\":\"bar\"},{\"alignmentgroup\":\"True\",\"hovertemplate\":\"Country=Central African Republic<br>Year=%{x}<br>Mean Count_median=%{y}<extra></extra>\",\"legendgroup\":\"Central African Republic\",\"marker\":{\"color\":\"#FF97FF\",\"pattern\":{\"shape\":\"\"}},\"name\":\"Central African Republic\",\"offsetgroup\":\"Central African Republic\",\"orientation\":\"v\",\"showlegend\":true,\"textposition\":\"auto\",\"x\":[2000,2005,2010,2018],\"xaxis\":\"x\",\"y\":[7.2,5.9,5.0,3.6],\"yaxis\":\"y\",\"type\":\"bar\"},{\"alignmentgroup\":\"True\",\"hovertemplate\":\"Country=Chad<br>Year=%{x}<br>Mean Count_median=%{y}<extra></extra>\",\"legendgroup\":\"Chad\",\"marker\":{\"color\":\"#FECB52\",\"pattern\":{\"shape\":\"\"}},\"name\":\"Chad\",\"offsetgroup\":\"Chad\",\"orientation\":\"v\",\"showlegend\":true,\"textposition\":\"auto\",\"x\":[2000,2005,2010,2018],\"xaxis\":\"x\",\"y\":[1.8,1.5,1.5,1.3],\"yaxis\":\"y\",\"type\":\"bar\"},{\"alignmentgroup\":\"True\",\"hovertemplate\":\"Country=Comoros<br>Year=%{x}<br>Mean Count_median=%{y}<extra></extra>\",\"legendgroup\":\"Comoros\",\"marker\":{\"color\":\"#636efa\",\"pattern\":{\"shape\":\"\"}},\"name\":\"Comoros\",\"offsetgroup\":\"Comoros\",\"orientation\":\"v\",\"showlegend\":true,\"textposition\":\"auto\",\"x\":[2000,2005,2010,2018],\"xaxis\":\"x\",\"y\":[0.1,0.1,0.1,0.1],\"yaxis\":\"y\",\"type\":\"bar\"},{\"alignmentgroup\":\"True\",\"hovertemplate\":\"Country=C\\u00f4te d'Ivoire<br>Year=%{x}<br>Mean Count_median=%{y}<extra></extra>\",\"legendgroup\":\"C\\u00f4te d'Ivoire\",\"marker\":{\"color\":\"#EF553B\",\"pattern\":{\"shape\":\"\"}},\"name\":\"C\\u00f4te d'Ivoire\",\"offsetgroup\":\"C\\u00f4te d'Ivoire\",\"orientation\":\"v\",\"showlegend\":true,\"textposition\":\"auto\",\"x\":[2000,2005,2010,2018],\"xaxis\":\"x\",\"y\":[5.6,4.4,3.6,2.6],\"yaxis\":\"y\",\"type\":\"bar\"},{\"alignmentgroup\":\"True\",\"hovertemplate\":\"Country=Democratic Republic of the Congo<br>Year=%{x}<br>Mean Count_median=%{y}<extra></extra>\",\"legendgroup\":\"Democratic Republic of the Congo\",\"marker\":{\"color\":\"#00cc96\",\"pattern\":{\"shape\":\"\"}},\"name\":\"Democratic Republic of the Congo\",\"offsetgroup\":\"Democratic Republic of the Congo\",\"orientation\":\"v\",\"showlegend\":true,\"textposition\":\"auto\",\"x\":[2000,2005,2010,2018],\"xaxis\":\"x\",\"y\":[1.8,1.4,1.1,0.8],\"yaxis\":\"y\",\"type\":\"bar\"},{\"alignmentgroup\":\"True\",\"hovertemplate\":\"Country=Equatorial Guinea<br>Year=%{x}<br>Mean Count_median=%{y}<extra></extra>\",\"legendgroup\":\"Equatorial Guinea\",\"marker\":{\"color\":\"#ab63fa\",\"pattern\":{\"shape\":\"\"}},\"name\":\"Equatorial Guinea\",\"offsetgroup\":\"Equatorial Guinea\",\"orientation\":\"v\",\"showlegend\":true,\"textposition\":\"auto\",\"x\":[2000,2005,2010,2018],\"xaxis\":\"x\",\"y\":[3.5,4.6,5.7,7.1],\"yaxis\":\"y\",\"type\":\"bar\"},{\"alignmentgroup\":\"True\",\"hovertemplate\":\"Country=Eritrea<br>Year=%{x}<br>Mean Count_median=%{y}<extra></extra>\",\"legendgroup\":\"Eritrea\",\"marker\":{\"color\":\"#FFA15A\",\"pattern\":{\"shape\":\"\"}},\"name\":\"Eritrea\",\"offsetgroup\":\"Eritrea\",\"orientation\":\"v\",\"showlegend\":true,\"textposition\":\"auto\",\"x\":[2000,2005,2010,2018],\"xaxis\":\"x\",\"y\":[1.5,1.1,0.9,0.7],\"yaxis\":\"y\",\"type\":\"bar\"},{\"alignmentgroup\":\"True\",\"hovertemplate\":\"Country=Eswatini<br>Year=%{x}<br>Mean Count_median=%{y}<extra></extra>\",\"legendgroup\":\"Eswatini\",\"marker\":{\"color\":\"#19d3f3\",\"pattern\":{\"shape\":\"\"}},\"name\":\"Eswatini\",\"offsetgroup\":\"Eswatini\",\"orientation\":\"v\",\"showlegend\":true,\"textposition\":\"auto\",\"x\":[2000,2005,2010,2018],\"xaxis\":\"x\",\"y\":[24.6,26.3,27.4,27.3],\"yaxis\":\"y\",\"type\":\"bar\"},{\"alignmentgroup\":\"True\",\"hovertemplate\":\"Country=Ethiopia<br>Year=%{x}<br>Mean Count_median=%{y}<extra></extra>\",\"legendgroup\":\"Ethiopia\",\"marker\":{\"color\":\"#FF6692\",\"pattern\":{\"shape\":\"\"}},\"name\":\"Ethiopia\",\"offsetgroup\":\"Ethiopia\",\"orientation\":\"v\",\"showlegend\":true,\"textposition\":\"auto\",\"x\":[2000,2005,2010,2018],\"xaxis\":\"x\",\"y\":[2.4,1.7,1.3,1.0],\"yaxis\":\"y\",\"type\":\"bar\"},{\"alignmentgroup\":\"True\",\"hovertemplate\":\"Country=Gabon<br>Year=%{x}<br>Mean Count_median=%{y}<extra></extra>\",\"legendgroup\":\"Gabon\",\"marker\":{\"color\":\"#B6E880\",\"pattern\":{\"shape\":\"\"}},\"name\":\"Gabon\",\"offsetgroup\":\"Gabon\",\"orientation\":\"v\",\"showlegend\":true,\"textposition\":\"auto\",\"x\":[2000,2005,2010,2018],\"xaxis\":\"x\",\"y\":[4.1,4.2,4.1,3.8],\"yaxis\":\"y\",\"type\":\"bar\"},{\"alignmentgroup\":\"True\",\"hovertemplate\":\"Country=Gambia<br>Year=%{x}<br>Mean Count_median=%{y}<extra></extra>\",\"legendgroup\":\"Gambia\",\"marker\":{\"color\":\"#FF97FF\",\"pattern\":{\"shape\":\"\"}},\"name\":\"Gambia\",\"offsetgroup\":\"Gambia\",\"orientation\":\"v\",\"showlegend\":true,\"textposition\":\"auto\",\"x\":[2000,2005,2010,2018],\"xaxis\":\"x\",\"y\":[1.4,1.8,1.9,1.9],\"yaxis\":\"y\",\"type\":\"bar\"},{\"alignmentgroup\":\"True\",\"hovertemplate\":\"Country=Ghana<br>Year=%{x}<br>Mean Count_median=%{y}<extra></extra>\",\"legendgroup\":\"Ghana\",\"marker\":{\"color\":\"#FECB52\",\"pattern\":{\"shape\":\"\"}},\"name\":\"Ghana\",\"offsetgroup\":\"Ghana\",\"orientation\":\"v\",\"showlegend\":true,\"textposition\":\"auto\",\"x\":[2000,2005,2010,2018],\"xaxis\":\"x\",\"y\":[2.4,2.1,1.9,1.7],\"yaxis\":\"y\",\"type\":\"bar\"},{\"alignmentgroup\":\"True\",\"hovertemplate\":\"Country=Guinea<br>Year=%{x}<br>Mean Count_median=%{y}<extra></extra>\",\"legendgroup\":\"Guinea\",\"marker\":{\"color\":\"#636efa\",\"pattern\":{\"shape\":\"\"}},\"name\":\"Guinea\",\"offsetgroup\":\"Guinea\",\"orientation\":\"v\",\"showlegend\":true,\"textposition\":\"auto\",\"x\":[2000,2005,2010,2018],\"xaxis\":\"x\",\"y\":[1.7,1.7,1.6,1.4],\"yaxis\":\"y\",\"type\":\"bar\"},{\"alignmentgroup\":\"True\",\"hovertemplate\":\"Country=Guinea-Bissau<br>Year=%{x}<br>Mean Count_median=%{y}<extra></extra>\",\"legendgroup\":\"Guinea-Bissau\",\"marker\":{\"color\":\"#EF553B\",\"pattern\":{\"shape\":\"\"}},\"name\":\"Guinea-Bissau\",\"offsetgroup\":\"Guinea-Bissau\",\"orientation\":\"v\",\"showlegend\":true,\"textposition\":\"auto\",\"x\":[2000,2005,2010,2018],\"xaxis\":\"x\",\"y\":[3.2,3.8,3.8,3.5],\"yaxis\":\"y\",\"type\":\"bar\"},{\"alignmentgroup\":\"True\",\"hovertemplate\":\"Country=Kenya<br>Year=%{x}<br>Mean Count_median=%{y}<extra></extra>\",\"legendgroup\":\"Kenya\",\"marker\":{\"color\":\"#00cc96\",\"pattern\":{\"shape\":\"\"}},\"name\":\"Kenya\",\"offsetgroup\":\"Kenya\",\"orientation\":\"v\",\"showlegend\":true,\"textposition\":\"auto\",\"x\":[2000,2005,2010,2018],\"xaxis\":\"x\",\"y\":[9.8,7.3,6.0,4.7],\"yaxis\":\"y\",\"type\":\"bar\"},{\"alignmentgroup\":\"True\",\"hovertemplate\":\"Country=Lesotho<br>Year=%{x}<br>Mean Count_median=%{y}<extra></extra>\",\"legendgroup\":\"Lesotho\",\"marker\":{\"color\":\"#ab63fa\",\"pattern\":{\"shape\":\"\"}},\"name\":\"Lesotho\",\"offsetgroup\":\"Lesotho\",\"orientation\":\"v\",\"showlegend\":true,\"textposition\":\"auto\",\"x\":[2000,2005,2010,2018],\"xaxis\":\"x\",\"y\":[23.2,23.8,24.1,23.6],\"yaxis\":\"y\",\"type\":\"bar\"},{\"alignmentgroup\":\"True\",\"hovertemplate\":\"Country=Liberia<br>Year=%{x}<br>Mean Count_median=%{y}<extra></extra>\",\"legendgroup\":\"Liberia\",\"marker\":{\"color\":\"#FFA15A\",\"pattern\":{\"shape\":\"\"}},\"name\":\"Liberia\",\"offsetgroup\":\"Liberia\",\"orientation\":\"v\",\"showlegend\":true,\"textposition\":\"auto\",\"x\":[2000,2005,2010,2018],\"xaxis\":\"x\",\"y\":[2.6,2.1,1.7,1.3],\"yaxis\":\"y\",\"type\":\"bar\"},{\"alignmentgroup\":\"True\",\"hovertemplate\":\"Country=Madagascar<br>Year=%{x}<br>Mean Count_median=%{y}<extra></extra>\",\"legendgroup\":\"Madagascar\",\"marker\":{\"color\":\"#19d3f3\",\"pattern\":{\"shape\":\"\"}},\"name\":\"Madagascar\",\"offsetgroup\":\"Madagascar\",\"orientation\":\"v\",\"showlegend\":true,\"textposition\":\"auto\",\"x\":[2000,2005,2010,2018],\"xaxis\":\"x\",\"y\":[0.2,0.2,0.2,0.3],\"yaxis\":\"y\",\"type\":\"bar\"},{\"alignmentgroup\":\"True\",\"hovertemplate\":\"Country=Malawi<br>Year=%{x}<br>Mean Count_median=%{y}<extra></extra>\",\"legendgroup\":\"Malawi\",\"marker\":{\"color\":\"#FF6692\",\"pattern\":{\"shape\":\"\"}},\"name\":\"Malawi\",\"offsetgroup\":\"Malawi\",\"orientation\":\"v\",\"showlegend\":true,\"textposition\":\"auto\",\"x\":[2000,2005,2010,2018],\"xaxis\":\"x\",\"y\":[14.4,12.2,10.6,9.2],\"yaxis\":\"y\",\"type\":\"bar\"},{\"alignmentgroup\":\"True\",\"hovertemplate\":\"Country=Mali<br>Year=%{x}<br>Mean Count_median=%{y}<extra></extra>\",\"legendgroup\":\"Mali\",\"marker\":{\"color\":\"#B6E880\",\"pattern\":{\"shape\":\"\"}},\"name\":\"Mali\",\"offsetgroup\":\"Mali\",\"orientation\":\"v\",\"showlegend\":true,\"textposition\":\"auto\",\"x\":[2000,2005,2010,2018],\"xaxis\":\"x\",\"y\":[1.8,1.5,1.4,1.4],\"yaxis\":\"y\",\"type\":\"bar\"},{\"alignmentgroup\":\"True\",\"hovertemplate\":\"Country=Mauritania<br>Year=%{x}<br>Mean Count_median=%{y}<extra></extra>\",\"legendgroup\":\"Mauritania\",\"marker\":{\"color\":\"#FF97FF\",\"pattern\":{\"shape\":\"\"}},\"name\":\"Mauritania\",\"offsetgroup\":\"Mauritania\",\"orientation\":\"v\",\"showlegend\":true,\"textposition\":\"auto\",\"x\":[2000,2005,2010,2018],\"xaxis\":\"x\",\"y\":[0.4,0.5,0.4,0.2],\"yaxis\":\"y\",\"type\":\"bar\"},{\"alignmentgroup\":\"True\",\"hovertemplate\":\"Country=Mauritius<br>Year=%{x}<br>Mean Count_median=%{y}<extra></extra>\",\"legendgroup\":\"Mauritius\",\"marker\":{\"color\":\"#FECB52\",\"pattern\":{\"shape\":\"\"}},\"name\":\"Mauritius\",\"offsetgroup\":\"Mauritius\",\"orientation\":\"v\",\"showlegend\":true,\"textposition\":\"auto\",\"x\":[2000,2005,2010,2018],\"xaxis\":\"x\",\"y\":[0.4,1.0,1.3,1.3],\"yaxis\":\"y\",\"type\":\"bar\"},{\"alignmentgroup\":\"True\",\"hovertemplate\":\"Country=Mozambique<br>Year=%{x}<br>Mean Count_median=%{y}<extra></extra>\",\"legendgroup\":\"Mozambique\",\"marker\":{\"color\":\"#636efa\",\"pattern\":{\"shape\":\"\"}},\"name\":\"Mozambique\",\"offsetgroup\":\"Mozambique\",\"orientation\":\"v\",\"showlegend\":true,\"textposition\":\"auto\",\"x\":[2000,2005,2010,2018],\"xaxis\":\"x\",\"y\":[8.8,11.1,12.0,12.6],\"yaxis\":\"y\",\"type\":\"bar\"},{\"alignmentgroup\":\"True\",\"hovertemplate\":\"Country=Namibia<br>Year=%{x}<br>Mean Count_median=%{y}<extra></extra>\",\"legendgroup\":\"Namibia\",\"marker\":{\"color\":\"#EF553B\",\"pattern\":{\"shape\":\"\"}},\"name\":\"Namibia\",\"offsetgroup\":\"Namibia\",\"orientation\":\"v\",\"showlegend\":true,\"textposition\":\"auto\",\"x\":[2000,2005,2010,2018],\"xaxis\":\"x\",\"y\":[14.0,13.8,13.4,11.8],\"yaxis\":\"y\",\"type\":\"bar\"},{\"alignmentgroup\":\"True\",\"hovertemplate\":\"Country=Niger<br>Year=%{x}<br>Mean Count_median=%{y}<extra></extra>\",\"legendgroup\":\"Niger\",\"marker\":{\"color\":\"#00cc96\",\"pattern\":{\"shape\":\"\"}},\"name\":\"Niger\",\"offsetgroup\":\"Niger\",\"orientation\":\"v\",\"showlegend\":true,\"textposition\":\"auto\",\"x\":[2000,2005,2010,2018],\"xaxis\":\"x\",\"y\":[0.6,0.6,0.4,0.3],\"yaxis\":\"y\",\"type\":\"bar\"},{\"alignmentgroup\":\"True\",\"hovertemplate\":\"Country=Nigeria<br>Year=%{x}<br>Mean Count_median=%{y}<extra></extra>\",\"legendgroup\":\"Nigeria\",\"marker\":{\"color\":\"#ab63fa\",\"pattern\":{\"shape\":\"\"}},\"name\":\"Nigeria\",\"offsetgroup\":\"Nigeria\",\"orientation\":\"v\",\"showlegend\":true,\"textposition\":\"auto\",\"x\":[2000,2005,2010,2018],\"xaxis\":\"x\",\"y\":[1.8,1.7,1.6,1.5],\"yaxis\":\"y\",\"type\":\"bar\"},{\"alignmentgroup\":\"True\",\"hovertemplate\":\"Country=Rwanda<br>Year=%{x}<br>Mean Count_median=%{y}<extra></extra>\",\"legendgroup\":\"Rwanda\",\"marker\":{\"color\":\"#FFA15A\",\"pattern\":{\"shape\":\"\"}},\"name\":\"Rwanda\",\"offsetgroup\":\"Rwanda\",\"orientation\":\"v\",\"showlegend\":true,\"textposition\":\"auto\",\"x\":[2000,2005,2010,2018],\"xaxis\":\"x\",\"y\":[5.2,3.8,3.3,2.5],\"yaxis\":\"y\",\"type\":\"bar\"},{\"alignmentgroup\":\"True\",\"hovertemplate\":\"Country=Senegal<br>Year=%{x}<br>Mean Count_median=%{y}<extra></extra>\",\"legendgroup\":\"Senegal\",\"marker\":{\"color\":\"#19d3f3\",\"pattern\":{\"shape\":\"\"}},\"name\":\"Senegal\",\"offsetgroup\":\"Senegal\",\"orientation\":\"v\",\"showlegend\":true,\"textposition\":\"auto\",\"x\":[2000,2005,2010,2018],\"xaxis\":\"x\",\"y\":[0.6,0.7,0.6,0.4],\"yaxis\":\"y\",\"type\":\"bar\"},{\"alignmentgroup\":\"True\",\"hovertemplate\":\"Country=Sierra Leone<br>Year=%{x}<br>Mean Count_median=%{y}<extra></extra>\",\"legendgroup\":\"Sierra Leone\",\"marker\":{\"color\":\"#FF6692\",\"pattern\":{\"shape\":\"\"}},\"name\":\"Sierra Leone\",\"offsetgroup\":\"Sierra Leone\",\"orientation\":\"v\",\"showlegend\":true,\"textposition\":\"auto\",\"x\":[2000,2005,2010,2018],\"xaxis\":\"x\",\"y\":[1.5,1.5,1.5,1.5],\"yaxis\":\"y\",\"type\":\"bar\"},{\"alignmentgroup\":\"True\",\"hovertemplate\":\"Country=South Africa<br>Year=%{x}<br>Mean Count_median=%{y}<extra></extra>\",\"legendgroup\":\"South Africa\",\"marker\":{\"color\":\"#B6E880\",\"pattern\":{\"shape\":\"\"}},\"name\":\"South Africa\",\"offsetgroup\":\"South Africa\",\"orientation\":\"v\",\"showlegend\":true,\"textposition\":\"auto\",\"x\":[2000,2005,2010,2018],\"xaxis\":\"x\",\"y\":[12.6,16.8,18.9,20.4],\"yaxis\":\"y\",\"type\":\"bar\"},{\"alignmentgroup\":\"True\",\"hovertemplate\":\"Country=South Sudan<br>Year=%{x}<br>Mean Count_median=%{y}<extra></extra>\",\"legendgroup\":\"South Sudan\",\"marker\":{\"color\":\"#FF97FF\",\"pattern\":{\"shape\":\"\"}},\"name\":\"South Sudan\",\"offsetgroup\":\"South Sudan\",\"orientation\":\"v\",\"showlegend\":true,\"textposition\":\"auto\",\"x\":[2000,2005,2010,2018],\"xaxis\":\"x\",\"y\":[2.5,2.5,2.4,2.5],\"yaxis\":\"y\",\"type\":\"bar\"},{\"alignmentgroup\":\"True\",\"hovertemplate\":\"Country=Togo<br>Year=%{x}<br>Mean Count_median=%{y}<extra></extra>\",\"legendgroup\":\"Togo\",\"marker\":{\"color\":\"#FECB52\",\"pattern\":{\"shape\":\"\"}},\"name\":\"Togo\",\"offsetgroup\":\"Togo\",\"orientation\":\"v\",\"showlegend\":true,\"textposition\":\"auto\",\"x\":[2000,2005,2010,2018],\"xaxis\":\"x\",\"y\":[3.6,3.3,2.9,2.3],\"yaxis\":\"y\",\"type\":\"bar\"},{\"alignmentgroup\":\"True\",\"hovertemplate\":\"Country=Uganda<br>Year=%{x}<br>Mean Count_median=%{y}<extra></extra>\",\"legendgroup\":\"Uganda\",\"marker\":{\"color\":\"#636efa\",\"pattern\":{\"shape\":\"\"}},\"name\":\"Uganda\",\"offsetgroup\":\"Uganda\",\"orientation\":\"v\",\"showlegend\":true,\"textposition\":\"auto\",\"x\":[2000,2005,2010,2018],\"xaxis\":\"x\",\"y\":[8.3,7.3,6.8,5.7],\"yaxis\":\"y\",\"type\":\"bar\"},{\"alignmentgroup\":\"True\",\"hovertemplate\":\"Country=United Republic of Tanzania<br>Year=%{x}<br>Mean Count_median=%{y}<extra></extra>\",\"legendgroup\":\"United Republic of Tanzania\",\"marker\":{\"color\":\"#EF553B\",\"pattern\":{\"shape\":\"\"}},\"name\":\"United Republic of Tanzania\",\"offsetgroup\":\"United Republic of Tanzania\",\"orientation\":\"v\",\"showlegend\":true,\"textposition\":\"auto\",\"x\":[2000,2005,2010,2018],\"xaxis\":\"x\",\"y\":[6.3,5.4,5.0,4.6],\"yaxis\":\"y\",\"type\":\"bar\"},{\"alignmentgroup\":\"True\",\"hovertemplate\":\"Country=Zambia<br>Year=%{x}<br>Mean Count_median=%{y}<extra></extra>\",\"legendgroup\":\"Zambia\",\"marker\":{\"color\":\"#00cc96\",\"pattern\":{\"shape\":\"\"}},\"name\":\"Zambia\",\"offsetgroup\":\"Zambia\",\"orientation\":\"v\",\"showlegend\":true,\"textposition\":\"auto\",\"x\":[2000,2005,2010,2018],\"xaxis\":\"x\",\"y\":[16.2,14.1,13.0,11.3],\"yaxis\":\"y\",\"type\":\"bar\"},{\"alignmentgroup\":\"True\",\"hovertemplate\":\"Country=Zimbabwe<br>Year=%{x}<br>Mean Count_median=%{y}<extra></extra>\",\"legendgroup\":\"Zimbabwe\",\"marker\":{\"color\":\"#ab63fa\",\"pattern\":{\"shape\":\"\"}},\"name\":\"Zimbabwe\",\"offsetgroup\":\"Zimbabwe\",\"orientation\":\"v\",\"showlegend\":true,\"textposition\":\"auto\",\"x\":[2000,2005,2010,2018],\"xaxis\":\"x\",\"y\":[25.0,19.0,15.4,12.7],\"yaxis\":\"y\",\"type\":\"bar\"}],                        {\"template\":{\"data\":{\"histogram2dcontour\":[{\"type\":\"histogram2dcontour\",\"colorbar\":{\"outlinewidth\":0,\"ticks\":\"\"},\"colorscale\":[[0.0,\"#0d0887\"],[0.1111111111111111,\"#46039f\"],[0.2222222222222222,\"#7201a8\"],[0.3333333333333333,\"#9c179e\"],[0.4444444444444444,\"#bd3786\"],[0.5555555555555556,\"#d8576b\"],[0.6666666666666666,\"#ed7953\"],[0.7777777777777778,\"#fb9f3a\"],[0.8888888888888888,\"#fdca26\"],[1.0,\"#f0f921\"]]}],\"choropleth\":[{\"type\":\"choropleth\",\"colorbar\":{\"outlinewidth\":0,\"ticks\":\"\"}}],\"histogram2d\":[{\"type\":\"histogram2d\",\"colorbar\":{\"outlinewidth\":0,\"ticks\":\"\"},\"colorscale\":[[0.0,\"#0d0887\"],[0.1111111111111111,\"#46039f\"],[0.2222222222222222,\"#7201a8\"],[0.3333333333333333,\"#9c179e\"],[0.4444444444444444,\"#bd3786\"],[0.5555555555555556,\"#d8576b\"],[0.6666666666666666,\"#ed7953\"],[0.7777777777777778,\"#fb9f3a\"],[0.8888888888888888,\"#fdca26\"],[1.0,\"#f0f921\"]]}],\"heatmap\":[{\"type\":\"heatmap\",\"colorbar\":{\"outlinewidth\":0,\"ticks\":\"\"},\"colorscale\":[[0.0,\"#0d0887\"],[0.1111111111111111,\"#46039f\"],[0.2222222222222222,\"#7201a8\"],[0.3333333333333333,\"#9c179e\"],[0.4444444444444444,\"#bd3786\"],[0.5555555555555556,\"#d8576b\"],[0.6666666666666666,\"#ed7953\"],[0.7777777777777778,\"#fb9f3a\"],[0.8888888888888888,\"#fdca26\"],[1.0,\"#f0f921\"]]}],\"heatmapgl\":[{\"type\":\"heatmapgl\",\"colorbar\":{\"outlinewidth\":0,\"ticks\":\"\"},\"colorscale\":[[0.0,\"#0d0887\"],[0.1111111111111111,\"#46039f\"],[0.2222222222222222,\"#7201a8\"],[0.3333333333333333,\"#9c179e\"],[0.4444444444444444,\"#bd3786\"],[0.5555555555555556,\"#d8576b\"],[0.6666666666666666,\"#ed7953\"],[0.7777777777777778,\"#fb9f3a\"],[0.8888888888888888,\"#fdca26\"],[1.0,\"#f0f921\"]]}],\"contourcarpet\":[{\"type\":\"contourcarpet\",\"colorbar\":{\"outlinewidth\":0,\"ticks\":\"\"}}],\"contour\":[{\"type\":\"contour\",\"colorbar\":{\"outlinewidth\":0,\"ticks\":\"\"},\"colorscale\":[[0.0,\"#0d0887\"],[0.1111111111111111,\"#46039f\"],[0.2222222222222222,\"#7201a8\"],[0.3333333333333333,\"#9c179e\"],[0.4444444444444444,\"#bd3786\"],[0.5555555555555556,\"#d8576b\"],[0.6666666666666666,\"#ed7953\"],[0.7777777777777778,\"#fb9f3a\"],[0.8888888888888888,\"#fdca26\"],[1.0,\"#f0f921\"]]}],\"surface\":[{\"type\":\"surface\",\"colorbar\":{\"outlinewidth\":0,\"ticks\":\"\"},\"colorscale\":[[0.0,\"#0d0887\"],[0.1111111111111111,\"#46039f\"],[0.2222222222222222,\"#7201a8\"],[0.3333333333333333,\"#9c179e\"],[0.4444444444444444,\"#bd3786\"],[0.5555555555555556,\"#d8576b\"],[0.6666666666666666,\"#ed7953\"],[0.7777777777777778,\"#fb9f3a\"],[0.8888888888888888,\"#fdca26\"],[1.0,\"#f0f921\"]]}],\"mesh3d\":[{\"type\":\"mesh3d\",\"colorbar\":{\"outlinewidth\":0,\"ticks\":\"\"}}],\"scatter\":[{\"fillpattern\":{\"fillmode\":\"overlay\",\"size\":10,\"solidity\":0.2},\"type\":\"scatter\"}],\"parcoords\":[{\"type\":\"parcoords\",\"line\":{\"colorbar\":{\"outlinewidth\":0,\"ticks\":\"\"}}}],\"scatterpolargl\":[{\"type\":\"scatterpolargl\",\"marker\":{\"colorbar\":{\"outlinewidth\":0,\"ticks\":\"\"}}}],\"bar\":[{\"error_x\":{\"color\":\"#2a3f5f\"},\"error_y\":{\"color\":\"#2a3f5f\"},\"marker\":{\"line\":{\"color\":\"#E5ECF6\",\"width\":0.5},\"pattern\":{\"fillmode\":\"overlay\",\"size\":10,\"solidity\":0.2}},\"type\":\"bar\"}],\"scattergeo\":[{\"type\":\"scattergeo\",\"marker\":{\"colorbar\":{\"outlinewidth\":0,\"ticks\":\"\"}}}],\"scatterpolar\":[{\"type\":\"scatterpolar\",\"marker\":{\"colorbar\":{\"outlinewidth\":0,\"ticks\":\"\"}}}],\"histogram\":[{\"marker\":{\"pattern\":{\"fillmode\":\"overlay\",\"size\":10,\"solidity\":0.2}},\"type\":\"histogram\"}],\"scattergl\":[{\"type\":\"scattergl\",\"marker\":{\"colorbar\":{\"outlinewidth\":0,\"ticks\":\"\"}}}],\"scatter3d\":[{\"type\":\"scatter3d\",\"line\":{\"colorbar\":{\"outlinewidth\":0,\"ticks\":\"\"}},\"marker\":{\"colorbar\":{\"outlinewidth\":0,\"ticks\":\"\"}}}],\"scattermapbox\":[{\"type\":\"scattermapbox\",\"marker\":{\"colorbar\":{\"outlinewidth\":0,\"ticks\":\"\"}}}],\"scatterternary\":[{\"type\":\"scatterternary\",\"marker\":{\"colorbar\":{\"outlinewidth\":0,\"ticks\":\"\"}}}],\"scattercarpet\":[{\"type\":\"scattercarpet\",\"marker\":{\"colorbar\":{\"outlinewidth\":0,\"ticks\":\"\"}}}],\"carpet\":[{\"aaxis\":{\"endlinecolor\":\"#2a3f5f\",\"gridcolor\":\"white\",\"linecolor\":\"white\",\"minorgridcolor\":\"white\",\"startlinecolor\":\"#2a3f5f\"},\"baxis\":{\"endlinecolor\":\"#2a3f5f\",\"gridcolor\":\"white\",\"linecolor\":\"white\",\"minorgridcolor\":\"white\",\"startlinecolor\":\"#2a3f5f\"},\"type\":\"carpet\"}],\"table\":[{\"cells\":{\"fill\":{\"color\":\"#EBF0F8\"},\"line\":{\"color\":\"white\"}},\"header\":{\"fill\":{\"color\":\"#C8D4E3\"},\"line\":{\"color\":\"white\"}},\"type\":\"table\"}],\"barpolar\":[{\"marker\":{\"line\":{\"color\":\"#E5ECF6\",\"width\":0.5},\"pattern\":{\"fillmode\":\"overlay\",\"size\":10,\"solidity\":0.2}},\"type\":\"barpolar\"}],\"pie\":[{\"automargin\":true,\"type\":\"pie\"}]},\"layout\":{\"autotypenumbers\":\"strict\",\"colorway\":[\"#636efa\",\"#EF553B\",\"#00cc96\",\"#ab63fa\",\"#FFA15A\",\"#19d3f3\",\"#FF6692\",\"#B6E880\",\"#FF97FF\",\"#FECB52\"],\"font\":{\"color\":\"#2a3f5f\"},\"hovermode\":\"closest\",\"hoverlabel\":{\"align\":\"left\"},\"paper_bgcolor\":\"white\",\"plot_bgcolor\":\"#E5ECF6\",\"polar\":{\"bgcolor\":\"#E5ECF6\",\"angularaxis\":{\"gridcolor\":\"white\",\"linecolor\":\"white\",\"ticks\":\"\"},\"radialaxis\":{\"gridcolor\":\"white\",\"linecolor\":\"white\",\"ticks\":\"\"}},\"ternary\":{\"bgcolor\":\"#E5ECF6\",\"aaxis\":{\"gridcolor\":\"white\",\"linecolor\":\"white\",\"ticks\":\"\"},\"baxis\":{\"gridcolor\":\"white\",\"linecolor\":\"white\",\"ticks\":\"\"},\"caxis\":{\"gridcolor\":\"white\",\"linecolor\":\"white\",\"ticks\":\"\"}},\"coloraxis\":{\"colorbar\":{\"outlinewidth\":0,\"ticks\":\"\"}},\"colorscale\":{\"sequential\":[[0.0,\"#0d0887\"],[0.1111111111111111,\"#46039f\"],[0.2222222222222222,\"#7201a8\"],[0.3333333333333333,\"#9c179e\"],[0.4444444444444444,\"#bd3786\"],[0.5555555555555556,\"#d8576b\"],[0.6666666666666666,\"#ed7953\"],[0.7777777777777778,\"#fb9f3a\"],[0.8888888888888888,\"#fdca26\"],[1.0,\"#f0f921\"]],\"sequentialminus\":[[0.0,\"#0d0887\"],[0.1111111111111111,\"#46039f\"],[0.2222222222222222,\"#7201a8\"],[0.3333333333333333,\"#9c179e\"],[0.4444444444444444,\"#bd3786\"],[0.5555555555555556,\"#d8576b\"],[0.6666666666666666,\"#ed7953\"],[0.7777777777777778,\"#fb9f3a\"],[0.8888888888888888,\"#fdca26\"],[1.0,\"#f0f921\"]],\"diverging\":[[0,\"#8e0152\"],[0.1,\"#c51b7d\"],[0.2,\"#de77ae\"],[0.3,\"#f1b6da\"],[0.4,\"#fde0ef\"],[0.5,\"#f7f7f7\"],[0.6,\"#e6f5d0\"],[0.7,\"#b8e186\"],[0.8,\"#7fbc41\"],[0.9,\"#4d9221\"],[1,\"#276419\"]]},\"xaxis\":{\"gridcolor\":\"white\",\"linecolor\":\"white\",\"ticks\":\"\",\"title\":{\"standoff\":15},\"zerolinecolor\":\"white\",\"automargin\":true,\"zerolinewidth\":2},\"yaxis\":{\"gridcolor\":\"white\",\"linecolor\":\"white\",\"ticks\":\"\",\"title\":{\"standoff\":15},\"zerolinecolor\":\"white\",\"automargin\":true,\"zerolinewidth\":2},\"scene\":{\"xaxis\":{\"backgroundcolor\":\"#E5ECF6\",\"gridcolor\":\"white\",\"linecolor\":\"white\",\"showbackground\":true,\"ticks\":\"\",\"zerolinecolor\":\"white\",\"gridwidth\":2},\"yaxis\":{\"backgroundcolor\":\"#E5ECF6\",\"gridcolor\":\"white\",\"linecolor\":\"white\",\"showbackground\":true,\"ticks\":\"\",\"zerolinecolor\":\"white\",\"gridwidth\":2},\"zaxis\":{\"backgroundcolor\":\"#E5ECF6\",\"gridcolor\":\"white\",\"linecolor\":\"white\",\"showbackground\":true,\"ticks\":\"\",\"zerolinecolor\":\"white\",\"gridwidth\":2}},\"shapedefaults\":{\"line\":{\"color\":\"#2a3f5f\"}},\"annotationdefaults\":{\"arrowcolor\":\"#2a3f5f\",\"arrowhead\":0,\"arrowwidth\":1},\"geo\":{\"bgcolor\":\"white\",\"landcolor\":\"#E5ECF6\",\"subunitcolor\":\"white\",\"showland\":true,\"showlakes\":true,\"lakecolor\":\"white\"},\"title\":{\"x\":0.05},\"mapbox\":{\"style\":\"light\"}}},\"xaxis\":{\"anchor\":\"y\",\"domain\":[0.0,1.0],\"title\":{\"text\":\"Year\"}},\"yaxis\":{\"anchor\":\"x\",\"domain\":[0.0,1.0],\"title\":{\"text\":\"Mean Count_median\"}},\"legend\":{\"title\":{\"text\":\"Country\"},\"tracegroupgap\":0},\"title\":{\"text\":\"Mean Count_median by Country and Year in Africa\"},\"barmode\":\"relative\"},                        {\"responsive\": true}                    ).then(function(){\n",
       "                            \n",
       "var gd = document.getElementById('556243f0-97d2-4022-b058-0a9ea161e3fd');\n",
       "var x = new MutationObserver(function (mutations, observer) {{\n",
       "        var display = window.getComputedStyle(gd).display;\n",
       "        if (!display || display === 'none') {{\n",
       "            console.log([gd, 'removed!']);\n",
       "            Plotly.purge(gd);\n",
       "            observer.disconnect();\n",
       "        }}\n",
       "}});\n",
       "\n",
       "// Listen for the removal of the full notebook cells\n",
       "var notebookContainer = gd.closest('#notebook-container');\n",
       "if (notebookContainer) {{\n",
       "    x.observe(notebookContainer, {childList: true});\n",
       "}}\n",
       "\n",
       "// Listen for the clearing of the current output cell\n",
       "var outputEl = gd.closest('.output');\n",
       "if (outputEl) {{\n",
       "    x.observe(outputEl, {childList: true});\n",
       "}}\n",
       "\n",
       "                        })                };                });            </script>        </div>"
      ]
     },
     "metadata": {},
     "output_type": "display_data"
    }
   ],
   "source": [
    "country_cases_fig.show()\n"
   ]
  },
  {
   "cell_type": "markdown",
   "id": "ad2cf7f1",
   "metadata": {},
   "source": [
    "##### \\*From the above different plots, Eswatini, in South Africa, is the place which holds the tragically highest number of HIV AIDS cases. However, Botswana and Zimbabwe which had the highest number of cases in 2000 at the start of the decade, has shown a steady decrease in the number of HIV cases, Lesotho holds the second highest number of cases throughout the decade.\\*\n",
    "\n",
    "### Number of deaths due to HIV AIDS\n",
    "\n",
    "#### Country-wise:"
   ]
  },
  {
   "cell_type": "code",
   "execution_count": 174,
   "id": "77864bd8",
   "metadata": {},
   "outputs": [],
   "source": [
    "countrywisedeaths = african_death_case.groupby(['Country','Year']).mean()['Count_median']"
   ]
  },
  {
   "cell_type": "code",
   "execution_count": 175,
   "id": "a8f8e063",
   "metadata": {},
   "outputs": [],
   "source": [
    "countrywisedeaths_fig = px.bar(countrywisedeaths.reset_index(), x='Year', y='Count_median', color='Country',\n",
    "             labels={'Year': 'Year', 'Count_median': 'Mean Count_median'},\n",
    "             title='Mean Count_median by Country and Year in Africa')"
   ]
  },
  {
   "cell_type": "code",
   "execution_count": 176,
   "id": "35617f47",
   "metadata": {},
   "outputs": [
    {
     "data": {
      "application/vnd.plotly.v1+json": {
       "config": {
        "plotlyServerURL": "https://plot.ly"
       },
       "data": [
        {
         "alignmentgroup": "True",
         "hovertemplate": "Country=Algeria<br>Year=%{x}<br>Mean Count_median=%{y}<extra></extra>",
         "legendgroup": "Algeria",
         "marker": {
          "color": "#636efa",
          "pattern": {
           "shape": ""
          }
         },
         "name": "Algeria",
         "offsetgroup": "Algeria",
         "orientation": "v",
         "showlegend": true,
         "textposition": "auto",
         "type": "bar",
         "x": [
          2000,
          2010,
          2018
         ],
         "xaxis": "x",
         "y": [
          100,
          200,
          200
         ],
         "yaxis": "y"
        },
        {
         "alignmentgroup": "True",
         "hovertemplate": "Country=Angola<br>Year=%{x}<br>Mean Count_median=%{y}<extra></extra>",
         "legendgroup": "Angola",
         "marker": {
          "color": "#EF553B",
          "pattern": {
           "shape": ""
          }
         },
         "name": "Angola",
         "offsetgroup": "Angola",
         "orientation": "v",
         "showlegend": true,
         "textposition": "auto",
         "type": "bar",
         "x": [
          2000,
          2010,
          2018
         ],
         "xaxis": "x",
         "y": [
          4800,
          10000,
          14000
         ],
         "yaxis": "y"
        },
        {
         "alignmentgroup": "True",
         "hovertemplate": "Country=Benin<br>Year=%{x}<br>Mean Count_median=%{y}<extra></extra>",
         "legendgroup": "Benin",
         "marker": {
          "color": "#00cc96",
          "pattern": {
           "shape": ""
          }
         },
         "name": "Benin",
         "offsetgroup": "Benin",
         "orientation": "v",
         "showlegend": true,
         "textposition": "auto",
         "type": "bar",
         "x": [
          2000,
          2010,
          2018
         ],
         "xaxis": "x",
         "y": [
          2400,
          2000,
          2200
         ],
         "yaxis": "y"
        },
        {
         "alignmentgroup": "True",
         "hovertemplate": "Country=Botswana<br>Year=%{x}<br>Mean Count_median=%{y}<extra></extra>",
         "legendgroup": "Botswana",
         "marker": {
          "color": "#ab63fa",
          "pattern": {
           "shape": ""
          }
         },
         "name": "Botswana",
         "offsetgroup": "Botswana",
         "orientation": "v",
         "showlegend": true,
         "textposition": "auto",
         "type": "bar",
         "x": [
          2000,
          2010,
          2018
         ],
         "xaxis": "x",
         "y": [
          15000,
          7300,
          4800
         ],
         "yaxis": "y"
        },
        {
         "alignmentgroup": "True",
         "hovertemplate": "Country=Burkina Faso<br>Year=%{x}<br>Mean Count_median=%{y}<extra></extra>",
         "legendgroup": "Burkina Faso",
         "marker": {
          "color": "#FFA15A",
          "pattern": {
           "shape": ""
          }
         },
         "name": "Burkina Faso",
         "offsetgroup": "Burkina Faso",
         "orientation": "v",
         "showlegend": true,
         "textposition": "auto",
         "type": "bar",
         "x": [
          2000,
          2010,
          2018
         ],
         "xaxis": "x",
         "y": [
          12000,
          4800,
          3300
         ],
         "yaxis": "y"
        },
        {
         "alignmentgroup": "True",
         "hovertemplate": "Country=Burundi<br>Year=%{x}<br>Mean Count_median=%{y}<extra></extra>",
         "legendgroup": "Burundi",
         "marker": {
          "color": "#19d3f3",
          "pattern": {
           "shape": ""
          }
         },
         "name": "Burundi",
         "offsetgroup": "Burundi",
         "orientation": "v",
         "showlegend": true,
         "textposition": "auto",
         "type": "bar",
         "x": [
          2000,
          2010,
          2018
         ],
         "xaxis": "x",
         "y": [
          11000,
          5200,
          1900
         ],
         "yaxis": "y"
        },
        {
         "alignmentgroup": "True",
         "hovertemplate": "Country=Cabo Verde<br>Year=%{x}<br>Mean Count_median=%{y}<extra></extra>",
         "legendgroup": "Cabo Verde",
         "marker": {
          "color": "#FF6692",
          "pattern": {
           "shape": ""
          }
         },
         "name": "Cabo Verde",
         "offsetgroup": "Cabo Verde",
         "orientation": "v",
         "showlegend": true,
         "textposition": "auto",
         "type": "bar",
         "x": [
          2000,
          2010,
          2018
         ],
         "xaxis": "x",
         "y": [
          200,
          100,
          100
         ],
         "yaxis": "y"
        },
        {
         "alignmentgroup": "True",
         "hovertemplate": "Country=Cameroon<br>Year=%{x}<br>Mean Count_median=%{y}<extra></extra>",
         "legendgroup": "Cameroon",
         "marker": {
          "color": "#B6E880",
          "pattern": {
           "shape": ""
          }
         },
         "name": "Cameroon",
         "offsetgroup": "Cameroon",
         "orientation": "v",
         "showlegend": true,
         "textposition": "auto",
         "type": "bar",
         "x": [
          2000,
          2010,
          2018
         ],
         "xaxis": "x",
         "y": [
          19000,
          22000,
          18000
         ],
         "yaxis": "y"
        },
        {
         "alignmentgroup": "True",
         "hovertemplate": "Country=Central African Republic<br>Year=%{x}<br>Mean Count_median=%{y}<extra></extra>",
         "legendgroup": "Central African Republic",
         "marker": {
          "color": "#FF97FF",
          "pattern": {
           "shape": ""
          }
         },
         "name": "Central African Republic",
         "offsetgroup": "Central African Republic",
         "orientation": "v",
         "showlegend": true,
         "textposition": "auto",
         "type": "bar",
         "x": [
          2000,
          2010,
          2018
         ],
         "xaxis": "x",
         "y": [
          11000,
          7800,
          4800
         ],
         "yaxis": "y"
        },
        {
         "alignmentgroup": "True",
         "hovertemplate": "Country=Chad<br>Year=%{x}<br>Mean Count_median=%{y}<extra></extra>",
         "legendgroup": "Chad",
         "marker": {
          "color": "#FECB52",
          "pattern": {
           "shape": ""
          }
         },
         "name": "Chad",
         "offsetgroup": "Chad",
         "orientation": "v",
         "showlegend": true,
         "textposition": "auto",
         "type": "bar",
         "x": [
          2000,
          2010,
          2018
         ],
         "xaxis": "x",
         "y": [
          5600,
          3500,
          3100
         ],
         "yaxis": "y"
        },
        {
         "alignmentgroup": "True",
         "hovertemplate": "Country=Comoros<br>Year=%{x}<br>Mean Count_median=%{y}<extra></extra>",
         "legendgroup": "Comoros",
         "marker": {
          "color": "#636efa",
          "pattern": {
           "shape": ""
          }
         },
         "name": "Comoros",
         "offsetgroup": "Comoros",
         "orientation": "v",
         "showlegend": true,
         "textposition": "auto",
         "type": "bar",
         "x": [
          2000,
          2010,
          2018
         ],
         "xaxis": "x",
         "y": [
          100,
          100,
          100
         ],
         "yaxis": "y"
        },
        {
         "alignmentgroup": "True",
         "hovertemplate": "Country=Côte d'Ivoire<br>Year=%{x}<br>Mean Count_median=%{y}<extra></extra>",
         "legendgroup": "Côte d'Ivoire",
         "marker": {
          "color": "#EF553B",
          "pattern": {
           "shape": ""
          }
         },
         "name": "Côte d'Ivoire",
         "offsetgroup": "Côte d'Ivoire",
         "orientation": "v",
         "showlegend": true,
         "textposition": "auto",
         "type": "bar",
         "x": [
          2000,
          2010,
          2018
         ],
         "xaxis": "x",
         "y": [
          44000,
          24000,
          16000
         ],
         "yaxis": "y"
        },
        {
         "alignmentgroup": "True",
         "hovertemplate": "Country=Democratic Republic of the Congo<br>Year=%{x}<br>Mean Count_median=%{y}<extra></extra>",
         "legendgroup": "Democratic Republic of the Congo",
         "marker": {
          "color": "#00cc96",
          "pattern": {
           "shape": ""
          }
         },
         "name": "Democratic Republic of the Congo",
         "offsetgroup": "Democratic Republic of the Congo",
         "orientation": "v",
         "showlegend": true,
         "textposition": "auto",
         "type": "bar",
         "x": [
          2000,
          2010,
          2018
         ],
         "xaxis": "x",
         "y": [
          43000,
          34000,
          13000
         ],
         "yaxis": "y"
        },
        {
         "alignmentgroup": "True",
         "hovertemplate": "Country=Equatorial Guinea<br>Year=%{x}<br>Mean Count_median=%{y}<extra></extra>",
         "legendgroup": "Equatorial Guinea",
         "marker": {
          "color": "#ab63fa",
          "pattern": {
           "shape": ""
          }
         },
         "name": "Equatorial Guinea",
         "offsetgroup": "Equatorial Guinea",
         "orientation": "v",
         "showlegend": true,
         "textposition": "auto",
         "type": "bar",
         "x": [
          2000,
          2010,
          2018
         ],
         "xaxis": "x",
         "y": [
          680,
          1400,
          1800
         ],
         "yaxis": "y"
        },
        {
         "alignmentgroup": "True",
         "hovertemplate": "Country=Eritrea<br>Year=%{x}<br>Mean Count_median=%{y}<extra></extra>",
         "legendgroup": "Eritrea",
         "marker": {
          "color": "#FFA15A",
          "pattern": {
           "shape": ""
          }
         },
         "name": "Eritrea",
         "offsetgroup": "Eritrea",
         "orientation": "v",
         "showlegend": true,
         "textposition": "auto",
         "type": "bar",
         "x": [
          2000,
          2010,
          2018
         ],
         "xaxis": "x",
         "y": [
          1100,
          620,
          500
         ],
         "yaxis": "y"
        },
        {
         "alignmentgroup": "True",
         "hovertemplate": "Country=Eswatini<br>Year=%{x}<br>Mean Count_median=%{y}<extra></extra>",
         "legendgroup": "Eswatini",
         "marker": {
          "color": "#19d3f3",
          "pattern": {
           "shape": ""
          }
         },
         "name": "Eswatini",
         "offsetgroup": "Eswatini",
         "orientation": "v",
         "showlegend": true,
         "textposition": "auto",
         "type": "bar",
         "x": [
          2000,
          2010,
          2018
         ],
         "xaxis": "x",
         "y": [
          5000,
          3800,
          2400
         ],
         "yaxis": "y"
        },
        {
         "alignmentgroup": "True",
         "hovertemplate": "Country=Ethiopia<br>Year=%{x}<br>Mean Count_median=%{y}<extra></extra>",
         "legendgroup": "Ethiopia",
         "marker": {
          "color": "#FF6692",
          "pattern": {
           "shape": ""
          }
         },
         "name": "Ethiopia",
         "offsetgroup": "Ethiopia",
         "orientation": "v",
         "showlegend": true,
         "textposition": "auto",
         "type": "bar",
         "x": [
          2000,
          2010,
          2018
         ],
         "xaxis": "x",
         "y": [
          58000,
          20000,
          11000
         ],
         "yaxis": "y"
        },
        {
         "alignmentgroup": "True",
         "hovertemplate": "Country=Gabon<br>Year=%{x}<br>Mean Count_median=%{y}<extra></extra>",
         "legendgroup": "Gabon",
         "marker": {
          "color": "#B6E880",
          "pattern": {
           "shape": ""
          }
         },
         "name": "Gabon",
         "offsetgroup": "Gabon",
         "orientation": "v",
         "showlegend": true,
         "textposition": "auto",
         "type": "bar",
         "x": [
          2000,
          2010,
          2018
         ],
         "xaxis": "x",
         "y": [
          1600,
          1600,
          1200
         ],
         "yaxis": "y"
        },
        {
         "alignmentgroup": "True",
         "hovertemplate": "Country=Gambia<br>Year=%{x}<br>Mean Count_median=%{y}<extra></extra>",
         "legendgroup": "Gambia",
         "marker": {
          "color": "#FF97FF",
          "pattern": {
           "shape": ""
          }
         },
         "name": "Gambia",
         "offsetgroup": "Gambia",
         "orientation": "v",
         "showlegend": true,
         "textposition": "auto",
         "type": "bar",
         "x": [
          2000,
          2010,
          2018
         ],
         "xaxis": "x",
         "y": [
          500,
          970,
          980
         ],
         "yaxis": "y"
        },
        {
         "alignmentgroup": "True",
         "hovertemplate": "Country=Ghana<br>Year=%{x}<br>Mean Count_median=%{y}<extra></extra>",
         "legendgroup": "Ghana",
         "marker": {
          "color": "#FECB52",
          "pattern": {
           "shape": ""
          }
         },
         "name": "Ghana",
         "offsetgroup": "Ghana",
         "orientation": "v",
         "showlegend": true,
         "textposition": "auto",
         "type": "bar",
         "x": [
          2000,
          2010,
          2018
         ],
         "xaxis": "x",
         "y": [
          18000,
          17000,
          14000
         ],
         "yaxis": "y"
        },
        {
         "alignmentgroup": "True",
         "hovertemplate": "Country=Guinea<br>Year=%{x}<br>Mean Count_median=%{y}<extra></extra>",
         "legendgroup": "Guinea",
         "marker": {
          "color": "#636efa",
          "pattern": {
           "shape": ""
          }
         },
         "name": "Guinea",
         "offsetgroup": "Guinea",
         "orientation": "v",
         "showlegend": true,
         "textposition": "auto",
         "type": "bar",
         "x": [
          2000,
          2010,
          2018
         ],
         "xaxis": "x",
         "y": [
          5000,
          4100,
          4300
         ],
         "yaxis": "y"
        },
        {
         "alignmentgroup": "True",
         "hovertemplate": "Country=Guinea-Bissau<br>Year=%{x}<br>Mean Count_median=%{y}<extra></extra>",
         "legendgroup": "Guinea-Bissau",
         "marker": {
          "color": "#EF553B",
          "pattern": {
           "shape": ""
          }
         },
         "name": "Guinea-Bissau",
         "offsetgroup": "Guinea-Bissau",
         "orientation": "v",
         "showlegend": true,
         "textposition": "auto",
         "type": "bar",
         "x": [
          2000,
          2010,
          2018
         ],
         "xaxis": "x",
         "y": [
          1100,
          1900,
          1800
         ],
         "yaxis": "y"
        },
        {
         "alignmentgroup": "True",
         "hovertemplate": "Country=Kenya<br>Year=%{x}<br>Mean Count_median=%{y}<extra></extra>",
         "legendgroup": "Kenya",
         "marker": {
          "color": "#00cc96",
          "pattern": {
           "shape": ""
          }
         },
         "name": "Kenya",
         "offsetgroup": "Kenya",
         "orientation": "v",
         "showlegend": true,
         "textposition": "auto",
         "type": "bar",
         "x": [
          2000,
          2010,
          2018
         ],
         "xaxis": "x",
         "y": [
          120000,
          56000,
          25000
         ],
         "yaxis": "y"
        },
        {
         "alignmentgroup": "True",
         "hovertemplate": "Country=Lesotho<br>Year=%{x}<br>Mean Count_median=%{y}<extra></extra>",
         "legendgroup": "Lesotho",
         "marker": {
          "color": "#ab63fa",
          "pattern": {
           "shape": ""
          }
         },
         "name": "Lesotho",
         "offsetgroup": "Lesotho",
         "orientation": "v",
         "showlegend": true,
         "textposition": "auto",
         "type": "bar",
         "x": [
          2000,
          2010,
          2018
         ],
         "xaxis": "x",
         "y": [
          12000,
          7200,
          6100
         ],
         "yaxis": "y"
        },
        {
         "alignmentgroup": "True",
         "hovertemplate": "Country=Liberia<br>Year=%{x}<br>Mean Count_median=%{y}<extra></extra>",
         "legendgroup": "Liberia",
         "marker": {
          "color": "#FFA15A",
          "pattern": {
           "shape": ""
          }
         },
         "name": "Liberia",
         "offsetgroup": "Liberia",
         "orientation": "v",
         "showlegend": true,
         "textposition": "auto",
         "type": "bar",
         "x": [
          2000,
          2010,
          2018
         ],
         "xaxis": "x",
         "y": [
          3000,
          2700,
          1800
         ],
         "yaxis": "y"
        },
        {
         "alignmentgroup": "True",
         "hovertemplate": "Country=Madagascar<br>Year=%{x}<br>Mean Count_median=%{y}<extra></extra>",
         "legendgroup": "Madagascar",
         "marker": {
          "color": "#19d3f3",
          "pattern": {
           "shape": ""
          }
         },
         "name": "Madagascar",
         "offsetgroup": "Madagascar",
         "orientation": "v",
         "showlegend": true,
         "textposition": "auto",
         "type": "bar",
         "x": [
          2000,
          2010,
          2018
         ],
         "xaxis": "x",
         "y": [
          500,
          1400,
          1700
         ],
         "yaxis": "y"
        },
        {
         "alignmentgroup": "True",
         "hovertemplate": "Country=Malawi<br>Year=%{x}<br>Mean Count_median=%{y}<extra></extra>",
         "legendgroup": "Malawi",
         "marker": {
          "color": "#FF6692",
          "pattern": {
           "shape": ""
          }
         },
         "name": "Malawi",
         "offsetgroup": "Malawi",
         "orientation": "v",
         "showlegend": true,
         "textposition": "auto",
         "type": "bar",
         "x": [
          2000,
          2010,
          2018
         ],
         "xaxis": "x",
         "y": [
          57000,
          29000,
          13000
         ],
         "yaxis": "y"
        },
        {
         "alignmentgroup": "True",
         "hovertemplate": "Country=Mali<br>Year=%{x}<br>Mean Count_median=%{y}<extra></extra>",
         "legendgroup": "Mali",
         "marker": {
          "color": "#B6E880",
          "pattern": {
           "shape": ""
          }
         },
         "name": "Mali",
         "offsetgroup": "Mali",
         "orientation": "v",
         "showlegend": true,
         "textposition": "auto",
         "type": "bar",
         "x": [
          2000,
          2010,
          2018
         ],
         "xaxis": "x",
         "y": [
          7700,
          5300,
          6500
         ],
         "yaxis": "y"
        },
        {
         "alignmentgroup": "True",
         "hovertemplate": "Country=Mauritania<br>Year=%{x}<br>Mean Count_median=%{y}<extra></extra>",
         "legendgroup": "Mauritania",
         "marker": {
          "color": "#FF97FF",
          "pattern": {
           "shape": ""
          }
         },
         "name": "Mauritania",
         "offsetgroup": "Mauritania",
         "orientation": "v",
         "showlegend": true,
         "textposition": "auto",
         "type": "bar",
         "x": [
          2000,
          2010,
          2018
         ],
         "xaxis": "x",
         "y": [
          500,
          500,
          500
         ],
         "yaxis": "y"
        },
        {
         "alignmentgroup": "True",
         "hovertemplate": "Country=Mauritius<br>Year=%{x}<br>Mean Count_median=%{y}<extra></extra>",
         "legendgroup": "Mauritius",
         "marker": {
          "color": "#FECB52",
          "pattern": {
           "shape": ""
          }
         },
         "name": "Mauritius",
         "offsetgroup": "Mauritius",
         "orientation": "v",
         "showlegend": true,
         "textposition": "auto",
         "type": "bar",
         "x": [
          2000,
          2010,
          2018
         ],
         "xaxis": "x",
         "y": [
          100,
          500,
          610
         ],
         "yaxis": "y"
        },
        {
         "alignmentgroup": "True",
         "hovertemplate": "Country=Mozambique<br>Year=%{x}<br>Mean Count_median=%{y}<extra></extra>",
         "legendgroup": "Mozambique",
         "marker": {
          "color": "#636efa",
          "pattern": {
           "shape": ""
          }
         },
         "name": "Mozambique",
         "offsetgroup": "Mozambique",
         "orientation": "v",
         "showlegend": true,
         "textposition": "auto",
         "type": "bar",
         "x": [
          2000,
          2010,
          2018
         ],
         "xaxis": "x",
         "y": [
          40000,
          64000,
          54000
         ],
         "yaxis": "y"
        },
        {
         "alignmentgroup": "True",
         "hovertemplate": "Country=Namibia<br>Year=%{x}<br>Mean Count_median=%{y}<extra></extra>",
         "legendgroup": "Namibia",
         "marker": {
          "color": "#EF553B",
          "pattern": {
           "shape": ""
          }
         },
         "name": "Namibia",
         "offsetgroup": "Namibia",
         "orientation": "v",
         "showlegend": true,
         "textposition": "auto",
         "type": "bar",
         "x": [
          2000,
          2010,
          2018
         ],
         "xaxis": "x",
         "y": [
          7300,
          3500,
          2700
         ],
         "yaxis": "y"
        },
        {
         "alignmentgroup": "True",
         "hovertemplate": "Country=Niger<br>Year=%{x}<br>Mean Count_median=%{y}<extra></extra>",
         "legendgroup": "Niger",
         "marker": {
          "color": "#00cc96",
          "pattern": {
           "shape": ""
          }
         },
         "name": "Niger",
         "offsetgroup": "Niger",
         "orientation": "v",
         "showlegend": true,
         "textposition": "auto",
         "type": "bar",
         "x": [
          2000,
          2010,
          2018
         ],
         "xaxis": "x",
         "y": [
          2300,
          1700,
          1200
         ],
         "yaxis": "y"
        },
        {
         "alignmentgroup": "True",
         "hovertemplate": "Country=Nigeria<br>Year=%{x}<br>Mean Count_median=%{y}<extra></extra>",
         "legendgroup": "Nigeria",
         "marker": {
          "color": "#ab63fa",
          "pattern": {
           "shape": ""
          }
         },
         "name": "Nigeria",
         "offsetgroup": "Nigeria",
         "orientation": "v",
         "showlegend": true,
         "textposition": "auto",
         "type": "bar",
         "x": [
          2000,
          2010,
          2018
         ],
         "xaxis": "x",
         "y": [
          78000,
          72000,
          53000
         ],
         "yaxis": "y"
        },
        {
         "alignmentgroup": "True",
         "hovertemplate": "Country=Rwanda<br>Year=%{x}<br>Mean Count_median=%{y}<extra></extra>",
         "legendgroup": "Rwanda",
         "marker": {
          "color": "#FFA15A",
          "pattern": {
           "shape": ""
          }
         },
         "name": "Rwanda",
         "offsetgroup": "Rwanda",
         "orientation": "v",
         "showlegend": true,
         "textposition": "auto",
         "type": "bar",
         "x": [
          2000,
          2010,
          2018
         ],
         "xaxis": "x",
         "y": [
          18000,
          5700,
          2900
         ],
         "yaxis": "y"
        },
        {
         "alignmentgroup": "True",
         "hovertemplate": "Country=Senegal<br>Year=%{x}<br>Mean Count_median=%{y}<extra></extra>",
         "legendgroup": "Senegal",
         "marker": {
          "color": "#19d3f3",
          "pattern": {
           "shape": ""
          }
         },
         "name": "Senegal",
         "offsetgroup": "Senegal",
         "orientation": "v",
         "showlegend": true,
         "textposition": "auto",
         "type": "bar",
         "x": [
          2000,
          2010,
          2018
         ],
         "xaxis": "x",
         "y": [
          1700,
          1300,
          1300
         ],
         "yaxis": "y"
        },
        {
         "alignmentgroup": "True",
         "hovertemplate": "Country=Sierra Leone<br>Year=%{x}<br>Mean Count_median=%{y}<extra></extra>",
         "legendgroup": "Sierra Leone",
         "marker": {
          "color": "#FF6692",
          "pattern": {
           "shape": ""
          }
         },
         "name": "Sierra Leone",
         "offsetgroup": "Sierra Leone",
         "orientation": "v",
         "showlegend": true,
         "textposition": "auto",
         "type": "bar",
         "x": [
          2000,
          2010,
          2018
         ],
         "xaxis": "x",
         "y": [
          2400,
          2900,
          2100
         ],
         "yaxis": "y"
        },
        {
         "alignmentgroup": "True",
         "hovertemplate": "Country=South Africa<br>Year=%{x}<br>Mean Count_median=%{y}<extra></extra>",
         "legendgroup": "South Africa",
         "marker": {
          "color": "#B6E880",
          "pattern": {
           "shape": ""
          }
         },
         "name": "South Africa",
         "offsetgroup": "South Africa",
         "orientation": "v",
         "showlegend": true,
         "textposition": "auto",
         "type": "bar",
         "x": [
          2000,
          2010,
          2018
         ],
         "xaxis": "x",
         "y": [
          100000,
          140000,
          71000
         ],
         "yaxis": "y"
        },
        {
         "alignmentgroup": "True",
         "hovertemplate": "Country=South Sudan<br>Year=%{x}<br>Mean Count_median=%{y}<extra></extra>",
         "legendgroup": "South Sudan",
         "marker": {
          "color": "#FF97FF",
          "pattern": {
           "shape": ""
          }
         },
         "name": "South Sudan",
         "offsetgroup": "South Sudan",
         "orientation": "v",
         "showlegend": true,
         "textposition": "auto",
         "type": "bar",
         "x": [
          2000,
          2010,
          2018
         ],
         "xaxis": "x",
         "y": [
          5100,
          9800,
          9900
         ],
         "yaxis": "y"
        },
        {
         "alignmentgroup": "True",
         "hovertemplate": "Country=Togo<br>Year=%{x}<br>Mean Count_median=%{y}<extra></extra>",
         "legendgroup": "Togo",
         "marker": {
          "color": "#FECB52",
          "pattern": {
           "shape": ""
          }
         },
         "name": "Togo",
         "offsetgroup": "Togo",
         "orientation": "v",
         "showlegend": true,
         "textposition": "auto",
         "type": "bar",
         "x": [
          2000,
          2010,
          2018
         ],
         "xaxis": "x",
         "y": [
          5600,
          5700,
          3800
         ],
         "yaxis": "y"
        },
        {
         "alignmentgroup": "True",
         "hovertemplate": "Country=Uganda<br>Year=%{x}<br>Mean Count_median=%{y}<extra></extra>",
         "legendgroup": "Uganda",
         "marker": {
          "color": "#636efa",
          "pattern": {
           "shape": ""
          }
         },
         "name": "Uganda",
         "offsetgroup": "Uganda",
         "orientation": "v",
         "showlegend": true,
         "textposition": "auto",
         "type": "bar",
         "x": [
          2000,
          2010,
          2018
         ],
         "xaxis": "x",
         "y": [
          85000,
          56000,
          23000
         ],
         "yaxis": "y"
        },
        {
         "alignmentgroup": "True",
         "hovertemplate": "Country=United Republic of Tanzania<br>Year=%{x}<br>Mean Count_median=%{y}<extra></extra>",
         "legendgroup": "United Republic of Tanzania",
         "marker": {
          "color": "#EF553B",
          "pattern": {
           "shape": ""
          }
         },
         "name": "United Republic of Tanzania",
         "offsetgroup": "United Republic of Tanzania",
         "orientation": "v",
         "showlegend": true,
         "textposition": "auto",
         "type": "bar",
         "x": [
          2000,
          2010,
          2018
         ],
         "xaxis": "x",
         "y": [
          80000,
          48000,
          24000
         ],
         "yaxis": "y"
        },
        {
         "alignmentgroup": "True",
         "hovertemplate": "Country=Zambia<br>Year=%{x}<br>Mean Count_median=%{y}<extra></extra>",
         "legendgroup": "Zambia",
         "marker": {
          "color": "#00cc96",
          "pattern": {
           "shape": ""
          }
         },
         "name": "Zambia",
         "offsetgroup": "Zambia",
         "orientation": "v",
         "showlegend": true,
         "textposition": "auto",
         "type": "bar",
         "x": [
          2000,
          2010,
          2018
         ],
         "xaxis": "x",
         "y": [
          62000,
          26000,
          17000
         ],
         "yaxis": "y"
        },
        {
         "alignmentgroup": "True",
         "hovertemplate": "Country=Zimbabwe<br>Year=%{x}<br>Mean Count_median=%{y}<extra></extra>",
         "legendgroup": "Zimbabwe",
         "marker": {
          "color": "#ab63fa",
          "pattern": {
           "shape": ""
          }
         },
         "name": "Zimbabwe",
         "offsetgroup": "Zimbabwe",
         "orientation": "v",
         "showlegend": true,
         "textposition": "auto",
         "type": "bar",
         "x": [
          2000,
          2010,
          2018
         ],
         "xaxis": "x",
         "y": [
          120000,
          54000,
          22000
         ],
         "yaxis": "y"
        }
       ],
       "layout": {
        "barmode": "relative",
        "legend": {
         "title": {
          "text": "Country"
         },
         "tracegroupgap": 0
        },
        "template": {
         "data": {
          "bar": [
           {
            "error_x": {
             "color": "#2a3f5f"
            },
            "error_y": {
             "color": "#2a3f5f"
            },
            "marker": {
             "line": {
              "color": "#E5ECF6",
              "width": 0.5
             },
             "pattern": {
              "fillmode": "overlay",
              "size": 10,
              "solidity": 0.2
             }
            },
            "type": "bar"
           }
          ],
          "barpolar": [
           {
            "marker": {
             "line": {
              "color": "#E5ECF6",
              "width": 0.5
             },
             "pattern": {
              "fillmode": "overlay",
              "size": 10,
              "solidity": 0.2
             }
            },
            "type": "barpolar"
           }
          ],
          "carpet": [
           {
            "aaxis": {
             "endlinecolor": "#2a3f5f",
             "gridcolor": "white",
             "linecolor": "white",
             "minorgridcolor": "white",
             "startlinecolor": "#2a3f5f"
            },
            "baxis": {
             "endlinecolor": "#2a3f5f",
             "gridcolor": "white",
             "linecolor": "white",
             "minorgridcolor": "white",
             "startlinecolor": "#2a3f5f"
            },
            "type": "carpet"
           }
          ],
          "choropleth": [
           {
            "colorbar": {
             "outlinewidth": 0,
             "ticks": ""
            },
            "type": "choropleth"
           }
          ],
          "contour": [
           {
            "colorbar": {
             "outlinewidth": 0,
             "ticks": ""
            },
            "colorscale": [
             [
              0,
              "#0d0887"
             ],
             [
              0.1111111111111111,
              "#46039f"
             ],
             [
              0.2222222222222222,
              "#7201a8"
             ],
             [
              0.3333333333333333,
              "#9c179e"
             ],
             [
              0.4444444444444444,
              "#bd3786"
             ],
             [
              0.5555555555555556,
              "#d8576b"
             ],
             [
              0.6666666666666666,
              "#ed7953"
             ],
             [
              0.7777777777777778,
              "#fb9f3a"
             ],
             [
              0.8888888888888888,
              "#fdca26"
             ],
             [
              1,
              "#f0f921"
             ]
            ],
            "type": "contour"
           }
          ],
          "contourcarpet": [
           {
            "colorbar": {
             "outlinewidth": 0,
             "ticks": ""
            },
            "type": "contourcarpet"
           }
          ],
          "heatmap": [
           {
            "colorbar": {
             "outlinewidth": 0,
             "ticks": ""
            },
            "colorscale": [
             [
              0,
              "#0d0887"
             ],
             [
              0.1111111111111111,
              "#46039f"
             ],
             [
              0.2222222222222222,
              "#7201a8"
             ],
             [
              0.3333333333333333,
              "#9c179e"
             ],
             [
              0.4444444444444444,
              "#bd3786"
             ],
             [
              0.5555555555555556,
              "#d8576b"
             ],
             [
              0.6666666666666666,
              "#ed7953"
             ],
             [
              0.7777777777777778,
              "#fb9f3a"
             ],
             [
              0.8888888888888888,
              "#fdca26"
             ],
             [
              1,
              "#f0f921"
             ]
            ],
            "type": "heatmap"
           }
          ],
          "heatmapgl": [
           {
            "colorbar": {
             "outlinewidth": 0,
             "ticks": ""
            },
            "colorscale": [
             [
              0,
              "#0d0887"
             ],
             [
              0.1111111111111111,
              "#46039f"
             ],
             [
              0.2222222222222222,
              "#7201a8"
             ],
             [
              0.3333333333333333,
              "#9c179e"
             ],
             [
              0.4444444444444444,
              "#bd3786"
             ],
             [
              0.5555555555555556,
              "#d8576b"
             ],
             [
              0.6666666666666666,
              "#ed7953"
             ],
             [
              0.7777777777777778,
              "#fb9f3a"
             ],
             [
              0.8888888888888888,
              "#fdca26"
             ],
             [
              1,
              "#f0f921"
             ]
            ],
            "type": "heatmapgl"
           }
          ],
          "histogram": [
           {
            "marker": {
             "pattern": {
              "fillmode": "overlay",
              "size": 10,
              "solidity": 0.2
             }
            },
            "type": "histogram"
           }
          ],
          "histogram2d": [
           {
            "colorbar": {
             "outlinewidth": 0,
             "ticks": ""
            },
            "colorscale": [
             [
              0,
              "#0d0887"
             ],
             [
              0.1111111111111111,
              "#46039f"
             ],
             [
              0.2222222222222222,
              "#7201a8"
             ],
             [
              0.3333333333333333,
              "#9c179e"
             ],
             [
              0.4444444444444444,
              "#bd3786"
             ],
             [
              0.5555555555555556,
              "#d8576b"
             ],
             [
              0.6666666666666666,
              "#ed7953"
             ],
             [
              0.7777777777777778,
              "#fb9f3a"
             ],
             [
              0.8888888888888888,
              "#fdca26"
             ],
             [
              1,
              "#f0f921"
             ]
            ],
            "type": "histogram2d"
           }
          ],
          "histogram2dcontour": [
           {
            "colorbar": {
             "outlinewidth": 0,
             "ticks": ""
            },
            "colorscale": [
             [
              0,
              "#0d0887"
             ],
             [
              0.1111111111111111,
              "#46039f"
             ],
             [
              0.2222222222222222,
              "#7201a8"
             ],
             [
              0.3333333333333333,
              "#9c179e"
             ],
             [
              0.4444444444444444,
              "#bd3786"
             ],
             [
              0.5555555555555556,
              "#d8576b"
             ],
             [
              0.6666666666666666,
              "#ed7953"
             ],
             [
              0.7777777777777778,
              "#fb9f3a"
             ],
             [
              0.8888888888888888,
              "#fdca26"
             ],
             [
              1,
              "#f0f921"
             ]
            ],
            "type": "histogram2dcontour"
           }
          ],
          "mesh3d": [
           {
            "colorbar": {
             "outlinewidth": 0,
             "ticks": ""
            },
            "type": "mesh3d"
           }
          ],
          "parcoords": [
           {
            "line": {
             "colorbar": {
              "outlinewidth": 0,
              "ticks": ""
             }
            },
            "type": "parcoords"
           }
          ],
          "pie": [
           {
            "automargin": true,
            "type": "pie"
           }
          ],
          "scatter": [
           {
            "fillpattern": {
             "fillmode": "overlay",
             "size": 10,
             "solidity": 0.2
            },
            "type": "scatter"
           }
          ],
          "scatter3d": [
           {
            "line": {
             "colorbar": {
              "outlinewidth": 0,
              "ticks": ""
             }
            },
            "marker": {
             "colorbar": {
              "outlinewidth": 0,
              "ticks": ""
             }
            },
            "type": "scatter3d"
           }
          ],
          "scattercarpet": [
           {
            "marker": {
             "colorbar": {
              "outlinewidth": 0,
              "ticks": ""
             }
            },
            "type": "scattercarpet"
           }
          ],
          "scattergeo": [
           {
            "marker": {
             "colorbar": {
              "outlinewidth": 0,
              "ticks": ""
             }
            },
            "type": "scattergeo"
           }
          ],
          "scattergl": [
           {
            "marker": {
             "colorbar": {
              "outlinewidth": 0,
              "ticks": ""
             }
            },
            "type": "scattergl"
           }
          ],
          "scattermapbox": [
           {
            "marker": {
             "colorbar": {
              "outlinewidth": 0,
              "ticks": ""
             }
            },
            "type": "scattermapbox"
           }
          ],
          "scatterpolar": [
           {
            "marker": {
             "colorbar": {
              "outlinewidth": 0,
              "ticks": ""
             }
            },
            "type": "scatterpolar"
           }
          ],
          "scatterpolargl": [
           {
            "marker": {
             "colorbar": {
              "outlinewidth": 0,
              "ticks": ""
             }
            },
            "type": "scatterpolargl"
           }
          ],
          "scatterternary": [
           {
            "marker": {
             "colorbar": {
              "outlinewidth": 0,
              "ticks": ""
             }
            },
            "type": "scatterternary"
           }
          ],
          "surface": [
           {
            "colorbar": {
             "outlinewidth": 0,
             "ticks": ""
            },
            "colorscale": [
             [
              0,
              "#0d0887"
             ],
             [
              0.1111111111111111,
              "#46039f"
             ],
             [
              0.2222222222222222,
              "#7201a8"
             ],
             [
              0.3333333333333333,
              "#9c179e"
             ],
             [
              0.4444444444444444,
              "#bd3786"
             ],
             [
              0.5555555555555556,
              "#d8576b"
             ],
             [
              0.6666666666666666,
              "#ed7953"
             ],
             [
              0.7777777777777778,
              "#fb9f3a"
             ],
             [
              0.8888888888888888,
              "#fdca26"
             ],
             [
              1,
              "#f0f921"
             ]
            ],
            "type": "surface"
           }
          ],
          "table": [
           {
            "cells": {
             "fill": {
              "color": "#EBF0F8"
             },
             "line": {
              "color": "white"
             }
            },
            "header": {
             "fill": {
              "color": "#C8D4E3"
             },
             "line": {
              "color": "white"
             }
            },
            "type": "table"
           }
          ]
         },
         "layout": {
          "annotationdefaults": {
           "arrowcolor": "#2a3f5f",
           "arrowhead": 0,
           "arrowwidth": 1
          },
          "autotypenumbers": "strict",
          "coloraxis": {
           "colorbar": {
            "outlinewidth": 0,
            "ticks": ""
           }
          },
          "colorscale": {
           "diverging": [
            [
             0,
             "#8e0152"
            ],
            [
             0.1,
             "#c51b7d"
            ],
            [
             0.2,
             "#de77ae"
            ],
            [
             0.3,
             "#f1b6da"
            ],
            [
             0.4,
             "#fde0ef"
            ],
            [
             0.5,
             "#f7f7f7"
            ],
            [
             0.6,
             "#e6f5d0"
            ],
            [
             0.7,
             "#b8e186"
            ],
            [
             0.8,
             "#7fbc41"
            ],
            [
             0.9,
             "#4d9221"
            ],
            [
             1,
             "#276419"
            ]
           ],
           "sequential": [
            [
             0,
             "#0d0887"
            ],
            [
             0.1111111111111111,
             "#46039f"
            ],
            [
             0.2222222222222222,
             "#7201a8"
            ],
            [
             0.3333333333333333,
             "#9c179e"
            ],
            [
             0.4444444444444444,
             "#bd3786"
            ],
            [
             0.5555555555555556,
             "#d8576b"
            ],
            [
             0.6666666666666666,
             "#ed7953"
            ],
            [
             0.7777777777777778,
             "#fb9f3a"
            ],
            [
             0.8888888888888888,
             "#fdca26"
            ],
            [
             1,
             "#f0f921"
            ]
           ],
           "sequentialminus": [
            [
             0,
             "#0d0887"
            ],
            [
             0.1111111111111111,
             "#46039f"
            ],
            [
             0.2222222222222222,
             "#7201a8"
            ],
            [
             0.3333333333333333,
             "#9c179e"
            ],
            [
             0.4444444444444444,
             "#bd3786"
            ],
            [
             0.5555555555555556,
             "#d8576b"
            ],
            [
             0.6666666666666666,
             "#ed7953"
            ],
            [
             0.7777777777777778,
             "#fb9f3a"
            ],
            [
             0.8888888888888888,
             "#fdca26"
            ],
            [
             1,
             "#f0f921"
            ]
           ]
          },
          "colorway": [
           "#636efa",
           "#EF553B",
           "#00cc96",
           "#ab63fa",
           "#FFA15A",
           "#19d3f3",
           "#FF6692",
           "#B6E880",
           "#FF97FF",
           "#FECB52"
          ],
          "font": {
           "color": "#2a3f5f"
          },
          "geo": {
           "bgcolor": "white",
           "lakecolor": "white",
           "landcolor": "#E5ECF6",
           "showlakes": true,
           "showland": true,
           "subunitcolor": "white"
          },
          "hoverlabel": {
           "align": "left"
          },
          "hovermode": "closest",
          "mapbox": {
           "style": "light"
          },
          "paper_bgcolor": "white",
          "plot_bgcolor": "#E5ECF6",
          "polar": {
           "angularaxis": {
            "gridcolor": "white",
            "linecolor": "white",
            "ticks": ""
           },
           "bgcolor": "#E5ECF6",
           "radialaxis": {
            "gridcolor": "white",
            "linecolor": "white",
            "ticks": ""
           }
          },
          "scene": {
           "xaxis": {
            "backgroundcolor": "#E5ECF6",
            "gridcolor": "white",
            "gridwidth": 2,
            "linecolor": "white",
            "showbackground": true,
            "ticks": "",
            "zerolinecolor": "white"
           },
           "yaxis": {
            "backgroundcolor": "#E5ECF6",
            "gridcolor": "white",
            "gridwidth": 2,
            "linecolor": "white",
            "showbackground": true,
            "ticks": "",
            "zerolinecolor": "white"
           },
           "zaxis": {
            "backgroundcolor": "#E5ECF6",
            "gridcolor": "white",
            "gridwidth": 2,
            "linecolor": "white",
            "showbackground": true,
            "ticks": "",
            "zerolinecolor": "white"
           }
          },
          "shapedefaults": {
           "line": {
            "color": "#2a3f5f"
           }
          },
          "ternary": {
           "aaxis": {
            "gridcolor": "white",
            "linecolor": "white",
            "ticks": ""
           },
           "baxis": {
            "gridcolor": "white",
            "linecolor": "white",
            "ticks": ""
           },
           "bgcolor": "#E5ECF6",
           "caxis": {
            "gridcolor": "white",
            "linecolor": "white",
            "ticks": ""
           }
          },
          "title": {
           "x": 0.05
          },
          "xaxis": {
           "automargin": true,
           "gridcolor": "white",
           "linecolor": "white",
           "ticks": "",
           "title": {
            "standoff": 15
           },
           "zerolinecolor": "white",
           "zerolinewidth": 2
          },
          "yaxis": {
           "automargin": true,
           "gridcolor": "white",
           "linecolor": "white",
           "ticks": "",
           "title": {
            "standoff": 15
           },
           "zerolinecolor": "white",
           "zerolinewidth": 2
          }
         }
        },
        "title": {
         "text": "Mean Count_median by Country and Year in Africa"
        },
        "xaxis": {
         "anchor": "y",
         "domain": [
          0,
          1
         ],
         "title": {
          "text": "Year"
         }
        },
        "yaxis": {
         "anchor": "x",
         "domain": [
          0,
          1
         ],
         "title": {
          "text": "Mean Count_median"
         }
        }
       }
      },
      "text/html": [
       "<div>                            <div id=\"6be12d60-3de9-4733-bca1-acc086bdd10d\" class=\"plotly-graph-div\" style=\"height:525px; width:100%;\"></div>            <script type=\"text/javascript\">                require([\"plotly\"], function(Plotly) {                    window.PLOTLYENV=window.PLOTLYENV || {};                                    if (document.getElementById(\"6be12d60-3de9-4733-bca1-acc086bdd10d\")) {                    Plotly.newPlot(                        \"6be12d60-3de9-4733-bca1-acc086bdd10d\",                        [{\"alignmentgroup\":\"True\",\"hovertemplate\":\"Country=Algeria<br>Year=%{x}<br>Mean Count_median=%{y}<extra></extra>\",\"legendgroup\":\"Algeria\",\"marker\":{\"color\":\"#636efa\",\"pattern\":{\"shape\":\"\"}},\"name\":\"Algeria\",\"offsetgroup\":\"Algeria\",\"orientation\":\"v\",\"showlegend\":true,\"textposition\":\"auto\",\"x\":[2000,2010,2018],\"xaxis\":\"x\",\"y\":[100.0,200.0,200.0],\"yaxis\":\"y\",\"type\":\"bar\"},{\"alignmentgroup\":\"True\",\"hovertemplate\":\"Country=Angola<br>Year=%{x}<br>Mean Count_median=%{y}<extra></extra>\",\"legendgroup\":\"Angola\",\"marker\":{\"color\":\"#EF553B\",\"pattern\":{\"shape\":\"\"}},\"name\":\"Angola\",\"offsetgroup\":\"Angola\",\"orientation\":\"v\",\"showlegend\":true,\"textposition\":\"auto\",\"x\":[2000,2010,2018],\"xaxis\":\"x\",\"y\":[4800.0,10000.0,14000.0],\"yaxis\":\"y\",\"type\":\"bar\"},{\"alignmentgroup\":\"True\",\"hovertemplate\":\"Country=Benin<br>Year=%{x}<br>Mean Count_median=%{y}<extra></extra>\",\"legendgroup\":\"Benin\",\"marker\":{\"color\":\"#00cc96\",\"pattern\":{\"shape\":\"\"}},\"name\":\"Benin\",\"offsetgroup\":\"Benin\",\"orientation\":\"v\",\"showlegend\":true,\"textposition\":\"auto\",\"x\":[2000,2010,2018],\"xaxis\":\"x\",\"y\":[2400.0,2000.0,2200.0],\"yaxis\":\"y\",\"type\":\"bar\"},{\"alignmentgroup\":\"True\",\"hovertemplate\":\"Country=Botswana<br>Year=%{x}<br>Mean Count_median=%{y}<extra></extra>\",\"legendgroup\":\"Botswana\",\"marker\":{\"color\":\"#ab63fa\",\"pattern\":{\"shape\":\"\"}},\"name\":\"Botswana\",\"offsetgroup\":\"Botswana\",\"orientation\":\"v\",\"showlegend\":true,\"textposition\":\"auto\",\"x\":[2000,2010,2018],\"xaxis\":\"x\",\"y\":[15000.0,7300.0,4800.0],\"yaxis\":\"y\",\"type\":\"bar\"},{\"alignmentgroup\":\"True\",\"hovertemplate\":\"Country=Burkina Faso<br>Year=%{x}<br>Mean Count_median=%{y}<extra></extra>\",\"legendgroup\":\"Burkina Faso\",\"marker\":{\"color\":\"#FFA15A\",\"pattern\":{\"shape\":\"\"}},\"name\":\"Burkina Faso\",\"offsetgroup\":\"Burkina Faso\",\"orientation\":\"v\",\"showlegend\":true,\"textposition\":\"auto\",\"x\":[2000,2010,2018],\"xaxis\":\"x\",\"y\":[12000.0,4800.0,3300.0],\"yaxis\":\"y\",\"type\":\"bar\"},{\"alignmentgroup\":\"True\",\"hovertemplate\":\"Country=Burundi<br>Year=%{x}<br>Mean Count_median=%{y}<extra></extra>\",\"legendgroup\":\"Burundi\",\"marker\":{\"color\":\"#19d3f3\",\"pattern\":{\"shape\":\"\"}},\"name\":\"Burundi\",\"offsetgroup\":\"Burundi\",\"orientation\":\"v\",\"showlegend\":true,\"textposition\":\"auto\",\"x\":[2000,2010,2018],\"xaxis\":\"x\",\"y\":[11000.0,5200.0,1900.0],\"yaxis\":\"y\",\"type\":\"bar\"},{\"alignmentgroup\":\"True\",\"hovertemplate\":\"Country=Cabo Verde<br>Year=%{x}<br>Mean Count_median=%{y}<extra></extra>\",\"legendgroup\":\"Cabo Verde\",\"marker\":{\"color\":\"#FF6692\",\"pattern\":{\"shape\":\"\"}},\"name\":\"Cabo Verde\",\"offsetgroup\":\"Cabo Verde\",\"orientation\":\"v\",\"showlegend\":true,\"textposition\":\"auto\",\"x\":[2000,2010,2018],\"xaxis\":\"x\",\"y\":[200.0,100.0,100.0],\"yaxis\":\"y\",\"type\":\"bar\"},{\"alignmentgroup\":\"True\",\"hovertemplate\":\"Country=Cameroon<br>Year=%{x}<br>Mean Count_median=%{y}<extra></extra>\",\"legendgroup\":\"Cameroon\",\"marker\":{\"color\":\"#B6E880\",\"pattern\":{\"shape\":\"\"}},\"name\":\"Cameroon\",\"offsetgroup\":\"Cameroon\",\"orientation\":\"v\",\"showlegend\":true,\"textposition\":\"auto\",\"x\":[2000,2010,2018],\"xaxis\":\"x\",\"y\":[19000.0,22000.0,18000.0],\"yaxis\":\"y\",\"type\":\"bar\"},{\"alignmentgroup\":\"True\",\"hovertemplate\":\"Country=Central African Republic<br>Year=%{x}<br>Mean Count_median=%{y}<extra></extra>\",\"legendgroup\":\"Central African Republic\",\"marker\":{\"color\":\"#FF97FF\",\"pattern\":{\"shape\":\"\"}},\"name\":\"Central African Republic\",\"offsetgroup\":\"Central African Republic\",\"orientation\":\"v\",\"showlegend\":true,\"textposition\":\"auto\",\"x\":[2000,2010,2018],\"xaxis\":\"x\",\"y\":[11000.0,7800.0,4800.0],\"yaxis\":\"y\",\"type\":\"bar\"},{\"alignmentgroup\":\"True\",\"hovertemplate\":\"Country=Chad<br>Year=%{x}<br>Mean Count_median=%{y}<extra></extra>\",\"legendgroup\":\"Chad\",\"marker\":{\"color\":\"#FECB52\",\"pattern\":{\"shape\":\"\"}},\"name\":\"Chad\",\"offsetgroup\":\"Chad\",\"orientation\":\"v\",\"showlegend\":true,\"textposition\":\"auto\",\"x\":[2000,2010,2018],\"xaxis\":\"x\",\"y\":[5600.0,3500.0,3100.0],\"yaxis\":\"y\",\"type\":\"bar\"},{\"alignmentgroup\":\"True\",\"hovertemplate\":\"Country=Comoros<br>Year=%{x}<br>Mean Count_median=%{y}<extra></extra>\",\"legendgroup\":\"Comoros\",\"marker\":{\"color\":\"#636efa\",\"pattern\":{\"shape\":\"\"}},\"name\":\"Comoros\",\"offsetgroup\":\"Comoros\",\"orientation\":\"v\",\"showlegend\":true,\"textposition\":\"auto\",\"x\":[2000,2010,2018],\"xaxis\":\"x\",\"y\":[100.0,100.0,100.0],\"yaxis\":\"y\",\"type\":\"bar\"},{\"alignmentgroup\":\"True\",\"hovertemplate\":\"Country=C\\u00f4te d'Ivoire<br>Year=%{x}<br>Mean Count_median=%{y}<extra></extra>\",\"legendgroup\":\"C\\u00f4te d'Ivoire\",\"marker\":{\"color\":\"#EF553B\",\"pattern\":{\"shape\":\"\"}},\"name\":\"C\\u00f4te d'Ivoire\",\"offsetgroup\":\"C\\u00f4te d'Ivoire\",\"orientation\":\"v\",\"showlegend\":true,\"textposition\":\"auto\",\"x\":[2000,2010,2018],\"xaxis\":\"x\",\"y\":[44000.0,24000.0,16000.0],\"yaxis\":\"y\",\"type\":\"bar\"},{\"alignmentgroup\":\"True\",\"hovertemplate\":\"Country=Democratic Republic of the Congo<br>Year=%{x}<br>Mean Count_median=%{y}<extra></extra>\",\"legendgroup\":\"Democratic Republic of the Congo\",\"marker\":{\"color\":\"#00cc96\",\"pattern\":{\"shape\":\"\"}},\"name\":\"Democratic Republic of the Congo\",\"offsetgroup\":\"Democratic Republic of the Congo\",\"orientation\":\"v\",\"showlegend\":true,\"textposition\":\"auto\",\"x\":[2000,2010,2018],\"xaxis\":\"x\",\"y\":[43000.0,34000.0,13000.0],\"yaxis\":\"y\",\"type\":\"bar\"},{\"alignmentgroup\":\"True\",\"hovertemplate\":\"Country=Equatorial Guinea<br>Year=%{x}<br>Mean Count_median=%{y}<extra></extra>\",\"legendgroup\":\"Equatorial Guinea\",\"marker\":{\"color\":\"#ab63fa\",\"pattern\":{\"shape\":\"\"}},\"name\":\"Equatorial Guinea\",\"offsetgroup\":\"Equatorial Guinea\",\"orientation\":\"v\",\"showlegend\":true,\"textposition\":\"auto\",\"x\":[2000,2010,2018],\"xaxis\":\"x\",\"y\":[680.0,1400.0,1800.0],\"yaxis\":\"y\",\"type\":\"bar\"},{\"alignmentgroup\":\"True\",\"hovertemplate\":\"Country=Eritrea<br>Year=%{x}<br>Mean Count_median=%{y}<extra></extra>\",\"legendgroup\":\"Eritrea\",\"marker\":{\"color\":\"#FFA15A\",\"pattern\":{\"shape\":\"\"}},\"name\":\"Eritrea\",\"offsetgroup\":\"Eritrea\",\"orientation\":\"v\",\"showlegend\":true,\"textposition\":\"auto\",\"x\":[2000,2010,2018],\"xaxis\":\"x\",\"y\":[1100.0,620.0,500.0],\"yaxis\":\"y\",\"type\":\"bar\"},{\"alignmentgroup\":\"True\",\"hovertemplate\":\"Country=Eswatini<br>Year=%{x}<br>Mean Count_median=%{y}<extra></extra>\",\"legendgroup\":\"Eswatini\",\"marker\":{\"color\":\"#19d3f3\",\"pattern\":{\"shape\":\"\"}},\"name\":\"Eswatini\",\"offsetgroup\":\"Eswatini\",\"orientation\":\"v\",\"showlegend\":true,\"textposition\":\"auto\",\"x\":[2000,2010,2018],\"xaxis\":\"x\",\"y\":[5000.0,3800.0,2400.0],\"yaxis\":\"y\",\"type\":\"bar\"},{\"alignmentgroup\":\"True\",\"hovertemplate\":\"Country=Ethiopia<br>Year=%{x}<br>Mean Count_median=%{y}<extra></extra>\",\"legendgroup\":\"Ethiopia\",\"marker\":{\"color\":\"#FF6692\",\"pattern\":{\"shape\":\"\"}},\"name\":\"Ethiopia\",\"offsetgroup\":\"Ethiopia\",\"orientation\":\"v\",\"showlegend\":true,\"textposition\":\"auto\",\"x\":[2000,2010,2018],\"xaxis\":\"x\",\"y\":[58000.0,20000.0,11000.0],\"yaxis\":\"y\",\"type\":\"bar\"},{\"alignmentgroup\":\"True\",\"hovertemplate\":\"Country=Gabon<br>Year=%{x}<br>Mean Count_median=%{y}<extra></extra>\",\"legendgroup\":\"Gabon\",\"marker\":{\"color\":\"#B6E880\",\"pattern\":{\"shape\":\"\"}},\"name\":\"Gabon\",\"offsetgroup\":\"Gabon\",\"orientation\":\"v\",\"showlegend\":true,\"textposition\":\"auto\",\"x\":[2000,2010,2018],\"xaxis\":\"x\",\"y\":[1600.0,1600.0,1200.0],\"yaxis\":\"y\",\"type\":\"bar\"},{\"alignmentgroup\":\"True\",\"hovertemplate\":\"Country=Gambia<br>Year=%{x}<br>Mean Count_median=%{y}<extra></extra>\",\"legendgroup\":\"Gambia\",\"marker\":{\"color\":\"#FF97FF\",\"pattern\":{\"shape\":\"\"}},\"name\":\"Gambia\",\"offsetgroup\":\"Gambia\",\"orientation\":\"v\",\"showlegend\":true,\"textposition\":\"auto\",\"x\":[2000,2010,2018],\"xaxis\":\"x\",\"y\":[500.0,970.0,980.0],\"yaxis\":\"y\",\"type\":\"bar\"},{\"alignmentgroup\":\"True\",\"hovertemplate\":\"Country=Ghana<br>Year=%{x}<br>Mean Count_median=%{y}<extra></extra>\",\"legendgroup\":\"Ghana\",\"marker\":{\"color\":\"#FECB52\",\"pattern\":{\"shape\":\"\"}},\"name\":\"Ghana\",\"offsetgroup\":\"Ghana\",\"orientation\":\"v\",\"showlegend\":true,\"textposition\":\"auto\",\"x\":[2000,2010,2018],\"xaxis\":\"x\",\"y\":[18000.0,17000.0,14000.0],\"yaxis\":\"y\",\"type\":\"bar\"},{\"alignmentgroup\":\"True\",\"hovertemplate\":\"Country=Guinea<br>Year=%{x}<br>Mean Count_median=%{y}<extra></extra>\",\"legendgroup\":\"Guinea\",\"marker\":{\"color\":\"#636efa\",\"pattern\":{\"shape\":\"\"}},\"name\":\"Guinea\",\"offsetgroup\":\"Guinea\",\"orientation\":\"v\",\"showlegend\":true,\"textposition\":\"auto\",\"x\":[2000,2010,2018],\"xaxis\":\"x\",\"y\":[5000.0,4100.0,4300.0],\"yaxis\":\"y\",\"type\":\"bar\"},{\"alignmentgroup\":\"True\",\"hovertemplate\":\"Country=Guinea-Bissau<br>Year=%{x}<br>Mean Count_median=%{y}<extra></extra>\",\"legendgroup\":\"Guinea-Bissau\",\"marker\":{\"color\":\"#EF553B\",\"pattern\":{\"shape\":\"\"}},\"name\":\"Guinea-Bissau\",\"offsetgroup\":\"Guinea-Bissau\",\"orientation\":\"v\",\"showlegend\":true,\"textposition\":\"auto\",\"x\":[2000,2010,2018],\"xaxis\":\"x\",\"y\":[1100.0,1900.0,1800.0],\"yaxis\":\"y\",\"type\":\"bar\"},{\"alignmentgroup\":\"True\",\"hovertemplate\":\"Country=Kenya<br>Year=%{x}<br>Mean Count_median=%{y}<extra></extra>\",\"legendgroup\":\"Kenya\",\"marker\":{\"color\":\"#00cc96\",\"pattern\":{\"shape\":\"\"}},\"name\":\"Kenya\",\"offsetgroup\":\"Kenya\",\"orientation\":\"v\",\"showlegend\":true,\"textposition\":\"auto\",\"x\":[2000,2010,2018],\"xaxis\":\"x\",\"y\":[120000.0,56000.0,25000.0],\"yaxis\":\"y\",\"type\":\"bar\"},{\"alignmentgroup\":\"True\",\"hovertemplate\":\"Country=Lesotho<br>Year=%{x}<br>Mean Count_median=%{y}<extra></extra>\",\"legendgroup\":\"Lesotho\",\"marker\":{\"color\":\"#ab63fa\",\"pattern\":{\"shape\":\"\"}},\"name\":\"Lesotho\",\"offsetgroup\":\"Lesotho\",\"orientation\":\"v\",\"showlegend\":true,\"textposition\":\"auto\",\"x\":[2000,2010,2018],\"xaxis\":\"x\",\"y\":[12000.0,7200.0,6100.0],\"yaxis\":\"y\",\"type\":\"bar\"},{\"alignmentgroup\":\"True\",\"hovertemplate\":\"Country=Liberia<br>Year=%{x}<br>Mean Count_median=%{y}<extra></extra>\",\"legendgroup\":\"Liberia\",\"marker\":{\"color\":\"#FFA15A\",\"pattern\":{\"shape\":\"\"}},\"name\":\"Liberia\",\"offsetgroup\":\"Liberia\",\"orientation\":\"v\",\"showlegend\":true,\"textposition\":\"auto\",\"x\":[2000,2010,2018],\"xaxis\":\"x\",\"y\":[3000.0,2700.0,1800.0],\"yaxis\":\"y\",\"type\":\"bar\"},{\"alignmentgroup\":\"True\",\"hovertemplate\":\"Country=Madagascar<br>Year=%{x}<br>Mean Count_median=%{y}<extra></extra>\",\"legendgroup\":\"Madagascar\",\"marker\":{\"color\":\"#19d3f3\",\"pattern\":{\"shape\":\"\"}},\"name\":\"Madagascar\",\"offsetgroup\":\"Madagascar\",\"orientation\":\"v\",\"showlegend\":true,\"textposition\":\"auto\",\"x\":[2000,2010,2018],\"xaxis\":\"x\",\"y\":[500.0,1400.0,1700.0],\"yaxis\":\"y\",\"type\":\"bar\"},{\"alignmentgroup\":\"True\",\"hovertemplate\":\"Country=Malawi<br>Year=%{x}<br>Mean Count_median=%{y}<extra></extra>\",\"legendgroup\":\"Malawi\",\"marker\":{\"color\":\"#FF6692\",\"pattern\":{\"shape\":\"\"}},\"name\":\"Malawi\",\"offsetgroup\":\"Malawi\",\"orientation\":\"v\",\"showlegend\":true,\"textposition\":\"auto\",\"x\":[2000,2010,2018],\"xaxis\":\"x\",\"y\":[57000.0,29000.0,13000.0],\"yaxis\":\"y\",\"type\":\"bar\"},{\"alignmentgroup\":\"True\",\"hovertemplate\":\"Country=Mali<br>Year=%{x}<br>Mean Count_median=%{y}<extra></extra>\",\"legendgroup\":\"Mali\",\"marker\":{\"color\":\"#B6E880\",\"pattern\":{\"shape\":\"\"}},\"name\":\"Mali\",\"offsetgroup\":\"Mali\",\"orientation\":\"v\",\"showlegend\":true,\"textposition\":\"auto\",\"x\":[2000,2010,2018],\"xaxis\":\"x\",\"y\":[7700.0,5300.0,6500.0],\"yaxis\":\"y\",\"type\":\"bar\"},{\"alignmentgroup\":\"True\",\"hovertemplate\":\"Country=Mauritania<br>Year=%{x}<br>Mean Count_median=%{y}<extra></extra>\",\"legendgroup\":\"Mauritania\",\"marker\":{\"color\":\"#FF97FF\",\"pattern\":{\"shape\":\"\"}},\"name\":\"Mauritania\",\"offsetgroup\":\"Mauritania\",\"orientation\":\"v\",\"showlegend\":true,\"textposition\":\"auto\",\"x\":[2000,2010,2018],\"xaxis\":\"x\",\"y\":[500.0,500.0,500.0],\"yaxis\":\"y\",\"type\":\"bar\"},{\"alignmentgroup\":\"True\",\"hovertemplate\":\"Country=Mauritius<br>Year=%{x}<br>Mean Count_median=%{y}<extra></extra>\",\"legendgroup\":\"Mauritius\",\"marker\":{\"color\":\"#FECB52\",\"pattern\":{\"shape\":\"\"}},\"name\":\"Mauritius\",\"offsetgroup\":\"Mauritius\",\"orientation\":\"v\",\"showlegend\":true,\"textposition\":\"auto\",\"x\":[2000,2010,2018],\"xaxis\":\"x\",\"y\":[100.0,500.0,610.0],\"yaxis\":\"y\",\"type\":\"bar\"},{\"alignmentgroup\":\"True\",\"hovertemplate\":\"Country=Mozambique<br>Year=%{x}<br>Mean Count_median=%{y}<extra></extra>\",\"legendgroup\":\"Mozambique\",\"marker\":{\"color\":\"#636efa\",\"pattern\":{\"shape\":\"\"}},\"name\":\"Mozambique\",\"offsetgroup\":\"Mozambique\",\"orientation\":\"v\",\"showlegend\":true,\"textposition\":\"auto\",\"x\":[2000,2010,2018],\"xaxis\":\"x\",\"y\":[40000.0,64000.0,54000.0],\"yaxis\":\"y\",\"type\":\"bar\"},{\"alignmentgroup\":\"True\",\"hovertemplate\":\"Country=Namibia<br>Year=%{x}<br>Mean Count_median=%{y}<extra></extra>\",\"legendgroup\":\"Namibia\",\"marker\":{\"color\":\"#EF553B\",\"pattern\":{\"shape\":\"\"}},\"name\":\"Namibia\",\"offsetgroup\":\"Namibia\",\"orientation\":\"v\",\"showlegend\":true,\"textposition\":\"auto\",\"x\":[2000,2010,2018],\"xaxis\":\"x\",\"y\":[7300.0,3500.0,2700.0],\"yaxis\":\"y\",\"type\":\"bar\"},{\"alignmentgroup\":\"True\",\"hovertemplate\":\"Country=Niger<br>Year=%{x}<br>Mean Count_median=%{y}<extra></extra>\",\"legendgroup\":\"Niger\",\"marker\":{\"color\":\"#00cc96\",\"pattern\":{\"shape\":\"\"}},\"name\":\"Niger\",\"offsetgroup\":\"Niger\",\"orientation\":\"v\",\"showlegend\":true,\"textposition\":\"auto\",\"x\":[2000,2010,2018],\"xaxis\":\"x\",\"y\":[2300.0,1700.0,1200.0],\"yaxis\":\"y\",\"type\":\"bar\"},{\"alignmentgroup\":\"True\",\"hovertemplate\":\"Country=Nigeria<br>Year=%{x}<br>Mean Count_median=%{y}<extra></extra>\",\"legendgroup\":\"Nigeria\",\"marker\":{\"color\":\"#ab63fa\",\"pattern\":{\"shape\":\"\"}},\"name\":\"Nigeria\",\"offsetgroup\":\"Nigeria\",\"orientation\":\"v\",\"showlegend\":true,\"textposition\":\"auto\",\"x\":[2000,2010,2018],\"xaxis\":\"x\",\"y\":[78000.0,72000.0,53000.0],\"yaxis\":\"y\",\"type\":\"bar\"},{\"alignmentgroup\":\"True\",\"hovertemplate\":\"Country=Rwanda<br>Year=%{x}<br>Mean Count_median=%{y}<extra></extra>\",\"legendgroup\":\"Rwanda\",\"marker\":{\"color\":\"#FFA15A\",\"pattern\":{\"shape\":\"\"}},\"name\":\"Rwanda\",\"offsetgroup\":\"Rwanda\",\"orientation\":\"v\",\"showlegend\":true,\"textposition\":\"auto\",\"x\":[2000,2010,2018],\"xaxis\":\"x\",\"y\":[18000.0,5700.0,2900.0],\"yaxis\":\"y\",\"type\":\"bar\"},{\"alignmentgroup\":\"True\",\"hovertemplate\":\"Country=Senegal<br>Year=%{x}<br>Mean Count_median=%{y}<extra></extra>\",\"legendgroup\":\"Senegal\",\"marker\":{\"color\":\"#19d3f3\",\"pattern\":{\"shape\":\"\"}},\"name\":\"Senegal\",\"offsetgroup\":\"Senegal\",\"orientation\":\"v\",\"showlegend\":true,\"textposition\":\"auto\",\"x\":[2000,2010,2018],\"xaxis\":\"x\",\"y\":[1700.0,1300.0,1300.0],\"yaxis\":\"y\",\"type\":\"bar\"},{\"alignmentgroup\":\"True\",\"hovertemplate\":\"Country=Sierra Leone<br>Year=%{x}<br>Mean Count_median=%{y}<extra></extra>\",\"legendgroup\":\"Sierra Leone\",\"marker\":{\"color\":\"#FF6692\",\"pattern\":{\"shape\":\"\"}},\"name\":\"Sierra Leone\",\"offsetgroup\":\"Sierra Leone\",\"orientation\":\"v\",\"showlegend\":true,\"textposition\":\"auto\",\"x\":[2000,2010,2018],\"xaxis\":\"x\",\"y\":[2400.0,2900.0,2100.0],\"yaxis\":\"y\",\"type\":\"bar\"},{\"alignmentgroup\":\"True\",\"hovertemplate\":\"Country=South Africa<br>Year=%{x}<br>Mean Count_median=%{y}<extra></extra>\",\"legendgroup\":\"South Africa\",\"marker\":{\"color\":\"#B6E880\",\"pattern\":{\"shape\":\"\"}},\"name\":\"South Africa\",\"offsetgroup\":\"South Africa\",\"orientation\":\"v\",\"showlegend\":true,\"textposition\":\"auto\",\"x\":[2000,2010,2018],\"xaxis\":\"x\",\"y\":[100000.0,140000.0,71000.0],\"yaxis\":\"y\",\"type\":\"bar\"},{\"alignmentgroup\":\"True\",\"hovertemplate\":\"Country=South Sudan<br>Year=%{x}<br>Mean Count_median=%{y}<extra></extra>\",\"legendgroup\":\"South Sudan\",\"marker\":{\"color\":\"#FF97FF\",\"pattern\":{\"shape\":\"\"}},\"name\":\"South Sudan\",\"offsetgroup\":\"South Sudan\",\"orientation\":\"v\",\"showlegend\":true,\"textposition\":\"auto\",\"x\":[2000,2010,2018],\"xaxis\":\"x\",\"y\":[5100.0,9800.0,9900.0],\"yaxis\":\"y\",\"type\":\"bar\"},{\"alignmentgroup\":\"True\",\"hovertemplate\":\"Country=Togo<br>Year=%{x}<br>Mean Count_median=%{y}<extra></extra>\",\"legendgroup\":\"Togo\",\"marker\":{\"color\":\"#FECB52\",\"pattern\":{\"shape\":\"\"}},\"name\":\"Togo\",\"offsetgroup\":\"Togo\",\"orientation\":\"v\",\"showlegend\":true,\"textposition\":\"auto\",\"x\":[2000,2010,2018],\"xaxis\":\"x\",\"y\":[5600.0,5700.0,3800.0],\"yaxis\":\"y\",\"type\":\"bar\"},{\"alignmentgroup\":\"True\",\"hovertemplate\":\"Country=Uganda<br>Year=%{x}<br>Mean Count_median=%{y}<extra></extra>\",\"legendgroup\":\"Uganda\",\"marker\":{\"color\":\"#636efa\",\"pattern\":{\"shape\":\"\"}},\"name\":\"Uganda\",\"offsetgroup\":\"Uganda\",\"orientation\":\"v\",\"showlegend\":true,\"textposition\":\"auto\",\"x\":[2000,2010,2018],\"xaxis\":\"x\",\"y\":[85000.0,56000.0,23000.0],\"yaxis\":\"y\",\"type\":\"bar\"},{\"alignmentgroup\":\"True\",\"hovertemplate\":\"Country=United Republic of Tanzania<br>Year=%{x}<br>Mean Count_median=%{y}<extra></extra>\",\"legendgroup\":\"United Republic of Tanzania\",\"marker\":{\"color\":\"#EF553B\",\"pattern\":{\"shape\":\"\"}},\"name\":\"United Republic of Tanzania\",\"offsetgroup\":\"United Republic of Tanzania\",\"orientation\":\"v\",\"showlegend\":true,\"textposition\":\"auto\",\"x\":[2000,2010,2018],\"xaxis\":\"x\",\"y\":[80000.0,48000.0,24000.0],\"yaxis\":\"y\",\"type\":\"bar\"},{\"alignmentgroup\":\"True\",\"hovertemplate\":\"Country=Zambia<br>Year=%{x}<br>Mean Count_median=%{y}<extra></extra>\",\"legendgroup\":\"Zambia\",\"marker\":{\"color\":\"#00cc96\",\"pattern\":{\"shape\":\"\"}},\"name\":\"Zambia\",\"offsetgroup\":\"Zambia\",\"orientation\":\"v\",\"showlegend\":true,\"textposition\":\"auto\",\"x\":[2000,2010,2018],\"xaxis\":\"x\",\"y\":[62000.0,26000.0,17000.0],\"yaxis\":\"y\",\"type\":\"bar\"},{\"alignmentgroup\":\"True\",\"hovertemplate\":\"Country=Zimbabwe<br>Year=%{x}<br>Mean Count_median=%{y}<extra></extra>\",\"legendgroup\":\"Zimbabwe\",\"marker\":{\"color\":\"#ab63fa\",\"pattern\":{\"shape\":\"\"}},\"name\":\"Zimbabwe\",\"offsetgroup\":\"Zimbabwe\",\"orientation\":\"v\",\"showlegend\":true,\"textposition\":\"auto\",\"x\":[2000,2010,2018],\"xaxis\":\"x\",\"y\":[120000.0,54000.0,22000.0],\"yaxis\":\"y\",\"type\":\"bar\"}],                        {\"template\":{\"data\":{\"histogram2dcontour\":[{\"type\":\"histogram2dcontour\",\"colorbar\":{\"outlinewidth\":0,\"ticks\":\"\"},\"colorscale\":[[0.0,\"#0d0887\"],[0.1111111111111111,\"#46039f\"],[0.2222222222222222,\"#7201a8\"],[0.3333333333333333,\"#9c179e\"],[0.4444444444444444,\"#bd3786\"],[0.5555555555555556,\"#d8576b\"],[0.6666666666666666,\"#ed7953\"],[0.7777777777777778,\"#fb9f3a\"],[0.8888888888888888,\"#fdca26\"],[1.0,\"#f0f921\"]]}],\"choropleth\":[{\"type\":\"choropleth\",\"colorbar\":{\"outlinewidth\":0,\"ticks\":\"\"}}],\"histogram2d\":[{\"type\":\"histogram2d\",\"colorbar\":{\"outlinewidth\":0,\"ticks\":\"\"},\"colorscale\":[[0.0,\"#0d0887\"],[0.1111111111111111,\"#46039f\"],[0.2222222222222222,\"#7201a8\"],[0.3333333333333333,\"#9c179e\"],[0.4444444444444444,\"#bd3786\"],[0.5555555555555556,\"#d8576b\"],[0.6666666666666666,\"#ed7953\"],[0.7777777777777778,\"#fb9f3a\"],[0.8888888888888888,\"#fdca26\"],[1.0,\"#f0f921\"]]}],\"heatmap\":[{\"type\":\"heatmap\",\"colorbar\":{\"outlinewidth\":0,\"ticks\":\"\"},\"colorscale\":[[0.0,\"#0d0887\"],[0.1111111111111111,\"#46039f\"],[0.2222222222222222,\"#7201a8\"],[0.3333333333333333,\"#9c179e\"],[0.4444444444444444,\"#bd3786\"],[0.5555555555555556,\"#d8576b\"],[0.6666666666666666,\"#ed7953\"],[0.7777777777777778,\"#fb9f3a\"],[0.8888888888888888,\"#fdca26\"],[1.0,\"#f0f921\"]]}],\"heatmapgl\":[{\"type\":\"heatmapgl\",\"colorbar\":{\"outlinewidth\":0,\"ticks\":\"\"},\"colorscale\":[[0.0,\"#0d0887\"],[0.1111111111111111,\"#46039f\"],[0.2222222222222222,\"#7201a8\"],[0.3333333333333333,\"#9c179e\"],[0.4444444444444444,\"#bd3786\"],[0.5555555555555556,\"#d8576b\"],[0.6666666666666666,\"#ed7953\"],[0.7777777777777778,\"#fb9f3a\"],[0.8888888888888888,\"#fdca26\"],[1.0,\"#f0f921\"]]}],\"contourcarpet\":[{\"type\":\"contourcarpet\",\"colorbar\":{\"outlinewidth\":0,\"ticks\":\"\"}}],\"contour\":[{\"type\":\"contour\",\"colorbar\":{\"outlinewidth\":0,\"ticks\":\"\"},\"colorscale\":[[0.0,\"#0d0887\"],[0.1111111111111111,\"#46039f\"],[0.2222222222222222,\"#7201a8\"],[0.3333333333333333,\"#9c179e\"],[0.4444444444444444,\"#bd3786\"],[0.5555555555555556,\"#d8576b\"],[0.6666666666666666,\"#ed7953\"],[0.7777777777777778,\"#fb9f3a\"],[0.8888888888888888,\"#fdca26\"],[1.0,\"#f0f921\"]]}],\"surface\":[{\"type\":\"surface\",\"colorbar\":{\"outlinewidth\":0,\"ticks\":\"\"},\"colorscale\":[[0.0,\"#0d0887\"],[0.1111111111111111,\"#46039f\"],[0.2222222222222222,\"#7201a8\"],[0.3333333333333333,\"#9c179e\"],[0.4444444444444444,\"#bd3786\"],[0.5555555555555556,\"#d8576b\"],[0.6666666666666666,\"#ed7953\"],[0.7777777777777778,\"#fb9f3a\"],[0.8888888888888888,\"#fdca26\"],[1.0,\"#f0f921\"]]}],\"mesh3d\":[{\"type\":\"mesh3d\",\"colorbar\":{\"outlinewidth\":0,\"ticks\":\"\"}}],\"scatter\":[{\"fillpattern\":{\"fillmode\":\"overlay\",\"size\":10,\"solidity\":0.2},\"type\":\"scatter\"}],\"parcoords\":[{\"type\":\"parcoords\",\"line\":{\"colorbar\":{\"outlinewidth\":0,\"ticks\":\"\"}}}],\"scatterpolargl\":[{\"type\":\"scatterpolargl\",\"marker\":{\"colorbar\":{\"outlinewidth\":0,\"ticks\":\"\"}}}],\"bar\":[{\"error_x\":{\"color\":\"#2a3f5f\"},\"error_y\":{\"color\":\"#2a3f5f\"},\"marker\":{\"line\":{\"color\":\"#E5ECF6\",\"width\":0.5},\"pattern\":{\"fillmode\":\"overlay\",\"size\":10,\"solidity\":0.2}},\"type\":\"bar\"}],\"scattergeo\":[{\"type\":\"scattergeo\",\"marker\":{\"colorbar\":{\"outlinewidth\":0,\"ticks\":\"\"}}}],\"scatterpolar\":[{\"type\":\"scatterpolar\",\"marker\":{\"colorbar\":{\"outlinewidth\":0,\"ticks\":\"\"}}}],\"histogram\":[{\"marker\":{\"pattern\":{\"fillmode\":\"overlay\",\"size\":10,\"solidity\":0.2}},\"type\":\"histogram\"}],\"scattergl\":[{\"type\":\"scattergl\",\"marker\":{\"colorbar\":{\"outlinewidth\":0,\"ticks\":\"\"}}}],\"scatter3d\":[{\"type\":\"scatter3d\",\"line\":{\"colorbar\":{\"outlinewidth\":0,\"ticks\":\"\"}},\"marker\":{\"colorbar\":{\"outlinewidth\":0,\"ticks\":\"\"}}}],\"scattermapbox\":[{\"type\":\"scattermapbox\",\"marker\":{\"colorbar\":{\"outlinewidth\":0,\"ticks\":\"\"}}}],\"scatterternary\":[{\"type\":\"scatterternary\",\"marker\":{\"colorbar\":{\"outlinewidth\":0,\"ticks\":\"\"}}}],\"scattercarpet\":[{\"type\":\"scattercarpet\",\"marker\":{\"colorbar\":{\"outlinewidth\":0,\"ticks\":\"\"}}}],\"carpet\":[{\"aaxis\":{\"endlinecolor\":\"#2a3f5f\",\"gridcolor\":\"white\",\"linecolor\":\"white\",\"minorgridcolor\":\"white\",\"startlinecolor\":\"#2a3f5f\"},\"baxis\":{\"endlinecolor\":\"#2a3f5f\",\"gridcolor\":\"white\",\"linecolor\":\"white\",\"minorgridcolor\":\"white\",\"startlinecolor\":\"#2a3f5f\"},\"type\":\"carpet\"}],\"table\":[{\"cells\":{\"fill\":{\"color\":\"#EBF0F8\"},\"line\":{\"color\":\"white\"}},\"header\":{\"fill\":{\"color\":\"#C8D4E3\"},\"line\":{\"color\":\"white\"}},\"type\":\"table\"}],\"barpolar\":[{\"marker\":{\"line\":{\"color\":\"#E5ECF6\",\"width\":0.5},\"pattern\":{\"fillmode\":\"overlay\",\"size\":10,\"solidity\":0.2}},\"type\":\"barpolar\"}],\"pie\":[{\"automargin\":true,\"type\":\"pie\"}]},\"layout\":{\"autotypenumbers\":\"strict\",\"colorway\":[\"#636efa\",\"#EF553B\",\"#00cc96\",\"#ab63fa\",\"#FFA15A\",\"#19d3f3\",\"#FF6692\",\"#B6E880\",\"#FF97FF\",\"#FECB52\"],\"font\":{\"color\":\"#2a3f5f\"},\"hovermode\":\"closest\",\"hoverlabel\":{\"align\":\"left\"},\"paper_bgcolor\":\"white\",\"plot_bgcolor\":\"#E5ECF6\",\"polar\":{\"bgcolor\":\"#E5ECF6\",\"angularaxis\":{\"gridcolor\":\"white\",\"linecolor\":\"white\",\"ticks\":\"\"},\"radialaxis\":{\"gridcolor\":\"white\",\"linecolor\":\"white\",\"ticks\":\"\"}},\"ternary\":{\"bgcolor\":\"#E5ECF6\",\"aaxis\":{\"gridcolor\":\"white\",\"linecolor\":\"white\",\"ticks\":\"\"},\"baxis\":{\"gridcolor\":\"white\",\"linecolor\":\"white\",\"ticks\":\"\"},\"caxis\":{\"gridcolor\":\"white\",\"linecolor\":\"white\",\"ticks\":\"\"}},\"coloraxis\":{\"colorbar\":{\"outlinewidth\":0,\"ticks\":\"\"}},\"colorscale\":{\"sequential\":[[0.0,\"#0d0887\"],[0.1111111111111111,\"#46039f\"],[0.2222222222222222,\"#7201a8\"],[0.3333333333333333,\"#9c179e\"],[0.4444444444444444,\"#bd3786\"],[0.5555555555555556,\"#d8576b\"],[0.6666666666666666,\"#ed7953\"],[0.7777777777777778,\"#fb9f3a\"],[0.8888888888888888,\"#fdca26\"],[1.0,\"#f0f921\"]],\"sequentialminus\":[[0.0,\"#0d0887\"],[0.1111111111111111,\"#46039f\"],[0.2222222222222222,\"#7201a8\"],[0.3333333333333333,\"#9c179e\"],[0.4444444444444444,\"#bd3786\"],[0.5555555555555556,\"#d8576b\"],[0.6666666666666666,\"#ed7953\"],[0.7777777777777778,\"#fb9f3a\"],[0.8888888888888888,\"#fdca26\"],[1.0,\"#f0f921\"]],\"diverging\":[[0,\"#8e0152\"],[0.1,\"#c51b7d\"],[0.2,\"#de77ae\"],[0.3,\"#f1b6da\"],[0.4,\"#fde0ef\"],[0.5,\"#f7f7f7\"],[0.6,\"#e6f5d0\"],[0.7,\"#b8e186\"],[0.8,\"#7fbc41\"],[0.9,\"#4d9221\"],[1,\"#276419\"]]},\"xaxis\":{\"gridcolor\":\"white\",\"linecolor\":\"white\",\"ticks\":\"\",\"title\":{\"standoff\":15},\"zerolinecolor\":\"white\",\"automargin\":true,\"zerolinewidth\":2},\"yaxis\":{\"gridcolor\":\"white\",\"linecolor\":\"white\",\"ticks\":\"\",\"title\":{\"standoff\":15},\"zerolinecolor\":\"white\",\"automargin\":true,\"zerolinewidth\":2},\"scene\":{\"xaxis\":{\"backgroundcolor\":\"#E5ECF6\",\"gridcolor\":\"white\",\"linecolor\":\"white\",\"showbackground\":true,\"ticks\":\"\",\"zerolinecolor\":\"white\",\"gridwidth\":2},\"yaxis\":{\"backgroundcolor\":\"#E5ECF6\",\"gridcolor\":\"white\",\"linecolor\":\"white\",\"showbackground\":true,\"ticks\":\"\",\"zerolinecolor\":\"white\",\"gridwidth\":2},\"zaxis\":{\"backgroundcolor\":\"#E5ECF6\",\"gridcolor\":\"white\",\"linecolor\":\"white\",\"showbackground\":true,\"ticks\":\"\",\"zerolinecolor\":\"white\",\"gridwidth\":2}},\"shapedefaults\":{\"line\":{\"color\":\"#2a3f5f\"}},\"annotationdefaults\":{\"arrowcolor\":\"#2a3f5f\",\"arrowhead\":0,\"arrowwidth\":1},\"geo\":{\"bgcolor\":\"white\",\"landcolor\":\"#E5ECF6\",\"subunitcolor\":\"white\",\"showland\":true,\"showlakes\":true,\"lakecolor\":\"white\"},\"title\":{\"x\":0.05},\"mapbox\":{\"style\":\"light\"}}},\"xaxis\":{\"anchor\":\"y\",\"domain\":[0.0,1.0],\"title\":{\"text\":\"Year\"}},\"yaxis\":{\"anchor\":\"x\",\"domain\":[0.0,1.0],\"title\":{\"text\":\"Mean Count_median\"}},\"legend\":{\"title\":{\"text\":\"Country\"},\"tracegroupgap\":0},\"title\":{\"text\":\"Mean Count_median by Country and Year in Africa\"},\"barmode\":\"relative\"},                        {\"responsive\": true}                    ).then(function(){\n",
       "                            \n",
       "var gd = document.getElementById('6be12d60-3de9-4733-bca1-acc086bdd10d');\n",
       "var x = new MutationObserver(function (mutations, observer) {{\n",
       "        var display = window.getComputedStyle(gd).display;\n",
       "        if (!display || display === 'none') {{\n",
       "            console.log([gd, 'removed!']);\n",
       "            Plotly.purge(gd);\n",
       "            observer.disconnect();\n",
       "        }}\n",
       "}});\n",
       "\n",
       "// Listen for the removal of the full notebook cells\n",
       "var notebookContainer = gd.closest('#notebook-container');\n",
       "if (notebookContainer) {{\n",
       "    x.observe(notebookContainer, {childList: true});\n",
       "}}\n",
       "\n",
       "// Listen for the clearing of the current output cell\n",
       "var outputEl = gd.closest('.output');\n",
       "if (outputEl) {{\n",
       "    x.observe(outputEl, {childList: true});\n",
       "}}\n",
       "\n",
       "                        })                };                });            </script>        </div>"
      ]
     },
     "metadata": {},
     "output_type": "display_data"
    }
   ],
   "source": [
    "countrywisedeaths_fig.show()"
   ]
  },
  {
   "cell_type": "markdown",
   "id": "94e63918",
   "metadata": {},
   "source": [
    "##### \\*In the start of the decade during 2000, Kenya and Zimbabwe holds the greatest amount of deaths due to HIV AIDS. But, their amount reduced greatly throughout the decade. However, South Africa again holds the highest number of deaths due to HIV AIDS throughout the decade. Other significant increase in number of deaths are shown in Nigeria, Indonesia and Mozambique.\\*\n",
    "\n",
    "\n",
    "## Number of people living with HIV AIDS\n",
    "\n",
    "### Country-wise"
   ]
  },
  {
   "cell_type": "code",
   "execution_count": 177,
   "id": "a2ce5152",
   "metadata": {},
   "outputs": [],
   "source": [
    "afr_peoplewithiv = pd.DataFrame(afr_hiv_living_data.groupby(['Country', 'Year']).mean()['Count_median'])\n"
   ]
  },
  {
   "cell_type": "code",
   "execution_count": 178,
   "id": "e0a0ffe7",
   "metadata": {
    "collapsed": true
   },
   "outputs": [
    {
     "data": {
      "text/html": [
       "<div>\n",
       "<style scoped>\n",
       "    .dataframe tbody tr th:only-of-type {\n",
       "        vertical-align: middle;\n",
       "    }\n",
       "\n",
       "    .dataframe tbody tr th {\n",
       "        vertical-align: top;\n",
       "    }\n",
       "\n",
       "    .dataframe thead th {\n",
       "        text-align: right;\n",
       "    }\n",
       "</style>\n",
       "<table border=\"1\" class=\"dataframe\">\n",
       "  <thead>\n",
       "    <tr style=\"text-align: right;\">\n",
       "      <th></th>\n",
       "      <th></th>\n",
       "      <th>Count_median</th>\n",
       "    </tr>\n",
       "    <tr>\n",
       "      <th>Country</th>\n",
       "      <th>Year</th>\n",
       "      <th></th>\n",
       "    </tr>\n",
       "  </thead>\n",
       "  <tbody>\n",
       "    <tr>\n",
       "      <th rowspan=\"4\" valign=\"top\">Algeria</th>\n",
       "      <th>2000</th>\n",
       "      <td>1900.0</td>\n",
       "    </tr>\n",
       "    <tr>\n",
       "      <th>2005</th>\n",
       "      <td>3700.0</td>\n",
       "    </tr>\n",
       "    <tr>\n",
       "      <th>2010</th>\n",
       "      <td>7100.0</td>\n",
       "    </tr>\n",
       "    <tr>\n",
       "      <th>2018</th>\n",
       "      <td>16000.0</td>\n",
       "    </tr>\n",
       "    <tr>\n",
       "      <th>Angola</th>\n",
       "      <th>2000</th>\n",
       "      <td>87000.0</td>\n",
       "    </tr>\n",
       "    <tr>\n",
       "      <th>...</th>\n",
       "      <th>...</th>\n",
       "      <td>...</td>\n",
       "    </tr>\n",
       "    <tr>\n",
       "      <th>Zambia</th>\n",
       "      <th>2018</th>\n",
       "      <td>1200000.0</td>\n",
       "    </tr>\n",
       "    <tr>\n",
       "      <th rowspan=\"4\" valign=\"top\">Zimbabwe</th>\n",
       "      <th>2000</th>\n",
       "      <td>1600000.0</td>\n",
       "    </tr>\n",
       "    <tr>\n",
       "      <th>2005</th>\n",
       "      <td>1400000.0</td>\n",
       "    </tr>\n",
       "    <tr>\n",
       "      <th>2010</th>\n",
       "      <td>1200000.0</td>\n",
       "    </tr>\n",
       "    <tr>\n",
       "      <th>2018</th>\n",
       "      <td>1300000.0</td>\n",
       "    </tr>\n",
       "  </tbody>\n",
       "</table>\n",
       "<p>176 rows × 1 columns</p>\n",
       "</div>"
      ],
      "text/plain": [
       "               Count_median\n",
       "Country  Year              \n",
       "Algeria  2000        1900.0\n",
       "         2005        3700.0\n",
       "         2010        7100.0\n",
       "         2018       16000.0\n",
       "Angola   2000       87000.0\n",
       "...                     ...\n",
       "Zambia   2018     1200000.0\n",
       "Zimbabwe 2000     1600000.0\n",
       "         2005     1400000.0\n",
       "         2010     1200000.0\n",
       "         2018     1300000.0\n",
       "\n",
       "[176 rows x 1 columns]"
      ]
     },
     "execution_count": 178,
     "metadata": {},
     "output_type": "execute_result"
    }
   ],
   "source": [
    "afr_peoplewithiv\n"
   ]
  },
  {
   "cell_type": "code",
   "execution_count": 179,
   "id": "72f675a7",
   "metadata": {},
   "outputs": [
    {
     "data": {
      "application/vnd.plotly.v1+json": {
       "config": {
        "plotlyServerURL": "https://plot.ly"
       },
       "data": [
        {
         "alignmentgroup": "True",
         "hovertemplate": "Country=Algeria<br>Year=%{x}<br>Mean Count_median=%{y}<extra></extra>",
         "legendgroup": "Algeria",
         "marker": {
          "color": "#636efa",
          "pattern": {
           "shape": ""
          }
         },
         "name": "Algeria",
         "offsetgroup": "Algeria",
         "orientation": "v",
         "showlegend": true,
         "textposition": "auto",
         "type": "bar",
         "x": [
          2000,
          2005,
          2010,
          2018
         ],
         "xaxis": "x",
         "y": [
          1900,
          3700,
          7100,
          16000
         ],
         "yaxis": "y"
        },
        {
         "alignmentgroup": "True",
         "hovertemplate": "Country=Angola<br>Year=%{x}<br>Mean Count_median=%{y}<extra></extra>",
         "legendgroup": "Angola",
         "marker": {
          "color": "#EF553B",
          "pattern": {
           "shape": ""
          }
         },
         "name": "Angola",
         "offsetgroup": "Angola",
         "orientation": "v",
         "showlegend": true,
         "textposition": "auto",
         "type": "bar",
         "x": [
          2000,
          2005,
          2010,
          2018
         ],
         "xaxis": "x",
         "y": [
          87000,
          150000,
          220000,
          330000
         ],
         "yaxis": "y"
        },
        {
         "alignmentgroup": "True",
         "hovertemplate": "Country=Benin<br>Year=%{x}<br>Mean Count_median=%{y}<extra></extra>",
         "legendgroup": "Benin",
         "marker": {
          "color": "#00cc96",
          "pattern": {
           "shape": ""
          }
         },
         "name": "Benin",
         "offsetgroup": "Benin",
         "orientation": "v",
         "showlegend": true,
         "textposition": "auto",
         "type": "bar",
         "x": [
          2000,
          2005,
          2010,
          2018
         ],
         "xaxis": "x",
         "y": [
          47000,
          56000,
          61000,
          73000
         ],
         "yaxis": "y"
        },
        {
         "alignmentgroup": "True",
         "hovertemplate": "Country=Botswana<br>Year=%{x}<br>Mean Count_median=%{y}<extra></extra>",
         "legendgroup": "Botswana",
         "marker": {
          "color": "#ab63fa",
          "pattern": {
           "shape": ""
          }
         },
         "name": "Botswana",
         "offsetgroup": "Botswana",
         "orientation": "v",
         "showlegend": true,
         "textposition": "auto",
         "type": "bar",
         "x": [
          2000,
          2005,
          2010,
          2018
         ],
         "xaxis": "x",
         "y": [
          280000,
          310000,
          340000,
          370000
         ],
         "yaxis": "y"
        },
        {
         "alignmentgroup": "True",
         "hovertemplate": "Country=Burkina Faso<br>Year=%{x}<br>Mean Count_median=%{y}<extra></extra>",
         "legendgroup": "Burkina Faso",
         "marker": {
          "color": "#FFA15A",
          "pattern": {
           "shape": ""
          }
         },
         "name": "Burkina Faso",
         "offsetgroup": "Burkina Faso",
         "orientation": "v",
         "showlegend": true,
         "textposition": "auto",
         "type": "bar",
         "x": [
          2000,
          2005,
          2010,
          2018
         ],
         "xaxis": "x",
         "y": [
          140000,
          120000,
          110000,
          96000
         ],
         "yaxis": "y"
        },
        {
         "alignmentgroup": "True",
         "hovertemplate": "Country=Burundi<br>Year=%{x}<br>Mean Count_median=%{y}<extra></extra>",
         "legendgroup": "Burundi",
         "marker": {
          "color": "#19d3f3",
          "pattern": {
           "shape": ""
          }
         },
         "name": "Burundi",
         "offsetgroup": "Burundi",
         "orientation": "v",
         "showlegend": true,
         "textposition": "auto",
         "type": "bar",
         "x": [
          2000,
          2005,
          2010,
          2018
         ],
         "xaxis": "x",
         "y": [
          130000,
          110000,
          93000,
          82000
         ],
         "yaxis": "y"
        },
        {
         "alignmentgroup": "True",
         "hovertemplate": "Country=Cabo Verde<br>Year=%{x}<br>Mean Count_median=%{y}<extra></extra>",
         "legendgroup": "Cabo Verde",
         "marker": {
          "color": "#FF6692",
          "pattern": {
           "shape": ""
          }
         },
         "name": "Cabo Verde",
         "offsetgroup": "Cabo Verde",
         "orientation": "v",
         "showlegend": true,
         "textposition": "auto",
         "type": "bar",
         "x": [
          2000,
          2005,
          2010,
          2018
         ],
         "xaxis": "x",
         "y": [
          1600,
          1800,
          2100,
          2400
         ],
         "yaxis": "y"
        },
        {
         "alignmentgroup": "True",
         "hovertemplate": "Country=Cameroon<br>Year=%{x}<br>Mean Count_median=%{y}<extra></extra>",
         "legendgroup": "Cameroon",
         "marker": {
          "color": "#B6E880",
          "pattern": {
           "shape": ""
          }
         },
         "name": "Cameroon",
         "offsetgroup": "Cameroon",
         "orientation": "v",
         "showlegend": true,
         "textposition": "auto",
         "type": "bar",
         "x": [
          2000,
          2005,
          2010,
          2018
         ],
         "xaxis": "x",
         "y": [
          370000,
          470000,
          520000,
          540000
         ],
         "yaxis": "y"
        },
        {
         "alignmentgroup": "True",
         "hovertemplate": "Country=Central African Republic<br>Year=%{x}<br>Mean Count_median=%{y}<extra></extra>",
         "legendgroup": "Central African Republic",
         "marker": {
          "color": "#FF97FF",
          "pattern": {
           "shape": ""
          }
         },
         "name": "Central African Republic",
         "offsetgroup": "Central African Republic",
         "orientation": "v",
         "showlegend": true,
         "textposition": "auto",
         "type": "bar",
         "x": [
          2000,
          2005,
          2010,
          2018
         ],
         "xaxis": "x",
         "y": [
          160000,
          150000,
          140000,
          110000
         ],
         "yaxis": "y"
        },
        {
         "alignmentgroup": "True",
         "hovertemplate": "Country=Chad<br>Year=%{x}<br>Mean Count_median=%{y}<extra></extra>",
         "legendgroup": "Chad",
         "marker": {
          "color": "#FECB52",
          "pattern": {
           "shape": ""
          }
         },
         "name": "Chad",
         "offsetgroup": "Chad",
         "orientation": "v",
         "showlegend": true,
         "textposition": "auto",
         "type": "bar",
         "x": [
          2000,
          2005,
          2010,
          2018
         ],
         "xaxis": "x",
         "y": [
          80000,
          88000,
          99000,
          120000
         ],
         "yaxis": "y"
        },
        {
         "alignmentgroup": "True",
         "hovertemplate": "Country=Comoros<br>Year=%{x}<br>Mean Count_median=%{y}<extra></extra>",
         "legendgroup": "Comoros",
         "marker": {
          "color": "#636efa",
          "pattern": {
           "shape": ""
          }
         },
         "name": "Comoros",
         "offsetgroup": "Comoros",
         "orientation": "v",
         "showlegend": true,
         "textposition": "auto",
         "type": "bar",
         "x": [
          2000,
          2005,
          2010,
          2018
         ],
         "xaxis": "x",
         "y": [
          100,
          100,
          200,
          200
         ],
         "yaxis": "y"
        },
        {
         "alignmentgroup": "True",
         "hovertemplate": "Country=Côte d'Ivoire<br>Year=%{x}<br>Mean Count_median=%{y}<extra></extra>",
         "legendgroup": "Côte d'Ivoire",
         "marker": {
          "color": "#EF553B",
          "pattern": {
           "shape": ""
          }
         },
         "name": "Côte d'Ivoire",
         "offsetgroup": "Côte d'Ivoire",
         "orientation": "v",
         "showlegend": true,
         "textposition": "auto",
         "type": "bar",
         "x": [
          2000,
          2005,
          2010,
          2018
         ],
         "xaxis": "x",
         "y": [
          590000,
          510000,
          480000,
          460000
         ],
         "yaxis": "y"
        },
        {
         "alignmentgroup": "True",
         "hovertemplate": "Country=Democratic Republic of the Congo<br>Year=%{x}<br>Mean Count_median=%{y}<extra></extra>",
         "legendgroup": "Democratic Republic of the Congo",
         "marker": {
          "color": "#00cc96",
          "pattern": {
           "shape": ""
          }
         },
         "name": "Democratic Republic of the Congo",
         "offsetgroup": "Democratic Republic of the Congo",
         "orientation": "v",
         "showlegend": true,
         "textposition": "auto",
         "type": "bar",
         "x": [
          2000,
          2005,
          2010,
          2018
         ],
         "xaxis": "x",
         "y": [
          540000,
          510000,
          480000,
          450000
         ],
         "yaxis": "y"
        },
        {
         "alignmentgroup": "True",
         "hovertemplate": "Country=Equatorial Guinea<br>Year=%{x}<br>Mean Count_median=%{y}<extra></extra>",
         "legendgroup": "Equatorial Guinea",
         "marker": {
          "color": "#ab63fa",
          "pattern": {
           "shape": ""
          }
         },
         "name": "Equatorial Guinea",
         "offsetgroup": "Equatorial Guinea",
         "orientation": "v",
         "showlegend": true,
         "textposition": "auto",
         "type": "bar",
         "x": [
          2000,
          2005,
          2010,
          2018
         ],
         "xaxis": "x",
         "y": [
          13000,
          22000,
          35000,
          62000
         ],
         "yaxis": "y"
        },
        {
         "alignmentgroup": "True",
         "hovertemplate": "Country=Eritrea<br>Year=%{x}<br>Mean Count_median=%{y}<extra></extra>",
         "legendgroup": "Eritrea",
         "marker": {
          "color": "#FFA15A",
          "pattern": {
           "shape": ""
          }
         },
         "name": "Eritrea",
         "offsetgroup": "Eritrea",
         "orientation": "v",
         "showlegend": true,
         "textposition": "auto",
         "type": "bar",
         "x": [
          2000,
          2005,
          2010,
          2018
         ],
         "xaxis": "x",
         "y": [
          16000,
          17000,
          17000,
          18000
         ],
         "yaxis": "y"
        },
        {
         "alignmentgroup": "True",
         "hovertemplate": "Country=Eswatini<br>Year=%{x}<br>Mean Count_median=%{y}<extra></extra>",
         "legendgroup": "Eswatini",
         "marker": {
          "color": "#19d3f3",
          "pattern": {
           "shape": ""
          }
         },
         "name": "Eswatini",
         "offsetgroup": "Eswatini",
         "orientation": "v",
         "showlegend": true,
         "textposition": "auto",
         "type": "bar",
         "x": [
          2000,
          2005,
          2010,
          2018
         ],
         "xaxis": "x",
         "y": [
          110000,
          130000,
          160000,
          210000
         ],
         "yaxis": "y"
        },
        {
         "alignmentgroup": "True",
         "hovertemplate": "Country=Ethiopia<br>Year=%{x}<br>Mean Count_median=%{y}<extra></extra>",
         "legendgroup": "Ethiopia",
         "marker": {
          "color": "#FF6692",
          "pattern": {
           "shape": ""
          }
         },
         "name": "Ethiopia",
         "offsetgroup": "Ethiopia",
         "orientation": "v",
         "showlegend": true,
         "textposition": "auto",
         "type": "bar",
         "x": [
          2000,
          2005,
          2010,
          2018
         ],
         "xaxis": "x",
         "y": [
          750000,
          640000,
          630000,
          690000
         ],
         "yaxis": "y"
        },
        {
         "alignmentgroup": "True",
         "hovertemplate": "Country=Gabon<br>Year=%{x}<br>Mean Count_median=%{y}<extra></extra>",
         "legendgroup": "Gabon",
         "marker": {
          "color": "#B6E880",
          "pattern": {
           "shape": ""
          }
         },
         "name": "Gabon",
         "offsetgroup": "Gabon",
         "orientation": "v",
         "showlegend": true,
         "textposition": "auto",
         "type": "bar",
         "x": [
          2000,
          2005,
          2010,
          2018
         ],
         "xaxis": "x",
         "y": [
          28000,
          35000,
          43000,
          53000
         ],
         "yaxis": "y"
        },
        {
         "alignmentgroup": "True",
         "hovertemplate": "Country=Gambia<br>Year=%{x}<br>Mean Count_median=%{y}<extra></extra>",
         "legendgroup": "Gambia",
         "marker": {
          "color": "#FF97FF",
          "pattern": {
           "shape": ""
          }
         },
         "name": "Gambia",
         "offsetgroup": "Gambia",
         "orientation": "v",
         "showlegend": true,
         "textposition": "auto",
         "type": "bar",
         "x": [
          2000,
          2005,
          2010,
          2018
         ],
         "xaxis": "x",
         "y": [
          9900,
          15000,
          18000,
          26000
         ],
         "yaxis": "y"
        },
        {
         "alignmentgroup": "True",
         "hovertemplate": "Country=Ghana<br>Year=%{x}<br>Mean Count_median=%{y}<extra></extra>",
         "legendgroup": "Ghana",
         "marker": {
          "color": "#FECB52",
          "pattern": {
           "shape": ""
          }
         },
         "name": "Ghana",
         "offsetgroup": "Ghana",
         "orientation": "v",
         "showlegend": true,
         "textposition": "auto",
         "type": "bar",
         "x": [
          2000,
          2005,
          2010,
          2018
         ],
         "xaxis": "x",
         "y": [
          270000,
          280000,
          300000,
          330000
         ],
         "yaxis": "y"
        },
        {
         "alignmentgroup": "True",
         "hovertemplate": "Country=Guinea<br>Year=%{x}<br>Mean Count_median=%{y}<extra></extra>",
         "legendgroup": "Guinea",
         "marker": {
          "color": "#636efa",
          "pattern": {
           "shape": ""
          }
         },
         "name": "Guinea",
         "offsetgroup": "Guinea",
         "orientation": "v",
         "showlegend": true,
         "textposition": "auto",
         "type": "bar",
         "x": [
          2000,
          2005,
          2010,
          2018
         ],
         "xaxis": "x",
         "y": [
          83000,
          93000,
          100000,
          120000
         ],
         "yaxis": "y"
        },
        {
         "alignmentgroup": "True",
         "hovertemplate": "Country=Guinea-Bissau<br>Year=%{x}<br>Mean Count_median=%{y}<extra></extra>",
         "legendgroup": "Guinea-Bissau",
         "marker": {
          "color": "#EF553B",
          "pattern": {
           "shape": ""
          }
         },
         "name": "Guinea-Bissau",
         "offsetgroup": "Guinea-Bissau",
         "orientation": "v",
         "showlegend": true,
         "textposition": "auto",
         "type": "bar",
         "x": [
          2000,
          2005,
          2010,
          2018
         ],
         "xaxis": "x",
         "y": [
          22000,
          31000,
          38000,
          44000
         ],
         "yaxis": "y"
        },
        {
         "alignmentgroup": "True",
         "hovertemplate": "Country=Kenya<br>Year=%{x}<br>Mean Count_median=%{y}<extra></extra>",
         "legendgroup": "Kenya",
         "marker": {
          "color": "#00cc96",
          "pattern": {
           "shape": ""
          }
         },
         "name": "Kenya",
         "offsetgroup": "Kenya",
         "orientation": "v",
         "showlegend": true,
         "textposition": "auto",
         "type": "bar",
         "x": [
          2000,
          2005,
          2010,
          2018
         ],
         "xaxis": "x",
         "y": [
          1700000,
          1500000,
          1500000,
          1600000
         ],
         "yaxis": "y"
        },
        {
         "alignmentgroup": "True",
         "hovertemplate": "Country=Lesotho<br>Year=%{x}<br>Mean Count_median=%{y}<extra></extra>",
         "legendgroup": "Lesotho",
         "marker": {
          "color": "#ab63fa",
          "pattern": {
           "shape": ""
          }
         },
         "name": "Lesotho",
         "offsetgroup": "Lesotho",
         "orientation": "v",
         "showlegend": true,
         "textposition": "auto",
         "type": "bar",
         "x": [
          2000,
          2005,
          2010,
          2018
         ],
         "xaxis": "x",
         "y": [
          260000,
          280000,
          300000,
          340000
         ],
         "yaxis": "y"
        },
        {
         "alignmentgroup": "True",
         "hovertemplate": "Country=Liberia<br>Year=%{x}<br>Mean Count_median=%{y}<extra></extra>",
         "legendgroup": "Liberia",
         "marker": {
          "color": "#FFA15A",
          "pattern": {
           "shape": ""
          }
         },
         "name": "Liberia",
         "offsetgroup": "Liberia",
         "orientation": "v",
         "showlegend": true,
         "textposition": "auto",
         "type": "bar",
         "x": [
          2000,
          2005,
          2010,
          2018
         ],
         "xaxis": "x",
         "y": [
          43000,
          41000,
          41000,
          39000
         ],
         "yaxis": "y"
        },
        {
         "alignmentgroup": "True",
         "hovertemplate": "Country=Madagascar<br>Year=%{x}<br>Mean Count_median=%{y}<extra></extra>",
         "legendgroup": "Madagascar",
         "marker": {
          "color": "#19d3f3",
          "pattern": {
           "shape": ""
          }
         },
         "name": "Madagascar",
         "offsetgroup": "Madagascar",
         "orientation": "v",
         "showlegend": true,
         "textposition": "auto",
         "type": "bar",
         "x": [
          2000,
          2005,
          2010,
          2018
         ],
         "xaxis": "x",
         "y": [
          13000,
          19000,
          21000,
          39000
         ],
         "yaxis": "y"
        },
        {
         "alignmentgroup": "True",
         "hovertemplate": "Country=Malawi<br>Year=%{x}<br>Mean Count_median=%{y}<extra></extra>",
         "legendgroup": "Malawi",
         "marker": {
          "color": "#FF6692",
          "pattern": {
           "shape": ""
          }
         },
         "name": "Malawi",
         "offsetgroup": "Malawi",
         "orientation": "v",
         "showlegend": true,
         "textposition": "auto",
         "type": "bar",
         "x": [
          2000,
          2005,
          2010,
          2018
         ],
         "xaxis": "x",
         "y": [
          810000,
          820000,
          870000,
          1000000
         ],
         "yaxis": "y"
        },
        {
         "alignmentgroup": "True",
         "hovertemplate": "Country=Mali<br>Year=%{x}<br>Mean Count_median=%{y}<extra></extra>",
         "legendgroup": "Mali",
         "marker": {
          "color": "#B6E880",
          "pattern": {
           "shape": ""
          }
         },
         "name": "Mali",
         "offsetgroup": "Mali",
         "orientation": "v",
         "showlegend": true,
         "textposition": "auto",
         "type": "bar",
         "x": [
          2000,
          2005,
          2010,
          2018
         ],
         "xaxis": "x",
         "y": [
          110000,
          110000,
          120000,
          150000
         ],
         "yaxis": "y"
        },
        {
         "alignmentgroup": "True",
         "hovertemplate": "Country=Mauritania<br>Year=%{x}<br>Mean Count_median=%{y}<extra></extra>",
         "legendgroup": "Mauritania",
         "marker": {
          "color": "#FF97FF",
          "pattern": {
           "shape": ""
          }
         },
         "name": "Mauritania",
         "offsetgroup": "Mauritania",
         "orientation": "v",
         "showlegend": true,
         "textposition": "auto",
         "type": "bar",
         "x": [
          2000,
          2005,
          2010,
          2018
         ],
         "xaxis": "x",
         "y": [
          5500,
          7500,
          7100,
          5600
         ],
         "yaxis": "y"
        },
        {
         "alignmentgroup": "True",
         "hovertemplate": "Country=Mauritius<br>Year=%{x}<br>Mean Count_median=%{y}<extra></extra>",
         "legendgroup": "Mauritius",
         "marker": {
          "color": "#FECB52",
          "pattern": {
           "shape": ""
          }
         },
         "name": "Mauritius",
         "offsetgroup": "Mauritius",
         "orientation": "v",
         "showlegend": true,
         "textposition": "auto",
         "type": "bar",
         "x": [
          2000,
          2005,
          2010,
          2018
         ],
         "xaxis": "x",
         "y": [
          3200,
          8000,
          11000,
          13000
         ],
         "yaxis": "y"
        },
        {
         "alignmentgroup": "True",
         "hovertemplate": "Country=Mozambique<br>Year=%{x}<br>Mean Count_median=%{y}<extra></extra>",
         "legendgroup": "Mozambique",
         "marker": {
          "color": "#636efa",
          "pattern": {
           "shape": ""
          }
         },
         "name": "Mozambique",
         "offsetgroup": "Mozambique",
         "orientation": "v",
         "showlegend": true,
         "textposition": "auto",
         "type": "bar",
         "x": [
          2000,
          2005,
          2010,
          2018
         ],
         "xaxis": "x",
         "y": [
          840000,
          1200000,
          1600000,
          2200000
         ],
         "yaxis": "y"
        },
        {
         "alignmentgroup": "True",
         "hovertemplate": "Country=Namibia<br>Year=%{x}<br>Mean Count_median=%{y}<extra></extra>",
         "legendgroup": "Namibia",
         "marker": {
          "color": "#EF553B",
          "pattern": {
           "shape": ""
          }
         },
         "name": "Namibia",
         "offsetgroup": "Namibia",
         "orientation": "v",
         "showlegend": true,
         "textposition": "auto",
         "type": "bar",
         "x": [
          2000,
          2005,
          2010,
          2018
         ],
         "xaxis": "x",
         "y": [
          140000,
          160000,
          170000,
          200000
         ],
         "yaxis": "y"
        },
        {
         "alignmentgroup": "True",
         "hovertemplate": "Country=Niger<br>Year=%{x}<br>Mean Count_median=%{y}<extra></extra>",
         "legendgroup": "Niger",
         "marker": {
          "color": "#00cc96",
          "pattern": {
           "shape": ""
          }
         },
         "name": "Niger",
         "offsetgroup": "Niger",
         "orientation": "v",
         "showlegend": true,
         "textposition": "auto",
         "type": "bar",
         "x": [
          2000,
          2005,
          2010,
          2018
         ],
         "xaxis": "x",
         "y": [
          37000,
          40000,
          37000,
          36000
         ],
         "yaxis": "y"
        },
        {
         "alignmentgroup": "True",
         "hovertemplate": "Country=Nigeria<br>Year=%{x}<br>Mean Count_median=%{y}<extra></extra>",
         "legendgroup": "Nigeria",
         "marker": {
          "color": "#ab63fa",
          "pattern": {
           "shape": ""
          }
         },
         "name": "Nigeria",
         "offsetgroup": "Nigeria",
         "orientation": "v",
         "showlegend": true,
         "textposition": "auto",
         "type": "bar",
         "x": [
          2000,
          2005,
          2010,
          2018
         ],
         "xaxis": "x",
         "y": [
          1300000,
          1400000,
          1500000,
          1900000
         ],
         "yaxis": "y"
        },
        {
         "alignmentgroup": "True",
         "hovertemplate": "Country=Rwanda<br>Year=%{x}<br>Mean Count_median=%{y}<extra></extra>",
         "legendgroup": "Rwanda",
         "marker": {
          "color": "#FFA15A",
          "pattern": {
           "shape": ""
          }
         },
         "name": "Rwanda",
         "offsetgroup": "Rwanda",
         "orientation": "v",
         "showlegend": true,
         "textposition": "auto",
         "type": "bar",
         "x": [
          2000,
          2005,
          2010,
          2018
         ],
         "xaxis": "x",
         "y": [
          240000,
          220000,
          220000,
          220000
         ],
         "yaxis": "y"
        },
        {
         "alignmentgroup": "True",
         "hovertemplate": "Country=Senegal<br>Year=%{x}<br>Mean Count_median=%{y}<extra></extra>",
         "legendgroup": "Senegal",
         "marker": {
          "color": "#19d3f3",
          "pattern": {
           "shape": ""
          }
         },
         "name": "Senegal",
         "offsetgroup": "Senegal",
         "orientation": "v",
         "showlegend": true,
         "textposition": "auto",
         "type": "bar",
         "x": [
          2000,
          2005,
          2010,
          2018
         ],
         "xaxis": "x",
         "y": [
          33000,
          42000,
          44000,
          42000
         ],
         "yaxis": "y"
        },
        {
         "alignmentgroup": "True",
         "hovertemplate": "Country=Sierra Leone<br>Year=%{x}<br>Mean Count_median=%{y}<extra></extra>",
         "legendgroup": "Sierra Leone",
         "marker": {
          "color": "#FF6692",
          "pattern": {
           "shape": ""
          }
         },
         "name": "Sierra Leone",
         "offsetgroup": "Sierra Leone",
         "orientation": "v",
         "showlegend": true,
         "textposition": "auto",
         "type": "bar",
         "x": [
          2000,
          2005,
          2010,
          2018
         ],
         "xaxis": "x",
         "y": [
          40000,
          51000,
          58000,
          70000
         ],
         "yaxis": "y"
        },
        {
         "alignmentgroup": "True",
         "hovertemplate": "Country=South Africa<br>Year=%{x}<br>Mean Count_median=%{y}<extra></extra>",
         "legendgroup": "South Africa",
         "marker": {
          "color": "#B6E880",
          "pattern": {
           "shape": ""
          }
         },
         "name": "South Africa",
         "offsetgroup": "South Africa",
         "orientation": "v",
         "showlegend": true,
         "textposition": "auto",
         "type": "bar",
         "x": [
          2000,
          2005,
          2010,
          2018
         ],
         "xaxis": "x",
         "y": [
          3300000,
          5000000,
          6100000,
          7700000
         ],
         "yaxis": "y"
        },
        {
         "alignmentgroup": "True",
         "hovertemplate": "Country=South Sudan<br>Year=%{x}<br>Mean Count_median=%{y}<extra></extra>",
         "legendgroup": "South Sudan",
         "marker": {
          "color": "#FF97FF",
          "pattern": {
           "shape": ""
          }
         },
         "name": "South Sudan",
         "offsetgroup": "South Sudan",
         "orientation": "v",
         "showlegend": true,
         "textposition": "auto",
         "type": "bar",
         "x": [
          2000,
          2005,
          2010,
          2018
         ],
         "xaxis": "x",
         "y": [
          90000,
          120000,
          140000,
          190000
         ],
         "yaxis": "y"
        },
        {
         "alignmentgroup": "True",
         "hovertemplate": "Country=Togo<br>Year=%{x}<br>Mean Count_median=%{y}<extra></extra>",
         "legendgroup": "Togo",
         "marker": {
          "color": "#FECB52",
          "pattern": {
           "shape": ""
          }
         },
         "name": "Togo",
         "offsetgroup": "Togo",
         "orientation": "v",
         "showlegend": true,
         "textposition": "auto",
         "type": "bar",
         "x": [
          2000,
          2005,
          2010,
          2018
         ],
         "xaxis": "x",
         "y": [
          94000,
          100000,
          100000,
          110000
         ],
         "yaxis": "y"
        },
        {
         "alignmentgroup": "True",
         "hovertemplate": "Country=Uganda<br>Year=%{x}<br>Mean Count_median=%{y}<extra></extra>",
         "legendgroup": "Uganda",
         "marker": {
          "color": "#636efa",
          "pattern": {
           "shape": ""
          }
         },
         "name": "Uganda",
         "offsetgroup": "Uganda",
         "orientation": "v",
         "showlegend": true,
         "textposition": "auto",
         "type": "bar",
         "x": [
          2000,
          2005,
          2010,
          2018
         ],
         "xaxis": "x",
         "y": [
          1000000,
          1100000,
          1200000,
          1400000
         ],
         "yaxis": "y"
        },
        {
         "alignmentgroup": "True",
         "hovertemplate": "Country=United Republic of Tanzania<br>Year=%{x}<br>Mean Count_median=%{y}<extra></extra>",
         "legendgroup": "United Republic of Tanzania",
         "marker": {
          "color": "#EF553B",
          "pattern": {
           "shape": ""
          }
         },
         "name": "United Republic of Tanzania",
         "offsetgroup": "United Republic of Tanzania",
         "orientation": "v",
         "showlegend": true,
         "textposition": "auto",
         "type": "bar",
         "x": [
          2000,
          2005,
          2010,
          2018
         ],
         "xaxis": "x",
         "y": [
          1100000,
          1200000,
          1300000,
          1600000
         ],
         "yaxis": "y"
        },
        {
         "alignmentgroup": "True",
         "hovertemplate": "Country=Zambia<br>Year=%{x}<br>Mean Count_median=%{y}<extra></extra>",
         "legendgroup": "Zambia",
         "marker": {
          "color": "#00cc96",
          "pattern": {
           "shape": ""
          }
         },
         "name": "Zambia",
         "offsetgroup": "Zambia",
         "orientation": "v",
         "showlegend": true,
         "textposition": "auto",
         "type": "bar",
         "x": [
          2000,
          2005,
          2010,
          2018
         ],
         "xaxis": "x",
         "y": [
          890000,
          920000,
          1000000,
          1200000
         ],
         "yaxis": "y"
        },
        {
         "alignmentgroup": "True",
         "hovertemplate": "Country=Zimbabwe<br>Year=%{x}<br>Mean Count_median=%{y}<extra></extra>",
         "legendgroup": "Zimbabwe",
         "marker": {
          "color": "#ab63fa",
          "pattern": {
           "shape": ""
          }
         },
         "name": "Zimbabwe",
         "offsetgroup": "Zimbabwe",
         "orientation": "v",
         "showlegend": true,
         "textposition": "auto",
         "type": "bar",
         "x": [
          2000,
          2005,
          2010,
          2018
         ],
         "xaxis": "x",
         "y": [
          1600000,
          1400000,
          1200000,
          1300000
         ],
         "yaxis": "y"
        }
       ],
       "layout": {
        "barmode": "relative",
        "legend": {
         "title": {
          "text": "Country"
         },
         "tracegroupgap": 0
        },
        "template": {
         "data": {
          "bar": [
           {
            "error_x": {
             "color": "#2a3f5f"
            },
            "error_y": {
             "color": "#2a3f5f"
            },
            "marker": {
             "line": {
              "color": "#E5ECF6",
              "width": 0.5
             },
             "pattern": {
              "fillmode": "overlay",
              "size": 10,
              "solidity": 0.2
             }
            },
            "type": "bar"
           }
          ],
          "barpolar": [
           {
            "marker": {
             "line": {
              "color": "#E5ECF6",
              "width": 0.5
             },
             "pattern": {
              "fillmode": "overlay",
              "size": 10,
              "solidity": 0.2
             }
            },
            "type": "barpolar"
           }
          ],
          "carpet": [
           {
            "aaxis": {
             "endlinecolor": "#2a3f5f",
             "gridcolor": "white",
             "linecolor": "white",
             "minorgridcolor": "white",
             "startlinecolor": "#2a3f5f"
            },
            "baxis": {
             "endlinecolor": "#2a3f5f",
             "gridcolor": "white",
             "linecolor": "white",
             "minorgridcolor": "white",
             "startlinecolor": "#2a3f5f"
            },
            "type": "carpet"
           }
          ],
          "choropleth": [
           {
            "colorbar": {
             "outlinewidth": 0,
             "ticks": ""
            },
            "type": "choropleth"
           }
          ],
          "contour": [
           {
            "colorbar": {
             "outlinewidth": 0,
             "ticks": ""
            },
            "colorscale": [
             [
              0,
              "#0d0887"
             ],
             [
              0.1111111111111111,
              "#46039f"
             ],
             [
              0.2222222222222222,
              "#7201a8"
             ],
             [
              0.3333333333333333,
              "#9c179e"
             ],
             [
              0.4444444444444444,
              "#bd3786"
             ],
             [
              0.5555555555555556,
              "#d8576b"
             ],
             [
              0.6666666666666666,
              "#ed7953"
             ],
             [
              0.7777777777777778,
              "#fb9f3a"
             ],
             [
              0.8888888888888888,
              "#fdca26"
             ],
             [
              1,
              "#f0f921"
             ]
            ],
            "type": "contour"
           }
          ],
          "contourcarpet": [
           {
            "colorbar": {
             "outlinewidth": 0,
             "ticks": ""
            },
            "type": "contourcarpet"
           }
          ],
          "heatmap": [
           {
            "colorbar": {
             "outlinewidth": 0,
             "ticks": ""
            },
            "colorscale": [
             [
              0,
              "#0d0887"
             ],
             [
              0.1111111111111111,
              "#46039f"
             ],
             [
              0.2222222222222222,
              "#7201a8"
             ],
             [
              0.3333333333333333,
              "#9c179e"
             ],
             [
              0.4444444444444444,
              "#bd3786"
             ],
             [
              0.5555555555555556,
              "#d8576b"
             ],
             [
              0.6666666666666666,
              "#ed7953"
             ],
             [
              0.7777777777777778,
              "#fb9f3a"
             ],
             [
              0.8888888888888888,
              "#fdca26"
             ],
             [
              1,
              "#f0f921"
             ]
            ],
            "type": "heatmap"
           }
          ],
          "heatmapgl": [
           {
            "colorbar": {
             "outlinewidth": 0,
             "ticks": ""
            },
            "colorscale": [
             [
              0,
              "#0d0887"
             ],
             [
              0.1111111111111111,
              "#46039f"
             ],
             [
              0.2222222222222222,
              "#7201a8"
             ],
             [
              0.3333333333333333,
              "#9c179e"
             ],
             [
              0.4444444444444444,
              "#bd3786"
             ],
             [
              0.5555555555555556,
              "#d8576b"
             ],
             [
              0.6666666666666666,
              "#ed7953"
             ],
             [
              0.7777777777777778,
              "#fb9f3a"
             ],
             [
              0.8888888888888888,
              "#fdca26"
             ],
             [
              1,
              "#f0f921"
             ]
            ],
            "type": "heatmapgl"
           }
          ],
          "histogram": [
           {
            "marker": {
             "pattern": {
              "fillmode": "overlay",
              "size": 10,
              "solidity": 0.2
             }
            },
            "type": "histogram"
           }
          ],
          "histogram2d": [
           {
            "colorbar": {
             "outlinewidth": 0,
             "ticks": ""
            },
            "colorscale": [
             [
              0,
              "#0d0887"
             ],
             [
              0.1111111111111111,
              "#46039f"
             ],
             [
              0.2222222222222222,
              "#7201a8"
             ],
             [
              0.3333333333333333,
              "#9c179e"
             ],
             [
              0.4444444444444444,
              "#bd3786"
             ],
             [
              0.5555555555555556,
              "#d8576b"
             ],
             [
              0.6666666666666666,
              "#ed7953"
             ],
             [
              0.7777777777777778,
              "#fb9f3a"
             ],
             [
              0.8888888888888888,
              "#fdca26"
             ],
             [
              1,
              "#f0f921"
             ]
            ],
            "type": "histogram2d"
           }
          ],
          "histogram2dcontour": [
           {
            "colorbar": {
             "outlinewidth": 0,
             "ticks": ""
            },
            "colorscale": [
             [
              0,
              "#0d0887"
             ],
             [
              0.1111111111111111,
              "#46039f"
             ],
             [
              0.2222222222222222,
              "#7201a8"
             ],
             [
              0.3333333333333333,
              "#9c179e"
             ],
             [
              0.4444444444444444,
              "#bd3786"
             ],
             [
              0.5555555555555556,
              "#d8576b"
             ],
             [
              0.6666666666666666,
              "#ed7953"
             ],
             [
              0.7777777777777778,
              "#fb9f3a"
             ],
             [
              0.8888888888888888,
              "#fdca26"
             ],
             [
              1,
              "#f0f921"
             ]
            ],
            "type": "histogram2dcontour"
           }
          ],
          "mesh3d": [
           {
            "colorbar": {
             "outlinewidth": 0,
             "ticks": ""
            },
            "type": "mesh3d"
           }
          ],
          "parcoords": [
           {
            "line": {
             "colorbar": {
              "outlinewidth": 0,
              "ticks": ""
             }
            },
            "type": "parcoords"
           }
          ],
          "pie": [
           {
            "automargin": true,
            "type": "pie"
           }
          ],
          "scatter": [
           {
            "fillpattern": {
             "fillmode": "overlay",
             "size": 10,
             "solidity": 0.2
            },
            "type": "scatter"
           }
          ],
          "scatter3d": [
           {
            "line": {
             "colorbar": {
              "outlinewidth": 0,
              "ticks": ""
             }
            },
            "marker": {
             "colorbar": {
              "outlinewidth": 0,
              "ticks": ""
             }
            },
            "type": "scatter3d"
           }
          ],
          "scattercarpet": [
           {
            "marker": {
             "colorbar": {
              "outlinewidth": 0,
              "ticks": ""
             }
            },
            "type": "scattercarpet"
           }
          ],
          "scattergeo": [
           {
            "marker": {
             "colorbar": {
              "outlinewidth": 0,
              "ticks": ""
             }
            },
            "type": "scattergeo"
           }
          ],
          "scattergl": [
           {
            "marker": {
             "colorbar": {
              "outlinewidth": 0,
              "ticks": ""
             }
            },
            "type": "scattergl"
           }
          ],
          "scattermapbox": [
           {
            "marker": {
             "colorbar": {
              "outlinewidth": 0,
              "ticks": ""
             }
            },
            "type": "scattermapbox"
           }
          ],
          "scatterpolar": [
           {
            "marker": {
             "colorbar": {
              "outlinewidth": 0,
              "ticks": ""
             }
            },
            "type": "scatterpolar"
           }
          ],
          "scatterpolargl": [
           {
            "marker": {
             "colorbar": {
              "outlinewidth": 0,
              "ticks": ""
             }
            },
            "type": "scatterpolargl"
           }
          ],
          "scatterternary": [
           {
            "marker": {
             "colorbar": {
              "outlinewidth": 0,
              "ticks": ""
             }
            },
            "type": "scatterternary"
           }
          ],
          "surface": [
           {
            "colorbar": {
             "outlinewidth": 0,
             "ticks": ""
            },
            "colorscale": [
             [
              0,
              "#0d0887"
             ],
             [
              0.1111111111111111,
              "#46039f"
             ],
             [
              0.2222222222222222,
              "#7201a8"
             ],
             [
              0.3333333333333333,
              "#9c179e"
             ],
             [
              0.4444444444444444,
              "#bd3786"
             ],
             [
              0.5555555555555556,
              "#d8576b"
             ],
             [
              0.6666666666666666,
              "#ed7953"
             ],
             [
              0.7777777777777778,
              "#fb9f3a"
             ],
             [
              0.8888888888888888,
              "#fdca26"
             ],
             [
              1,
              "#f0f921"
             ]
            ],
            "type": "surface"
           }
          ],
          "table": [
           {
            "cells": {
             "fill": {
              "color": "#EBF0F8"
             },
             "line": {
              "color": "white"
             }
            },
            "header": {
             "fill": {
              "color": "#C8D4E3"
             },
             "line": {
              "color": "white"
             }
            },
            "type": "table"
           }
          ]
         },
         "layout": {
          "annotationdefaults": {
           "arrowcolor": "#2a3f5f",
           "arrowhead": 0,
           "arrowwidth": 1
          },
          "autotypenumbers": "strict",
          "coloraxis": {
           "colorbar": {
            "outlinewidth": 0,
            "ticks": ""
           }
          },
          "colorscale": {
           "diverging": [
            [
             0,
             "#8e0152"
            ],
            [
             0.1,
             "#c51b7d"
            ],
            [
             0.2,
             "#de77ae"
            ],
            [
             0.3,
             "#f1b6da"
            ],
            [
             0.4,
             "#fde0ef"
            ],
            [
             0.5,
             "#f7f7f7"
            ],
            [
             0.6,
             "#e6f5d0"
            ],
            [
             0.7,
             "#b8e186"
            ],
            [
             0.8,
             "#7fbc41"
            ],
            [
             0.9,
             "#4d9221"
            ],
            [
             1,
             "#276419"
            ]
           ],
           "sequential": [
            [
             0,
             "#0d0887"
            ],
            [
             0.1111111111111111,
             "#46039f"
            ],
            [
             0.2222222222222222,
             "#7201a8"
            ],
            [
             0.3333333333333333,
             "#9c179e"
            ],
            [
             0.4444444444444444,
             "#bd3786"
            ],
            [
             0.5555555555555556,
             "#d8576b"
            ],
            [
             0.6666666666666666,
             "#ed7953"
            ],
            [
             0.7777777777777778,
             "#fb9f3a"
            ],
            [
             0.8888888888888888,
             "#fdca26"
            ],
            [
             1,
             "#f0f921"
            ]
           ],
           "sequentialminus": [
            [
             0,
             "#0d0887"
            ],
            [
             0.1111111111111111,
             "#46039f"
            ],
            [
             0.2222222222222222,
             "#7201a8"
            ],
            [
             0.3333333333333333,
             "#9c179e"
            ],
            [
             0.4444444444444444,
             "#bd3786"
            ],
            [
             0.5555555555555556,
             "#d8576b"
            ],
            [
             0.6666666666666666,
             "#ed7953"
            ],
            [
             0.7777777777777778,
             "#fb9f3a"
            ],
            [
             0.8888888888888888,
             "#fdca26"
            ],
            [
             1,
             "#f0f921"
            ]
           ]
          },
          "colorway": [
           "#636efa",
           "#EF553B",
           "#00cc96",
           "#ab63fa",
           "#FFA15A",
           "#19d3f3",
           "#FF6692",
           "#B6E880",
           "#FF97FF",
           "#FECB52"
          ],
          "font": {
           "color": "#2a3f5f"
          },
          "geo": {
           "bgcolor": "white",
           "lakecolor": "white",
           "landcolor": "#E5ECF6",
           "showlakes": true,
           "showland": true,
           "subunitcolor": "white"
          },
          "hoverlabel": {
           "align": "left"
          },
          "hovermode": "closest",
          "mapbox": {
           "style": "light"
          },
          "paper_bgcolor": "white",
          "plot_bgcolor": "#E5ECF6",
          "polar": {
           "angularaxis": {
            "gridcolor": "white",
            "linecolor": "white",
            "ticks": ""
           },
           "bgcolor": "#E5ECF6",
           "radialaxis": {
            "gridcolor": "white",
            "linecolor": "white",
            "ticks": ""
           }
          },
          "scene": {
           "xaxis": {
            "backgroundcolor": "#E5ECF6",
            "gridcolor": "white",
            "gridwidth": 2,
            "linecolor": "white",
            "showbackground": true,
            "ticks": "",
            "zerolinecolor": "white"
           },
           "yaxis": {
            "backgroundcolor": "#E5ECF6",
            "gridcolor": "white",
            "gridwidth": 2,
            "linecolor": "white",
            "showbackground": true,
            "ticks": "",
            "zerolinecolor": "white"
           },
           "zaxis": {
            "backgroundcolor": "#E5ECF6",
            "gridcolor": "white",
            "gridwidth": 2,
            "linecolor": "white",
            "showbackground": true,
            "ticks": "",
            "zerolinecolor": "white"
           }
          },
          "shapedefaults": {
           "line": {
            "color": "#2a3f5f"
           }
          },
          "ternary": {
           "aaxis": {
            "gridcolor": "white",
            "linecolor": "white",
            "ticks": ""
           },
           "baxis": {
            "gridcolor": "white",
            "linecolor": "white",
            "ticks": ""
           },
           "bgcolor": "#E5ECF6",
           "caxis": {
            "gridcolor": "white",
            "linecolor": "white",
            "ticks": ""
           }
          },
          "title": {
           "x": 0.05
          },
          "xaxis": {
           "automargin": true,
           "gridcolor": "white",
           "linecolor": "white",
           "ticks": "",
           "title": {
            "standoff": 15
           },
           "zerolinecolor": "white",
           "zerolinewidth": 2
          },
          "yaxis": {
           "automargin": true,
           "gridcolor": "white",
           "linecolor": "white",
           "ticks": "",
           "title": {
            "standoff": 15
           },
           "zerolinecolor": "white",
           "zerolinewidth": 2
          }
         }
        },
        "title": {
         "text": "Mean Count_median by Country and Year for People with HIV in Africa"
        },
        "xaxis": {
         "anchor": "y",
         "domain": [
          0,
          1
         ],
         "title": {
          "text": "Year"
         }
        },
        "yaxis": {
         "anchor": "x",
         "domain": [
          0,
          1
         ],
         "title": {
          "text": "Mean Count_median"
         }
        }
       }
      },
      "text/html": [
       "<div>                            <div id=\"d679e20e-1459-4b1b-96aa-524c35aeb326\" class=\"plotly-graph-div\" style=\"height:525px; width:100%;\"></div>            <script type=\"text/javascript\">                require([\"plotly\"], function(Plotly) {                    window.PLOTLYENV=window.PLOTLYENV || {};                                    if (document.getElementById(\"d679e20e-1459-4b1b-96aa-524c35aeb326\")) {                    Plotly.newPlot(                        \"d679e20e-1459-4b1b-96aa-524c35aeb326\",                        [{\"alignmentgroup\":\"True\",\"hovertemplate\":\"Country=Algeria<br>Year=%{x}<br>Mean Count_median=%{y}<extra></extra>\",\"legendgroup\":\"Algeria\",\"marker\":{\"color\":\"#636efa\",\"pattern\":{\"shape\":\"\"}},\"name\":\"Algeria\",\"offsetgroup\":\"Algeria\",\"orientation\":\"v\",\"showlegend\":true,\"textposition\":\"auto\",\"x\":[2000,2005,2010,2018],\"xaxis\":\"x\",\"y\":[1900.0,3700.0,7100.0,16000.0],\"yaxis\":\"y\",\"type\":\"bar\"},{\"alignmentgroup\":\"True\",\"hovertemplate\":\"Country=Angola<br>Year=%{x}<br>Mean Count_median=%{y}<extra></extra>\",\"legendgroup\":\"Angola\",\"marker\":{\"color\":\"#EF553B\",\"pattern\":{\"shape\":\"\"}},\"name\":\"Angola\",\"offsetgroup\":\"Angola\",\"orientation\":\"v\",\"showlegend\":true,\"textposition\":\"auto\",\"x\":[2000,2005,2010,2018],\"xaxis\":\"x\",\"y\":[87000.0,150000.0,220000.0,330000.0],\"yaxis\":\"y\",\"type\":\"bar\"},{\"alignmentgroup\":\"True\",\"hovertemplate\":\"Country=Benin<br>Year=%{x}<br>Mean Count_median=%{y}<extra></extra>\",\"legendgroup\":\"Benin\",\"marker\":{\"color\":\"#00cc96\",\"pattern\":{\"shape\":\"\"}},\"name\":\"Benin\",\"offsetgroup\":\"Benin\",\"orientation\":\"v\",\"showlegend\":true,\"textposition\":\"auto\",\"x\":[2000,2005,2010,2018],\"xaxis\":\"x\",\"y\":[47000.0,56000.0,61000.0,73000.0],\"yaxis\":\"y\",\"type\":\"bar\"},{\"alignmentgroup\":\"True\",\"hovertemplate\":\"Country=Botswana<br>Year=%{x}<br>Mean Count_median=%{y}<extra></extra>\",\"legendgroup\":\"Botswana\",\"marker\":{\"color\":\"#ab63fa\",\"pattern\":{\"shape\":\"\"}},\"name\":\"Botswana\",\"offsetgroup\":\"Botswana\",\"orientation\":\"v\",\"showlegend\":true,\"textposition\":\"auto\",\"x\":[2000,2005,2010,2018],\"xaxis\":\"x\",\"y\":[280000.0,310000.0,340000.0,370000.0],\"yaxis\":\"y\",\"type\":\"bar\"},{\"alignmentgroup\":\"True\",\"hovertemplate\":\"Country=Burkina Faso<br>Year=%{x}<br>Mean Count_median=%{y}<extra></extra>\",\"legendgroup\":\"Burkina Faso\",\"marker\":{\"color\":\"#FFA15A\",\"pattern\":{\"shape\":\"\"}},\"name\":\"Burkina Faso\",\"offsetgroup\":\"Burkina Faso\",\"orientation\":\"v\",\"showlegend\":true,\"textposition\":\"auto\",\"x\":[2000,2005,2010,2018],\"xaxis\":\"x\",\"y\":[140000.0,120000.0,110000.0,96000.0],\"yaxis\":\"y\",\"type\":\"bar\"},{\"alignmentgroup\":\"True\",\"hovertemplate\":\"Country=Burundi<br>Year=%{x}<br>Mean Count_median=%{y}<extra></extra>\",\"legendgroup\":\"Burundi\",\"marker\":{\"color\":\"#19d3f3\",\"pattern\":{\"shape\":\"\"}},\"name\":\"Burundi\",\"offsetgroup\":\"Burundi\",\"orientation\":\"v\",\"showlegend\":true,\"textposition\":\"auto\",\"x\":[2000,2005,2010,2018],\"xaxis\":\"x\",\"y\":[130000.0,110000.0,93000.0,82000.0],\"yaxis\":\"y\",\"type\":\"bar\"},{\"alignmentgroup\":\"True\",\"hovertemplate\":\"Country=Cabo Verde<br>Year=%{x}<br>Mean Count_median=%{y}<extra></extra>\",\"legendgroup\":\"Cabo Verde\",\"marker\":{\"color\":\"#FF6692\",\"pattern\":{\"shape\":\"\"}},\"name\":\"Cabo Verde\",\"offsetgroup\":\"Cabo Verde\",\"orientation\":\"v\",\"showlegend\":true,\"textposition\":\"auto\",\"x\":[2000,2005,2010,2018],\"xaxis\":\"x\",\"y\":[1600.0,1800.0,2100.0,2400.0],\"yaxis\":\"y\",\"type\":\"bar\"},{\"alignmentgroup\":\"True\",\"hovertemplate\":\"Country=Cameroon<br>Year=%{x}<br>Mean Count_median=%{y}<extra></extra>\",\"legendgroup\":\"Cameroon\",\"marker\":{\"color\":\"#B6E880\",\"pattern\":{\"shape\":\"\"}},\"name\":\"Cameroon\",\"offsetgroup\":\"Cameroon\",\"orientation\":\"v\",\"showlegend\":true,\"textposition\":\"auto\",\"x\":[2000,2005,2010,2018],\"xaxis\":\"x\",\"y\":[370000.0,470000.0,520000.0,540000.0],\"yaxis\":\"y\",\"type\":\"bar\"},{\"alignmentgroup\":\"True\",\"hovertemplate\":\"Country=Central African Republic<br>Year=%{x}<br>Mean Count_median=%{y}<extra></extra>\",\"legendgroup\":\"Central African Republic\",\"marker\":{\"color\":\"#FF97FF\",\"pattern\":{\"shape\":\"\"}},\"name\":\"Central African Republic\",\"offsetgroup\":\"Central African Republic\",\"orientation\":\"v\",\"showlegend\":true,\"textposition\":\"auto\",\"x\":[2000,2005,2010,2018],\"xaxis\":\"x\",\"y\":[160000.0,150000.0,140000.0,110000.0],\"yaxis\":\"y\",\"type\":\"bar\"},{\"alignmentgroup\":\"True\",\"hovertemplate\":\"Country=Chad<br>Year=%{x}<br>Mean Count_median=%{y}<extra></extra>\",\"legendgroup\":\"Chad\",\"marker\":{\"color\":\"#FECB52\",\"pattern\":{\"shape\":\"\"}},\"name\":\"Chad\",\"offsetgroup\":\"Chad\",\"orientation\":\"v\",\"showlegend\":true,\"textposition\":\"auto\",\"x\":[2000,2005,2010,2018],\"xaxis\":\"x\",\"y\":[80000.0,88000.0,99000.0,120000.0],\"yaxis\":\"y\",\"type\":\"bar\"},{\"alignmentgroup\":\"True\",\"hovertemplate\":\"Country=Comoros<br>Year=%{x}<br>Mean Count_median=%{y}<extra></extra>\",\"legendgroup\":\"Comoros\",\"marker\":{\"color\":\"#636efa\",\"pattern\":{\"shape\":\"\"}},\"name\":\"Comoros\",\"offsetgroup\":\"Comoros\",\"orientation\":\"v\",\"showlegend\":true,\"textposition\":\"auto\",\"x\":[2000,2005,2010,2018],\"xaxis\":\"x\",\"y\":[100.0,100.0,200.0,200.0],\"yaxis\":\"y\",\"type\":\"bar\"},{\"alignmentgroup\":\"True\",\"hovertemplate\":\"Country=C\\u00f4te d'Ivoire<br>Year=%{x}<br>Mean Count_median=%{y}<extra></extra>\",\"legendgroup\":\"C\\u00f4te d'Ivoire\",\"marker\":{\"color\":\"#EF553B\",\"pattern\":{\"shape\":\"\"}},\"name\":\"C\\u00f4te d'Ivoire\",\"offsetgroup\":\"C\\u00f4te d'Ivoire\",\"orientation\":\"v\",\"showlegend\":true,\"textposition\":\"auto\",\"x\":[2000,2005,2010,2018],\"xaxis\":\"x\",\"y\":[590000.0,510000.0,480000.0,460000.0],\"yaxis\":\"y\",\"type\":\"bar\"},{\"alignmentgroup\":\"True\",\"hovertemplate\":\"Country=Democratic Republic of the Congo<br>Year=%{x}<br>Mean Count_median=%{y}<extra></extra>\",\"legendgroup\":\"Democratic Republic of the Congo\",\"marker\":{\"color\":\"#00cc96\",\"pattern\":{\"shape\":\"\"}},\"name\":\"Democratic Republic of the Congo\",\"offsetgroup\":\"Democratic Republic of the Congo\",\"orientation\":\"v\",\"showlegend\":true,\"textposition\":\"auto\",\"x\":[2000,2005,2010,2018],\"xaxis\":\"x\",\"y\":[540000.0,510000.0,480000.0,450000.0],\"yaxis\":\"y\",\"type\":\"bar\"},{\"alignmentgroup\":\"True\",\"hovertemplate\":\"Country=Equatorial Guinea<br>Year=%{x}<br>Mean Count_median=%{y}<extra></extra>\",\"legendgroup\":\"Equatorial Guinea\",\"marker\":{\"color\":\"#ab63fa\",\"pattern\":{\"shape\":\"\"}},\"name\":\"Equatorial Guinea\",\"offsetgroup\":\"Equatorial Guinea\",\"orientation\":\"v\",\"showlegend\":true,\"textposition\":\"auto\",\"x\":[2000,2005,2010,2018],\"xaxis\":\"x\",\"y\":[13000.0,22000.0,35000.0,62000.0],\"yaxis\":\"y\",\"type\":\"bar\"},{\"alignmentgroup\":\"True\",\"hovertemplate\":\"Country=Eritrea<br>Year=%{x}<br>Mean Count_median=%{y}<extra></extra>\",\"legendgroup\":\"Eritrea\",\"marker\":{\"color\":\"#FFA15A\",\"pattern\":{\"shape\":\"\"}},\"name\":\"Eritrea\",\"offsetgroup\":\"Eritrea\",\"orientation\":\"v\",\"showlegend\":true,\"textposition\":\"auto\",\"x\":[2000,2005,2010,2018],\"xaxis\":\"x\",\"y\":[16000.0,17000.0,17000.0,18000.0],\"yaxis\":\"y\",\"type\":\"bar\"},{\"alignmentgroup\":\"True\",\"hovertemplate\":\"Country=Eswatini<br>Year=%{x}<br>Mean Count_median=%{y}<extra></extra>\",\"legendgroup\":\"Eswatini\",\"marker\":{\"color\":\"#19d3f3\",\"pattern\":{\"shape\":\"\"}},\"name\":\"Eswatini\",\"offsetgroup\":\"Eswatini\",\"orientation\":\"v\",\"showlegend\":true,\"textposition\":\"auto\",\"x\":[2000,2005,2010,2018],\"xaxis\":\"x\",\"y\":[110000.0,130000.0,160000.0,210000.0],\"yaxis\":\"y\",\"type\":\"bar\"},{\"alignmentgroup\":\"True\",\"hovertemplate\":\"Country=Ethiopia<br>Year=%{x}<br>Mean Count_median=%{y}<extra></extra>\",\"legendgroup\":\"Ethiopia\",\"marker\":{\"color\":\"#FF6692\",\"pattern\":{\"shape\":\"\"}},\"name\":\"Ethiopia\",\"offsetgroup\":\"Ethiopia\",\"orientation\":\"v\",\"showlegend\":true,\"textposition\":\"auto\",\"x\":[2000,2005,2010,2018],\"xaxis\":\"x\",\"y\":[750000.0,640000.0,630000.0,690000.0],\"yaxis\":\"y\",\"type\":\"bar\"},{\"alignmentgroup\":\"True\",\"hovertemplate\":\"Country=Gabon<br>Year=%{x}<br>Mean Count_median=%{y}<extra></extra>\",\"legendgroup\":\"Gabon\",\"marker\":{\"color\":\"#B6E880\",\"pattern\":{\"shape\":\"\"}},\"name\":\"Gabon\",\"offsetgroup\":\"Gabon\",\"orientation\":\"v\",\"showlegend\":true,\"textposition\":\"auto\",\"x\":[2000,2005,2010,2018],\"xaxis\":\"x\",\"y\":[28000.0,35000.0,43000.0,53000.0],\"yaxis\":\"y\",\"type\":\"bar\"},{\"alignmentgroup\":\"True\",\"hovertemplate\":\"Country=Gambia<br>Year=%{x}<br>Mean Count_median=%{y}<extra></extra>\",\"legendgroup\":\"Gambia\",\"marker\":{\"color\":\"#FF97FF\",\"pattern\":{\"shape\":\"\"}},\"name\":\"Gambia\",\"offsetgroup\":\"Gambia\",\"orientation\":\"v\",\"showlegend\":true,\"textposition\":\"auto\",\"x\":[2000,2005,2010,2018],\"xaxis\":\"x\",\"y\":[9900.0,15000.0,18000.0,26000.0],\"yaxis\":\"y\",\"type\":\"bar\"},{\"alignmentgroup\":\"True\",\"hovertemplate\":\"Country=Ghana<br>Year=%{x}<br>Mean Count_median=%{y}<extra></extra>\",\"legendgroup\":\"Ghana\",\"marker\":{\"color\":\"#FECB52\",\"pattern\":{\"shape\":\"\"}},\"name\":\"Ghana\",\"offsetgroup\":\"Ghana\",\"orientation\":\"v\",\"showlegend\":true,\"textposition\":\"auto\",\"x\":[2000,2005,2010,2018],\"xaxis\":\"x\",\"y\":[270000.0,280000.0,300000.0,330000.0],\"yaxis\":\"y\",\"type\":\"bar\"},{\"alignmentgroup\":\"True\",\"hovertemplate\":\"Country=Guinea<br>Year=%{x}<br>Mean Count_median=%{y}<extra></extra>\",\"legendgroup\":\"Guinea\",\"marker\":{\"color\":\"#636efa\",\"pattern\":{\"shape\":\"\"}},\"name\":\"Guinea\",\"offsetgroup\":\"Guinea\",\"orientation\":\"v\",\"showlegend\":true,\"textposition\":\"auto\",\"x\":[2000,2005,2010,2018],\"xaxis\":\"x\",\"y\":[83000.0,93000.0,100000.0,120000.0],\"yaxis\":\"y\",\"type\":\"bar\"},{\"alignmentgroup\":\"True\",\"hovertemplate\":\"Country=Guinea-Bissau<br>Year=%{x}<br>Mean Count_median=%{y}<extra></extra>\",\"legendgroup\":\"Guinea-Bissau\",\"marker\":{\"color\":\"#EF553B\",\"pattern\":{\"shape\":\"\"}},\"name\":\"Guinea-Bissau\",\"offsetgroup\":\"Guinea-Bissau\",\"orientation\":\"v\",\"showlegend\":true,\"textposition\":\"auto\",\"x\":[2000,2005,2010,2018],\"xaxis\":\"x\",\"y\":[22000.0,31000.0,38000.0,44000.0],\"yaxis\":\"y\",\"type\":\"bar\"},{\"alignmentgroup\":\"True\",\"hovertemplate\":\"Country=Kenya<br>Year=%{x}<br>Mean Count_median=%{y}<extra></extra>\",\"legendgroup\":\"Kenya\",\"marker\":{\"color\":\"#00cc96\",\"pattern\":{\"shape\":\"\"}},\"name\":\"Kenya\",\"offsetgroup\":\"Kenya\",\"orientation\":\"v\",\"showlegend\":true,\"textposition\":\"auto\",\"x\":[2000,2005,2010,2018],\"xaxis\":\"x\",\"y\":[1700000.0,1500000.0,1500000.0,1600000.0],\"yaxis\":\"y\",\"type\":\"bar\"},{\"alignmentgroup\":\"True\",\"hovertemplate\":\"Country=Lesotho<br>Year=%{x}<br>Mean Count_median=%{y}<extra></extra>\",\"legendgroup\":\"Lesotho\",\"marker\":{\"color\":\"#ab63fa\",\"pattern\":{\"shape\":\"\"}},\"name\":\"Lesotho\",\"offsetgroup\":\"Lesotho\",\"orientation\":\"v\",\"showlegend\":true,\"textposition\":\"auto\",\"x\":[2000,2005,2010,2018],\"xaxis\":\"x\",\"y\":[260000.0,280000.0,300000.0,340000.0],\"yaxis\":\"y\",\"type\":\"bar\"},{\"alignmentgroup\":\"True\",\"hovertemplate\":\"Country=Liberia<br>Year=%{x}<br>Mean Count_median=%{y}<extra></extra>\",\"legendgroup\":\"Liberia\",\"marker\":{\"color\":\"#FFA15A\",\"pattern\":{\"shape\":\"\"}},\"name\":\"Liberia\",\"offsetgroup\":\"Liberia\",\"orientation\":\"v\",\"showlegend\":true,\"textposition\":\"auto\",\"x\":[2000,2005,2010,2018],\"xaxis\":\"x\",\"y\":[43000.0,41000.0,41000.0,39000.0],\"yaxis\":\"y\",\"type\":\"bar\"},{\"alignmentgroup\":\"True\",\"hovertemplate\":\"Country=Madagascar<br>Year=%{x}<br>Mean Count_median=%{y}<extra></extra>\",\"legendgroup\":\"Madagascar\",\"marker\":{\"color\":\"#19d3f3\",\"pattern\":{\"shape\":\"\"}},\"name\":\"Madagascar\",\"offsetgroup\":\"Madagascar\",\"orientation\":\"v\",\"showlegend\":true,\"textposition\":\"auto\",\"x\":[2000,2005,2010,2018],\"xaxis\":\"x\",\"y\":[13000.0,19000.0,21000.0,39000.0],\"yaxis\":\"y\",\"type\":\"bar\"},{\"alignmentgroup\":\"True\",\"hovertemplate\":\"Country=Malawi<br>Year=%{x}<br>Mean Count_median=%{y}<extra></extra>\",\"legendgroup\":\"Malawi\",\"marker\":{\"color\":\"#FF6692\",\"pattern\":{\"shape\":\"\"}},\"name\":\"Malawi\",\"offsetgroup\":\"Malawi\",\"orientation\":\"v\",\"showlegend\":true,\"textposition\":\"auto\",\"x\":[2000,2005,2010,2018],\"xaxis\":\"x\",\"y\":[810000.0,820000.0,870000.0,1000000.0],\"yaxis\":\"y\",\"type\":\"bar\"},{\"alignmentgroup\":\"True\",\"hovertemplate\":\"Country=Mali<br>Year=%{x}<br>Mean Count_median=%{y}<extra></extra>\",\"legendgroup\":\"Mali\",\"marker\":{\"color\":\"#B6E880\",\"pattern\":{\"shape\":\"\"}},\"name\":\"Mali\",\"offsetgroup\":\"Mali\",\"orientation\":\"v\",\"showlegend\":true,\"textposition\":\"auto\",\"x\":[2000,2005,2010,2018],\"xaxis\":\"x\",\"y\":[110000.0,110000.0,120000.0,150000.0],\"yaxis\":\"y\",\"type\":\"bar\"},{\"alignmentgroup\":\"True\",\"hovertemplate\":\"Country=Mauritania<br>Year=%{x}<br>Mean Count_median=%{y}<extra></extra>\",\"legendgroup\":\"Mauritania\",\"marker\":{\"color\":\"#FF97FF\",\"pattern\":{\"shape\":\"\"}},\"name\":\"Mauritania\",\"offsetgroup\":\"Mauritania\",\"orientation\":\"v\",\"showlegend\":true,\"textposition\":\"auto\",\"x\":[2000,2005,2010,2018],\"xaxis\":\"x\",\"y\":[5500.0,7500.0,7100.0,5600.0],\"yaxis\":\"y\",\"type\":\"bar\"},{\"alignmentgroup\":\"True\",\"hovertemplate\":\"Country=Mauritius<br>Year=%{x}<br>Mean Count_median=%{y}<extra></extra>\",\"legendgroup\":\"Mauritius\",\"marker\":{\"color\":\"#FECB52\",\"pattern\":{\"shape\":\"\"}},\"name\":\"Mauritius\",\"offsetgroup\":\"Mauritius\",\"orientation\":\"v\",\"showlegend\":true,\"textposition\":\"auto\",\"x\":[2000,2005,2010,2018],\"xaxis\":\"x\",\"y\":[3200.0,8000.0,11000.0,13000.0],\"yaxis\":\"y\",\"type\":\"bar\"},{\"alignmentgroup\":\"True\",\"hovertemplate\":\"Country=Mozambique<br>Year=%{x}<br>Mean Count_median=%{y}<extra></extra>\",\"legendgroup\":\"Mozambique\",\"marker\":{\"color\":\"#636efa\",\"pattern\":{\"shape\":\"\"}},\"name\":\"Mozambique\",\"offsetgroup\":\"Mozambique\",\"orientation\":\"v\",\"showlegend\":true,\"textposition\":\"auto\",\"x\":[2000,2005,2010,2018],\"xaxis\":\"x\",\"y\":[840000.0,1200000.0,1600000.0,2200000.0],\"yaxis\":\"y\",\"type\":\"bar\"},{\"alignmentgroup\":\"True\",\"hovertemplate\":\"Country=Namibia<br>Year=%{x}<br>Mean Count_median=%{y}<extra></extra>\",\"legendgroup\":\"Namibia\",\"marker\":{\"color\":\"#EF553B\",\"pattern\":{\"shape\":\"\"}},\"name\":\"Namibia\",\"offsetgroup\":\"Namibia\",\"orientation\":\"v\",\"showlegend\":true,\"textposition\":\"auto\",\"x\":[2000,2005,2010,2018],\"xaxis\":\"x\",\"y\":[140000.0,160000.0,170000.0,200000.0],\"yaxis\":\"y\",\"type\":\"bar\"},{\"alignmentgroup\":\"True\",\"hovertemplate\":\"Country=Niger<br>Year=%{x}<br>Mean Count_median=%{y}<extra></extra>\",\"legendgroup\":\"Niger\",\"marker\":{\"color\":\"#00cc96\",\"pattern\":{\"shape\":\"\"}},\"name\":\"Niger\",\"offsetgroup\":\"Niger\",\"orientation\":\"v\",\"showlegend\":true,\"textposition\":\"auto\",\"x\":[2000,2005,2010,2018],\"xaxis\":\"x\",\"y\":[37000.0,40000.0,37000.0,36000.0],\"yaxis\":\"y\",\"type\":\"bar\"},{\"alignmentgroup\":\"True\",\"hovertemplate\":\"Country=Nigeria<br>Year=%{x}<br>Mean Count_median=%{y}<extra></extra>\",\"legendgroup\":\"Nigeria\",\"marker\":{\"color\":\"#ab63fa\",\"pattern\":{\"shape\":\"\"}},\"name\":\"Nigeria\",\"offsetgroup\":\"Nigeria\",\"orientation\":\"v\",\"showlegend\":true,\"textposition\":\"auto\",\"x\":[2000,2005,2010,2018],\"xaxis\":\"x\",\"y\":[1300000.0,1400000.0,1500000.0,1900000.0],\"yaxis\":\"y\",\"type\":\"bar\"},{\"alignmentgroup\":\"True\",\"hovertemplate\":\"Country=Rwanda<br>Year=%{x}<br>Mean Count_median=%{y}<extra></extra>\",\"legendgroup\":\"Rwanda\",\"marker\":{\"color\":\"#FFA15A\",\"pattern\":{\"shape\":\"\"}},\"name\":\"Rwanda\",\"offsetgroup\":\"Rwanda\",\"orientation\":\"v\",\"showlegend\":true,\"textposition\":\"auto\",\"x\":[2000,2005,2010,2018],\"xaxis\":\"x\",\"y\":[240000.0,220000.0,220000.0,220000.0],\"yaxis\":\"y\",\"type\":\"bar\"},{\"alignmentgroup\":\"True\",\"hovertemplate\":\"Country=Senegal<br>Year=%{x}<br>Mean Count_median=%{y}<extra></extra>\",\"legendgroup\":\"Senegal\",\"marker\":{\"color\":\"#19d3f3\",\"pattern\":{\"shape\":\"\"}},\"name\":\"Senegal\",\"offsetgroup\":\"Senegal\",\"orientation\":\"v\",\"showlegend\":true,\"textposition\":\"auto\",\"x\":[2000,2005,2010,2018],\"xaxis\":\"x\",\"y\":[33000.0,42000.0,44000.0,42000.0],\"yaxis\":\"y\",\"type\":\"bar\"},{\"alignmentgroup\":\"True\",\"hovertemplate\":\"Country=Sierra Leone<br>Year=%{x}<br>Mean Count_median=%{y}<extra></extra>\",\"legendgroup\":\"Sierra Leone\",\"marker\":{\"color\":\"#FF6692\",\"pattern\":{\"shape\":\"\"}},\"name\":\"Sierra Leone\",\"offsetgroup\":\"Sierra Leone\",\"orientation\":\"v\",\"showlegend\":true,\"textposition\":\"auto\",\"x\":[2000,2005,2010,2018],\"xaxis\":\"x\",\"y\":[40000.0,51000.0,58000.0,70000.0],\"yaxis\":\"y\",\"type\":\"bar\"},{\"alignmentgroup\":\"True\",\"hovertemplate\":\"Country=South Africa<br>Year=%{x}<br>Mean Count_median=%{y}<extra></extra>\",\"legendgroup\":\"South Africa\",\"marker\":{\"color\":\"#B6E880\",\"pattern\":{\"shape\":\"\"}},\"name\":\"South Africa\",\"offsetgroup\":\"South Africa\",\"orientation\":\"v\",\"showlegend\":true,\"textposition\":\"auto\",\"x\":[2000,2005,2010,2018],\"xaxis\":\"x\",\"y\":[3300000.0,5000000.0,6100000.0,7700000.0],\"yaxis\":\"y\",\"type\":\"bar\"},{\"alignmentgroup\":\"True\",\"hovertemplate\":\"Country=South Sudan<br>Year=%{x}<br>Mean Count_median=%{y}<extra></extra>\",\"legendgroup\":\"South Sudan\",\"marker\":{\"color\":\"#FF97FF\",\"pattern\":{\"shape\":\"\"}},\"name\":\"South Sudan\",\"offsetgroup\":\"South Sudan\",\"orientation\":\"v\",\"showlegend\":true,\"textposition\":\"auto\",\"x\":[2000,2005,2010,2018],\"xaxis\":\"x\",\"y\":[90000.0,120000.0,140000.0,190000.0],\"yaxis\":\"y\",\"type\":\"bar\"},{\"alignmentgroup\":\"True\",\"hovertemplate\":\"Country=Togo<br>Year=%{x}<br>Mean Count_median=%{y}<extra></extra>\",\"legendgroup\":\"Togo\",\"marker\":{\"color\":\"#FECB52\",\"pattern\":{\"shape\":\"\"}},\"name\":\"Togo\",\"offsetgroup\":\"Togo\",\"orientation\":\"v\",\"showlegend\":true,\"textposition\":\"auto\",\"x\":[2000,2005,2010,2018],\"xaxis\":\"x\",\"y\":[94000.0,100000.0,100000.0,110000.0],\"yaxis\":\"y\",\"type\":\"bar\"},{\"alignmentgroup\":\"True\",\"hovertemplate\":\"Country=Uganda<br>Year=%{x}<br>Mean Count_median=%{y}<extra></extra>\",\"legendgroup\":\"Uganda\",\"marker\":{\"color\":\"#636efa\",\"pattern\":{\"shape\":\"\"}},\"name\":\"Uganda\",\"offsetgroup\":\"Uganda\",\"orientation\":\"v\",\"showlegend\":true,\"textposition\":\"auto\",\"x\":[2000,2005,2010,2018],\"xaxis\":\"x\",\"y\":[1000000.0,1100000.0,1200000.0,1400000.0],\"yaxis\":\"y\",\"type\":\"bar\"},{\"alignmentgroup\":\"True\",\"hovertemplate\":\"Country=United Republic of Tanzania<br>Year=%{x}<br>Mean Count_median=%{y}<extra></extra>\",\"legendgroup\":\"United Republic of Tanzania\",\"marker\":{\"color\":\"#EF553B\",\"pattern\":{\"shape\":\"\"}},\"name\":\"United Republic of Tanzania\",\"offsetgroup\":\"United Republic of Tanzania\",\"orientation\":\"v\",\"showlegend\":true,\"textposition\":\"auto\",\"x\":[2000,2005,2010,2018],\"xaxis\":\"x\",\"y\":[1100000.0,1200000.0,1300000.0,1600000.0],\"yaxis\":\"y\",\"type\":\"bar\"},{\"alignmentgroup\":\"True\",\"hovertemplate\":\"Country=Zambia<br>Year=%{x}<br>Mean Count_median=%{y}<extra></extra>\",\"legendgroup\":\"Zambia\",\"marker\":{\"color\":\"#00cc96\",\"pattern\":{\"shape\":\"\"}},\"name\":\"Zambia\",\"offsetgroup\":\"Zambia\",\"orientation\":\"v\",\"showlegend\":true,\"textposition\":\"auto\",\"x\":[2000,2005,2010,2018],\"xaxis\":\"x\",\"y\":[890000.0,920000.0,1000000.0,1200000.0],\"yaxis\":\"y\",\"type\":\"bar\"},{\"alignmentgroup\":\"True\",\"hovertemplate\":\"Country=Zimbabwe<br>Year=%{x}<br>Mean Count_median=%{y}<extra></extra>\",\"legendgroup\":\"Zimbabwe\",\"marker\":{\"color\":\"#ab63fa\",\"pattern\":{\"shape\":\"\"}},\"name\":\"Zimbabwe\",\"offsetgroup\":\"Zimbabwe\",\"orientation\":\"v\",\"showlegend\":true,\"textposition\":\"auto\",\"x\":[2000,2005,2010,2018],\"xaxis\":\"x\",\"y\":[1600000.0,1400000.0,1200000.0,1300000.0],\"yaxis\":\"y\",\"type\":\"bar\"}],                        {\"template\":{\"data\":{\"histogram2dcontour\":[{\"type\":\"histogram2dcontour\",\"colorbar\":{\"outlinewidth\":0,\"ticks\":\"\"},\"colorscale\":[[0.0,\"#0d0887\"],[0.1111111111111111,\"#46039f\"],[0.2222222222222222,\"#7201a8\"],[0.3333333333333333,\"#9c179e\"],[0.4444444444444444,\"#bd3786\"],[0.5555555555555556,\"#d8576b\"],[0.6666666666666666,\"#ed7953\"],[0.7777777777777778,\"#fb9f3a\"],[0.8888888888888888,\"#fdca26\"],[1.0,\"#f0f921\"]]}],\"choropleth\":[{\"type\":\"choropleth\",\"colorbar\":{\"outlinewidth\":0,\"ticks\":\"\"}}],\"histogram2d\":[{\"type\":\"histogram2d\",\"colorbar\":{\"outlinewidth\":0,\"ticks\":\"\"},\"colorscale\":[[0.0,\"#0d0887\"],[0.1111111111111111,\"#46039f\"],[0.2222222222222222,\"#7201a8\"],[0.3333333333333333,\"#9c179e\"],[0.4444444444444444,\"#bd3786\"],[0.5555555555555556,\"#d8576b\"],[0.6666666666666666,\"#ed7953\"],[0.7777777777777778,\"#fb9f3a\"],[0.8888888888888888,\"#fdca26\"],[1.0,\"#f0f921\"]]}],\"heatmap\":[{\"type\":\"heatmap\",\"colorbar\":{\"outlinewidth\":0,\"ticks\":\"\"},\"colorscale\":[[0.0,\"#0d0887\"],[0.1111111111111111,\"#46039f\"],[0.2222222222222222,\"#7201a8\"],[0.3333333333333333,\"#9c179e\"],[0.4444444444444444,\"#bd3786\"],[0.5555555555555556,\"#d8576b\"],[0.6666666666666666,\"#ed7953\"],[0.7777777777777778,\"#fb9f3a\"],[0.8888888888888888,\"#fdca26\"],[1.0,\"#f0f921\"]]}],\"heatmapgl\":[{\"type\":\"heatmapgl\",\"colorbar\":{\"outlinewidth\":0,\"ticks\":\"\"},\"colorscale\":[[0.0,\"#0d0887\"],[0.1111111111111111,\"#46039f\"],[0.2222222222222222,\"#7201a8\"],[0.3333333333333333,\"#9c179e\"],[0.4444444444444444,\"#bd3786\"],[0.5555555555555556,\"#d8576b\"],[0.6666666666666666,\"#ed7953\"],[0.7777777777777778,\"#fb9f3a\"],[0.8888888888888888,\"#fdca26\"],[1.0,\"#f0f921\"]]}],\"contourcarpet\":[{\"type\":\"contourcarpet\",\"colorbar\":{\"outlinewidth\":0,\"ticks\":\"\"}}],\"contour\":[{\"type\":\"contour\",\"colorbar\":{\"outlinewidth\":0,\"ticks\":\"\"},\"colorscale\":[[0.0,\"#0d0887\"],[0.1111111111111111,\"#46039f\"],[0.2222222222222222,\"#7201a8\"],[0.3333333333333333,\"#9c179e\"],[0.4444444444444444,\"#bd3786\"],[0.5555555555555556,\"#d8576b\"],[0.6666666666666666,\"#ed7953\"],[0.7777777777777778,\"#fb9f3a\"],[0.8888888888888888,\"#fdca26\"],[1.0,\"#f0f921\"]]}],\"surface\":[{\"type\":\"surface\",\"colorbar\":{\"outlinewidth\":0,\"ticks\":\"\"},\"colorscale\":[[0.0,\"#0d0887\"],[0.1111111111111111,\"#46039f\"],[0.2222222222222222,\"#7201a8\"],[0.3333333333333333,\"#9c179e\"],[0.4444444444444444,\"#bd3786\"],[0.5555555555555556,\"#d8576b\"],[0.6666666666666666,\"#ed7953\"],[0.7777777777777778,\"#fb9f3a\"],[0.8888888888888888,\"#fdca26\"],[1.0,\"#f0f921\"]]}],\"mesh3d\":[{\"type\":\"mesh3d\",\"colorbar\":{\"outlinewidth\":0,\"ticks\":\"\"}}],\"scatter\":[{\"fillpattern\":{\"fillmode\":\"overlay\",\"size\":10,\"solidity\":0.2},\"type\":\"scatter\"}],\"parcoords\":[{\"type\":\"parcoords\",\"line\":{\"colorbar\":{\"outlinewidth\":0,\"ticks\":\"\"}}}],\"scatterpolargl\":[{\"type\":\"scatterpolargl\",\"marker\":{\"colorbar\":{\"outlinewidth\":0,\"ticks\":\"\"}}}],\"bar\":[{\"error_x\":{\"color\":\"#2a3f5f\"},\"error_y\":{\"color\":\"#2a3f5f\"},\"marker\":{\"line\":{\"color\":\"#E5ECF6\",\"width\":0.5},\"pattern\":{\"fillmode\":\"overlay\",\"size\":10,\"solidity\":0.2}},\"type\":\"bar\"}],\"scattergeo\":[{\"type\":\"scattergeo\",\"marker\":{\"colorbar\":{\"outlinewidth\":0,\"ticks\":\"\"}}}],\"scatterpolar\":[{\"type\":\"scatterpolar\",\"marker\":{\"colorbar\":{\"outlinewidth\":0,\"ticks\":\"\"}}}],\"histogram\":[{\"marker\":{\"pattern\":{\"fillmode\":\"overlay\",\"size\":10,\"solidity\":0.2}},\"type\":\"histogram\"}],\"scattergl\":[{\"type\":\"scattergl\",\"marker\":{\"colorbar\":{\"outlinewidth\":0,\"ticks\":\"\"}}}],\"scatter3d\":[{\"type\":\"scatter3d\",\"line\":{\"colorbar\":{\"outlinewidth\":0,\"ticks\":\"\"}},\"marker\":{\"colorbar\":{\"outlinewidth\":0,\"ticks\":\"\"}}}],\"scattermapbox\":[{\"type\":\"scattermapbox\",\"marker\":{\"colorbar\":{\"outlinewidth\":0,\"ticks\":\"\"}}}],\"scatterternary\":[{\"type\":\"scatterternary\",\"marker\":{\"colorbar\":{\"outlinewidth\":0,\"ticks\":\"\"}}}],\"scattercarpet\":[{\"type\":\"scattercarpet\",\"marker\":{\"colorbar\":{\"outlinewidth\":0,\"ticks\":\"\"}}}],\"carpet\":[{\"aaxis\":{\"endlinecolor\":\"#2a3f5f\",\"gridcolor\":\"white\",\"linecolor\":\"white\",\"minorgridcolor\":\"white\",\"startlinecolor\":\"#2a3f5f\"},\"baxis\":{\"endlinecolor\":\"#2a3f5f\",\"gridcolor\":\"white\",\"linecolor\":\"white\",\"minorgridcolor\":\"white\",\"startlinecolor\":\"#2a3f5f\"},\"type\":\"carpet\"}],\"table\":[{\"cells\":{\"fill\":{\"color\":\"#EBF0F8\"},\"line\":{\"color\":\"white\"}},\"header\":{\"fill\":{\"color\":\"#C8D4E3\"},\"line\":{\"color\":\"white\"}},\"type\":\"table\"}],\"barpolar\":[{\"marker\":{\"line\":{\"color\":\"#E5ECF6\",\"width\":0.5},\"pattern\":{\"fillmode\":\"overlay\",\"size\":10,\"solidity\":0.2}},\"type\":\"barpolar\"}],\"pie\":[{\"automargin\":true,\"type\":\"pie\"}]},\"layout\":{\"autotypenumbers\":\"strict\",\"colorway\":[\"#636efa\",\"#EF553B\",\"#00cc96\",\"#ab63fa\",\"#FFA15A\",\"#19d3f3\",\"#FF6692\",\"#B6E880\",\"#FF97FF\",\"#FECB52\"],\"font\":{\"color\":\"#2a3f5f\"},\"hovermode\":\"closest\",\"hoverlabel\":{\"align\":\"left\"},\"paper_bgcolor\":\"white\",\"plot_bgcolor\":\"#E5ECF6\",\"polar\":{\"bgcolor\":\"#E5ECF6\",\"angularaxis\":{\"gridcolor\":\"white\",\"linecolor\":\"white\",\"ticks\":\"\"},\"radialaxis\":{\"gridcolor\":\"white\",\"linecolor\":\"white\",\"ticks\":\"\"}},\"ternary\":{\"bgcolor\":\"#E5ECF6\",\"aaxis\":{\"gridcolor\":\"white\",\"linecolor\":\"white\",\"ticks\":\"\"},\"baxis\":{\"gridcolor\":\"white\",\"linecolor\":\"white\",\"ticks\":\"\"},\"caxis\":{\"gridcolor\":\"white\",\"linecolor\":\"white\",\"ticks\":\"\"}},\"coloraxis\":{\"colorbar\":{\"outlinewidth\":0,\"ticks\":\"\"}},\"colorscale\":{\"sequential\":[[0.0,\"#0d0887\"],[0.1111111111111111,\"#46039f\"],[0.2222222222222222,\"#7201a8\"],[0.3333333333333333,\"#9c179e\"],[0.4444444444444444,\"#bd3786\"],[0.5555555555555556,\"#d8576b\"],[0.6666666666666666,\"#ed7953\"],[0.7777777777777778,\"#fb9f3a\"],[0.8888888888888888,\"#fdca26\"],[1.0,\"#f0f921\"]],\"sequentialminus\":[[0.0,\"#0d0887\"],[0.1111111111111111,\"#46039f\"],[0.2222222222222222,\"#7201a8\"],[0.3333333333333333,\"#9c179e\"],[0.4444444444444444,\"#bd3786\"],[0.5555555555555556,\"#d8576b\"],[0.6666666666666666,\"#ed7953\"],[0.7777777777777778,\"#fb9f3a\"],[0.8888888888888888,\"#fdca26\"],[1.0,\"#f0f921\"]],\"diverging\":[[0,\"#8e0152\"],[0.1,\"#c51b7d\"],[0.2,\"#de77ae\"],[0.3,\"#f1b6da\"],[0.4,\"#fde0ef\"],[0.5,\"#f7f7f7\"],[0.6,\"#e6f5d0\"],[0.7,\"#b8e186\"],[0.8,\"#7fbc41\"],[0.9,\"#4d9221\"],[1,\"#276419\"]]},\"xaxis\":{\"gridcolor\":\"white\",\"linecolor\":\"white\",\"ticks\":\"\",\"title\":{\"standoff\":15},\"zerolinecolor\":\"white\",\"automargin\":true,\"zerolinewidth\":2},\"yaxis\":{\"gridcolor\":\"white\",\"linecolor\":\"white\",\"ticks\":\"\",\"title\":{\"standoff\":15},\"zerolinecolor\":\"white\",\"automargin\":true,\"zerolinewidth\":2},\"scene\":{\"xaxis\":{\"backgroundcolor\":\"#E5ECF6\",\"gridcolor\":\"white\",\"linecolor\":\"white\",\"showbackground\":true,\"ticks\":\"\",\"zerolinecolor\":\"white\",\"gridwidth\":2},\"yaxis\":{\"backgroundcolor\":\"#E5ECF6\",\"gridcolor\":\"white\",\"linecolor\":\"white\",\"showbackground\":true,\"ticks\":\"\",\"zerolinecolor\":\"white\",\"gridwidth\":2},\"zaxis\":{\"backgroundcolor\":\"#E5ECF6\",\"gridcolor\":\"white\",\"linecolor\":\"white\",\"showbackground\":true,\"ticks\":\"\",\"zerolinecolor\":\"white\",\"gridwidth\":2}},\"shapedefaults\":{\"line\":{\"color\":\"#2a3f5f\"}},\"annotationdefaults\":{\"arrowcolor\":\"#2a3f5f\",\"arrowhead\":0,\"arrowwidth\":1},\"geo\":{\"bgcolor\":\"white\",\"landcolor\":\"#E5ECF6\",\"subunitcolor\":\"white\",\"showland\":true,\"showlakes\":true,\"lakecolor\":\"white\"},\"title\":{\"x\":0.05},\"mapbox\":{\"style\":\"light\"}}},\"xaxis\":{\"anchor\":\"y\",\"domain\":[0.0,1.0],\"title\":{\"text\":\"Year\"}},\"yaxis\":{\"anchor\":\"x\",\"domain\":[0.0,1.0],\"title\":{\"text\":\"Mean Count_median\"}},\"legend\":{\"title\":{\"text\":\"Country\"},\"tracegroupgap\":0},\"title\":{\"text\":\"Mean Count_median by Country and Year for People with HIV in Africa\"},\"barmode\":\"relative\"},                        {\"responsive\": true}                    ).then(function(){\n",
       "                            \n",
       "var gd = document.getElementById('d679e20e-1459-4b1b-96aa-524c35aeb326');\n",
       "var x = new MutationObserver(function (mutations, observer) {{\n",
       "        var display = window.getComputedStyle(gd).display;\n",
       "        if (!display || display === 'none') {{\n",
       "            console.log([gd, 'removed!']);\n",
       "            Plotly.purge(gd);\n",
       "            observer.disconnect();\n",
       "        }}\n",
       "}});\n",
       "\n",
       "// Listen for the removal of the full notebook cells\n",
       "var notebookContainer = gd.closest('#notebook-container');\n",
       "if (notebookContainer) {{\n",
       "    x.observe(notebookContainer, {childList: true});\n",
       "}}\n",
       "\n",
       "// Listen for the clearing of the current output cell\n",
       "var outputEl = gd.closest('.output');\n",
       "if (outputEl) {{\n",
       "    x.observe(outputEl, {childList: true});\n",
       "}}\n",
       "\n",
       "                        })                };                });            </script>        </div>"
      ]
     },
     "metadata": {},
     "output_type": "display_data"
    }
   ],
   "source": [
    "# Reset the index to make it suitable for plotting\n",
    "afr_peoplewithiv_reset = afr_peoplewithiv.reset_index()\n",
    "\n",
    "# Create a bar plot\n",
    "fig = px.bar(afr_peoplewithiv_reset, x='Year', y='Count_median', color='Country',\n",
    "             labels={'Year': 'Year', 'Count_median': 'Mean Count_median'},\n",
    "             title='Mean Count_median by Country and Year for People with HIV in Africa')\n",
    "\n",
    "# Show the plot\n",
    "fig.show()\n"
   ]
  },
  {
   "cell_type": "markdown",
   "id": "7327f769",
   "metadata": {},
   "source": [
    "#### \\* From the above plot, it is clear that South Africa has the highest number of people living with HIV AIDS throughout the decade.\\*\n",
    "\n",
    "## Prevention of mother-to-child transmission estimate"
   ]
  },
  {
   "cell_type": "code",
   "execution_count": 180,
   "id": "fdb79962",
   "metadata": {
    "collapsed": true
   },
   "outputs": [
    {
     "data": {
      "text/plain": [
       "8600       2\n",
       "320        1\n",
       "57 500     1\n",
       "1800       1\n",
       "280        1\n",
       "47 100     1\n",
       "2400       1\n",
       "50         1\n",
       "110        1\n",
       "109 000    1\n",
       "12 100     1\n",
       "940        1\n",
       "43 700     1\n",
       "1400       1\n",
       "4400       1\n",
       "248 000    1\n",
       "5500       1\n",
       "4300       1\n",
       "94 800     1\n",
       "77 000     1\n",
       "56 500     1\n",
       "8200       1\n",
       "1000       1\n",
       "9600       1\n",
       "3300       1\n",
       "4600       1\n",
       "12 400     1\n",
       "4700       1\n",
       "4000       1\n",
       "No data    1\n",
       "21 700     1\n",
       "3200       1\n",
       "5600       1\n",
       "0          1\n",
       "16 500     1\n",
       "11 400     1\n",
       "1300       1\n",
       "230        1\n",
       "18 400     1\n",
       "1900       1\n",
       "700        1\n",
       "13 000     1\n",
       "59 600     1\n",
       "Name: Received Antiretrovirals, dtype: int64"
      ]
     },
     "execution_count": 180,
     "metadata": {},
     "output_type": "execute_result"
    }
   ],
   "source": [
    "afr_mother2child_prevention['Received Antiretrovirals'].value_counts()"
   ]
  },
  {
   "cell_type": "code",
   "execution_count": 181,
   "id": "7d08018f",
   "metadata": {},
   "outputs": [],
   "source": [
    "afr_mother2child_prevention['Received Antiretrovirals'] = pd.to_numeric(afr_mother2child_prevention['Received Antiretrovirals'], errors=\"coerce\")\n",
    "afr_mother2child_prevention['Received Antiretrovirals'] = afr_mother2child_prevention['Received Antiretrovirals'].astype(float)"
   ]
  },
  {
   "cell_type": "code",
   "execution_count": 182,
   "id": "d8ecf2a2",
   "metadata": {
    "collapsed": true
   },
   "outputs": [
    {
     "data": {
      "text/html": [
       "<div>\n",
       "<style scoped>\n",
       "    .dataframe tbody tr th:only-of-type {\n",
       "        vertical-align: middle;\n",
       "    }\n",
       "\n",
       "    .dataframe tbody tr th {\n",
       "        vertical-align: top;\n",
       "    }\n",
       "\n",
       "    .dataframe thead th {\n",
       "        text-align: right;\n",
       "    }\n",
       "</style>\n",
       "<table border=\"1\" class=\"dataframe\">\n",
       "  <thead>\n",
       "    <tr style=\"text-align: right;\">\n",
       "      <th></th>\n",
       "      <th>Received Antiretrovirals</th>\n",
       "    </tr>\n",
       "    <tr>\n",
       "      <th>Country</th>\n",
       "      <th></th>\n",
       "    </tr>\n",
       "  </thead>\n",
       "  <tbody>\n",
       "    <tr>\n",
       "      <th>Algeria</th>\n",
       "      <td>320.0</td>\n",
       "    </tr>\n",
       "    <tr>\n",
       "      <th>Angola</th>\n",
       "      <td>9600.0</td>\n",
       "    </tr>\n",
       "    <tr>\n",
       "      <th>Benin</th>\n",
       "      <td>4600.0</td>\n",
       "    </tr>\n",
       "    <tr>\n",
       "      <th>Botswana</th>\n",
       "      <td>NaN</td>\n",
       "    </tr>\n",
       "    <tr>\n",
       "      <th>Burkina Faso</th>\n",
       "      <td>4700.0</td>\n",
       "    </tr>\n",
       "    <tr>\n",
       "      <th>Burundi</th>\n",
       "      <td>4000.0</td>\n",
       "    </tr>\n",
       "    <tr>\n",
       "      <th>Cabo Verde</th>\n",
       "      <td>NaN</td>\n",
       "    </tr>\n",
       "    <tr>\n",
       "      <th>Cameroon</th>\n",
       "      <td>NaN</td>\n",
       "    </tr>\n",
       "    <tr>\n",
       "      <th>Central African Republic</th>\n",
       "      <td>3200.0</td>\n",
       "    </tr>\n",
       "    <tr>\n",
       "      <th>Chad</th>\n",
       "      <td>5600.0</td>\n",
       "    </tr>\n",
       "    <tr>\n",
       "      <th>Comoros</th>\n",
       "      <td>0.0</td>\n",
       "    </tr>\n",
       "    <tr>\n",
       "      <th>Côte d'Ivoire</th>\n",
       "      <td>NaN</td>\n",
       "    </tr>\n",
       "    <tr>\n",
       "      <th>Democratic Republic of the Congo</th>\n",
       "      <td>NaN</td>\n",
       "    </tr>\n",
       "    <tr>\n",
       "      <th>Equatorial Guinea</th>\n",
       "      <td>1300.0</td>\n",
       "    </tr>\n",
       "    <tr>\n",
       "      <th>Eritrea</th>\n",
       "      <td>230.0</td>\n",
       "    </tr>\n",
       "    <tr>\n",
       "      <th>Eswatini</th>\n",
       "      <td>8600.0</td>\n",
       "    </tr>\n",
       "    <tr>\n",
       "      <th>Ethiopia</th>\n",
       "      <td>NaN</td>\n",
       "    </tr>\n",
       "    <tr>\n",
       "      <th>Gabon</th>\n",
       "      <td>1900.0</td>\n",
       "    </tr>\n",
       "    <tr>\n",
       "      <th>Gambia</th>\n",
       "      <td>700.0</td>\n",
       "    </tr>\n",
       "    <tr>\n",
       "      <th>Ghana</th>\n",
       "      <td>NaN</td>\n",
       "    </tr>\n",
       "    <tr>\n",
       "      <th>Guinea</th>\n",
       "      <td>3300.0</td>\n",
       "    </tr>\n",
       "    <tr>\n",
       "      <th>Guinea-Bissau</th>\n",
       "      <td>1000.0</td>\n",
       "    </tr>\n",
       "    <tr>\n",
       "      <th>Kenya</th>\n",
       "      <td>NaN</td>\n",
       "    </tr>\n",
       "    <tr>\n",
       "      <th>Lesotho</th>\n",
       "      <td>8200.0</td>\n",
       "    </tr>\n",
       "    <tr>\n",
       "      <th>Liberia</th>\n",
       "      <td>1800.0</td>\n",
       "    </tr>\n",
       "    <tr>\n",
       "      <th>Madagascar</th>\n",
       "      <td>280.0</td>\n",
       "    </tr>\n",
       "    <tr>\n",
       "      <th>Malawi</th>\n",
       "      <td>NaN</td>\n",
       "    </tr>\n",
       "    <tr>\n",
       "      <th>Mali</th>\n",
       "      <td>2400.0</td>\n",
       "    </tr>\n",
       "    <tr>\n",
       "      <th>Mauritania</th>\n",
       "      <td>50.0</td>\n",
       "    </tr>\n",
       "    <tr>\n",
       "      <th>Mauritius</th>\n",
       "      <td>110.0</td>\n",
       "    </tr>\n",
       "    <tr>\n",
       "      <th>Mozambique</th>\n",
       "      <td>NaN</td>\n",
       "    </tr>\n",
       "    <tr>\n",
       "      <th>Namibia</th>\n",
       "      <td>NaN</td>\n",
       "    </tr>\n",
       "    <tr>\n",
       "      <th>Niger</th>\n",
       "      <td>940.0</td>\n",
       "    </tr>\n",
       "    <tr>\n",
       "      <th>Nigeria</th>\n",
       "      <td>NaN</td>\n",
       "    </tr>\n",
       "    <tr>\n",
       "      <th>Rwanda</th>\n",
       "      <td>8600.0</td>\n",
       "    </tr>\n",
       "    <tr>\n",
       "      <th>Senegal</th>\n",
       "      <td>1400.0</td>\n",
       "    </tr>\n",
       "    <tr>\n",
       "      <th>Sierra Leone</th>\n",
       "      <td>4400.0</td>\n",
       "    </tr>\n",
       "    <tr>\n",
       "      <th>South Africa</th>\n",
       "      <td>NaN</td>\n",
       "    </tr>\n",
       "    <tr>\n",
       "      <th>South Sudan</th>\n",
       "      <td>5500.0</td>\n",
       "    </tr>\n",
       "    <tr>\n",
       "      <th>Togo</th>\n",
       "      <td>4300.0</td>\n",
       "    </tr>\n",
       "    <tr>\n",
       "      <th>Uganda</th>\n",
       "      <td>NaN</td>\n",
       "    </tr>\n",
       "    <tr>\n",
       "      <th>United Republic of Tanzania</th>\n",
       "      <td>NaN</td>\n",
       "    </tr>\n",
       "    <tr>\n",
       "      <th>Zambia</th>\n",
       "      <td>NaN</td>\n",
       "    </tr>\n",
       "    <tr>\n",
       "      <th>Zimbabwe</th>\n",
       "      <td>NaN</td>\n",
       "    </tr>\n",
       "  </tbody>\n",
       "</table>\n",
       "</div>"
      ],
      "text/plain": [
       "                                  Received Antiretrovirals\n",
       "Country                                                   \n",
       "Algeria                                              320.0\n",
       "Angola                                              9600.0\n",
       "Benin                                               4600.0\n",
       "Botswana                                               NaN\n",
       "Burkina Faso                                        4700.0\n",
       "Burundi                                             4000.0\n",
       "Cabo Verde                                             NaN\n",
       "Cameroon                                               NaN\n",
       "Central African Republic                            3200.0\n",
       "Chad                                                5600.0\n",
       "Comoros                                                0.0\n",
       "Côte d'Ivoire                                          NaN\n",
       "Democratic Republic of the Congo                       NaN\n",
       "Equatorial Guinea                                   1300.0\n",
       "Eritrea                                              230.0\n",
       "Eswatini                                            8600.0\n",
       "Ethiopia                                               NaN\n",
       "Gabon                                               1900.0\n",
       "Gambia                                               700.0\n",
       "Ghana                                                  NaN\n",
       "Guinea                                              3300.0\n",
       "Guinea-Bissau                                       1000.0\n",
       "Kenya                                                  NaN\n",
       "Lesotho                                             8200.0\n",
       "Liberia                                             1800.0\n",
       "Madagascar                                           280.0\n",
       "Malawi                                                 NaN\n",
       "Mali                                                2400.0\n",
       "Mauritania                                            50.0\n",
       "Mauritius                                            110.0\n",
       "Mozambique                                             NaN\n",
       "Namibia                                                NaN\n",
       "Niger                                                940.0\n",
       "Nigeria                                                NaN\n",
       "Rwanda                                              8600.0\n",
       "Senegal                                             1400.0\n",
       "Sierra Leone                                        4400.0\n",
       "South Africa                                           NaN\n",
       "South Sudan                                         5500.0\n",
       "Togo                                                4300.0\n",
       "Uganda                                                 NaN\n",
       "United Republic of Tanzania                            NaN\n",
       "Zambia                                                 NaN\n",
       "Zimbabwe                                               NaN"
      ]
     },
     "execution_count": 182,
     "metadata": {},
     "output_type": "execute_result"
    }
   ],
   "source": [
    "preventionofTransmission = pd.DataFrame(afr_mother2child_prevention.groupby(\"Country\").mean()['Received Antiretrovirals'])\n",
    "preventionofTransmission"
   ]
  },
  {
   "cell_type": "markdown",
   "id": "c4004588",
   "metadata": {},
   "source": [
    "# drop columns with NaN"
   ]
  },
  {
   "cell_type": "code",
   "execution_count": 183,
   "id": "755d39be",
   "metadata": {
    "collapsed": true
   },
   "outputs": [
    {
     "data": {
      "text/html": [
       "<div>\n",
       "<style scoped>\n",
       "    .dataframe tbody tr th:only-of-type {\n",
       "        vertical-align: middle;\n",
       "    }\n",
       "\n",
       "    .dataframe tbody tr th {\n",
       "        vertical-align: top;\n",
       "    }\n",
       "\n",
       "    .dataframe thead th {\n",
       "        text-align: right;\n",
       "    }\n",
       "</style>\n",
       "<table border=\"1\" class=\"dataframe\">\n",
       "  <thead>\n",
       "    <tr style=\"text-align: right;\">\n",
       "      <th></th>\n",
       "      <th>Received Antiretrovirals</th>\n",
       "    </tr>\n",
       "    <tr>\n",
       "      <th>Country</th>\n",
       "      <th></th>\n",
       "    </tr>\n",
       "  </thead>\n",
       "  <tbody>\n",
       "    <tr>\n",
       "      <th>Algeria</th>\n",
       "      <td>320.0</td>\n",
       "    </tr>\n",
       "    <tr>\n",
       "      <th>Angola</th>\n",
       "      <td>9600.0</td>\n",
       "    </tr>\n",
       "    <tr>\n",
       "      <th>Benin</th>\n",
       "      <td>4600.0</td>\n",
       "    </tr>\n",
       "    <tr>\n",
       "      <th>Burkina Faso</th>\n",
       "      <td>4700.0</td>\n",
       "    </tr>\n",
       "    <tr>\n",
       "      <th>Burundi</th>\n",
       "      <td>4000.0</td>\n",
       "    </tr>\n",
       "    <tr>\n",
       "      <th>Central African Republic</th>\n",
       "      <td>3200.0</td>\n",
       "    </tr>\n",
       "    <tr>\n",
       "      <th>Chad</th>\n",
       "      <td>5600.0</td>\n",
       "    </tr>\n",
       "    <tr>\n",
       "      <th>Comoros</th>\n",
       "      <td>0.0</td>\n",
       "    </tr>\n",
       "    <tr>\n",
       "      <th>Equatorial Guinea</th>\n",
       "      <td>1300.0</td>\n",
       "    </tr>\n",
       "    <tr>\n",
       "      <th>Eritrea</th>\n",
       "      <td>230.0</td>\n",
       "    </tr>\n",
       "    <tr>\n",
       "      <th>Eswatini</th>\n",
       "      <td>8600.0</td>\n",
       "    </tr>\n",
       "    <tr>\n",
       "      <th>Gabon</th>\n",
       "      <td>1900.0</td>\n",
       "    </tr>\n",
       "    <tr>\n",
       "      <th>Gambia</th>\n",
       "      <td>700.0</td>\n",
       "    </tr>\n",
       "    <tr>\n",
       "      <th>Guinea</th>\n",
       "      <td>3300.0</td>\n",
       "    </tr>\n",
       "    <tr>\n",
       "      <th>Guinea-Bissau</th>\n",
       "      <td>1000.0</td>\n",
       "    </tr>\n",
       "    <tr>\n",
       "      <th>Lesotho</th>\n",
       "      <td>8200.0</td>\n",
       "    </tr>\n",
       "    <tr>\n",
       "      <th>Liberia</th>\n",
       "      <td>1800.0</td>\n",
       "    </tr>\n",
       "    <tr>\n",
       "      <th>Madagascar</th>\n",
       "      <td>280.0</td>\n",
       "    </tr>\n",
       "    <tr>\n",
       "      <th>Mali</th>\n",
       "      <td>2400.0</td>\n",
       "    </tr>\n",
       "    <tr>\n",
       "      <th>Mauritania</th>\n",
       "      <td>50.0</td>\n",
       "    </tr>\n",
       "    <tr>\n",
       "      <th>Mauritius</th>\n",
       "      <td>110.0</td>\n",
       "    </tr>\n",
       "    <tr>\n",
       "      <th>Niger</th>\n",
       "      <td>940.0</td>\n",
       "    </tr>\n",
       "    <tr>\n",
       "      <th>Rwanda</th>\n",
       "      <td>8600.0</td>\n",
       "    </tr>\n",
       "    <tr>\n",
       "      <th>Senegal</th>\n",
       "      <td>1400.0</td>\n",
       "    </tr>\n",
       "    <tr>\n",
       "      <th>Sierra Leone</th>\n",
       "      <td>4400.0</td>\n",
       "    </tr>\n",
       "    <tr>\n",
       "      <th>South Sudan</th>\n",
       "      <td>5500.0</td>\n",
       "    </tr>\n",
       "    <tr>\n",
       "      <th>Togo</th>\n",
       "      <td>4300.0</td>\n",
       "    </tr>\n",
       "  </tbody>\n",
       "</table>\n",
       "</div>"
      ],
      "text/plain": [
       "                          Received Antiretrovirals\n",
       "Country                                           \n",
       "Algeria                                      320.0\n",
       "Angola                                      9600.0\n",
       "Benin                                       4600.0\n",
       "Burkina Faso                                4700.0\n",
       "Burundi                                     4000.0\n",
       "Central African Republic                    3200.0\n",
       "Chad                                        5600.0\n",
       "Comoros                                        0.0\n",
       "Equatorial Guinea                           1300.0\n",
       "Eritrea                                      230.0\n",
       "Eswatini                                    8600.0\n",
       "Gabon                                       1900.0\n",
       "Gambia                                       700.0\n",
       "Guinea                                      3300.0\n",
       "Guinea-Bissau                               1000.0\n",
       "Lesotho                                     8200.0\n",
       "Liberia                                     1800.0\n",
       "Madagascar                                   280.0\n",
       "Mali                                        2400.0\n",
       "Mauritania                                    50.0\n",
       "Mauritius                                    110.0\n",
       "Niger                                        940.0\n",
       "Rwanda                                      8600.0\n",
       "Senegal                                     1400.0\n",
       "Sierra Leone                                4400.0\n",
       "South Sudan                                 5500.0\n",
       "Togo                                        4300.0"
      ]
     },
     "execution_count": 183,
     "metadata": {},
     "output_type": "execute_result"
    }
   ],
   "source": [
    "preventionofTransmission = preventionofTransmission.dropna()\n",
    "preventionofTransmission"
   ]
  },
  {
   "cell_type": "code",
   "execution_count": 184,
   "id": "6aa824c0",
   "metadata": {},
   "outputs": [
    {
     "data": {
      "application/vnd.plotly.v1+json": {
       "config": {
        "plotlyServerURL": "https://plot.ly"
       },
       "data": [
        {
         "alignmentgroup": "True",
         "hovertemplate": "Country=%{x}<br>Mean Received Antiretrovirals=%{y}<extra></extra>",
         "legendgroup": "Algeria",
         "marker": {
          "color": "#636efa",
          "pattern": {
           "shape": ""
          }
         },
         "name": "Algeria",
         "offsetgroup": "Algeria",
         "orientation": "v",
         "showlegend": true,
         "textposition": "auto",
         "type": "bar",
         "x": [
          "Algeria"
         ],
         "xaxis": "x",
         "y": [
          320
         ],
         "yaxis": "y"
        },
        {
         "alignmentgroup": "True",
         "hovertemplate": "Country=%{x}<br>Mean Received Antiretrovirals=%{y}<extra></extra>",
         "legendgroup": "Angola",
         "marker": {
          "color": "#EF553B",
          "pattern": {
           "shape": ""
          }
         },
         "name": "Angola",
         "offsetgroup": "Angola",
         "orientation": "v",
         "showlegend": true,
         "textposition": "auto",
         "type": "bar",
         "x": [
          "Angola"
         ],
         "xaxis": "x",
         "y": [
          9600
         ],
         "yaxis": "y"
        },
        {
         "alignmentgroup": "True",
         "hovertemplate": "Country=%{x}<br>Mean Received Antiretrovirals=%{y}<extra></extra>",
         "legendgroup": "Benin",
         "marker": {
          "color": "#00cc96",
          "pattern": {
           "shape": ""
          }
         },
         "name": "Benin",
         "offsetgroup": "Benin",
         "orientation": "v",
         "showlegend": true,
         "textposition": "auto",
         "type": "bar",
         "x": [
          "Benin"
         ],
         "xaxis": "x",
         "y": [
          4600
         ],
         "yaxis": "y"
        },
        {
         "alignmentgroup": "True",
         "hovertemplate": "Country=%{x}<br>Mean Received Antiretrovirals=%{y}<extra></extra>",
         "legendgroup": "Burkina Faso",
         "marker": {
          "color": "#ab63fa",
          "pattern": {
           "shape": ""
          }
         },
         "name": "Burkina Faso",
         "offsetgroup": "Burkina Faso",
         "orientation": "v",
         "showlegend": true,
         "textposition": "auto",
         "type": "bar",
         "x": [
          "Burkina Faso"
         ],
         "xaxis": "x",
         "y": [
          4700
         ],
         "yaxis": "y"
        },
        {
         "alignmentgroup": "True",
         "hovertemplate": "Country=%{x}<br>Mean Received Antiretrovirals=%{y}<extra></extra>",
         "legendgroup": "Burundi",
         "marker": {
          "color": "#FFA15A",
          "pattern": {
           "shape": ""
          }
         },
         "name": "Burundi",
         "offsetgroup": "Burundi",
         "orientation": "v",
         "showlegend": true,
         "textposition": "auto",
         "type": "bar",
         "x": [
          "Burundi"
         ],
         "xaxis": "x",
         "y": [
          4000
         ],
         "yaxis": "y"
        },
        {
         "alignmentgroup": "True",
         "hovertemplate": "Country=%{x}<br>Mean Received Antiretrovirals=%{y}<extra></extra>",
         "legendgroup": "Central African Republic",
         "marker": {
          "color": "#19d3f3",
          "pattern": {
           "shape": ""
          }
         },
         "name": "Central African Republic",
         "offsetgroup": "Central African Republic",
         "orientation": "v",
         "showlegend": true,
         "textposition": "auto",
         "type": "bar",
         "x": [
          "Central African Republic"
         ],
         "xaxis": "x",
         "y": [
          3200
         ],
         "yaxis": "y"
        },
        {
         "alignmentgroup": "True",
         "hovertemplate": "Country=%{x}<br>Mean Received Antiretrovirals=%{y}<extra></extra>",
         "legendgroup": "Chad",
         "marker": {
          "color": "#FF6692",
          "pattern": {
           "shape": ""
          }
         },
         "name": "Chad",
         "offsetgroup": "Chad",
         "orientation": "v",
         "showlegend": true,
         "textposition": "auto",
         "type": "bar",
         "x": [
          "Chad"
         ],
         "xaxis": "x",
         "y": [
          5600
         ],
         "yaxis": "y"
        },
        {
         "alignmentgroup": "True",
         "hovertemplate": "Country=%{x}<br>Mean Received Antiretrovirals=%{y}<extra></extra>",
         "legendgroup": "Comoros",
         "marker": {
          "color": "#B6E880",
          "pattern": {
           "shape": ""
          }
         },
         "name": "Comoros",
         "offsetgroup": "Comoros",
         "orientation": "v",
         "showlegend": true,
         "textposition": "auto",
         "type": "bar",
         "x": [
          "Comoros"
         ],
         "xaxis": "x",
         "y": [
          0
         ],
         "yaxis": "y"
        },
        {
         "alignmentgroup": "True",
         "hovertemplate": "Country=%{x}<br>Mean Received Antiretrovirals=%{y}<extra></extra>",
         "legendgroup": "Equatorial Guinea",
         "marker": {
          "color": "#FF97FF",
          "pattern": {
           "shape": ""
          }
         },
         "name": "Equatorial Guinea",
         "offsetgroup": "Equatorial Guinea",
         "orientation": "v",
         "showlegend": true,
         "textposition": "auto",
         "type": "bar",
         "x": [
          "Equatorial Guinea"
         ],
         "xaxis": "x",
         "y": [
          1300
         ],
         "yaxis": "y"
        },
        {
         "alignmentgroup": "True",
         "hovertemplate": "Country=%{x}<br>Mean Received Antiretrovirals=%{y}<extra></extra>",
         "legendgroup": "Eritrea",
         "marker": {
          "color": "#FECB52",
          "pattern": {
           "shape": ""
          }
         },
         "name": "Eritrea",
         "offsetgroup": "Eritrea",
         "orientation": "v",
         "showlegend": true,
         "textposition": "auto",
         "type": "bar",
         "x": [
          "Eritrea"
         ],
         "xaxis": "x",
         "y": [
          230
         ],
         "yaxis": "y"
        },
        {
         "alignmentgroup": "True",
         "hovertemplate": "Country=%{x}<br>Mean Received Antiretrovirals=%{y}<extra></extra>",
         "legendgroup": "Eswatini",
         "marker": {
          "color": "#636efa",
          "pattern": {
           "shape": ""
          }
         },
         "name": "Eswatini",
         "offsetgroup": "Eswatini",
         "orientation": "v",
         "showlegend": true,
         "textposition": "auto",
         "type": "bar",
         "x": [
          "Eswatini"
         ],
         "xaxis": "x",
         "y": [
          8600
         ],
         "yaxis": "y"
        },
        {
         "alignmentgroup": "True",
         "hovertemplate": "Country=%{x}<br>Mean Received Antiretrovirals=%{y}<extra></extra>",
         "legendgroup": "Gabon",
         "marker": {
          "color": "#EF553B",
          "pattern": {
           "shape": ""
          }
         },
         "name": "Gabon",
         "offsetgroup": "Gabon",
         "orientation": "v",
         "showlegend": true,
         "textposition": "auto",
         "type": "bar",
         "x": [
          "Gabon"
         ],
         "xaxis": "x",
         "y": [
          1900
         ],
         "yaxis": "y"
        },
        {
         "alignmentgroup": "True",
         "hovertemplate": "Country=%{x}<br>Mean Received Antiretrovirals=%{y}<extra></extra>",
         "legendgroup": "Gambia",
         "marker": {
          "color": "#00cc96",
          "pattern": {
           "shape": ""
          }
         },
         "name": "Gambia",
         "offsetgroup": "Gambia",
         "orientation": "v",
         "showlegend": true,
         "textposition": "auto",
         "type": "bar",
         "x": [
          "Gambia"
         ],
         "xaxis": "x",
         "y": [
          700
         ],
         "yaxis": "y"
        },
        {
         "alignmentgroup": "True",
         "hovertemplate": "Country=%{x}<br>Mean Received Antiretrovirals=%{y}<extra></extra>",
         "legendgroup": "Guinea",
         "marker": {
          "color": "#ab63fa",
          "pattern": {
           "shape": ""
          }
         },
         "name": "Guinea",
         "offsetgroup": "Guinea",
         "orientation": "v",
         "showlegend": true,
         "textposition": "auto",
         "type": "bar",
         "x": [
          "Guinea"
         ],
         "xaxis": "x",
         "y": [
          3300
         ],
         "yaxis": "y"
        },
        {
         "alignmentgroup": "True",
         "hovertemplate": "Country=%{x}<br>Mean Received Antiretrovirals=%{y}<extra></extra>",
         "legendgroup": "Guinea-Bissau",
         "marker": {
          "color": "#FFA15A",
          "pattern": {
           "shape": ""
          }
         },
         "name": "Guinea-Bissau",
         "offsetgroup": "Guinea-Bissau",
         "orientation": "v",
         "showlegend": true,
         "textposition": "auto",
         "type": "bar",
         "x": [
          "Guinea-Bissau"
         ],
         "xaxis": "x",
         "y": [
          1000
         ],
         "yaxis": "y"
        },
        {
         "alignmentgroup": "True",
         "hovertemplate": "Country=%{x}<br>Mean Received Antiretrovirals=%{y}<extra></extra>",
         "legendgroup": "Lesotho",
         "marker": {
          "color": "#19d3f3",
          "pattern": {
           "shape": ""
          }
         },
         "name": "Lesotho",
         "offsetgroup": "Lesotho",
         "orientation": "v",
         "showlegend": true,
         "textposition": "auto",
         "type": "bar",
         "x": [
          "Lesotho"
         ],
         "xaxis": "x",
         "y": [
          8200
         ],
         "yaxis": "y"
        },
        {
         "alignmentgroup": "True",
         "hovertemplate": "Country=%{x}<br>Mean Received Antiretrovirals=%{y}<extra></extra>",
         "legendgroup": "Liberia",
         "marker": {
          "color": "#FF6692",
          "pattern": {
           "shape": ""
          }
         },
         "name": "Liberia",
         "offsetgroup": "Liberia",
         "orientation": "v",
         "showlegend": true,
         "textposition": "auto",
         "type": "bar",
         "x": [
          "Liberia"
         ],
         "xaxis": "x",
         "y": [
          1800
         ],
         "yaxis": "y"
        },
        {
         "alignmentgroup": "True",
         "hovertemplate": "Country=%{x}<br>Mean Received Antiretrovirals=%{y}<extra></extra>",
         "legendgroup": "Madagascar",
         "marker": {
          "color": "#B6E880",
          "pattern": {
           "shape": ""
          }
         },
         "name": "Madagascar",
         "offsetgroup": "Madagascar",
         "orientation": "v",
         "showlegend": true,
         "textposition": "auto",
         "type": "bar",
         "x": [
          "Madagascar"
         ],
         "xaxis": "x",
         "y": [
          280
         ],
         "yaxis": "y"
        },
        {
         "alignmentgroup": "True",
         "hovertemplate": "Country=%{x}<br>Mean Received Antiretrovirals=%{y}<extra></extra>",
         "legendgroup": "Mali",
         "marker": {
          "color": "#FF97FF",
          "pattern": {
           "shape": ""
          }
         },
         "name": "Mali",
         "offsetgroup": "Mali",
         "orientation": "v",
         "showlegend": true,
         "textposition": "auto",
         "type": "bar",
         "x": [
          "Mali"
         ],
         "xaxis": "x",
         "y": [
          2400
         ],
         "yaxis": "y"
        },
        {
         "alignmentgroup": "True",
         "hovertemplate": "Country=%{x}<br>Mean Received Antiretrovirals=%{y}<extra></extra>",
         "legendgroup": "Mauritania",
         "marker": {
          "color": "#FECB52",
          "pattern": {
           "shape": ""
          }
         },
         "name": "Mauritania",
         "offsetgroup": "Mauritania",
         "orientation": "v",
         "showlegend": true,
         "textposition": "auto",
         "type": "bar",
         "x": [
          "Mauritania"
         ],
         "xaxis": "x",
         "y": [
          50
         ],
         "yaxis": "y"
        },
        {
         "alignmentgroup": "True",
         "hovertemplate": "Country=%{x}<br>Mean Received Antiretrovirals=%{y}<extra></extra>",
         "legendgroup": "Mauritius",
         "marker": {
          "color": "#636efa",
          "pattern": {
           "shape": ""
          }
         },
         "name": "Mauritius",
         "offsetgroup": "Mauritius",
         "orientation": "v",
         "showlegend": true,
         "textposition": "auto",
         "type": "bar",
         "x": [
          "Mauritius"
         ],
         "xaxis": "x",
         "y": [
          110
         ],
         "yaxis": "y"
        },
        {
         "alignmentgroup": "True",
         "hovertemplate": "Country=%{x}<br>Mean Received Antiretrovirals=%{y}<extra></extra>",
         "legendgroup": "Niger",
         "marker": {
          "color": "#EF553B",
          "pattern": {
           "shape": ""
          }
         },
         "name": "Niger",
         "offsetgroup": "Niger",
         "orientation": "v",
         "showlegend": true,
         "textposition": "auto",
         "type": "bar",
         "x": [
          "Niger"
         ],
         "xaxis": "x",
         "y": [
          940
         ],
         "yaxis": "y"
        },
        {
         "alignmentgroup": "True",
         "hovertemplate": "Country=%{x}<br>Mean Received Antiretrovirals=%{y}<extra></extra>",
         "legendgroup": "Rwanda",
         "marker": {
          "color": "#00cc96",
          "pattern": {
           "shape": ""
          }
         },
         "name": "Rwanda",
         "offsetgroup": "Rwanda",
         "orientation": "v",
         "showlegend": true,
         "textposition": "auto",
         "type": "bar",
         "x": [
          "Rwanda"
         ],
         "xaxis": "x",
         "y": [
          8600
         ],
         "yaxis": "y"
        },
        {
         "alignmentgroup": "True",
         "hovertemplate": "Country=%{x}<br>Mean Received Antiretrovirals=%{y}<extra></extra>",
         "legendgroup": "Senegal",
         "marker": {
          "color": "#ab63fa",
          "pattern": {
           "shape": ""
          }
         },
         "name": "Senegal",
         "offsetgroup": "Senegal",
         "orientation": "v",
         "showlegend": true,
         "textposition": "auto",
         "type": "bar",
         "x": [
          "Senegal"
         ],
         "xaxis": "x",
         "y": [
          1400
         ],
         "yaxis": "y"
        },
        {
         "alignmentgroup": "True",
         "hovertemplate": "Country=%{x}<br>Mean Received Antiretrovirals=%{y}<extra></extra>",
         "legendgroup": "Sierra Leone",
         "marker": {
          "color": "#FFA15A",
          "pattern": {
           "shape": ""
          }
         },
         "name": "Sierra Leone",
         "offsetgroup": "Sierra Leone",
         "orientation": "v",
         "showlegend": true,
         "textposition": "auto",
         "type": "bar",
         "x": [
          "Sierra Leone"
         ],
         "xaxis": "x",
         "y": [
          4400
         ],
         "yaxis": "y"
        },
        {
         "alignmentgroup": "True",
         "hovertemplate": "Country=%{x}<br>Mean Received Antiretrovirals=%{y}<extra></extra>",
         "legendgroup": "South Sudan",
         "marker": {
          "color": "#19d3f3",
          "pattern": {
           "shape": ""
          }
         },
         "name": "South Sudan",
         "offsetgroup": "South Sudan",
         "orientation": "v",
         "showlegend": true,
         "textposition": "auto",
         "type": "bar",
         "x": [
          "South Sudan"
         ],
         "xaxis": "x",
         "y": [
          5500
         ],
         "yaxis": "y"
        },
        {
         "alignmentgroup": "True",
         "hovertemplate": "Country=%{x}<br>Mean Received Antiretrovirals=%{y}<extra></extra>",
         "legendgroup": "Togo",
         "marker": {
          "color": "#FF6692",
          "pattern": {
           "shape": ""
          }
         },
         "name": "Togo",
         "offsetgroup": "Togo",
         "orientation": "v",
         "showlegend": true,
         "textposition": "auto",
         "type": "bar",
         "x": [
          "Togo"
         ],
         "xaxis": "x",
         "y": [
          4300
         ],
         "yaxis": "y"
        }
       ],
       "layout": {
        "barmode": "relative",
        "legend": {
         "title": {
          "text": "Country"
         },
         "tracegroupgap": 0
        },
        "template": {
         "data": {
          "bar": [
           {
            "error_x": {
             "color": "#2a3f5f"
            },
            "error_y": {
             "color": "#2a3f5f"
            },
            "marker": {
             "line": {
              "color": "#E5ECF6",
              "width": 0.5
             },
             "pattern": {
              "fillmode": "overlay",
              "size": 10,
              "solidity": 0.2
             }
            },
            "type": "bar"
           }
          ],
          "barpolar": [
           {
            "marker": {
             "line": {
              "color": "#E5ECF6",
              "width": 0.5
             },
             "pattern": {
              "fillmode": "overlay",
              "size": 10,
              "solidity": 0.2
             }
            },
            "type": "barpolar"
           }
          ],
          "carpet": [
           {
            "aaxis": {
             "endlinecolor": "#2a3f5f",
             "gridcolor": "white",
             "linecolor": "white",
             "minorgridcolor": "white",
             "startlinecolor": "#2a3f5f"
            },
            "baxis": {
             "endlinecolor": "#2a3f5f",
             "gridcolor": "white",
             "linecolor": "white",
             "minorgridcolor": "white",
             "startlinecolor": "#2a3f5f"
            },
            "type": "carpet"
           }
          ],
          "choropleth": [
           {
            "colorbar": {
             "outlinewidth": 0,
             "ticks": ""
            },
            "type": "choropleth"
           }
          ],
          "contour": [
           {
            "colorbar": {
             "outlinewidth": 0,
             "ticks": ""
            },
            "colorscale": [
             [
              0,
              "#0d0887"
             ],
             [
              0.1111111111111111,
              "#46039f"
             ],
             [
              0.2222222222222222,
              "#7201a8"
             ],
             [
              0.3333333333333333,
              "#9c179e"
             ],
             [
              0.4444444444444444,
              "#bd3786"
             ],
             [
              0.5555555555555556,
              "#d8576b"
             ],
             [
              0.6666666666666666,
              "#ed7953"
             ],
             [
              0.7777777777777778,
              "#fb9f3a"
             ],
             [
              0.8888888888888888,
              "#fdca26"
             ],
             [
              1,
              "#f0f921"
             ]
            ],
            "type": "contour"
           }
          ],
          "contourcarpet": [
           {
            "colorbar": {
             "outlinewidth": 0,
             "ticks": ""
            },
            "type": "contourcarpet"
           }
          ],
          "heatmap": [
           {
            "colorbar": {
             "outlinewidth": 0,
             "ticks": ""
            },
            "colorscale": [
             [
              0,
              "#0d0887"
             ],
             [
              0.1111111111111111,
              "#46039f"
             ],
             [
              0.2222222222222222,
              "#7201a8"
             ],
             [
              0.3333333333333333,
              "#9c179e"
             ],
             [
              0.4444444444444444,
              "#bd3786"
             ],
             [
              0.5555555555555556,
              "#d8576b"
             ],
             [
              0.6666666666666666,
              "#ed7953"
             ],
             [
              0.7777777777777778,
              "#fb9f3a"
             ],
             [
              0.8888888888888888,
              "#fdca26"
             ],
             [
              1,
              "#f0f921"
             ]
            ],
            "type": "heatmap"
           }
          ],
          "heatmapgl": [
           {
            "colorbar": {
             "outlinewidth": 0,
             "ticks": ""
            },
            "colorscale": [
             [
              0,
              "#0d0887"
             ],
             [
              0.1111111111111111,
              "#46039f"
             ],
             [
              0.2222222222222222,
              "#7201a8"
             ],
             [
              0.3333333333333333,
              "#9c179e"
             ],
             [
              0.4444444444444444,
              "#bd3786"
             ],
             [
              0.5555555555555556,
              "#d8576b"
             ],
             [
              0.6666666666666666,
              "#ed7953"
             ],
             [
              0.7777777777777778,
              "#fb9f3a"
             ],
             [
              0.8888888888888888,
              "#fdca26"
             ],
             [
              1,
              "#f0f921"
             ]
            ],
            "type": "heatmapgl"
           }
          ],
          "histogram": [
           {
            "marker": {
             "pattern": {
              "fillmode": "overlay",
              "size": 10,
              "solidity": 0.2
             }
            },
            "type": "histogram"
           }
          ],
          "histogram2d": [
           {
            "colorbar": {
             "outlinewidth": 0,
             "ticks": ""
            },
            "colorscale": [
             [
              0,
              "#0d0887"
             ],
             [
              0.1111111111111111,
              "#46039f"
             ],
             [
              0.2222222222222222,
              "#7201a8"
             ],
             [
              0.3333333333333333,
              "#9c179e"
             ],
             [
              0.4444444444444444,
              "#bd3786"
             ],
             [
              0.5555555555555556,
              "#d8576b"
             ],
             [
              0.6666666666666666,
              "#ed7953"
             ],
             [
              0.7777777777777778,
              "#fb9f3a"
             ],
             [
              0.8888888888888888,
              "#fdca26"
             ],
             [
              1,
              "#f0f921"
             ]
            ],
            "type": "histogram2d"
           }
          ],
          "histogram2dcontour": [
           {
            "colorbar": {
             "outlinewidth": 0,
             "ticks": ""
            },
            "colorscale": [
             [
              0,
              "#0d0887"
             ],
             [
              0.1111111111111111,
              "#46039f"
             ],
             [
              0.2222222222222222,
              "#7201a8"
             ],
             [
              0.3333333333333333,
              "#9c179e"
             ],
             [
              0.4444444444444444,
              "#bd3786"
             ],
             [
              0.5555555555555556,
              "#d8576b"
             ],
             [
              0.6666666666666666,
              "#ed7953"
             ],
             [
              0.7777777777777778,
              "#fb9f3a"
             ],
             [
              0.8888888888888888,
              "#fdca26"
             ],
             [
              1,
              "#f0f921"
             ]
            ],
            "type": "histogram2dcontour"
           }
          ],
          "mesh3d": [
           {
            "colorbar": {
             "outlinewidth": 0,
             "ticks": ""
            },
            "type": "mesh3d"
           }
          ],
          "parcoords": [
           {
            "line": {
             "colorbar": {
              "outlinewidth": 0,
              "ticks": ""
             }
            },
            "type": "parcoords"
           }
          ],
          "pie": [
           {
            "automargin": true,
            "type": "pie"
           }
          ],
          "scatter": [
           {
            "fillpattern": {
             "fillmode": "overlay",
             "size": 10,
             "solidity": 0.2
            },
            "type": "scatter"
           }
          ],
          "scatter3d": [
           {
            "line": {
             "colorbar": {
              "outlinewidth": 0,
              "ticks": ""
             }
            },
            "marker": {
             "colorbar": {
              "outlinewidth": 0,
              "ticks": ""
             }
            },
            "type": "scatter3d"
           }
          ],
          "scattercarpet": [
           {
            "marker": {
             "colorbar": {
              "outlinewidth": 0,
              "ticks": ""
             }
            },
            "type": "scattercarpet"
           }
          ],
          "scattergeo": [
           {
            "marker": {
             "colorbar": {
              "outlinewidth": 0,
              "ticks": ""
             }
            },
            "type": "scattergeo"
           }
          ],
          "scattergl": [
           {
            "marker": {
             "colorbar": {
              "outlinewidth": 0,
              "ticks": ""
             }
            },
            "type": "scattergl"
           }
          ],
          "scattermapbox": [
           {
            "marker": {
             "colorbar": {
              "outlinewidth": 0,
              "ticks": ""
             }
            },
            "type": "scattermapbox"
           }
          ],
          "scatterpolar": [
           {
            "marker": {
             "colorbar": {
              "outlinewidth": 0,
              "ticks": ""
             }
            },
            "type": "scatterpolar"
           }
          ],
          "scatterpolargl": [
           {
            "marker": {
             "colorbar": {
              "outlinewidth": 0,
              "ticks": ""
             }
            },
            "type": "scatterpolargl"
           }
          ],
          "scatterternary": [
           {
            "marker": {
             "colorbar": {
              "outlinewidth": 0,
              "ticks": ""
             }
            },
            "type": "scatterternary"
           }
          ],
          "surface": [
           {
            "colorbar": {
             "outlinewidth": 0,
             "ticks": ""
            },
            "colorscale": [
             [
              0,
              "#0d0887"
             ],
             [
              0.1111111111111111,
              "#46039f"
             ],
             [
              0.2222222222222222,
              "#7201a8"
             ],
             [
              0.3333333333333333,
              "#9c179e"
             ],
             [
              0.4444444444444444,
              "#bd3786"
             ],
             [
              0.5555555555555556,
              "#d8576b"
             ],
             [
              0.6666666666666666,
              "#ed7953"
             ],
             [
              0.7777777777777778,
              "#fb9f3a"
             ],
             [
              0.8888888888888888,
              "#fdca26"
             ],
             [
              1,
              "#f0f921"
             ]
            ],
            "type": "surface"
           }
          ],
          "table": [
           {
            "cells": {
             "fill": {
              "color": "#EBF0F8"
             },
             "line": {
              "color": "white"
             }
            },
            "header": {
             "fill": {
              "color": "#C8D4E3"
             },
             "line": {
              "color": "white"
             }
            },
            "type": "table"
           }
          ]
         },
         "layout": {
          "annotationdefaults": {
           "arrowcolor": "#2a3f5f",
           "arrowhead": 0,
           "arrowwidth": 1
          },
          "autotypenumbers": "strict",
          "coloraxis": {
           "colorbar": {
            "outlinewidth": 0,
            "ticks": ""
           }
          },
          "colorscale": {
           "diverging": [
            [
             0,
             "#8e0152"
            ],
            [
             0.1,
             "#c51b7d"
            ],
            [
             0.2,
             "#de77ae"
            ],
            [
             0.3,
             "#f1b6da"
            ],
            [
             0.4,
             "#fde0ef"
            ],
            [
             0.5,
             "#f7f7f7"
            ],
            [
             0.6,
             "#e6f5d0"
            ],
            [
             0.7,
             "#b8e186"
            ],
            [
             0.8,
             "#7fbc41"
            ],
            [
             0.9,
             "#4d9221"
            ],
            [
             1,
             "#276419"
            ]
           ],
           "sequential": [
            [
             0,
             "#0d0887"
            ],
            [
             0.1111111111111111,
             "#46039f"
            ],
            [
             0.2222222222222222,
             "#7201a8"
            ],
            [
             0.3333333333333333,
             "#9c179e"
            ],
            [
             0.4444444444444444,
             "#bd3786"
            ],
            [
             0.5555555555555556,
             "#d8576b"
            ],
            [
             0.6666666666666666,
             "#ed7953"
            ],
            [
             0.7777777777777778,
             "#fb9f3a"
            ],
            [
             0.8888888888888888,
             "#fdca26"
            ],
            [
             1,
             "#f0f921"
            ]
           ],
           "sequentialminus": [
            [
             0,
             "#0d0887"
            ],
            [
             0.1111111111111111,
             "#46039f"
            ],
            [
             0.2222222222222222,
             "#7201a8"
            ],
            [
             0.3333333333333333,
             "#9c179e"
            ],
            [
             0.4444444444444444,
             "#bd3786"
            ],
            [
             0.5555555555555556,
             "#d8576b"
            ],
            [
             0.6666666666666666,
             "#ed7953"
            ],
            [
             0.7777777777777778,
             "#fb9f3a"
            ],
            [
             0.8888888888888888,
             "#fdca26"
            ],
            [
             1,
             "#f0f921"
            ]
           ]
          },
          "colorway": [
           "#636efa",
           "#EF553B",
           "#00cc96",
           "#ab63fa",
           "#FFA15A",
           "#19d3f3",
           "#FF6692",
           "#B6E880",
           "#FF97FF",
           "#FECB52"
          ],
          "font": {
           "color": "#2a3f5f"
          },
          "geo": {
           "bgcolor": "white",
           "lakecolor": "white",
           "landcolor": "#E5ECF6",
           "showlakes": true,
           "showland": true,
           "subunitcolor": "white"
          },
          "hoverlabel": {
           "align": "left"
          },
          "hovermode": "closest",
          "mapbox": {
           "style": "light"
          },
          "paper_bgcolor": "white",
          "plot_bgcolor": "#E5ECF6",
          "polar": {
           "angularaxis": {
            "gridcolor": "white",
            "linecolor": "white",
            "ticks": ""
           },
           "bgcolor": "#E5ECF6",
           "radialaxis": {
            "gridcolor": "white",
            "linecolor": "white",
            "ticks": ""
           }
          },
          "scene": {
           "xaxis": {
            "backgroundcolor": "#E5ECF6",
            "gridcolor": "white",
            "gridwidth": 2,
            "linecolor": "white",
            "showbackground": true,
            "ticks": "",
            "zerolinecolor": "white"
           },
           "yaxis": {
            "backgroundcolor": "#E5ECF6",
            "gridcolor": "white",
            "gridwidth": 2,
            "linecolor": "white",
            "showbackground": true,
            "ticks": "",
            "zerolinecolor": "white"
           },
           "zaxis": {
            "backgroundcolor": "#E5ECF6",
            "gridcolor": "white",
            "gridwidth": 2,
            "linecolor": "white",
            "showbackground": true,
            "ticks": "",
            "zerolinecolor": "white"
           }
          },
          "shapedefaults": {
           "line": {
            "color": "#2a3f5f"
           }
          },
          "ternary": {
           "aaxis": {
            "gridcolor": "white",
            "linecolor": "white",
            "ticks": ""
           },
           "baxis": {
            "gridcolor": "white",
            "linecolor": "white",
            "ticks": ""
           },
           "bgcolor": "#E5ECF6",
           "caxis": {
            "gridcolor": "white",
            "linecolor": "white",
            "ticks": ""
           }
          },
          "title": {
           "x": 0.05
          },
          "xaxis": {
           "automargin": true,
           "gridcolor": "white",
           "linecolor": "white",
           "ticks": "",
           "title": {
            "standoff": 15
           },
           "zerolinecolor": "white",
           "zerolinewidth": 2
          },
          "yaxis": {
           "automargin": true,
           "gridcolor": "white",
           "linecolor": "white",
           "ticks": "",
           "title": {
            "standoff": 15
           },
           "zerolinecolor": "white",
           "zerolinewidth": 2
          }
         }
        },
        "title": {
         "text": "Mean Received Antiretrovirals by Country for Prevention of Mother-to-Child Transmission in Africa"
        },
        "xaxis": {
         "anchor": "y",
         "categoryarray": [
          "Algeria",
          "Angola",
          "Benin",
          "Burkina Faso",
          "Burundi",
          "Central African Republic",
          "Chad",
          "Comoros",
          "Equatorial Guinea",
          "Eritrea",
          "Eswatini",
          "Gabon",
          "Gambia",
          "Guinea",
          "Guinea-Bissau",
          "Lesotho",
          "Liberia",
          "Madagascar",
          "Mali",
          "Mauritania",
          "Mauritius",
          "Niger",
          "Rwanda",
          "Senegal",
          "Sierra Leone",
          "South Sudan",
          "Togo"
         ],
         "categoryorder": "array",
         "domain": [
          0,
          1
         ],
         "title": {
          "text": "Country"
         }
        },
        "yaxis": {
         "anchor": "x",
         "domain": [
          0,
          1
         ],
         "title": {
          "text": "Mean Received Antiretrovirals"
         }
        }
       }
      },
      "text/html": [
       "<div>                            <div id=\"be1c17ff-d6b0-49e4-a6c6-b83ae9809062\" class=\"plotly-graph-div\" style=\"height:525px; width:100%;\"></div>            <script type=\"text/javascript\">                require([\"plotly\"], function(Plotly) {                    window.PLOTLYENV=window.PLOTLYENV || {};                                    if (document.getElementById(\"be1c17ff-d6b0-49e4-a6c6-b83ae9809062\")) {                    Plotly.newPlot(                        \"be1c17ff-d6b0-49e4-a6c6-b83ae9809062\",                        [{\"alignmentgroup\":\"True\",\"hovertemplate\":\"Country=%{x}<br>Mean Received Antiretrovirals=%{y}<extra></extra>\",\"legendgroup\":\"Algeria\",\"marker\":{\"color\":\"#636efa\",\"pattern\":{\"shape\":\"\"}},\"name\":\"Algeria\",\"offsetgroup\":\"Algeria\",\"orientation\":\"v\",\"showlegend\":true,\"textposition\":\"auto\",\"x\":[\"Algeria\"],\"xaxis\":\"x\",\"y\":[320.0],\"yaxis\":\"y\",\"type\":\"bar\"},{\"alignmentgroup\":\"True\",\"hovertemplate\":\"Country=%{x}<br>Mean Received Antiretrovirals=%{y}<extra></extra>\",\"legendgroup\":\"Angola\",\"marker\":{\"color\":\"#EF553B\",\"pattern\":{\"shape\":\"\"}},\"name\":\"Angola\",\"offsetgroup\":\"Angola\",\"orientation\":\"v\",\"showlegend\":true,\"textposition\":\"auto\",\"x\":[\"Angola\"],\"xaxis\":\"x\",\"y\":[9600.0],\"yaxis\":\"y\",\"type\":\"bar\"},{\"alignmentgroup\":\"True\",\"hovertemplate\":\"Country=%{x}<br>Mean Received Antiretrovirals=%{y}<extra></extra>\",\"legendgroup\":\"Benin\",\"marker\":{\"color\":\"#00cc96\",\"pattern\":{\"shape\":\"\"}},\"name\":\"Benin\",\"offsetgroup\":\"Benin\",\"orientation\":\"v\",\"showlegend\":true,\"textposition\":\"auto\",\"x\":[\"Benin\"],\"xaxis\":\"x\",\"y\":[4600.0],\"yaxis\":\"y\",\"type\":\"bar\"},{\"alignmentgroup\":\"True\",\"hovertemplate\":\"Country=%{x}<br>Mean Received Antiretrovirals=%{y}<extra></extra>\",\"legendgroup\":\"Burkina Faso\",\"marker\":{\"color\":\"#ab63fa\",\"pattern\":{\"shape\":\"\"}},\"name\":\"Burkina Faso\",\"offsetgroup\":\"Burkina Faso\",\"orientation\":\"v\",\"showlegend\":true,\"textposition\":\"auto\",\"x\":[\"Burkina Faso\"],\"xaxis\":\"x\",\"y\":[4700.0],\"yaxis\":\"y\",\"type\":\"bar\"},{\"alignmentgroup\":\"True\",\"hovertemplate\":\"Country=%{x}<br>Mean Received Antiretrovirals=%{y}<extra></extra>\",\"legendgroup\":\"Burundi\",\"marker\":{\"color\":\"#FFA15A\",\"pattern\":{\"shape\":\"\"}},\"name\":\"Burundi\",\"offsetgroup\":\"Burundi\",\"orientation\":\"v\",\"showlegend\":true,\"textposition\":\"auto\",\"x\":[\"Burundi\"],\"xaxis\":\"x\",\"y\":[4000.0],\"yaxis\":\"y\",\"type\":\"bar\"},{\"alignmentgroup\":\"True\",\"hovertemplate\":\"Country=%{x}<br>Mean Received Antiretrovirals=%{y}<extra></extra>\",\"legendgroup\":\"Central African Republic\",\"marker\":{\"color\":\"#19d3f3\",\"pattern\":{\"shape\":\"\"}},\"name\":\"Central African Republic\",\"offsetgroup\":\"Central African Republic\",\"orientation\":\"v\",\"showlegend\":true,\"textposition\":\"auto\",\"x\":[\"Central African Republic\"],\"xaxis\":\"x\",\"y\":[3200.0],\"yaxis\":\"y\",\"type\":\"bar\"},{\"alignmentgroup\":\"True\",\"hovertemplate\":\"Country=%{x}<br>Mean Received Antiretrovirals=%{y}<extra></extra>\",\"legendgroup\":\"Chad\",\"marker\":{\"color\":\"#FF6692\",\"pattern\":{\"shape\":\"\"}},\"name\":\"Chad\",\"offsetgroup\":\"Chad\",\"orientation\":\"v\",\"showlegend\":true,\"textposition\":\"auto\",\"x\":[\"Chad\"],\"xaxis\":\"x\",\"y\":[5600.0],\"yaxis\":\"y\",\"type\":\"bar\"},{\"alignmentgroup\":\"True\",\"hovertemplate\":\"Country=%{x}<br>Mean Received Antiretrovirals=%{y}<extra></extra>\",\"legendgroup\":\"Comoros\",\"marker\":{\"color\":\"#B6E880\",\"pattern\":{\"shape\":\"\"}},\"name\":\"Comoros\",\"offsetgroup\":\"Comoros\",\"orientation\":\"v\",\"showlegend\":true,\"textposition\":\"auto\",\"x\":[\"Comoros\"],\"xaxis\":\"x\",\"y\":[0.0],\"yaxis\":\"y\",\"type\":\"bar\"},{\"alignmentgroup\":\"True\",\"hovertemplate\":\"Country=%{x}<br>Mean Received Antiretrovirals=%{y}<extra></extra>\",\"legendgroup\":\"Equatorial Guinea\",\"marker\":{\"color\":\"#FF97FF\",\"pattern\":{\"shape\":\"\"}},\"name\":\"Equatorial Guinea\",\"offsetgroup\":\"Equatorial Guinea\",\"orientation\":\"v\",\"showlegend\":true,\"textposition\":\"auto\",\"x\":[\"Equatorial Guinea\"],\"xaxis\":\"x\",\"y\":[1300.0],\"yaxis\":\"y\",\"type\":\"bar\"},{\"alignmentgroup\":\"True\",\"hovertemplate\":\"Country=%{x}<br>Mean Received Antiretrovirals=%{y}<extra></extra>\",\"legendgroup\":\"Eritrea\",\"marker\":{\"color\":\"#FECB52\",\"pattern\":{\"shape\":\"\"}},\"name\":\"Eritrea\",\"offsetgroup\":\"Eritrea\",\"orientation\":\"v\",\"showlegend\":true,\"textposition\":\"auto\",\"x\":[\"Eritrea\"],\"xaxis\":\"x\",\"y\":[230.0],\"yaxis\":\"y\",\"type\":\"bar\"},{\"alignmentgroup\":\"True\",\"hovertemplate\":\"Country=%{x}<br>Mean Received Antiretrovirals=%{y}<extra></extra>\",\"legendgroup\":\"Eswatini\",\"marker\":{\"color\":\"#636efa\",\"pattern\":{\"shape\":\"\"}},\"name\":\"Eswatini\",\"offsetgroup\":\"Eswatini\",\"orientation\":\"v\",\"showlegend\":true,\"textposition\":\"auto\",\"x\":[\"Eswatini\"],\"xaxis\":\"x\",\"y\":[8600.0],\"yaxis\":\"y\",\"type\":\"bar\"},{\"alignmentgroup\":\"True\",\"hovertemplate\":\"Country=%{x}<br>Mean Received Antiretrovirals=%{y}<extra></extra>\",\"legendgroup\":\"Gabon\",\"marker\":{\"color\":\"#EF553B\",\"pattern\":{\"shape\":\"\"}},\"name\":\"Gabon\",\"offsetgroup\":\"Gabon\",\"orientation\":\"v\",\"showlegend\":true,\"textposition\":\"auto\",\"x\":[\"Gabon\"],\"xaxis\":\"x\",\"y\":[1900.0],\"yaxis\":\"y\",\"type\":\"bar\"},{\"alignmentgroup\":\"True\",\"hovertemplate\":\"Country=%{x}<br>Mean Received Antiretrovirals=%{y}<extra></extra>\",\"legendgroup\":\"Gambia\",\"marker\":{\"color\":\"#00cc96\",\"pattern\":{\"shape\":\"\"}},\"name\":\"Gambia\",\"offsetgroup\":\"Gambia\",\"orientation\":\"v\",\"showlegend\":true,\"textposition\":\"auto\",\"x\":[\"Gambia\"],\"xaxis\":\"x\",\"y\":[700.0],\"yaxis\":\"y\",\"type\":\"bar\"},{\"alignmentgroup\":\"True\",\"hovertemplate\":\"Country=%{x}<br>Mean Received Antiretrovirals=%{y}<extra></extra>\",\"legendgroup\":\"Guinea\",\"marker\":{\"color\":\"#ab63fa\",\"pattern\":{\"shape\":\"\"}},\"name\":\"Guinea\",\"offsetgroup\":\"Guinea\",\"orientation\":\"v\",\"showlegend\":true,\"textposition\":\"auto\",\"x\":[\"Guinea\"],\"xaxis\":\"x\",\"y\":[3300.0],\"yaxis\":\"y\",\"type\":\"bar\"},{\"alignmentgroup\":\"True\",\"hovertemplate\":\"Country=%{x}<br>Mean Received Antiretrovirals=%{y}<extra></extra>\",\"legendgroup\":\"Guinea-Bissau\",\"marker\":{\"color\":\"#FFA15A\",\"pattern\":{\"shape\":\"\"}},\"name\":\"Guinea-Bissau\",\"offsetgroup\":\"Guinea-Bissau\",\"orientation\":\"v\",\"showlegend\":true,\"textposition\":\"auto\",\"x\":[\"Guinea-Bissau\"],\"xaxis\":\"x\",\"y\":[1000.0],\"yaxis\":\"y\",\"type\":\"bar\"},{\"alignmentgroup\":\"True\",\"hovertemplate\":\"Country=%{x}<br>Mean Received Antiretrovirals=%{y}<extra></extra>\",\"legendgroup\":\"Lesotho\",\"marker\":{\"color\":\"#19d3f3\",\"pattern\":{\"shape\":\"\"}},\"name\":\"Lesotho\",\"offsetgroup\":\"Lesotho\",\"orientation\":\"v\",\"showlegend\":true,\"textposition\":\"auto\",\"x\":[\"Lesotho\"],\"xaxis\":\"x\",\"y\":[8200.0],\"yaxis\":\"y\",\"type\":\"bar\"},{\"alignmentgroup\":\"True\",\"hovertemplate\":\"Country=%{x}<br>Mean Received Antiretrovirals=%{y}<extra></extra>\",\"legendgroup\":\"Liberia\",\"marker\":{\"color\":\"#FF6692\",\"pattern\":{\"shape\":\"\"}},\"name\":\"Liberia\",\"offsetgroup\":\"Liberia\",\"orientation\":\"v\",\"showlegend\":true,\"textposition\":\"auto\",\"x\":[\"Liberia\"],\"xaxis\":\"x\",\"y\":[1800.0],\"yaxis\":\"y\",\"type\":\"bar\"},{\"alignmentgroup\":\"True\",\"hovertemplate\":\"Country=%{x}<br>Mean Received Antiretrovirals=%{y}<extra></extra>\",\"legendgroup\":\"Madagascar\",\"marker\":{\"color\":\"#B6E880\",\"pattern\":{\"shape\":\"\"}},\"name\":\"Madagascar\",\"offsetgroup\":\"Madagascar\",\"orientation\":\"v\",\"showlegend\":true,\"textposition\":\"auto\",\"x\":[\"Madagascar\"],\"xaxis\":\"x\",\"y\":[280.0],\"yaxis\":\"y\",\"type\":\"bar\"},{\"alignmentgroup\":\"True\",\"hovertemplate\":\"Country=%{x}<br>Mean Received Antiretrovirals=%{y}<extra></extra>\",\"legendgroup\":\"Mali\",\"marker\":{\"color\":\"#FF97FF\",\"pattern\":{\"shape\":\"\"}},\"name\":\"Mali\",\"offsetgroup\":\"Mali\",\"orientation\":\"v\",\"showlegend\":true,\"textposition\":\"auto\",\"x\":[\"Mali\"],\"xaxis\":\"x\",\"y\":[2400.0],\"yaxis\":\"y\",\"type\":\"bar\"},{\"alignmentgroup\":\"True\",\"hovertemplate\":\"Country=%{x}<br>Mean Received Antiretrovirals=%{y}<extra></extra>\",\"legendgroup\":\"Mauritania\",\"marker\":{\"color\":\"#FECB52\",\"pattern\":{\"shape\":\"\"}},\"name\":\"Mauritania\",\"offsetgroup\":\"Mauritania\",\"orientation\":\"v\",\"showlegend\":true,\"textposition\":\"auto\",\"x\":[\"Mauritania\"],\"xaxis\":\"x\",\"y\":[50.0],\"yaxis\":\"y\",\"type\":\"bar\"},{\"alignmentgroup\":\"True\",\"hovertemplate\":\"Country=%{x}<br>Mean Received Antiretrovirals=%{y}<extra></extra>\",\"legendgroup\":\"Mauritius\",\"marker\":{\"color\":\"#636efa\",\"pattern\":{\"shape\":\"\"}},\"name\":\"Mauritius\",\"offsetgroup\":\"Mauritius\",\"orientation\":\"v\",\"showlegend\":true,\"textposition\":\"auto\",\"x\":[\"Mauritius\"],\"xaxis\":\"x\",\"y\":[110.0],\"yaxis\":\"y\",\"type\":\"bar\"},{\"alignmentgroup\":\"True\",\"hovertemplate\":\"Country=%{x}<br>Mean Received Antiretrovirals=%{y}<extra></extra>\",\"legendgroup\":\"Niger\",\"marker\":{\"color\":\"#EF553B\",\"pattern\":{\"shape\":\"\"}},\"name\":\"Niger\",\"offsetgroup\":\"Niger\",\"orientation\":\"v\",\"showlegend\":true,\"textposition\":\"auto\",\"x\":[\"Niger\"],\"xaxis\":\"x\",\"y\":[940.0],\"yaxis\":\"y\",\"type\":\"bar\"},{\"alignmentgroup\":\"True\",\"hovertemplate\":\"Country=%{x}<br>Mean Received Antiretrovirals=%{y}<extra></extra>\",\"legendgroup\":\"Rwanda\",\"marker\":{\"color\":\"#00cc96\",\"pattern\":{\"shape\":\"\"}},\"name\":\"Rwanda\",\"offsetgroup\":\"Rwanda\",\"orientation\":\"v\",\"showlegend\":true,\"textposition\":\"auto\",\"x\":[\"Rwanda\"],\"xaxis\":\"x\",\"y\":[8600.0],\"yaxis\":\"y\",\"type\":\"bar\"},{\"alignmentgroup\":\"True\",\"hovertemplate\":\"Country=%{x}<br>Mean Received Antiretrovirals=%{y}<extra></extra>\",\"legendgroup\":\"Senegal\",\"marker\":{\"color\":\"#ab63fa\",\"pattern\":{\"shape\":\"\"}},\"name\":\"Senegal\",\"offsetgroup\":\"Senegal\",\"orientation\":\"v\",\"showlegend\":true,\"textposition\":\"auto\",\"x\":[\"Senegal\"],\"xaxis\":\"x\",\"y\":[1400.0],\"yaxis\":\"y\",\"type\":\"bar\"},{\"alignmentgroup\":\"True\",\"hovertemplate\":\"Country=%{x}<br>Mean Received Antiretrovirals=%{y}<extra></extra>\",\"legendgroup\":\"Sierra Leone\",\"marker\":{\"color\":\"#FFA15A\",\"pattern\":{\"shape\":\"\"}},\"name\":\"Sierra Leone\",\"offsetgroup\":\"Sierra Leone\",\"orientation\":\"v\",\"showlegend\":true,\"textposition\":\"auto\",\"x\":[\"Sierra Leone\"],\"xaxis\":\"x\",\"y\":[4400.0],\"yaxis\":\"y\",\"type\":\"bar\"},{\"alignmentgroup\":\"True\",\"hovertemplate\":\"Country=%{x}<br>Mean Received Antiretrovirals=%{y}<extra></extra>\",\"legendgroup\":\"South Sudan\",\"marker\":{\"color\":\"#19d3f3\",\"pattern\":{\"shape\":\"\"}},\"name\":\"South Sudan\",\"offsetgroup\":\"South Sudan\",\"orientation\":\"v\",\"showlegend\":true,\"textposition\":\"auto\",\"x\":[\"South Sudan\"],\"xaxis\":\"x\",\"y\":[5500.0],\"yaxis\":\"y\",\"type\":\"bar\"},{\"alignmentgroup\":\"True\",\"hovertemplate\":\"Country=%{x}<br>Mean Received Antiretrovirals=%{y}<extra></extra>\",\"legendgroup\":\"Togo\",\"marker\":{\"color\":\"#FF6692\",\"pattern\":{\"shape\":\"\"}},\"name\":\"Togo\",\"offsetgroup\":\"Togo\",\"orientation\":\"v\",\"showlegend\":true,\"textposition\":\"auto\",\"x\":[\"Togo\"],\"xaxis\":\"x\",\"y\":[4300.0],\"yaxis\":\"y\",\"type\":\"bar\"}],                        {\"template\":{\"data\":{\"histogram2dcontour\":[{\"type\":\"histogram2dcontour\",\"colorbar\":{\"outlinewidth\":0,\"ticks\":\"\"},\"colorscale\":[[0.0,\"#0d0887\"],[0.1111111111111111,\"#46039f\"],[0.2222222222222222,\"#7201a8\"],[0.3333333333333333,\"#9c179e\"],[0.4444444444444444,\"#bd3786\"],[0.5555555555555556,\"#d8576b\"],[0.6666666666666666,\"#ed7953\"],[0.7777777777777778,\"#fb9f3a\"],[0.8888888888888888,\"#fdca26\"],[1.0,\"#f0f921\"]]}],\"choropleth\":[{\"type\":\"choropleth\",\"colorbar\":{\"outlinewidth\":0,\"ticks\":\"\"}}],\"histogram2d\":[{\"type\":\"histogram2d\",\"colorbar\":{\"outlinewidth\":0,\"ticks\":\"\"},\"colorscale\":[[0.0,\"#0d0887\"],[0.1111111111111111,\"#46039f\"],[0.2222222222222222,\"#7201a8\"],[0.3333333333333333,\"#9c179e\"],[0.4444444444444444,\"#bd3786\"],[0.5555555555555556,\"#d8576b\"],[0.6666666666666666,\"#ed7953\"],[0.7777777777777778,\"#fb9f3a\"],[0.8888888888888888,\"#fdca26\"],[1.0,\"#f0f921\"]]}],\"heatmap\":[{\"type\":\"heatmap\",\"colorbar\":{\"outlinewidth\":0,\"ticks\":\"\"},\"colorscale\":[[0.0,\"#0d0887\"],[0.1111111111111111,\"#46039f\"],[0.2222222222222222,\"#7201a8\"],[0.3333333333333333,\"#9c179e\"],[0.4444444444444444,\"#bd3786\"],[0.5555555555555556,\"#d8576b\"],[0.6666666666666666,\"#ed7953\"],[0.7777777777777778,\"#fb9f3a\"],[0.8888888888888888,\"#fdca26\"],[1.0,\"#f0f921\"]]}],\"heatmapgl\":[{\"type\":\"heatmapgl\",\"colorbar\":{\"outlinewidth\":0,\"ticks\":\"\"},\"colorscale\":[[0.0,\"#0d0887\"],[0.1111111111111111,\"#46039f\"],[0.2222222222222222,\"#7201a8\"],[0.3333333333333333,\"#9c179e\"],[0.4444444444444444,\"#bd3786\"],[0.5555555555555556,\"#d8576b\"],[0.6666666666666666,\"#ed7953\"],[0.7777777777777778,\"#fb9f3a\"],[0.8888888888888888,\"#fdca26\"],[1.0,\"#f0f921\"]]}],\"contourcarpet\":[{\"type\":\"contourcarpet\",\"colorbar\":{\"outlinewidth\":0,\"ticks\":\"\"}}],\"contour\":[{\"type\":\"contour\",\"colorbar\":{\"outlinewidth\":0,\"ticks\":\"\"},\"colorscale\":[[0.0,\"#0d0887\"],[0.1111111111111111,\"#46039f\"],[0.2222222222222222,\"#7201a8\"],[0.3333333333333333,\"#9c179e\"],[0.4444444444444444,\"#bd3786\"],[0.5555555555555556,\"#d8576b\"],[0.6666666666666666,\"#ed7953\"],[0.7777777777777778,\"#fb9f3a\"],[0.8888888888888888,\"#fdca26\"],[1.0,\"#f0f921\"]]}],\"surface\":[{\"type\":\"surface\",\"colorbar\":{\"outlinewidth\":0,\"ticks\":\"\"},\"colorscale\":[[0.0,\"#0d0887\"],[0.1111111111111111,\"#46039f\"],[0.2222222222222222,\"#7201a8\"],[0.3333333333333333,\"#9c179e\"],[0.4444444444444444,\"#bd3786\"],[0.5555555555555556,\"#d8576b\"],[0.6666666666666666,\"#ed7953\"],[0.7777777777777778,\"#fb9f3a\"],[0.8888888888888888,\"#fdca26\"],[1.0,\"#f0f921\"]]}],\"mesh3d\":[{\"type\":\"mesh3d\",\"colorbar\":{\"outlinewidth\":0,\"ticks\":\"\"}}],\"scatter\":[{\"fillpattern\":{\"fillmode\":\"overlay\",\"size\":10,\"solidity\":0.2},\"type\":\"scatter\"}],\"parcoords\":[{\"type\":\"parcoords\",\"line\":{\"colorbar\":{\"outlinewidth\":0,\"ticks\":\"\"}}}],\"scatterpolargl\":[{\"type\":\"scatterpolargl\",\"marker\":{\"colorbar\":{\"outlinewidth\":0,\"ticks\":\"\"}}}],\"bar\":[{\"error_x\":{\"color\":\"#2a3f5f\"},\"error_y\":{\"color\":\"#2a3f5f\"},\"marker\":{\"line\":{\"color\":\"#E5ECF6\",\"width\":0.5},\"pattern\":{\"fillmode\":\"overlay\",\"size\":10,\"solidity\":0.2}},\"type\":\"bar\"}],\"scattergeo\":[{\"type\":\"scattergeo\",\"marker\":{\"colorbar\":{\"outlinewidth\":0,\"ticks\":\"\"}}}],\"scatterpolar\":[{\"type\":\"scatterpolar\",\"marker\":{\"colorbar\":{\"outlinewidth\":0,\"ticks\":\"\"}}}],\"histogram\":[{\"marker\":{\"pattern\":{\"fillmode\":\"overlay\",\"size\":10,\"solidity\":0.2}},\"type\":\"histogram\"}],\"scattergl\":[{\"type\":\"scattergl\",\"marker\":{\"colorbar\":{\"outlinewidth\":0,\"ticks\":\"\"}}}],\"scatter3d\":[{\"type\":\"scatter3d\",\"line\":{\"colorbar\":{\"outlinewidth\":0,\"ticks\":\"\"}},\"marker\":{\"colorbar\":{\"outlinewidth\":0,\"ticks\":\"\"}}}],\"scattermapbox\":[{\"type\":\"scattermapbox\",\"marker\":{\"colorbar\":{\"outlinewidth\":0,\"ticks\":\"\"}}}],\"scatterternary\":[{\"type\":\"scatterternary\",\"marker\":{\"colorbar\":{\"outlinewidth\":0,\"ticks\":\"\"}}}],\"scattercarpet\":[{\"type\":\"scattercarpet\",\"marker\":{\"colorbar\":{\"outlinewidth\":0,\"ticks\":\"\"}}}],\"carpet\":[{\"aaxis\":{\"endlinecolor\":\"#2a3f5f\",\"gridcolor\":\"white\",\"linecolor\":\"white\",\"minorgridcolor\":\"white\",\"startlinecolor\":\"#2a3f5f\"},\"baxis\":{\"endlinecolor\":\"#2a3f5f\",\"gridcolor\":\"white\",\"linecolor\":\"white\",\"minorgridcolor\":\"white\",\"startlinecolor\":\"#2a3f5f\"},\"type\":\"carpet\"}],\"table\":[{\"cells\":{\"fill\":{\"color\":\"#EBF0F8\"},\"line\":{\"color\":\"white\"}},\"header\":{\"fill\":{\"color\":\"#C8D4E3\"},\"line\":{\"color\":\"white\"}},\"type\":\"table\"}],\"barpolar\":[{\"marker\":{\"line\":{\"color\":\"#E5ECF6\",\"width\":0.5},\"pattern\":{\"fillmode\":\"overlay\",\"size\":10,\"solidity\":0.2}},\"type\":\"barpolar\"}],\"pie\":[{\"automargin\":true,\"type\":\"pie\"}]},\"layout\":{\"autotypenumbers\":\"strict\",\"colorway\":[\"#636efa\",\"#EF553B\",\"#00cc96\",\"#ab63fa\",\"#FFA15A\",\"#19d3f3\",\"#FF6692\",\"#B6E880\",\"#FF97FF\",\"#FECB52\"],\"font\":{\"color\":\"#2a3f5f\"},\"hovermode\":\"closest\",\"hoverlabel\":{\"align\":\"left\"},\"paper_bgcolor\":\"white\",\"plot_bgcolor\":\"#E5ECF6\",\"polar\":{\"bgcolor\":\"#E5ECF6\",\"angularaxis\":{\"gridcolor\":\"white\",\"linecolor\":\"white\",\"ticks\":\"\"},\"radialaxis\":{\"gridcolor\":\"white\",\"linecolor\":\"white\",\"ticks\":\"\"}},\"ternary\":{\"bgcolor\":\"#E5ECF6\",\"aaxis\":{\"gridcolor\":\"white\",\"linecolor\":\"white\",\"ticks\":\"\"},\"baxis\":{\"gridcolor\":\"white\",\"linecolor\":\"white\",\"ticks\":\"\"},\"caxis\":{\"gridcolor\":\"white\",\"linecolor\":\"white\",\"ticks\":\"\"}},\"coloraxis\":{\"colorbar\":{\"outlinewidth\":0,\"ticks\":\"\"}},\"colorscale\":{\"sequential\":[[0.0,\"#0d0887\"],[0.1111111111111111,\"#46039f\"],[0.2222222222222222,\"#7201a8\"],[0.3333333333333333,\"#9c179e\"],[0.4444444444444444,\"#bd3786\"],[0.5555555555555556,\"#d8576b\"],[0.6666666666666666,\"#ed7953\"],[0.7777777777777778,\"#fb9f3a\"],[0.8888888888888888,\"#fdca26\"],[1.0,\"#f0f921\"]],\"sequentialminus\":[[0.0,\"#0d0887\"],[0.1111111111111111,\"#46039f\"],[0.2222222222222222,\"#7201a8\"],[0.3333333333333333,\"#9c179e\"],[0.4444444444444444,\"#bd3786\"],[0.5555555555555556,\"#d8576b\"],[0.6666666666666666,\"#ed7953\"],[0.7777777777777778,\"#fb9f3a\"],[0.8888888888888888,\"#fdca26\"],[1.0,\"#f0f921\"]],\"diverging\":[[0,\"#8e0152\"],[0.1,\"#c51b7d\"],[0.2,\"#de77ae\"],[0.3,\"#f1b6da\"],[0.4,\"#fde0ef\"],[0.5,\"#f7f7f7\"],[0.6,\"#e6f5d0\"],[0.7,\"#b8e186\"],[0.8,\"#7fbc41\"],[0.9,\"#4d9221\"],[1,\"#276419\"]]},\"xaxis\":{\"gridcolor\":\"white\",\"linecolor\":\"white\",\"ticks\":\"\",\"title\":{\"standoff\":15},\"zerolinecolor\":\"white\",\"automargin\":true,\"zerolinewidth\":2},\"yaxis\":{\"gridcolor\":\"white\",\"linecolor\":\"white\",\"ticks\":\"\",\"title\":{\"standoff\":15},\"zerolinecolor\":\"white\",\"automargin\":true,\"zerolinewidth\":2},\"scene\":{\"xaxis\":{\"backgroundcolor\":\"#E5ECF6\",\"gridcolor\":\"white\",\"linecolor\":\"white\",\"showbackground\":true,\"ticks\":\"\",\"zerolinecolor\":\"white\",\"gridwidth\":2},\"yaxis\":{\"backgroundcolor\":\"#E5ECF6\",\"gridcolor\":\"white\",\"linecolor\":\"white\",\"showbackground\":true,\"ticks\":\"\",\"zerolinecolor\":\"white\",\"gridwidth\":2},\"zaxis\":{\"backgroundcolor\":\"#E5ECF6\",\"gridcolor\":\"white\",\"linecolor\":\"white\",\"showbackground\":true,\"ticks\":\"\",\"zerolinecolor\":\"white\",\"gridwidth\":2}},\"shapedefaults\":{\"line\":{\"color\":\"#2a3f5f\"}},\"annotationdefaults\":{\"arrowcolor\":\"#2a3f5f\",\"arrowhead\":0,\"arrowwidth\":1},\"geo\":{\"bgcolor\":\"white\",\"landcolor\":\"#E5ECF6\",\"subunitcolor\":\"white\",\"showland\":true,\"showlakes\":true,\"lakecolor\":\"white\"},\"title\":{\"x\":0.05},\"mapbox\":{\"style\":\"light\"}}},\"xaxis\":{\"anchor\":\"y\",\"domain\":[0.0,1.0],\"title\":{\"text\":\"Country\"},\"categoryorder\":\"array\",\"categoryarray\":[\"Algeria\",\"Angola\",\"Benin\",\"Burkina Faso\",\"Burundi\",\"Central African Republic\",\"Chad\",\"Comoros\",\"Equatorial Guinea\",\"Eritrea\",\"Eswatini\",\"Gabon\",\"Gambia\",\"Guinea\",\"Guinea-Bissau\",\"Lesotho\",\"Liberia\",\"Madagascar\",\"Mali\",\"Mauritania\",\"Mauritius\",\"Niger\",\"Rwanda\",\"Senegal\",\"Sierra Leone\",\"South Sudan\",\"Togo\"]},\"yaxis\":{\"anchor\":\"x\",\"domain\":[0.0,1.0],\"title\":{\"text\":\"Mean Received Antiretrovirals\"}},\"legend\":{\"title\":{\"text\":\"Country\"},\"tracegroupgap\":0},\"title\":{\"text\":\"Mean Received Antiretrovirals by Country for Prevention of Mother-to-Child Transmission in Africa\"},\"barmode\":\"relative\"},                        {\"responsive\": true}                    ).then(function(){\n",
       "                            \n",
       "var gd = document.getElementById('be1c17ff-d6b0-49e4-a6c6-b83ae9809062');\n",
       "var x = new MutationObserver(function (mutations, observer) {{\n",
       "        var display = window.getComputedStyle(gd).display;\n",
       "        if (!display || display === 'none') {{\n",
       "            console.log([gd, 'removed!']);\n",
       "            Plotly.purge(gd);\n",
       "            observer.disconnect();\n",
       "        }}\n",
       "}});\n",
       "\n",
       "// Listen for the removal of the full notebook cells\n",
       "var notebookContainer = gd.closest('#notebook-container');\n",
       "if (notebookContainer) {{\n",
       "    x.observe(notebookContainer, {childList: true});\n",
       "}}\n",
       "\n",
       "// Listen for the clearing of the current output cell\n",
       "var outputEl = gd.closest('.output');\n",
       "if (outputEl) {{\n",
       "    x.observe(outputEl, {childList: true});\n",
       "}}\n",
       "\n",
       "                        })                };                });            </script>        </div>"
      ]
     },
     "metadata": {},
     "output_type": "display_data"
    }
   ],
   "source": [
    "# Reset the index to make it suitable for plotting\n",
    "preventionofTransmission_reset = preventionofTransmission.reset_index()\n",
    "\n",
    "# Create a bar plot\n",
    "fig = px.bar(preventionofTransmission_reset, x='Country', y='Received Antiretrovirals',\n",
    "             color='Country',\n",
    "             labels={'Received Antiretrovirals': 'Mean Received Antiretrovirals'},\n",
    "             title='Mean Received Antiretrovirals by Country for Prevention of Mother-to-Child Transmission in Africa')\n",
    "\n",
    "# Show the plot\n",
    "fig.show()\n"
   ]
  },
  {
   "cell_type": "markdown",
   "id": "4f5d668f",
   "metadata": {},
   "source": [
    "### From the above plot, it is clear that Angola has the highest number of pregnant women who received antiretrovirals. "
   ]
  },
  {
   "cell_type": "code",
   "execution_count": 185,
   "id": "f6d80555",
   "metadata": {
    "collapsed": true
   },
   "outputs": [
    {
     "data": {
      "text/html": [
       "<div>\n",
       "<style scoped>\n",
       "    .dataframe tbody tr th:only-of-type {\n",
       "        vertical-align: middle;\n",
       "    }\n",
       "\n",
       "    .dataframe tbody tr th {\n",
       "        vertical-align: top;\n",
       "    }\n",
       "\n",
       "    .dataframe thead th {\n",
       "        text-align: right;\n",
       "    }\n",
       "</style>\n",
       "<table border=\"1\" class=\"dataframe\">\n",
       "  <thead>\n",
       "    <tr style=\"text-align: right;\">\n",
       "      <th></th>\n",
       "      <th>Needing antiretrovirals_median</th>\n",
       "    </tr>\n",
       "    <tr>\n",
       "      <th>Country</th>\n",
       "      <th></th>\n",
       "    </tr>\n",
       "  </thead>\n",
       "  <tbody>\n",
       "    <tr>\n",
       "      <th>Algeria</th>\n",
       "      <td>500.000000</td>\n",
       "    </tr>\n",
       "    <tr>\n",
       "      <th>Angola</th>\n",
       "      <td>25000.000000</td>\n",
       "    </tr>\n",
       "    <tr>\n",
       "      <th>Benin</th>\n",
       "      <td>2600.000000</td>\n",
       "    </tr>\n",
       "    <tr>\n",
       "      <th>Botswana</th>\n",
       "      <td>13000.000000</td>\n",
       "    </tr>\n",
       "    <tr>\n",
       "      <th>Burkina Faso</th>\n",
       "      <td>4900.000000</td>\n",
       "    </tr>\n",
       "    <tr>\n",
       "      <th>Burundi</th>\n",
       "      <td>5000.000000</td>\n",
       "    </tr>\n",
       "    <tr>\n",
       "      <th>Cabo Verde</th>\n",
       "      <td>28319.512195</td>\n",
       "    </tr>\n",
       "    <tr>\n",
       "      <th>Cameroon</th>\n",
       "      <td>27000.000000</td>\n",
       "    </tr>\n",
       "    <tr>\n",
       "      <th>Central African Republic</th>\n",
       "      <td>4500.000000</td>\n",
       "    </tr>\n",
       "    <tr>\n",
       "      <th>Chad</th>\n",
       "      <td>10000.000000</td>\n",
       "    </tr>\n",
       "    <tr>\n",
       "      <th>Comoros</th>\n",
       "      <td>28319.512195</td>\n",
       "    </tr>\n",
       "    <tr>\n",
       "      <th>Côte d'Ivoire</th>\n",
       "      <td>18000.000000</td>\n",
       "    </tr>\n",
       "    <tr>\n",
       "      <th>Democratic Republic of the Congo</th>\n",
       "      <td>26000.000000</td>\n",
       "    </tr>\n",
       "    <tr>\n",
       "      <th>Equatorial Guinea</th>\n",
       "      <td>2600.000000</td>\n",
       "    </tr>\n",
       "    <tr>\n",
       "      <th>Eritrea</th>\n",
       "      <td>500.000000</td>\n",
       "    </tr>\n",
       "    <tr>\n",
       "      <th>Eswatini</th>\n",
       "      <td>11000.000000</td>\n",
       "    </tr>\n",
       "    <tr>\n",
       "      <th>Ethiopia</th>\n",
       "      <td>20000.000000</td>\n",
       "    </tr>\n",
       "    <tr>\n",
       "      <th>Gabon</th>\n",
       "      <td>2700.000000</td>\n",
       "    </tr>\n",
       "    <tr>\n",
       "      <th>Gambia</th>\n",
       "      <td>1000.000000</td>\n",
       "    </tr>\n",
       "    <tr>\n",
       "      <th>Ghana</th>\n",
       "      <td>16000.000000</td>\n",
       "    </tr>\n",
       "    <tr>\n",
       "      <th>Guinea</th>\n",
       "      <td>5100.000000</td>\n",
       "    </tr>\n",
       "    <tr>\n",
       "      <th>Guinea-Bissau</th>\n",
       "      <td>2100.000000</td>\n",
       "    </tr>\n",
       "    <tr>\n",
       "      <th>Kenya</th>\n",
       "      <td>63000.000000</td>\n",
       "    </tr>\n",
       "    <tr>\n",
       "      <th>Lesotho</th>\n",
       "      <td>11000.000000</td>\n",
       "    </tr>\n",
       "    <tr>\n",
       "      <th>Liberia</th>\n",
       "      <td>2000.000000</td>\n",
       "    </tr>\n",
       "    <tr>\n",
       "      <th>Madagascar</th>\n",
       "      <td>1100.000000</td>\n",
       "    </tr>\n",
       "    <tr>\n",
       "      <th>Malawi</th>\n",
       "      <td>45000.000000</td>\n",
       "    </tr>\n",
       "    <tr>\n",
       "      <th>Mali</th>\n",
       "      <td>10000.000000</td>\n",
       "    </tr>\n",
       "    <tr>\n",
       "      <th>Mauritania</th>\n",
       "      <td>200.000000</td>\n",
       "    </tr>\n",
       "    <tr>\n",
       "      <th>Mauritius</th>\n",
       "      <td>100.000000</td>\n",
       "    </tr>\n",
       "    <tr>\n",
       "      <th>Mozambique</th>\n",
       "      <td>110000.000000</td>\n",
       "    </tr>\n",
       "    <tr>\n",
       "      <th>Namibia</th>\n",
       "      <td>10000.000000</td>\n",
       "    </tr>\n",
       "    <tr>\n",
       "      <th>Niger</th>\n",
       "      <td>1600.000000</td>\n",
       "    </tr>\n",
       "    <tr>\n",
       "      <th>Nigeria</th>\n",
       "      <td>100000.000000</td>\n",
       "    </tr>\n",
       "    <tr>\n",
       "      <th>Rwanda</th>\n",
       "      <td>8100.000000</td>\n",
       "    </tr>\n",
       "    <tr>\n",
       "      <th>Senegal</th>\n",
       "      <td>2200.000000</td>\n",
       "    </tr>\n",
       "    <tr>\n",
       "      <th>Sierra Leone</th>\n",
       "      <td>28319.512195</td>\n",
       "    </tr>\n",
       "    <tr>\n",
       "      <th>South Africa</th>\n",
       "      <td>290000.000000</td>\n",
       "    </tr>\n",
       "    <tr>\n",
       "      <th>South Sudan</th>\n",
       "      <td>9900.000000</td>\n",
       "    </tr>\n",
       "    <tr>\n",
       "      <th>Togo</th>\n",
       "      <td>5400.000000</td>\n",
       "    </tr>\n",
       "    <tr>\n",
       "      <th>Uganda</th>\n",
       "      <td>100000.000000</td>\n",
       "    </tr>\n",
       "    <tr>\n",
       "      <th>United Republic of Tanzania</th>\n",
       "      <td>83000.000000</td>\n",
       "    </tr>\n",
       "    <tr>\n",
       "      <th>Zambia</th>\n",
       "      <td>48000.000000</td>\n",
       "    </tr>\n",
       "    <tr>\n",
       "      <th>Zimbabwe</th>\n",
       "      <td>63000.000000</td>\n",
       "    </tr>\n",
       "  </tbody>\n",
       "</table>\n",
       "</div>"
      ],
      "text/plain": [
       "                                  Needing antiretrovirals_median\n",
       "Country                                                         \n",
       "Algeria                                               500.000000\n",
       "Angola                                              25000.000000\n",
       "Benin                                                2600.000000\n",
       "Botswana                                            13000.000000\n",
       "Burkina Faso                                         4900.000000\n",
       "Burundi                                              5000.000000\n",
       "Cabo Verde                                          28319.512195\n",
       "Cameroon                                            27000.000000\n",
       "Central African Republic                             4500.000000\n",
       "Chad                                                10000.000000\n",
       "Comoros                                             28319.512195\n",
       "Côte d'Ivoire                                       18000.000000\n",
       "Democratic Republic of the Congo                    26000.000000\n",
       "Equatorial Guinea                                    2600.000000\n",
       "Eritrea                                               500.000000\n",
       "Eswatini                                            11000.000000\n",
       "Ethiopia                                            20000.000000\n",
       "Gabon                                                2700.000000\n",
       "Gambia                                               1000.000000\n",
       "Ghana                                               16000.000000\n",
       "Guinea                                               5100.000000\n",
       "Guinea-Bissau                                        2100.000000\n",
       "Kenya                                               63000.000000\n",
       "Lesotho                                             11000.000000\n",
       "Liberia                                              2000.000000\n",
       "Madagascar                                           1100.000000\n",
       "Malawi                                              45000.000000\n",
       "Mali                                                10000.000000\n",
       "Mauritania                                            200.000000\n",
       "Mauritius                                             100.000000\n",
       "Mozambique                                         110000.000000\n",
       "Namibia                                             10000.000000\n",
       "Niger                                                1600.000000\n",
       "Nigeria                                            100000.000000\n",
       "Rwanda                                               8100.000000\n",
       "Senegal                                              2200.000000\n",
       "Sierra Leone                                        28319.512195\n",
       "South Africa                                       290000.000000\n",
       "South Sudan                                          9900.000000\n",
       "Togo                                                 5400.000000\n",
       "Uganda                                             100000.000000\n",
       "United Republic of Tanzania                         83000.000000\n",
       "Zambia                                              48000.000000\n",
       "Zimbabwe                                            63000.000000"
      ]
     },
     "execution_count": 185,
     "metadata": {},
     "output_type": "execute_result"
    }
   ],
   "source": [
    "needAR_women = pd.DataFrame(afr_mother2child_prevention.groupby('Country').mean()['Needing antiretrovirals_median'])\n",
    "needAR_women"
   ]
  },
  {
   "cell_type": "code",
   "execution_count": 186,
   "id": "e043ac1f",
   "metadata": {},
   "outputs": [
    {
     "data": {
      "application/vnd.plotly.v1+json": {
       "config": {
        "plotlyServerURL": "https://plot.ly"
       },
       "data": [
        {
         "alignmentgroup": "True",
         "hovertemplate": "Country=%{x}<br>Needing antiretrovirals_median=%{y}<extra></extra>",
         "legendgroup": "Algeria",
         "marker": {
          "color": "#636efa",
          "pattern": {
           "shape": ""
          }
         },
         "name": "Algeria",
         "offsetgroup": "Algeria",
         "orientation": "v",
         "showlegend": true,
         "textposition": "auto",
         "type": "bar",
         "x": [
          "Algeria"
         ],
         "xaxis": "x",
         "y": [
          500
         ],
         "yaxis": "y"
        },
        {
         "alignmentgroup": "True",
         "hovertemplate": "Country=%{x}<br>Needing antiretrovirals_median=%{y}<extra></extra>",
         "legendgroup": "Angola",
         "marker": {
          "color": "#EF553B",
          "pattern": {
           "shape": ""
          }
         },
         "name": "Angola",
         "offsetgroup": "Angola",
         "orientation": "v",
         "showlegend": true,
         "textposition": "auto",
         "type": "bar",
         "x": [
          "Angola"
         ],
         "xaxis": "x",
         "y": [
          25000
         ],
         "yaxis": "y"
        },
        {
         "alignmentgroup": "True",
         "hovertemplate": "Country=%{x}<br>Needing antiretrovirals_median=%{y}<extra></extra>",
         "legendgroup": "Benin",
         "marker": {
          "color": "#00cc96",
          "pattern": {
           "shape": ""
          }
         },
         "name": "Benin",
         "offsetgroup": "Benin",
         "orientation": "v",
         "showlegend": true,
         "textposition": "auto",
         "type": "bar",
         "x": [
          "Benin"
         ],
         "xaxis": "x",
         "y": [
          2600
         ],
         "yaxis": "y"
        },
        {
         "alignmentgroup": "True",
         "hovertemplate": "Country=%{x}<br>Needing antiretrovirals_median=%{y}<extra></extra>",
         "legendgroup": "Botswana",
         "marker": {
          "color": "#ab63fa",
          "pattern": {
           "shape": ""
          }
         },
         "name": "Botswana",
         "offsetgroup": "Botswana",
         "orientation": "v",
         "showlegend": true,
         "textposition": "auto",
         "type": "bar",
         "x": [
          "Botswana"
         ],
         "xaxis": "x",
         "y": [
          13000
         ],
         "yaxis": "y"
        },
        {
         "alignmentgroup": "True",
         "hovertemplate": "Country=%{x}<br>Needing antiretrovirals_median=%{y}<extra></extra>",
         "legendgroup": "Burkina Faso",
         "marker": {
          "color": "#FFA15A",
          "pattern": {
           "shape": ""
          }
         },
         "name": "Burkina Faso",
         "offsetgroup": "Burkina Faso",
         "orientation": "v",
         "showlegend": true,
         "textposition": "auto",
         "type": "bar",
         "x": [
          "Burkina Faso"
         ],
         "xaxis": "x",
         "y": [
          4900
         ],
         "yaxis": "y"
        },
        {
         "alignmentgroup": "True",
         "hovertemplate": "Country=%{x}<br>Needing antiretrovirals_median=%{y}<extra></extra>",
         "legendgroup": "Burundi",
         "marker": {
          "color": "#19d3f3",
          "pattern": {
           "shape": ""
          }
         },
         "name": "Burundi",
         "offsetgroup": "Burundi",
         "orientation": "v",
         "showlegend": true,
         "textposition": "auto",
         "type": "bar",
         "x": [
          "Burundi"
         ],
         "xaxis": "x",
         "y": [
          5000
         ],
         "yaxis": "y"
        },
        {
         "alignmentgroup": "True",
         "hovertemplate": "Country=%{x}<br>Needing antiretrovirals_median=%{y}<extra></extra>",
         "legendgroup": "Cabo Verde",
         "marker": {
          "color": "#FF6692",
          "pattern": {
           "shape": ""
          }
         },
         "name": "Cabo Verde",
         "offsetgroup": "Cabo Verde",
         "orientation": "v",
         "showlegend": true,
         "textposition": "auto",
         "type": "bar",
         "x": [
          "Cabo Verde"
         ],
         "xaxis": "x",
         "y": [
          28319.51219512195
         ],
         "yaxis": "y"
        },
        {
         "alignmentgroup": "True",
         "hovertemplate": "Country=%{x}<br>Needing antiretrovirals_median=%{y}<extra></extra>",
         "legendgroup": "Cameroon",
         "marker": {
          "color": "#B6E880",
          "pattern": {
           "shape": ""
          }
         },
         "name": "Cameroon",
         "offsetgroup": "Cameroon",
         "orientation": "v",
         "showlegend": true,
         "textposition": "auto",
         "type": "bar",
         "x": [
          "Cameroon"
         ],
         "xaxis": "x",
         "y": [
          27000
         ],
         "yaxis": "y"
        },
        {
         "alignmentgroup": "True",
         "hovertemplate": "Country=%{x}<br>Needing antiretrovirals_median=%{y}<extra></extra>",
         "legendgroup": "Central African Republic",
         "marker": {
          "color": "#FF97FF",
          "pattern": {
           "shape": ""
          }
         },
         "name": "Central African Republic",
         "offsetgroup": "Central African Republic",
         "orientation": "v",
         "showlegend": true,
         "textposition": "auto",
         "type": "bar",
         "x": [
          "Central African Republic"
         ],
         "xaxis": "x",
         "y": [
          4500
         ],
         "yaxis": "y"
        },
        {
         "alignmentgroup": "True",
         "hovertemplate": "Country=%{x}<br>Needing antiretrovirals_median=%{y}<extra></extra>",
         "legendgroup": "Chad",
         "marker": {
          "color": "#FECB52",
          "pattern": {
           "shape": ""
          }
         },
         "name": "Chad",
         "offsetgroup": "Chad",
         "orientation": "v",
         "showlegend": true,
         "textposition": "auto",
         "type": "bar",
         "x": [
          "Chad"
         ],
         "xaxis": "x",
         "y": [
          10000
         ],
         "yaxis": "y"
        },
        {
         "alignmentgroup": "True",
         "hovertemplate": "Country=%{x}<br>Needing antiretrovirals_median=%{y}<extra></extra>",
         "legendgroup": "Comoros",
         "marker": {
          "color": "#636efa",
          "pattern": {
           "shape": ""
          }
         },
         "name": "Comoros",
         "offsetgroup": "Comoros",
         "orientation": "v",
         "showlegend": true,
         "textposition": "auto",
         "type": "bar",
         "x": [
          "Comoros"
         ],
         "xaxis": "x",
         "y": [
          28319.51219512195
         ],
         "yaxis": "y"
        },
        {
         "alignmentgroup": "True",
         "hovertemplate": "Country=%{x}<br>Needing antiretrovirals_median=%{y}<extra></extra>",
         "legendgroup": "Côte d'Ivoire",
         "marker": {
          "color": "#EF553B",
          "pattern": {
           "shape": ""
          }
         },
         "name": "Côte d'Ivoire",
         "offsetgroup": "Côte d'Ivoire",
         "orientation": "v",
         "showlegend": true,
         "textposition": "auto",
         "type": "bar",
         "x": [
          "Côte d'Ivoire"
         ],
         "xaxis": "x",
         "y": [
          18000
         ],
         "yaxis": "y"
        },
        {
         "alignmentgroup": "True",
         "hovertemplate": "Country=%{x}<br>Needing antiretrovirals_median=%{y}<extra></extra>",
         "legendgroup": "Democratic Republic of the Congo",
         "marker": {
          "color": "#00cc96",
          "pattern": {
           "shape": ""
          }
         },
         "name": "Democratic Republic of the Congo",
         "offsetgroup": "Democratic Republic of the Congo",
         "orientation": "v",
         "showlegend": true,
         "textposition": "auto",
         "type": "bar",
         "x": [
          "Democratic Republic of the Congo"
         ],
         "xaxis": "x",
         "y": [
          26000
         ],
         "yaxis": "y"
        },
        {
         "alignmentgroup": "True",
         "hovertemplate": "Country=%{x}<br>Needing antiretrovirals_median=%{y}<extra></extra>",
         "legendgroup": "Equatorial Guinea",
         "marker": {
          "color": "#ab63fa",
          "pattern": {
           "shape": ""
          }
         },
         "name": "Equatorial Guinea",
         "offsetgroup": "Equatorial Guinea",
         "orientation": "v",
         "showlegend": true,
         "textposition": "auto",
         "type": "bar",
         "x": [
          "Equatorial Guinea"
         ],
         "xaxis": "x",
         "y": [
          2600
         ],
         "yaxis": "y"
        },
        {
         "alignmentgroup": "True",
         "hovertemplate": "Country=%{x}<br>Needing antiretrovirals_median=%{y}<extra></extra>",
         "legendgroup": "Eritrea",
         "marker": {
          "color": "#FFA15A",
          "pattern": {
           "shape": ""
          }
         },
         "name": "Eritrea",
         "offsetgroup": "Eritrea",
         "orientation": "v",
         "showlegend": true,
         "textposition": "auto",
         "type": "bar",
         "x": [
          "Eritrea"
         ],
         "xaxis": "x",
         "y": [
          500
         ],
         "yaxis": "y"
        },
        {
         "alignmentgroup": "True",
         "hovertemplate": "Country=%{x}<br>Needing antiretrovirals_median=%{y}<extra></extra>",
         "legendgroup": "Eswatini",
         "marker": {
          "color": "#19d3f3",
          "pattern": {
           "shape": ""
          }
         },
         "name": "Eswatini",
         "offsetgroup": "Eswatini",
         "orientation": "v",
         "showlegend": true,
         "textposition": "auto",
         "type": "bar",
         "x": [
          "Eswatini"
         ],
         "xaxis": "x",
         "y": [
          11000
         ],
         "yaxis": "y"
        },
        {
         "alignmentgroup": "True",
         "hovertemplate": "Country=%{x}<br>Needing antiretrovirals_median=%{y}<extra></extra>",
         "legendgroup": "Ethiopia",
         "marker": {
          "color": "#FF6692",
          "pattern": {
           "shape": ""
          }
         },
         "name": "Ethiopia",
         "offsetgroup": "Ethiopia",
         "orientation": "v",
         "showlegend": true,
         "textposition": "auto",
         "type": "bar",
         "x": [
          "Ethiopia"
         ],
         "xaxis": "x",
         "y": [
          20000
         ],
         "yaxis": "y"
        },
        {
         "alignmentgroup": "True",
         "hovertemplate": "Country=%{x}<br>Needing antiretrovirals_median=%{y}<extra></extra>",
         "legendgroup": "Gabon",
         "marker": {
          "color": "#B6E880",
          "pattern": {
           "shape": ""
          }
         },
         "name": "Gabon",
         "offsetgroup": "Gabon",
         "orientation": "v",
         "showlegend": true,
         "textposition": "auto",
         "type": "bar",
         "x": [
          "Gabon"
         ],
         "xaxis": "x",
         "y": [
          2700
         ],
         "yaxis": "y"
        },
        {
         "alignmentgroup": "True",
         "hovertemplate": "Country=%{x}<br>Needing antiretrovirals_median=%{y}<extra></extra>",
         "legendgroup": "Gambia",
         "marker": {
          "color": "#FF97FF",
          "pattern": {
           "shape": ""
          }
         },
         "name": "Gambia",
         "offsetgroup": "Gambia",
         "orientation": "v",
         "showlegend": true,
         "textposition": "auto",
         "type": "bar",
         "x": [
          "Gambia"
         ],
         "xaxis": "x",
         "y": [
          1000
         ],
         "yaxis": "y"
        },
        {
         "alignmentgroup": "True",
         "hovertemplate": "Country=%{x}<br>Needing antiretrovirals_median=%{y}<extra></extra>",
         "legendgroup": "Ghana",
         "marker": {
          "color": "#FECB52",
          "pattern": {
           "shape": ""
          }
         },
         "name": "Ghana",
         "offsetgroup": "Ghana",
         "orientation": "v",
         "showlegend": true,
         "textposition": "auto",
         "type": "bar",
         "x": [
          "Ghana"
         ],
         "xaxis": "x",
         "y": [
          16000
         ],
         "yaxis": "y"
        },
        {
         "alignmentgroup": "True",
         "hovertemplate": "Country=%{x}<br>Needing antiretrovirals_median=%{y}<extra></extra>",
         "legendgroup": "Guinea",
         "marker": {
          "color": "#636efa",
          "pattern": {
           "shape": ""
          }
         },
         "name": "Guinea",
         "offsetgroup": "Guinea",
         "orientation": "v",
         "showlegend": true,
         "textposition": "auto",
         "type": "bar",
         "x": [
          "Guinea"
         ],
         "xaxis": "x",
         "y": [
          5100
         ],
         "yaxis": "y"
        },
        {
         "alignmentgroup": "True",
         "hovertemplate": "Country=%{x}<br>Needing antiretrovirals_median=%{y}<extra></extra>",
         "legendgroup": "Guinea-Bissau",
         "marker": {
          "color": "#EF553B",
          "pattern": {
           "shape": ""
          }
         },
         "name": "Guinea-Bissau",
         "offsetgroup": "Guinea-Bissau",
         "orientation": "v",
         "showlegend": true,
         "textposition": "auto",
         "type": "bar",
         "x": [
          "Guinea-Bissau"
         ],
         "xaxis": "x",
         "y": [
          2100
         ],
         "yaxis": "y"
        },
        {
         "alignmentgroup": "True",
         "hovertemplate": "Country=%{x}<br>Needing antiretrovirals_median=%{y}<extra></extra>",
         "legendgroup": "Kenya",
         "marker": {
          "color": "#00cc96",
          "pattern": {
           "shape": ""
          }
         },
         "name": "Kenya",
         "offsetgroup": "Kenya",
         "orientation": "v",
         "showlegend": true,
         "textposition": "auto",
         "type": "bar",
         "x": [
          "Kenya"
         ],
         "xaxis": "x",
         "y": [
          63000
         ],
         "yaxis": "y"
        },
        {
         "alignmentgroup": "True",
         "hovertemplate": "Country=%{x}<br>Needing antiretrovirals_median=%{y}<extra></extra>",
         "legendgroup": "Lesotho",
         "marker": {
          "color": "#ab63fa",
          "pattern": {
           "shape": ""
          }
         },
         "name": "Lesotho",
         "offsetgroup": "Lesotho",
         "orientation": "v",
         "showlegend": true,
         "textposition": "auto",
         "type": "bar",
         "x": [
          "Lesotho"
         ],
         "xaxis": "x",
         "y": [
          11000
         ],
         "yaxis": "y"
        },
        {
         "alignmentgroup": "True",
         "hovertemplate": "Country=%{x}<br>Needing antiretrovirals_median=%{y}<extra></extra>",
         "legendgroup": "Liberia",
         "marker": {
          "color": "#FFA15A",
          "pattern": {
           "shape": ""
          }
         },
         "name": "Liberia",
         "offsetgroup": "Liberia",
         "orientation": "v",
         "showlegend": true,
         "textposition": "auto",
         "type": "bar",
         "x": [
          "Liberia"
         ],
         "xaxis": "x",
         "y": [
          2000
         ],
         "yaxis": "y"
        },
        {
         "alignmentgroup": "True",
         "hovertemplate": "Country=%{x}<br>Needing antiretrovirals_median=%{y}<extra></extra>",
         "legendgroup": "Madagascar",
         "marker": {
          "color": "#19d3f3",
          "pattern": {
           "shape": ""
          }
         },
         "name": "Madagascar",
         "offsetgroup": "Madagascar",
         "orientation": "v",
         "showlegend": true,
         "textposition": "auto",
         "type": "bar",
         "x": [
          "Madagascar"
         ],
         "xaxis": "x",
         "y": [
          1100
         ],
         "yaxis": "y"
        },
        {
         "alignmentgroup": "True",
         "hovertemplate": "Country=%{x}<br>Needing antiretrovirals_median=%{y}<extra></extra>",
         "legendgroup": "Malawi",
         "marker": {
          "color": "#FF6692",
          "pattern": {
           "shape": ""
          }
         },
         "name": "Malawi",
         "offsetgroup": "Malawi",
         "orientation": "v",
         "showlegend": true,
         "textposition": "auto",
         "type": "bar",
         "x": [
          "Malawi"
         ],
         "xaxis": "x",
         "y": [
          45000
         ],
         "yaxis": "y"
        },
        {
         "alignmentgroup": "True",
         "hovertemplate": "Country=%{x}<br>Needing antiretrovirals_median=%{y}<extra></extra>",
         "legendgroup": "Mali",
         "marker": {
          "color": "#B6E880",
          "pattern": {
           "shape": ""
          }
         },
         "name": "Mali",
         "offsetgroup": "Mali",
         "orientation": "v",
         "showlegend": true,
         "textposition": "auto",
         "type": "bar",
         "x": [
          "Mali"
         ],
         "xaxis": "x",
         "y": [
          10000
         ],
         "yaxis": "y"
        },
        {
         "alignmentgroup": "True",
         "hovertemplate": "Country=%{x}<br>Needing antiretrovirals_median=%{y}<extra></extra>",
         "legendgroup": "Mauritania",
         "marker": {
          "color": "#FF97FF",
          "pattern": {
           "shape": ""
          }
         },
         "name": "Mauritania",
         "offsetgroup": "Mauritania",
         "orientation": "v",
         "showlegend": true,
         "textposition": "auto",
         "type": "bar",
         "x": [
          "Mauritania"
         ],
         "xaxis": "x",
         "y": [
          200
         ],
         "yaxis": "y"
        },
        {
         "alignmentgroup": "True",
         "hovertemplate": "Country=%{x}<br>Needing antiretrovirals_median=%{y}<extra></extra>",
         "legendgroup": "Mauritius",
         "marker": {
          "color": "#FECB52",
          "pattern": {
           "shape": ""
          }
         },
         "name": "Mauritius",
         "offsetgroup": "Mauritius",
         "orientation": "v",
         "showlegend": true,
         "textposition": "auto",
         "type": "bar",
         "x": [
          "Mauritius"
         ],
         "xaxis": "x",
         "y": [
          100
         ],
         "yaxis": "y"
        },
        {
         "alignmentgroup": "True",
         "hovertemplate": "Country=%{x}<br>Needing antiretrovirals_median=%{y}<extra></extra>",
         "legendgroup": "Mozambique",
         "marker": {
          "color": "#636efa",
          "pattern": {
           "shape": ""
          }
         },
         "name": "Mozambique",
         "offsetgroup": "Mozambique",
         "orientation": "v",
         "showlegend": true,
         "textposition": "auto",
         "type": "bar",
         "x": [
          "Mozambique"
         ],
         "xaxis": "x",
         "y": [
          110000
         ],
         "yaxis": "y"
        },
        {
         "alignmentgroup": "True",
         "hovertemplate": "Country=%{x}<br>Needing antiretrovirals_median=%{y}<extra></extra>",
         "legendgroup": "Namibia",
         "marker": {
          "color": "#EF553B",
          "pattern": {
           "shape": ""
          }
         },
         "name": "Namibia",
         "offsetgroup": "Namibia",
         "orientation": "v",
         "showlegend": true,
         "textposition": "auto",
         "type": "bar",
         "x": [
          "Namibia"
         ],
         "xaxis": "x",
         "y": [
          10000
         ],
         "yaxis": "y"
        },
        {
         "alignmentgroup": "True",
         "hovertemplate": "Country=%{x}<br>Needing antiretrovirals_median=%{y}<extra></extra>",
         "legendgroup": "Niger",
         "marker": {
          "color": "#00cc96",
          "pattern": {
           "shape": ""
          }
         },
         "name": "Niger",
         "offsetgroup": "Niger",
         "orientation": "v",
         "showlegend": true,
         "textposition": "auto",
         "type": "bar",
         "x": [
          "Niger"
         ],
         "xaxis": "x",
         "y": [
          1600
         ],
         "yaxis": "y"
        },
        {
         "alignmentgroup": "True",
         "hovertemplate": "Country=%{x}<br>Needing antiretrovirals_median=%{y}<extra></extra>",
         "legendgroup": "Nigeria",
         "marker": {
          "color": "#ab63fa",
          "pattern": {
           "shape": ""
          }
         },
         "name": "Nigeria",
         "offsetgroup": "Nigeria",
         "orientation": "v",
         "showlegend": true,
         "textposition": "auto",
         "type": "bar",
         "x": [
          "Nigeria"
         ],
         "xaxis": "x",
         "y": [
          100000
         ],
         "yaxis": "y"
        },
        {
         "alignmentgroup": "True",
         "hovertemplate": "Country=%{x}<br>Needing antiretrovirals_median=%{y}<extra></extra>",
         "legendgroup": "Rwanda",
         "marker": {
          "color": "#FFA15A",
          "pattern": {
           "shape": ""
          }
         },
         "name": "Rwanda",
         "offsetgroup": "Rwanda",
         "orientation": "v",
         "showlegend": true,
         "textposition": "auto",
         "type": "bar",
         "x": [
          "Rwanda"
         ],
         "xaxis": "x",
         "y": [
          8100
         ],
         "yaxis": "y"
        },
        {
         "alignmentgroup": "True",
         "hovertemplate": "Country=%{x}<br>Needing antiretrovirals_median=%{y}<extra></extra>",
         "legendgroup": "Senegal",
         "marker": {
          "color": "#19d3f3",
          "pattern": {
           "shape": ""
          }
         },
         "name": "Senegal",
         "offsetgroup": "Senegal",
         "orientation": "v",
         "showlegend": true,
         "textposition": "auto",
         "type": "bar",
         "x": [
          "Senegal"
         ],
         "xaxis": "x",
         "y": [
          2200
         ],
         "yaxis": "y"
        },
        {
         "alignmentgroup": "True",
         "hovertemplate": "Country=%{x}<br>Needing antiretrovirals_median=%{y}<extra></extra>",
         "legendgroup": "Sierra Leone",
         "marker": {
          "color": "#FF6692",
          "pattern": {
           "shape": ""
          }
         },
         "name": "Sierra Leone",
         "offsetgroup": "Sierra Leone",
         "orientation": "v",
         "showlegend": true,
         "textposition": "auto",
         "type": "bar",
         "x": [
          "Sierra Leone"
         ],
         "xaxis": "x",
         "y": [
          28319.51219512195
         ],
         "yaxis": "y"
        },
        {
         "alignmentgroup": "True",
         "hovertemplate": "Country=%{x}<br>Needing antiretrovirals_median=%{y}<extra></extra>",
         "legendgroup": "South Africa",
         "marker": {
          "color": "#B6E880",
          "pattern": {
           "shape": ""
          }
         },
         "name": "South Africa",
         "offsetgroup": "South Africa",
         "orientation": "v",
         "showlegend": true,
         "textposition": "auto",
         "type": "bar",
         "x": [
          "South Africa"
         ],
         "xaxis": "x",
         "y": [
          290000
         ],
         "yaxis": "y"
        },
        {
         "alignmentgroup": "True",
         "hovertemplate": "Country=%{x}<br>Needing antiretrovirals_median=%{y}<extra></extra>",
         "legendgroup": "South Sudan",
         "marker": {
          "color": "#FF97FF",
          "pattern": {
           "shape": ""
          }
         },
         "name": "South Sudan",
         "offsetgroup": "South Sudan",
         "orientation": "v",
         "showlegend": true,
         "textposition": "auto",
         "type": "bar",
         "x": [
          "South Sudan"
         ],
         "xaxis": "x",
         "y": [
          9900
         ],
         "yaxis": "y"
        },
        {
         "alignmentgroup": "True",
         "hovertemplate": "Country=%{x}<br>Needing antiretrovirals_median=%{y}<extra></extra>",
         "legendgroup": "Togo",
         "marker": {
          "color": "#FECB52",
          "pattern": {
           "shape": ""
          }
         },
         "name": "Togo",
         "offsetgroup": "Togo",
         "orientation": "v",
         "showlegend": true,
         "textposition": "auto",
         "type": "bar",
         "x": [
          "Togo"
         ],
         "xaxis": "x",
         "y": [
          5400
         ],
         "yaxis": "y"
        },
        {
         "alignmentgroup": "True",
         "hovertemplate": "Country=%{x}<br>Needing antiretrovirals_median=%{y}<extra></extra>",
         "legendgroup": "Uganda",
         "marker": {
          "color": "#636efa",
          "pattern": {
           "shape": ""
          }
         },
         "name": "Uganda",
         "offsetgroup": "Uganda",
         "orientation": "v",
         "showlegend": true,
         "textposition": "auto",
         "type": "bar",
         "x": [
          "Uganda"
         ],
         "xaxis": "x",
         "y": [
          100000
         ],
         "yaxis": "y"
        },
        {
         "alignmentgroup": "True",
         "hovertemplate": "Country=%{x}<br>Needing antiretrovirals_median=%{y}<extra></extra>",
         "legendgroup": "United Republic of Tanzania",
         "marker": {
          "color": "#EF553B",
          "pattern": {
           "shape": ""
          }
         },
         "name": "United Republic of Tanzania",
         "offsetgroup": "United Republic of Tanzania",
         "orientation": "v",
         "showlegend": true,
         "textposition": "auto",
         "type": "bar",
         "x": [
          "United Republic of Tanzania"
         ],
         "xaxis": "x",
         "y": [
          83000
         ],
         "yaxis": "y"
        },
        {
         "alignmentgroup": "True",
         "hovertemplate": "Country=%{x}<br>Needing antiretrovirals_median=%{y}<extra></extra>",
         "legendgroup": "Zambia",
         "marker": {
          "color": "#00cc96",
          "pattern": {
           "shape": ""
          }
         },
         "name": "Zambia",
         "offsetgroup": "Zambia",
         "orientation": "v",
         "showlegend": true,
         "textposition": "auto",
         "type": "bar",
         "x": [
          "Zambia"
         ],
         "xaxis": "x",
         "y": [
          48000
         ],
         "yaxis": "y"
        },
        {
         "alignmentgroup": "True",
         "hovertemplate": "Country=%{x}<br>Needing antiretrovirals_median=%{y}<extra></extra>",
         "legendgroup": "Zimbabwe",
         "marker": {
          "color": "#ab63fa",
          "pattern": {
           "shape": ""
          }
         },
         "name": "Zimbabwe",
         "offsetgroup": "Zimbabwe",
         "orientation": "v",
         "showlegend": true,
         "textposition": "auto",
         "type": "bar",
         "x": [
          "Zimbabwe"
         ],
         "xaxis": "x",
         "y": [
          63000
         ],
         "yaxis": "y"
        }
       ],
       "layout": {
        "barmode": "relative",
        "legend": {
         "title": {
          "text": "Country"
         },
         "tracegroupgap": 0
        },
        "template": {
         "data": {
          "bar": [
           {
            "error_x": {
             "color": "#2a3f5f"
            },
            "error_y": {
             "color": "#2a3f5f"
            },
            "marker": {
             "line": {
              "color": "#E5ECF6",
              "width": 0.5
             },
             "pattern": {
              "fillmode": "overlay",
              "size": 10,
              "solidity": 0.2
             }
            },
            "type": "bar"
           }
          ],
          "barpolar": [
           {
            "marker": {
             "line": {
              "color": "#E5ECF6",
              "width": 0.5
             },
             "pattern": {
              "fillmode": "overlay",
              "size": 10,
              "solidity": 0.2
             }
            },
            "type": "barpolar"
           }
          ],
          "carpet": [
           {
            "aaxis": {
             "endlinecolor": "#2a3f5f",
             "gridcolor": "white",
             "linecolor": "white",
             "minorgridcolor": "white",
             "startlinecolor": "#2a3f5f"
            },
            "baxis": {
             "endlinecolor": "#2a3f5f",
             "gridcolor": "white",
             "linecolor": "white",
             "minorgridcolor": "white",
             "startlinecolor": "#2a3f5f"
            },
            "type": "carpet"
           }
          ],
          "choropleth": [
           {
            "colorbar": {
             "outlinewidth": 0,
             "ticks": ""
            },
            "type": "choropleth"
           }
          ],
          "contour": [
           {
            "colorbar": {
             "outlinewidth": 0,
             "ticks": ""
            },
            "colorscale": [
             [
              0,
              "#0d0887"
             ],
             [
              0.1111111111111111,
              "#46039f"
             ],
             [
              0.2222222222222222,
              "#7201a8"
             ],
             [
              0.3333333333333333,
              "#9c179e"
             ],
             [
              0.4444444444444444,
              "#bd3786"
             ],
             [
              0.5555555555555556,
              "#d8576b"
             ],
             [
              0.6666666666666666,
              "#ed7953"
             ],
             [
              0.7777777777777778,
              "#fb9f3a"
             ],
             [
              0.8888888888888888,
              "#fdca26"
             ],
             [
              1,
              "#f0f921"
             ]
            ],
            "type": "contour"
           }
          ],
          "contourcarpet": [
           {
            "colorbar": {
             "outlinewidth": 0,
             "ticks": ""
            },
            "type": "contourcarpet"
           }
          ],
          "heatmap": [
           {
            "colorbar": {
             "outlinewidth": 0,
             "ticks": ""
            },
            "colorscale": [
             [
              0,
              "#0d0887"
             ],
             [
              0.1111111111111111,
              "#46039f"
             ],
             [
              0.2222222222222222,
              "#7201a8"
             ],
             [
              0.3333333333333333,
              "#9c179e"
             ],
             [
              0.4444444444444444,
              "#bd3786"
             ],
             [
              0.5555555555555556,
              "#d8576b"
             ],
             [
              0.6666666666666666,
              "#ed7953"
             ],
             [
              0.7777777777777778,
              "#fb9f3a"
             ],
             [
              0.8888888888888888,
              "#fdca26"
             ],
             [
              1,
              "#f0f921"
             ]
            ],
            "type": "heatmap"
           }
          ],
          "heatmapgl": [
           {
            "colorbar": {
             "outlinewidth": 0,
             "ticks": ""
            },
            "colorscale": [
             [
              0,
              "#0d0887"
             ],
             [
              0.1111111111111111,
              "#46039f"
             ],
             [
              0.2222222222222222,
              "#7201a8"
             ],
             [
              0.3333333333333333,
              "#9c179e"
             ],
             [
              0.4444444444444444,
              "#bd3786"
             ],
             [
              0.5555555555555556,
              "#d8576b"
             ],
             [
              0.6666666666666666,
              "#ed7953"
             ],
             [
              0.7777777777777778,
              "#fb9f3a"
             ],
             [
              0.8888888888888888,
              "#fdca26"
             ],
             [
              1,
              "#f0f921"
             ]
            ],
            "type": "heatmapgl"
           }
          ],
          "histogram": [
           {
            "marker": {
             "pattern": {
              "fillmode": "overlay",
              "size": 10,
              "solidity": 0.2
             }
            },
            "type": "histogram"
           }
          ],
          "histogram2d": [
           {
            "colorbar": {
             "outlinewidth": 0,
             "ticks": ""
            },
            "colorscale": [
             [
              0,
              "#0d0887"
             ],
             [
              0.1111111111111111,
              "#46039f"
             ],
             [
              0.2222222222222222,
              "#7201a8"
             ],
             [
              0.3333333333333333,
              "#9c179e"
             ],
             [
              0.4444444444444444,
              "#bd3786"
             ],
             [
              0.5555555555555556,
              "#d8576b"
             ],
             [
              0.6666666666666666,
              "#ed7953"
             ],
             [
              0.7777777777777778,
              "#fb9f3a"
             ],
             [
              0.8888888888888888,
              "#fdca26"
             ],
             [
              1,
              "#f0f921"
             ]
            ],
            "type": "histogram2d"
           }
          ],
          "histogram2dcontour": [
           {
            "colorbar": {
             "outlinewidth": 0,
             "ticks": ""
            },
            "colorscale": [
             [
              0,
              "#0d0887"
             ],
             [
              0.1111111111111111,
              "#46039f"
             ],
             [
              0.2222222222222222,
              "#7201a8"
             ],
             [
              0.3333333333333333,
              "#9c179e"
             ],
             [
              0.4444444444444444,
              "#bd3786"
             ],
             [
              0.5555555555555556,
              "#d8576b"
             ],
             [
              0.6666666666666666,
              "#ed7953"
             ],
             [
              0.7777777777777778,
              "#fb9f3a"
             ],
             [
              0.8888888888888888,
              "#fdca26"
             ],
             [
              1,
              "#f0f921"
             ]
            ],
            "type": "histogram2dcontour"
           }
          ],
          "mesh3d": [
           {
            "colorbar": {
             "outlinewidth": 0,
             "ticks": ""
            },
            "type": "mesh3d"
           }
          ],
          "parcoords": [
           {
            "line": {
             "colorbar": {
              "outlinewidth": 0,
              "ticks": ""
             }
            },
            "type": "parcoords"
           }
          ],
          "pie": [
           {
            "automargin": true,
            "type": "pie"
           }
          ],
          "scatter": [
           {
            "fillpattern": {
             "fillmode": "overlay",
             "size": 10,
             "solidity": 0.2
            },
            "type": "scatter"
           }
          ],
          "scatter3d": [
           {
            "line": {
             "colorbar": {
              "outlinewidth": 0,
              "ticks": ""
             }
            },
            "marker": {
             "colorbar": {
              "outlinewidth": 0,
              "ticks": ""
             }
            },
            "type": "scatter3d"
           }
          ],
          "scattercarpet": [
           {
            "marker": {
             "colorbar": {
              "outlinewidth": 0,
              "ticks": ""
             }
            },
            "type": "scattercarpet"
           }
          ],
          "scattergeo": [
           {
            "marker": {
             "colorbar": {
              "outlinewidth": 0,
              "ticks": ""
             }
            },
            "type": "scattergeo"
           }
          ],
          "scattergl": [
           {
            "marker": {
             "colorbar": {
              "outlinewidth": 0,
              "ticks": ""
             }
            },
            "type": "scattergl"
           }
          ],
          "scattermapbox": [
           {
            "marker": {
             "colorbar": {
              "outlinewidth": 0,
              "ticks": ""
             }
            },
            "type": "scattermapbox"
           }
          ],
          "scatterpolar": [
           {
            "marker": {
             "colorbar": {
              "outlinewidth": 0,
              "ticks": ""
             }
            },
            "type": "scatterpolar"
           }
          ],
          "scatterpolargl": [
           {
            "marker": {
             "colorbar": {
              "outlinewidth": 0,
              "ticks": ""
             }
            },
            "type": "scatterpolargl"
           }
          ],
          "scatterternary": [
           {
            "marker": {
             "colorbar": {
              "outlinewidth": 0,
              "ticks": ""
             }
            },
            "type": "scatterternary"
           }
          ],
          "surface": [
           {
            "colorbar": {
             "outlinewidth": 0,
             "ticks": ""
            },
            "colorscale": [
             [
              0,
              "#0d0887"
             ],
             [
              0.1111111111111111,
              "#46039f"
             ],
             [
              0.2222222222222222,
              "#7201a8"
             ],
             [
              0.3333333333333333,
              "#9c179e"
             ],
             [
              0.4444444444444444,
              "#bd3786"
             ],
             [
              0.5555555555555556,
              "#d8576b"
             ],
             [
              0.6666666666666666,
              "#ed7953"
             ],
             [
              0.7777777777777778,
              "#fb9f3a"
             ],
             [
              0.8888888888888888,
              "#fdca26"
             ],
             [
              1,
              "#f0f921"
             ]
            ],
            "type": "surface"
           }
          ],
          "table": [
           {
            "cells": {
             "fill": {
              "color": "#EBF0F8"
             },
             "line": {
              "color": "white"
             }
            },
            "header": {
             "fill": {
              "color": "#C8D4E3"
             },
             "line": {
              "color": "white"
             }
            },
            "type": "table"
           }
          ]
         },
         "layout": {
          "annotationdefaults": {
           "arrowcolor": "#2a3f5f",
           "arrowhead": 0,
           "arrowwidth": 1
          },
          "autotypenumbers": "strict",
          "coloraxis": {
           "colorbar": {
            "outlinewidth": 0,
            "ticks": ""
           }
          },
          "colorscale": {
           "diverging": [
            [
             0,
             "#8e0152"
            ],
            [
             0.1,
             "#c51b7d"
            ],
            [
             0.2,
             "#de77ae"
            ],
            [
             0.3,
             "#f1b6da"
            ],
            [
             0.4,
             "#fde0ef"
            ],
            [
             0.5,
             "#f7f7f7"
            ],
            [
             0.6,
             "#e6f5d0"
            ],
            [
             0.7,
             "#b8e186"
            ],
            [
             0.8,
             "#7fbc41"
            ],
            [
             0.9,
             "#4d9221"
            ],
            [
             1,
             "#276419"
            ]
           ],
           "sequential": [
            [
             0,
             "#0d0887"
            ],
            [
             0.1111111111111111,
             "#46039f"
            ],
            [
             0.2222222222222222,
             "#7201a8"
            ],
            [
             0.3333333333333333,
             "#9c179e"
            ],
            [
             0.4444444444444444,
             "#bd3786"
            ],
            [
             0.5555555555555556,
             "#d8576b"
            ],
            [
             0.6666666666666666,
             "#ed7953"
            ],
            [
             0.7777777777777778,
             "#fb9f3a"
            ],
            [
             0.8888888888888888,
             "#fdca26"
            ],
            [
             1,
             "#f0f921"
            ]
           ],
           "sequentialminus": [
            [
             0,
             "#0d0887"
            ],
            [
             0.1111111111111111,
             "#46039f"
            ],
            [
             0.2222222222222222,
             "#7201a8"
            ],
            [
             0.3333333333333333,
             "#9c179e"
            ],
            [
             0.4444444444444444,
             "#bd3786"
            ],
            [
             0.5555555555555556,
             "#d8576b"
            ],
            [
             0.6666666666666666,
             "#ed7953"
            ],
            [
             0.7777777777777778,
             "#fb9f3a"
            ],
            [
             0.8888888888888888,
             "#fdca26"
            ],
            [
             1,
             "#f0f921"
            ]
           ]
          },
          "colorway": [
           "#636efa",
           "#EF553B",
           "#00cc96",
           "#ab63fa",
           "#FFA15A",
           "#19d3f3",
           "#FF6692",
           "#B6E880",
           "#FF97FF",
           "#FECB52"
          ],
          "font": {
           "color": "#2a3f5f"
          },
          "geo": {
           "bgcolor": "white",
           "lakecolor": "white",
           "landcolor": "#E5ECF6",
           "showlakes": true,
           "showland": true,
           "subunitcolor": "white"
          },
          "hoverlabel": {
           "align": "left"
          },
          "hovermode": "closest",
          "mapbox": {
           "style": "light"
          },
          "paper_bgcolor": "white",
          "plot_bgcolor": "#E5ECF6",
          "polar": {
           "angularaxis": {
            "gridcolor": "white",
            "linecolor": "white",
            "ticks": ""
           },
           "bgcolor": "#E5ECF6",
           "radialaxis": {
            "gridcolor": "white",
            "linecolor": "white",
            "ticks": ""
           }
          },
          "scene": {
           "xaxis": {
            "backgroundcolor": "#E5ECF6",
            "gridcolor": "white",
            "gridwidth": 2,
            "linecolor": "white",
            "showbackground": true,
            "ticks": "",
            "zerolinecolor": "white"
           },
           "yaxis": {
            "backgroundcolor": "#E5ECF6",
            "gridcolor": "white",
            "gridwidth": 2,
            "linecolor": "white",
            "showbackground": true,
            "ticks": "",
            "zerolinecolor": "white"
           },
           "zaxis": {
            "backgroundcolor": "#E5ECF6",
            "gridcolor": "white",
            "gridwidth": 2,
            "linecolor": "white",
            "showbackground": true,
            "ticks": "",
            "zerolinecolor": "white"
           }
          },
          "shapedefaults": {
           "line": {
            "color": "#2a3f5f"
           }
          },
          "ternary": {
           "aaxis": {
            "gridcolor": "white",
            "linecolor": "white",
            "ticks": ""
           },
           "baxis": {
            "gridcolor": "white",
            "linecolor": "white",
            "ticks": ""
           },
           "bgcolor": "#E5ECF6",
           "caxis": {
            "gridcolor": "white",
            "linecolor": "white",
            "ticks": ""
           }
          },
          "title": {
           "x": 0.05
          },
          "xaxis": {
           "automargin": true,
           "gridcolor": "white",
           "linecolor": "white",
           "ticks": "",
           "title": {
            "standoff": 15
           },
           "zerolinecolor": "white",
           "zerolinewidth": 2
          },
          "yaxis": {
           "automargin": true,
           "gridcolor": "white",
           "linecolor": "white",
           "ticks": "",
           "title": {
            "standoff": 15
           },
           "zerolinecolor": "white",
           "zerolinewidth": 2
          }
         }
        },
        "title": {
         "text": "Mean Received Antiretrovirals by Country for Prevention of Mother-to-Child Transmission in Africa"
        },
        "xaxis": {
         "anchor": "y",
         "categoryarray": [
          "Algeria",
          "Angola",
          "Benin",
          "Botswana",
          "Burkina Faso",
          "Burundi",
          "Cabo Verde",
          "Cameroon",
          "Central African Republic",
          "Chad",
          "Comoros",
          "Côte d'Ivoire",
          "Democratic Republic of the Congo",
          "Equatorial Guinea",
          "Eritrea",
          "Eswatini",
          "Ethiopia",
          "Gabon",
          "Gambia",
          "Ghana",
          "Guinea",
          "Guinea-Bissau",
          "Kenya",
          "Lesotho",
          "Liberia",
          "Madagascar",
          "Malawi",
          "Mali",
          "Mauritania",
          "Mauritius",
          "Mozambique",
          "Namibia",
          "Niger",
          "Nigeria",
          "Rwanda",
          "Senegal",
          "Sierra Leone",
          "South Africa",
          "South Sudan",
          "Togo",
          "Uganda",
          "United Republic of Tanzania",
          "Zambia",
          "Zimbabwe"
         ],
         "categoryorder": "array",
         "domain": [
          0,
          1
         ],
         "title": {
          "text": "Country"
         }
        },
        "yaxis": {
         "anchor": "x",
         "domain": [
          0,
          1
         ],
         "title": {
          "text": "Needing antiretrovirals_median"
         }
        }
       }
      },
      "text/html": [
       "<div>                            <div id=\"3c51c9d7-5844-4337-bed2-60fd15098a8f\" class=\"plotly-graph-div\" style=\"height:525px; width:100%;\"></div>            <script type=\"text/javascript\">                require([\"plotly\"], function(Plotly) {                    window.PLOTLYENV=window.PLOTLYENV || {};                                    if (document.getElementById(\"3c51c9d7-5844-4337-bed2-60fd15098a8f\")) {                    Plotly.newPlot(                        \"3c51c9d7-5844-4337-bed2-60fd15098a8f\",                        [{\"alignmentgroup\":\"True\",\"hovertemplate\":\"Country=%{x}<br>Needing antiretrovirals_median=%{y}<extra></extra>\",\"legendgroup\":\"Algeria\",\"marker\":{\"color\":\"#636efa\",\"pattern\":{\"shape\":\"\"}},\"name\":\"Algeria\",\"offsetgroup\":\"Algeria\",\"orientation\":\"v\",\"showlegend\":true,\"textposition\":\"auto\",\"x\":[\"Algeria\"],\"xaxis\":\"x\",\"y\":[500.0],\"yaxis\":\"y\",\"type\":\"bar\"},{\"alignmentgroup\":\"True\",\"hovertemplate\":\"Country=%{x}<br>Needing antiretrovirals_median=%{y}<extra></extra>\",\"legendgroup\":\"Angola\",\"marker\":{\"color\":\"#EF553B\",\"pattern\":{\"shape\":\"\"}},\"name\":\"Angola\",\"offsetgroup\":\"Angola\",\"orientation\":\"v\",\"showlegend\":true,\"textposition\":\"auto\",\"x\":[\"Angola\"],\"xaxis\":\"x\",\"y\":[25000.0],\"yaxis\":\"y\",\"type\":\"bar\"},{\"alignmentgroup\":\"True\",\"hovertemplate\":\"Country=%{x}<br>Needing antiretrovirals_median=%{y}<extra></extra>\",\"legendgroup\":\"Benin\",\"marker\":{\"color\":\"#00cc96\",\"pattern\":{\"shape\":\"\"}},\"name\":\"Benin\",\"offsetgroup\":\"Benin\",\"orientation\":\"v\",\"showlegend\":true,\"textposition\":\"auto\",\"x\":[\"Benin\"],\"xaxis\":\"x\",\"y\":[2600.0],\"yaxis\":\"y\",\"type\":\"bar\"},{\"alignmentgroup\":\"True\",\"hovertemplate\":\"Country=%{x}<br>Needing antiretrovirals_median=%{y}<extra></extra>\",\"legendgroup\":\"Botswana\",\"marker\":{\"color\":\"#ab63fa\",\"pattern\":{\"shape\":\"\"}},\"name\":\"Botswana\",\"offsetgroup\":\"Botswana\",\"orientation\":\"v\",\"showlegend\":true,\"textposition\":\"auto\",\"x\":[\"Botswana\"],\"xaxis\":\"x\",\"y\":[13000.0],\"yaxis\":\"y\",\"type\":\"bar\"},{\"alignmentgroup\":\"True\",\"hovertemplate\":\"Country=%{x}<br>Needing antiretrovirals_median=%{y}<extra></extra>\",\"legendgroup\":\"Burkina Faso\",\"marker\":{\"color\":\"#FFA15A\",\"pattern\":{\"shape\":\"\"}},\"name\":\"Burkina Faso\",\"offsetgroup\":\"Burkina Faso\",\"orientation\":\"v\",\"showlegend\":true,\"textposition\":\"auto\",\"x\":[\"Burkina Faso\"],\"xaxis\":\"x\",\"y\":[4900.0],\"yaxis\":\"y\",\"type\":\"bar\"},{\"alignmentgroup\":\"True\",\"hovertemplate\":\"Country=%{x}<br>Needing antiretrovirals_median=%{y}<extra></extra>\",\"legendgroup\":\"Burundi\",\"marker\":{\"color\":\"#19d3f3\",\"pattern\":{\"shape\":\"\"}},\"name\":\"Burundi\",\"offsetgroup\":\"Burundi\",\"orientation\":\"v\",\"showlegend\":true,\"textposition\":\"auto\",\"x\":[\"Burundi\"],\"xaxis\":\"x\",\"y\":[5000.0],\"yaxis\":\"y\",\"type\":\"bar\"},{\"alignmentgroup\":\"True\",\"hovertemplate\":\"Country=%{x}<br>Needing antiretrovirals_median=%{y}<extra></extra>\",\"legendgroup\":\"Cabo Verde\",\"marker\":{\"color\":\"#FF6692\",\"pattern\":{\"shape\":\"\"}},\"name\":\"Cabo Verde\",\"offsetgroup\":\"Cabo Verde\",\"orientation\":\"v\",\"showlegend\":true,\"textposition\":\"auto\",\"x\":[\"Cabo Verde\"],\"xaxis\":\"x\",\"y\":[28319.51219512195],\"yaxis\":\"y\",\"type\":\"bar\"},{\"alignmentgroup\":\"True\",\"hovertemplate\":\"Country=%{x}<br>Needing antiretrovirals_median=%{y}<extra></extra>\",\"legendgroup\":\"Cameroon\",\"marker\":{\"color\":\"#B6E880\",\"pattern\":{\"shape\":\"\"}},\"name\":\"Cameroon\",\"offsetgroup\":\"Cameroon\",\"orientation\":\"v\",\"showlegend\":true,\"textposition\":\"auto\",\"x\":[\"Cameroon\"],\"xaxis\":\"x\",\"y\":[27000.0],\"yaxis\":\"y\",\"type\":\"bar\"},{\"alignmentgroup\":\"True\",\"hovertemplate\":\"Country=%{x}<br>Needing antiretrovirals_median=%{y}<extra></extra>\",\"legendgroup\":\"Central African Republic\",\"marker\":{\"color\":\"#FF97FF\",\"pattern\":{\"shape\":\"\"}},\"name\":\"Central African Republic\",\"offsetgroup\":\"Central African Republic\",\"orientation\":\"v\",\"showlegend\":true,\"textposition\":\"auto\",\"x\":[\"Central African Republic\"],\"xaxis\":\"x\",\"y\":[4500.0],\"yaxis\":\"y\",\"type\":\"bar\"},{\"alignmentgroup\":\"True\",\"hovertemplate\":\"Country=%{x}<br>Needing antiretrovirals_median=%{y}<extra></extra>\",\"legendgroup\":\"Chad\",\"marker\":{\"color\":\"#FECB52\",\"pattern\":{\"shape\":\"\"}},\"name\":\"Chad\",\"offsetgroup\":\"Chad\",\"orientation\":\"v\",\"showlegend\":true,\"textposition\":\"auto\",\"x\":[\"Chad\"],\"xaxis\":\"x\",\"y\":[10000.0],\"yaxis\":\"y\",\"type\":\"bar\"},{\"alignmentgroup\":\"True\",\"hovertemplate\":\"Country=%{x}<br>Needing antiretrovirals_median=%{y}<extra></extra>\",\"legendgroup\":\"Comoros\",\"marker\":{\"color\":\"#636efa\",\"pattern\":{\"shape\":\"\"}},\"name\":\"Comoros\",\"offsetgroup\":\"Comoros\",\"orientation\":\"v\",\"showlegend\":true,\"textposition\":\"auto\",\"x\":[\"Comoros\"],\"xaxis\":\"x\",\"y\":[28319.51219512195],\"yaxis\":\"y\",\"type\":\"bar\"},{\"alignmentgroup\":\"True\",\"hovertemplate\":\"Country=%{x}<br>Needing antiretrovirals_median=%{y}<extra></extra>\",\"legendgroup\":\"C\\u00f4te d'Ivoire\",\"marker\":{\"color\":\"#EF553B\",\"pattern\":{\"shape\":\"\"}},\"name\":\"C\\u00f4te d'Ivoire\",\"offsetgroup\":\"C\\u00f4te d'Ivoire\",\"orientation\":\"v\",\"showlegend\":true,\"textposition\":\"auto\",\"x\":[\"C\\u00f4te d'Ivoire\"],\"xaxis\":\"x\",\"y\":[18000.0],\"yaxis\":\"y\",\"type\":\"bar\"},{\"alignmentgroup\":\"True\",\"hovertemplate\":\"Country=%{x}<br>Needing antiretrovirals_median=%{y}<extra></extra>\",\"legendgroup\":\"Democratic Republic of the Congo\",\"marker\":{\"color\":\"#00cc96\",\"pattern\":{\"shape\":\"\"}},\"name\":\"Democratic Republic of the Congo\",\"offsetgroup\":\"Democratic Republic of the Congo\",\"orientation\":\"v\",\"showlegend\":true,\"textposition\":\"auto\",\"x\":[\"Democratic Republic of the Congo\"],\"xaxis\":\"x\",\"y\":[26000.0],\"yaxis\":\"y\",\"type\":\"bar\"},{\"alignmentgroup\":\"True\",\"hovertemplate\":\"Country=%{x}<br>Needing antiretrovirals_median=%{y}<extra></extra>\",\"legendgroup\":\"Equatorial Guinea\",\"marker\":{\"color\":\"#ab63fa\",\"pattern\":{\"shape\":\"\"}},\"name\":\"Equatorial Guinea\",\"offsetgroup\":\"Equatorial Guinea\",\"orientation\":\"v\",\"showlegend\":true,\"textposition\":\"auto\",\"x\":[\"Equatorial Guinea\"],\"xaxis\":\"x\",\"y\":[2600.0],\"yaxis\":\"y\",\"type\":\"bar\"},{\"alignmentgroup\":\"True\",\"hovertemplate\":\"Country=%{x}<br>Needing antiretrovirals_median=%{y}<extra></extra>\",\"legendgroup\":\"Eritrea\",\"marker\":{\"color\":\"#FFA15A\",\"pattern\":{\"shape\":\"\"}},\"name\":\"Eritrea\",\"offsetgroup\":\"Eritrea\",\"orientation\":\"v\",\"showlegend\":true,\"textposition\":\"auto\",\"x\":[\"Eritrea\"],\"xaxis\":\"x\",\"y\":[500.0],\"yaxis\":\"y\",\"type\":\"bar\"},{\"alignmentgroup\":\"True\",\"hovertemplate\":\"Country=%{x}<br>Needing antiretrovirals_median=%{y}<extra></extra>\",\"legendgroup\":\"Eswatini\",\"marker\":{\"color\":\"#19d3f3\",\"pattern\":{\"shape\":\"\"}},\"name\":\"Eswatini\",\"offsetgroup\":\"Eswatini\",\"orientation\":\"v\",\"showlegend\":true,\"textposition\":\"auto\",\"x\":[\"Eswatini\"],\"xaxis\":\"x\",\"y\":[11000.0],\"yaxis\":\"y\",\"type\":\"bar\"},{\"alignmentgroup\":\"True\",\"hovertemplate\":\"Country=%{x}<br>Needing antiretrovirals_median=%{y}<extra></extra>\",\"legendgroup\":\"Ethiopia\",\"marker\":{\"color\":\"#FF6692\",\"pattern\":{\"shape\":\"\"}},\"name\":\"Ethiopia\",\"offsetgroup\":\"Ethiopia\",\"orientation\":\"v\",\"showlegend\":true,\"textposition\":\"auto\",\"x\":[\"Ethiopia\"],\"xaxis\":\"x\",\"y\":[20000.0],\"yaxis\":\"y\",\"type\":\"bar\"},{\"alignmentgroup\":\"True\",\"hovertemplate\":\"Country=%{x}<br>Needing antiretrovirals_median=%{y}<extra></extra>\",\"legendgroup\":\"Gabon\",\"marker\":{\"color\":\"#B6E880\",\"pattern\":{\"shape\":\"\"}},\"name\":\"Gabon\",\"offsetgroup\":\"Gabon\",\"orientation\":\"v\",\"showlegend\":true,\"textposition\":\"auto\",\"x\":[\"Gabon\"],\"xaxis\":\"x\",\"y\":[2700.0],\"yaxis\":\"y\",\"type\":\"bar\"},{\"alignmentgroup\":\"True\",\"hovertemplate\":\"Country=%{x}<br>Needing antiretrovirals_median=%{y}<extra></extra>\",\"legendgroup\":\"Gambia\",\"marker\":{\"color\":\"#FF97FF\",\"pattern\":{\"shape\":\"\"}},\"name\":\"Gambia\",\"offsetgroup\":\"Gambia\",\"orientation\":\"v\",\"showlegend\":true,\"textposition\":\"auto\",\"x\":[\"Gambia\"],\"xaxis\":\"x\",\"y\":[1000.0],\"yaxis\":\"y\",\"type\":\"bar\"},{\"alignmentgroup\":\"True\",\"hovertemplate\":\"Country=%{x}<br>Needing antiretrovirals_median=%{y}<extra></extra>\",\"legendgroup\":\"Ghana\",\"marker\":{\"color\":\"#FECB52\",\"pattern\":{\"shape\":\"\"}},\"name\":\"Ghana\",\"offsetgroup\":\"Ghana\",\"orientation\":\"v\",\"showlegend\":true,\"textposition\":\"auto\",\"x\":[\"Ghana\"],\"xaxis\":\"x\",\"y\":[16000.0],\"yaxis\":\"y\",\"type\":\"bar\"},{\"alignmentgroup\":\"True\",\"hovertemplate\":\"Country=%{x}<br>Needing antiretrovirals_median=%{y}<extra></extra>\",\"legendgroup\":\"Guinea\",\"marker\":{\"color\":\"#636efa\",\"pattern\":{\"shape\":\"\"}},\"name\":\"Guinea\",\"offsetgroup\":\"Guinea\",\"orientation\":\"v\",\"showlegend\":true,\"textposition\":\"auto\",\"x\":[\"Guinea\"],\"xaxis\":\"x\",\"y\":[5100.0],\"yaxis\":\"y\",\"type\":\"bar\"},{\"alignmentgroup\":\"True\",\"hovertemplate\":\"Country=%{x}<br>Needing antiretrovirals_median=%{y}<extra></extra>\",\"legendgroup\":\"Guinea-Bissau\",\"marker\":{\"color\":\"#EF553B\",\"pattern\":{\"shape\":\"\"}},\"name\":\"Guinea-Bissau\",\"offsetgroup\":\"Guinea-Bissau\",\"orientation\":\"v\",\"showlegend\":true,\"textposition\":\"auto\",\"x\":[\"Guinea-Bissau\"],\"xaxis\":\"x\",\"y\":[2100.0],\"yaxis\":\"y\",\"type\":\"bar\"},{\"alignmentgroup\":\"True\",\"hovertemplate\":\"Country=%{x}<br>Needing antiretrovirals_median=%{y}<extra></extra>\",\"legendgroup\":\"Kenya\",\"marker\":{\"color\":\"#00cc96\",\"pattern\":{\"shape\":\"\"}},\"name\":\"Kenya\",\"offsetgroup\":\"Kenya\",\"orientation\":\"v\",\"showlegend\":true,\"textposition\":\"auto\",\"x\":[\"Kenya\"],\"xaxis\":\"x\",\"y\":[63000.0],\"yaxis\":\"y\",\"type\":\"bar\"},{\"alignmentgroup\":\"True\",\"hovertemplate\":\"Country=%{x}<br>Needing antiretrovirals_median=%{y}<extra></extra>\",\"legendgroup\":\"Lesotho\",\"marker\":{\"color\":\"#ab63fa\",\"pattern\":{\"shape\":\"\"}},\"name\":\"Lesotho\",\"offsetgroup\":\"Lesotho\",\"orientation\":\"v\",\"showlegend\":true,\"textposition\":\"auto\",\"x\":[\"Lesotho\"],\"xaxis\":\"x\",\"y\":[11000.0],\"yaxis\":\"y\",\"type\":\"bar\"},{\"alignmentgroup\":\"True\",\"hovertemplate\":\"Country=%{x}<br>Needing antiretrovirals_median=%{y}<extra></extra>\",\"legendgroup\":\"Liberia\",\"marker\":{\"color\":\"#FFA15A\",\"pattern\":{\"shape\":\"\"}},\"name\":\"Liberia\",\"offsetgroup\":\"Liberia\",\"orientation\":\"v\",\"showlegend\":true,\"textposition\":\"auto\",\"x\":[\"Liberia\"],\"xaxis\":\"x\",\"y\":[2000.0],\"yaxis\":\"y\",\"type\":\"bar\"},{\"alignmentgroup\":\"True\",\"hovertemplate\":\"Country=%{x}<br>Needing antiretrovirals_median=%{y}<extra></extra>\",\"legendgroup\":\"Madagascar\",\"marker\":{\"color\":\"#19d3f3\",\"pattern\":{\"shape\":\"\"}},\"name\":\"Madagascar\",\"offsetgroup\":\"Madagascar\",\"orientation\":\"v\",\"showlegend\":true,\"textposition\":\"auto\",\"x\":[\"Madagascar\"],\"xaxis\":\"x\",\"y\":[1100.0],\"yaxis\":\"y\",\"type\":\"bar\"},{\"alignmentgroup\":\"True\",\"hovertemplate\":\"Country=%{x}<br>Needing antiretrovirals_median=%{y}<extra></extra>\",\"legendgroup\":\"Malawi\",\"marker\":{\"color\":\"#FF6692\",\"pattern\":{\"shape\":\"\"}},\"name\":\"Malawi\",\"offsetgroup\":\"Malawi\",\"orientation\":\"v\",\"showlegend\":true,\"textposition\":\"auto\",\"x\":[\"Malawi\"],\"xaxis\":\"x\",\"y\":[45000.0],\"yaxis\":\"y\",\"type\":\"bar\"},{\"alignmentgroup\":\"True\",\"hovertemplate\":\"Country=%{x}<br>Needing antiretrovirals_median=%{y}<extra></extra>\",\"legendgroup\":\"Mali\",\"marker\":{\"color\":\"#B6E880\",\"pattern\":{\"shape\":\"\"}},\"name\":\"Mali\",\"offsetgroup\":\"Mali\",\"orientation\":\"v\",\"showlegend\":true,\"textposition\":\"auto\",\"x\":[\"Mali\"],\"xaxis\":\"x\",\"y\":[10000.0],\"yaxis\":\"y\",\"type\":\"bar\"},{\"alignmentgroup\":\"True\",\"hovertemplate\":\"Country=%{x}<br>Needing antiretrovirals_median=%{y}<extra></extra>\",\"legendgroup\":\"Mauritania\",\"marker\":{\"color\":\"#FF97FF\",\"pattern\":{\"shape\":\"\"}},\"name\":\"Mauritania\",\"offsetgroup\":\"Mauritania\",\"orientation\":\"v\",\"showlegend\":true,\"textposition\":\"auto\",\"x\":[\"Mauritania\"],\"xaxis\":\"x\",\"y\":[200.0],\"yaxis\":\"y\",\"type\":\"bar\"},{\"alignmentgroup\":\"True\",\"hovertemplate\":\"Country=%{x}<br>Needing antiretrovirals_median=%{y}<extra></extra>\",\"legendgroup\":\"Mauritius\",\"marker\":{\"color\":\"#FECB52\",\"pattern\":{\"shape\":\"\"}},\"name\":\"Mauritius\",\"offsetgroup\":\"Mauritius\",\"orientation\":\"v\",\"showlegend\":true,\"textposition\":\"auto\",\"x\":[\"Mauritius\"],\"xaxis\":\"x\",\"y\":[100.0],\"yaxis\":\"y\",\"type\":\"bar\"},{\"alignmentgroup\":\"True\",\"hovertemplate\":\"Country=%{x}<br>Needing antiretrovirals_median=%{y}<extra></extra>\",\"legendgroup\":\"Mozambique\",\"marker\":{\"color\":\"#636efa\",\"pattern\":{\"shape\":\"\"}},\"name\":\"Mozambique\",\"offsetgroup\":\"Mozambique\",\"orientation\":\"v\",\"showlegend\":true,\"textposition\":\"auto\",\"x\":[\"Mozambique\"],\"xaxis\":\"x\",\"y\":[110000.0],\"yaxis\":\"y\",\"type\":\"bar\"},{\"alignmentgroup\":\"True\",\"hovertemplate\":\"Country=%{x}<br>Needing antiretrovirals_median=%{y}<extra></extra>\",\"legendgroup\":\"Namibia\",\"marker\":{\"color\":\"#EF553B\",\"pattern\":{\"shape\":\"\"}},\"name\":\"Namibia\",\"offsetgroup\":\"Namibia\",\"orientation\":\"v\",\"showlegend\":true,\"textposition\":\"auto\",\"x\":[\"Namibia\"],\"xaxis\":\"x\",\"y\":[10000.0],\"yaxis\":\"y\",\"type\":\"bar\"},{\"alignmentgroup\":\"True\",\"hovertemplate\":\"Country=%{x}<br>Needing antiretrovirals_median=%{y}<extra></extra>\",\"legendgroup\":\"Niger\",\"marker\":{\"color\":\"#00cc96\",\"pattern\":{\"shape\":\"\"}},\"name\":\"Niger\",\"offsetgroup\":\"Niger\",\"orientation\":\"v\",\"showlegend\":true,\"textposition\":\"auto\",\"x\":[\"Niger\"],\"xaxis\":\"x\",\"y\":[1600.0],\"yaxis\":\"y\",\"type\":\"bar\"},{\"alignmentgroup\":\"True\",\"hovertemplate\":\"Country=%{x}<br>Needing antiretrovirals_median=%{y}<extra></extra>\",\"legendgroup\":\"Nigeria\",\"marker\":{\"color\":\"#ab63fa\",\"pattern\":{\"shape\":\"\"}},\"name\":\"Nigeria\",\"offsetgroup\":\"Nigeria\",\"orientation\":\"v\",\"showlegend\":true,\"textposition\":\"auto\",\"x\":[\"Nigeria\"],\"xaxis\":\"x\",\"y\":[100000.0],\"yaxis\":\"y\",\"type\":\"bar\"},{\"alignmentgroup\":\"True\",\"hovertemplate\":\"Country=%{x}<br>Needing antiretrovirals_median=%{y}<extra></extra>\",\"legendgroup\":\"Rwanda\",\"marker\":{\"color\":\"#FFA15A\",\"pattern\":{\"shape\":\"\"}},\"name\":\"Rwanda\",\"offsetgroup\":\"Rwanda\",\"orientation\":\"v\",\"showlegend\":true,\"textposition\":\"auto\",\"x\":[\"Rwanda\"],\"xaxis\":\"x\",\"y\":[8100.0],\"yaxis\":\"y\",\"type\":\"bar\"},{\"alignmentgroup\":\"True\",\"hovertemplate\":\"Country=%{x}<br>Needing antiretrovirals_median=%{y}<extra></extra>\",\"legendgroup\":\"Senegal\",\"marker\":{\"color\":\"#19d3f3\",\"pattern\":{\"shape\":\"\"}},\"name\":\"Senegal\",\"offsetgroup\":\"Senegal\",\"orientation\":\"v\",\"showlegend\":true,\"textposition\":\"auto\",\"x\":[\"Senegal\"],\"xaxis\":\"x\",\"y\":[2200.0],\"yaxis\":\"y\",\"type\":\"bar\"},{\"alignmentgroup\":\"True\",\"hovertemplate\":\"Country=%{x}<br>Needing antiretrovirals_median=%{y}<extra></extra>\",\"legendgroup\":\"Sierra Leone\",\"marker\":{\"color\":\"#FF6692\",\"pattern\":{\"shape\":\"\"}},\"name\":\"Sierra Leone\",\"offsetgroup\":\"Sierra Leone\",\"orientation\":\"v\",\"showlegend\":true,\"textposition\":\"auto\",\"x\":[\"Sierra Leone\"],\"xaxis\":\"x\",\"y\":[28319.51219512195],\"yaxis\":\"y\",\"type\":\"bar\"},{\"alignmentgroup\":\"True\",\"hovertemplate\":\"Country=%{x}<br>Needing antiretrovirals_median=%{y}<extra></extra>\",\"legendgroup\":\"South Africa\",\"marker\":{\"color\":\"#B6E880\",\"pattern\":{\"shape\":\"\"}},\"name\":\"South Africa\",\"offsetgroup\":\"South Africa\",\"orientation\":\"v\",\"showlegend\":true,\"textposition\":\"auto\",\"x\":[\"South Africa\"],\"xaxis\":\"x\",\"y\":[290000.0],\"yaxis\":\"y\",\"type\":\"bar\"},{\"alignmentgroup\":\"True\",\"hovertemplate\":\"Country=%{x}<br>Needing antiretrovirals_median=%{y}<extra></extra>\",\"legendgroup\":\"South Sudan\",\"marker\":{\"color\":\"#FF97FF\",\"pattern\":{\"shape\":\"\"}},\"name\":\"South Sudan\",\"offsetgroup\":\"South Sudan\",\"orientation\":\"v\",\"showlegend\":true,\"textposition\":\"auto\",\"x\":[\"South Sudan\"],\"xaxis\":\"x\",\"y\":[9900.0],\"yaxis\":\"y\",\"type\":\"bar\"},{\"alignmentgroup\":\"True\",\"hovertemplate\":\"Country=%{x}<br>Needing antiretrovirals_median=%{y}<extra></extra>\",\"legendgroup\":\"Togo\",\"marker\":{\"color\":\"#FECB52\",\"pattern\":{\"shape\":\"\"}},\"name\":\"Togo\",\"offsetgroup\":\"Togo\",\"orientation\":\"v\",\"showlegend\":true,\"textposition\":\"auto\",\"x\":[\"Togo\"],\"xaxis\":\"x\",\"y\":[5400.0],\"yaxis\":\"y\",\"type\":\"bar\"},{\"alignmentgroup\":\"True\",\"hovertemplate\":\"Country=%{x}<br>Needing antiretrovirals_median=%{y}<extra></extra>\",\"legendgroup\":\"Uganda\",\"marker\":{\"color\":\"#636efa\",\"pattern\":{\"shape\":\"\"}},\"name\":\"Uganda\",\"offsetgroup\":\"Uganda\",\"orientation\":\"v\",\"showlegend\":true,\"textposition\":\"auto\",\"x\":[\"Uganda\"],\"xaxis\":\"x\",\"y\":[100000.0],\"yaxis\":\"y\",\"type\":\"bar\"},{\"alignmentgroup\":\"True\",\"hovertemplate\":\"Country=%{x}<br>Needing antiretrovirals_median=%{y}<extra></extra>\",\"legendgroup\":\"United Republic of Tanzania\",\"marker\":{\"color\":\"#EF553B\",\"pattern\":{\"shape\":\"\"}},\"name\":\"United Republic of Tanzania\",\"offsetgroup\":\"United Republic of Tanzania\",\"orientation\":\"v\",\"showlegend\":true,\"textposition\":\"auto\",\"x\":[\"United Republic of Tanzania\"],\"xaxis\":\"x\",\"y\":[83000.0],\"yaxis\":\"y\",\"type\":\"bar\"},{\"alignmentgroup\":\"True\",\"hovertemplate\":\"Country=%{x}<br>Needing antiretrovirals_median=%{y}<extra></extra>\",\"legendgroup\":\"Zambia\",\"marker\":{\"color\":\"#00cc96\",\"pattern\":{\"shape\":\"\"}},\"name\":\"Zambia\",\"offsetgroup\":\"Zambia\",\"orientation\":\"v\",\"showlegend\":true,\"textposition\":\"auto\",\"x\":[\"Zambia\"],\"xaxis\":\"x\",\"y\":[48000.0],\"yaxis\":\"y\",\"type\":\"bar\"},{\"alignmentgroup\":\"True\",\"hovertemplate\":\"Country=%{x}<br>Needing antiretrovirals_median=%{y}<extra></extra>\",\"legendgroup\":\"Zimbabwe\",\"marker\":{\"color\":\"#ab63fa\",\"pattern\":{\"shape\":\"\"}},\"name\":\"Zimbabwe\",\"offsetgroup\":\"Zimbabwe\",\"orientation\":\"v\",\"showlegend\":true,\"textposition\":\"auto\",\"x\":[\"Zimbabwe\"],\"xaxis\":\"x\",\"y\":[63000.0],\"yaxis\":\"y\",\"type\":\"bar\"}],                        {\"template\":{\"data\":{\"histogram2dcontour\":[{\"type\":\"histogram2dcontour\",\"colorbar\":{\"outlinewidth\":0,\"ticks\":\"\"},\"colorscale\":[[0.0,\"#0d0887\"],[0.1111111111111111,\"#46039f\"],[0.2222222222222222,\"#7201a8\"],[0.3333333333333333,\"#9c179e\"],[0.4444444444444444,\"#bd3786\"],[0.5555555555555556,\"#d8576b\"],[0.6666666666666666,\"#ed7953\"],[0.7777777777777778,\"#fb9f3a\"],[0.8888888888888888,\"#fdca26\"],[1.0,\"#f0f921\"]]}],\"choropleth\":[{\"type\":\"choropleth\",\"colorbar\":{\"outlinewidth\":0,\"ticks\":\"\"}}],\"histogram2d\":[{\"type\":\"histogram2d\",\"colorbar\":{\"outlinewidth\":0,\"ticks\":\"\"},\"colorscale\":[[0.0,\"#0d0887\"],[0.1111111111111111,\"#46039f\"],[0.2222222222222222,\"#7201a8\"],[0.3333333333333333,\"#9c179e\"],[0.4444444444444444,\"#bd3786\"],[0.5555555555555556,\"#d8576b\"],[0.6666666666666666,\"#ed7953\"],[0.7777777777777778,\"#fb9f3a\"],[0.8888888888888888,\"#fdca26\"],[1.0,\"#f0f921\"]]}],\"heatmap\":[{\"type\":\"heatmap\",\"colorbar\":{\"outlinewidth\":0,\"ticks\":\"\"},\"colorscale\":[[0.0,\"#0d0887\"],[0.1111111111111111,\"#46039f\"],[0.2222222222222222,\"#7201a8\"],[0.3333333333333333,\"#9c179e\"],[0.4444444444444444,\"#bd3786\"],[0.5555555555555556,\"#d8576b\"],[0.6666666666666666,\"#ed7953\"],[0.7777777777777778,\"#fb9f3a\"],[0.8888888888888888,\"#fdca26\"],[1.0,\"#f0f921\"]]}],\"heatmapgl\":[{\"type\":\"heatmapgl\",\"colorbar\":{\"outlinewidth\":0,\"ticks\":\"\"},\"colorscale\":[[0.0,\"#0d0887\"],[0.1111111111111111,\"#46039f\"],[0.2222222222222222,\"#7201a8\"],[0.3333333333333333,\"#9c179e\"],[0.4444444444444444,\"#bd3786\"],[0.5555555555555556,\"#d8576b\"],[0.6666666666666666,\"#ed7953\"],[0.7777777777777778,\"#fb9f3a\"],[0.8888888888888888,\"#fdca26\"],[1.0,\"#f0f921\"]]}],\"contourcarpet\":[{\"type\":\"contourcarpet\",\"colorbar\":{\"outlinewidth\":0,\"ticks\":\"\"}}],\"contour\":[{\"type\":\"contour\",\"colorbar\":{\"outlinewidth\":0,\"ticks\":\"\"},\"colorscale\":[[0.0,\"#0d0887\"],[0.1111111111111111,\"#46039f\"],[0.2222222222222222,\"#7201a8\"],[0.3333333333333333,\"#9c179e\"],[0.4444444444444444,\"#bd3786\"],[0.5555555555555556,\"#d8576b\"],[0.6666666666666666,\"#ed7953\"],[0.7777777777777778,\"#fb9f3a\"],[0.8888888888888888,\"#fdca26\"],[1.0,\"#f0f921\"]]}],\"surface\":[{\"type\":\"surface\",\"colorbar\":{\"outlinewidth\":0,\"ticks\":\"\"},\"colorscale\":[[0.0,\"#0d0887\"],[0.1111111111111111,\"#46039f\"],[0.2222222222222222,\"#7201a8\"],[0.3333333333333333,\"#9c179e\"],[0.4444444444444444,\"#bd3786\"],[0.5555555555555556,\"#d8576b\"],[0.6666666666666666,\"#ed7953\"],[0.7777777777777778,\"#fb9f3a\"],[0.8888888888888888,\"#fdca26\"],[1.0,\"#f0f921\"]]}],\"mesh3d\":[{\"type\":\"mesh3d\",\"colorbar\":{\"outlinewidth\":0,\"ticks\":\"\"}}],\"scatter\":[{\"fillpattern\":{\"fillmode\":\"overlay\",\"size\":10,\"solidity\":0.2},\"type\":\"scatter\"}],\"parcoords\":[{\"type\":\"parcoords\",\"line\":{\"colorbar\":{\"outlinewidth\":0,\"ticks\":\"\"}}}],\"scatterpolargl\":[{\"type\":\"scatterpolargl\",\"marker\":{\"colorbar\":{\"outlinewidth\":0,\"ticks\":\"\"}}}],\"bar\":[{\"error_x\":{\"color\":\"#2a3f5f\"},\"error_y\":{\"color\":\"#2a3f5f\"},\"marker\":{\"line\":{\"color\":\"#E5ECF6\",\"width\":0.5},\"pattern\":{\"fillmode\":\"overlay\",\"size\":10,\"solidity\":0.2}},\"type\":\"bar\"}],\"scattergeo\":[{\"type\":\"scattergeo\",\"marker\":{\"colorbar\":{\"outlinewidth\":0,\"ticks\":\"\"}}}],\"scatterpolar\":[{\"type\":\"scatterpolar\",\"marker\":{\"colorbar\":{\"outlinewidth\":0,\"ticks\":\"\"}}}],\"histogram\":[{\"marker\":{\"pattern\":{\"fillmode\":\"overlay\",\"size\":10,\"solidity\":0.2}},\"type\":\"histogram\"}],\"scattergl\":[{\"type\":\"scattergl\",\"marker\":{\"colorbar\":{\"outlinewidth\":0,\"ticks\":\"\"}}}],\"scatter3d\":[{\"type\":\"scatter3d\",\"line\":{\"colorbar\":{\"outlinewidth\":0,\"ticks\":\"\"}},\"marker\":{\"colorbar\":{\"outlinewidth\":0,\"ticks\":\"\"}}}],\"scattermapbox\":[{\"type\":\"scattermapbox\",\"marker\":{\"colorbar\":{\"outlinewidth\":0,\"ticks\":\"\"}}}],\"scatterternary\":[{\"type\":\"scatterternary\",\"marker\":{\"colorbar\":{\"outlinewidth\":0,\"ticks\":\"\"}}}],\"scattercarpet\":[{\"type\":\"scattercarpet\",\"marker\":{\"colorbar\":{\"outlinewidth\":0,\"ticks\":\"\"}}}],\"carpet\":[{\"aaxis\":{\"endlinecolor\":\"#2a3f5f\",\"gridcolor\":\"white\",\"linecolor\":\"white\",\"minorgridcolor\":\"white\",\"startlinecolor\":\"#2a3f5f\"},\"baxis\":{\"endlinecolor\":\"#2a3f5f\",\"gridcolor\":\"white\",\"linecolor\":\"white\",\"minorgridcolor\":\"white\",\"startlinecolor\":\"#2a3f5f\"},\"type\":\"carpet\"}],\"table\":[{\"cells\":{\"fill\":{\"color\":\"#EBF0F8\"},\"line\":{\"color\":\"white\"}},\"header\":{\"fill\":{\"color\":\"#C8D4E3\"},\"line\":{\"color\":\"white\"}},\"type\":\"table\"}],\"barpolar\":[{\"marker\":{\"line\":{\"color\":\"#E5ECF6\",\"width\":0.5},\"pattern\":{\"fillmode\":\"overlay\",\"size\":10,\"solidity\":0.2}},\"type\":\"barpolar\"}],\"pie\":[{\"automargin\":true,\"type\":\"pie\"}]},\"layout\":{\"autotypenumbers\":\"strict\",\"colorway\":[\"#636efa\",\"#EF553B\",\"#00cc96\",\"#ab63fa\",\"#FFA15A\",\"#19d3f3\",\"#FF6692\",\"#B6E880\",\"#FF97FF\",\"#FECB52\"],\"font\":{\"color\":\"#2a3f5f\"},\"hovermode\":\"closest\",\"hoverlabel\":{\"align\":\"left\"},\"paper_bgcolor\":\"white\",\"plot_bgcolor\":\"#E5ECF6\",\"polar\":{\"bgcolor\":\"#E5ECF6\",\"angularaxis\":{\"gridcolor\":\"white\",\"linecolor\":\"white\",\"ticks\":\"\"},\"radialaxis\":{\"gridcolor\":\"white\",\"linecolor\":\"white\",\"ticks\":\"\"}},\"ternary\":{\"bgcolor\":\"#E5ECF6\",\"aaxis\":{\"gridcolor\":\"white\",\"linecolor\":\"white\",\"ticks\":\"\"},\"baxis\":{\"gridcolor\":\"white\",\"linecolor\":\"white\",\"ticks\":\"\"},\"caxis\":{\"gridcolor\":\"white\",\"linecolor\":\"white\",\"ticks\":\"\"}},\"coloraxis\":{\"colorbar\":{\"outlinewidth\":0,\"ticks\":\"\"}},\"colorscale\":{\"sequential\":[[0.0,\"#0d0887\"],[0.1111111111111111,\"#46039f\"],[0.2222222222222222,\"#7201a8\"],[0.3333333333333333,\"#9c179e\"],[0.4444444444444444,\"#bd3786\"],[0.5555555555555556,\"#d8576b\"],[0.6666666666666666,\"#ed7953\"],[0.7777777777777778,\"#fb9f3a\"],[0.8888888888888888,\"#fdca26\"],[1.0,\"#f0f921\"]],\"sequentialminus\":[[0.0,\"#0d0887\"],[0.1111111111111111,\"#46039f\"],[0.2222222222222222,\"#7201a8\"],[0.3333333333333333,\"#9c179e\"],[0.4444444444444444,\"#bd3786\"],[0.5555555555555556,\"#d8576b\"],[0.6666666666666666,\"#ed7953\"],[0.7777777777777778,\"#fb9f3a\"],[0.8888888888888888,\"#fdca26\"],[1.0,\"#f0f921\"]],\"diverging\":[[0,\"#8e0152\"],[0.1,\"#c51b7d\"],[0.2,\"#de77ae\"],[0.3,\"#f1b6da\"],[0.4,\"#fde0ef\"],[0.5,\"#f7f7f7\"],[0.6,\"#e6f5d0\"],[0.7,\"#b8e186\"],[0.8,\"#7fbc41\"],[0.9,\"#4d9221\"],[1,\"#276419\"]]},\"xaxis\":{\"gridcolor\":\"white\",\"linecolor\":\"white\",\"ticks\":\"\",\"title\":{\"standoff\":15},\"zerolinecolor\":\"white\",\"automargin\":true,\"zerolinewidth\":2},\"yaxis\":{\"gridcolor\":\"white\",\"linecolor\":\"white\",\"ticks\":\"\",\"title\":{\"standoff\":15},\"zerolinecolor\":\"white\",\"automargin\":true,\"zerolinewidth\":2},\"scene\":{\"xaxis\":{\"backgroundcolor\":\"#E5ECF6\",\"gridcolor\":\"white\",\"linecolor\":\"white\",\"showbackground\":true,\"ticks\":\"\",\"zerolinecolor\":\"white\",\"gridwidth\":2},\"yaxis\":{\"backgroundcolor\":\"#E5ECF6\",\"gridcolor\":\"white\",\"linecolor\":\"white\",\"showbackground\":true,\"ticks\":\"\",\"zerolinecolor\":\"white\",\"gridwidth\":2},\"zaxis\":{\"backgroundcolor\":\"#E5ECF6\",\"gridcolor\":\"white\",\"linecolor\":\"white\",\"showbackground\":true,\"ticks\":\"\",\"zerolinecolor\":\"white\",\"gridwidth\":2}},\"shapedefaults\":{\"line\":{\"color\":\"#2a3f5f\"}},\"annotationdefaults\":{\"arrowcolor\":\"#2a3f5f\",\"arrowhead\":0,\"arrowwidth\":1},\"geo\":{\"bgcolor\":\"white\",\"landcolor\":\"#E5ECF6\",\"subunitcolor\":\"white\",\"showland\":true,\"showlakes\":true,\"lakecolor\":\"white\"},\"title\":{\"x\":0.05},\"mapbox\":{\"style\":\"light\"}}},\"xaxis\":{\"anchor\":\"y\",\"domain\":[0.0,1.0],\"title\":{\"text\":\"Country\"},\"categoryorder\":\"array\",\"categoryarray\":[\"Algeria\",\"Angola\",\"Benin\",\"Botswana\",\"Burkina Faso\",\"Burundi\",\"Cabo Verde\",\"Cameroon\",\"Central African Republic\",\"Chad\",\"Comoros\",\"C\\u00f4te d'Ivoire\",\"Democratic Republic of the Congo\",\"Equatorial Guinea\",\"Eritrea\",\"Eswatini\",\"Ethiopia\",\"Gabon\",\"Gambia\",\"Ghana\",\"Guinea\",\"Guinea-Bissau\",\"Kenya\",\"Lesotho\",\"Liberia\",\"Madagascar\",\"Malawi\",\"Mali\",\"Mauritania\",\"Mauritius\",\"Mozambique\",\"Namibia\",\"Niger\",\"Nigeria\",\"Rwanda\",\"Senegal\",\"Sierra Leone\",\"South Africa\",\"South Sudan\",\"Togo\",\"Uganda\",\"United Republic of Tanzania\",\"Zambia\",\"Zimbabwe\"]},\"yaxis\":{\"anchor\":\"x\",\"domain\":[0.0,1.0],\"title\":{\"text\":\"Needing antiretrovirals_median\"}},\"legend\":{\"title\":{\"text\":\"Country\"},\"tracegroupgap\":0},\"title\":{\"text\":\"Mean Received Antiretrovirals by Country for Prevention of Mother-to-Child Transmission in Africa\"},\"barmode\":\"relative\"},                        {\"responsive\": true}                    ).then(function(){\n",
       "                            \n",
       "var gd = document.getElementById('3c51c9d7-5844-4337-bed2-60fd15098a8f');\n",
       "var x = new MutationObserver(function (mutations, observer) {{\n",
       "        var display = window.getComputedStyle(gd).display;\n",
       "        if (!display || display === 'none') {{\n",
       "            console.log([gd, 'removed!']);\n",
       "            Plotly.purge(gd);\n",
       "            observer.disconnect();\n",
       "        }}\n",
       "}});\n",
       "\n",
       "// Listen for the removal of the full notebook cells\n",
       "var notebookContainer = gd.closest('#notebook-container');\n",
       "if (notebookContainer) {{\n",
       "    x.observe(notebookContainer, {childList: true});\n",
       "}}\n",
       "\n",
       "// Listen for the clearing of the current output cell\n",
       "var outputEl = gd.closest('.output');\n",
       "if (outputEl) {{\n",
       "    x.observe(outputEl, {childList: true});\n",
       "}}\n",
       "\n",
       "                        })                };                });            </script>        </div>"
      ]
     },
     "metadata": {},
     "output_type": "display_data"
    }
   ],
   "source": [
    "# Reset the index to make it suitable for plotting\n",
    "needAR_women_reset = needAR_women.reset_index()\n",
    "\n",
    "# Create a bar plot\n",
    "fig = px.bar(needAR_women_reset, x='Country', y='Needing antiretrovirals_median',\n",
    "             color='Country',\n",
    "             labels={'Antiretrovirals': 'Received Antiretrovirals'},\n",
    "             title='Mean Received Antiretrovirals by Country for Prevention of Mother-to-Child Transmission in Africa')\n",
    "\n",
    "# Show the plot\n",
    "fig.show()\n"
   ]
  },
  {
   "cell_type": "markdown",
   "id": "387b3ff4",
   "metadata": {},
   "source": [
    "### From the above plot, it is clear that South Africa has the highest number of women who needs antiretrovirals to prevent transmission. \n",
    "\n",
    "## ART (Anti Retro-viral Therapy) coverage among people living with HIV estimates:"
   ]
  },
  {
   "cell_type": "code",
   "execution_count": 187,
   "id": "ef4e5763",
   "metadata": {
    "collapsed": true
   },
   "outputs": [
    {
     "data": {
      "text/plain": [
       "12800      1\n",
       "88700      1\n",
       "13900      1\n",
       "3500       1\n",
       "814000     1\n",
       "47100      1\n",
       "3000       1\n",
       "2800       1\n",
       "1213000    1\n",
       "184000     1\n",
       "19800      1\n",
       "1016000    1\n",
       "194000     1\n",
       "26600      1\n",
       "28400      1\n",
       "4788000    1\n",
       "30700      1\n",
       "64800      1\n",
       "1004000    1\n",
       "1109000    1\n",
       "965000     1\n",
       "206000     1\n",
       "1068000    1\n",
       "14600      1\n",
       "100        1\n",
       "44200      1\n",
       "307000     1\n",
       "59300      1\n",
       "65500      1\n",
       "2200       1\n",
       "281000     1\n",
       "39600      1\n",
       "61400      1\n",
       "252000     1\n",
       "48600      1\n",
       "256000     1\n",
       "21400      1\n",
       "8900       1\n",
       "177000     1\n",
       "450000     1\n",
       "35600      1\n",
       "7500       1\n",
       "113000     1\n",
       "1151000    1\n",
       "Name: Reported number of people receiving ART, dtype: int64"
      ]
     },
     "execution_count": 187,
     "metadata": {},
     "output_type": "execute_result"
    }
   ],
   "source": [
    "afr_artCoverage_data['Reported number of people receiving ART'].value_counts()"
   ]
  },
  {
   "cell_type": "code",
   "execution_count": 188,
   "id": "dfc8bbb4",
   "metadata": {},
   "outputs": [],
   "source": [
    "afr_artCoverage_data['Reported number of people receiving ART'] = pd.to_numeric(afr_artCoverage_data['Reported number of people receiving ART'], errors=\"coerce\")\n",
    "afr_artCoverage_data['Reported number of people receiving ART'] = afr_artCoverage_data['Reported number of people receiving ART'].astype(float)"
   ]
  },
  {
   "cell_type": "code",
   "execution_count": 189,
   "id": "a443e891",
   "metadata": {
    "collapsed": true
   },
   "outputs": [
    {
     "data": {
      "text/html": [
       "<div>\n",
       "<style scoped>\n",
       "    .dataframe tbody tr th:only-of-type {\n",
       "        vertical-align: middle;\n",
       "    }\n",
       "\n",
       "    .dataframe tbody tr th {\n",
       "        vertical-align: top;\n",
       "    }\n",
       "\n",
       "    .dataframe thead th {\n",
       "        text-align: right;\n",
       "    }\n",
       "</style>\n",
       "<table border=\"1\" class=\"dataframe\">\n",
       "  <thead>\n",
       "    <tr style=\"text-align: right;\">\n",
       "      <th></th>\n",
       "      <th>Reported number of people receiving ART</th>\n",
       "    </tr>\n",
       "    <tr>\n",
       "      <th>Country</th>\n",
       "      <th></th>\n",
       "    </tr>\n",
       "  </thead>\n",
       "  <tbody>\n",
       "    <tr>\n",
       "      <th>Algeria</th>\n",
       "      <td>12800.0</td>\n",
       "    </tr>\n",
       "    <tr>\n",
       "      <th>Angola</th>\n",
       "      <td>88700.0</td>\n",
       "    </tr>\n",
       "    <tr>\n",
       "      <th>Benin</th>\n",
       "      <td>44200.0</td>\n",
       "    </tr>\n",
       "    <tr>\n",
       "      <th>Botswana</th>\n",
       "      <td>307000.0</td>\n",
       "    </tr>\n",
       "    <tr>\n",
       "      <th>Burkina Faso</th>\n",
       "      <td>59300.0</td>\n",
       "    </tr>\n",
       "    <tr>\n",
       "      <th>Burundi</th>\n",
       "      <td>65500.0</td>\n",
       "    </tr>\n",
       "    <tr>\n",
       "      <th>Cabo Verde</th>\n",
       "      <td>2200.0</td>\n",
       "    </tr>\n",
       "    <tr>\n",
       "      <th>Cameroon</th>\n",
       "      <td>281000.0</td>\n",
       "    </tr>\n",
       "    <tr>\n",
       "      <th>Central African Republic</th>\n",
       "      <td>39600.0</td>\n",
       "    </tr>\n",
       "    <tr>\n",
       "      <th>Chad</th>\n",
       "      <td>61400.0</td>\n",
       "    </tr>\n",
       "    <tr>\n",
       "      <th>Comoros</th>\n",
       "      <td>100.0</td>\n",
       "    </tr>\n",
       "    <tr>\n",
       "      <th>Côte d'Ivoire</th>\n",
       "      <td>252000.0</td>\n",
       "    </tr>\n",
       "    <tr>\n",
       "      <th>Democratic Republic of the Congo</th>\n",
       "      <td>256000.0</td>\n",
       "    </tr>\n",
       "    <tr>\n",
       "      <th>Equatorial Guinea</th>\n",
       "      <td>21400.0</td>\n",
       "    </tr>\n",
       "    <tr>\n",
       "      <th>Eritrea</th>\n",
       "      <td>8900.0</td>\n",
       "    </tr>\n",
       "    <tr>\n",
       "      <th>Eswatini</th>\n",
       "      <td>177000.0</td>\n",
       "    </tr>\n",
       "    <tr>\n",
       "      <th>Ethiopia</th>\n",
       "      <td>450000.0</td>\n",
       "    </tr>\n",
       "    <tr>\n",
       "      <th>Gabon</th>\n",
       "      <td>35600.0</td>\n",
       "    </tr>\n",
       "    <tr>\n",
       "      <th>Gambia</th>\n",
       "      <td>7500.0</td>\n",
       "    </tr>\n",
       "    <tr>\n",
       "      <th>Ghana</th>\n",
       "      <td>113000.0</td>\n",
       "    </tr>\n",
       "    <tr>\n",
       "      <th>Guinea</th>\n",
       "      <td>48600.0</td>\n",
       "    </tr>\n",
       "    <tr>\n",
       "      <th>Guinea-Bissau</th>\n",
       "      <td>14600.0</td>\n",
       "    </tr>\n",
       "    <tr>\n",
       "      <th>Kenya</th>\n",
       "      <td>1068000.0</td>\n",
       "    </tr>\n",
       "    <tr>\n",
       "      <th>Lesotho</th>\n",
       "      <td>206000.0</td>\n",
       "    </tr>\n",
       "    <tr>\n",
       "      <th>Liberia</th>\n",
       "      <td>13900.0</td>\n",
       "    </tr>\n",
       "    <tr>\n",
       "      <th>Madagascar</th>\n",
       "      <td>3500.0</td>\n",
       "    </tr>\n",
       "    <tr>\n",
       "      <th>Malawi</th>\n",
       "      <td>814000.0</td>\n",
       "    </tr>\n",
       "    <tr>\n",
       "      <th>Mali</th>\n",
       "      <td>47100.0</td>\n",
       "    </tr>\n",
       "    <tr>\n",
       "      <th>Mauritania</th>\n",
       "      <td>3000.0</td>\n",
       "    </tr>\n",
       "    <tr>\n",
       "      <th>Mauritius</th>\n",
       "      <td>2800.0</td>\n",
       "    </tr>\n",
       "    <tr>\n",
       "      <th>Mozambique</th>\n",
       "      <td>1213000.0</td>\n",
       "    </tr>\n",
       "    <tr>\n",
       "      <th>Namibia</th>\n",
       "      <td>184000.0</td>\n",
       "    </tr>\n",
       "    <tr>\n",
       "      <th>Niger</th>\n",
       "      <td>19800.0</td>\n",
       "    </tr>\n",
       "    <tr>\n",
       "      <th>Nigeria</th>\n",
       "      <td>1016000.0</td>\n",
       "    </tr>\n",
       "    <tr>\n",
       "      <th>Rwanda</th>\n",
       "      <td>194000.0</td>\n",
       "    </tr>\n",
       "    <tr>\n",
       "      <th>Senegal</th>\n",
       "      <td>26600.0</td>\n",
       "    </tr>\n",
       "    <tr>\n",
       "      <th>Sierra Leone</th>\n",
       "      <td>28400.0</td>\n",
       "    </tr>\n",
       "    <tr>\n",
       "      <th>South Africa</th>\n",
       "      <td>4788000.0</td>\n",
       "    </tr>\n",
       "    <tr>\n",
       "      <th>South Sudan</th>\n",
       "      <td>30700.0</td>\n",
       "    </tr>\n",
       "    <tr>\n",
       "      <th>Togo</th>\n",
       "      <td>64800.0</td>\n",
       "    </tr>\n",
       "    <tr>\n",
       "      <th>Uganda</th>\n",
       "      <td>1004000.0</td>\n",
       "    </tr>\n",
       "    <tr>\n",
       "      <th>United Republic of Tanzania</th>\n",
       "      <td>1109000.0</td>\n",
       "    </tr>\n",
       "    <tr>\n",
       "      <th>Zambia</th>\n",
       "      <td>965000.0</td>\n",
       "    </tr>\n",
       "    <tr>\n",
       "      <th>Zimbabwe</th>\n",
       "      <td>1151000.0</td>\n",
       "    </tr>\n",
       "  </tbody>\n",
       "</table>\n",
       "</div>"
      ],
      "text/plain": [
       "                                  Reported number of people receiving ART\n",
       "Country                                                                  \n",
       "Algeria                                                           12800.0\n",
       "Angola                                                            88700.0\n",
       "Benin                                                             44200.0\n",
       "Botswana                                                         307000.0\n",
       "Burkina Faso                                                      59300.0\n",
       "Burundi                                                           65500.0\n",
       "Cabo Verde                                                         2200.0\n",
       "Cameroon                                                         281000.0\n",
       "Central African Republic                                          39600.0\n",
       "Chad                                                              61400.0\n",
       "Comoros                                                             100.0\n",
       "Côte d'Ivoire                                                    252000.0\n",
       "Democratic Republic of the Congo                                 256000.0\n",
       "Equatorial Guinea                                                 21400.0\n",
       "Eritrea                                                            8900.0\n",
       "Eswatini                                                         177000.0\n",
       "Ethiopia                                                         450000.0\n",
       "Gabon                                                             35600.0\n",
       "Gambia                                                             7500.0\n",
       "Ghana                                                            113000.0\n",
       "Guinea                                                            48600.0\n",
       "Guinea-Bissau                                                     14600.0\n",
       "Kenya                                                           1068000.0\n",
       "Lesotho                                                          206000.0\n",
       "Liberia                                                           13900.0\n",
       "Madagascar                                                         3500.0\n",
       "Malawi                                                           814000.0\n",
       "Mali                                                              47100.0\n",
       "Mauritania                                                         3000.0\n",
       "Mauritius                                                          2800.0\n",
       "Mozambique                                                      1213000.0\n",
       "Namibia                                                          184000.0\n",
       "Niger                                                             19800.0\n",
       "Nigeria                                                         1016000.0\n",
       "Rwanda                                                           194000.0\n",
       "Senegal                                                           26600.0\n",
       "Sierra Leone                                                      28400.0\n",
       "South Africa                                                    4788000.0\n",
       "South Sudan                                                       30700.0\n",
       "Togo                                                              64800.0\n",
       "Uganda                                                          1004000.0\n",
       "United Republic of Tanzania                                     1109000.0\n",
       "Zambia                                                           965000.0\n",
       "Zimbabwe                                                        1151000.0"
      ]
     },
     "execution_count": 189,
     "metadata": {},
     "output_type": "execute_result"
    }
   ],
   "source": [
    "PeoplereceivingART = pd.DataFrame(afr_artCoverage_data.groupby('Country').mean()['Reported number of people receiving ART'])\n",
    "PeoplereceivingART"
   ]
  },
  {
   "cell_type": "code",
   "execution_count": 190,
   "id": "4f2c16fe",
   "metadata": {},
   "outputs": [
    {
     "data": {
      "application/vnd.plotly.v1+json": {
       "config": {
        "plotlyServerURL": "https://plot.ly"
       },
       "data": [
        {
         "alignmentgroup": "True",
         "hovertemplate": "Country=%{x}<br>Reported number of people receiving ART=%{y}<extra></extra>",
         "legendgroup": "Algeria",
         "marker": {
          "color": "red",
          "pattern": {
           "shape": ""
          }
         },
         "name": "Algeria",
         "offsetgroup": "Algeria",
         "orientation": "v",
         "showlegend": true,
         "textposition": "auto",
         "type": "bar",
         "x": [
          "Algeria"
         ],
         "xaxis": "x",
         "y": [
          12800
         ],
         "yaxis": "y"
        },
        {
         "alignmentgroup": "True",
         "hovertemplate": "Country=%{x}<br>Reported number of people receiving ART=%{y}<extra></extra>",
         "legendgroup": "Angola",
         "marker": {
          "color": "blue",
          "pattern": {
           "shape": ""
          }
         },
         "name": "Angola",
         "offsetgroup": "Angola",
         "orientation": "v",
         "showlegend": true,
         "textposition": "auto",
         "type": "bar",
         "x": [
          "Angola"
         ],
         "xaxis": "x",
         "y": [
          88700
         ],
         "yaxis": "y"
        },
        {
         "alignmentgroup": "True",
         "hovertemplate": "Country=%{x}<br>Reported number of people receiving ART=%{y}<extra></extra>",
         "legendgroup": "Benin",
         "marker": {
          "color": "green",
          "pattern": {
           "shape": ""
          }
         },
         "name": "Benin",
         "offsetgroup": "Benin",
         "orientation": "v",
         "showlegend": true,
         "textposition": "auto",
         "type": "bar",
         "x": [
          "Benin"
         ],
         "xaxis": "x",
         "y": [
          44200
         ],
         "yaxis": "y"
        },
        {
         "alignmentgroup": "True",
         "hovertemplate": "Country=%{x}<br>Reported number of people receiving ART=%{y}<extra></extra>",
         "legendgroup": "Botswana",
         "marker": {
          "color": "orange",
          "pattern": {
           "shape": ""
          }
         },
         "name": "Botswana",
         "offsetgroup": "Botswana",
         "orientation": "v",
         "showlegend": true,
         "textposition": "auto",
         "type": "bar",
         "x": [
          "Botswana"
         ],
         "xaxis": "x",
         "y": [
          307000
         ],
         "yaxis": "y"
        },
        {
         "alignmentgroup": "True",
         "hovertemplate": "Country=%{x}<br>Reported number of people receiving ART=%{y}<extra></extra>",
         "legendgroup": "Burkina Faso",
         "marker": {
          "color": "purple",
          "pattern": {
           "shape": ""
          }
         },
         "name": "Burkina Faso",
         "offsetgroup": "Burkina Faso",
         "orientation": "v",
         "showlegend": true,
         "textposition": "auto",
         "type": "bar",
         "x": [
          "Burkina Faso"
         ],
         "xaxis": "x",
         "y": [
          59300
         ],
         "yaxis": "y"
        },
        {
         "alignmentgroup": "True",
         "hovertemplate": "Country=%{x}<br>Reported number of people receiving ART=%{y}<extra></extra>",
         "legendgroup": "Burundi",
         "marker": {
          "color": "red",
          "pattern": {
           "shape": ""
          }
         },
         "name": "Burundi",
         "offsetgroup": "Burundi",
         "orientation": "v",
         "showlegend": true,
         "textposition": "auto",
         "type": "bar",
         "x": [
          "Burundi"
         ],
         "xaxis": "x",
         "y": [
          65500
         ],
         "yaxis": "y"
        },
        {
         "alignmentgroup": "True",
         "hovertemplate": "Country=%{x}<br>Reported number of people receiving ART=%{y}<extra></extra>",
         "legendgroup": "Cabo Verde",
         "marker": {
          "color": "blue",
          "pattern": {
           "shape": ""
          }
         },
         "name": "Cabo Verde",
         "offsetgroup": "Cabo Verde",
         "orientation": "v",
         "showlegend": true,
         "textposition": "auto",
         "type": "bar",
         "x": [
          "Cabo Verde"
         ],
         "xaxis": "x",
         "y": [
          2200
         ],
         "yaxis": "y"
        },
        {
         "alignmentgroup": "True",
         "hovertemplate": "Country=%{x}<br>Reported number of people receiving ART=%{y}<extra></extra>",
         "legendgroup": "Cameroon",
         "marker": {
          "color": "green",
          "pattern": {
           "shape": ""
          }
         },
         "name": "Cameroon",
         "offsetgroup": "Cameroon",
         "orientation": "v",
         "showlegend": true,
         "textposition": "auto",
         "type": "bar",
         "x": [
          "Cameroon"
         ],
         "xaxis": "x",
         "y": [
          281000
         ],
         "yaxis": "y"
        },
        {
         "alignmentgroup": "True",
         "hovertemplate": "Country=%{x}<br>Reported number of people receiving ART=%{y}<extra></extra>",
         "legendgroup": "Central African Republic",
         "marker": {
          "color": "orange",
          "pattern": {
           "shape": ""
          }
         },
         "name": "Central African Republic",
         "offsetgroup": "Central African Republic",
         "orientation": "v",
         "showlegend": true,
         "textposition": "auto",
         "type": "bar",
         "x": [
          "Central African Republic"
         ],
         "xaxis": "x",
         "y": [
          39600
         ],
         "yaxis": "y"
        },
        {
         "alignmentgroup": "True",
         "hovertemplate": "Country=%{x}<br>Reported number of people receiving ART=%{y}<extra></extra>",
         "legendgroup": "Chad",
         "marker": {
          "color": "purple",
          "pattern": {
           "shape": ""
          }
         },
         "name": "Chad",
         "offsetgroup": "Chad",
         "orientation": "v",
         "showlegend": true,
         "textposition": "auto",
         "type": "bar",
         "x": [
          "Chad"
         ],
         "xaxis": "x",
         "y": [
          61400
         ],
         "yaxis": "y"
        },
        {
         "alignmentgroup": "True",
         "hovertemplate": "Country=%{x}<br>Reported number of people receiving ART=%{y}<extra></extra>",
         "legendgroup": "Comoros",
         "marker": {
          "color": "red",
          "pattern": {
           "shape": ""
          }
         },
         "name": "Comoros",
         "offsetgroup": "Comoros",
         "orientation": "v",
         "showlegend": true,
         "textposition": "auto",
         "type": "bar",
         "x": [
          "Comoros"
         ],
         "xaxis": "x",
         "y": [
          100
         ],
         "yaxis": "y"
        },
        {
         "alignmentgroup": "True",
         "hovertemplate": "Country=%{x}<br>Reported number of people receiving ART=%{y}<extra></extra>",
         "legendgroup": "Côte d'Ivoire",
         "marker": {
          "color": "blue",
          "pattern": {
           "shape": ""
          }
         },
         "name": "Côte d'Ivoire",
         "offsetgroup": "Côte d'Ivoire",
         "orientation": "v",
         "showlegend": true,
         "textposition": "auto",
         "type": "bar",
         "x": [
          "Côte d'Ivoire"
         ],
         "xaxis": "x",
         "y": [
          252000
         ],
         "yaxis": "y"
        },
        {
         "alignmentgroup": "True",
         "hovertemplate": "Country=%{x}<br>Reported number of people receiving ART=%{y}<extra></extra>",
         "legendgroup": "Democratic Republic of the Congo",
         "marker": {
          "color": "green",
          "pattern": {
           "shape": ""
          }
         },
         "name": "Democratic Republic of the Congo",
         "offsetgroup": "Democratic Republic of the Congo",
         "orientation": "v",
         "showlegend": true,
         "textposition": "auto",
         "type": "bar",
         "x": [
          "Democratic Republic of the Congo"
         ],
         "xaxis": "x",
         "y": [
          256000
         ],
         "yaxis": "y"
        },
        {
         "alignmentgroup": "True",
         "hovertemplate": "Country=%{x}<br>Reported number of people receiving ART=%{y}<extra></extra>",
         "legendgroup": "Equatorial Guinea",
         "marker": {
          "color": "orange",
          "pattern": {
           "shape": ""
          }
         },
         "name": "Equatorial Guinea",
         "offsetgroup": "Equatorial Guinea",
         "orientation": "v",
         "showlegend": true,
         "textposition": "auto",
         "type": "bar",
         "x": [
          "Equatorial Guinea"
         ],
         "xaxis": "x",
         "y": [
          21400
         ],
         "yaxis": "y"
        },
        {
         "alignmentgroup": "True",
         "hovertemplate": "Country=%{x}<br>Reported number of people receiving ART=%{y}<extra></extra>",
         "legendgroup": "Eritrea",
         "marker": {
          "color": "purple",
          "pattern": {
           "shape": ""
          }
         },
         "name": "Eritrea",
         "offsetgroup": "Eritrea",
         "orientation": "v",
         "showlegend": true,
         "textposition": "auto",
         "type": "bar",
         "x": [
          "Eritrea"
         ],
         "xaxis": "x",
         "y": [
          8900
         ],
         "yaxis": "y"
        },
        {
         "alignmentgroup": "True",
         "hovertemplate": "Country=%{x}<br>Reported number of people receiving ART=%{y}<extra></extra>",
         "legendgroup": "Eswatini",
         "marker": {
          "color": "red",
          "pattern": {
           "shape": ""
          }
         },
         "name": "Eswatini",
         "offsetgroup": "Eswatini",
         "orientation": "v",
         "showlegend": true,
         "textposition": "auto",
         "type": "bar",
         "x": [
          "Eswatini"
         ],
         "xaxis": "x",
         "y": [
          177000
         ],
         "yaxis": "y"
        },
        {
         "alignmentgroup": "True",
         "hovertemplate": "Country=%{x}<br>Reported number of people receiving ART=%{y}<extra></extra>",
         "legendgroup": "Ethiopia",
         "marker": {
          "color": "blue",
          "pattern": {
           "shape": ""
          }
         },
         "name": "Ethiopia",
         "offsetgroup": "Ethiopia",
         "orientation": "v",
         "showlegend": true,
         "textposition": "auto",
         "type": "bar",
         "x": [
          "Ethiopia"
         ],
         "xaxis": "x",
         "y": [
          450000
         ],
         "yaxis": "y"
        },
        {
         "alignmentgroup": "True",
         "hovertemplate": "Country=%{x}<br>Reported number of people receiving ART=%{y}<extra></extra>",
         "legendgroup": "Gabon",
         "marker": {
          "color": "green",
          "pattern": {
           "shape": ""
          }
         },
         "name": "Gabon",
         "offsetgroup": "Gabon",
         "orientation": "v",
         "showlegend": true,
         "textposition": "auto",
         "type": "bar",
         "x": [
          "Gabon"
         ],
         "xaxis": "x",
         "y": [
          35600
         ],
         "yaxis": "y"
        },
        {
         "alignmentgroup": "True",
         "hovertemplate": "Country=%{x}<br>Reported number of people receiving ART=%{y}<extra></extra>",
         "legendgroup": "Gambia",
         "marker": {
          "color": "orange",
          "pattern": {
           "shape": ""
          }
         },
         "name": "Gambia",
         "offsetgroup": "Gambia",
         "orientation": "v",
         "showlegend": true,
         "textposition": "auto",
         "type": "bar",
         "x": [
          "Gambia"
         ],
         "xaxis": "x",
         "y": [
          7500
         ],
         "yaxis": "y"
        },
        {
         "alignmentgroup": "True",
         "hovertemplate": "Country=%{x}<br>Reported number of people receiving ART=%{y}<extra></extra>",
         "legendgroup": "Ghana",
         "marker": {
          "color": "purple",
          "pattern": {
           "shape": ""
          }
         },
         "name": "Ghana",
         "offsetgroup": "Ghana",
         "orientation": "v",
         "showlegend": true,
         "textposition": "auto",
         "type": "bar",
         "x": [
          "Ghana"
         ],
         "xaxis": "x",
         "y": [
          113000
         ],
         "yaxis": "y"
        },
        {
         "alignmentgroup": "True",
         "hovertemplate": "Country=%{x}<br>Reported number of people receiving ART=%{y}<extra></extra>",
         "legendgroup": "Guinea",
         "marker": {
          "color": "red",
          "pattern": {
           "shape": ""
          }
         },
         "name": "Guinea",
         "offsetgroup": "Guinea",
         "orientation": "v",
         "showlegend": true,
         "textposition": "auto",
         "type": "bar",
         "x": [
          "Guinea"
         ],
         "xaxis": "x",
         "y": [
          48600
         ],
         "yaxis": "y"
        },
        {
         "alignmentgroup": "True",
         "hovertemplate": "Country=%{x}<br>Reported number of people receiving ART=%{y}<extra></extra>",
         "legendgroup": "Guinea-Bissau",
         "marker": {
          "color": "blue",
          "pattern": {
           "shape": ""
          }
         },
         "name": "Guinea-Bissau",
         "offsetgroup": "Guinea-Bissau",
         "orientation": "v",
         "showlegend": true,
         "textposition": "auto",
         "type": "bar",
         "x": [
          "Guinea-Bissau"
         ],
         "xaxis": "x",
         "y": [
          14600
         ],
         "yaxis": "y"
        },
        {
         "alignmentgroup": "True",
         "hovertemplate": "Country=%{x}<br>Reported number of people receiving ART=%{y}<extra></extra>",
         "legendgroup": "Kenya",
         "marker": {
          "color": "green",
          "pattern": {
           "shape": ""
          }
         },
         "name": "Kenya",
         "offsetgroup": "Kenya",
         "orientation": "v",
         "showlegend": true,
         "textposition": "auto",
         "type": "bar",
         "x": [
          "Kenya"
         ],
         "xaxis": "x",
         "y": [
          1068000
         ],
         "yaxis": "y"
        },
        {
         "alignmentgroup": "True",
         "hovertemplate": "Country=%{x}<br>Reported number of people receiving ART=%{y}<extra></extra>",
         "legendgroup": "Lesotho",
         "marker": {
          "color": "orange",
          "pattern": {
           "shape": ""
          }
         },
         "name": "Lesotho",
         "offsetgroup": "Lesotho",
         "orientation": "v",
         "showlegend": true,
         "textposition": "auto",
         "type": "bar",
         "x": [
          "Lesotho"
         ],
         "xaxis": "x",
         "y": [
          206000
         ],
         "yaxis": "y"
        },
        {
         "alignmentgroup": "True",
         "hovertemplate": "Country=%{x}<br>Reported number of people receiving ART=%{y}<extra></extra>",
         "legendgroup": "Liberia",
         "marker": {
          "color": "purple",
          "pattern": {
           "shape": ""
          }
         },
         "name": "Liberia",
         "offsetgroup": "Liberia",
         "orientation": "v",
         "showlegend": true,
         "textposition": "auto",
         "type": "bar",
         "x": [
          "Liberia"
         ],
         "xaxis": "x",
         "y": [
          13900
         ],
         "yaxis": "y"
        },
        {
         "alignmentgroup": "True",
         "hovertemplate": "Country=%{x}<br>Reported number of people receiving ART=%{y}<extra></extra>",
         "legendgroup": "Madagascar",
         "marker": {
          "color": "red",
          "pattern": {
           "shape": ""
          }
         },
         "name": "Madagascar",
         "offsetgroup": "Madagascar",
         "orientation": "v",
         "showlegend": true,
         "textposition": "auto",
         "type": "bar",
         "x": [
          "Madagascar"
         ],
         "xaxis": "x",
         "y": [
          3500
         ],
         "yaxis": "y"
        },
        {
         "alignmentgroup": "True",
         "hovertemplate": "Country=%{x}<br>Reported number of people receiving ART=%{y}<extra></extra>",
         "legendgroup": "Malawi",
         "marker": {
          "color": "blue",
          "pattern": {
           "shape": ""
          }
         },
         "name": "Malawi",
         "offsetgroup": "Malawi",
         "orientation": "v",
         "showlegend": true,
         "textposition": "auto",
         "type": "bar",
         "x": [
          "Malawi"
         ],
         "xaxis": "x",
         "y": [
          814000
         ],
         "yaxis": "y"
        },
        {
         "alignmentgroup": "True",
         "hovertemplate": "Country=%{x}<br>Reported number of people receiving ART=%{y}<extra></extra>",
         "legendgroup": "Mali",
         "marker": {
          "color": "green",
          "pattern": {
           "shape": ""
          }
         },
         "name": "Mali",
         "offsetgroup": "Mali",
         "orientation": "v",
         "showlegend": true,
         "textposition": "auto",
         "type": "bar",
         "x": [
          "Mali"
         ],
         "xaxis": "x",
         "y": [
          47100
         ],
         "yaxis": "y"
        },
        {
         "alignmentgroup": "True",
         "hovertemplate": "Country=%{x}<br>Reported number of people receiving ART=%{y}<extra></extra>",
         "legendgroup": "Mauritania",
         "marker": {
          "color": "orange",
          "pattern": {
           "shape": ""
          }
         },
         "name": "Mauritania",
         "offsetgroup": "Mauritania",
         "orientation": "v",
         "showlegend": true,
         "textposition": "auto",
         "type": "bar",
         "x": [
          "Mauritania"
         ],
         "xaxis": "x",
         "y": [
          3000
         ],
         "yaxis": "y"
        },
        {
         "alignmentgroup": "True",
         "hovertemplate": "Country=%{x}<br>Reported number of people receiving ART=%{y}<extra></extra>",
         "legendgroup": "Mauritius",
         "marker": {
          "color": "purple",
          "pattern": {
           "shape": ""
          }
         },
         "name": "Mauritius",
         "offsetgroup": "Mauritius",
         "orientation": "v",
         "showlegend": true,
         "textposition": "auto",
         "type": "bar",
         "x": [
          "Mauritius"
         ],
         "xaxis": "x",
         "y": [
          2800
         ],
         "yaxis": "y"
        },
        {
         "alignmentgroup": "True",
         "hovertemplate": "Country=%{x}<br>Reported number of people receiving ART=%{y}<extra></extra>",
         "legendgroup": "Mozambique",
         "marker": {
          "color": "red",
          "pattern": {
           "shape": ""
          }
         },
         "name": "Mozambique",
         "offsetgroup": "Mozambique",
         "orientation": "v",
         "showlegend": true,
         "textposition": "auto",
         "type": "bar",
         "x": [
          "Mozambique"
         ],
         "xaxis": "x",
         "y": [
          1213000
         ],
         "yaxis": "y"
        },
        {
         "alignmentgroup": "True",
         "hovertemplate": "Country=%{x}<br>Reported number of people receiving ART=%{y}<extra></extra>",
         "legendgroup": "Namibia",
         "marker": {
          "color": "blue",
          "pattern": {
           "shape": ""
          }
         },
         "name": "Namibia",
         "offsetgroup": "Namibia",
         "orientation": "v",
         "showlegend": true,
         "textposition": "auto",
         "type": "bar",
         "x": [
          "Namibia"
         ],
         "xaxis": "x",
         "y": [
          184000
         ],
         "yaxis": "y"
        },
        {
         "alignmentgroup": "True",
         "hovertemplate": "Country=%{x}<br>Reported number of people receiving ART=%{y}<extra></extra>",
         "legendgroup": "Niger",
         "marker": {
          "color": "green",
          "pattern": {
           "shape": ""
          }
         },
         "name": "Niger",
         "offsetgroup": "Niger",
         "orientation": "v",
         "showlegend": true,
         "textposition": "auto",
         "type": "bar",
         "x": [
          "Niger"
         ],
         "xaxis": "x",
         "y": [
          19800
         ],
         "yaxis": "y"
        },
        {
         "alignmentgroup": "True",
         "hovertemplate": "Country=%{x}<br>Reported number of people receiving ART=%{y}<extra></extra>",
         "legendgroup": "Nigeria",
         "marker": {
          "color": "orange",
          "pattern": {
           "shape": ""
          }
         },
         "name": "Nigeria",
         "offsetgroup": "Nigeria",
         "orientation": "v",
         "showlegend": true,
         "textposition": "auto",
         "type": "bar",
         "x": [
          "Nigeria"
         ],
         "xaxis": "x",
         "y": [
          1016000
         ],
         "yaxis": "y"
        },
        {
         "alignmentgroup": "True",
         "hovertemplate": "Country=%{x}<br>Reported number of people receiving ART=%{y}<extra></extra>",
         "legendgroup": "Rwanda",
         "marker": {
          "color": "purple",
          "pattern": {
           "shape": ""
          }
         },
         "name": "Rwanda",
         "offsetgroup": "Rwanda",
         "orientation": "v",
         "showlegend": true,
         "textposition": "auto",
         "type": "bar",
         "x": [
          "Rwanda"
         ],
         "xaxis": "x",
         "y": [
          194000
         ],
         "yaxis": "y"
        },
        {
         "alignmentgroup": "True",
         "hovertemplate": "Country=%{x}<br>Reported number of people receiving ART=%{y}<extra></extra>",
         "legendgroup": "Senegal",
         "marker": {
          "color": "red",
          "pattern": {
           "shape": ""
          }
         },
         "name": "Senegal",
         "offsetgroup": "Senegal",
         "orientation": "v",
         "showlegend": true,
         "textposition": "auto",
         "type": "bar",
         "x": [
          "Senegal"
         ],
         "xaxis": "x",
         "y": [
          26600
         ],
         "yaxis": "y"
        },
        {
         "alignmentgroup": "True",
         "hovertemplate": "Country=%{x}<br>Reported number of people receiving ART=%{y}<extra></extra>",
         "legendgroup": "Sierra Leone",
         "marker": {
          "color": "blue",
          "pattern": {
           "shape": ""
          }
         },
         "name": "Sierra Leone",
         "offsetgroup": "Sierra Leone",
         "orientation": "v",
         "showlegend": true,
         "textposition": "auto",
         "type": "bar",
         "x": [
          "Sierra Leone"
         ],
         "xaxis": "x",
         "y": [
          28400
         ],
         "yaxis": "y"
        },
        {
         "alignmentgroup": "True",
         "hovertemplate": "Country=%{x}<br>Reported number of people receiving ART=%{y}<extra></extra>",
         "legendgroup": "South Africa",
         "marker": {
          "color": "green",
          "pattern": {
           "shape": ""
          }
         },
         "name": "South Africa",
         "offsetgroup": "South Africa",
         "orientation": "v",
         "showlegend": true,
         "textposition": "auto",
         "type": "bar",
         "x": [
          "South Africa"
         ],
         "xaxis": "x",
         "y": [
          4788000
         ],
         "yaxis": "y"
        },
        {
         "alignmentgroup": "True",
         "hovertemplate": "Country=%{x}<br>Reported number of people receiving ART=%{y}<extra></extra>",
         "legendgroup": "South Sudan",
         "marker": {
          "color": "orange",
          "pattern": {
           "shape": ""
          }
         },
         "name": "South Sudan",
         "offsetgroup": "South Sudan",
         "orientation": "v",
         "showlegend": true,
         "textposition": "auto",
         "type": "bar",
         "x": [
          "South Sudan"
         ],
         "xaxis": "x",
         "y": [
          30700
         ],
         "yaxis": "y"
        },
        {
         "alignmentgroup": "True",
         "hovertemplate": "Country=%{x}<br>Reported number of people receiving ART=%{y}<extra></extra>",
         "legendgroup": "Togo",
         "marker": {
          "color": "purple",
          "pattern": {
           "shape": ""
          }
         },
         "name": "Togo",
         "offsetgroup": "Togo",
         "orientation": "v",
         "showlegend": true,
         "textposition": "auto",
         "type": "bar",
         "x": [
          "Togo"
         ],
         "xaxis": "x",
         "y": [
          64800
         ],
         "yaxis": "y"
        },
        {
         "alignmentgroup": "True",
         "hovertemplate": "Country=%{x}<br>Reported number of people receiving ART=%{y}<extra></extra>",
         "legendgroup": "Uganda",
         "marker": {
          "color": "red",
          "pattern": {
           "shape": ""
          }
         },
         "name": "Uganda",
         "offsetgroup": "Uganda",
         "orientation": "v",
         "showlegend": true,
         "textposition": "auto",
         "type": "bar",
         "x": [
          "Uganda"
         ],
         "xaxis": "x",
         "y": [
          1004000
         ],
         "yaxis": "y"
        },
        {
         "alignmentgroup": "True",
         "hovertemplate": "Country=%{x}<br>Reported number of people receiving ART=%{y}<extra></extra>",
         "legendgroup": "United Republic of Tanzania",
         "marker": {
          "color": "blue",
          "pattern": {
           "shape": ""
          }
         },
         "name": "United Republic of Tanzania",
         "offsetgroup": "United Republic of Tanzania",
         "orientation": "v",
         "showlegend": true,
         "textposition": "auto",
         "type": "bar",
         "x": [
          "United Republic of Tanzania"
         ],
         "xaxis": "x",
         "y": [
          1109000
         ],
         "yaxis": "y"
        },
        {
         "alignmentgroup": "True",
         "hovertemplate": "Country=%{x}<br>Reported number of people receiving ART=%{y}<extra></extra>",
         "legendgroup": "Zambia",
         "marker": {
          "color": "green",
          "pattern": {
           "shape": ""
          }
         },
         "name": "Zambia",
         "offsetgroup": "Zambia",
         "orientation": "v",
         "showlegend": true,
         "textposition": "auto",
         "type": "bar",
         "x": [
          "Zambia"
         ],
         "xaxis": "x",
         "y": [
          965000
         ],
         "yaxis": "y"
        },
        {
         "alignmentgroup": "True",
         "hovertemplate": "Country=%{x}<br>Reported number of people receiving ART=%{y}<extra></extra>",
         "legendgroup": "Zimbabwe",
         "marker": {
          "color": "orange",
          "pattern": {
           "shape": ""
          }
         },
         "name": "Zimbabwe",
         "offsetgroup": "Zimbabwe",
         "orientation": "v",
         "showlegend": true,
         "textposition": "auto",
         "type": "bar",
         "x": [
          "Zimbabwe"
         ],
         "xaxis": "x",
         "y": [
          1151000
         ],
         "yaxis": "y"
        }
       ],
       "layout": {
        "barmode": "relative",
        "legend": {
         "title": {
          "text": "country"
         },
         "tracegroupgap": 0
        },
        "template": {
         "data": {
          "bar": [
           {
            "error_x": {
             "color": "#2a3f5f"
            },
            "error_y": {
             "color": "#2a3f5f"
            },
            "marker": {
             "line": {
              "color": "#E5ECF6",
              "width": 0.5
             },
             "pattern": {
              "fillmode": "overlay",
              "size": 10,
              "solidity": 0.2
             }
            },
            "type": "bar"
           }
          ],
          "barpolar": [
           {
            "marker": {
             "line": {
              "color": "#E5ECF6",
              "width": 0.5
             },
             "pattern": {
              "fillmode": "overlay",
              "size": 10,
              "solidity": 0.2
             }
            },
            "type": "barpolar"
           }
          ],
          "carpet": [
           {
            "aaxis": {
             "endlinecolor": "#2a3f5f",
             "gridcolor": "white",
             "linecolor": "white",
             "minorgridcolor": "white",
             "startlinecolor": "#2a3f5f"
            },
            "baxis": {
             "endlinecolor": "#2a3f5f",
             "gridcolor": "white",
             "linecolor": "white",
             "minorgridcolor": "white",
             "startlinecolor": "#2a3f5f"
            },
            "type": "carpet"
           }
          ],
          "choropleth": [
           {
            "colorbar": {
             "outlinewidth": 0,
             "ticks": ""
            },
            "type": "choropleth"
           }
          ],
          "contour": [
           {
            "colorbar": {
             "outlinewidth": 0,
             "ticks": ""
            },
            "colorscale": [
             [
              0,
              "#0d0887"
             ],
             [
              0.1111111111111111,
              "#46039f"
             ],
             [
              0.2222222222222222,
              "#7201a8"
             ],
             [
              0.3333333333333333,
              "#9c179e"
             ],
             [
              0.4444444444444444,
              "#bd3786"
             ],
             [
              0.5555555555555556,
              "#d8576b"
             ],
             [
              0.6666666666666666,
              "#ed7953"
             ],
             [
              0.7777777777777778,
              "#fb9f3a"
             ],
             [
              0.8888888888888888,
              "#fdca26"
             ],
             [
              1,
              "#f0f921"
             ]
            ],
            "type": "contour"
           }
          ],
          "contourcarpet": [
           {
            "colorbar": {
             "outlinewidth": 0,
             "ticks": ""
            },
            "type": "contourcarpet"
           }
          ],
          "heatmap": [
           {
            "colorbar": {
             "outlinewidth": 0,
             "ticks": ""
            },
            "colorscale": [
             [
              0,
              "#0d0887"
             ],
             [
              0.1111111111111111,
              "#46039f"
             ],
             [
              0.2222222222222222,
              "#7201a8"
             ],
             [
              0.3333333333333333,
              "#9c179e"
             ],
             [
              0.4444444444444444,
              "#bd3786"
             ],
             [
              0.5555555555555556,
              "#d8576b"
             ],
             [
              0.6666666666666666,
              "#ed7953"
             ],
             [
              0.7777777777777778,
              "#fb9f3a"
             ],
             [
              0.8888888888888888,
              "#fdca26"
             ],
             [
              1,
              "#f0f921"
             ]
            ],
            "type": "heatmap"
           }
          ],
          "heatmapgl": [
           {
            "colorbar": {
             "outlinewidth": 0,
             "ticks": ""
            },
            "colorscale": [
             [
              0,
              "#0d0887"
             ],
             [
              0.1111111111111111,
              "#46039f"
             ],
             [
              0.2222222222222222,
              "#7201a8"
             ],
             [
              0.3333333333333333,
              "#9c179e"
             ],
             [
              0.4444444444444444,
              "#bd3786"
             ],
             [
              0.5555555555555556,
              "#d8576b"
             ],
             [
              0.6666666666666666,
              "#ed7953"
             ],
             [
              0.7777777777777778,
              "#fb9f3a"
             ],
             [
              0.8888888888888888,
              "#fdca26"
             ],
             [
              1,
              "#f0f921"
             ]
            ],
            "type": "heatmapgl"
           }
          ],
          "histogram": [
           {
            "marker": {
             "pattern": {
              "fillmode": "overlay",
              "size": 10,
              "solidity": 0.2
             }
            },
            "type": "histogram"
           }
          ],
          "histogram2d": [
           {
            "colorbar": {
             "outlinewidth": 0,
             "ticks": ""
            },
            "colorscale": [
             [
              0,
              "#0d0887"
             ],
             [
              0.1111111111111111,
              "#46039f"
             ],
             [
              0.2222222222222222,
              "#7201a8"
             ],
             [
              0.3333333333333333,
              "#9c179e"
             ],
             [
              0.4444444444444444,
              "#bd3786"
             ],
             [
              0.5555555555555556,
              "#d8576b"
             ],
             [
              0.6666666666666666,
              "#ed7953"
             ],
             [
              0.7777777777777778,
              "#fb9f3a"
             ],
             [
              0.8888888888888888,
              "#fdca26"
             ],
             [
              1,
              "#f0f921"
             ]
            ],
            "type": "histogram2d"
           }
          ],
          "histogram2dcontour": [
           {
            "colorbar": {
             "outlinewidth": 0,
             "ticks": ""
            },
            "colorscale": [
             [
              0,
              "#0d0887"
             ],
             [
              0.1111111111111111,
              "#46039f"
             ],
             [
              0.2222222222222222,
              "#7201a8"
             ],
             [
              0.3333333333333333,
              "#9c179e"
             ],
             [
              0.4444444444444444,
              "#bd3786"
             ],
             [
              0.5555555555555556,
              "#d8576b"
             ],
             [
              0.6666666666666666,
              "#ed7953"
             ],
             [
              0.7777777777777778,
              "#fb9f3a"
             ],
             [
              0.8888888888888888,
              "#fdca26"
             ],
             [
              1,
              "#f0f921"
             ]
            ],
            "type": "histogram2dcontour"
           }
          ],
          "mesh3d": [
           {
            "colorbar": {
             "outlinewidth": 0,
             "ticks": ""
            },
            "type": "mesh3d"
           }
          ],
          "parcoords": [
           {
            "line": {
             "colorbar": {
              "outlinewidth": 0,
              "ticks": ""
             }
            },
            "type": "parcoords"
           }
          ],
          "pie": [
           {
            "automargin": true,
            "type": "pie"
           }
          ],
          "scatter": [
           {
            "fillpattern": {
             "fillmode": "overlay",
             "size": 10,
             "solidity": 0.2
            },
            "type": "scatter"
           }
          ],
          "scatter3d": [
           {
            "line": {
             "colorbar": {
              "outlinewidth": 0,
              "ticks": ""
             }
            },
            "marker": {
             "colorbar": {
              "outlinewidth": 0,
              "ticks": ""
             }
            },
            "type": "scatter3d"
           }
          ],
          "scattercarpet": [
           {
            "marker": {
             "colorbar": {
              "outlinewidth": 0,
              "ticks": ""
             }
            },
            "type": "scattercarpet"
           }
          ],
          "scattergeo": [
           {
            "marker": {
             "colorbar": {
              "outlinewidth": 0,
              "ticks": ""
             }
            },
            "type": "scattergeo"
           }
          ],
          "scattergl": [
           {
            "marker": {
             "colorbar": {
              "outlinewidth": 0,
              "ticks": ""
             }
            },
            "type": "scattergl"
           }
          ],
          "scattermapbox": [
           {
            "marker": {
             "colorbar": {
              "outlinewidth": 0,
              "ticks": ""
             }
            },
            "type": "scattermapbox"
           }
          ],
          "scatterpolar": [
           {
            "marker": {
             "colorbar": {
              "outlinewidth": 0,
              "ticks": ""
             }
            },
            "type": "scatterpolar"
           }
          ],
          "scatterpolargl": [
           {
            "marker": {
             "colorbar": {
              "outlinewidth": 0,
              "ticks": ""
             }
            },
            "type": "scatterpolargl"
           }
          ],
          "scatterternary": [
           {
            "marker": {
             "colorbar": {
              "outlinewidth": 0,
              "ticks": ""
             }
            },
            "type": "scatterternary"
           }
          ],
          "surface": [
           {
            "colorbar": {
             "outlinewidth": 0,
             "ticks": ""
            },
            "colorscale": [
             [
              0,
              "#0d0887"
             ],
             [
              0.1111111111111111,
              "#46039f"
             ],
             [
              0.2222222222222222,
              "#7201a8"
             ],
             [
              0.3333333333333333,
              "#9c179e"
             ],
             [
              0.4444444444444444,
              "#bd3786"
             ],
             [
              0.5555555555555556,
              "#d8576b"
             ],
             [
              0.6666666666666666,
              "#ed7953"
             ],
             [
              0.7777777777777778,
              "#fb9f3a"
             ],
             [
              0.8888888888888888,
              "#fdca26"
             ],
             [
              1,
              "#f0f921"
             ]
            ],
            "type": "surface"
           }
          ],
          "table": [
           {
            "cells": {
             "fill": {
              "color": "#EBF0F8"
             },
             "line": {
              "color": "white"
             }
            },
            "header": {
             "fill": {
              "color": "#C8D4E3"
             },
             "line": {
              "color": "white"
             }
            },
            "type": "table"
           }
          ]
         },
         "layout": {
          "annotationdefaults": {
           "arrowcolor": "#2a3f5f",
           "arrowhead": 0,
           "arrowwidth": 1
          },
          "autotypenumbers": "strict",
          "coloraxis": {
           "colorbar": {
            "outlinewidth": 0,
            "ticks": ""
           }
          },
          "colorscale": {
           "diverging": [
            [
             0,
             "#8e0152"
            ],
            [
             0.1,
             "#c51b7d"
            ],
            [
             0.2,
             "#de77ae"
            ],
            [
             0.3,
             "#f1b6da"
            ],
            [
             0.4,
             "#fde0ef"
            ],
            [
             0.5,
             "#f7f7f7"
            ],
            [
             0.6,
             "#e6f5d0"
            ],
            [
             0.7,
             "#b8e186"
            ],
            [
             0.8,
             "#7fbc41"
            ],
            [
             0.9,
             "#4d9221"
            ],
            [
             1,
             "#276419"
            ]
           ],
           "sequential": [
            [
             0,
             "#0d0887"
            ],
            [
             0.1111111111111111,
             "#46039f"
            ],
            [
             0.2222222222222222,
             "#7201a8"
            ],
            [
             0.3333333333333333,
             "#9c179e"
            ],
            [
             0.4444444444444444,
             "#bd3786"
            ],
            [
             0.5555555555555556,
             "#d8576b"
            ],
            [
             0.6666666666666666,
             "#ed7953"
            ],
            [
             0.7777777777777778,
             "#fb9f3a"
            ],
            [
             0.8888888888888888,
             "#fdca26"
            ],
            [
             1,
             "#f0f921"
            ]
           ],
           "sequentialminus": [
            [
             0,
             "#0d0887"
            ],
            [
             0.1111111111111111,
             "#46039f"
            ],
            [
             0.2222222222222222,
             "#7201a8"
            ],
            [
             0.3333333333333333,
             "#9c179e"
            ],
            [
             0.4444444444444444,
             "#bd3786"
            ],
            [
             0.5555555555555556,
             "#d8576b"
            ],
            [
             0.6666666666666666,
             "#ed7953"
            ],
            [
             0.7777777777777778,
             "#fb9f3a"
            ],
            [
             0.8888888888888888,
             "#fdca26"
            ],
            [
             1,
             "#f0f921"
            ]
           ]
          },
          "colorway": [
           "#636efa",
           "#EF553B",
           "#00cc96",
           "#ab63fa",
           "#FFA15A",
           "#19d3f3",
           "#FF6692",
           "#B6E880",
           "#FF97FF",
           "#FECB52"
          ],
          "font": {
           "color": "#2a3f5f"
          },
          "geo": {
           "bgcolor": "white",
           "lakecolor": "white",
           "landcolor": "#E5ECF6",
           "showlakes": true,
           "showland": true,
           "subunitcolor": "white"
          },
          "hoverlabel": {
           "align": "left"
          },
          "hovermode": "closest",
          "mapbox": {
           "style": "light"
          },
          "paper_bgcolor": "white",
          "plot_bgcolor": "#E5ECF6",
          "polar": {
           "angularaxis": {
            "gridcolor": "white",
            "linecolor": "white",
            "ticks": ""
           },
           "bgcolor": "#E5ECF6",
           "radialaxis": {
            "gridcolor": "white",
            "linecolor": "white",
            "ticks": ""
           }
          },
          "scene": {
           "xaxis": {
            "backgroundcolor": "#E5ECF6",
            "gridcolor": "white",
            "gridwidth": 2,
            "linecolor": "white",
            "showbackground": true,
            "ticks": "",
            "zerolinecolor": "white"
           },
           "yaxis": {
            "backgroundcolor": "#E5ECF6",
            "gridcolor": "white",
            "gridwidth": 2,
            "linecolor": "white",
            "showbackground": true,
            "ticks": "",
            "zerolinecolor": "white"
           },
           "zaxis": {
            "backgroundcolor": "#E5ECF6",
            "gridcolor": "white",
            "gridwidth": 2,
            "linecolor": "white",
            "showbackground": true,
            "ticks": "",
            "zerolinecolor": "white"
           }
          },
          "shapedefaults": {
           "line": {
            "color": "#2a3f5f"
           }
          },
          "ternary": {
           "aaxis": {
            "gridcolor": "white",
            "linecolor": "white",
            "ticks": ""
           },
           "baxis": {
            "gridcolor": "white",
            "linecolor": "white",
            "ticks": ""
           },
           "bgcolor": "#E5ECF6",
           "caxis": {
            "gridcolor": "white",
            "linecolor": "white",
            "ticks": ""
           }
          },
          "title": {
           "x": 0.05
          },
          "xaxis": {
           "automargin": true,
           "gridcolor": "white",
           "linecolor": "white",
           "ticks": "",
           "title": {
            "standoff": 15
           },
           "zerolinecolor": "white",
           "zerolinewidth": 2
          },
          "yaxis": {
           "automargin": true,
           "gridcolor": "white",
           "linecolor": "white",
           "ticks": "",
           "title": {
            "standoff": 15
           },
           "zerolinecolor": "white",
           "zerolinewidth": 2
          }
         }
        },
        "title": {
         "text": "People who receive ART - country"
        },
        "xaxis": {
         "anchor": "y",
         "categoryarray": [
          "Algeria",
          "Angola",
          "Benin",
          "Botswana",
          "Burkina Faso",
          "Burundi",
          "Cabo Verde",
          "Cameroon",
          "Central African Republic",
          "Chad",
          "Comoros",
          "Côte d'Ivoire",
          "Democratic Republic of the Congo",
          "Equatorial Guinea",
          "Eritrea",
          "Eswatini",
          "Ethiopia",
          "Gabon",
          "Gambia",
          "Ghana",
          "Guinea",
          "Guinea-Bissau",
          "Kenya",
          "Lesotho",
          "Liberia",
          "Madagascar",
          "Malawi",
          "Mali",
          "Mauritania",
          "Mauritius",
          "Mozambique",
          "Namibia",
          "Niger",
          "Nigeria",
          "Rwanda",
          "Senegal",
          "Sierra Leone",
          "South Africa",
          "South Sudan",
          "Togo",
          "Uganda",
          "United Republic of Tanzania",
          "Zambia",
          "Zimbabwe"
         ],
         "categoryorder": "array",
         "domain": [
          0,
          1
         ],
         "tickangle": 90,
         "title": {
          "text": "country"
         }
        },
        "yaxis": {
         "anchor": "x",
         "domain": [
          0,
          1
         ],
         "title": {
          "text": "Number of people who receive ART"
         }
        }
       }
      },
      "text/html": [
       "<div>                            <div id=\"568a07ee-f4df-470f-9e45-72f6ffe87b21\" class=\"plotly-graph-div\" style=\"height:525px; width:100%;\"></div>            <script type=\"text/javascript\">                require([\"plotly\"], function(Plotly) {                    window.PLOTLYENV=window.PLOTLYENV || {};                                    if (document.getElementById(\"568a07ee-f4df-470f-9e45-72f6ffe87b21\")) {                    Plotly.newPlot(                        \"568a07ee-f4df-470f-9e45-72f6ffe87b21\",                        [{\"alignmentgroup\":\"True\",\"hovertemplate\":\"Country=%{x}<br>Reported number of people receiving ART=%{y}<extra></extra>\",\"legendgroup\":\"Algeria\",\"marker\":{\"color\":\"red\",\"pattern\":{\"shape\":\"\"}},\"name\":\"Algeria\",\"offsetgroup\":\"Algeria\",\"orientation\":\"v\",\"showlegend\":true,\"textposition\":\"auto\",\"x\":[\"Algeria\"],\"xaxis\":\"x\",\"y\":[12800.0],\"yaxis\":\"y\",\"type\":\"bar\"},{\"alignmentgroup\":\"True\",\"hovertemplate\":\"Country=%{x}<br>Reported number of people receiving ART=%{y}<extra></extra>\",\"legendgroup\":\"Angola\",\"marker\":{\"color\":\"blue\",\"pattern\":{\"shape\":\"\"}},\"name\":\"Angola\",\"offsetgroup\":\"Angola\",\"orientation\":\"v\",\"showlegend\":true,\"textposition\":\"auto\",\"x\":[\"Angola\"],\"xaxis\":\"x\",\"y\":[88700.0],\"yaxis\":\"y\",\"type\":\"bar\"},{\"alignmentgroup\":\"True\",\"hovertemplate\":\"Country=%{x}<br>Reported number of people receiving ART=%{y}<extra></extra>\",\"legendgroup\":\"Benin\",\"marker\":{\"color\":\"green\",\"pattern\":{\"shape\":\"\"}},\"name\":\"Benin\",\"offsetgroup\":\"Benin\",\"orientation\":\"v\",\"showlegend\":true,\"textposition\":\"auto\",\"x\":[\"Benin\"],\"xaxis\":\"x\",\"y\":[44200.0],\"yaxis\":\"y\",\"type\":\"bar\"},{\"alignmentgroup\":\"True\",\"hovertemplate\":\"Country=%{x}<br>Reported number of people receiving ART=%{y}<extra></extra>\",\"legendgroup\":\"Botswana\",\"marker\":{\"color\":\"orange\",\"pattern\":{\"shape\":\"\"}},\"name\":\"Botswana\",\"offsetgroup\":\"Botswana\",\"orientation\":\"v\",\"showlegend\":true,\"textposition\":\"auto\",\"x\":[\"Botswana\"],\"xaxis\":\"x\",\"y\":[307000.0],\"yaxis\":\"y\",\"type\":\"bar\"},{\"alignmentgroup\":\"True\",\"hovertemplate\":\"Country=%{x}<br>Reported number of people receiving ART=%{y}<extra></extra>\",\"legendgroup\":\"Burkina Faso\",\"marker\":{\"color\":\"purple\",\"pattern\":{\"shape\":\"\"}},\"name\":\"Burkina Faso\",\"offsetgroup\":\"Burkina Faso\",\"orientation\":\"v\",\"showlegend\":true,\"textposition\":\"auto\",\"x\":[\"Burkina Faso\"],\"xaxis\":\"x\",\"y\":[59300.0],\"yaxis\":\"y\",\"type\":\"bar\"},{\"alignmentgroup\":\"True\",\"hovertemplate\":\"Country=%{x}<br>Reported number of people receiving ART=%{y}<extra></extra>\",\"legendgroup\":\"Burundi\",\"marker\":{\"color\":\"red\",\"pattern\":{\"shape\":\"\"}},\"name\":\"Burundi\",\"offsetgroup\":\"Burundi\",\"orientation\":\"v\",\"showlegend\":true,\"textposition\":\"auto\",\"x\":[\"Burundi\"],\"xaxis\":\"x\",\"y\":[65500.0],\"yaxis\":\"y\",\"type\":\"bar\"},{\"alignmentgroup\":\"True\",\"hovertemplate\":\"Country=%{x}<br>Reported number of people receiving ART=%{y}<extra></extra>\",\"legendgroup\":\"Cabo Verde\",\"marker\":{\"color\":\"blue\",\"pattern\":{\"shape\":\"\"}},\"name\":\"Cabo Verde\",\"offsetgroup\":\"Cabo Verde\",\"orientation\":\"v\",\"showlegend\":true,\"textposition\":\"auto\",\"x\":[\"Cabo Verde\"],\"xaxis\":\"x\",\"y\":[2200.0],\"yaxis\":\"y\",\"type\":\"bar\"},{\"alignmentgroup\":\"True\",\"hovertemplate\":\"Country=%{x}<br>Reported number of people receiving ART=%{y}<extra></extra>\",\"legendgroup\":\"Cameroon\",\"marker\":{\"color\":\"green\",\"pattern\":{\"shape\":\"\"}},\"name\":\"Cameroon\",\"offsetgroup\":\"Cameroon\",\"orientation\":\"v\",\"showlegend\":true,\"textposition\":\"auto\",\"x\":[\"Cameroon\"],\"xaxis\":\"x\",\"y\":[281000.0],\"yaxis\":\"y\",\"type\":\"bar\"},{\"alignmentgroup\":\"True\",\"hovertemplate\":\"Country=%{x}<br>Reported number of people receiving ART=%{y}<extra></extra>\",\"legendgroup\":\"Central African Republic\",\"marker\":{\"color\":\"orange\",\"pattern\":{\"shape\":\"\"}},\"name\":\"Central African Republic\",\"offsetgroup\":\"Central African Republic\",\"orientation\":\"v\",\"showlegend\":true,\"textposition\":\"auto\",\"x\":[\"Central African Republic\"],\"xaxis\":\"x\",\"y\":[39600.0],\"yaxis\":\"y\",\"type\":\"bar\"},{\"alignmentgroup\":\"True\",\"hovertemplate\":\"Country=%{x}<br>Reported number of people receiving ART=%{y}<extra></extra>\",\"legendgroup\":\"Chad\",\"marker\":{\"color\":\"purple\",\"pattern\":{\"shape\":\"\"}},\"name\":\"Chad\",\"offsetgroup\":\"Chad\",\"orientation\":\"v\",\"showlegend\":true,\"textposition\":\"auto\",\"x\":[\"Chad\"],\"xaxis\":\"x\",\"y\":[61400.0],\"yaxis\":\"y\",\"type\":\"bar\"},{\"alignmentgroup\":\"True\",\"hovertemplate\":\"Country=%{x}<br>Reported number of people receiving ART=%{y}<extra></extra>\",\"legendgroup\":\"Comoros\",\"marker\":{\"color\":\"red\",\"pattern\":{\"shape\":\"\"}},\"name\":\"Comoros\",\"offsetgroup\":\"Comoros\",\"orientation\":\"v\",\"showlegend\":true,\"textposition\":\"auto\",\"x\":[\"Comoros\"],\"xaxis\":\"x\",\"y\":[100.0],\"yaxis\":\"y\",\"type\":\"bar\"},{\"alignmentgroup\":\"True\",\"hovertemplate\":\"Country=%{x}<br>Reported number of people receiving ART=%{y}<extra></extra>\",\"legendgroup\":\"C\\u00f4te d'Ivoire\",\"marker\":{\"color\":\"blue\",\"pattern\":{\"shape\":\"\"}},\"name\":\"C\\u00f4te d'Ivoire\",\"offsetgroup\":\"C\\u00f4te d'Ivoire\",\"orientation\":\"v\",\"showlegend\":true,\"textposition\":\"auto\",\"x\":[\"C\\u00f4te d'Ivoire\"],\"xaxis\":\"x\",\"y\":[252000.0],\"yaxis\":\"y\",\"type\":\"bar\"},{\"alignmentgroup\":\"True\",\"hovertemplate\":\"Country=%{x}<br>Reported number of people receiving ART=%{y}<extra></extra>\",\"legendgroup\":\"Democratic Republic of the Congo\",\"marker\":{\"color\":\"green\",\"pattern\":{\"shape\":\"\"}},\"name\":\"Democratic Republic of the Congo\",\"offsetgroup\":\"Democratic Republic of the Congo\",\"orientation\":\"v\",\"showlegend\":true,\"textposition\":\"auto\",\"x\":[\"Democratic Republic of the Congo\"],\"xaxis\":\"x\",\"y\":[256000.0],\"yaxis\":\"y\",\"type\":\"bar\"},{\"alignmentgroup\":\"True\",\"hovertemplate\":\"Country=%{x}<br>Reported number of people receiving ART=%{y}<extra></extra>\",\"legendgroup\":\"Equatorial Guinea\",\"marker\":{\"color\":\"orange\",\"pattern\":{\"shape\":\"\"}},\"name\":\"Equatorial Guinea\",\"offsetgroup\":\"Equatorial Guinea\",\"orientation\":\"v\",\"showlegend\":true,\"textposition\":\"auto\",\"x\":[\"Equatorial Guinea\"],\"xaxis\":\"x\",\"y\":[21400.0],\"yaxis\":\"y\",\"type\":\"bar\"},{\"alignmentgroup\":\"True\",\"hovertemplate\":\"Country=%{x}<br>Reported number of people receiving ART=%{y}<extra></extra>\",\"legendgroup\":\"Eritrea\",\"marker\":{\"color\":\"purple\",\"pattern\":{\"shape\":\"\"}},\"name\":\"Eritrea\",\"offsetgroup\":\"Eritrea\",\"orientation\":\"v\",\"showlegend\":true,\"textposition\":\"auto\",\"x\":[\"Eritrea\"],\"xaxis\":\"x\",\"y\":[8900.0],\"yaxis\":\"y\",\"type\":\"bar\"},{\"alignmentgroup\":\"True\",\"hovertemplate\":\"Country=%{x}<br>Reported number of people receiving ART=%{y}<extra></extra>\",\"legendgroup\":\"Eswatini\",\"marker\":{\"color\":\"red\",\"pattern\":{\"shape\":\"\"}},\"name\":\"Eswatini\",\"offsetgroup\":\"Eswatini\",\"orientation\":\"v\",\"showlegend\":true,\"textposition\":\"auto\",\"x\":[\"Eswatini\"],\"xaxis\":\"x\",\"y\":[177000.0],\"yaxis\":\"y\",\"type\":\"bar\"},{\"alignmentgroup\":\"True\",\"hovertemplate\":\"Country=%{x}<br>Reported number of people receiving ART=%{y}<extra></extra>\",\"legendgroup\":\"Ethiopia\",\"marker\":{\"color\":\"blue\",\"pattern\":{\"shape\":\"\"}},\"name\":\"Ethiopia\",\"offsetgroup\":\"Ethiopia\",\"orientation\":\"v\",\"showlegend\":true,\"textposition\":\"auto\",\"x\":[\"Ethiopia\"],\"xaxis\":\"x\",\"y\":[450000.0],\"yaxis\":\"y\",\"type\":\"bar\"},{\"alignmentgroup\":\"True\",\"hovertemplate\":\"Country=%{x}<br>Reported number of people receiving ART=%{y}<extra></extra>\",\"legendgroup\":\"Gabon\",\"marker\":{\"color\":\"green\",\"pattern\":{\"shape\":\"\"}},\"name\":\"Gabon\",\"offsetgroup\":\"Gabon\",\"orientation\":\"v\",\"showlegend\":true,\"textposition\":\"auto\",\"x\":[\"Gabon\"],\"xaxis\":\"x\",\"y\":[35600.0],\"yaxis\":\"y\",\"type\":\"bar\"},{\"alignmentgroup\":\"True\",\"hovertemplate\":\"Country=%{x}<br>Reported number of people receiving ART=%{y}<extra></extra>\",\"legendgroup\":\"Gambia\",\"marker\":{\"color\":\"orange\",\"pattern\":{\"shape\":\"\"}},\"name\":\"Gambia\",\"offsetgroup\":\"Gambia\",\"orientation\":\"v\",\"showlegend\":true,\"textposition\":\"auto\",\"x\":[\"Gambia\"],\"xaxis\":\"x\",\"y\":[7500.0],\"yaxis\":\"y\",\"type\":\"bar\"},{\"alignmentgroup\":\"True\",\"hovertemplate\":\"Country=%{x}<br>Reported number of people receiving ART=%{y}<extra></extra>\",\"legendgroup\":\"Ghana\",\"marker\":{\"color\":\"purple\",\"pattern\":{\"shape\":\"\"}},\"name\":\"Ghana\",\"offsetgroup\":\"Ghana\",\"orientation\":\"v\",\"showlegend\":true,\"textposition\":\"auto\",\"x\":[\"Ghana\"],\"xaxis\":\"x\",\"y\":[113000.0],\"yaxis\":\"y\",\"type\":\"bar\"},{\"alignmentgroup\":\"True\",\"hovertemplate\":\"Country=%{x}<br>Reported number of people receiving ART=%{y}<extra></extra>\",\"legendgroup\":\"Guinea\",\"marker\":{\"color\":\"red\",\"pattern\":{\"shape\":\"\"}},\"name\":\"Guinea\",\"offsetgroup\":\"Guinea\",\"orientation\":\"v\",\"showlegend\":true,\"textposition\":\"auto\",\"x\":[\"Guinea\"],\"xaxis\":\"x\",\"y\":[48600.0],\"yaxis\":\"y\",\"type\":\"bar\"},{\"alignmentgroup\":\"True\",\"hovertemplate\":\"Country=%{x}<br>Reported number of people receiving ART=%{y}<extra></extra>\",\"legendgroup\":\"Guinea-Bissau\",\"marker\":{\"color\":\"blue\",\"pattern\":{\"shape\":\"\"}},\"name\":\"Guinea-Bissau\",\"offsetgroup\":\"Guinea-Bissau\",\"orientation\":\"v\",\"showlegend\":true,\"textposition\":\"auto\",\"x\":[\"Guinea-Bissau\"],\"xaxis\":\"x\",\"y\":[14600.0],\"yaxis\":\"y\",\"type\":\"bar\"},{\"alignmentgroup\":\"True\",\"hovertemplate\":\"Country=%{x}<br>Reported number of people receiving ART=%{y}<extra></extra>\",\"legendgroup\":\"Kenya\",\"marker\":{\"color\":\"green\",\"pattern\":{\"shape\":\"\"}},\"name\":\"Kenya\",\"offsetgroup\":\"Kenya\",\"orientation\":\"v\",\"showlegend\":true,\"textposition\":\"auto\",\"x\":[\"Kenya\"],\"xaxis\":\"x\",\"y\":[1068000.0],\"yaxis\":\"y\",\"type\":\"bar\"},{\"alignmentgroup\":\"True\",\"hovertemplate\":\"Country=%{x}<br>Reported number of people receiving ART=%{y}<extra></extra>\",\"legendgroup\":\"Lesotho\",\"marker\":{\"color\":\"orange\",\"pattern\":{\"shape\":\"\"}},\"name\":\"Lesotho\",\"offsetgroup\":\"Lesotho\",\"orientation\":\"v\",\"showlegend\":true,\"textposition\":\"auto\",\"x\":[\"Lesotho\"],\"xaxis\":\"x\",\"y\":[206000.0],\"yaxis\":\"y\",\"type\":\"bar\"},{\"alignmentgroup\":\"True\",\"hovertemplate\":\"Country=%{x}<br>Reported number of people receiving ART=%{y}<extra></extra>\",\"legendgroup\":\"Liberia\",\"marker\":{\"color\":\"purple\",\"pattern\":{\"shape\":\"\"}},\"name\":\"Liberia\",\"offsetgroup\":\"Liberia\",\"orientation\":\"v\",\"showlegend\":true,\"textposition\":\"auto\",\"x\":[\"Liberia\"],\"xaxis\":\"x\",\"y\":[13900.0],\"yaxis\":\"y\",\"type\":\"bar\"},{\"alignmentgroup\":\"True\",\"hovertemplate\":\"Country=%{x}<br>Reported number of people receiving ART=%{y}<extra></extra>\",\"legendgroup\":\"Madagascar\",\"marker\":{\"color\":\"red\",\"pattern\":{\"shape\":\"\"}},\"name\":\"Madagascar\",\"offsetgroup\":\"Madagascar\",\"orientation\":\"v\",\"showlegend\":true,\"textposition\":\"auto\",\"x\":[\"Madagascar\"],\"xaxis\":\"x\",\"y\":[3500.0],\"yaxis\":\"y\",\"type\":\"bar\"},{\"alignmentgroup\":\"True\",\"hovertemplate\":\"Country=%{x}<br>Reported number of people receiving ART=%{y}<extra></extra>\",\"legendgroup\":\"Malawi\",\"marker\":{\"color\":\"blue\",\"pattern\":{\"shape\":\"\"}},\"name\":\"Malawi\",\"offsetgroup\":\"Malawi\",\"orientation\":\"v\",\"showlegend\":true,\"textposition\":\"auto\",\"x\":[\"Malawi\"],\"xaxis\":\"x\",\"y\":[814000.0],\"yaxis\":\"y\",\"type\":\"bar\"},{\"alignmentgroup\":\"True\",\"hovertemplate\":\"Country=%{x}<br>Reported number of people receiving ART=%{y}<extra></extra>\",\"legendgroup\":\"Mali\",\"marker\":{\"color\":\"green\",\"pattern\":{\"shape\":\"\"}},\"name\":\"Mali\",\"offsetgroup\":\"Mali\",\"orientation\":\"v\",\"showlegend\":true,\"textposition\":\"auto\",\"x\":[\"Mali\"],\"xaxis\":\"x\",\"y\":[47100.0],\"yaxis\":\"y\",\"type\":\"bar\"},{\"alignmentgroup\":\"True\",\"hovertemplate\":\"Country=%{x}<br>Reported number of people receiving ART=%{y}<extra></extra>\",\"legendgroup\":\"Mauritania\",\"marker\":{\"color\":\"orange\",\"pattern\":{\"shape\":\"\"}},\"name\":\"Mauritania\",\"offsetgroup\":\"Mauritania\",\"orientation\":\"v\",\"showlegend\":true,\"textposition\":\"auto\",\"x\":[\"Mauritania\"],\"xaxis\":\"x\",\"y\":[3000.0],\"yaxis\":\"y\",\"type\":\"bar\"},{\"alignmentgroup\":\"True\",\"hovertemplate\":\"Country=%{x}<br>Reported number of people receiving ART=%{y}<extra></extra>\",\"legendgroup\":\"Mauritius\",\"marker\":{\"color\":\"purple\",\"pattern\":{\"shape\":\"\"}},\"name\":\"Mauritius\",\"offsetgroup\":\"Mauritius\",\"orientation\":\"v\",\"showlegend\":true,\"textposition\":\"auto\",\"x\":[\"Mauritius\"],\"xaxis\":\"x\",\"y\":[2800.0],\"yaxis\":\"y\",\"type\":\"bar\"},{\"alignmentgroup\":\"True\",\"hovertemplate\":\"Country=%{x}<br>Reported number of people receiving ART=%{y}<extra></extra>\",\"legendgroup\":\"Mozambique\",\"marker\":{\"color\":\"red\",\"pattern\":{\"shape\":\"\"}},\"name\":\"Mozambique\",\"offsetgroup\":\"Mozambique\",\"orientation\":\"v\",\"showlegend\":true,\"textposition\":\"auto\",\"x\":[\"Mozambique\"],\"xaxis\":\"x\",\"y\":[1213000.0],\"yaxis\":\"y\",\"type\":\"bar\"},{\"alignmentgroup\":\"True\",\"hovertemplate\":\"Country=%{x}<br>Reported number of people receiving ART=%{y}<extra></extra>\",\"legendgroup\":\"Namibia\",\"marker\":{\"color\":\"blue\",\"pattern\":{\"shape\":\"\"}},\"name\":\"Namibia\",\"offsetgroup\":\"Namibia\",\"orientation\":\"v\",\"showlegend\":true,\"textposition\":\"auto\",\"x\":[\"Namibia\"],\"xaxis\":\"x\",\"y\":[184000.0],\"yaxis\":\"y\",\"type\":\"bar\"},{\"alignmentgroup\":\"True\",\"hovertemplate\":\"Country=%{x}<br>Reported number of people receiving ART=%{y}<extra></extra>\",\"legendgroup\":\"Niger\",\"marker\":{\"color\":\"green\",\"pattern\":{\"shape\":\"\"}},\"name\":\"Niger\",\"offsetgroup\":\"Niger\",\"orientation\":\"v\",\"showlegend\":true,\"textposition\":\"auto\",\"x\":[\"Niger\"],\"xaxis\":\"x\",\"y\":[19800.0],\"yaxis\":\"y\",\"type\":\"bar\"},{\"alignmentgroup\":\"True\",\"hovertemplate\":\"Country=%{x}<br>Reported number of people receiving ART=%{y}<extra></extra>\",\"legendgroup\":\"Nigeria\",\"marker\":{\"color\":\"orange\",\"pattern\":{\"shape\":\"\"}},\"name\":\"Nigeria\",\"offsetgroup\":\"Nigeria\",\"orientation\":\"v\",\"showlegend\":true,\"textposition\":\"auto\",\"x\":[\"Nigeria\"],\"xaxis\":\"x\",\"y\":[1016000.0],\"yaxis\":\"y\",\"type\":\"bar\"},{\"alignmentgroup\":\"True\",\"hovertemplate\":\"Country=%{x}<br>Reported number of people receiving ART=%{y}<extra></extra>\",\"legendgroup\":\"Rwanda\",\"marker\":{\"color\":\"purple\",\"pattern\":{\"shape\":\"\"}},\"name\":\"Rwanda\",\"offsetgroup\":\"Rwanda\",\"orientation\":\"v\",\"showlegend\":true,\"textposition\":\"auto\",\"x\":[\"Rwanda\"],\"xaxis\":\"x\",\"y\":[194000.0],\"yaxis\":\"y\",\"type\":\"bar\"},{\"alignmentgroup\":\"True\",\"hovertemplate\":\"Country=%{x}<br>Reported number of people receiving ART=%{y}<extra></extra>\",\"legendgroup\":\"Senegal\",\"marker\":{\"color\":\"red\",\"pattern\":{\"shape\":\"\"}},\"name\":\"Senegal\",\"offsetgroup\":\"Senegal\",\"orientation\":\"v\",\"showlegend\":true,\"textposition\":\"auto\",\"x\":[\"Senegal\"],\"xaxis\":\"x\",\"y\":[26600.0],\"yaxis\":\"y\",\"type\":\"bar\"},{\"alignmentgroup\":\"True\",\"hovertemplate\":\"Country=%{x}<br>Reported number of people receiving ART=%{y}<extra></extra>\",\"legendgroup\":\"Sierra Leone\",\"marker\":{\"color\":\"blue\",\"pattern\":{\"shape\":\"\"}},\"name\":\"Sierra Leone\",\"offsetgroup\":\"Sierra Leone\",\"orientation\":\"v\",\"showlegend\":true,\"textposition\":\"auto\",\"x\":[\"Sierra Leone\"],\"xaxis\":\"x\",\"y\":[28400.0],\"yaxis\":\"y\",\"type\":\"bar\"},{\"alignmentgroup\":\"True\",\"hovertemplate\":\"Country=%{x}<br>Reported number of people receiving ART=%{y}<extra></extra>\",\"legendgroup\":\"South Africa\",\"marker\":{\"color\":\"green\",\"pattern\":{\"shape\":\"\"}},\"name\":\"South Africa\",\"offsetgroup\":\"South Africa\",\"orientation\":\"v\",\"showlegend\":true,\"textposition\":\"auto\",\"x\":[\"South Africa\"],\"xaxis\":\"x\",\"y\":[4788000.0],\"yaxis\":\"y\",\"type\":\"bar\"},{\"alignmentgroup\":\"True\",\"hovertemplate\":\"Country=%{x}<br>Reported number of people receiving ART=%{y}<extra></extra>\",\"legendgroup\":\"South Sudan\",\"marker\":{\"color\":\"orange\",\"pattern\":{\"shape\":\"\"}},\"name\":\"South Sudan\",\"offsetgroup\":\"South Sudan\",\"orientation\":\"v\",\"showlegend\":true,\"textposition\":\"auto\",\"x\":[\"South Sudan\"],\"xaxis\":\"x\",\"y\":[30700.0],\"yaxis\":\"y\",\"type\":\"bar\"},{\"alignmentgroup\":\"True\",\"hovertemplate\":\"Country=%{x}<br>Reported number of people receiving ART=%{y}<extra></extra>\",\"legendgroup\":\"Togo\",\"marker\":{\"color\":\"purple\",\"pattern\":{\"shape\":\"\"}},\"name\":\"Togo\",\"offsetgroup\":\"Togo\",\"orientation\":\"v\",\"showlegend\":true,\"textposition\":\"auto\",\"x\":[\"Togo\"],\"xaxis\":\"x\",\"y\":[64800.0],\"yaxis\":\"y\",\"type\":\"bar\"},{\"alignmentgroup\":\"True\",\"hovertemplate\":\"Country=%{x}<br>Reported number of people receiving ART=%{y}<extra></extra>\",\"legendgroup\":\"Uganda\",\"marker\":{\"color\":\"red\",\"pattern\":{\"shape\":\"\"}},\"name\":\"Uganda\",\"offsetgroup\":\"Uganda\",\"orientation\":\"v\",\"showlegend\":true,\"textposition\":\"auto\",\"x\":[\"Uganda\"],\"xaxis\":\"x\",\"y\":[1004000.0],\"yaxis\":\"y\",\"type\":\"bar\"},{\"alignmentgroup\":\"True\",\"hovertemplate\":\"Country=%{x}<br>Reported number of people receiving ART=%{y}<extra></extra>\",\"legendgroup\":\"United Republic of Tanzania\",\"marker\":{\"color\":\"blue\",\"pattern\":{\"shape\":\"\"}},\"name\":\"United Republic of Tanzania\",\"offsetgroup\":\"United Republic of Tanzania\",\"orientation\":\"v\",\"showlegend\":true,\"textposition\":\"auto\",\"x\":[\"United Republic of Tanzania\"],\"xaxis\":\"x\",\"y\":[1109000.0],\"yaxis\":\"y\",\"type\":\"bar\"},{\"alignmentgroup\":\"True\",\"hovertemplate\":\"Country=%{x}<br>Reported number of people receiving ART=%{y}<extra></extra>\",\"legendgroup\":\"Zambia\",\"marker\":{\"color\":\"green\",\"pattern\":{\"shape\":\"\"}},\"name\":\"Zambia\",\"offsetgroup\":\"Zambia\",\"orientation\":\"v\",\"showlegend\":true,\"textposition\":\"auto\",\"x\":[\"Zambia\"],\"xaxis\":\"x\",\"y\":[965000.0],\"yaxis\":\"y\",\"type\":\"bar\"},{\"alignmentgroup\":\"True\",\"hovertemplate\":\"Country=%{x}<br>Reported number of people receiving ART=%{y}<extra></extra>\",\"legendgroup\":\"Zimbabwe\",\"marker\":{\"color\":\"orange\",\"pattern\":{\"shape\":\"\"}},\"name\":\"Zimbabwe\",\"offsetgroup\":\"Zimbabwe\",\"orientation\":\"v\",\"showlegend\":true,\"textposition\":\"auto\",\"x\":[\"Zimbabwe\"],\"xaxis\":\"x\",\"y\":[1151000.0],\"yaxis\":\"y\",\"type\":\"bar\"}],                        {\"template\":{\"data\":{\"histogram2dcontour\":[{\"type\":\"histogram2dcontour\",\"colorbar\":{\"outlinewidth\":0,\"ticks\":\"\"},\"colorscale\":[[0.0,\"#0d0887\"],[0.1111111111111111,\"#46039f\"],[0.2222222222222222,\"#7201a8\"],[0.3333333333333333,\"#9c179e\"],[0.4444444444444444,\"#bd3786\"],[0.5555555555555556,\"#d8576b\"],[0.6666666666666666,\"#ed7953\"],[0.7777777777777778,\"#fb9f3a\"],[0.8888888888888888,\"#fdca26\"],[1.0,\"#f0f921\"]]}],\"choropleth\":[{\"type\":\"choropleth\",\"colorbar\":{\"outlinewidth\":0,\"ticks\":\"\"}}],\"histogram2d\":[{\"type\":\"histogram2d\",\"colorbar\":{\"outlinewidth\":0,\"ticks\":\"\"},\"colorscale\":[[0.0,\"#0d0887\"],[0.1111111111111111,\"#46039f\"],[0.2222222222222222,\"#7201a8\"],[0.3333333333333333,\"#9c179e\"],[0.4444444444444444,\"#bd3786\"],[0.5555555555555556,\"#d8576b\"],[0.6666666666666666,\"#ed7953\"],[0.7777777777777778,\"#fb9f3a\"],[0.8888888888888888,\"#fdca26\"],[1.0,\"#f0f921\"]]}],\"heatmap\":[{\"type\":\"heatmap\",\"colorbar\":{\"outlinewidth\":0,\"ticks\":\"\"},\"colorscale\":[[0.0,\"#0d0887\"],[0.1111111111111111,\"#46039f\"],[0.2222222222222222,\"#7201a8\"],[0.3333333333333333,\"#9c179e\"],[0.4444444444444444,\"#bd3786\"],[0.5555555555555556,\"#d8576b\"],[0.6666666666666666,\"#ed7953\"],[0.7777777777777778,\"#fb9f3a\"],[0.8888888888888888,\"#fdca26\"],[1.0,\"#f0f921\"]]}],\"heatmapgl\":[{\"type\":\"heatmapgl\",\"colorbar\":{\"outlinewidth\":0,\"ticks\":\"\"},\"colorscale\":[[0.0,\"#0d0887\"],[0.1111111111111111,\"#46039f\"],[0.2222222222222222,\"#7201a8\"],[0.3333333333333333,\"#9c179e\"],[0.4444444444444444,\"#bd3786\"],[0.5555555555555556,\"#d8576b\"],[0.6666666666666666,\"#ed7953\"],[0.7777777777777778,\"#fb9f3a\"],[0.8888888888888888,\"#fdca26\"],[1.0,\"#f0f921\"]]}],\"contourcarpet\":[{\"type\":\"contourcarpet\",\"colorbar\":{\"outlinewidth\":0,\"ticks\":\"\"}}],\"contour\":[{\"type\":\"contour\",\"colorbar\":{\"outlinewidth\":0,\"ticks\":\"\"},\"colorscale\":[[0.0,\"#0d0887\"],[0.1111111111111111,\"#46039f\"],[0.2222222222222222,\"#7201a8\"],[0.3333333333333333,\"#9c179e\"],[0.4444444444444444,\"#bd3786\"],[0.5555555555555556,\"#d8576b\"],[0.6666666666666666,\"#ed7953\"],[0.7777777777777778,\"#fb9f3a\"],[0.8888888888888888,\"#fdca26\"],[1.0,\"#f0f921\"]]}],\"surface\":[{\"type\":\"surface\",\"colorbar\":{\"outlinewidth\":0,\"ticks\":\"\"},\"colorscale\":[[0.0,\"#0d0887\"],[0.1111111111111111,\"#46039f\"],[0.2222222222222222,\"#7201a8\"],[0.3333333333333333,\"#9c179e\"],[0.4444444444444444,\"#bd3786\"],[0.5555555555555556,\"#d8576b\"],[0.6666666666666666,\"#ed7953\"],[0.7777777777777778,\"#fb9f3a\"],[0.8888888888888888,\"#fdca26\"],[1.0,\"#f0f921\"]]}],\"mesh3d\":[{\"type\":\"mesh3d\",\"colorbar\":{\"outlinewidth\":0,\"ticks\":\"\"}}],\"scatter\":[{\"fillpattern\":{\"fillmode\":\"overlay\",\"size\":10,\"solidity\":0.2},\"type\":\"scatter\"}],\"parcoords\":[{\"type\":\"parcoords\",\"line\":{\"colorbar\":{\"outlinewidth\":0,\"ticks\":\"\"}}}],\"scatterpolargl\":[{\"type\":\"scatterpolargl\",\"marker\":{\"colorbar\":{\"outlinewidth\":0,\"ticks\":\"\"}}}],\"bar\":[{\"error_x\":{\"color\":\"#2a3f5f\"},\"error_y\":{\"color\":\"#2a3f5f\"},\"marker\":{\"line\":{\"color\":\"#E5ECF6\",\"width\":0.5},\"pattern\":{\"fillmode\":\"overlay\",\"size\":10,\"solidity\":0.2}},\"type\":\"bar\"}],\"scattergeo\":[{\"type\":\"scattergeo\",\"marker\":{\"colorbar\":{\"outlinewidth\":0,\"ticks\":\"\"}}}],\"scatterpolar\":[{\"type\":\"scatterpolar\",\"marker\":{\"colorbar\":{\"outlinewidth\":0,\"ticks\":\"\"}}}],\"histogram\":[{\"marker\":{\"pattern\":{\"fillmode\":\"overlay\",\"size\":10,\"solidity\":0.2}},\"type\":\"histogram\"}],\"scattergl\":[{\"type\":\"scattergl\",\"marker\":{\"colorbar\":{\"outlinewidth\":0,\"ticks\":\"\"}}}],\"scatter3d\":[{\"type\":\"scatter3d\",\"line\":{\"colorbar\":{\"outlinewidth\":0,\"ticks\":\"\"}},\"marker\":{\"colorbar\":{\"outlinewidth\":0,\"ticks\":\"\"}}}],\"scattermapbox\":[{\"type\":\"scattermapbox\",\"marker\":{\"colorbar\":{\"outlinewidth\":0,\"ticks\":\"\"}}}],\"scatterternary\":[{\"type\":\"scatterternary\",\"marker\":{\"colorbar\":{\"outlinewidth\":0,\"ticks\":\"\"}}}],\"scattercarpet\":[{\"type\":\"scattercarpet\",\"marker\":{\"colorbar\":{\"outlinewidth\":0,\"ticks\":\"\"}}}],\"carpet\":[{\"aaxis\":{\"endlinecolor\":\"#2a3f5f\",\"gridcolor\":\"white\",\"linecolor\":\"white\",\"minorgridcolor\":\"white\",\"startlinecolor\":\"#2a3f5f\"},\"baxis\":{\"endlinecolor\":\"#2a3f5f\",\"gridcolor\":\"white\",\"linecolor\":\"white\",\"minorgridcolor\":\"white\",\"startlinecolor\":\"#2a3f5f\"},\"type\":\"carpet\"}],\"table\":[{\"cells\":{\"fill\":{\"color\":\"#EBF0F8\"},\"line\":{\"color\":\"white\"}},\"header\":{\"fill\":{\"color\":\"#C8D4E3\"},\"line\":{\"color\":\"white\"}},\"type\":\"table\"}],\"barpolar\":[{\"marker\":{\"line\":{\"color\":\"#E5ECF6\",\"width\":0.5},\"pattern\":{\"fillmode\":\"overlay\",\"size\":10,\"solidity\":0.2}},\"type\":\"barpolar\"}],\"pie\":[{\"automargin\":true,\"type\":\"pie\"}]},\"layout\":{\"autotypenumbers\":\"strict\",\"colorway\":[\"#636efa\",\"#EF553B\",\"#00cc96\",\"#ab63fa\",\"#FFA15A\",\"#19d3f3\",\"#FF6692\",\"#B6E880\",\"#FF97FF\",\"#FECB52\"],\"font\":{\"color\":\"#2a3f5f\"},\"hovermode\":\"closest\",\"hoverlabel\":{\"align\":\"left\"},\"paper_bgcolor\":\"white\",\"plot_bgcolor\":\"#E5ECF6\",\"polar\":{\"bgcolor\":\"#E5ECF6\",\"angularaxis\":{\"gridcolor\":\"white\",\"linecolor\":\"white\",\"ticks\":\"\"},\"radialaxis\":{\"gridcolor\":\"white\",\"linecolor\":\"white\",\"ticks\":\"\"}},\"ternary\":{\"bgcolor\":\"#E5ECF6\",\"aaxis\":{\"gridcolor\":\"white\",\"linecolor\":\"white\",\"ticks\":\"\"},\"baxis\":{\"gridcolor\":\"white\",\"linecolor\":\"white\",\"ticks\":\"\"},\"caxis\":{\"gridcolor\":\"white\",\"linecolor\":\"white\",\"ticks\":\"\"}},\"coloraxis\":{\"colorbar\":{\"outlinewidth\":0,\"ticks\":\"\"}},\"colorscale\":{\"sequential\":[[0.0,\"#0d0887\"],[0.1111111111111111,\"#46039f\"],[0.2222222222222222,\"#7201a8\"],[0.3333333333333333,\"#9c179e\"],[0.4444444444444444,\"#bd3786\"],[0.5555555555555556,\"#d8576b\"],[0.6666666666666666,\"#ed7953\"],[0.7777777777777778,\"#fb9f3a\"],[0.8888888888888888,\"#fdca26\"],[1.0,\"#f0f921\"]],\"sequentialminus\":[[0.0,\"#0d0887\"],[0.1111111111111111,\"#46039f\"],[0.2222222222222222,\"#7201a8\"],[0.3333333333333333,\"#9c179e\"],[0.4444444444444444,\"#bd3786\"],[0.5555555555555556,\"#d8576b\"],[0.6666666666666666,\"#ed7953\"],[0.7777777777777778,\"#fb9f3a\"],[0.8888888888888888,\"#fdca26\"],[1.0,\"#f0f921\"]],\"diverging\":[[0,\"#8e0152\"],[0.1,\"#c51b7d\"],[0.2,\"#de77ae\"],[0.3,\"#f1b6da\"],[0.4,\"#fde0ef\"],[0.5,\"#f7f7f7\"],[0.6,\"#e6f5d0\"],[0.7,\"#b8e186\"],[0.8,\"#7fbc41\"],[0.9,\"#4d9221\"],[1,\"#276419\"]]},\"xaxis\":{\"gridcolor\":\"white\",\"linecolor\":\"white\",\"ticks\":\"\",\"title\":{\"standoff\":15},\"zerolinecolor\":\"white\",\"automargin\":true,\"zerolinewidth\":2},\"yaxis\":{\"gridcolor\":\"white\",\"linecolor\":\"white\",\"ticks\":\"\",\"title\":{\"standoff\":15},\"zerolinecolor\":\"white\",\"automargin\":true,\"zerolinewidth\":2},\"scene\":{\"xaxis\":{\"backgroundcolor\":\"#E5ECF6\",\"gridcolor\":\"white\",\"linecolor\":\"white\",\"showbackground\":true,\"ticks\":\"\",\"zerolinecolor\":\"white\",\"gridwidth\":2},\"yaxis\":{\"backgroundcolor\":\"#E5ECF6\",\"gridcolor\":\"white\",\"linecolor\":\"white\",\"showbackground\":true,\"ticks\":\"\",\"zerolinecolor\":\"white\",\"gridwidth\":2},\"zaxis\":{\"backgroundcolor\":\"#E5ECF6\",\"gridcolor\":\"white\",\"linecolor\":\"white\",\"showbackground\":true,\"ticks\":\"\",\"zerolinecolor\":\"white\",\"gridwidth\":2}},\"shapedefaults\":{\"line\":{\"color\":\"#2a3f5f\"}},\"annotationdefaults\":{\"arrowcolor\":\"#2a3f5f\",\"arrowhead\":0,\"arrowwidth\":1},\"geo\":{\"bgcolor\":\"white\",\"landcolor\":\"#E5ECF6\",\"subunitcolor\":\"white\",\"showland\":true,\"showlakes\":true,\"lakecolor\":\"white\"},\"title\":{\"x\":0.05},\"mapbox\":{\"style\":\"light\"}}},\"xaxis\":{\"anchor\":\"y\",\"domain\":[0.0,1.0],\"title\":{\"text\":\"country\"},\"categoryorder\":\"array\",\"categoryarray\":[\"Algeria\",\"Angola\",\"Benin\",\"Botswana\",\"Burkina Faso\",\"Burundi\",\"Cabo Verde\",\"Cameroon\",\"Central African Republic\",\"Chad\",\"Comoros\",\"C\\u00f4te d'Ivoire\",\"Democratic Republic of the Congo\",\"Equatorial Guinea\",\"Eritrea\",\"Eswatini\",\"Ethiopia\",\"Gabon\",\"Gambia\",\"Ghana\",\"Guinea\",\"Guinea-Bissau\",\"Kenya\",\"Lesotho\",\"Liberia\",\"Madagascar\",\"Malawi\",\"Mali\",\"Mauritania\",\"Mauritius\",\"Mozambique\",\"Namibia\",\"Niger\",\"Nigeria\",\"Rwanda\",\"Senegal\",\"Sierra Leone\",\"South Africa\",\"South Sudan\",\"Togo\",\"Uganda\",\"United Republic of Tanzania\",\"Zambia\",\"Zimbabwe\"],\"tickangle\":90},\"yaxis\":{\"anchor\":\"x\",\"domain\":[0.0,1.0],\"title\":{\"text\":\"Number of people who receive ART\"}},\"legend\":{\"title\":{\"text\":\"country\"},\"tracegroupgap\":0},\"title\":{\"text\":\"People who receive ART - country\"},\"barmode\":\"relative\"},                        {\"responsive\": true}                    ).then(function(){\n",
       "                            \n",
       "var gd = document.getElementById('568a07ee-f4df-470f-9e45-72f6ffe87b21');\n",
       "var x = new MutationObserver(function (mutations, observer) {{\n",
       "        var display = window.getComputedStyle(gd).display;\n",
       "        if (!display || display === 'none') {{\n",
       "            console.log([gd, 'removed!']);\n",
       "            Plotly.purge(gd);\n",
       "            observer.disconnect();\n",
       "        }}\n",
       "}});\n",
       "\n",
       "// Listen for the removal of the full notebook cells\n",
       "var notebookContainer = gd.closest('#notebook-container');\n",
       "if (notebookContainer) {{\n",
       "    x.observe(notebookContainer, {childList: true});\n",
       "}}\n",
       "\n",
       "// Listen for the clearing of the current output cell\n",
       "var outputEl = gd.closest('.output');\n",
       "if (outputEl) {{\n",
       "    x.observe(outputEl, {childList: true});\n",
       "}}\n",
       "\n",
       "                        })                };                });            </script>        </div>"
      ]
     },
     "metadata": {},
     "output_type": "display_data"
    }
   ],
   "source": [
    "colors = ['red', 'blue', 'green', 'orange', 'purple']\n",
    "# Create a Plotly Express bar chart\n",
    "fig = px.bar(PeoplereceivingART, x=PeoplereceivingART.index, y='Reported number of people receiving ART',\n",
    "             title=\"People who receive ART - country\", color=PeoplereceivingART.index, color_discrete_sequence=colors)\n",
    "\n",
    "# Customize the layout\n",
    "fig.update_layout(\n",
    "    xaxis_title=\"country\",\n",
    "    yaxis_title=\"Number of people who receive ART\",\n",
    "    xaxis=dict(tickangle=90),\n",
    "    legend_title=\"country\",\n",
    ")\n",
    "\n",
    "# Show the plot\n",
    "fig.show()\n",
    "\n"
   ]
  },
  {
   "cell_type": "markdown",
   "id": "0701149e",
   "metadata": {},
   "source": [
    "#### South Africa tends to have the greatest number of people who are receiving ART. Other countries have significantly low."
   ]
  },
  {
   "cell_type": "code",
   "execution_count": 191,
   "id": "80a074e5",
   "metadata": {
    "collapsed": true
   },
   "outputs": [
    {
     "data": {
      "text/html": [
       "<div>\n",
       "<style scoped>\n",
       "    .dataframe tbody tr th:only-of-type {\n",
       "        vertical-align: middle;\n",
       "    }\n",
       "\n",
       "    .dataframe tbody tr th {\n",
       "        vertical-align: top;\n",
       "    }\n",
       "\n",
       "    .dataframe thead th {\n",
       "        text-align: right;\n",
       "    }\n",
       "</style>\n",
       "<table border=\"1\" class=\"dataframe\">\n",
       "  <thead>\n",
       "    <tr style=\"text-align: right;\">\n",
       "      <th></th>\n",
       "      <th>Estimated ART coverage among people living with HIV (%)_median</th>\n",
       "    </tr>\n",
       "    <tr>\n",
       "      <th>Country</th>\n",
       "      <th></th>\n",
       "    </tr>\n",
       "  </thead>\n",
       "  <tbody>\n",
       "    <tr>\n",
       "      <th>Algeria</th>\n",
       "      <td>81.0</td>\n",
       "    </tr>\n",
       "    <tr>\n",
       "      <th>Angola</th>\n",
       "      <td>27.0</td>\n",
       "    </tr>\n",
       "    <tr>\n",
       "      <th>Benin</th>\n",
       "      <td>61.0</td>\n",
       "    </tr>\n",
       "    <tr>\n",
       "      <th>Botswana</th>\n",
       "      <td>83.0</td>\n",
       "    </tr>\n",
       "    <tr>\n",
       "      <th>Burkina Faso</th>\n",
       "      <td>62.0</td>\n",
       "    </tr>\n",
       "    <tr>\n",
       "      <th>Burundi</th>\n",
       "      <td>80.0</td>\n",
       "    </tr>\n",
       "    <tr>\n",
       "      <th>Cabo Verde</th>\n",
       "      <td>89.0</td>\n",
       "    </tr>\n",
       "    <tr>\n",
       "      <th>Cameroon</th>\n",
       "      <td>52.0</td>\n",
       "    </tr>\n",
       "    <tr>\n",
       "      <th>Central African Republic</th>\n",
       "      <td>36.0</td>\n",
       "    </tr>\n",
       "    <tr>\n",
       "      <th>Chad</th>\n",
       "      <td>51.0</td>\n",
       "    </tr>\n",
       "    <tr>\n",
       "      <th>Comoros</th>\n",
       "      <td>79.0</td>\n",
       "    </tr>\n",
       "    <tr>\n",
       "      <th>Côte d'Ivoire</th>\n",
       "      <td>55.0</td>\n",
       "    </tr>\n",
       "    <tr>\n",
       "      <th>Democratic Republic of the Congo</th>\n",
       "      <td>57.0</td>\n",
       "    </tr>\n",
       "    <tr>\n",
       "      <th>Equatorial Guinea</th>\n",
       "      <td>34.0</td>\n",
       "    </tr>\n",
       "    <tr>\n",
       "      <th>Eritrea</th>\n",
       "      <td>51.0</td>\n",
       "    </tr>\n",
       "    <tr>\n",
       "      <th>Eswatini</th>\n",
       "      <td>86.0</td>\n",
       "    </tr>\n",
       "    <tr>\n",
       "      <th>Ethiopia</th>\n",
       "      <td>65.0</td>\n",
       "    </tr>\n",
       "    <tr>\n",
       "      <th>Gabon</th>\n",
       "      <td>67.0</td>\n",
       "    </tr>\n",
       "    <tr>\n",
       "      <th>Gambia</th>\n",
       "      <td>29.0</td>\n",
       "    </tr>\n",
       "    <tr>\n",
       "      <th>Ghana</th>\n",
       "      <td>34.0</td>\n",
       "    </tr>\n",
       "    <tr>\n",
       "      <th>Guinea</th>\n",
       "      <td>40.0</td>\n",
       "    </tr>\n",
       "    <tr>\n",
       "      <th>Guinea-Bissau</th>\n",
       "      <td>33.0</td>\n",
       "    </tr>\n",
       "    <tr>\n",
       "      <th>Kenya</th>\n",
       "      <td>68.0</td>\n",
       "    </tr>\n",
       "    <tr>\n",
       "      <th>Lesotho</th>\n",
       "      <td>61.0</td>\n",
       "    </tr>\n",
       "    <tr>\n",
       "      <th>Liberia</th>\n",
       "      <td>35.0</td>\n",
       "    </tr>\n",
       "    <tr>\n",
       "      <th>Madagascar</th>\n",
       "      <td>9.0</td>\n",
       "    </tr>\n",
       "    <tr>\n",
       "      <th>Malawi</th>\n",
       "      <td>78.0</td>\n",
       "    </tr>\n",
       "    <tr>\n",
       "      <th>Mali</th>\n",
       "      <td>31.0</td>\n",
       "    </tr>\n",
       "    <tr>\n",
       "      <th>Mauritania</th>\n",
       "      <td>54.0</td>\n",
       "    </tr>\n",
       "    <tr>\n",
       "      <th>Mauritius</th>\n",
       "      <td>22.0</td>\n",
       "    </tr>\n",
       "    <tr>\n",
       "      <th>Mozambique</th>\n",
       "      <td>56.0</td>\n",
       "    </tr>\n",
       "    <tr>\n",
       "      <th>Namibia</th>\n",
       "      <td>92.0</td>\n",
       "    </tr>\n",
       "    <tr>\n",
       "      <th>Niger</th>\n",
       "      <td>54.0</td>\n",
       "    </tr>\n",
       "    <tr>\n",
       "      <th>Nigeria</th>\n",
       "      <td>53.0</td>\n",
       "    </tr>\n",
       "    <tr>\n",
       "      <th>Rwanda</th>\n",
       "      <td>87.0</td>\n",
       "    </tr>\n",
       "    <tr>\n",
       "      <th>Senegal</th>\n",
       "      <td>63.0</td>\n",
       "    </tr>\n",
       "    <tr>\n",
       "      <th>Sierra Leone</th>\n",
       "      <td>41.0</td>\n",
       "    </tr>\n",
       "    <tr>\n",
       "      <th>South Africa</th>\n",
       "      <td>62.0</td>\n",
       "    </tr>\n",
       "    <tr>\n",
       "      <th>South Sudan</th>\n",
       "      <td>16.0</td>\n",
       "    </tr>\n",
       "    <tr>\n",
       "      <th>Togo</th>\n",
       "      <td>60.0</td>\n",
       "    </tr>\n",
       "    <tr>\n",
       "      <th>Uganda</th>\n",
       "      <td>72.0</td>\n",
       "    </tr>\n",
       "    <tr>\n",
       "      <th>United Republic of Tanzania</th>\n",
       "      <td>71.0</td>\n",
       "    </tr>\n",
       "    <tr>\n",
       "      <th>Zambia</th>\n",
       "      <td>78.0</td>\n",
       "    </tr>\n",
       "    <tr>\n",
       "      <th>Zimbabwe</th>\n",
       "      <td>88.0</td>\n",
       "    </tr>\n",
       "  </tbody>\n",
       "</table>\n",
       "</div>"
      ],
      "text/plain": [
       "                                  Estimated ART coverage among people living with HIV (%)_median\n",
       "Country                                                                                         \n",
       "Algeria                                                                        81.0             \n",
       "Angola                                                                         27.0             \n",
       "Benin                                                                          61.0             \n",
       "Botswana                                                                       83.0             \n",
       "Burkina Faso                                                                   62.0             \n",
       "Burundi                                                                        80.0             \n",
       "Cabo Verde                                                                     89.0             \n",
       "Cameroon                                                                       52.0             \n",
       "Central African Republic                                                       36.0             \n",
       "Chad                                                                           51.0             \n",
       "Comoros                                                                        79.0             \n",
       "Côte d'Ivoire                                                                  55.0             \n",
       "Democratic Republic of the Congo                                               57.0             \n",
       "Equatorial Guinea                                                              34.0             \n",
       "Eritrea                                                                        51.0             \n",
       "Eswatini                                                                       86.0             \n",
       "Ethiopia                                                                       65.0             \n",
       "Gabon                                                                          67.0             \n",
       "Gambia                                                                         29.0             \n",
       "Ghana                                                                          34.0             \n",
       "Guinea                                                                         40.0             \n",
       "Guinea-Bissau                                                                  33.0             \n",
       "Kenya                                                                          68.0             \n",
       "Lesotho                                                                        61.0             \n",
       "Liberia                                                                        35.0             \n",
       "Madagascar                                                                      9.0             \n",
       "Malawi                                                                         78.0             \n",
       "Mali                                                                           31.0             \n",
       "Mauritania                                                                     54.0             \n",
       "Mauritius                                                                      22.0             \n",
       "Mozambique                                                                     56.0             \n",
       "Namibia                                                                        92.0             \n",
       "Niger                                                                          54.0             \n",
       "Nigeria                                                                        53.0             \n",
       "Rwanda                                                                         87.0             \n",
       "Senegal                                                                        63.0             \n",
       "Sierra Leone                                                                   41.0             \n",
       "South Africa                                                                   62.0             \n",
       "South Sudan                                                                    16.0             \n",
       "Togo                                                                           60.0             \n",
       "Uganda                                                                         72.0             \n",
       "United Republic of Tanzania                                                    71.0             \n",
       "Zambia                                                                         78.0             \n",
       "Zimbabwe                                                                       88.0             "
      ]
     },
     "execution_count": 191,
     "metadata": {},
     "output_type": "execute_result"
    }
   ],
   "source": [
    "ARTcoverage = pd.DataFrame(afr_artCoverage_data.groupby('Country').mean()['Estimated ART coverage among people living with HIV (%)_median'])\n",
    "ARTcoverage"
   ]
  },
  {
   "cell_type": "code",
   "execution_count": 192,
   "id": "35a5aa07",
   "metadata": {},
   "outputs": [
    {
     "data": {
      "application/vnd.plotly.v1+json": {
       "config": {
        "plotlyServerURL": "https://plot.ly"
       },
       "data": [
        {
         "alignmentgroup": "True",
         "hovertemplate": "Country=%{x}<br>Estimated ART coverage among people living with HIV (%)_median=%{y}<extra></extra>",
         "legendgroup": "Algeria",
         "marker": {
          "color": "red",
          "pattern": {
           "shape": ""
          }
         },
         "name": "Algeria",
         "offsetgroup": "Algeria",
         "orientation": "v",
         "showlegend": true,
         "textposition": "auto",
         "type": "bar",
         "x": [
          "Algeria"
         ],
         "xaxis": "x",
         "y": [
          81
         ],
         "yaxis": "y"
        },
        {
         "alignmentgroup": "True",
         "hovertemplate": "Country=%{x}<br>Estimated ART coverage among people living with HIV (%)_median=%{y}<extra></extra>",
         "legendgroup": "Angola",
         "marker": {
          "color": "blue",
          "pattern": {
           "shape": ""
          }
         },
         "name": "Angola",
         "offsetgroup": "Angola",
         "orientation": "v",
         "showlegend": true,
         "textposition": "auto",
         "type": "bar",
         "x": [
          "Angola"
         ],
         "xaxis": "x",
         "y": [
          27
         ],
         "yaxis": "y"
        },
        {
         "alignmentgroup": "True",
         "hovertemplate": "Country=%{x}<br>Estimated ART coverage among people living with HIV (%)_median=%{y}<extra></extra>",
         "legendgroup": "Benin",
         "marker": {
          "color": "green",
          "pattern": {
           "shape": ""
          }
         },
         "name": "Benin",
         "offsetgroup": "Benin",
         "orientation": "v",
         "showlegend": true,
         "textposition": "auto",
         "type": "bar",
         "x": [
          "Benin"
         ],
         "xaxis": "x",
         "y": [
          61
         ],
         "yaxis": "y"
        },
        {
         "alignmentgroup": "True",
         "hovertemplate": "Country=%{x}<br>Estimated ART coverage among people living with HIV (%)_median=%{y}<extra></extra>",
         "legendgroup": "Botswana",
         "marker": {
          "color": "orange",
          "pattern": {
           "shape": ""
          }
         },
         "name": "Botswana",
         "offsetgroup": "Botswana",
         "orientation": "v",
         "showlegend": true,
         "textposition": "auto",
         "type": "bar",
         "x": [
          "Botswana"
         ],
         "xaxis": "x",
         "y": [
          83
         ],
         "yaxis": "y"
        },
        {
         "alignmentgroup": "True",
         "hovertemplate": "Country=%{x}<br>Estimated ART coverage among people living with HIV (%)_median=%{y}<extra></extra>",
         "legendgroup": "Burkina Faso",
         "marker": {
          "color": "purple",
          "pattern": {
           "shape": ""
          }
         },
         "name": "Burkina Faso",
         "offsetgroup": "Burkina Faso",
         "orientation": "v",
         "showlegend": true,
         "textposition": "auto",
         "type": "bar",
         "x": [
          "Burkina Faso"
         ],
         "xaxis": "x",
         "y": [
          62
         ],
         "yaxis": "y"
        },
        {
         "alignmentgroup": "True",
         "hovertemplate": "Country=%{x}<br>Estimated ART coverage among people living with HIV (%)_median=%{y}<extra></extra>",
         "legendgroup": "Burundi",
         "marker": {
          "color": "red",
          "pattern": {
           "shape": ""
          }
         },
         "name": "Burundi",
         "offsetgroup": "Burundi",
         "orientation": "v",
         "showlegend": true,
         "textposition": "auto",
         "type": "bar",
         "x": [
          "Burundi"
         ],
         "xaxis": "x",
         "y": [
          80
         ],
         "yaxis": "y"
        },
        {
         "alignmentgroup": "True",
         "hovertemplate": "Country=%{x}<br>Estimated ART coverage among people living with HIV (%)_median=%{y}<extra></extra>",
         "legendgroup": "Cabo Verde",
         "marker": {
          "color": "blue",
          "pattern": {
           "shape": ""
          }
         },
         "name": "Cabo Verde",
         "offsetgroup": "Cabo Verde",
         "orientation": "v",
         "showlegend": true,
         "textposition": "auto",
         "type": "bar",
         "x": [
          "Cabo Verde"
         ],
         "xaxis": "x",
         "y": [
          89
         ],
         "yaxis": "y"
        },
        {
         "alignmentgroup": "True",
         "hovertemplate": "Country=%{x}<br>Estimated ART coverage among people living with HIV (%)_median=%{y}<extra></extra>",
         "legendgroup": "Cameroon",
         "marker": {
          "color": "green",
          "pattern": {
           "shape": ""
          }
         },
         "name": "Cameroon",
         "offsetgroup": "Cameroon",
         "orientation": "v",
         "showlegend": true,
         "textposition": "auto",
         "type": "bar",
         "x": [
          "Cameroon"
         ],
         "xaxis": "x",
         "y": [
          52
         ],
         "yaxis": "y"
        },
        {
         "alignmentgroup": "True",
         "hovertemplate": "Country=%{x}<br>Estimated ART coverage among people living with HIV (%)_median=%{y}<extra></extra>",
         "legendgroup": "Central African Republic",
         "marker": {
          "color": "orange",
          "pattern": {
           "shape": ""
          }
         },
         "name": "Central African Republic",
         "offsetgroup": "Central African Republic",
         "orientation": "v",
         "showlegend": true,
         "textposition": "auto",
         "type": "bar",
         "x": [
          "Central African Republic"
         ],
         "xaxis": "x",
         "y": [
          36
         ],
         "yaxis": "y"
        },
        {
         "alignmentgroup": "True",
         "hovertemplate": "Country=%{x}<br>Estimated ART coverage among people living with HIV (%)_median=%{y}<extra></extra>",
         "legendgroup": "Chad",
         "marker": {
          "color": "purple",
          "pattern": {
           "shape": ""
          }
         },
         "name": "Chad",
         "offsetgroup": "Chad",
         "orientation": "v",
         "showlegend": true,
         "textposition": "auto",
         "type": "bar",
         "x": [
          "Chad"
         ],
         "xaxis": "x",
         "y": [
          51
         ],
         "yaxis": "y"
        },
        {
         "alignmentgroup": "True",
         "hovertemplate": "Country=%{x}<br>Estimated ART coverage among people living with HIV (%)_median=%{y}<extra></extra>",
         "legendgroup": "Comoros",
         "marker": {
          "color": "red",
          "pattern": {
           "shape": ""
          }
         },
         "name": "Comoros",
         "offsetgroup": "Comoros",
         "orientation": "v",
         "showlegend": true,
         "textposition": "auto",
         "type": "bar",
         "x": [
          "Comoros"
         ],
         "xaxis": "x",
         "y": [
          79
         ],
         "yaxis": "y"
        },
        {
         "alignmentgroup": "True",
         "hovertemplate": "Country=%{x}<br>Estimated ART coverage among people living with HIV (%)_median=%{y}<extra></extra>",
         "legendgroup": "Côte d'Ivoire",
         "marker": {
          "color": "blue",
          "pattern": {
           "shape": ""
          }
         },
         "name": "Côte d'Ivoire",
         "offsetgroup": "Côte d'Ivoire",
         "orientation": "v",
         "showlegend": true,
         "textposition": "auto",
         "type": "bar",
         "x": [
          "Côte d'Ivoire"
         ],
         "xaxis": "x",
         "y": [
          55
         ],
         "yaxis": "y"
        },
        {
         "alignmentgroup": "True",
         "hovertemplate": "Country=%{x}<br>Estimated ART coverage among people living with HIV (%)_median=%{y}<extra></extra>",
         "legendgroup": "Democratic Republic of the Congo",
         "marker": {
          "color": "green",
          "pattern": {
           "shape": ""
          }
         },
         "name": "Democratic Republic of the Congo",
         "offsetgroup": "Democratic Republic of the Congo",
         "orientation": "v",
         "showlegend": true,
         "textposition": "auto",
         "type": "bar",
         "x": [
          "Democratic Republic of the Congo"
         ],
         "xaxis": "x",
         "y": [
          57
         ],
         "yaxis": "y"
        },
        {
         "alignmentgroup": "True",
         "hovertemplate": "Country=%{x}<br>Estimated ART coverage among people living with HIV (%)_median=%{y}<extra></extra>",
         "legendgroup": "Equatorial Guinea",
         "marker": {
          "color": "orange",
          "pattern": {
           "shape": ""
          }
         },
         "name": "Equatorial Guinea",
         "offsetgroup": "Equatorial Guinea",
         "orientation": "v",
         "showlegend": true,
         "textposition": "auto",
         "type": "bar",
         "x": [
          "Equatorial Guinea"
         ],
         "xaxis": "x",
         "y": [
          34
         ],
         "yaxis": "y"
        },
        {
         "alignmentgroup": "True",
         "hovertemplate": "Country=%{x}<br>Estimated ART coverage among people living with HIV (%)_median=%{y}<extra></extra>",
         "legendgroup": "Eritrea",
         "marker": {
          "color": "purple",
          "pattern": {
           "shape": ""
          }
         },
         "name": "Eritrea",
         "offsetgroup": "Eritrea",
         "orientation": "v",
         "showlegend": true,
         "textposition": "auto",
         "type": "bar",
         "x": [
          "Eritrea"
         ],
         "xaxis": "x",
         "y": [
          51
         ],
         "yaxis": "y"
        },
        {
         "alignmentgroup": "True",
         "hovertemplate": "Country=%{x}<br>Estimated ART coverage among people living with HIV (%)_median=%{y}<extra></extra>",
         "legendgroup": "Eswatini",
         "marker": {
          "color": "red",
          "pattern": {
           "shape": ""
          }
         },
         "name": "Eswatini",
         "offsetgroup": "Eswatini",
         "orientation": "v",
         "showlegend": true,
         "textposition": "auto",
         "type": "bar",
         "x": [
          "Eswatini"
         ],
         "xaxis": "x",
         "y": [
          86
         ],
         "yaxis": "y"
        },
        {
         "alignmentgroup": "True",
         "hovertemplate": "Country=%{x}<br>Estimated ART coverage among people living with HIV (%)_median=%{y}<extra></extra>",
         "legendgroup": "Ethiopia",
         "marker": {
          "color": "blue",
          "pattern": {
           "shape": ""
          }
         },
         "name": "Ethiopia",
         "offsetgroup": "Ethiopia",
         "orientation": "v",
         "showlegend": true,
         "textposition": "auto",
         "type": "bar",
         "x": [
          "Ethiopia"
         ],
         "xaxis": "x",
         "y": [
          65
         ],
         "yaxis": "y"
        },
        {
         "alignmentgroup": "True",
         "hovertemplate": "Country=%{x}<br>Estimated ART coverage among people living with HIV (%)_median=%{y}<extra></extra>",
         "legendgroup": "Gabon",
         "marker": {
          "color": "green",
          "pattern": {
           "shape": ""
          }
         },
         "name": "Gabon",
         "offsetgroup": "Gabon",
         "orientation": "v",
         "showlegend": true,
         "textposition": "auto",
         "type": "bar",
         "x": [
          "Gabon"
         ],
         "xaxis": "x",
         "y": [
          67
         ],
         "yaxis": "y"
        },
        {
         "alignmentgroup": "True",
         "hovertemplate": "Country=%{x}<br>Estimated ART coverage among people living with HIV (%)_median=%{y}<extra></extra>",
         "legendgroup": "Gambia",
         "marker": {
          "color": "orange",
          "pattern": {
           "shape": ""
          }
         },
         "name": "Gambia",
         "offsetgroup": "Gambia",
         "orientation": "v",
         "showlegend": true,
         "textposition": "auto",
         "type": "bar",
         "x": [
          "Gambia"
         ],
         "xaxis": "x",
         "y": [
          29
         ],
         "yaxis": "y"
        },
        {
         "alignmentgroup": "True",
         "hovertemplate": "Country=%{x}<br>Estimated ART coverage among people living with HIV (%)_median=%{y}<extra></extra>",
         "legendgroup": "Ghana",
         "marker": {
          "color": "purple",
          "pattern": {
           "shape": ""
          }
         },
         "name": "Ghana",
         "offsetgroup": "Ghana",
         "orientation": "v",
         "showlegend": true,
         "textposition": "auto",
         "type": "bar",
         "x": [
          "Ghana"
         ],
         "xaxis": "x",
         "y": [
          34
         ],
         "yaxis": "y"
        },
        {
         "alignmentgroup": "True",
         "hovertemplate": "Country=%{x}<br>Estimated ART coverage among people living with HIV (%)_median=%{y}<extra></extra>",
         "legendgroup": "Guinea",
         "marker": {
          "color": "red",
          "pattern": {
           "shape": ""
          }
         },
         "name": "Guinea",
         "offsetgroup": "Guinea",
         "orientation": "v",
         "showlegend": true,
         "textposition": "auto",
         "type": "bar",
         "x": [
          "Guinea"
         ],
         "xaxis": "x",
         "y": [
          40
         ],
         "yaxis": "y"
        },
        {
         "alignmentgroup": "True",
         "hovertemplate": "Country=%{x}<br>Estimated ART coverage among people living with HIV (%)_median=%{y}<extra></extra>",
         "legendgroup": "Guinea-Bissau",
         "marker": {
          "color": "blue",
          "pattern": {
           "shape": ""
          }
         },
         "name": "Guinea-Bissau",
         "offsetgroup": "Guinea-Bissau",
         "orientation": "v",
         "showlegend": true,
         "textposition": "auto",
         "type": "bar",
         "x": [
          "Guinea-Bissau"
         ],
         "xaxis": "x",
         "y": [
          33
         ],
         "yaxis": "y"
        },
        {
         "alignmentgroup": "True",
         "hovertemplate": "Country=%{x}<br>Estimated ART coverage among people living with HIV (%)_median=%{y}<extra></extra>",
         "legendgroup": "Kenya",
         "marker": {
          "color": "green",
          "pattern": {
           "shape": ""
          }
         },
         "name": "Kenya",
         "offsetgroup": "Kenya",
         "orientation": "v",
         "showlegend": true,
         "textposition": "auto",
         "type": "bar",
         "x": [
          "Kenya"
         ],
         "xaxis": "x",
         "y": [
          68
         ],
         "yaxis": "y"
        },
        {
         "alignmentgroup": "True",
         "hovertemplate": "Country=%{x}<br>Estimated ART coverage among people living with HIV (%)_median=%{y}<extra></extra>",
         "legendgroup": "Lesotho",
         "marker": {
          "color": "orange",
          "pattern": {
           "shape": ""
          }
         },
         "name": "Lesotho",
         "offsetgroup": "Lesotho",
         "orientation": "v",
         "showlegend": true,
         "textposition": "auto",
         "type": "bar",
         "x": [
          "Lesotho"
         ],
         "xaxis": "x",
         "y": [
          61
         ],
         "yaxis": "y"
        },
        {
         "alignmentgroup": "True",
         "hovertemplate": "Country=%{x}<br>Estimated ART coverage among people living with HIV (%)_median=%{y}<extra></extra>",
         "legendgroup": "Liberia",
         "marker": {
          "color": "purple",
          "pattern": {
           "shape": ""
          }
         },
         "name": "Liberia",
         "offsetgroup": "Liberia",
         "orientation": "v",
         "showlegend": true,
         "textposition": "auto",
         "type": "bar",
         "x": [
          "Liberia"
         ],
         "xaxis": "x",
         "y": [
          35
         ],
         "yaxis": "y"
        },
        {
         "alignmentgroup": "True",
         "hovertemplate": "Country=%{x}<br>Estimated ART coverage among people living with HIV (%)_median=%{y}<extra></extra>",
         "legendgroup": "Madagascar",
         "marker": {
          "color": "red",
          "pattern": {
           "shape": ""
          }
         },
         "name": "Madagascar",
         "offsetgroup": "Madagascar",
         "orientation": "v",
         "showlegend": true,
         "textposition": "auto",
         "type": "bar",
         "x": [
          "Madagascar"
         ],
         "xaxis": "x",
         "y": [
          9
         ],
         "yaxis": "y"
        },
        {
         "alignmentgroup": "True",
         "hovertemplate": "Country=%{x}<br>Estimated ART coverage among people living with HIV (%)_median=%{y}<extra></extra>",
         "legendgroup": "Malawi",
         "marker": {
          "color": "blue",
          "pattern": {
           "shape": ""
          }
         },
         "name": "Malawi",
         "offsetgroup": "Malawi",
         "orientation": "v",
         "showlegend": true,
         "textposition": "auto",
         "type": "bar",
         "x": [
          "Malawi"
         ],
         "xaxis": "x",
         "y": [
          78
         ],
         "yaxis": "y"
        },
        {
         "alignmentgroup": "True",
         "hovertemplate": "Country=%{x}<br>Estimated ART coverage among people living with HIV (%)_median=%{y}<extra></extra>",
         "legendgroup": "Mali",
         "marker": {
          "color": "green",
          "pattern": {
           "shape": ""
          }
         },
         "name": "Mali",
         "offsetgroup": "Mali",
         "orientation": "v",
         "showlegend": true,
         "textposition": "auto",
         "type": "bar",
         "x": [
          "Mali"
         ],
         "xaxis": "x",
         "y": [
          31
         ],
         "yaxis": "y"
        },
        {
         "alignmentgroup": "True",
         "hovertemplate": "Country=%{x}<br>Estimated ART coverage among people living with HIV (%)_median=%{y}<extra></extra>",
         "legendgroup": "Mauritania",
         "marker": {
          "color": "orange",
          "pattern": {
           "shape": ""
          }
         },
         "name": "Mauritania",
         "offsetgroup": "Mauritania",
         "orientation": "v",
         "showlegend": true,
         "textposition": "auto",
         "type": "bar",
         "x": [
          "Mauritania"
         ],
         "xaxis": "x",
         "y": [
          54
         ],
         "yaxis": "y"
        },
        {
         "alignmentgroup": "True",
         "hovertemplate": "Country=%{x}<br>Estimated ART coverage among people living with HIV (%)_median=%{y}<extra></extra>",
         "legendgroup": "Mauritius",
         "marker": {
          "color": "purple",
          "pattern": {
           "shape": ""
          }
         },
         "name": "Mauritius",
         "offsetgroup": "Mauritius",
         "orientation": "v",
         "showlegend": true,
         "textposition": "auto",
         "type": "bar",
         "x": [
          "Mauritius"
         ],
         "xaxis": "x",
         "y": [
          22
         ],
         "yaxis": "y"
        },
        {
         "alignmentgroup": "True",
         "hovertemplate": "Country=%{x}<br>Estimated ART coverage among people living with HIV (%)_median=%{y}<extra></extra>",
         "legendgroup": "Mozambique",
         "marker": {
          "color": "red",
          "pattern": {
           "shape": ""
          }
         },
         "name": "Mozambique",
         "offsetgroup": "Mozambique",
         "orientation": "v",
         "showlegend": true,
         "textposition": "auto",
         "type": "bar",
         "x": [
          "Mozambique"
         ],
         "xaxis": "x",
         "y": [
          56
         ],
         "yaxis": "y"
        },
        {
         "alignmentgroup": "True",
         "hovertemplate": "Country=%{x}<br>Estimated ART coverage among people living with HIV (%)_median=%{y}<extra></extra>",
         "legendgroup": "Namibia",
         "marker": {
          "color": "blue",
          "pattern": {
           "shape": ""
          }
         },
         "name": "Namibia",
         "offsetgroup": "Namibia",
         "orientation": "v",
         "showlegend": true,
         "textposition": "auto",
         "type": "bar",
         "x": [
          "Namibia"
         ],
         "xaxis": "x",
         "y": [
          92
         ],
         "yaxis": "y"
        },
        {
         "alignmentgroup": "True",
         "hovertemplate": "Country=%{x}<br>Estimated ART coverage among people living with HIV (%)_median=%{y}<extra></extra>",
         "legendgroup": "Niger",
         "marker": {
          "color": "green",
          "pattern": {
           "shape": ""
          }
         },
         "name": "Niger",
         "offsetgroup": "Niger",
         "orientation": "v",
         "showlegend": true,
         "textposition": "auto",
         "type": "bar",
         "x": [
          "Niger"
         ],
         "xaxis": "x",
         "y": [
          54
         ],
         "yaxis": "y"
        },
        {
         "alignmentgroup": "True",
         "hovertemplate": "Country=%{x}<br>Estimated ART coverage among people living with HIV (%)_median=%{y}<extra></extra>",
         "legendgroup": "Nigeria",
         "marker": {
          "color": "orange",
          "pattern": {
           "shape": ""
          }
         },
         "name": "Nigeria",
         "offsetgroup": "Nigeria",
         "orientation": "v",
         "showlegend": true,
         "textposition": "auto",
         "type": "bar",
         "x": [
          "Nigeria"
         ],
         "xaxis": "x",
         "y": [
          53
         ],
         "yaxis": "y"
        },
        {
         "alignmentgroup": "True",
         "hovertemplate": "Country=%{x}<br>Estimated ART coverage among people living with HIV (%)_median=%{y}<extra></extra>",
         "legendgroup": "Rwanda",
         "marker": {
          "color": "purple",
          "pattern": {
           "shape": ""
          }
         },
         "name": "Rwanda",
         "offsetgroup": "Rwanda",
         "orientation": "v",
         "showlegend": true,
         "textposition": "auto",
         "type": "bar",
         "x": [
          "Rwanda"
         ],
         "xaxis": "x",
         "y": [
          87
         ],
         "yaxis": "y"
        },
        {
         "alignmentgroup": "True",
         "hovertemplate": "Country=%{x}<br>Estimated ART coverage among people living with HIV (%)_median=%{y}<extra></extra>",
         "legendgroup": "Senegal",
         "marker": {
          "color": "red",
          "pattern": {
           "shape": ""
          }
         },
         "name": "Senegal",
         "offsetgroup": "Senegal",
         "orientation": "v",
         "showlegend": true,
         "textposition": "auto",
         "type": "bar",
         "x": [
          "Senegal"
         ],
         "xaxis": "x",
         "y": [
          63
         ],
         "yaxis": "y"
        },
        {
         "alignmentgroup": "True",
         "hovertemplate": "Country=%{x}<br>Estimated ART coverage among people living with HIV (%)_median=%{y}<extra></extra>",
         "legendgroup": "Sierra Leone",
         "marker": {
          "color": "blue",
          "pattern": {
           "shape": ""
          }
         },
         "name": "Sierra Leone",
         "offsetgroup": "Sierra Leone",
         "orientation": "v",
         "showlegend": true,
         "textposition": "auto",
         "type": "bar",
         "x": [
          "Sierra Leone"
         ],
         "xaxis": "x",
         "y": [
          41
         ],
         "yaxis": "y"
        },
        {
         "alignmentgroup": "True",
         "hovertemplate": "Country=%{x}<br>Estimated ART coverage among people living with HIV (%)_median=%{y}<extra></extra>",
         "legendgroup": "South Africa",
         "marker": {
          "color": "green",
          "pattern": {
           "shape": ""
          }
         },
         "name": "South Africa",
         "offsetgroup": "South Africa",
         "orientation": "v",
         "showlegend": true,
         "textposition": "auto",
         "type": "bar",
         "x": [
          "South Africa"
         ],
         "xaxis": "x",
         "y": [
          62
         ],
         "yaxis": "y"
        },
        {
         "alignmentgroup": "True",
         "hovertemplate": "Country=%{x}<br>Estimated ART coverage among people living with HIV (%)_median=%{y}<extra></extra>",
         "legendgroup": "South Sudan",
         "marker": {
          "color": "orange",
          "pattern": {
           "shape": ""
          }
         },
         "name": "South Sudan",
         "offsetgroup": "South Sudan",
         "orientation": "v",
         "showlegend": true,
         "textposition": "auto",
         "type": "bar",
         "x": [
          "South Sudan"
         ],
         "xaxis": "x",
         "y": [
          16
         ],
         "yaxis": "y"
        },
        {
         "alignmentgroup": "True",
         "hovertemplate": "Country=%{x}<br>Estimated ART coverage among people living with HIV (%)_median=%{y}<extra></extra>",
         "legendgroup": "Togo",
         "marker": {
          "color": "purple",
          "pattern": {
           "shape": ""
          }
         },
         "name": "Togo",
         "offsetgroup": "Togo",
         "orientation": "v",
         "showlegend": true,
         "textposition": "auto",
         "type": "bar",
         "x": [
          "Togo"
         ],
         "xaxis": "x",
         "y": [
          60
         ],
         "yaxis": "y"
        },
        {
         "alignmentgroup": "True",
         "hovertemplate": "Country=%{x}<br>Estimated ART coverage among people living with HIV (%)_median=%{y}<extra></extra>",
         "legendgroup": "Uganda",
         "marker": {
          "color": "red",
          "pattern": {
           "shape": ""
          }
         },
         "name": "Uganda",
         "offsetgroup": "Uganda",
         "orientation": "v",
         "showlegend": true,
         "textposition": "auto",
         "type": "bar",
         "x": [
          "Uganda"
         ],
         "xaxis": "x",
         "y": [
          72
         ],
         "yaxis": "y"
        },
        {
         "alignmentgroup": "True",
         "hovertemplate": "Country=%{x}<br>Estimated ART coverage among people living with HIV (%)_median=%{y}<extra></extra>",
         "legendgroup": "United Republic of Tanzania",
         "marker": {
          "color": "blue",
          "pattern": {
           "shape": ""
          }
         },
         "name": "United Republic of Tanzania",
         "offsetgroup": "United Republic of Tanzania",
         "orientation": "v",
         "showlegend": true,
         "textposition": "auto",
         "type": "bar",
         "x": [
          "United Republic of Tanzania"
         ],
         "xaxis": "x",
         "y": [
          71
         ],
         "yaxis": "y"
        },
        {
         "alignmentgroup": "True",
         "hovertemplate": "Country=%{x}<br>Estimated ART coverage among people living with HIV (%)_median=%{y}<extra></extra>",
         "legendgroup": "Zambia",
         "marker": {
          "color": "green",
          "pattern": {
           "shape": ""
          }
         },
         "name": "Zambia",
         "offsetgroup": "Zambia",
         "orientation": "v",
         "showlegend": true,
         "textposition": "auto",
         "type": "bar",
         "x": [
          "Zambia"
         ],
         "xaxis": "x",
         "y": [
          78
         ],
         "yaxis": "y"
        },
        {
         "alignmentgroup": "True",
         "hovertemplate": "Country=%{x}<br>Estimated ART coverage among people living with HIV (%)_median=%{y}<extra></extra>",
         "legendgroup": "Zimbabwe",
         "marker": {
          "color": "orange",
          "pattern": {
           "shape": ""
          }
         },
         "name": "Zimbabwe",
         "offsetgroup": "Zimbabwe",
         "orientation": "v",
         "showlegend": true,
         "textposition": "auto",
         "type": "bar",
         "x": [
          "Zimbabwe"
         ],
         "xaxis": "x",
         "y": [
          88
         ],
         "yaxis": "y"
        }
       ],
       "layout": {
        "barmode": "relative",
        "legend": {
         "title": {
          "text": "Country"
         },
         "tracegroupgap": 0
        },
        "plot_bgcolor": "lightgray",
        "template": {
         "data": {
          "bar": [
           {
            "error_x": {
             "color": "#2a3f5f"
            },
            "error_y": {
             "color": "#2a3f5f"
            },
            "marker": {
             "line": {
              "color": "#E5ECF6",
              "width": 0.5
             },
             "pattern": {
              "fillmode": "overlay",
              "size": 10,
              "solidity": 0.2
             }
            },
            "type": "bar"
           }
          ],
          "barpolar": [
           {
            "marker": {
             "line": {
              "color": "#E5ECF6",
              "width": 0.5
             },
             "pattern": {
              "fillmode": "overlay",
              "size": 10,
              "solidity": 0.2
             }
            },
            "type": "barpolar"
           }
          ],
          "carpet": [
           {
            "aaxis": {
             "endlinecolor": "#2a3f5f",
             "gridcolor": "white",
             "linecolor": "white",
             "minorgridcolor": "white",
             "startlinecolor": "#2a3f5f"
            },
            "baxis": {
             "endlinecolor": "#2a3f5f",
             "gridcolor": "white",
             "linecolor": "white",
             "minorgridcolor": "white",
             "startlinecolor": "#2a3f5f"
            },
            "type": "carpet"
           }
          ],
          "choropleth": [
           {
            "colorbar": {
             "outlinewidth": 0,
             "ticks": ""
            },
            "type": "choropleth"
           }
          ],
          "contour": [
           {
            "colorbar": {
             "outlinewidth": 0,
             "ticks": ""
            },
            "colorscale": [
             [
              0,
              "#0d0887"
             ],
             [
              0.1111111111111111,
              "#46039f"
             ],
             [
              0.2222222222222222,
              "#7201a8"
             ],
             [
              0.3333333333333333,
              "#9c179e"
             ],
             [
              0.4444444444444444,
              "#bd3786"
             ],
             [
              0.5555555555555556,
              "#d8576b"
             ],
             [
              0.6666666666666666,
              "#ed7953"
             ],
             [
              0.7777777777777778,
              "#fb9f3a"
             ],
             [
              0.8888888888888888,
              "#fdca26"
             ],
             [
              1,
              "#f0f921"
             ]
            ],
            "type": "contour"
           }
          ],
          "contourcarpet": [
           {
            "colorbar": {
             "outlinewidth": 0,
             "ticks": ""
            },
            "type": "contourcarpet"
           }
          ],
          "heatmap": [
           {
            "colorbar": {
             "outlinewidth": 0,
             "ticks": ""
            },
            "colorscale": [
             [
              0,
              "#0d0887"
             ],
             [
              0.1111111111111111,
              "#46039f"
             ],
             [
              0.2222222222222222,
              "#7201a8"
             ],
             [
              0.3333333333333333,
              "#9c179e"
             ],
             [
              0.4444444444444444,
              "#bd3786"
             ],
             [
              0.5555555555555556,
              "#d8576b"
             ],
             [
              0.6666666666666666,
              "#ed7953"
             ],
             [
              0.7777777777777778,
              "#fb9f3a"
             ],
             [
              0.8888888888888888,
              "#fdca26"
             ],
             [
              1,
              "#f0f921"
             ]
            ],
            "type": "heatmap"
           }
          ],
          "heatmapgl": [
           {
            "colorbar": {
             "outlinewidth": 0,
             "ticks": ""
            },
            "colorscale": [
             [
              0,
              "#0d0887"
             ],
             [
              0.1111111111111111,
              "#46039f"
             ],
             [
              0.2222222222222222,
              "#7201a8"
             ],
             [
              0.3333333333333333,
              "#9c179e"
             ],
             [
              0.4444444444444444,
              "#bd3786"
             ],
             [
              0.5555555555555556,
              "#d8576b"
             ],
             [
              0.6666666666666666,
              "#ed7953"
             ],
             [
              0.7777777777777778,
              "#fb9f3a"
             ],
             [
              0.8888888888888888,
              "#fdca26"
             ],
             [
              1,
              "#f0f921"
             ]
            ],
            "type": "heatmapgl"
           }
          ],
          "histogram": [
           {
            "marker": {
             "pattern": {
              "fillmode": "overlay",
              "size": 10,
              "solidity": 0.2
             }
            },
            "type": "histogram"
           }
          ],
          "histogram2d": [
           {
            "colorbar": {
             "outlinewidth": 0,
             "ticks": ""
            },
            "colorscale": [
             [
              0,
              "#0d0887"
             ],
             [
              0.1111111111111111,
              "#46039f"
             ],
             [
              0.2222222222222222,
              "#7201a8"
             ],
             [
              0.3333333333333333,
              "#9c179e"
             ],
             [
              0.4444444444444444,
              "#bd3786"
             ],
             [
              0.5555555555555556,
              "#d8576b"
             ],
             [
              0.6666666666666666,
              "#ed7953"
             ],
             [
              0.7777777777777778,
              "#fb9f3a"
             ],
             [
              0.8888888888888888,
              "#fdca26"
             ],
             [
              1,
              "#f0f921"
             ]
            ],
            "type": "histogram2d"
           }
          ],
          "histogram2dcontour": [
           {
            "colorbar": {
             "outlinewidth": 0,
             "ticks": ""
            },
            "colorscale": [
             [
              0,
              "#0d0887"
             ],
             [
              0.1111111111111111,
              "#46039f"
             ],
             [
              0.2222222222222222,
              "#7201a8"
             ],
             [
              0.3333333333333333,
              "#9c179e"
             ],
             [
              0.4444444444444444,
              "#bd3786"
             ],
             [
              0.5555555555555556,
              "#d8576b"
             ],
             [
              0.6666666666666666,
              "#ed7953"
             ],
             [
              0.7777777777777778,
              "#fb9f3a"
             ],
             [
              0.8888888888888888,
              "#fdca26"
             ],
             [
              1,
              "#f0f921"
             ]
            ],
            "type": "histogram2dcontour"
           }
          ],
          "mesh3d": [
           {
            "colorbar": {
             "outlinewidth": 0,
             "ticks": ""
            },
            "type": "mesh3d"
           }
          ],
          "parcoords": [
           {
            "line": {
             "colorbar": {
              "outlinewidth": 0,
              "ticks": ""
             }
            },
            "type": "parcoords"
           }
          ],
          "pie": [
           {
            "automargin": true,
            "type": "pie"
           }
          ],
          "scatter": [
           {
            "fillpattern": {
             "fillmode": "overlay",
             "size": 10,
             "solidity": 0.2
            },
            "type": "scatter"
           }
          ],
          "scatter3d": [
           {
            "line": {
             "colorbar": {
              "outlinewidth": 0,
              "ticks": ""
             }
            },
            "marker": {
             "colorbar": {
              "outlinewidth": 0,
              "ticks": ""
             }
            },
            "type": "scatter3d"
           }
          ],
          "scattercarpet": [
           {
            "marker": {
             "colorbar": {
              "outlinewidth": 0,
              "ticks": ""
             }
            },
            "type": "scattercarpet"
           }
          ],
          "scattergeo": [
           {
            "marker": {
             "colorbar": {
              "outlinewidth": 0,
              "ticks": ""
             }
            },
            "type": "scattergeo"
           }
          ],
          "scattergl": [
           {
            "marker": {
             "colorbar": {
              "outlinewidth": 0,
              "ticks": ""
             }
            },
            "type": "scattergl"
           }
          ],
          "scattermapbox": [
           {
            "marker": {
             "colorbar": {
              "outlinewidth": 0,
              "ticks": ""
             }
            },
            "type": "scattermapbox"
           }
          ],
          "scatterpolar": [
           {
            "marker": {
             "colorbar": {
              "outlinewidth": 0,
              "ticks": ""
             }
            },
            "type": "scatterpolar"
           }
          ],
          "scatterpolargl": [
           {
            "marker": {
             "colorbar": {
              "outlinewidth": 0,
              "ticks": ""
             }
            },
            "type": "scatterpolargl"
           }
          ],
          "scatterternary": [
           {
            "marker": {
             "colorbar": {
              "outlinewidth": 0,
              "ticks": ""
             }
            },
            "type": "scatterternary"
           }
          ],
          "surface": [
           {
            "colorbar": {
             "outlinewidth": 0,
             "ticks": ""
            },
            "colorscale": [
             [
              0,
              "#0d0887"
             ],
             [
              0.1111111111111111,
              "#46039f"
             ],
             [
              0.2222222222222222,
              "#7201a8"
             ],
             [
              0.3333333333333333,
              "#9c179e"
             ],
             [
              0.4444444444444444,
              "#bd3786"
             ],
             [
              0.5555555555555556,
              "#d8576b"
             ],
             [
              0.6666666666666666,
              "#ed7953"
             ],
             [
              0.7777777777777778,
              "#fb9f3a"
             ],
             [
              0.8888888888888888,
              "#fdca26"
             ],
             [
              1,
              "#f0f921"
             ]
            ],
            "type": "surface"
           }
          ],
          "table": [
           {
            "cells": {
             "fill": {
              "color": "#EBF0F8"
             },
             "line": {
              "color": "white"
             }
            },
            "header": {
             "fill": {
              "color": "#C8D4E3"
             },
             "line": {
              "color": "white"
             }
            },
            "type": "table"
           }
          ]
         },
         "layout": {
          "annotationdefaults": {
           "arrowcolor": "#2a3f5f",
           "arrowhead": 0,
           "arrowwidth": 1
          },
          "autotypenumbers": "strict",
          "coloraxis": {
           "colorbar": {
            "outlinewidth": 0,
            "ticks": ""
           }
          },
          "colorscale": {
           "diverging": [
            [
             0,
             "#8e0152"
            ],
            [
             0.1,
             "#c51b7d"
            ],
            [
             0.2,
             "#de77ae"
            ],
            [
             0.3,
             "#f1b6da"
            ],
            [
             0.4,
             "#fde0ef"
            ],
            [
             0.5,
             "#f7f7f7"
            ],
            [
             0.6,
             "#e6f5d0"
            ],
            [
             0.7,
             "#b8e186"
            ],
            [
             0.8,
             "#7fbc41"
            ],
            [
             0.9,
             "#4d9221"
            ],
            [
             1,
             "#276419"
            ]
           ],
           "sequential": [
            [
             0,
             "#0d0887"
            ],
            [
             0.1111111111111111,
             "#46039f"
            ],
            [
             0.2222222222222222,
             "#7201a8"
            ],
            [
             0.3333333333333333,
             "#9c179e"
            ],
            [
             0.4444444444444444,
             "#bd3786"
            ],
            [
             0.5555555555555556,
             "#d8576b"
            ],
            [
             0.6666666666666666,
             "#ed7953"
            ],
            [
             0.7777777777777778,
             "#fb9f3a"
            ],
            [
             0.8888888888888888,
             "#fdca26"
            ],
            [
             1,
             "#f0f921"
            ]
           ],
           "sequentialminus": [
            [
             0,
             "#0d0887"
            ],
            [
             0.1111111111111111,
             "#46039f"
            ],
            [
             0.2222222222222222,
             "#7201a8"
            ],
            [
             0.3333333333333333,
             "#9c179e"
            ],
            [
             0.4444444444444444,
             "#bd3786"
            ],
            [
             0.5555555555555556,
             "#d8576b"
            ],
            [
             0.6666666666666666,
             "#ed7953"
            ],
            [
             0.7777777777777778,
             "#fb9f3a"
            ],
            [
             0.8888888888888888,
             "#fdca26"
            ],
            [
             1,
             "#f0f921"
            ]
           ]
          },
          "colorway": [
           "#636efa",
           "#EF553B",
           "#00cc96",
           "#ab63fa",
           "#FFA15A",
           "#19d3f3",
           "#FF6692",
           "#B6E880",
           "#FF97FF",
           "#FECB52"
          ],
          "font": {
           "color": "#2a3f5f"
          },
          "geo": {
           "bgcolor": "white",
           "lakecolor": "white",
           "landcolor": "#E5ECF6",
           "showlakes": true,
           "showland": true,
           "subunitcolor": "white"
          },
          "hoverlabel": {
           "align": "left"
          },
          "hovermode": "closest",
          "mapbox": {
           "style": "light"
          },
          "paper_bgcolor": "white",
          "plot_bgcolor": "#E5ECF6",
          "polar": {
           "angularaxis": {
            "gridcolor": "white",
            "linecolor": "white",
            "ticks": ""
           },
           "bgcolor": "#E5ECF6",
           "radialaxis": {
            "gridcolor": "white",
            "linecolor": "white",
            "ticks": ""
           }
          },
          "scene": {
           "xaxis": {
            "backgroundcolor": "#E5ECF6",
            "gridcolor": "white",
            "gridwidth": 2,
            "linecolor": "white",
            "showbackground": true,
            "ticks": "",
            "zerolinecolor": "white"
           },
           "yaxis": {
            "backgroundcolor": "#E5ECF6",
            "gridcolor": "white",
            "gridwidth": 2,
            "linecolor": "white",
            "showbackground": true,
            "ticks": "",
            "zerolinecolor": "white"
           },
           "zaxis": {
            "backgroundcolor": "#E5ECF6",
            "gridcolor": "white",
            "gridwidth": 2,
            "linecolor": "white",
            "showbackground": true,
            "ticks": "",
            "zerolinecolor": "white"
           }
          },
          "shapedefaults": {
           "line": {
            "color": "#2a3f5f"
           }
          },
          "ternary": {
           "aaxis": {
            "gridcolor": "white",
            "linecolor": "white",
            "ticks": ""
           },
           "baxis": {
            "gridcolor": "white",
            "linecolor": "white",
            "ticks": ""
           },
           "bgcolor": "#E5ECF6",
           "caxis": {
            "gridcolor": "white",
            "linecolor": "white",
            "ticks": ""
           }
          },
          "title": {
           "x": 0.05
          },
          "xaxis": {
           "automargin": true,
           "gridcolor": "white",
           "linecolor": "white",
           "ticks": "",
           "title": {
            "standoff": 15
           },
           "zerolinecolor": "white",
           "zerolinewidth": 2
          },
          "yaxis": {
           "automargin": true,
           "gridcolor": "white",
           "linecolor": "white",
           "ticks": "",
           "title": {
            "standoff": 15
           },
           "zerolinecolor": "white",
           "zerolinewidth": 2
          }
         }
        },
        "title": {
         "text": "ART coverage of people living with HIV - country"
        },
        "xaxis": {
         "anchor": "y",
         "categoryarray": [
          "Algeria",
          "Angola",
          "Benin",
          "Botswana",
          "Burkina Faso",
          "Burundi",
          "Cabo Verde",
          "Cameroon",
          "Central African Republic",
          "Chad",
          "Comoros",
          "Côte d'Ivoire",
          "Democratic Republic of the Congo",
          "Equatorial Guinea",
          "Eritrea",
          "Eswatini",
          "Ethiopia",
          "Gabon",
          "Gambia",
          "Ghana",
          "Guinea",
          "Guinea-Bissau",
          "Kenya",
          "Lesotho",
          "Liberia",
          "Madagascar",
          "Malawi",
          "Mali",
          "Mauritania",
          "Mauritius",
          "Mozambique",
          "Namibia",
          "Niger",
          "Nigeria",
          "Rwanda",
          "Senegal",
          "Sierra Leone",
          "South Africa",
          "South Sudan",
          "Togo",
          "Uganda",
          "United Republic of Tanzania",
          "Zambia",
          "Zimbabwe"
         ],
         "categoryorder": "array",
         "domain": [
          0,
          1
         ],
         "tickangle": 90,
         "title": {
          "text": "Country"
         }
        },
        "yaxis": {
         "anchor": "x",
         "domain": [
          0,
          1
         ],
         "title": {
          "text": "Estimated ART Coverage (%)"
         }
        }
       }
      },
      "text/html": [
       "<div>                            <div id=\"1669a202-7fe3-4f91-8b65-675e98a8e040\" class=\"plotly-graph-div\" style=\"height:525px; width:100%;\"></div>            <script type=\"text/javascript\">                require([\"plotly\"], function(Plotly) {                    window.PLOTLYENV=window.PLOTLYENV || {};                                    if (document.getElementById(\"1669a202-7fe3-4f91-8b65-675e98a8e040\")) {                    Plotly.newPlot(                        \"1669a202-7fe3-4f91-8b65-675e98a8e040\",                        [{\"alignmentgroup\":\"True\",\"hovertemplate\":\"Country=%{x}<br>Estimated ART coverage among people living with HIV (%)_median=%{y}<extra></extra>\",\"legendgroup\":\"Algeria\",\"marker\":{\"color\":\"red\",\"pattern\":{\"shape\":\"\"}},\"name\":\"Algeria\",\"offsetgroup\":\"Algeria\",\"orientation\":\"v\",\"showlegend\":true,\"textposition\":\"auto\",\"x\":[\"Algeria\"],\"xaxis\":\"x\",\"y\":[81.0],\"yaxis\":\"y\",\"type\":\"bar\"},{\"alignmentgroup\":\"True\",\"hovertemplate\":\"Country=%{x}<br>Estimated ART coverage among people living with HIV (%)_median=%{y}<extra></extra>\",\"legendgroup\":\"Angola\",\"marker\":{\"color\":\"blue\",\"pattern\":{\"shape\":\"\"}},\"name\":\"Angola\",\"offsetgroup\":\"Angola\",\"orientation\":\"v\",\"showlegend\":true,\"textposition\":\"auto\",\"x\":[\"Angola\"],\"xaxis\":\"x\",\"y\":[27.0],\"yaxis\":\"y\",\"type\":\"bar\"},{\"alignmentgroup\":\"True\",\"hovertemplate\":\"Country=%{x}<br>Estimated ART coverage among people living with HIV (%)_median=%{y}<extra></extra>\",\"legendgroup\":\"Benin\",\"marker\":{\"color\":\"green\",\"pattern\":{\"shape\":\"\"}},\"name\":\"Benin\",\"offsetgroup\":\"Benin\",\"orientation\":\"v\",\"showlegend\":true,\"textposition\":\"auto\",\"x\":[\"Benin\"],\"xaxis\":\"x\",\"y\":[61.0],\"yaxis\":\"y\",\"type\":\"bar\"},{\"alignmentgroup\":\"True\",\"hovertemplate\":\"Country=%{x}<br>Estimated ART coverage among people living with HIV (%)_median=%{y}<extra></extra>\",\"legendgroup\":\"Botswana\",\"marker\":{\"color\":\"orange\",\"pattern\":{\"shape\":\"\"}},\"name\":\"Botswana\",\"offsetgroup\":\"Botswana\",\"orientation\":\"v\",\"showlegend\":true,\"textposition\":\"auto\",\"x\":[\"Botswana\"],\"xaxis\":\"x\",\"y\":[83.0],\"yaxis\":\"y\",\"type\":\"bar\"},{\"alignmentgroup\":\"True\",\"hovertemplate\":\"Country=%{x}<br>Estimated ART coverage among people living with HIV (%)_median=%{y}<extra></extra>\",\"legendgroup\":\"Burkina Faso\",\"marker\":{\"color\":\"purple\",\"pattern\":{\"shape\":\"\"}},\"name\":\"Burkina Faso\",\"offsetgroup\":\"Burkina Faso\",\"orientation\":\"v\",\"showlegend\":true,\"textposition\":\"auto\",\"x\":[\"Burkina Faso\"],\"xaxis\":\"x\",\"y\":[62.0],\"yaxis\":\"y\",\"type\":\"bar\"},{\"alignmentgroup\":\"True\",\"hovertemplate\":\"Country=%{x}<br>Estimated ART coverage among people living with HIV (%)_median=%{y}<extra></extra>\",\"legendgroup\":\"Burundi\",\"marker\":{\"color\":\"red\",\"pattern\":{\"shape\":\"\"}},\"name\":\"Burundi\",\"offsetgroup\":\"Burundi\",\"orientation\":\"v\",\"showlegend\":true,\"textposition\":\"auto\",\"x\":[\"Burundi\"],\"xaxis\":\"x\",\"y\":[80.0],\"yaxis\":\"y\",\"type\":\"bar\"},{\"alignmentgroup\":\"True\",\"hovertemplate\":\"Country=%{x}<br>Estimated ART coverage among people living with HIV (%)_median=%{y}<extra></extra>\",\"legendgroup\":\"Cabo Verde\",\"marker\":{\"color\":\"blue\",\"pattern\":{\"shape\":\"\"}},\"name\":\"Cabo Verde\",\"offsetgroup\":\"Cabo Verde\",\"orientation\":\"v\",\"showlegend\":true,\"textposition\":\"auto\",\"x\":[\"Cabo Verde\"],\"xaxis\":\"x\",\"y\":[89.0],\"yaxis\":\"y\",\"type\":\"bar\"},{\"alignmentgroup\":\"True\",\"hovertemplate\":\"Country=%{x}<br>Estimated ART coverage among people living with HIV (%)_median=%{y}<extra></extra>\",\"legendgroup\":\"Cameroon\",\"marker\":{\"color\":\"green\",\"pattern\":{\"shape\":\"\"}},\"name\":\"Cameroon\",\"offsetgroup\":\"Cameroon\",\"orientation\":\"v\",\"showlegend\":true,\"textposition\":\"auto\",\"x\":[\"Cameroon\"],\"xaxis\":\"x\",\"y\":[52.0],\"yaxis\":\"y\",\"type\":\"bar\"},{\"alignmentgroup\":\"True\",\"hovertemplate\":\"Country=%{x}<br>Estimated ART coverage among people living with HIV (%)_median=%{y}<extra></extra>\",\"legendgroup\":\"Central African Republic\",\"marker\":{\"color\":\"orange\",\"pattern\":{\"shape\":\"\"}},\"name\":\"Central African Republic\",\"offsetgroup\":\"Central African Republic\",\"orientation\":\"v\",\"showlegend\":true,\"textposition\":\"auto\",\"x\":[\"Central African Republic\"],\"xaxis\":\"x\",\"y\":[36.0],\"yaxis\":\"y\",\"type\":\"bar\"},{\"alignmentgroup\":\"True\",\"hovertemplate\":\"Country=%{x}<br>Estimated ART coverage among people living with HIV (%)_median=%{y}<extra></extra>\",\"legendgroup\":\"Chad\",\"marker\":{\"color\":\"purple\",\"pattern\":{\"shape\":\"\"}},\"name\":\"Chad\",\"offsetgroup\":\"Chad\",\"orientation\":\"v\",\"showlegend\":true,\"textposition\":\"auto\",\"x\":[\"Chad\"],\"xaxis\":\"x\",\"y\":[51.0],\"yaxis\":\"y\",\"type\":\"bar\"},{\"alignmentgroup\":\"True\",\"hovertemplate\":\"Country=%{x}<br>Estimated ART coverage among people living with HIV (%)_median=%{y}<extra></extra>\",\"legendgroup\":\"Comoros\",\"marker\":{\"color\":\"red\",\"pattern\":{\"shape\":\"\"}},\"name\":\"Comoros\",\"offsetgroup\":\"Comoros\",\"orientation\":\"v\",\"showlegend\":true,\"textposition\":\"auto\",\"x\":[\"Comoros\"],\"xaxis\":\"x\",\"y\":[79.0],\"yaxis\":\"y\",\"type\":\"bar\"},{\"alignmentgroup\":\"True\",\"hovertemplate\":\"Country=%{x}<br>Estimated ART coverage among people living with HIV (%)_median=%{y}<extra></extra>\",\"legendgroup\":\"C\\u00f4te d'Ivoire\",\"marker\":{\"color\":\"blue\",\"pattern\":{\"shape\":\"\"}},\"name\":\"C\\u00f4te d'Ivoire\",\"offsetgroup\":\"C\\u00f4te d'Ivoire\",\"orientation\":\"v\",\"showlegend\":true,\"textposition\":\"auto\",\"x\":[\"C\\u00f4te d'Ivoire\"],\"xaxis\":\"x\",\"y\":[55.0],\"yaxis\":\"y\",\"type\":\"bar\"},{\"alignmentgroup\":\"True\",\"hovertemplate\":\"Country=%{x}<br>Estimated ART coverage among people living with HIV (%)_median=%{y}<extra></extra>\",\"legendgroup\":\"Democratic Republic of the Congo\",\"marker\":{\"color\":\"green\",\"pattern\":{\"shape\":\"\"}},\"name\":\"Democratic Republic of the Congo\",\"offsetgroup\":\"Democratic Republic of the Congo\",\"orientation\":\"v\",\"showlegend\":true,\"textposition\":\"auto\",\"x\":[\"Democratic Republic of the Congo\"],\"xaxis\":\"x\",\"y\":[57.0],\"yaxis\":\"y\",\"type\":\"bar\"},{\"alignmentgroup\":\"True\",\"hovertemplate\":\"Country=%{x}<br>Estimated ART coverage among people living with HIV (%)_median=%{y}<extra></extra>\",\"legendgroup\":\"Equatorial Guinea\",\"marker\":{\"color\":\"orange\",\"pattern\":{\"shape\":\"\"}},\"name\":\"Equatorial Guinea\",\"offsetgroup\":\"Equatorial Guinea\",\"orientation\":\"v\",\"showlegend\":true,\"textposition\":\"auto\",\"x\":[\"Equatorial Guinea\"],\"xaxis\":\"x\",\"y\":[34.0],\"yaxis\":\"y\",\"type\":\"bar\"},{\"alignmentgroup\":\"True\",\"hovertemplate\":\"Country=%{x}<br>Estimated ART coverage among people living with HIV (%)_median=%{y}<extra></extra>\",\"legendgroup\":\"Eritrea\",\"marker\":{\"color\":\"purple\",\"pattern\":{\"shape\":\"\"}},\"name\":\"Eritrea\",\"offsetgroup\":\"Eritrea\",\"orientation\":\"v\",\"showlegend\":true,\"textposition\":\"auto\",\"x\":[\"Eritrea\"],\"xaxis\":\"x\",\"y\":[51.0],\"yaxis\":\"y\",\"type\":\"bar\"},{\"alignmentgroup\":\"True\",\"hovertemplate\":\"Country=%{x}<br>Estimated ART coverage among people living with HIV (%)_median=%{y}<extra></extra>\",\"legendgroup\":\"Eswatini\",\"marker\":{\"color\":\"red\",\"pattern\":{\"shape\":\"\"}},\"name\":\"Eswatini\",\"offsetgroup\":\"Eswatini\",\"orientation\":\"v\",\"showlegend\":true,\"textposition\":\"auto\",\"x\":[\"Eswatini\"],\"xaxis\":\"x\",\"y\":[86.0],\"yaxis\":\"y\",\"type\":\"bar\"},{\"alignmentgroup\":\"True\",\"hovertemplate\":\"Country=%{x}<br>Estimated ART coverage among people living with HIV (%)_median=%{y}<extra></extra>\",\"legendgroup\":\"Ethiopia\",\"marker\":{\"color\":\"blue\",\"pattern\":{\"shape\":\"\"}},\"name\":\"Ethiopia\",\"offsetgroup\":\"Ethiopia\",\"orientation\":\"v\",\"showlegend\":true,\"textposition\":\"auto\",\"x\":[\"Ethiopia\"],\"xaxis\":\"x\",\"y\":[65.0],\"yaxis\":\"y\",\"type\":\"bar\"},{\"alignmentgroup\":\"True\",\"hovertemplate\":\"Country=%{x}<br>Estimated ART coverage among people living with HIV (%)_median=%{y}<extra></extra>\",\"legendgroup\":\"Gabon\",\"marker\":{\"color\":\"green\",\"pattern\":{\"shape\":\"\"}},\"name\":\"Gabon\",\"offsetgroup\":\"Gabon\",\"orientation\":\"v\",\"showlegend\":true,\"textposition\":\"auto\",\"x\":[\"Gabon\"],\"xaxis\":\"x\",\"y\":[67.0],\"yaxis\":\"y\",\"type\":\"bar\"},{\"alignmentgroup\":\"True\",\"hovertemplate\":\"Country=%{x}<br>Estimated ART coverage among people living with HIV (%)_median=%{y}<extra></extra>\",\"legendgroup\":\"Gambia\",\"marker\":{\"color\":\"orange\",\"pattern\":{\"shape\":\"\"}},\"name\":\"Gambia\",\"offsetgroup\":\"Gambia\",\"orientation\":\"v\",\"showlegend\":true,\"textposition\":\"auto\",\"x\":[\"Gambia\"],\"xaxis\":\"x\",\"y\":[29.0],\"yaxis\":\"y\",\"type\":\"bar\"},{\"alignmentgroup\":\"True\",\"hovertemplate\":\"Country=%{x}<br>Estimated ART coverage among people living with HIV (%)_median=%{y}<extra></extra>\",\"legendgroup\":\"Ghana\",\"marker\":{\"color\":\"purple\",\"pattern\":{\"shape\":\"\"}},\"name\":\"Ghana\",\"offsetgroup\":\"Ghana\",\"orientation\":\"v\",\"showlegend\":true,\"textposition\":\"auto\",\"x\":[\"Ghana\"],\"xaxis\":\"x\",\"y\":[34.0],\"yaxis\":\"y\",\"type\":\"bar\"},{\"alignmentgroup\":\"True\",\"hovertemplate\":\"Country=%{x}<br>Estimated ART coverage among people living with HIV (%)_median=%{y}<extra></extra>\",\"legendgroup\":\"Guinea\",\"marker\":{\"color\":\"red\",\"pattern\":{\"shape\":\"\"}},\"name\":\"Guinea\",\"offsetgroup\":\"Guinea\",\"orientation\":\"v\",\"showlegend\":true,\"textposition\":\"auto\",\"x\":[\"Guinea\"],\"xaxis\":\"x\",\"y\":[40.0],\"yaxis\":\"y\",\"type\":\"bar\"},{\"alignmentgroup\":\"True\",\"hovertemplate\":\"Country=%{x}<br>Estimated ART coverage among people living with HIV (%)_median=%{y}<extra></extra>\",\"legendgroup\":\"Guinea-Bissau\",\"marker\":{\"color\":\"blue\",\"pattern\":{\"shape\":\"\"}},\"name\":\"Guinea-Bissau\",\"offsetgroup\":\"Guinea-Bissau\",\"orientation\":\"v\",\"showlegend\":true,\"textposition\":\"auto\",\"x\":[\"Guinea-Bissau\"],\"xaxis\":\"x\",\"y\":[33.0],\"yaxis\":\"y\",\"type\":\"bar\"},{\"alignmentgroup\":\"True\",\"hovertemplate\":\"Country=%{x}<br>Estimated ART coverage among people living with HIV (%)_median=%{y}<extra></extra>\",\"legendgroup\":\"Kenya\",\"marker\":{\"color\":\"green\",\"pattern\":{\"shape\":\"\"}},\"name\":\"Kenya\",\"offsetgroup\":\"Kenya\",\"orientation\":\"v\",\"showlegend\":true,\"textposition\":\"auto\",\"x\":[\"Kenya\"],\"xaxis\":\"x\",\"y\":[68.0],\"yaxis\":\"y\",\"type\":\"bar\"},{\"alignmentgroup\":\"True\",\"hovertemplate\":\"Country=%{x}<br>Estimated ART coverage among people living with HIV (%)_median=%{y}<extra></extra>\",\"legendgroup\":\"Lesotho\",\"marker\":{\"color\":\"orange\",\"pattern\":{\"shape\":\"\"}},\"name\":\"Lesotho\",\"offsetgroup\":\"Lesotho\",\"orientation\":\"v\",\"showlegend\":true,\"textposition\":\"auto\",\"x\":[\"Lesotho\"],\"xaxis\":\"x\",\"y\":[61.0],\"yaxis\":\"y\",\"type\":\"bar\"},{\"alignmentgroup\":\"True\",\"hovertemplate\":\"Country=%{x}<br>Estimated ART coverage among people living with HIV (%)_median=%{y}<extra></extra>\",\"legendgroup\":\"Liberia\",\"marker\":{\"color\":\"purple\",\"pattern\":{\"shape\":\"\"}},\"name\":\"Liberia\",\"offsetgroup\":\"Liberia\",\"orientation\":\"v\",\"showlegend\":true,\"textposition\":\"auto\",\"x\":[\"Liberia\"],\"xaxis\":\"x\",\"y\":[35.0],\"yaxis\":\"y\",\"type\":\"bar\"},{\"alignmentgroup\":\"True\",\"hovertemplate\":\"Country=%{x}<br>Estimated ART coverage among people living with HIV (%)_median=%{y}<extra></extra>\",\"legendgroup\":\"Madagascar\",\"marker\":{\"color\":\"red\",\"pattern\":{\"shape\":\"\"}},\"name\":\"Madagascar\",\"offsetgroup\":\"Madagascar\",\"orientation\":\"v\",\"showlegend\":true,\"textposition\":\"auto\",\"x\":[\"Madagascar\"],\"xaxis\":\"x\",\"y\":[9.0],\"yaxis\":\"y\",\"type\":\"bar\"},{\"alignmentgroup\":\"True\",\"hovertemplate\":\"Country=%{x}<br>Estimated ART coverage among people living with HIV (%)_median=%{y}<extra></extra>\",\"legendgroup\":\"Malawi\",\"marker\":{\"color\":\"blue\",\"pattern\":{\"shape\":\"\"}},\"name\":\"Malawi\",\"offsetgroup\":\"Malawi\",\"orientation\":\"v\",\"showlegend\":true,\"textposition\":\"auto\",\"x\":[\"Malawi\"],\"xaxis\":\"x\",\"y\":[78.0],\"yaxis\":\"y\",\"type\":\"bar\"},{\"alignmentgroup\":\"True\",\"hovertemplate\":\"Country=%{x}<br>Estimated ART coverage among people living with HIV (%)_median=%{y}<extra></extra>\",\"legendgroup\":\"Mali\",\"marker\":{\"color\":\"green\",\"pattern\":{\"shape\":\"\"}},\"name\":\"Mali\",\"offsetgroup\":\"Mali\",\"orientation\":\"v\",\"showlegend\":true,\"textposition\":\"auto\",\"x\":[\"Mali\"],\"xaxis\":\"x\",\"y\":[31.0],\"yaxis\":\"y\",\"type\":\"bar\"},{\"alignmentgroup\":\"True\",\"hovertemplate\":\"Country=%{x}<br>Estimated ART coverage among people living with HIV (%)_median=%{y}<extra></extra>\",\"legendgroup\":\"Mauritania\",\"marker\":{\"color\":\"orange\",\"pattern\":{\"shape\":\"\"}},\"name\":\"Mauritania\",\"offsetgroup\":\"Mauritania\",\"orientation\":\"v\",\"showlegend\":true,\"textposition\":\"auto\",\"x\":[\"Mauritania\"],\"xaxis\":\"x\",\"y\":[54.0],\"yaxis\":\"y\",\"type\":\"bar\"},{\"alignmentgroup\":\"True\",\"hovertemplate\":\"Country=%{x}<br>Estimated ART coverage among people living with HIV (%)_median=%{y}<extra></extra>\",\"legendgroup\":\"Mauritius\",\"marker\":{\"color\":\"purple\",\"pattern\":{\"shape\":\"\"}},\"name\":\"Mauritius\",\"offsetgroup\":\"Mauritius\",\"orientation\":\"v\",\"showlegend\":true,\"textposition\":\"auto\",\"x\":[\"Mauritius\"],\"xaxis\":\"x\",\"y\":[22.0],\"yaxis\":\"y\",\"type\":\"bar\"},{\"alignmentgroup\":\"True\",\"hovertemplate\":\"Country=%{x}<br>Estimated ART coverage among people living with HIV (%)_median=%{y}<extra></extra>\",\"legendgroup\":\"Mozambique\",\"marker\":{\"color\":\"red\",\"pattern\":{\"shape\":\"\"}},\"name\":\"Mozambique\",\"offsetgroup\":\"Mozambique\",\"orientation\":\"v\",\"showlegend\":true,\"textposition\":\"auto\",\"x\":[\"Mozambique\"],\"xaxis\":\"x\",\"y\":[56.0],\"yaxis\":\"y\",\"type\":\"bar\"},{\"alignmentgroup\":\"True\",\"hovertemplate\":\"Country=%{x}<br>Estimated ART coverage among people living with HIV (%)_median=%{y}<extra></extra>\",\"legendgroup\":\"Namibia\",\"marker\":{\"color\":\"blue\",\"pattern\":{\"shape\":\"\"}},\"name\":\"Namibia\",\"offsetgroup\":\"Namibia\",\"orientation\":\"v\",\"showlegend\":true,\"textposition\":\"auto\",\"x\":[\"Namibia\"],\"xaxis\":\"x\",\"y\":[92.0],\"yaxis\":\"y\",\"type\":\"bar\"},{\"alignmentgroup\":\"True\",\"hovertemplate\":\"Country=%{x}<br>Estimated ART coverage among people living with HIV (%)_median=%{y}<extra></extra>\",\"legendgroup\":\"Niger\",\"marker\":{\"color\":\"green\",\"pattern\":{\"shape\":\"\"}},\"name\":\"Niger\",\"offsetgroup\":\"Niger\",\"orientation\":\"v\",\"showlegend\":true,\"textposition\":\"auto\",\"x\":[\"Niger\"],\"xaxis\":\"x\",\"y\":[54.0],\"yaxis\":\"y\",\"type\":\"bar\"},{\"alignmentgroup\":\"True\",\"hovertemplate\":\"Country=%{x}<br>Estimated ART coverage among people living with HIV (%)_median=%{y}<extra></extra>\",\"legendgroup\":\"Nigeria\",\"marker\":{\"color\":\"orange\",\"pattern\":{\"shape\":\"\"}},\"name\":\"Nigeria\",\"offsetgroup\":\"Nigeria\",\"orientation\":\"v\",\"showlegend\":true,\"textposition\":\"auto\",\"x\":[\"Nigeria\"],\"xaxis\":\"x\",\"y\":[53.0],\"yaxis\":\"y\",\"type\":\"bar\"},{\"alignmentgroup\":\"True\",\"hovertemplate\":\"Country=%{x}<br>Estimated ART coverage among people living with HIV (%)_median=%{y}<extra></extra>\",\"legendgroup\":\"Rwanda\",\"marker\":{\"color\":\"purple\",\"pattern\":{\"shape\":\"\"}},\"name\":\"Rwanda\",\"offsetgroup\":\"Rwanda\",\"orientation\":\"v\",\"showlegend\":true,\"textposition\":\"auto\",\"x\":[\"Rwanda\"],\"xaxis\":\"x\",\"y\":[87.0],\"yaxis\":\"y\",\"type\":\"bar\"},{\"alignmentgroup\":\"True\",\"hovertemplate\":\"Country=%{x}<br>Estimated ART coverage among people living with HIV (%)_median=%{y}<extra></extra>\",\"legendgroup\":\"Senegal\",\"marker\":{\"color\":\"red\",\"pattern\":{\"shape\":\"\"}},\"name\":\"Senegal\",\"offsetgroup\":\"Senegal\",\"orientation\":\"v\",\"showlegend\":true,\"textposition\":\"auto\",\"x\":[\"Senegal\"],\"xaxis\":\"x\",\"y\":[63.0],\"yaxis\":\"y\",\"type\":\"bar\"},{\"alignmentgroup\":\"True\",\"hovertemplate\":\"Country=%{x}<br>Estimated ART coverage among people living with HIV (%)_median=%{y}<extra></extra>\",\"legendgroup\":\"Sierra Leone\",\"marker\":{\"color\":\"blue\",\"pattern\":{\"shape\":\"\"}},\"name\":\"Sierra Leone\",\"offsetgroup\":\"Sierra Leone\",\"orientation\":\"v\",\"showlegend\":true,\"textposition\":\"auto\",\"x\":[\"Sierra Leone\"],\"xaxis\":\"x\",\"y\":[41.0],\"yaxis\":\"y\",\"type\":\"bar\"},{\"alignmentgroup\":\"True\",\"hovertemplate\":\"Country=%{x}<br>Estimated ART coverage among people living with HIV (%)_median=%{y}<extra></extra>\",\"legendgroup\":\"South Africa\",\"marker\":{\"color\":\"green\",\"pattern\":{\"shape\":\"\"}},\"name\":\"South Africa\",\"offsetgroup\":\"South Africa\",\"orientation\":\"v\",\"showlegend\":true,\"textposition\":\"auto\",\"x\":[\"South Africa\"],\"xaxis\":\"x\",\"y\":[62.0],\"yaxis\":\"y\",\"type\":\"bar\"},{\"alignmentgroup\":\"True\",\"hovertemplate\":\"Country=%{x}<br>Estimated ART coverage among people living with HIV (%)_median=%{y}<extra></extra>\",\"legendgroup\":\"South Sudan\",\"marker\":{\"color\":\"orange\",\"pattern\":{\"shape\":\"\"}},\"name\":\"South Sudan\",\"offsetgroup\":\"South Sudan\",\"orientation\":\"v\",\"showlegend\":true,\"textposition\":\"auto\",\"x\":[\"South Sudan\"],\"xaxis\":\"x\",\"y\":[16.0],\"yaxis\":\"y\",\"type\":\"bar\"},{\"alignmentgroup\":\"True\",\"hovertemplate\":\"Country=%{x}<br>Estimated ART coverage among people living with HIV (%)_median=%{y}<extra></extra>\",\"legendgroup\":\"Togo\",\"marker\":{\"color\":\"purple\",\"pattern\":{\"shape\":\"\"}},\"name\":\"Togo\",\"offsetgroup\":\"Togo\",\"orientation\":\"v\",\"showlegend\":true,\"textposition\":\"auto\",\"x\":[\"Togo\"],\"xaxis\":\"x\",\"y\":[60.0],\"yaxis\":\"y\",\"type\":\"bar\"},{\"alignmentgroup\":\"True\",\"hovertemplate\":\"Country=%{x}<br>Estimated ART coverage among people living with HIV (%)_median=%{y}<extra></extra>\",\"legendgroup\":\"Uganda\",\"marker\":{\"color\":\"red\",\"pattern\":{\"shape\":\"\"}},\"name\":\"Uganda\",\"offsetgroup\":\"Uganda\",\"orientation\":\"v\",\"showlegend\":true,\"textposition\":\"auto\",\"x\":[\"Uganda\"],\"xaxis\":\"x\",\"y\":[72.0],\"yaxis\":\"y\",\"type\":\"bar\"},{\"alignmentgroup\":\"True\",\"hovertemplate\":\"Country=%{x}<br>Estimated ART coverage among people living with HIV (%)_median=%{y}<extra></extra>\",\"legendgroup\":\"United Republic of Tanzania\",\"marker\":{\"color\":\"blue\",\"pattern\":{\"shape\":\"\"}},\"name\":\"United Republic of Tanzania\",\"offsetgroup\":\"United Republic of Tanzania\",\"orientation\":\"v\",\"showlegend\":true,\"textposition\":\"auto\",\"x\":[\"United Republic of Tanzania\"],\"xaxis\":\"x\",\"y\":[71.0],\"yaxis\":\"y\",\"type\":\"bar\"},{\"alignmentgroup\":\"True\",\"hovertemplate\":\"Country=%{x}<br>Estimated ART coverage among people living with HIV (%)_median=%{y}<extra></extra>\",\"legendgroup\":\"Zambia\",\"marker\":{\"color\":\"green\",\"pattern\":{\"shape\":\"\"}},\"name\":\"Zambia\",\"offsetgroup\":\"Zambia\",\"orientation\":\"v\",\"showlegend\":true,\"textposition\":\"auto\",\"x\":[\"Zambia\"],\"xaxis\":\"x\",\"y\":[78.0],\"yaxis\":\"y\",\"type\":\"bar\"},{\"alignmentgroup\":\"True\",\"hovertemplate\":\"Country=%{x}<br>Estimated ART coverage among people living with HIV (%)_median=%{y}<extra></extra>\",\"legendgroup\":\"Zimbabwe\",\"marker\":{\"color\":\"orange\",\"pattern\":{\"shape\":\"\"}},\"name\":\"Zimbabwe\",\"offsetgroup\":\"Zimbabwe\",\"orientation\":\"v\",\"showlegend\":true,\"textposition\":\"auto\",\"x\":[\"Zimbabwe\"],\"xaxis\":\"x\",\"y\":[88.0],\"yaxis\":\"y\",\"type\":\"bar\"}],                        {\"template\":{\"data\":{\"histogram2dcontour\":[{\"type\":\"histogram2dcontour\",\"colorbar\":{\"outlinewidth\":0,\"ticks\":\"\"},\"colorscale\":[[0.0,\"#0d0887\"],[0.1111111111111111,\"#46039f\"],[0.2222222222222222,\"#7201a8\"],[0.3333333333333333,\"#9c179e\"],[0.4444444444444444,\"#bd3786\"],[0.5555555555555556,\"#d8576b\"],[0.6666666666666666,\"#ed7953\"],[0.7777777777777778,\"#fb9f3a\"],[0.8888888888888888,\"#fdca26\"],[1.0,\"#f0f921\"]]}],\"choropleth\":[{\"type\":\"choropleth\",\"colorbar\":{\"outlinewidth\":0,\"ticks\":\"\"}}],\"histogram2d\":[{\"type\":\"histogram2d\",\"colorbar\":{\"outlinewidth\":0,\"ticks\":\"\"},\"colorscale\":[[0.0,\"#0d0887\"],[0.1111111111111111,\"#46039f\"],[0.2222222222222222,\"#7201a8\"],[0.3333333333333333,\"#9c179e\"],[0.4444444444444444,\"#bd3786\"],[0.5555555555555556,\"#d8576b\"],[0.6666666666666666,\"#ed7953\"],[0.7777777777777778,\"#fb9f3a\"],[0.8888888888888888,\"#fdca26\"],[1.0,\"#f0f921\"]]}],\"heatmap\":[{\"type\":\"heatmap\",\"colorbar\":{\"outlinewidth\":0,\"ticks\":\"\"},\"colorscale\":[[0.0,\"#0d0887\"],[0.1111111111111111,\"#46039f\"],[0.2222222222222222,\"#7201a8\"],[0.3333333333333333,\"#9c179e\"],[0.4444444444444444,\"#bd3786\"],[0.5555555555555556,\"#d8576b\"],[0.6666666666666666,\"#ed7953\"],[0.7777777777777778,\"#fb9f3a\"],[0.8888888888888888,\"#fdca26\"],[1.0,\"#f0f921\"]]}],\"heatmapgl\":[{\"type\":\"heatmapgl\",\"colorbar\":{\"outlinewidth\":0,\"ticks\":\"\"},\"colorscale\":[[0.0,\"#0d0887\"],[0.1111111111111111,\"#46039f\"],[0.2222222222222222,\"#7201a8\"],[0.3333333333333333,\"#9c179e\"],[0.4444444444444444,\"#bd3786\"],[0.5555555555555556,\"#d8576b\"],[0.6666666666666666,\"#ed7953\"],[0.7777777777777778,\"#fb9f3a\"],[0.8888888888888888,\"#fdca26\"],[1.0,\"#f0f921\"]]}],\"contourcarpet\":[{\"type\":\"contourcarpet\",\"colorbar\":{\"outlinewidth\":0,\"ticks\":\"\"}}],\"contour\":[{\"type\":\"contour\",\"colorbar\":{\"outlinewidth\":0,\"ticks\":\"\"},\"colorscale\":[[0.0,\"#0d0887\"],[0.1111111111111111,\"#46039f\"],[0.2222222222222222,\"#7201a8\"],[0.3333333333333333,\"#9c179e\"],[0.4444444444444444,\"#bd3786\"],[0.5555555555555556,\"#d8576b\"],[0.6666666666666666,\"#ed7953\"],[0.7777777777777778,\"#fb9f3a\"],[0.8888888888888888,\"#fdca26\"],[1.0,\"#f0f921\"]]}],\"surface\":[{\"type\":\"surface\",\"colorbar\":{\"outlinewidth\":0,\"ticks\":\"\"},\"colorscale\":[[0.0,\"#0d0887\"],[0.1111111111111111,\"#46039f\"],[0.2222222222222222,\"#7201a8\"],[0.3333333333333333,\"#9c179e\"],[0.4444444444444444,\"#bd3786\"],[0.5555555555555556,\"#d8576b\"],[0.6666666666666666,\"#ed7953\"],[0.7777777777777778,\"#fb9f3a\"],[0.8888888888888888,\"#fdca26\"],[1.0,\"#f0f921\"]]}],\"mesh3d\":[{\"type\":\"mesh3d\",\"colorbar\":{\"outlinewidth\":0,\"ticks\":\"\"}}],\"scatter\":[{\"fillpattern\":{\"fillmode\":\"overlay\",\"size\":10,\"solidity\":0.2},\"type\":\"scatter\"}],\"parcoords\":[{\"type\":\"parcoords\",\"line\":{\"colorbar\":{\"outlinewidth\":0,\"ticks\":\"\"}}}],\"scatterpolargl\":[{\"type\":\"scatterpolargl\",\"marker\":{\"colorbar\":{\"outlinewidth\":0,\"ticks\":\"\"}}}],\"bar\":[{\"error_x\":{\"color\":\"#2a3f5f\"},\"error_y\":{\"color\":\"#2a3f5f\"},\"marker\":{\"line\":{\"color\":\"#E5ECF6\",\"width\":0.5},\"pattern\":{\"fillmode\":\"overlay\",\"size\":10,\"solidity\":0.2}},\"type\":\"bar\"}],\"scattergeo\":[{\"type\":\"scattergeo\",\"marker\":{\"colorbar\":{\"outlinewidth\":0,\"ticks\":\"\"}}}],\"scatterpolar\":[{\"type\":\"scatterpolar\",\"marker\":{\"colorbar\":{\"outlinewidth\":0,\"ticks\":\"\"}}}],\"histogram\":[{\"marker\":{\"pattern\":{\"fillmode\":\"overlay\",\"size\":10,\"solidity\":0.2}},\"type\":\"histogram\"}],\"scattergl\":[{\"type\":\"scattergl\",\"marker\":{\"colorbar\":{\"outlinewidth\":0,\"ticks\":\"\"}}}],\"scatter3d\":[{\"type\":\"scatter3d\",\"line\":{\"colorbar\":{\"outlinewidth\":0,\"ticks\":\"\"}},\"marker\":{\"colorbar\":{\"outlinewidth\":0,\"ticks\":\"\"}}}],\"scattermapbox\":[{\"type\":\"scattermapbox\",\"marker\":{\"colorbar\":{\"outlinewidth\":0,\"ticks\":\"\"}}}],\"scatterternary\":[{\"type\":\"scatterternary\",\"marker\":{\"colorbar\":{\"outlinewidth\":0,\"ticks\":\"\"}}}],\"scattercarpet\":[{\"type\":\"scattercarpet\",\"marker\":{\"colorbar\":{\"outlinewidth\":0,\"ticks\":\"\"}}}],\"carpet\":[{\"aaxis\":{\"endlinecolor\":\"#2a3f5f\",\"gridcolor\":\"white\",\"linecolor\":\"white\",\"minorgridcolor\":\"white\",\"startlinecolor\":\"#2a3f5f\"},\"baxis\":{\"endlinecolor\":\"#2a3f5f\",\"gridcolor\":\"white\",\"linecolor\":\"white\",\"minorgridcolor\":\"white\",\"startlinecolor\":\"#2a3f5f\"},\"type\":\"carpet\"}],\"table\":[{\"cells\":{\"fill\":{\"color\":\"#EBF0F8\"},\"line\":{\"color\":\"white\"}},\"header\":{\"fill\":{\"color\":\"#C8D4E3\"},\"line\":{\"color\":\"white\"}},\"type\":\"table\"}],\"barpolar\":[{\"marker\":{\"line\":{\"color\":\"#E5ECF6\",\"width\":0.5},\"pattern\":{\"fillmode\":\"overlay\",\"size\":10,\"solidity\":0.2}},\"type\":\"barpolar\"}],\"pie\":[{\"automargin\":true,\"type\":\"pie\"}]},\"layout\":{\"autotypenumbers\":\"strict\",\"colorway\":[\"#636efa\",\"#EF553B\",\"#00cc96\",\"#ab63fa\",\"#FFA15A\",\"#19d3f3\",\"#FF6692\",\"#B6E880\",\"#FF97FF\",\"#FECB52\"],\"font\":{\"color\":\"#2a3f5f\"},\"hovermode\":\"closest\",\"hoverlabel\":{\"align\":\"left\"},\"paper_bgcolor\":\"white\",\"plot_bgcolor\":\"#E5ECF6\",\"polar\":{\"bgcolor\":\"#E5ECF6\",\"angularaxis\":{\"gridcolor\":\"white\",\"linecolor\":\"white\",\"ticks\":\"\"},\"radialaxis\":{\"gridcolor\":\"white\",\"linecolor\":\"white\",\"ticks\":\"\"}},\"ternary\":{\"bgcolor\":\"#E5ECF6\",\"aaxis\":{\"gridcolor\":\"white\",\"linecolor\":\"white\",\"ticks\":\"\"},\"baxis\":{\"gridcolor\":\"white\",\"linecolor\":\"white\",\"ticks\":\"\"},\"caxis\":{\"gridcolor\":\"white\",\"linecolor\":\"white\",\"ticks\":\"\"}},\"coloraxis\":{\"colorbar\":{\"outlinewidth\":0,\"ticks\":\"\"}},\"colorscale\":{\"sequential\":[[0.0,\"#0d0887\"],[0.1111111111111111,\"#46039f\"],[0.2222222222222222,\"#7201a8\"],[0.3333333333333333,\"#9c179e\"],[0.4444444444444444,\"#bd3786\"],[0.5555555555555556,\"#d8576b\"],[0.6666666666666666,\"#ed7953\"],[0.7777777777777778,\"#fb9f3a\"],[0.8888888888888888,\"#fdca26\"],[1.0,\"#f0f921\"]],\"sequentialminus\":[[0.0,\"#0d0887\"],[0.1111111111111111,\"#46039f\"],[0.2222222222222222,\"#7201a8\"],[0.3333333333333333,\"#9c179e\"],[0.4444444444444444,\"#bd3786\"],[0.5555555555555556,\"#d8576b\"],[0.6666666666666666,\"#ed7953\"],[0.7777777777777778,\"#fb9f3a\"],[0.8888888888888888,\"#fdca26\"],[1.0,\"#f0f921\"]],\"diverging\":[[0,\"#8e0152\"],[0.1,\"#c51b7d\"],[0.2,\"#de77ae\"],[0.3,\"#f1b6da\"],[0.4,\"#fde0ef\"],[0.5,\"#f7f7f7\"],[0.6,\"#e6f5d0\"],[0.7,\"#b8e186\"],[0.8,\"#7fbc41\"],[0.9,\"#4d9221\"],[1,\"#276419\"]]},\"xaxis\":{\"gridcolor\":\"white\",\"linecolor\":\"white\",\"ticks\":\"\",\"title\":{\"standoff\":15},\"zerolinecolor\":\"white\",\"automargin\":true,\"zerolinewidth\":2},\"yaxis\":{\"gridcolor\":\"white\",\"linecolor\":\"white\",\"ticks\":\"\",\"title\":{\"standoff\":15},\"zerolinecolor\":\"white\",\"automargin\":true,\"zerolinewidth\":2},\"scene\":{\"xaxis\":{\"backgroundcolor\":\"#E5ECF6\",\"gridcolor\":\"white\",\"linecolor\":\"white\",\"showbackground\":true,\"ticks\":\"\",\"zerolinecolor\":\"white\",\"gridwidth\":2},\"yaxis\":{\"backgroundcolor\":\"#E5ECF6\",\"gridcolor\":\"white\",\"linecolor\":\"white\",\"showbackground\":true,\"ticks\":\"\",\"zerolinecolor\":\"white\",\"gridwidth\":2},\"zaxis\":{\"backgroundcolor\":\"#E5ECF6\",\"gridcolor\":\"white\",\"linecolor\":\"white\",\"showbackground\":true,\"ticks\":\"\",\"zerolinecolor\":\"white\",\"gridwidth\":2}},\"shapedefaults\":{\"line\":{\"color\":\"#2a3f5f\"}},\"annotationdefaults\":{\"arrowcolor\":\"#2a3f5f\",\"arrowhead\":0,\"arrowwidth\":1},\"geo\":{\"bgcolor\":\"white\",\"landcolor\":\"#E5ECF6\",\"subunitcolor\":\"white\",\"showland\":true,\"showlakes\":true,\"lakecolor\":\"white\"},\"title\":{\"x\":0.05},\"mapbox\":{\"style\":\"light\"}}},\"xaxis\":{\"anchor\":\"y\",\"domain\":[0.0,1.0],\"title\":{\"text\":\"Country\"},\"categoryorder\":\"array\",\"categoryarray\":[\"Algeria\",\"Angola\",\"Benin\",\"Botswana\",\"Burkina Faso\",\"Burundi\",\"Cabo Verde\",\"Cameroon\",\"Central African Republic\",\"Chad\",\"Comoros\",\"C\\u00f4te d'Ivoire\",\"Democratic Republic of the Congo\",\"Equatorial Guinea\",\"Eritrea\",\"Eswatini\",\"Ethiopia\",\"Gabon\",\"Gambia\",\"Ghana\",\"Guinea\",\"Guinea-Bissau\",\"Kenya\",\"Lesotho\",\"Liberia\",\"Madagascar\",\"Malawi\",\"Mali\",\"Mauritania\",\"Mauritius\",\"Mozambique\",\"Namibia\",\"Niger\",\"Nigeria\",\"Rwanda\",\"Senegal\",\"Sierra Leone\",\"South Africa\",\"South Sudan\",\"Togo\",\"Uganda\",\"United Republic of Tanzania\",\"Zambia\",\"Zimbabwe\"],\"tickangle\":90},\"yaxis\":{\"anchor\":\"x\",\"domain\":[0.0,1.0],\"title\":{\"text\":\"Estimated ART Coverage (%)\"}},\"legend\":{\"title\":{\"text\":\"Country\"},\"tracegroupgap\":0},\"title\":{\"text\":\"ART coverage of people living with HIV - country\"},\"barmode\":\"relative\",\"plot_bgcolor\":\"lightgray\"},                        {\"responsive\": true}                    ).then(function(){\n",
       "                            \n",
       "var gd = document.getElementById('1669a202-7fe3-4f91-8b65-675e98a8e040');\n",
       "var x = new MutationObserver(function (mutations, observer) {{\n",
       "        var display = window.getComputedStyle(gd).display;\n",
       "        if (!display || display === 'none') {{\n",
       "            console.log([gd, 'removed!']);\n",
       "            Plotly.purge(gd);\n",
       "            observer.disconnect();\n",
       "        }}\n",
       "}});\n",
       "\n",
       "// Listen for the removal of the full notebook cells\n",
       "var notebookContainer = gd.closest('#notebook-container');\n",
       "if (notebookContainer) {{\n",
       "    x.observe(notebookContainer, {childList: true});\n",
       "}}\n",
       "\n",
       "// Listen for the clearing of the current output cell\n",
       "var outputEl = gd.closest('.output');\n",
       "if (outputEl) {{\n",
       "    x.observe(outputEl, {childList: true});\n",
       "}}\n",
       "\n",
       "                        })                };                });            </script>        </div>"
      ]
     },
     "metadata": {},
     "output_type": "display_data"
    }
   ],
   "source": [
    "# Define a color scale (you can customize this)\n",
    "colors = ['red', 'blue', 'green', 'orange', 'purple']\n",
    "\n",
    "# Create a Plotly Express bar chart with colors\n",
    "fig = px.bar(ARTcoverage, x=ARTcoverage.index, y='Estimated ART coverage among people living with HIV (%)_median',\n",
    "             title=\"ART coverage of people living with HIV - country\", color=ARTcoverage.index, color_discrete_sequence=colors)\n",
    "\n",
    "# Customize the layout\n",
    "fig.update_layout(\n",
    "    xaxis_title=\"Country\",\n",
    "    yaxis_title=\"Estimated ART Coverage (%)\",\n",
    "    xaxis=dict(tickangle=90),\n",
    "    plot_bgcolor='lightgray',  # Set the background color\n",
    ")\n",
    "\n",
    "# Show the plot\n",
    "fig.show()\n",
    "\n"
   ]
  },
  {
   "cell_type": "markdown",
   "id": "4b01cece",
   "metadata": {},
   "source": [
    "#### Although the number of people receiving ART is more in South Africa, average % wise is high in Namibia,Cabo Verde and Zimbabwe.\n",
    "\n",
    "## ART (Anti Retro-viral Therapy) coverage among children estimates:"
   ]
  },
  {
   "cell_type": "code",
   "execution_count": 193,
   "id": "62e342f9",
   "metadata": {
    "collapsed": true
   },
   "outputs": [
    {
     "data": {
      "text/plain": [
       "770        2\n",
       "1900       2\n",
       "3400       2\n",
       "No data    2\n",
       "8600       2\n",
       "1400       1\n",
       "180        1\n",
       "40         1\n",
       "86 900     1\n",
       "1300       1\n",
       "50 200     1\n",
       "7500       1\n",
       "163 000    1\n",
       "1100       1\n",
       "90         1\n",
       "1500       1\n",
       "4200       1\n",
       "67 100     1\n",
       "59 600     1\n",
       "49 100     1\n",
       "45 100     1\n",
       "74 300     1\n",
       "680        1\n",
       "16 000     1\n",
       "2000       1\n",
       "5400       1\n",
       "10 300     1\n",
       "2500       1\n",
       "2600       1\n",
       "12 300     1\n",
       "500        1\n",
       "8500       1\n",
       "21 500     1\n",
       "550        1\n",
       "5900       1\n",
       "2100       1\n",
       "350        1\n",
       "4800       1\n",
       "63 900     1\n",
       "Name: Reported number of children receiving ART, dtype: int64"
      ]
     },
     "execution_count": 193,
     "metadata": {},
     "output_type": "execute_result"
    }
   ],
   "source": [
    "afr_pediatricCoverage_df['Reported number of children receiving ART'].value_counts()"
   ]
  },
  {
   "cell_type": "markdown",
   "id": "3af804a9",
   "metadata": {},
   "source": [
    "##### \\* The value \"No data\" is replaced with 0. \\*"
   ]
  },
  {
   "cell_type": "code",
   "execution_count": 194,
   "id": "447d8569",
   "metadata": {},
   "outputs": [],
   "source": [
    "afr_pediatricCoverage_df['Reported number of children receiving ART'].replace(\"No data\", 0, inplace=True)\n",
    "afr_pediatricCoverage_df['Reported number of children receiving ART'] = pd.to_numeric(afr_pediatricCoverage_df['Reported number of children receiving ART'], errors=\"coerce\")\n",
    "afr_pediatricCoverage_df['Reported number of children receiving ART'] = afr_pediatricCoverage_df['Reported number of children receiving ART'].astype(float)"
   ]
  },
  {
   "cell_type": "code",
   "execution_count": 195,
   "id": "517906f5",
   "metadata": {
    "collapsed": true
   },
   "outputs": [
    {
     "data": {
      "text/html": [
       "<div>\n",
       "<style scoped>\n",
       "    .dataframe tbody tr th:only-of-type {\n",
       "        vertical-align: middle;\n",
       "    }\n",
       "\n",
       "    .dataframe tbody tr th {\n",
       "        vertical-align: top;\n",
       "    }\n",
       "\n",
       "    .dataframe thead th {\n",
       "        text-align: right;\n",
       "    }\n",
       "</style>\n",
       "<table border=\"1\" class=\"dataframe\">\n",
       "  <thead>\n",
       "    <tr style=\"text-align: right;\">\n",
       "      <th></th>\n",
       "      <th>Reported number of children receiving ART</th>\n",
       "    </tr>\n",
       "    <tr>\n",
       "      <th>Country</th>\n",
       "      <th></th>\n",
       "    </tr>\n",
       "  </thead>\n",
       "  <tbody>\n",
       "    <tr>\n",
       "      <th>Algeria</th>\n",
       "      <td>770.0</td>\n",
       "    </tr>\n",
       "    <tr>\n",
       "      <th>Angola</th>\n",
       "      <td>4800.0</td>\n",
       "    </tr>\n",
       "    <tr>\n",
       "      <th>Benin</th>\n",
       "      <td>2000.0</td>\n",
       "    </tr>\n",
       "    <tr>\n",
       "      <th>Botswana</th>\n",
       "      <td>5400.0</td>\n",
       "    </tr>\n",
       "    <tr>\n",
       "      <th>Burkina Faso</th>\n",
       "      <td>1900.0</td>\n",
       "    </tr>\n",
       "    <tr>\n",
       "      <th>Burundi</th>\n",
       "      <td>3400.0</td>\n",
       "    </tr>\n",
       "    <tr>\n",
       "      <th>Cabo Verde</th>\n",
       "      <td>0.0</td>\n",
       "    </tr>\n",
       "    <tr>\n",
       "      <th>Cameroon</th>\n",
       "      <td>NaN</td>\n",
       "    </tr>\n",
       "    <tr>\n",
       "      <th>Central African Republic</th>\n",
       "      <td>2500.0</td>\n",
       "    </tr>\n",
       "    <tr>\n",
       "      <th>Chad</th>\n",
       "      <td>2600.0</td>\n",
       "    </tr>\n",
       "    <tr>\n",
       "      <th>Comoros</th>\n",
       "      <td>0.0</td>\n",
       "    </tr>\n",
       "    <tr>\n",
       "      <th>Côte d'Ivoire</th>\n",
       "      <td>NaN</td>\n",
       "    </tr>\n",
       "    <tr>\n",
       "      <th>Democratic Republic of the Congo</th>\n",
       "      <td>NaN</td>\n",
       "    </tr>\n",
       "    <tr>\n",
       "      <th>Equatorial Guinea</th>\n",
       "      <td>770.0</td>\n",
       "    </tr>\n",
       "    <tr>\n",
       "      <th>Eritrea</th>\n",
       "      <td>500.0</td>\n",
       "    </tr>\n",
       "    <tr>\n",
       "      <th>Eswatini</th>\n",
       "      <td>8600.0</td>\n",
       "    </tr>\n",
       "    <tr>\n",
       "      <th>Ethiopia</th>\n",
       "      <td>NaN</td>\n",
       "    </tr>\n",
       "    <tr>\n",
       "      <th>Gabon</th>\n",
       "      <td>1900.0</td>\n",
       "    </tr>\n",
       "    <tr>\n",
       "      <th>Gambia</th>\n",
       "      <td>550.0</td>\n",
       "    </tr>\n",
       "    <tr>\n",
       "      <th>Ghana</th>\n",
       "      <td>5900.0</td>\n",
       "    </tr>\n",
       "    <tr>\n",
       "      <th>Guinea</th>\n",
       "      <td>2100.0</td>\n",
       "    </tr>\n",
       "    <tr>\n",
       "      <th>Guinea-Bissau</th>\n",
       "      <td>350.0</td>\n",
       "    </tr>\n",
       "    <tr>\n",
       "      <th>Kenya</th>\n",
       "      <td>NaN</td>\n",
       "    </tr>\n",
       "    <tr>\n",
       "      <th>Lesotho</th>\n",
       "      <td>8500.0</td>\n",
       "    </tr>\n",
       "    <tr>\n",
       "      <th>Liberia</th>\n",
       "      <td>680.0</td>\n",
       "    </tr>\n",
       "    <tr>\n",
       "      <th>Madagascar</th>\n",
       "      <td>90.0</td>\n",
       "    </tr>\n",
       "    <tr>\n",
       "      <th>Malawi</th>\n",
       "      <td>NaN</td>\n",
       "    </tr>\n",
       "    <tr>\n",
       "      <th>Mali</th>\n",
       "      <td>3400.0</td>\n",
       "    </tr>\n",
       "    <tr>\n",
       "      <th>Mauritania</th>\n",
       "      <td>180.0</td>\n",
       "    </tr>\n",
       "    <tr>\n",
       "      <th>Mauritius</th>\n",
       "      <td>40.0</td>\n",
       "    </tr>\n",
       "    <tr>\n",
       "      <th>Mozambique</th>\n",
       "      <td>NaN</td>\n",
       "    </tr>\n",
       "    <tr>\n",
       "      <th>Namibia</th>\n",
       "      <td>8600.0</td>\n",
       "    </tr>\n",
       "    <tr>\n",
       "      <th>Niger</th>\n",
       "      <td>1300.0</td>\n",
       "    </tr>\n",
       "    <tr>\n",
       "      <th>Nigeria</th>\n",
       "      <td>NaN</td>\n",
       "    </tr>\n",
       "    <tr>\n",
       "      <th>Rwanda</th>\n",
       "      <td>7500.0</td>\n",
       "    </tr>\n",
       "    <tr>\n",
       "      <th>Senegal</th>\n",
       "      <td>1400.0</td>\n",
       "    </tr>\n",
       "    <tr>\n",
       "      <th>Sierra Leone</th>\n",
       "      <td>1100.0</td>\n",
       "    </tr>\n",
       "    <tr>\n",
       "      <th>South Africa</th>\n",
       "      <td>NaN</td>\n",
       "    </tr>\n",
       "    <tr>\n",
       "      <th>South Sudan</th>\n",
       "      <td>1500.0</td>\n",
       "    </tr>\n",
       "    <tr>\n",
       "      <th>Togo</th>\n",
       "      <td>4200.0</td>\n",
       "    </tr>\n",
       "    <tr>\n",
       "      <th>Uganda</th>\n",
       "      <td>NaN</td>\n",
       "    </tr>\n",
       "    <tr>\n",
       "      <th>United Republic of Tanzania</th>\n",
       "      <td>NaN</td>\n",
       "    </tr>\n",
       "    <tr>\n",
       "      <th>Zambia</th>\n",
       "      <td>NaN</td>\n",
       "    </tr>\n",
       "    <tr>\n",
       "      <th>Zimbabwe</th>\n",
       "      <td>NaN</td>\n",
       "    </tr>\n",
       "  </tbody>\n",
       "</table>\n",
       "</div>"
      ],
      "text/plain": [
       "                                  Reported number of children receiving ART\n",
       "Country                                                                    \n",
       "Algeria                                                               770.0\n",
       "Angola                                                               4800.0\n",
       "Benin                                                                2000.0\n",
       "Botswana                                                             5400.0\n",
       "Burkina Faso                                                         1900.0\n",
       "Burundi                                                              3400.0\n",
       "Cabo Verde                                                              0.0\n",
       "Cameroon                                                                NaN\n",
       "Central African Republic                                             2500.0\n",
       "Chad                                                                 2600.0\n",
       "Comoros                                                                 0.0\n",
       "Côte d'Ivoire                                                           NaN\n",
       "Democratic Republic of the Congo                                        NaN\n",
       "Equatorial Guinea                                                     770.0\n",
       "Eritrea                                                               500.0\n",
       "Eswatini                                                             8600.0\n",
       "Ethiopia                                                                NaN\n",
       "Gabon                                                                1900.0\n",
       "Gambia                                                                550.0\n",
       "Ghana                                                                5900.0\n",
       "Guinea                                                               2100.0\n",
       "Guinea-Bissau                                                         350.0\n",
       "Kenya                                                                   NaN\n",
       "Lesotho                                                              8500.0\n",
       "Liberia                                                               680.0\n",
       "Madagascar                                                             90.0\n",
       "Malawi                                                                  NaN\n",
       "Mali                                                                 3400.0\n",
       "Mauritania                                                            180.0\n",
       "Mauritius                                                              40.0\n",
       "Mozambique                                                              NaN\n",
       "Namibia                                                              8600.0\n",
       "Niger                                                                1300.0\n",
       "Nigeria                                                                 NaN\n",
       "Rwanda                                                               7500.0\n",
       "Senegal                                                              1400.0\n",
       "Sierra Leone                                                         1100.0\n",
       "South Africa                                                            NaN\n",
       "South Sudan                                                          1500.0\n",
       "Togo                                                                 4200.0\n",
       "Uganda                                                                  NaN\n",
       "United Republic of Tanzania                                             NaN\n",
       "Zambia                                                                  NaN\n",
       "Zimbabwe                                                                NaN"
      ]
     },
     "execution_count": 195,
     "metadata": {},
     "output_type": "execute_result"
    }
   ],
   "source": [
    "ChildrenreceivingART = pd.DataFrame(afr_pediatricCoverage_df.groupby('Country').mean()['Reported number of children receiving ART'])\n",
    "ChildrenreceivingART"
   ]
  },
  {
   "cell_type": "code",
   "execution_count": 203,
   "id": "d945cec5",
   "metadata": {},
   "outputs": [
    {
     "data": {
      "application/vnd.plotly.v1+json": {
       "config": {
        "plotlyServerURL": "https://plot.ly"
       },
       "data": [
        {
         "alignmentgroup": "True",
         "hovertemplate": "Country=%{x}<br>Number of children who receive ART=%{y}<extra></extra>",
         "legendgroup": "Algeria",
         "marker": {
          "color": "#636efa",
          "pattern": {
           "shape": ""
          }
         },
         "name": "Algeria",
         "offsetgroup": "Algeria",
         "orientation": "v",
         "showlegend": true,
         "textposition": "auto",
         "type": "bar",
         "x": [
          "Algeria"
         ],
         "xaxis": "x",
         "y": [
          770
         ],
         "yaxis": "y"
        },
        {
         "alignmentgroup": "True",
         "hovertemplate": "Country=%{x}<br>Number of children who receive ART=%{y}<extra></extra>",
         "legendgroup": "Angola",
         "marker": {
          "color": "#EF553B",
          "pattern": {
           "shape": ""
          }
         },
         "name": "Angola",
         "offsetgroup": "Angola",
         "orientation": "v",
         "showlegend": true,
         "textposition": "auto",
         "type": "bar",
         "x": [
          "Angola"
         ],
         "xaxis": "x",
         "y": [
          4800
         ],
         "yaxis": "y"
        },
        {
         "alignmentgroup": "True",
         "hovertemplate": "Country=%{x}<br>Number of children who receive ART=%{y}<extra></extra>",
         "legendgroup": "Benin",
         "marker": {
          "color": "#00cc96",
          "pattern": {
           "shape": ""
          }
         },
         "name": "Benin",
         "offsetgroup": "Benin",
         "orientation": "v",
         "showlegend": true,
         "textposition": "auto",
         "type": "bar",
         "x": [
          "Benin"
         ],
         "xaxis": "x",
         "y": [
          2000
         ],
         "yaxis": "y"
        },
        {
         "alignmentgroup": "True",
         "hovertemplate": "Country=%{x}<br>Number of children who receive ART=%{y}<extra></extra>",
         "legendgroup": "Botswana",
         "marker": {
          "color": "#ab63fa",
          "pattern": {
           "shape": ""
          }
         },
         "name": "Botswana",
         "offsetgroup": "Botswana",
         "orientation": "v",
         "showlegend": true,
         "textposition": "auto",
         "type": "bar",
         "x": [
          "Botswana"
         ],
         "xaxis": "x",
         "y": [
          5400
         ],
         "yaxis": "y"
        },
        {
         "alignmentgroup": "True",
         "hovertemplate": "Country=%{x}<br>Number of children who receive ART=%{y}<extra></extra>",
         "legendgroup": "Burkina Faso",
         "marker": {
          "color": "#FFA15A",
          "pattern": {
           "shape": ""
          }
         },
         "name": "Burkina Faso",
         "offsetgroup": "Burkina Faso",
         "orientation": "v",
         "showlegend": true,
         "textposition": "auto",
         "type": "bar",
         "x": [
          "Burkina Faso"
         ],
         "xaxis": "x",
         "y": [
          1900
         ],
         "yaxis": "y"
        },
        {
         "alignmentgroup": "True",
         "hovertemplate": "Country=%{x}<br>Number of children who receive ART=%{y}<extra></extra>",
         "legendgroup": "Burundi",
         "marker": {
          "color": "#19d3f3",
          "pattern": {
           "shape": ""
          }
         },
         "name": "Burundi",
         "offsetgroup": "Burundi",
         "orientation": "v",
         "showlegend": true,
         "textposition": "auto",
         "type": "bar",
         "x": [
          "Burundi"
         ],
         "xaxis": "x",
         "y": [
          3400
         ],
         "yaxis": "y"
        },
        {
         "alignmentgroup": "True",
         "hovertemplate": "Country=%{x}<br>Number of children who receive ART=%{y}<extra></extra>",
         "legendgroup": "Cabo Verde",
         "marker": {
          "color": "#FF6692",
          "pattern": {
           "shape": ""
          }
         },
         "name": "Cabo Verde",
         "offsetgroup": "Cabo Verde",
         "orientation": "v",
         "showlegend": true,
         "textposition": "auto",
         "type": "bar",
         "x": [
          "Cabo Verde"
         ],
         "xaxis": "x",
         "y": [
          0
         ],
         "yaxis": "y"
        },
        {
         "alignmentgroup": "True",
         "hovertemplate": "Country=%{x}<br>Number of children who receive ART=%{y}<extra></extra>",
         "legendgroup": "Cameroon",
         "marker": {
          "color": "#B6E880",
          "pattern": {
           "shape": ""
          }
         },
         "name": "Cameroon",
         "offsetgroup": "Cameroon",
         "orientation": "v",
         "showlegend": true,
         "textposition": "auto",
         "type": "bar",
         "x": [
          "Cameroon"
         ],
         "xaxis": "x",
         "y": [
          null
         ],
         "yaxis": "y"
        },
        {
         "alignmentgroup": "True",
         "hovertemplate": "Country=%{x}<br>Number of children who receive ART=%{y}<extra></extra>",
         "legendgroup": "Central African Republic",
         "marker": {
          "color": "#FF97FF",
          "pattern": {
           "shape": ""
          }
         },
         "name": "Central African Republic",
         "offsetgroup": "Central African Republic",
         "orientation": "v",
         "showlegend": true,
         "textposition": "auto",
         "type": "bar",
         "x": [
          "Central African Republic"
         ],
         "xaxis": "x",
         "y": [
          2500
         ],
         "yaxis": "y"
        },
        {
         "alignmentgroup": "True",
         "hovertemplate": "Country=%{x}<br>Number of children who receive ART=%{y}<extra></extra>",
         "legendgroup": "Chad",
         "marker": {
          "color": "#FECB52",
          "pattern": {
           "shape": ""
          }
         },
         "name": "Chad",
         "offsetgroup": "Chad",
         "orientation": "v",
         "showlegend": true,
         "textposition": "auto",
         "type": "bar",
         "x": [
          "Chad"
         ],
         "xaxis": "x",
         "y": [
          2600
         ],
         "yaxis": "y"
        },
        {
         "alignmentgroup": "True",
         "hovertemplate": "Country=%{x}<br>Number of children who receive ART=%{y}<extra></extra>",
         "legendgroup": "Comoros",
         "marker": {
          "color": "#636efa",
          "pattern": {
           "shape": ""
          }
         },
         "name": "Comoros",
         "offsetgroup": "Comoros",
         "orientation": "v",
         "showlegend": true,
         "textposition": "auto",
         "type": "bar",
         "x": [
          "Comoros"
         ],
         "xaxis": "x",
         "y": [
          0
         ],
         "yaxis": "y"
        },
        {
         "alignmentgroup": "True",
         "hovertemplate": "Country=%{x}<br>Number of children who receive ART=%{y}<extra></extra>",
         "legendgroup": "Côte d'Ivoire",
         "marker": {
          "color": "#EF553B",
          "pattern": {
           "shape": ""
          }
         },
         "name": "Côte d'Ivoire",
         "offsetgroup": "Côte d'Ivoire",
         "orientation": "v",
         "showlegend": true,
         "textposition": "auto",
         "type": "bar",
         "x": [
          "Côte d'Ivoire"
         ],
         "xaxis": "x",
         "y": [
          null
         ],
         "yaxis": "y"
        },
        {
         "alignmentgroup": "True",
         "hovertemplate": "Country=%{x}<br>Number of children who receive ART=%{y}<extra></extra>",
         "legendgroup": "Democratic Republic of the Congo",
         "marker": {
          "color": "#00cc96",
          "pattern": {
           "shape": ""
          }
         },
         "name": "Democratic Republic of the Congo",
         "offsetgroup": "Democratic Republic of the Congo",
         "orientation": "v",
         "showlegend": true,
         "textposition": "auto",
         "type": "bar",
         "x": [
          "Democratic Republic of the Congo"
         ],
         "xaxis": "x",
         "y": [
          null
         ],
         "yaxis": "y"
        },
        {
         "alignmentgroup": "True",
         "hovertemplate": "Country=%{x}<br>Number of children who receive ART=%{y}<extra></extra>",
         "legendgroup": "Equatorial Guinea",
         "marker": {
          "color": "#ab63fa",
          "pattern": {
           "shape": ""
          }
         },
         "name": "Equatorial Guinea",
         "offsetgroup": "Equatorial Guinea",
         "orientation": "v",
         "showlegend": true,
         "textposition": "auto",
         "type": "bar",
         "x": [
          "Equatorial Guinea"
         ],
         "xaxis": "x",
         "y": [
          770
         ],
         "yaxis": "y"
        },
        {
         "alignmentgroup": "True",
         "hovertemplate": "Country=%{x}<br>Number of children who receive ART=%{y}<extra></extra>",
         "legendgroup": "Eritrea",
         "marker": {
          "color": "#FFA15A",
          "pattern": {
           "shape": ""
          }
         },
         "name": "Eritrea",
         "offsetgroup": "Eritrea",
         "orientation": "v",
         "showlegend": true,
         "textposition": "auto",
         "type": "bar",
         "x": [
          "Eritrea"
         ],
         "xaxis": "x",
         "y": [
          500
         ],
         "yaxis": "y"
        },
        {
         "alignmentgroup": "True",
         "hovertemplate": "Country=%{x}<br>Number of children who receive ART=%{y}<extra></extra>",
         "legendgroup": "Eswatini",
         "marker": {
          "color": "#19d3f3",
          "pattern": {
           "shape": ""
          }
         },
         "name": "Eswatini",
         "offsetgroup": "Eswatini",
         "orientation": "v",
         "showlegend": true,
         "textposition": "auto",
         "type": "bar",
         "x": [
          "Eswatini"
         ],
         "xaxis": "x",
         "y": [
          8600
         ],
         "yaxis": "y"
        },
        {
         "alignmentgroup": "True",
         "hovertemplate": "Country=%{x}<br>Number of children who receive ART=%{y}<extra></extra>",
         "legendgroup": "Ethiopia",
         "marker": {
          "color": "#FF6692",
          "pattern": {
           "shape": ""
          }
         },
         "name": "Ethiopia",
         "offsetgroup": "Ethiopia",
         "orientation": "v",
         "showlegend": true,
         "textposition": "auto",
         "type": "bar",
         "x": [
          "Ethiopia"
         ],
         "xaxis": "x",
         "y": [
          null
         ],
         "yaxis": "y"
        },
        {
         "alignmentgroup": "True",
         "hovertemplate": "Country=%{x}<br>Number of children who receive ART=%{y}<extra></extra>",
         "legendgroup": "Gabon",
         "marker": {
          "color": "#B6E880",
          "pattern": {
           "shape": ""
          }
         },
         "name": "Gabon",
         "offsetgroup": "Gabon",
         "orientation": "v",
         "showlegend": true,
         "textposition": "auto",
         "type": "bar",
         "x": [
          "Gabon"
         ],
         "xaxis": "x",
         "y": [
          1900
         ],
         "yaxis": "y"
        },
        {
         "alignmentgroup": "True",
         "hovertemplate": "Country=%{x}<br>Number of children who receive ART=%{y}<extra></extra>",
         "legendgroup": "Gambia",
         "marker": {
          "color": "#FF97FF",
          "pattern": {
           "shape": ""
          }
         },
         "name": "Gambia",
         "offsetgroup": "Gambia",
         "orientation": "v",
         "showlegend": true,
         "textposition": "auto",
         "type": "bar",
         "x": [
          "Gambia"
         ],
         "xaxis": "x",
         "y": [
          550
         ],
         "yaxis": "y"
        },
        {
         "alignmentgroup": "True",
         "hovertemplate": "Country=%{x}<br>Number of children who receive ART=%{y}<extra></extra>",
         "legendgroup": "Ghana",
         "marker": {
          "color": "#FECB52",
          "pattern": {
           "shape": ""
          }
         },
         "name": "Ghana",
         "offsetgroup": "Ghana",
         "orientation": "v",
         "showlegend": true,
         "textposition": "auto",
         "type": "bar",
         "x": [
          "Ghana"
         ],
         "xaxis": "x",
         "y": [
          5900
         ],
         "yaxis": "y"
        },
        {
         "alignmentgroup": "True",
         "hovertemplate": "Country=%{x}<br>Number of children who receive ART=%{y}<extra></extra>",
         "legendgroup": "Guinea",
         "marker": {
          "color": "#636efa",
          "pattern": {
           "shape": ""
          }
         },
         "name": "Guinea",
         "offsetgroup": "Guinea",
         "orientation": "v",
         "showlegend": true,
         "textposition": "auto",
         "type": "bar",
         "x": [
          "Guinea"
         ],
         "xaxis": "x",
         "y": [
          2100
         ],
         "yaxis": "y"
        },
        {
         "alignmentgroup": "True",
         "hovertemplate": "Country=%{x}<br>Number of children who receive ART=%{y}<extra></extra>",
         "legendgroup": "Guinea-Bissau",
         "marker": {
          "color": "#EF553B",
          "pattern": {
           "shape": ""
          }
         },
         "name": "Guinea-Bissau",
         "offsetgroup": "Guinea-Bissau",
         "orientation": "v",
         "showlegend": true,
         "textposition": "auto",
         "type": "bar",
         "x": [
          "Guinea-Bissau"
         ],
         "xaxis": "x",
         "y": [
          350
         ],
         "yaxis": "y"
        },
        {
         "alignmentgroup": "True",
         "hovertemplate": "Country=%{x}<br>Number of children who receive ART=%{y}<extra></extra>",
         "legendgroup": "Kenya",
         "marker": {
          "color": "#00cc96",
          "pattern": {
           "shape": ""
          }
         },
         "name": "Kenya",
         "offsetgroup": "Kenya",
         "orientation": "v",
         "showlegend": true,
         "textposition": "auto",
         "type": "bar",
         "x": [
          "Kenya"
         ],
         "xaxis": "x",
         "y": [
          null
         ],
         "yaxis": "y"
        },
        {
         "alignmentgroup": "True",
         "hovertemplate": "Country=%{x}<br>Number of children who receive ART=%{y}<extra></extra>",
         "legendgroup": "Lesotho",
         "marker": {
          "color": "#ab63fa",
          "pattern": {
           "shape": ""
          }
         },
         "name": "Lesotho",
         "offsetgroup": "Lesotho",
         "orientation": "v",
         "showlegend": true,
         "textposition": "auto",
         "type": "bar",
         "x": [
          "Lesotho"
         ],
         "xaxis": "x",
         "y": [
          8500
         ],
         "yaxis": "y"
        },
        {
         "alignmentgroup": "True",
         "hovertemplate": "Country=%{x}<br>Number of children who receive ART=%{y}<extra></extra>",
         "legendgroup": "Liberia",
         "marker": {
          "color": "#FFA15A",
          "pattern": {
           "shape": ""
          }
         },
         "name": "Liberia",
         "offsetgroup": "Liberia",
         "orientation": "v",
         "showlegend": true,
         "textposition": "auto",
         "type": "bar",
         "x": [
          "Liberia"
         ],
         "xaxis": "x",
         "y": [
          680
         ],
         "yaxis": "y"
        },
        {
         "alignmentgroup": "True",
         "hovertemplate": "Country=%{x}<br>Number of children who receive ART=%{y}<extra></extra>",
         "legendgroup": "Madagascar",
         "marker": {
          "color": "#19d3f3",
          "pattern": {
           "shape": ""
          }
         },
         "name": "Madagascar",
         "offsetgroup": "Madagascar",
         "orientation": "v",
         "showlegend": true,
         "textposition": "auto",
         "type": "bar",
         "x": [
          "Madagascar"
         ],
         "xaxis": "x",
         "y": [
          90
         ],
         "yaxis": "y"
        },
        {
         "alignmentgroup": "True",
         "hovertemplate": "Country=%{x}<br>Number of children who receive ART=%{y}<extra></extra>",
         "legendgroup": "Malawi",
         "marker": {
          "color": "#FF6692",
          "pattern": {
           "shape": ""
          }
         },
         "name": "Malawi",
         "offsetgroup": "Malawi",
         "orientation": "v",
         "showlegend": true,
         "textposition": "auto",
         "type": "bar",
         "x": [
          "Malawi"
         ],
         "xaxis": "x",
         "y": [
          null
         ],
         "yaxis": "y"
        },
        {
         "alignmentgroup": "True",
         "hovertemplate": "Country=%{x}<br>Number of children who receive ART=%{y}<extra></extra>",
         "legendgroup": "Mali",
         "marker": {
          "color": "#B6E880",
          "pattern": {
           "shape": ""
          }
         },
         "name": "Mali",
         "offsetgroup": "Mali",
         "orientation": "v",
         "showlegend": true,
         "textposition": "auto",
         "type": "bar",
         "x": [
          "Mali"
         ],
         "xaxis": "x",
         "y": [
          3400
         ],
         "yaxis": "y"
        },
        {
         "alignmentgroup": "True",
         "hovertemplate": "Country=%{x}<br>Number of children who receive ART=%{y}<extra></extra>",
         "legendgroup": "Mauritania",
         "marker": {
          "color": "#FF97FF",
          "pattern": {
           "shape": ""
          }
         },
         "name": "Mauritania",
         "offsetgroup": "Mauritania",
         "orientation": "v",
         "showlegend": true,
         "textposition": "auto",
         "type": "bar",
         "x": [
          "Mauritania"
         ],
         "xaxis": "x",
         "y": [
          180
         ],
         "yaxis": "y"
        },
        {
         "alignmentgroup": "True",
         "hovertemplate": "Country=%{x}<br>Number of children who receive ART=%{y}<extra></extra>",
         "legendgroup": "Mauritius",
         "marker": {
          "color": "#FECB52",
          "pattern": {
           "shape": ""
          }
         },
         "name": "Mauritius",
         "offsetgroup": "Mauritius",
         "orientation": "v",
         "showlegend": true,
         "textposition": "auto",
         "type": "bar",
         "x": [
          "Mauritius"
         ],
         "xaxis": "x",
         "y": [
          40
         ],
         "yaxis": "y"
        },
        {
         "alignmentgroup": "True",
         "hovertemplate": "Country=%{x}<br>Number of children who receive ART=%{y}<extra></extra>",
         "legendgroup": "Mozambique",
         "marker": {
          "color": "#636efa",
          "pattern": {
           "shape": ""
          }
         },
         "name": "Mozambique",
         "offsetgroup": "Mozambique",
         "orientation": "v",
         "showlegend": true,
         "textposition": "auto",
         "type": "bar",
         "x": [
          "Mozambique"
         ],
         "xaxis": "x",
         "y": [
          null
         ],
         "yaxis": "y"
        },
        {
         "alignmentgroup": "True",
         "hovertemplate": "Country=%{x}<br>Number of children who receive ART=%{y}<extra></extra>",
         "legendgroup": "Namibia",
         "marker": {
          "color": "#EF553B",
          "pattern": {
           "shape": ""
          }
         },
         "name": "Namibia",
         "offsetgroup": "Namibia",
         "orientation": "v",
         "showlegend": true,
         "textposition": "auto",
         "type": "bar",
         "x": [
          "Namibia"
         ],
         "xaxis": "x",
         "y": [
          8600
         ],
         "yaxis": "y"
        },
        {
         "alignmentgroup": "True",
         "hovertemplate": "Country=%{x}<br>Number of children who receive ART=%{y}<extra></extra>",
         "legendgroup": "Niger",
         "marker": {
          "color": "#00cc96",
          "pattern": {
           "shape": ""
          }
         },
         "name": "Niger",
         "offsetgroup": "Niger",
         "orientation": "v",
         "showlegend": true,
         "textposition": "auto",
         "type": "bar",
         "x": [
          "Niger"
         ],
         "xaxis": "x",
         "y": [
          1300
         ],
         "yaxis": "y"
        },
        {
         "alignmentgroup": "True",
         "hovertemplate": "Country=%{x}<br>Number of children who receive ART=%{y}<extra></extra>",
         "legendgroup": "Nigeria",
         "marker": {
          "color": "#ab63fa",
          "pattern": {
           "shape": ""
          }
         },
         "name": "Nigeria",
         "offsetgroup": "Nigeria",
         "orientation": "v",
         "showlegend": true,
         "textposition": "auto",
         "type": "bar",
         "x": [
          "Nigeria"
         ],
         "xaxis": "x",
         "y": [
          null
         ],
         "yaxis": "y"
        },
        {
         "alignmentgroup": "True",
         "hovertemplate": "Country=%{x}<br>Number of children who receive ART=%{y}<extra></extra>",
         "legendgroup": "Rwanda",
         "marker": {
          "color": "#FFA15A",
          "pattern": {
           "shape": ""
          }
         },
         "name": "Rwanda",
         "offsetgroup": "Rwanda",
         "orientation": "v",
         "showlegend": true,
         "textposition": "auto",
         "type": "bar",
         "x": [
          "Rwanda"
         ],
         "xaxis": "x",
         "y": [
          7500
         ],
         "yaxis": "y"
        },
        {
         "alignmentgroup": "True",
         "hovertemplate": "Country=%{x}<br>Number of children who receive ART=%{y}<extra></extra>",
         "legendgroup": "Senegal",
         "marker": {
          "color": "#19d3f3",
          "pattern": {
           "shape": ""
          }
         },
         "name": "Senegal",
         "offsetgroup": "Senegal",
         "orientation": "v",
         "showlegend": true,
         "textposition": "auto",
         "type": "bar",
         "x": [
          "Senegal"
         ],
         "xaxis": "x",
         "y": [
          1400
         ],
         "yaxis": "y"
        },
        {
         "alignmentgroup": "True",
         "hovertemplate": "Country=%{x}<br>Number of children who receive ART=%{y}<extra></extra>",
         "legendgroup": "Sierra Leone",
         "marker": {
          "color": "#FF6692",
          "pattern": {
           "shape": ""
          }
         },
         "name": "Sierra Leone",
         "offsetgroup": "Sierra Leone",
         "orientation": "v",
         "showlegend": true,
         "textposition": "auto",
         "type": "bar",
         "x": [
          "Sierra Leone"
         ],
         "xaxis": "x",
         "y": [
          1100
         ],
         "yaxis": "y"
        },
        {
         "alignmentgroup": "True",
         "hovertemplate": "Country=%{x}<br>Number of children who receive ART=%{y}<extra></extra>",
         "legendgroup": "South Africa",
         "marker": {
          "color": "#B6E880",
          "pattern": {
           "shape": ""
          }
         },
         "name": "South Africa",
         "offsetgroup": "South Africa",
         "orientation": "v",
         "showlegend": true,
         "textposition": "auto",
         "type": "bar",
         "x": [
          "South Africa"
         ],
         "xaxis": "x",
         "y": [
          null
         ],
         "yaxis": "y"
        },
        {
         "alignmentgroup": "True",
         "hovertemplate": "Country=%{x}<br>Number of children who receive ART=%{y}<extra></extra>",
         "legendgroup": "South Sudan",
         "marker": {
          "color": "#FF97FF",
          "pattern": {
           "shape": ""
          }
         },
         "name": "South Sudan",
         "offsetgroup": "South Sudan",
         "orientation": "v",
         "showlegend": true,
         "textposition": "auto",
         "type": "bar",
         "x": [
          "South Sudan"
         ],
         "xaxis": "x",
         "y": [
          1500
         ],
         "yaxis": "y"
        },
        {
         "alignmentgroup": "True",
         "hovertemplate": "Country=%{x}<br>Number of children who receive ART=%{y}<extra></extra>",
         "legendgroup": "Togo",
         "marker": {
          "color": "#FECB52",
          "pattern": {
           "shape": ""
          }
         },
         "name": "Togo",
         "offsetgroup": "Togo",
         "orientation": "v",
         "showlegend": true,
         "textposition": "auto",
         "type": "bar",
         "x": [
          "Togo"
         ],
         "xaxis": "x",
         "y": [
          4200
         ],
         "yaxis": "y"
        },
        {
         "alignmentgroup": "True",
         "hovertemplate": "Country=%{x}<br>Number of children who receive ART=%{y}<extra></extra>",
         "legendgroup": "Uganda",
         "marker": {
          "color": "#636efa",
          "pattern": {
           "shape": ""
          }
         },
         "name": "Uganda",
         "offsetgroup": "Uganda",
         "orientation": "v",
         "showlegend": true,
         "textposition": "auto",
         "type": "bar",
         "x": [
          "Uganda"
         ],
         "xaxis": "x",
         "y": [
          null
         ],
         "yaxis": "y"
        },
        {
         "alignmentgroup": "True",
         "hovertemplate": "Country=%{x}<br>Number of children who receive ART=%{y}<extra></extra>",
         "legendgroup": "United Republic of Tanzania",
         "marker": {
          "color": "#EF553B",
          "pattern": {
           "shape": ""
          }
         },
         "name": "United Republic of Tanzania",
         "offsetgroup": "United Republic of Tanzania",
         "orientation": "v",
         "showlegend": true,
         "textposition": "auto",
         "type": "bar",
         "x": [
          "United Republic of Tanzania"
         ],
         "xaxis": "x",
         "y": [
          null
         ],
         "yaxis": "y"
        },
        {
         "alignmentgroup": "True",
         "hovertemplate": "Country=%{x}<br>Number of children who receive ART=%{y}<extra></extra>",
         "legendgroup": "Zambia",
         "marker": {
          "color": "#00cc96",
          "pattern": {
           "shape": ""
          }
         },
         "name": "Zambia",
         "offsetgroup": "Zambia",
         "orientation": "v",
         "showlegend": true,
         "textposition": "auto",
         "type": "bar",
         "x": [
          "Zambia"
         ],
         "xaxis": "x",
         "y": [
          null
         ],
         "yaxis": "y"
        },
        {
         "alignmentgroup": "True",
         "hovertemplate": "Country=%{x}<br>Number of children who receive ART=%{y}<extra></extra>",
         "legendgroup": "Zimbabwe",
         "marker": {
          "color": "#ab63fa",
          "pattern": {
           "shape": ""
          }
         },
         "name": "Zimbabwe",
         "offsetgroup": "Zimbabwe",
         "orientation": "v",
         "showlegend": true,
         "textposition": "auto",
         "type": "bar",
         "x": [
          "Zimbabwe"
         ],
         "xaxis": "x",
         "y": [
          null
         ],
         "yaxis": "y"
        }
       ],
       "layout": {
        "barmode": "relative",
        "height": 500,
        "legend": {
         "title": {
          "text": "Country"
         },
         "tracegroupgap": 0
        },
        "template": {
         "data": {
          "bar": [
           {
            "error_x": {
             "color": "#2a3f5f"
            },
            "error_y": {
             "color": "#2a3f5f"
            },
            "marker": {
             "line": {
              "color": "#E5ECF6",
              "width": 0.5
             },
             "pattern": {
              "fillmode": "overlay",
              "size": 10,
              "solidity": 0.2
             }
            },
            "type": "bar"
           }
          ],
          "barpolar": [
           {
            "marker": {
             "line": {
              "color": "#E5ECF6",
              "width": 0.5
             },
             "pattern": {
              "fillmode": "overlay",
              "size": 10,
              "solidity": 0.2
             }
            },
            "type": "barpolar"
           }
          ],
          "carpet": [
           {
            "aaxis": {
             "endlinecolor": "#2a3f5f",
             "gridcolor": "white",
             "linecolor": "white",
             "minorgridcolor": "white",
             "startlinecolor": "#2a3f5f"
            },
            "baxis": {
             "endlinecolor": "#2a3f5f",
             "gridcolor": "white",
             "linecolor": "white",
             "minorgridcolor": "white",
             "startlinecolor": "#2a3f5f"
            },
            "type": "carpet"
           }
          ],
          "choropleth": [
           {
            "colorbar": {
             "outlinewidth": 0,
             "ticks": ""
            },
            "type": "choropleth"
           }
          ],
          "contour": [
           {
            "colorbar": {
             "outlinewidth": 0,
             "ticks": ""
            },
            "colorscale": [
             [
              0,
              "#0d0887"
             ],
             [
              0.1111111111111111,
              "#46039f"
             ],
             [
              0.2222222222222222,
              "#7201a8"
             ],
             [
              0.3333333333333333,
              "#9c179e"
             ],
             [
              0.4444444444444444,
              "#bd3786"
             ],
             [
              0.5555555555555556,
              "#d8576b"
             ],
             [
              0.6666666666666666,
              "#ed7953"
             ],
             [
              0.7777777777777778,
              "#fb9f3a"
             ],
             [
              0.8888888888888888,
              "#fdca26"
             ],
             [
              1,
              "#f0f921"
             ]
            ],
            "type": "contour"
           }
          ],
          "contourcarpet": [
           {
            "colorbar": {
             "outlinewidth": 0,
             "ticks": ""
            },
            "type": "contourcarpet"
           }
          ],
          "heatmap": [
           {
            "colorbar": {
             "outlinewidth": 0,
             "ticks": ""
            },
            "colorscale": [
             [
              0,
              "#0d0887"
             ],
             [
              0.1111111111111111,
              "#46039f"
             ],
             [
              0.2222222222222222,
              "#7201a8"
             ],
             [
              0.3333333333333333,
              "#9c179e"
             ],
             [
              0.4444444444444444,
              "#bd3786"
             ],
             [
              0.5555555555555556,
              "#d8576b"
             ],
             [
              0.6666666666666666,
              "#ed7953"
             ],
             [
              0.7777777777777778,
              "#fb9f3a"
             ],
             [
              0.8888888888888888,
              "#fdca26"
             ],
             [
              1,
              "#f0f921"
             ]
            ],
            "type": "heatmap"
           }
          ],
          "heatmapgl": [
           {
            "colorbar": {
             "outlinewidth": 0,
             "ticks": ""
            },
            "colorscale": [
             [
              0,
              "#0d0887"
             ],
             [
              0.1111111111111111,
              "#46039f"
             ],
             [
              0.2222222222222222,
              "#7201a8"
             ],
             [
              0.3333333333333333,
              "#9c179e"
             ],
             [
              0.4444444444444444,
              "#bd3786"
             ],
             [
              0.5555555555555556,
              "#d8576b"
             ],
             [
              0.6666666666666666,
              "#ed7953"
             ],
             [
              0.7777777777777778,
              "#fb9f3a"
             ],
             [
              0.8888888888888888,
              "#fdca26"
             ],
             [
              1,
              "#f0f921"
             ]
            ],
            "type": "heatmapgl"
           }
          ],
          "histogram": [
           {
            "marker": {
             "pattern": {
              "fillmode": "overlay",
              "size": 10,
              "solidity": 0.2
             }
            },
            "type": "histogram"
           }
          ],
          "histogram2d": [
           {
            "colorbar": {
             "outlinewidth": 0,
             "ticks": ""
            },
            "colorscale": [
             [
              0,
              "#0d0887"
             ],
             [
              0.1111111111111111,
              "#46039f"
             ],
             [
              0.2222222222222222,
              "#7201a8"
             ],
             [
              0.3333333333333333,
              "#9c179e"
             ],
             [
              0.4444444444444444,
              "#bd3786"
             ],
             [
              0.5555555555555556,
              "#d8576b"
             ],
             [
              0.6666666666666666,
              "#ed7953"
             ],
             [
              0.7777777777777778,
              "#fb9f3a"
             ],
             [
              0.8888888888888888,
              "#fdca26"
             ],
             [
              1,
              "#f0f921"
             ]
            ],
            "type": "histogram2d"
           }
          ],
          "histogram2dcontour": [
           {
            "colorbar": {
             "outlinewidth": 0,
             "ticks": ""
            },
            "colorscale": [
             [
              0,
              "#0d0887"
             ],
             [
              0.1111111111111111,
              "#46039f"
             ],
             [
              0.2222222222222222,
              "#7201a8"
             ],
             [
              0.3333333333333333,
              "#9c179e"
             ],
             [
              0.4444444444444444,
              "#bd3786"
             ],
             [
              0.5555555555555556,
              "#d8576b"
             ],
             [
              0.6666666666666666,
              "#ed7953"
             ],
             [
              0.7777777777777778,
              "#fb9f3a"
             ],
             [
              0.8888888888888888,
              "#fdca26"
             ],
             [
              1,
              "#f0f921"
             ]
            ],
            "type": "histogram2dcontour"
           }
          ],
          "mesh3d": [
           {
            "colorbar": {
             "outlinewidth": 0,
             "ticks": ""
            },
            "type": "mesh3d"
           }
          ],
          "parcoords": [
           {
            "line": {
             "colorbar": {
              "outlinewidth": 0,
              "ticks": ""
             }
            },
            "type": "parcoords"
           }
          ],
          "pie": [
           {
            "automargin": true,
            "type": "pie"
           }
          ],
          "scatter": [
           {
            "fillpattern": {
             "fillmode": "overlay",
             "size": 10,
             "solidity": 0.2
            },
            "type": "scatter"
           }
          ],
          "scatter3d": [
           {
            "line": {
             "colorbar": {
              "outlinewidth": 0,
              "ticks": ""
             }
            },
            "marker": {
             "colorbar": {
              "outlinewidth": 0,
              "ticks": ""
             }
            },
            "type": "scatter3d"
           }
          ],
          "scattercarpet": [
           {
            "marker": {
             "colorbar": {
              "outlinewidth": 0,
              "ticks": ""
             }
            },
            "type": "scattercarpet"
           }
          ],
          "scattergeo": [
           {
            "marker": {
             "colorbar": {
              "outlinewidth": 0,
              "ticks": ""
             }
            },
            "type": "scattergeo"
           }
          ],
          "scattergl": [
           {
            "marker": {
             "colorbar": {
              "outlinewidth": 0,
              "ticks": ""
             }
            },
            "type": "scattergl"
           }
          ],
          "scattermapbox": [
           {
            "marker": {
             "colorbar": {
              "outlinewidth": 0,
              "ticks": ""
             }
            },
            "type": "scattermapbox"
           }
          ],
          "scatterpolar": [
           {
            "marker": {
             "colorbar": {
              "outlinewidth": 0,
              "ticks": ""
             }
            },
            "type": "scatterpolar"
           }
          ],
          "scatterpolargl": [
           {
            "marker": {
             "colorbar": {
              "outlinewidth": 0,
              "ticks": ""
             }
            },
            "type": "scatterpolargl"
           }
          ],
          "scatterternary": [
           {
            "marker": {
             "colorbar": {
              "outlinewidth": 0,
              "ticks": ""
             }
            },
            "type": "scatterternary"
           }
          ],
          "surface": [
           {
            "colorbar": {
             "outlinewidth": 0,
             "ticks": ""
            },
            "colorscale": [
             [
              0,
              "#0d0887"
             ],
             [
              0.1111111111111111,
              "#46039f"
             ],
             [
              0.2222222222222222,
              "#7201a8"
             ],
             [
              0.3333333333333333,
              "#9c179e"
             ],
             [
              0.4444444444444444,
              "#bd3786"
             ],
             [
              0.5555555555555556,
              "#d8576b"
             ],
             [
              0.6666666666666666,
              "#ed7953"
             ],
             [
              0.7777777777777778,
              "#fb9f3a"
             ],
             [
              0.8888888888888888,
              "#fdca26"
             ],
             [
              1,
              "#f0f921"
             ]
            ],
            "type": "surface"
           }
          ],
          "table": [
           {
            "cells": {
             "fill": {
              "color": "#EBF0F8"
             },
             "line": {
              "color": "white"
             }
            },
            "header": {
             "fill": {
              "color": "#C8D4E3"
             },
             "line": {
              "color": "white"
             }
            },
            "type": "table"
           }
          ]
         },
         "layout": {
          "annotationdefaults": {
           "arrowcolor": "#2a3f5f",
           "arrowhead": 0,
           "arrowwidth": 1
          },
          "autotypenumbers": "strict",
          "coloraxis": {
           "colorbar": {
            "outlinewidth": 0,
            "ticks": ""
           }
          },
          "colorscale": {
           "diverging": [
            [
             0,
             "#8e0152"
            ],
            [
             0.1,
             "#c51b7d"
            ],
            [
             0.2,
             "#de77ae"
            ],
            [
             0.3,
             "#f1b6da"
            ],
            [
             0.4,
             "#fde0ef"
            ],
            [
             0.5,
             "#f7f7f7"
            ],
            [
             0.6,
             "#e6f5d0"
            ],
            [
             0.7,
             "#b8e186"
            ],
            [
             0.8,
             "#7fbc41"
            ],
            [
             0.9,
             "#4d9221"
            ],
            [
             1,
             "#276419"
            ]
           ],
           "sequential": [
            [
             0,
             "#0d0887"
            ],
            [
             0.1111111111111111,
             "#46039f"
            ],
            [
             0.2222222222222222,
             "#7201a8"
            ],
            [
             0.3333333333333333,
             "#9c179e"
            ],
            [
             0.4444444444444444,
             "#bd3786"
            ],
            [
             0.5555555555555556,
             "#d8576b"
            ],
            [
             0.6666666666666666,
             "#ed7953"
            ],
            [
             0.7777777777777778,
             "#fb9f3a"
            ],
            [
             0.8888888888888888,
             "#fdca26"
            ],
            [
             1,
             "#f0f921"
            ]
           ],
           "sequentialminus": [
            [
             0,
             "#0d0887"
            ],
            [
             0.1111111111111111,
             "#46039f"
            ],
            [
             0.2222222222222222,
             "#7201a8"
            ],
            [
             0.3333333333333333,
             "#9c179e"
            ],
            [
             0.4444444444444444,
             "#bd3786"
            ],
            [
             0.5555555555555556,
             "#d8576b"
            ],
            [
             0.6666666666666666,
             "#ed7953"
            ],
            [
             0.7777777777777778,
             "#fb9f3a"
            ],
            [
             0.8888888888888888,
             "#fdca26"
            ],
            [
             1,
             "#f0f921"
            ]
           ]
          },
          "colorway": [
           "#636efa",
           "#EF553B",
           "#00cc96",
           "#ab63fa",
           "#FFA15A",
           "#19d3f3",
           "#FF6692",
           "#B6E880",
           "#FF97FF",
           "#FECB52"
          ],
          "font": {
           "color": "#2a3f5f"
          },
          "geo": {
           "bgcolor": "white",
           "lakecolor": "white",
           "landcolor": "#E5ECF6",
           "showlakes": true,
           "showland": true,
           "subunitcolor": "white"
          },
          "hoverlabel": {
           "align": "left"
          },
          "hovermode": "closest",
          "mapbox": {
           "style": "light"
          },
          "paper_bgcolor": "white",
          "plot_bgcolor": "#E5ECF6",
          "polar": {
           "angularaxis": {
            "gridcolor": "white",
            "linecolor": "white",
            "ticks": ""
           },
           "bgcolor": "#E5ECF6",
           "radialaxis": {
            "gridcolor": "white",
            "linecolor": "white",
            "ticks": ""
           }
          },
          "scene": {
           "xaxis": {
            "backgroundcolor": "#E5ECF6",
            "gridcolor": "white",
            "gridwidth": 2,
            "linecolor": "white",
            "showbackground": true,
            "ticks": "",
            "zerolinecolor": "white"
           },
           "yaxis": {
            "backgroundcolor": "#E5ECF6",
            "gridcolor": "white",
            "gridwidth": 2,
            "linecolor": "white",
            "showbackground": true,
            "ticks": "",
            "zerolinecolor": "white"
           },
           "zaxis": {
            "backgroundcolor": "#E5ECF6",
            "gridcolor": "white",
            "gridwidth": 2,
            "linecolor": "white",
            "showbackground": true,
            "ticks": "",
            "zerolinecolor": "white"
           }
          },
          "shapedefaults": {
           "line": {
            "color": "#2a3f5f"
           }
          },
          "ternary": {
           "aaxis": {
            "gridcolor": "white",
            "linecolor": "white",
            "ticks": ""
           },
           "baxis": {
            "gridcolor": "white",
            "linecolor": "white",
            "ticks": ""
           },
           "bgcolor": "#E5ECF6",
           "caxis": {
            "gridcolor": "white",
            "linecolor": "white",
            "ticks": ""
           }
          },
          "title": {
           "x": 0.05
          },
          "xaxis": {
           "automargin": true,
           "gridcolor": "white",
           "linecolor": "white",
           "ticks": "",
           "title": {
            "standoff": 15
           },
           "zerolinecolor": "white",
           "zerolinewidth": 2
          },
          "yaxis": {
           "automargin": true,
           "gridcolor": "white",
           "linecolor": "white",
           "ticks": "",
           "title": {
            "standoff": 15
           },
           "zerolinecolor": "white",
           "zerolinewidth": 2
          }
         }
        },
        "title": {
         "text": "Children who receive ART - Africa"
        },
        "width": 1000,
        "xaxis": {
         "anchor": "y",
         "categoryarray": [
          "Algeria",
          "Angola",
          "Benin",
          "Botswana",
          "Burkina Faso",
          "Burundi",
          "Cabo Verde",
          "Cameroon",
          "Central African Republic",
          "Chad",
          "Comoros",
          "Côte d'Ivoire",
          "Democratic Republic of the Congo",
          "Equatorial Guinea",
          "Eritrea",
          "Eswatini",
          "Ethiopia",
          "Gabon",
          "Gambia",
          "Ghana",
          "Guinea",
          "Guinea-Bissau",
          "Kenya",
          "Lesotho",
          "Liberia",
          "Madagascar",
          "Malawi",
          "Mali",
          "Mauritania",
          "Mauritius",
          "Mozambique",
          "Namibia",
          "Niger",
          "Nigeria",
          "Rwanda",
          "Senegal",
          "Sierra Leone",
          "South Africa",
          "South Sudan",
          "Togo",
          "Uganda",
          "United Republic of Tanzania",
          "Zambia",
          "Zimbabwe"
         ],
         "categoryorder": "array",
         "domain": [
          0,
          1
         ],
         "tickangle": 90,
         "title": {
          "text": "Country"
         }
        },
        "yaxis": {
         "anchor": "x",
         "domain": [
          0,
          1
         ],
         "title": {
          "text": "Number of children who receive ART"
         }
        }
       }
      },
      "text/html": [
       "<div>                            <div id=\"6715f4cc-a7d7-44a5-9851-60032565e1e3\" class=\"plotly-graph-div\" style=\"height:500px; width:1000px;\"></div>            <script type=\"text/javascript\">                require([\"plotly\"], function(Plotly) {                    window.PLOTLYENV=window.PLOTLYENV || {};                                    if (document.getElementById(\"6715f4cc-a7d7-44a5-9851-60032565e1e3\")) {                    Plotly.newPlot(                        \"6715f4cc-a7d7-44a5-9851-60032565e1e3\",                        [{\"alignmentgroup\":\"True\",\"hovertemplate\":\"Country=%{x}<br>Number of children who receive ART=%{y}<extra></extra>\",\"legendgroup\":\"Algeria\",\"marker\":{\"color\":\"#636efa\",\"pattern\":{\"shape\":\"\"}},\"name\":\"Algeria\",\"offsetgroup\":\"Algeria\",\"orientation\":\"v\",\"showlegend\":true,\"textposition\":\"auto\",\"x\":[\"Algeria\"],\"xaxis\":\"x\",\"y\":[770.0],\"yaxis\":\"y\",\"type\":\"bar\"},{\"alignmentgroup\":\"True\",\"hovertemplate\":\"Country=%{x}<br>Number of children who receive ART=%{y}<extra></extra>\",\"legendgroup\":\"Angola\",\"marker\":{\"color\":\"#EF553B\",\"pattern\":{\"shape\":\"\"}},\"name\":\"Angola\",\"offsetgroup\":\"Angola\",\"orientation\":\"v\",\"showlegend\":true,\"textposition\":\"auto\",\"x\":[\"Angola\"],\"xaxis\":\"x\",\"y\":[4800.0],\"yaxis\":\"y\",\"type\":\"bar\"},{\"alignmentgroup\":\"True\",\"hovertemplate\":\"Country=%{x}<br>Number of children who receive ART=%{y}<extra></extra>\",\"legendgroup\":\"Benin\",\"marker\":{\"color\":\"#00cc96\",\"pattern\":{\"shape\":\"\"}},\"name\":\"Benin\",\"offsetgroup\":\"Benin\",\"orientation\":\"v\",\"showlegend\":true,\"textposition\":\"auto\",\"x\":[\"Benin\"],\"xaxis\":\"x\",\"y\":[2000.0],\"yaxis\":\"y\",\"type\":\"bar\"},{\"alignmentgroup\":\"True\",\"hovertemplate\":\"Country=%{x}<br>Number of children who receive ART=%{y}<extra></extra>\",\"legendgroup\":\"Botswana\",\"marker\":{\"color\":\"#ab63fa\",\"pattern\":{\"shape\":\"\"}},\"name\":\"Botswana\",\"offsetgroup\":\"Botswana\",\"orientation\":\"v\",\"showlegend\":true,\"textposition\":\"auto\",\"x\":[\"Botswana\"],\"xaxis\":\"x\",\"y\":[5400.0],\"yaxis\":\"y\",\"type\":\"bar\"},{\"alignmentgroup\":\"True\",\"hovertemplate\":\"Country=%{x}<br>Number of children who receive ART=%{y}<extra></extra>\",\"legendgroup\":\"Burkina Faso\",\"marker\":{\"color\":\"#FFA15A\",\"pattern\":{\"shape\":\"\"}},\"name\":\"Burkina Faso\",\"offsetgroup\":\"Burkina Faso\",\"orientation\":\"v\",\"showlegend\":true,\"textposition\":\"auto\",\"x\":[\"Burkina Faso\"],\"xaxis\":\"x\",\"y\":[1900.0],\"yaxis\":\"y\",\"type\":\"bar\"},{\"alignmentgroup\":\"True\",\"hovertemplate\":\"Country=%{x}<br>Number of children who receive ART=%{y}<extra></extra>\",\"legendgroup\":\"Burundi\",\"marker\":{\"color\":\"#19d3f3\",\"pattern\":{\"shape\":\"\"}},\"name\":\"Burundi\",\"offsetgroup\":\"Burundi\",\"orientation\":\"v\",\"showlegend\":true,\"textposition\":\"auto\",\"x\":[\"Burundi\"],\"xaxis\":\"x\",\"y\":[3400.0],\"yaxis\":\"y\",\"type\":\"bar\"},{\"alignmentgroup\":\"True\",\"hovertemplate\":\"Country=%{x}<br>Number of children who receive ART=%{y}<extra></extra>\",\"legendgroup\":\"Cabo Verde\",\"marker\":{\"color\":\"#FF6692\",\"pattern\":{\"shape\":\"\"}},\"name\":\"Cabo Verde\",\"offsetgroup\":\"Cabo Verde\",\"orientation\":\"v\",\"showlegend\":true,\"textposition\":\"auto\",\"x\":[\"Cabo Verde\"],\"xaxis\":\"x\",\"y\":[0.0],\"yaxis\":\"y\",\"type\":\"bar\"},{\"alignmentgroup\":\"True\",\"hovertemplate\":\"Country=%{x}<br>Number of children who receive ART=%{y}<extra></extra>\",\"legendgroup\":\"Cameroon\",\"marker\":{\"color\":\"#B6E880\",\"pattern\":{\"shape\":\"\"}},\"name\":\"Cameroon\",\"offsetgroup\":\"Cameroon\",\"orientation\":\"v\",\"showlegend\":true,\"textposition\":\"auto\",\"x\":[\"Cameroon\"],\"xaxis\":\"x\",\"y\":[null],\"yaxis\":\"y\",\"type\":\"bar\"},{\"alignmentgroup\":\"True\",\"hovertemplate\":\"Country=%{x}<br>Number of children who receive ART=%{y}<extra></extra>\",\"legendgroup\":\"Central African Republic\",\"marker\":{\"color\":\"#FF97FF\",\"pattern\":{\"shape\":\"\"}},\"name\":\"Central African Republic\",\"offsetgroup\":\"Central African Republic\",\"orientation\":\"v\",\"showlegend\":true,\"textposition\":\"auto\",\"x\":[\"Central African Republic\"],\"xaxis\":\"x\",\"y\":[2500.0],\"yaxis\":\"y\",\"type\":\"bar\"},{\"alignmentgroup\":\"True\",\"hovertemplate\":\"Country=%{x}<br>Number of children who receive ART=%{y}<extra></extra>\",\"legendgroup\":\"Chad\",\"marker\":{\"color\":\"#FECB52\",\"pattern\":{\"shape\":\"\"}},\"name\":\"Chad\",\"offsetgroup\":\"Chad\",\"orientation\":\"v\",\"showlegend\":true,\"textposition\":\"auto\",\"x\":[\"Chad\"],\"xaxis\":\"x\",\"y\":[2600.0],\"yaxis\":\"y\",\"type\":\"bar\"},{\"alignmentgroup\":\"True\",\"hovertemplate\":\"Country=%{x}<br>Number of children who receive ART=%{y}<extra></extra>\",\"legendgroup\":\"Comoros\",\"marker\":{\"color\":\"#636efa\",\"pattern\":{\"shape\":\"\"}},\"name\":\"Comoros\",\"offsetgroup\":\"Comoros\",\"orientation\":\"v\",\"showlegend\":true,\"textposition\":\"auto\",\"x\":[\"Comoros\"],\"xaxis\":\"x\",\"y\":[0.0],\"yaxis\":\"y\",\"type\":\"bar\"},{\"alignmentgroup\":\"True\",\"hovertemplate\":\"Country=%{x}<br>Number of children who receive ART=%{y}<extra></extra>\",\"legendgroup\":\"C\\u00f4te d'Ivoire\",\"marker\":{\"color\":\"#EF553B\",\"pattern\":{\"shape\":\"\"}},\"name\":\"C\\u00f4te d'Ivoire\",\"offsetgroup\":\"C\\u00f4te d'Ivoire\",\"orientation\":\"v\",\"showlegend\":true,\"textposition\":\"auto\",\"x\":[\"C\\u00f4te d'Ivoire\"],\"xaxis\":\"x\",\"y\":[null],\"yaxis\":\"y\",\"type\":\"bar\"},{\"alignmentgroup\":\"True\",\"hovertemplate\":\"Country=%{x}<br>Number of children who receive ART=%{y}<extra></extra>\",\"legendgroup\":\"Democratic Republic of the Congo\",\"marker\":{\"color\":\"#00cc96\",\"pattern\":{\"shape\":\"\"}},\"name\":\"Democratic Republic of the Congo\",\"offsetgroup\":\"Democratic Republic of the Congo\",\"orientation\":\"v\",\"showlegend\":true,\"textposition\":\"auto\",\"x\":[\"Democratic Republic of the Congo\"],\"xaxis\":\"x\",\"y\":[null],\"yaxis\":\"y\",\"type\":\"bar\"},{\"alignmentgroup\":\"True\",\"hovertemplate\":\"Country=%{x}<br>Number of children who receive ART=%{y}<extra></extra>\",\"legendgroup\":\"Equatorial Guinea\",\"marker\":{\"color\":\"#ab63fa\",\"pattern\":{\"shape\":\"\"}},\"name\":\"Equatorial Guinea\",\"offsetgroup\":\"Equatorial Guinea\",\"orientation\":\"v\",\"showlegend\":true,\"textposition\":\"auto\",\"x\":[\"Equatorial Guinea\"],\"xaxis\":\"x\",\"y\":[770.0],\"yaxis\":\"y\",\"type\":\"bar\"},{\"alignmentgroup\":\"True\",\"hovertemplate\":\"Country=%{x}<br>Number of children who receive ART=%{y}<extra></extra>\",\"legendgroup\":\"Eritrea\",\"marker\":{\"color\":\"#FFA15A\",\"pattern\":{\"shape\":\"\"}},\"name\":\"Eritrea\",\"offsetgroup\":\"Eritrea\",\"orientation\":\"v\",\"showlegend\":true,\"textposition\":\"auto\",\"x\":[\"Eritrea\"],\"xaxis\":\"x\",\"y\":[500.0],\"yaxis\":\"y\",\"type\":\"bar\"},{\"alignmentgroup\":\"True\",\"hovertemplate\":\"Country=%{x}<br>Number of children who receive ART=%{y}<extra></extra>\",\"legendgroup\":\"Eswatini\",\"marker\":{\"color\":\"#19d3f3\",\"pattern\":{\"shape\":\"\"}},\"name\":\"Eswatini\",\"offsetgroup\":\"Eswatini\",\"orientation\":\"v\",\"showlegend\":true,\"textposition\":\"auto\",\"x\":[\"Eswatini\"],\"xaxis\":\"x\",\"y\":[8600.0],\"yaxis\":\"y\",\"type\":\"bar\"},{\"alignmentgroup\":\"True\",\"hovertemplate\":\"Country=%{x}<br>Number of children who receive ART=%{y}<extra></extra>\",\"legendgroup\":\"Ethiopia\",\"marker\":{\"color\":\"#FF6692\",\"pattern\":{\"shape\":\"\"}},\"name\":\"Ethiopia\",\"offsetgroup\":\"Ethiopia\",\"orientation\":\"v\",\"showlegend\":true,\"textposition\":\"auto\",\"x\":[\"Ethiopia\"],\"xaxis\":\"x\",\"y\":[null],\"yaxis\":\"y\",\"type\":\"bar\"},{\"alignmentgroup\":\"True\",\"hovertemplate\":\"Country=%{x}<br>Number of children who receive ART=%{y}<extra></extra>\",\"legendgroup\":\"Gabon\",\"marker\":{\"color\":\"#B6E880\",\"pattern\":{\"shape\":\"\"}},\"name\":\"Gabon\",\"offsetgroup\":\"Gabon\",\"orientation\":\"v\",\"showlegend\":true,\"textposition\":\"auto\",\"x\":[\"Gabon\"],\"xaxis\":\"x\",\"y\":[1900.0],\"yaxis\":\"y\",\"type\":\"bar\"},{\"alignmentgroup\":\"True\",\"hovertemplate\":\"Country=%{x}<br>Number of children who receive ART=%{y}<extra></extra>\",\"legendgroup\":\"Gambia\",\"marker\":{\"color\":\"#FF97FF\",\"pattern\":{\"shape\":\"\"}},\"name\":\"Gambia\",\"offsetgroup\":\"Gambia\",\"orientation\":\"v\",\"showlegend\":true,\"textposition\":\"auto\",\"x\":[\"Gambia\"],\"xaxis\":\"x\",\"y\":[550.0],\"yaxis\":\"y\",\"type\":\"bar\"},{\"alignmentgroup\":\"True\",\"hovertemplate\":\"Country=%{x}<br>Number of children who receive ART=%{y}<extra></extra>\",\"legendgroup\":\"Ghana\",\"marker\":{\"color\":\"#FECB52\",\"pattern\":{\"shape\":\"\"}},\"name\":\"Ghana\",\"offsetgroup\":\"Ghana\",\"orientation\":\"v\",\"showlegend\":true,\"textposition\":\"auto\",\"x\":[\"Ghana\"],\"xaxis\":\"x\",\"y\":[5900.0],\"yaxis\":\"y\",\"type\":\"bar\"},{\"alignmentgroup\":\"True\",\"hovertemplate\":\"Country=%{x}<br>Number of children who receive ART=%{y}<extra></extra>\",\"legendgroup\":\"Guinea\",\"marker\":{\"color\":\"#636efa\",\"pattern\":{\"shape\":\"\"}},\"name\":\"Guinea\",\"offsetgroup\":\"Guinea\",\"orientation\":\"v\",\"showlegend\":true,\"textposition\":\"auto\",\"x\":[\"Guinea\"],\"xaxis\":\"x\",\"y\":[2100.0],\"yaxis\":\"y\",\"type\":\"bar\"},{\"alignmentgroup\":\"True\",\"hovertemplate\":\"Country=%{x}<br>Number of children who receive ART=%{y}<extra></extra>\",\"legendgroup\":\"Guinea-Bissau\",\"marker\":{\"color\":\"#EF553B\",\"pattern\":{\"shape\":\"\"}},\"name\":\"Guinea-Bissau\",\"offsetgroup\":\"Guinea-Bissau\",\"orientation\":\"v\",\"showlegend\":true,\"textposition\":\"auto\",\"x\":[\"Guinea-Bissau\"],\"xaxis\":\"x\",\"y\":[350.0],\"yaxis\":\"y\",\"type\":\"bar\"},{\"alignmentgroup\":\"True\",\"hovertemplate\":\"Country=%{x}<br>Number of children who receive ART=%{y}<extra></extra>\",\"legendgroup\":\"Kenya\",\"marker\":{\"color\":\"#00cc96\",\"pattern\":{\"shape\":\"\"}},\"name\":\"Kenya\",\"offsetgroup\":\"Kenya\",\"orientation\":\"v\",\"showlegend\":true,\"textposition\":\"auto\",\"x\":[\"Kenya\"],\"xaxis\":\"x\",\"y\":[null],\"yaxis\":\"y\",\"type\":\"bar\"},{\"alignmentgroup\":\"True\",\"hovertemplate\":\"Country=%{x}<br>Number of children who receive ART=%{y}<extra></extra>\",\"legendgroup\":\"Lesotho\",\"marker\":{\"color\":\"#ab63fa\",\"pattern\":{\"shape\":\"\"}},\"name\":\"Lesotho\",\"offsetgroup\":\"Lesotho\",\"orientation\":\"v\",\"showlegend\":true,\"textposition\":\"auto\",\"x\":[\"Lesotho\"],\"xaxis\":\"x\",\"y\":[8500.0],\"yaxis\":\"y\",\"type\":\"bar\"},{\"alignmentgroup\":\"True\",\"hovertemplate\":\"Country=%{x}<br>Number of children who receive ART=%{y}<extra></extra>\",\"legendgroup\":\"Liberia\",\"marker\":{\"color\":\"#FFA15A\",\"pattern\":{\"shape\":\"\"}},\"name\":\"Liberia\",\"offsetgroup\":\"Liberia\",\"orientation\":\"v\",\"showlegend\":true,\"textposition\":\"auto\",\"x\":[\"Liberia\"],\"xaxis\":\"x\",\"y\":[680.0],\"yaxis\":\"y\",\"type\":\"bar\"},{\"alignmentgroup\":\"True\",\"hovertemplate\":\"Country=%{x}<br>Number of children who receive ART=%{y}<extra></extra>\",\"legendgroup\":\"Madagascar\",\"marker\":{\"color\":\"#19d3f3\",\"pattern\":{\"shape\":\"\"}},\"name\":\"Madagascar\",\"offsetgroup\":\"Madagascar\",\"orientation\":\"v\",\"showlegend\":true,\"textposition\":\"auto\",\"x\":[\"Madagascar\"],\"xaxis\":\"x\",\"y\":[90.0],\"yaxis\":\"y\",\"type\":\"bar\"},{\"alignmentgroup\":\"True\",\"hovertemplate\":\"Country=%{x}<br>Number of children who receive ART=%{y}<extra></extra>\",\"legendgroup\":\"Malawi\",\"marker\":{\"color\":\"#FF6692\",\"pattern\":{\"shape\":\"\"}},\"name\":\"Malawi\",\"offsetgroup\":\"Malawi\",\"orientation\":\"v\",\"showlegend\":true,\"textposition\":\"auto\",\"x\":[\"Malawi\"],\"xaxis\":\"x\",\"y\":[null],\"yaxis\":\"y\",\"type\":\"bar\"},{\"alignmentgroup\":\"True\",\"hovertemplate\":\"Country=%{x}<br>Number of children who receive ART=%{y}<extra></extra>\",\"legendgroup\":\"Mali\",\"marker\":{\"color\":\"#B6E880\",\"pattern\":{\"shape\":\"\"}},\"name\":\"Mali\",\"offsetgroup\":\"Mali\",\"orientation\":\"v\",\"showlegend\":true,\"textposition\":\"auto\",\"x\":[\"Mali\"],\"xaxis\":\"x\",\"y\":[3400.0],\"yaxis\":\"y\",\"type\":\"bar\"},{\"alignmentgroup\":\"True\",\"hovertemplate\":\"Country=%{x}<br>Number of children who receive ART=%{y}<extra></extra>\",\"legendgroup\":\"Mauritania\",\"marker\":{\"color\":\"#FF97FF\",\"pattern\":{\"shape\":\"\"}},\"name\":\"Mauritania\",\"offsetgroup\":\"Mauritania\",\"orientation\":\"v\",\"showlegend\":true,\"textposition\":\"auto\",\"x\":[\"Mauritania\"],\"xaxis\":\"x\",\"y\":[180.0],\"yaxis\":\"y\",\"type\":\"bar\"},{\"alignmentgroup\":\"True\",\"hovertemplate\":\"Country=%{x}<br>Number of children who receive ART=%{y}<extra></extra>\",\"legendgroup\":\"Mauritius\",\"marker\":{\"color\":\"#FECB52\",\"pattern\":{\"shape\":\"\"}},\"name\":\"Mauritius\",\"offsetgroup\":\"Mauritius\",\"orientation\":\"v\",\"showlegend\":true,\"textposition\":\"auto\",\"x\":[\"Mauritius\"],\"xaxis\":\"x\",\"y\":[40.0],\"yaxis\":\"y\",\"type\":\"bar\"},{\"alignmentgroup\":\"True\",\"hovertemplate\":\"Country=%{x}<br>Number of children who receive ART=%{y}<extra></extra>\",\"legendgroup\":\"Mozambique\",\"marker\":{\"color\":\"#636efa\",\"pattern\":{\"shape\":\"\"}},\"name\":\"Mozambique\",\"offsetgroup\":\"Mozambique\",\"orientation\":\"v\",\"showlegend\":true,\"textposition\":\"auto\",\"x\":[\"Mozambique\"],\"xaxis\":\"x\",\"y\":[null],\"yaxis\":\"y\",\"type\":\"bar\"},{\"alignmentgroup\":\"True\",\"hovertemplate\":\"Country=%{x}<br>Number of children who receive ART=%{y}<extra></extra>\",\"legendgroup\":\"Namibia\",\"marker\":{\"color\":\"#EF553B\",\"pattern\":{\"shape\":\"\"}},\"name\":\"Namibia\",\"offsetgroup\":\"Namibia\",\"orientation\":\"v\",\"showlegend\":true,\"textposition\":\"auto\",\"x\":[\"Namibia\"],\"xaxis\":\"x\",\"y\":[8600.0],\"yaxis\":\"y\",\"type\":\"bar\"},{\"alignmentgroup\":\"True\",\"hovertemplate\":\"Country=%{x}<br>Number of children who receive ART=%{y}<extra></extra>\",\"legendgroup\":\"Niger\",\"marker\":{\"color\":\"#00cc96\",\"pattern\":{\"shape\":\"\"}},\"name\":\"Niger\",\"offsetgroup\":\"Niger\",\"orientation\":\"v\",\"showlegend\":true,\"textposition\":\"auto\",\"x\":[\"Niger\"],\"xaxis\":\"x\",\"y\":[1300.0],\"yaxis\":\"y\",\"type\":\"bar\"},{\"alignmentgroup\":\"True\",\"hovertemplate\":\"Country=%{x}<br>Number of children who receive ART=%{y}<extra></extra>\",\"legendgroup\":\"Nigeria\",\"marker\":{\"color\":\"#ab63fa\",\"pattern\":{\"shape\":\"\"}},\"name\":\"Nigeria\",\"offsetgroup\":\"Nigeria\",\"orientation\":\"v\",\"showlegend\":true,\"textposition\":\"auto\",\"x\":[\"Nigeria\"],\"xaxis\":\"x\",\"y\":[null],\"yaxis\":\"y\",\"type\":\"bar\"},{\"alignmentgroup\":\"True\",\"hovertemplate\":\"Country=%{x}<br>Number of children who receive ART=%{y}<extra></extra>\",\"legendgroup\":\"Rwanda\",\"marker\":{\"color\":\"#FFA15A\",\"pattern\":{\"shape\":\"\"}},\"name\":\"Rwanda\",\"offsetgroup\":\"Rwanda\",\"orientation\":\"v\",\"showlegend\":true,\"textposition\":\"auto\",\"x\":[\"Rwanda\"],\"xaxis\":\"x\",\"y\":[7500.0],\"yaxis\":\"y\",\"type\":\"bar\"},{\"alignmentgroup\":\"True\",\"hovertemplate\":\"Country=%{x}<br>Number of children who receive ART=%{y}<extra></extra>\",\"legendgroup\":\"Senegal\",\"marker\":{\"color\":\"#19d3f3\",\"pattern\":{\"shape\":\"\"}},\"name\":\"Senegal\",\"offsetgroup\":\"Senegal\",\"orientation\":\"v\",\"showlegend\":true,\"textposition\":\"auto\",\"x\":[\"Senegal\"],\"xaxis\":\"x\",\"y\":[1400.0],\"yaxis\":\"y\",\"type\":\"bar\"},{\"alignmentgroup\":\"True\",\"hovertemplate\":\"Country=%{x}<br>Number of children who receive ART=%{y}<extra></extra>\",\"legendgroup\":\"Sierra Leone\",\"marker\":{\"color\":\"#FF6692\",\"pattern\":{\"shape\":\"\"}},\"name\":\"Sierra Leone\",\"offsetgroup\":\"Sierra Leone\",\"orientation\":\"v\",\"showlegend\":true,\"textposition\":\"auto\",\"x\":[\"Sierra Leone\"],\"xaxis\":\"x\",\"y\":[1100.0],\"yaxis\":\"y\",\"type\":\"bar\"},{\"alignmentgroup\":\"True\",\"hovertemplate\":\"Country=%{x}<br>Number of children who receive ART=%{y}<extra></extra>\",\"legendgroup\":\"South Africa\",\"marker\":{\"color\":\"#B6E880\",\"pattern\":{\"shape\":\"\"}},\"name\":\"South Africa\",\"offsetgroup\":\"South Africa\",\"orientation\":\"v\",\"showlegend\":true,\"textposition\":\"auto\",\"x\":[\"South Africa\"],\"xaxis\":\"x\",\"y\":[null],\"yaxis\":\"y\",\"type\":\"bar\"},{\"alignmentgroup\":\"True\",\"hovertemplate\":\"Country=%{x}<br>Number of children who receive ART=%{y}<extra></extra>\",\"legendgroup\":\"South Sudan\",\"marker\":{\"color\":\"#FF97FF\",\"pattern\":{\"shape\":\"\"}},\"name\":\"South Sudan\",\"offsetgroup\":\"South Sudan\",\"orientation\":\"v\",\"showlegend\":true,\"textposition\":\"auto\",\"x\":[\"South Sudan\"],\"xaxis\":\"x\",\"y\":[1500.0],\"yaxis\":\"y\",\"type\":\"bar\"},{\"alignmentgroup\":\"True\",\"hovertemplate\":\"Country=%{x}<br>Number of children who receive ART=%{y}<extra></extra>\",\"legendgroup\":\"Togo\",\"marker\":{\"color\":\"#FECB52\",\"pattern\":{\"shape\":\"\"}},\"name\":\"Togo\",\"offsetgroup\":\"Togo\",\"orientation\":\"v\",\"showlegend\":true,\"textposition\":\"auto\",\"x\":[\"Togo\"],\"xaxis\":\"x\",\"y\":[4200.0],\"yaxis\":\"y\",\"type\":\"bar\"},{\"alignmentgroup\":\"True\",\"hovertemplate\":\"Country=%{x}<br>Number of children who receive ART=%{y}<extra></extra>\",\"legendgroup\":\"Uganda\",\"marker\":{\"color\":\"#636efa\",\"pattern\":{\"shape\":\"\"}},\"name\":\"Uganda\",\"offsetgroup\":\"Uganda\",\"orientation\":\"v\",\"showlegend\":true,\"textposition\":\"auto\",\"x\":[\"Uganda\"],\"xaxis\":\"x\",\"y\":[null],\"yaxis\":\"y\",\"type\":\"bar\"},{\"alignmentgroup\":\"True\",\"hovertemplate\":\"Country=%{x}<br>Number of children who receive ART=%{y}<extra></extra>\",\"legendgroup\":\"United Republic of Tanzania\",\"marker\":{\"color\":\"#EF553B\",\"pattern\":{\"shape\":\"\"}},\"name\":\"United Republic of Tanzania\",\"offsetgroup\":\"United Republic of Tanzania\",\"orientation\":\"v\",\"showlegend\":true,\"textposition\":\"auto\",\"x\":[\"United Republic of Tanzania\"],\"xaxis\":\"x\",\"y\":[null],\"yaxis\":\"y\",\"type\":\"bar\"},{\"alignmentgroup\":\"True\",\"hovertemplate\":\"Country=%{x}<br>Number of children who receive ART=%{y}<extra></extra>\",\"legendgroup\":\"Zambia\",\"marker\":{\"color\":\"#00cc96\",\"pattern\":{\"shape\":\"\"}},\"name\":\"Zambia\",\"offsetgroup\":\"Zambia\",\"orientation\":\"v\",\"showlegend\":true,\"textposition\":\"auto\",\"x\":[\"Zambia\"],\"xaxis\":\"x\",\"y\":[null],\"yaxis\":\"y\",\"type\":\"bar\"},{\"alignmentgroup\":\"True\",\"hovertemplate\":\"Country=%{x}<br>Number of children who receive ART=%{y}<extra></extra>\",\"legendgroup\":\"Zimbabwe\",\"marker\":{\"color\":\"#ab63fa\",\"pattern\":{\"shape\":\"\"}},\"name\":\"Zimbabwe\",\"offsetgroup\":\"Zimbabwe\",\"orientation\":\"v\",\"showlegend\":true,\"textposition\":\"auto\",\"x\":[\"Zimbabwe\"],\"xaxis\":\"x\",\"y\":[null],\"yaxis\":\"y\",\"type\":\"bar\"}],                        {\"template\":{\"data\":{\"histogram2dcontour\":[{\"type\":\"histogram2dcontour\",\"colorbar\":{\"outlinewidth\":0,\"ticks\":\"\"},\"colorscale\":[[0.0,\"#0d0887\"],[0.1111111111111111,\"#46039f\"],[0.2222222222222222,\"#7201a8\"],[0.3333333333333333,\"#9c179e\"],[0.4444444444444444,\"#bd3786\"],[0.5555555555555556,\"#d8576b\"],[0.6666666666666666,\"#ed7953\"],[0.7777777777777778,\"#fb9f3a\"],[0.8888888888888888,\"#fdca26\"],[1.0,\"#f0f921\"]]}],\"choropleth\":[{\"type\":\"choropleth\",\"colorbar\":{\"outlinewidth\":0,\"ticks\":\"\"}}],\"histogram2d\":[{\"type\":\"histogram2d\",\"colorbar\":{\"outlinewidth\":0,\"ticks\":\"\"},\"colorscale\":[[0.0,\"#0d0887\"],[0.1111111111111111,\"#46039f\"],[0.2222222222222222,\"#7201a8\"],[0.3333333333333333,\"#9c179e\"],[0.4444444444444444,\"#bd3786\"],[0.5555555555555556,\"#d8576b\"],[0.6666666666666666,\"#ed7953\"],[0.7777777777777778,\"#fb9f3a\"],[0.8888888888888888,\"#fdca26\"],[1.0,\"#f0f921\"]]}],\"heatmap\":[{\"type\":\"heatmap\",\"colorbar\":{\"outlinewidth\":0,\"ticks\":\"\"},\"colorscale\":[[0.0,\"#0d0887\"],[0.1111111111111111,\"#46039f\"],[0.2222222222222222,\"#7201a8\"],[0.3333333333333333,\"#9c179e\"],[0.4444444444444444,\"#bd3786\"],[0.5555555555555556,\"#d8576b\"],[0.6666666666666666,\"#ed7953\"],[0.7777777777777778,\"#fb9f3a\"],[0.8888888888888888,\"#fdca26\"],[1.0,\"#f0f921\"]]}],\"heatmapgl\":[{\"type\":\"heatmapgl\",\"colorbar\":{\"outlinewidth\":0,\"ticks\":\"\"},\"colorscale\":[[0.0,\"#0d0887\"],[0.1111111111111111,\"#46039f\"],[0.2222222222222222,\"#7201a8\"],[0.3333333333333333,\"#9c179e\"],[0.4444444444444444,\"#bd3786\"],[0.5555555555555556,\"#d8576b\"],[0.6666666666666666,\"#ed7953\"],[0.7777777777777778,\"#fb9f3a\"],[0.8888888888888888,\"#fdca26\"],[1.0,\"#f0f921\"]]}],\"contourcarpet\":[{\"type\":\"contourcarpet\",\"colorbar\":{\"outlinewidth\":0,\"ticks\":\"\"}}],\"contour\":[{\"type\":\"contour\",\"colorbar\":{\"outlinewidth\":0,\"ticks\":\"\"},\"colorscale\":[[0.0,\"#0d0887\"],[0.1111111111111111,\"#46039f\"],[0.2222222222222222,\"#7201a8\"],[0.3333333333333333,\"#9c179e\"],[0.4444444444444444,\"#bd3786\"],[0.5555555555555556,\"#d8576b\"],[0.6666666666666666,\"#ed7953\"],[0.7777777777777778,\"#fb9f3a\"],[0.8888888888888888,\"#fdca26\"],[1.0,\"#f0f921\"]]}],\"surface\":[{\"type\":\"surface\",\"colorbar\":{\"outlinewidth\":0,\"ticks\":\"\"},\"colorscale\":[[0.0,\"#0d0887\"],[0.1111111111111111,\"#46039f\"],[0.2222222222222222,\"#7201a8\"],[0.3333333333333333,\"#9c179e\"],[0.4444444444444444,\"#bd3786\"],[0.5555555555555556,\"#d8576b\"],[0.6666666666666666,\"#ed7953\"],[0.7777777777777778,\"#fb9f3a\"],[0.8888888888888888,\"#fdca26\"],[1.0,\"#f0f921\"]]}],\"mesh3d\":[{\"type\":\"mesh3d\",\"colorbar\":{\"outlinewidth\":0,\"ticks\":\"\"}}],\"scatter\":[{\"fillpattern\":{\"fillmode\":\"overlay\",\"size\":10,\"solidity\":0.2},\"type\":\"scatter\"}],\"parcoords\":[{\"type\":\"parcoords\",\"line\":{\"colorbar\":{\"outlinewidth\":0,\"ticks\":\"\"}}}],\"scatterpolargl\":[{\"type\":\"scatterpolargl\",\"marker\":{\"colorbar\":{\"outlinewidth\":0,\"ticks\":\"\"}}}],\"bar\":[{\"error_x\":{\"color\":\"#2a3f5f\"},\"error_y\":{\"color\":\"#2a3f5f\"},\"marker\":{\"line\":{\"color\":\"#E5ECF6\",\"width\":0.5},\"pattern\":{\"fillmode\":\"overlay\",\"size\":10,\"solidity\":0.2}},\"type\":\"bar\"}],\"scattergeo\":[{\"type\":\"scattergeo\",\"marker\":{\"colorbar\":{\"outlinewidth\":0,\"ticks\":\"\"}}}],\"scatterpolar\":[{\"type\":\"scatterpolar\",\"marker\":{\"colorbar\":{\"outlinewidth\":0,\"ticks\":\"\"}}}],\"histogram\":[{\"marker\":{\"pattern\":{\"fillmode\":\"overlay\",\"size\":10,\"solidity\":0.2}},\"type\":\"histogram\"}],\"scattergl\":[{\"type\":\"scattergl\",\"marker\":{\"colorbar\":{\"outlinewidth\":0,\"ticks\":\"\"}}}],\"scatter3d\":[{\"type\":\"scatter3d\",\"line\":{\"colorbar\":{\"outlinewidth\":0,\"ticks\":\"\"}},\"marker\":{\"colorbar\":{\"outlinewidth\":0,\"ticks\":\"\"}}}],\"scattermapbox\":[{\"type\":\"scattermapbox\",\"marker\":{\"colorbar\":{\"outlinewidth\":0,\"ticks\":\"\"}}}],\"scatterternary\":[{\"type\":\"scatterternary\",\"marker\":{\"colorbar\":{\"outlinewidth\":0,\"ticks\":\"\"}}}],\"scattercarpet\":[{\"type\":\"scattercarpet\",\"marker\":{\"colorbar\":{\"outlinewidth\":0,\"ticks\":\"\"}}}],\"carpet\":[{\"aaxis\":{\"endlinecolor\":\"#2a3f5f\",\"gridcolor\":\"white\",\"linecolor\":\"white\",\"minorgridcolor\":\"white\",\"startlinecolor\":\"#2a3f5f\"},\"baxis\":{\"endlinecolor\":\"#2a3f5f\",\"gridcolor\":\"white\",\"linecolor\":\"white\",\"minorgridcolor\":\"white\",\"startlinecolor\":\"#2a3f5f\"},\"type\":\"carpet\"}],\"table\":[{\"cells\":{\"fill\":{\"color\":\"#EBF0F8\"},\"line\":{\"color\":\"white\"}},\"header\":{\"fill\":{\"color\":\"#C8D4E3\"},\"line\":{\"color\":\"white\"}},\"type\":\"table\"}],\"barpolar\":[{\"marker\":{\"line\":{\"color\":\"#E5ECF6\",\"width\":0.5},\"pattern\":{\"fillmode\":\"overlay\",\"size\":10,\"solidity\":0.2}},\"type\":\"barpolar\"}],\"pie\":[{\"automargin\":true,\"type\":\"pie\"}]},\"layout\":{\"autotypenumbers\":\"strict\",\"colorway\":[\"#636efa\",\"#EF553B\",\"#00cc96\",\"#ab63fa\",\"#FFA15A\",\"#19d3f3\",\"#FF6692\",\"#B6E880\",\"#FF97FF\",\"#FECB52\"],\"font\":{\"color\":\"#2a3f5f\"},\"hovermode\":\"closest\",\"hoverlabel\":{\"align\":\"left\"},\"paper_bgcolor\":\"white\",\"plot_bgcolor\":\"#E5ECF6\",\"polar\":{\"bgcolor\":\"#E5ECF6\",\"angularaxis\":{\"gridcolor\":\"white\",\"linecolor\":\"white\",\"ticks\":\"\"},\"radialaxis\":{\"gridcolor\":\"white\",\"linecolor\":\"white\",\"ticks\":\"\"}},\"ternary\":{\"bgcolor\":\"#E5ECF6\",\"aaxis\":{\"gridcolor\":\"white\",\"linecolor\":\"white\",\"ticks\":\"\"},\"baxis\":{\"gridcolor\":\"white\",\"linecolor\":\"white\",\"ticks\":\"\"},\"caxis\":{\"gridcolor\":\"white\",\"linecolor\":\"white\",\"ticks\":\"\"}},\"coloraxis\":{\"colorbar\":{\"outlinewidth\":0,\"ticks\":\"\"}},\"colorscale\":{\"sequential\":[[0.0,\"#0d0887\"],[0.1111111111111111,\"#46039f\"],[0.2222222222222222,\"#7201a8\"],[0.3333333333333333,\"#9c179e\"],[0.4444444444444444,\"#bd3786\"],[0.5555555555555556,\"#d8576b\"],[0.6666666666666666,\"#ed7953\"],[0.7777777777777778,\"#fb9f3a\"],[0.8888888888888888,\"#fdca26\"],[1.0,\"#f0f921\"]],\"sequentialminus\":[[0.0,\"#0d0887\"],[0.1111111111111111,\"#46039f\"],[0.2222222222222222,\"#7201a8\"],[0.3333333333333333,\"#9c179e\"],[0.4444444444444444,\"#bd3786\"],[0.5555555555555556,\"#d8576b\"],[0.6666666666666666,\"#ed7953\"],[0.7777777777777778,\"#fb9f3a\"],[0.8888888888888888,\"#fdca26\"],[1.0,\"#f0f921\"]],\"diverging\":[[0,\"#8e0152\"],[0.1,\"#c51b7d\"],[0.2,\"#de77ae\"],[0.3,\"#f1b6da\"],[0.4,\"#fde0ef\"],[0.5,\"#f7f7f7\"],[0.6,\"#e6f5d0\"],[0.7,\"#b8e186\"],[0.8,\"#7fbc41\"],[0.9,\"#4d9221\"],[1,\"#276419\"]]},\"xaxis\":{\"gridcolor\":\"white\",\"linecolor\":\"white\",\"ticks\":\"\",\"title\":{\"standoff\":15},\"zerolinecolor\":\"white\",\"automargin\":true,\"zerolinewidth\":2},\"yaxis\":{\"gridcolor\":\"white\",\"linecolor\":\"white\",\"ticks\":\"\",\"title\":{\"standoff\":15},\"zerolinecolor\":\"white\",\"automargin\":true,\"zerolinewidth\":2},\"scene\":{\"xaxis\":{\"backgroundcolor\":\"#E5ECF6\",\"gridcolor\":\"white\",\"linecolor\":\"white\",\"showbackground\":true,\"ticks\":\"\",\"zerolinecolor\":\"white\",\"gridwidth\":2},\"yaxis\":{\"backgroundcolor\":\"#E5ECF6\",\"gridcolor\":\"white\",\"linecolor\":\"white\",\"showbackground\":true,\"ticks\":\"\",\"zerolinecolor\":\"white\",\"gridwidth\":2},\"zaxis\":{\"backgroundcolor\":\"#E5ECF6\",\"gridcolor\":\"white\",\"linecolor\":\"white\",\"showbackground\":true,\"ticks\":\"\",\"zerolinecolor\":\"white\",\"gridwidth\":2}},\"shapedefaults\":{\"line\":{\"color\":\"#2a3f5f\"}},\"annotationdefaults\":{\"arrowcolor\":\"#2a3f5f\",\"arrowhead\":0,\"arrowwidth\":1},\"geo\":{\"bgcolor\":\"white\",\"landcolor\":\"#E5ECF6\",\"subunitcolor\":\"white\",\"showland\":true,\"showlakes\":true,\"lakecolor\":\"white\"},\"title\":{\"x\":0.05},\"mapbox\":{\"style\":\"light\"}}},\"xaxis\":{\"anchor\":\"y\",\"domain\":[0.0,1.0],\"title\":{\"text\":\"Country\"},\"categoryorder\":\"array\",\"categoryarray\":[\"Algeria\",\"Angola\",\"Benin\",\"Botswana\",\"Burkina Faso\",\"Burundi\",\"Cabo Verde\",\"Cameroon\",\"Central African Republic\",\"Chad\",\"Comoros\",\"C\\u00f4te d'Ivoire\",\"Democratic Republic of the Congo\",\"Equatorial Guinea\",\"Eritrea\",\"Eswatini\",\"Ethiopia\",\"Gabon\",\"Gambia\",\"Ghana\",\"Guinea\",\"Guinea-Bissau\",\"Kenya\",\"Lesotho\",\"Liberia\",\"Madagascar\",\"Malawi\",\"Mali\",\"Mauritania\",\"Mauritius\",\"Mozambique\",\"Namibia\",\"Niger\",\"Nigeria\",\"Rwanda\",\"Senegal\",\"Sierra Leone\",\"South Africa\",\"South Sudan\",\"Togo\",\"Uganda\",\"United Republic of Tanzania\",\"Zambia\",\"Zimbabwe\"],\"tickangle\":90},\"yaxis\":{\"anchor\":\"x\",\"domain\":[0.0,1.0],\"title\":{\"text\":\"Number of children who receive ART\"}},\"legend\":{\"title\":{\"text\":\"Country\"},\"tracegroupgap\":0},\"title\":{\"text\":\"Children who receive ART - Africa\"},\"barmode\":\"relative\",\"height\":500,\"width\":1000},                        {\"responsive\": true}                    ).then(function(){\n",
       "                            \n",
       "var gd = document.getElementById('6715f4cc-a7d7-44a5-9851-60032565e1e3');\n",
       "var x = new MutationObserver(function (mutations, observer) {{\n",
       "        var display = window.getComputedStyle(gd).display;\n",
       "        if (!display || display === 'none') {{\n",
       "            console.log([gd, 'removed!']);\n",
       "            Plotly.purge(gd);\n",
       "            observer.disconnect();\n",
       "        }}\n",
       "}});\n",
       "\n",
       "// Listen for the removal of the full notebook cells\n",
       "var notebookContainer = gd.closest('#notebook-container');\n",
       "if (notebookContainer) {{\n",
       "    x.observe(notebookContainer, {childList: true});\n",
       "}}\n",
       "\n",
       "// Listen for the clearing of the current output cell\n",
       "var outputEl = gd.closest('.output');\n",
       "if (outputEl) {{\n",
       "    x.observe(outputEl, {childList: true});\n",
       "}}\n",
       "\n",
       "                        })                };                });            </script>        </div>"
      ]
     },
     "metadata": {},
     "output_type": "display_data"
    }
   ],
   "source": [
    "fig = px.bar(ChildrenreceivingART, x=ChildrenreceivingART.index, y='Reported number of children receiving ART', \n",
    "             title=\"Children who receive ART - Africa\",\n",
    "             labels={'Reported number of children receiving ART': 'Number of children who receive ART'},\n",
    "             color=ChildrenreceivingART.index,  # Color by the index\n",
    "             height=500, width=1000)\n",
    "\n",
    "fig.update_xaxes(tickangle=90)\n",
    "fig.show()\n"
   ]
  },
  {
   "cell_type": "markdown",
   "id": "df1ec319",
   "metadata": {},
   "source": [
    "#### Eswatini and Namibia has the highest number of children who receives ART, followed by Lesotho."
   ]
  },
  {
   "cell_type": "code",
   "execution_count": 197,
   "id": "7b6ada0c",
   "metadata": {
    "collapsed": true
   },
   "outputs": [
    {
     "data": {
      "text/html": [
       "<div>\n",
       "<style scoped>\n",
       "    .dataframe tbody tr th:only-of-type {\n",
       "        vertical-align: middle;\n",
       "    }\n",
       "\n",
       "    .dataframe tbody tr th {\n",
       "        vertical-align: top;\n",
       "    }\n",
       "\n",
       "    .dataframe thead th {\n",
       "        text-align: right;\n",
       "    }\n",
       "</style>\n",
       "<table border=\"1\" class=\"dataframe\">\n",
       "  <thead>\n",
       "    <tr style=\"text-align: right;\">\n",
       "      <th></th>\n",
       "      <th>Estimated number of children needing ART based on WHO methods_median</th>\n",
       "    </tr>\n",
       "    <tr>\n",
       "      <th>Country</th>\n",
       "      <th></th>\n",
       "    </tr>\n",
       "  </thead>\n",
       "  <tbody>\n",
       "    <tr>\n",
       "      <th>Algeria</th>\n",
       "      <td>500.0</td>\n",
       "    </tr>\n",
       "    <tr>\n",
       "      <th>Angola</th>\n",
       "      <td>38000.0</td>\n",
       "    </tr>\n",
       "    <tr>\n",
       "      <th>Benin</th>\n",
       "      <td>4600.0</td>\n",
       "    </tr>\n",
       "    <tr>\n",
       "      <th>Botswana</th>\n",
       "      <td>14000.0</td>\n",
       "    </tr>\n",
       "    <tr>\n",
       "      <th>Burkina Faso</th>\n",
       "      <td>9100.0</td>\n",
       "    </tr>\n",
       "    <tr>\n",
       "      <th>Burundi</th>\n",
       "      <td>11000.0</td>\n",
       "    </tr>\n",
       "    <tr>\n",
       "      <th>Cabo Verde</th>\n",
       "      <td>36200.0</td>\n",
       "    </tr>\n",
       "    <tr>\n",
       "      <th>Cameroon</th>\n",
       "      <td>43000.0</td>\n",
       "    </tr>\n",
       "    <tr>\n",
       "      <th>Central African Republic</th>\n",
       "      <td>11000.0</td>\n",
       "    </tr>\n",
       "    <tr>\n",
       "      <th>Chad</th>\n",
       "      <td>16000.0</td>\n",
       "    </tr>\n",
       "    <tr>\n",
       "      <th>Comoros</th>\n",
       "      <td>36200.0</td>\n",
       "    </tr>\n",
       "    <tr>\n",
       "      <th>Côte d'Ivoire</th>\n",
       "      <td>31000.0</td>\n",
       "    </tr>\n",
       "    <tr>\n",
       "      <th>Democratic Republic of the Congo</th>\n",
       "      <td>64000.0</td>\n",
       "    </tr>\n",
       "    <tr>\n",
       "      <th>Equatorial Guinea</th>\n",
       "      <td>5300.0</td>\n",
       "    </tr>\n",
       "    <tr>\n",
       "      <th>Eritrea</th>\n",
       "      <td>1300.0</td>\n",
       "    </tr>\n",
       "    <tr>\n",
       "      <th>Eswatini</th>\n",
       "      <td>11000.0</td>\n",
       "    </tr>\n",
       "    <tr>\n",
       "      <th>Ethiopia</th>\n",
       "      <td>36000.0</td>\n",
       "    </tr>\n",
       "    <tr>\n",
       "      <th>Gabon</th>\n",
       "      <td>3200.0</td>\n",
       "    </tr>\n",
       "    <tr>\n",
       "      <th>Gambia</th>\n",
       "      <td>1900.0</td>\n",
       "    </tr>\n",
       "    <tr>\n",
       "      <th>Ghana</th>\n",
       "      <td>30000.0</td>\n",
       "    </tr>\n",
       "    <tr>\n",
       "      <th>Guinea</th>\n",
       "      <td>10000.0</td>\n",
       "    </tr>\n",
       "    <tr>\n",
       "      <th>Guinea-Bissau</th>\n",
       "      <td>5700.0</td>\n",
       "    </tr>\n",
       "    <tr>\n",
       "      <th>Kenya</th>\n",
       "      <td>120000.0</td>\n",
       "    </tr>\n",
       "    <tr>\n",
       "      <th>Lesotho</th>\n",
       "      <td>12000.0</td>\n",
       "    </tr>\n",
       "    <tr>\n",
       "      <th>Liberia</th>\n",
       "      <td>3700.0</td>\n",
       "    </tr>\n",
       "    <tr>\n",
       "      <th>Madagascar</th>\n",
       "      <td>1900.0</td>\n",
       "    </tr>\n",
       "    <tr>\n",
       "      <th>Malawi</th>\n",
       "      <td>74000.0</td>\n",
       "    </tr>\n",
       "    <tr>\n",
       "      <th>Mali</th>\n",
       "      <td>19000.0</td>\n",
       "    </tr>\n",
       "    <tr>\n",
       "      <th>Mauritania</th>\n",
       "      <td>500.0</td>\n",
       "    </tr>\n",
       "    <tr>\n",
       "      <th>Mauritius</th>\n",
       "      <td>100.0</td>\n",
       "    </tr>\n",
       "    <tr>\n",
       "      <th>Mozambique</th>\n",
       "      <td>140000.0</td>\n",
       "    </tr>\n",
       "    <tr>\n",
       "      <th>Namibia</th>\n",
       "      <td>11000.0</td>\n",
       "    </tr>\n",
       "    <tr>\n",
       "      <th>Niger</th>\n",
       "      <td>2500.0</td>\n",
       "    </tr>\n",
       "    <tr>\n",
       "      <th>Nigeria</th>\n",
       "      <td>140000.0</td>\n",
       "    </tr>\n",
       "    <tr>\n",
       "      <th>Rwanda</th>\n",
       "      <td>12000.0</td>\n",
       "    </tr>\n",
       "    <tr>\n",
       "      <th>Senegal</th>\n",
       "      <td>4500.0</td>\n",
       "    </tr>\n",
       "    <tr>\n",
       "      <th>Sierra Leone</th>\n",
       "      <td>6600.0</td>\n",
       "    </tr>\n",
       "    <tr>\n",
       "      <th>South Africa</th>\n",
       "      <td>260000.0</td>\n",
       "    </tr>\n",
       "    <tr>\n",
       "      <th>South Sudan</th>\n",
       "      <td>16000.0</td>\n",
       "    </tr>\n",
       "    <tr>\n",
       "      <th>Togo</th>\n",
       "      <td>12000.0</td>\n",
       "    </tr>\n",
       "    <tr>\n",
       "      <th>Uganda</th>\n",
       "      <td>100000.0</td>\n",
       "    </tr>\n",
       "    <tr>\n",
       "      <th>United Republic of Tanzania</th>\n",
       "      <td>92000.0</td>\n",
       "    </tr>\n",
       "    <tr>\n",
       "      <th>Zambia</th>\n",
       "      <td>62000.0</td>\n",
       "    </tr>\n",
       "    <tr>\n",
       "      <th>Zimbabwe</th>\n",
       "      <td>84000.0</td>\n",
       "    </tr>\n",
       "  </tbody>\n",
       "</table>\n",
       "</div>"
      ],
      "text/plain": [
       "                                  Estimated number of children needing ART based on WHO methods_median\n",
       "Country                                                                                               \n",
       "Algeria                                                                       500.0                   \n",
       "Angola                                                                      38000.0                   \n",
       "Benin                                                                        4600.0                   \n",
       "Botswana                                                                    14000.0                   \n",
       "Burkina Faso                                                                 9100.0                   \n",
       "Burundi                                                                     11000.0                   \n",
       "Cabo Verde                                                                  36200.0                   \n",
       "Cameroon                                                                    43000.0                   \n",
       "Central African Republic                                                    11000.0                   \n",
       "Chad                                                                        16000.0                   \n",
       "Comoros                                                                     36200.0                   \n",
       "Côte d'Ivoire                                                               31000.0                   \n",
       "Democratic Republic of the Congo                                            64000.0                   \n",
       "Equatorial Guinea                                                            5300.0                   \n",
       "Eritrea                                                                      1300.0                   \n",
       "Eswatini                                                                    11000.0                   \n",
       "Ethiopia                                                                    36000.0                   \n",
       "Gabon                                                                        3200.0                   \n",
       "Gambia                                                                       1900.0                   \n",
       "Ghana                                                                       30000.0                   \n",
       "Guinea                                                                      10000.0                   \n",
       "Guinea-Bissau                                                                5700.0                   \n",
       "Kenya                                                                      120000.0                   \n",
       "Lesotho                                                                     12000.0                   \n",
       "Liberia                                                                      3700.0                   \n",
       "Madagascar                                                                   1900.0                   \n",
       "Malawi                                                                      74000.0                   \n",
       "Mali                                                                        19000.0                   \n",
       "Mauritania                                                                    500.0                   \n",
       "Mauritius                                                                     100.0                   \n",
       "Mozambique                                                                 140000.0                   \n",
       "Namibia                                                                     11000.0                   \n",
       "Niger                                                                        2500.0                   \n",
       "Nigeria                                                                    140000.0                   \n",
       "Rwanda                                                                      12000.0                   \n",
       "Senegal                                                                      4500.0                   \n",
       "Sierra Leone                                                                 6600.0                   \n",
       "South Africa                                                               260000.0                   \n",
       "South Sudan                                                                 16000.0                   \n",
       "Togo                                                                        12000.0                   \n",
       "Uganda                                                                     100000.0                   \n",
       "United Republic of Tanzania                                                 92000.0                   \n",
       "Zambia                                                                      62000.0                   \n",
       "Zimbabwe                                                                    84000.0                   "
      ]
     },
     "execution_count": 197,
     "metadata": {},
     "output_type": "execute_result"
    }
   ],
   "source": [
    "childrenneedingART = pd.DataFrame(afr_pediatricCoverage_df.groupby('Country').mean()['Estimated number of children needing ART based on WHO methods_median'])\n",
    "childrenneedingART"
   ]
  },
  {
   "cell_type": "code",
   "execution_count": 198,
   "id": "8a086383",
   "metadata": {},
   "outputs": [
    {
     "data": {
      "application/vnd.plotly.v1+json": {
       "config": {
        "plotlyServerURL": "https://plot.ly"
       },
       "data": [
        {
         "alignmentgroup": "True",
         "hovertemplate": "Country=%{x}<br>Number of children who need ART=%{y}<extra></extra>",
         "legendgroup": "Algeria",
         "marker": {
          "color": "#636efa",
          "pattern": {
           "shape": ""
          }
         },
         "name": "Algeria",
         "offsetgroup": "Algeria",
         "orientation": "v",
         "showlegend": true,
         "textposition": "auto",
         "type": "bar",
         "x": [
          "Algeria"
         ],
         "xaxis": "x",
         "y": [
          500
         ],
         "yaxis": "y"
        },
        {
         "alignmentgroup": "True",
         "hovertemplate": "Country=%{x}<br>Number of children who need ART=%{y}<extra></extra>",
         "legendgroup": "Angola",
         "marker": {
          "color": "#EF553B",
          "pattern": {
           "shape": ""
          }
         },
         "name": "Angola",
         "offsetgroup": "Angola",
         "orientation": "v",
         "showlegend": true,
         "textposition": "auto",
         "type": "bar",
         "x": [
          "Angola"
         ],
         "xaxis": "x",
         "y": [
          38000
         ],
         "yaxis": "y"
        },
        {
         "alignmentgroup": "True",
         "hovertemplate": "Country=%{x}<br>Number of children who need ART=%{y}<extra></extra>",
         "legendgroup": "Benin",
         "marker": {
          "color": "#00cc96",
          "pattern": {
           "shape": ""
          }
         },
         "name": "Benin",
         "offsetgroup": "Benin",
         "orientation": "v",
         "showlegend": true,
         "textposition": "auto",
         "type": "bar",
         "x": [
          "Benin"
         ],
         "xaxis": "x",
         "y": [
          4600
         ],
         "yaxis": "y"
        },
        {
         "alignmentgroup": "True",
         "hovertemplate": "Country=%{x}<br>Number of children who need ART=%{y}<extra></extra>",
         "legendgroup": "Botswana",
         "marker": {
          "color": "#ab63fa",
          "pattern": {
           "shape": ""
          }
         },
         "name": "Botswana",
         "offsetgroup": "Botswana",
         "orientation": "v",
         "showlegend": true,
         "textposition": "auto",
         "type": "bar",
         "x": [
          "Botswana"
         ],
         "xaxis": "x",
         "y": [
          14000
         ],
         "yaxis": "y"
        },
        {
         "alignmentgroup": "True",
         "hovertemplate": "Country=%{x}<br>Number of children who need ART=%{y}<extra></extra>",
         "legendgroup": "Burkina Faso",
         "marker": {
          "color": "#FFA15A",
          "pattern": {
           "shape": ""
          }
         },
         "name": "Burkina Faso",
         "offsetgroup": "Burkina Faso",
         "orientation": "v",
         "showlegend": true,
         "textposition": "auto",
         "type": "bar",
         "x": [
          "Burkina Faso"
         ],
         "xaxis": "x",
         "y": [
          9100
         ],
         "yaxis": "y"
        },
        {
         "alignmentgroup": "True",
         "hovertemplate": "Country=%{x}<br>Number of children who need ART=%{y}<extra></extra>",
         "legendgroup": "Burundi",
         "marker": {
          "color": "#19d3f3",
          "pattern": {
           "shape": ""
          }
         },
         "name": "Burundi",
         "offsetgroup": "Burundi",
         "orientation": "v",
         "showlegend": true,
         "textposition": "auto",
         "type": "bar",
         "x": [
          "Burundi"
         ],
         "xaxis": "x",
         "y": [
          11000
         ],
         "yaxis": "y"
        },
        {
         "alignmentgroup": "True",
         "hovertemplate": "Country=%{x}<br>Number of children who need ART=%{y}<extra></extra>",
         "legendgroup": "Cabo Verde",
         "marker": {
          "color": "#FF6692",
          "pattern": {
           "shape": ""
          }
         },
         "name": "Cabo Verde",
         "offsetgroup": "Cabo Verde",
         "orientation": "v",
         "showlegend": true,
         "textposition": "auto",
         "type": "bar",
         "x": [
          "Cabo Verde"
         ],
         "xaxis": "x",
         "y": [
          36200
         ],
         "yaxis": "y"
        },
        {
         "alignmentgroup": "True",
         "hovertemplate": "Country=%{x}<br>Number of children who need ART=%{y}<extra></extra>",
         "legendgroup": "Cameroon",
         "marker": {
          "color": "#B6E880",
          "pattern": {
           "shape": ""
          }
         },
         "name": "Cameroon",
         "offsetgroup": "Cameroon",
         "orientation": "v",
         "showlegend": true,
         "textposition": "auto",
         "type": "bar",
         "x": [
          "Cameroon"
         ],
         "xaxis": "x",
         "y": [
          43000
         ],
         "yaxis": "y"
        },
        {
         "alignmentgroup": "True",
         "hovertemplate": "Country=%{x}<br>Number of children who need ART=%{y}<extra></extra>",
         "legendgroup": "Central African Republic",
         "marker": {
          "color": "#FF97FF",
          "pattern": {
           "shape": ""
          }
         },
         "name": "Central African Republic",
         "offsetgroup": "Central African Republic",
         "orientation": "v",
         "showlegend": true,
         "textposition": "auto",
         "type": "bar",
         "x": [
          "Central African Republic"
         ],
         "xaxis": "x",
         "y": [
          11000
         ],
         "yaxis": "y"
        },
        {
         "alignmentgroup": "True",
         "hovertemplate": "Country=%{x}<br>Number of children who need ART=%{y}<extra></extra>",
         "legendgroup": "Chad",
         "marker": {
          "color": "#FECB52",
          "pattern": {
           "shape": ""
          }
         },
         "name": "Chad",
         "offsetgroup": "Chad",
         "orientation": "v",
         "showlegend": true,
         "textposition": "auto",
         "type": "bar",
         "x": [
          "Chad"
         ],
         "xaxis": "x",
         "y": [
          16000
         ],
         "yaxis": "y"
        },
        {
         "alignmentgroup": "True",
         "hovertemplate": "Country=%{x}<br>Number of children who need ART=%{y}<extra></extra>",
         "legendgroup": "Comoros",
         "marker": {
          "color": "#636efa",
          "pattern": {
           "shape": ""
          }
         },
         "name": "Comoros",
         "offsetgroup": "Comoros",
         "orientation": "v",
         "showlegend": true,
         "textposition": "auto",
         "type": "bar",
         "x": [
          "Comoros"
         ],
         "xaxis": "x",
         "y": [
          36200
         ],
         "yaxis": "y"
        },
        {
         "alignmentgroup": "True",
         "hovertemplate": "Country=%{x}<br>Number of children who need ART=%{y}<extra></extra>",
         "legendgroup": "Côte d'Ivoire",
         "marker": {
          "color": "#EF553B",
          "pattern": {
           "shape": ""
          }
         },
         "name": "Côte d'Ivoire",
         "offsetgroup": "Côte d'Ivoire",
         "orientation": "v",
         "showlegend": true,
         "textposition": "auto",
         "type": "bar",
         "x": [
          "Côte d'Ivoire"
         ],
         "xaxis": "x",
         "y": [
          31000
         ],
         "yaxis": "y"
        },
        {
         "alignmentgroup": "True",
         "hovertemplate": "Country=%{x}<br>Number of children who need ART=%{y}<extra></extra>",
         "legendgroup": "Democratic Republic of the Congo",
         "marker": {
          "color": "#00cc96",
          "pattern": {
           "shape": ""
          }
         },
         "name": "Democratic Republic of the Congo",
         "offsetgroup": "Democratic Republic of the Congo",
         "orientation": "v",
         "showlegend": true,
         "textposition": "auto",
         "type": "bar",
         "x": [
          "Democratic Republic of the Congo"
         ],
         "xaxis": "x",
         "y": [
          64000
         ],
         "yaxis": "y"
        },
        {
         "alignmentgroup": "True",
         "hovertemplate": "Country=%{x}<br>Number of children who need ART=%{y}<extra></extra>",
         "legendgroup": "Equatorial Guinea",
         "marker": {
          "color": "#ab63fa",
          "pattern": {
           "shape": ""
          }
         },
         "name": "Equatorial Guinea",
         "offsetgroup": "Equatorial Guinea",
         "orientation": "v",
         "showlegend": true,
         "textposition": "auto",
         "type": "bar",
         "x": [
          "Equatorial Guinea"
         ],
         "xaxis": "x",
         "y": [
          5300
         ],
         "yaxis": "y"
        },
        {
         "alignmentgroup": "True",
         "hovertemplate": "Country=%{x}<br>Number of children who need ART=%{y}<extra></extra>",
         "legendgroup": "Eritrea",
         "marker": {
          "color": "#FFA15A",
          "pattern": {
           "shape": ""
          }
         },
         "name": "Eritrea",
         "offsetgroup": "Eritrea",
         "orientation": "v",
         "showlegend": true,
         "textposition": "auto",
         "type": "bar",
         "x": [
          "Eritrea"
         ],
         "xaxis": "x",
         "y": [
          1300
         ],
         "yaxis": "y"
        },
        {
         "alignmentgroup": "True",
         "hovertemplate": "Country=%{x}<br>Number of children who need ART=%{y}<extra></extra>",
         "legendgroup": "Eswatini",
         "marker": {
          "color": "#19d3f3",
          "pattern": {
           "shape": ""
          }
         },
         "name": "Eswatini",
         "offsetgroup": "Eswatini",
         "orientation": "v",
         "showlegend": true,
         "textposition": "auto",
         "type": "bar",
         "x": [
          "Eswatini"
         ],
         "xaxis": "x",
         "y": [
          11000
         ],
         "yaxis": "y"
        },
        {
         "alignmentgroup": "True",
         "hovertemplate": "Country=%{x}<br>Number of children who need ART=%{y}<extra></extra>",
         "legendgroup": "Ethiopia",
         "marker": {
          "color": "#FF6692",
          "pattern": {
           "shape": ""
          }
         },
         "name": "Ethiopia",
         "offsetgroup": "Ethiopia",
         "orientation": "v",
         "showlegend": true,
         "textposition": "auto",
         "type": "bar",
         "x": [
          "Ethiopia"
         ],
         "xaxis": "x",
         "y": [
          36000
         ],
         "yaxis": "y"
        },
        {
         "alignmentgroup": "True",
         "hovertemplate": "Country=%{x}<br>Number of children who need ART=%{y}<extra></extra>",
         "legendgroup": "Gabon",
         "marker": {
          "color": "#B6E880",
          "pattern": {
           "shape": ""
          }
         },
         "name": "Gabon",
         "offsetgroup": "Gabon",
         "orientation": "v",
         "showlegend": true,
         "textposition": "auto",
         "type": "bar",
         "x": [
          "Gabon"
         ],
         "xaxis": "x",
         "y": [
          3200
         ],
         "yaxis": "y"
        },
        {
         "alignmentgroup": "True",
         "hovertemplate": "Country=%{x}<br>Number of children who need ART=%{y}<extra></extra>",
         "legendgroup": "Gambia",
         "marker": {
          "color": "#FF97FF",
          "pattern": {
           "shape": ""
          }
         },
         "name": "Gambia",
         "offsetgroup": "Gambia",
         "orientation": "v",
         "showlegend": true,
         "textposition": "auto",
         "type": "bar",
         "x": [
          "Gambia"
         ],
         "xaxis": "x",
         "y": [
          1900
         ],
         "yaxis": "y"
        },
        {
         "alignmentgroup": "True",
         "hovertemplate": "Country=%{x}<br>Number of children who need ART=%{y}<extra></extra>",
         "legendgroup": "Ghana",
         "marker": {
          "color": "#FECB52",
          "pattern": {
           "shape": ""
          }
         },
         "name": "Ghana",
         "offsetgroup": "Ghana",
         "orientation": "v",
         "showlegend": true,
         "textposition": "auto",
         "type": "bar",
         "x": [
          "Ghana"
         ],
         "xaxis": "x",
         "y": [
          30000
         ],
         "yaxis": "y"
        },
        {
         "alignmentgroup": "True",
         "hovertemplate": "Country=%{x}<br>Number of children who need ART=%{y}<extra></extra>",
         "legendgroup": "Guinea",
         "marker": {
          "color": "#636efa",
          "pattern": {
           "shape": ""
          }
         },
         "name": "Guinea",
         "offsetgroup": "Guinea",
         "orientation": "v",
         "showlegend": true,
         "textposition": "auto",
         "type": "bar",
         "x": [
          "Guinea"
         ],
         "xaxis": "x",
         "y": [
          10000
         ],
         "yaxis": "y"
        },
        {
         "alignmentgroup": "True",
         "hovertemplate": "Country=%{x}<br>Number of children who need ART=%{y}<extra></extra>",
         "legendgroup": "Guinea-Bissau",
         "marker": {
          "color": "#EF553B",
          "pattern": {
           "shape": ""
          }
         },
         "name": "Guinea-Bissau",
         "offsetgroup": "Guinea-Bissau",
         "orientation": "v",
         "showlegend": true,
         "textposition": "auto",
         "type": "bar",
         "x": [
          "Guinea-Bissau"
         ],
         "xaxis": "x",
         "y": [
          5700
         ],
         "yaxis": "y"
        },
        {
         "alignmentgroup": "True",
         "hovertemplate": "Country=%{x}<br>Number of children who need ART=%{y}<extra></extra>",
         "legendgroup": "Kenya",
         "marker": {
          "color": "#00cc96",
          "pattern": {
           "shape": ""
          }
         },
         "name": "Kenya",
         "offsetgroup": "Kenya",
         "orientation": "v",
         "showlegend": true,
         "textposition": "auto",
         "type": "bar",
         "x": [
          "Kenya"
         ],
         "xaxis": "x",
         "y": [
          120000
         ],
         "yaxis": "y"
        },
        {
         "alignmentgroup": "True",
         "hovertemplate": "Country=%{x}<br>Number of children who need ART=%{y}<extra></extra>",
         "legendgroup": "Lesotho",
         "marker": {
          "color": "#ab63fa",
          "pattern": {
           "shape": ""
          }
         },
         "name": "Lesotho",
         "offsetgroup": "Lesotho",
         "orientation": "v",
         "showlegend": true,
         "textposition": "auto",
         "type": "bar",
         "x": [
          "Lesotho"
         ],
         "xaxis": "x",
         "y": [
          12000
         ],
         "yaxis": "y"
        },
        {
         "alignmentgroup": "True",
         "hovertemplate": "Country=%{x}<br>Number of children who need ART=%{y}<extra></extra>",
         "legendgroup": "Liberia",
         "marker": {
          "color": "#FFA15A",
          "pattern": {
           "shape": ""
          }
         },
         "name": "Liberia",
         "offsetgroup": "Liberia",
         "orientation": "v",
         "showlegend": true,
         "textposition": "auto",
         "type": "bar",
         "x": [
          "Liberia"
         ],
         "xaxis": "x",
         "y": [
          3700
         ],
         "yaxis": "y"
        },
        {
         "alignmentgroup": "True",
         "hovertemplate": "Country=%{x}<br>Number of children who need ART=%{y}<extra></extra>",
         "legendgroup": "Madagascar",
         "marker": {
          "color": "#19d3f3",
          "pattern": {
           "shape": ""
          }
         },
         "name": "Madagascar",
         "offsetgroup": "Madagascar",
         "orientation": "v",
         "showlegend": true,
         "textposition": "auto",
         "type": "bar",
         "x": [
          "Madagascar"
         ],
         "xaxis": "x",
         "y": [
          1900
         ],
         "yaxis": "y"
        },
        {
         "alignmentgroup": "True",
         "hovertemplate": "Country=%{x}<br>Number of children who need ART=%{y}<extra></extra>",
         "legendgroup": "Malawi",
         "marker": {
          "color": "#FF6692",
          "pattern": {
           "shape": ""
          }
         },
         "name": "Malawi",
         "offsetgroup": "Malawi",
         "orientation": "v",
         "showlegend": true,
         "textposition": "auto",
         "type": "bar",
         "x": [
          "Malawi"
         ],
         "xaxis": "x",
         "y": [
          74000
         ],
         "yaxis": "y"
        },
        {
         "alignmentgroup": "True",
         "hovertemplate": "Country=%{x}<br>Number of children who need ART=%{y}<extra></extra>",
         "legendgroup": "Mali",
         "marker": {
          "color": "#B6E880",
          "pattern": {
           "shape": ""
          }
         },
         "name": "Mali",
         "offsetgroup": "Mali",
         "orientation": "v",
         "showlegend": true,
         "textposition": "auto",
         "type": "bar",
         "x": [
          "Mali"
         ],
         "xaxis": "x",
         "y": [
          19000
         ],
         "yaxis": "y"
        },
        {
         "alignmentgroup": "True",
         "hovertemplate": "Country=%{x}<br>Number of children who need ART=%{y}<extra></extra>",
         "legendgroup": "Mauritania",
         "marker": {
          "color": "#FF97FF",
          "pattern": {
           "shape": ""
          }
         },
         "name": "Mauritania",
         "offsetgroup": "Mauritania",
         "orientation": "v",
         "showlegend": true,
         "textposition": "auto",
         "type": "bar",
         "x": [
          "Mauritania"
         ],
         "xaxis": "x",
         "y": [
          500
         ],
         "yaxis": "y"
        },
        {
         "alignmentgroup": "True",
         "hovertemplate": "Country=%{x}<br>Number of children who need ART=%{y}<extra></extra>",
         "legendgroup": "Mauritius",
         "marker": {
          "color": "#FECB52",
          "pattern": {
           "shape": ""
          }
         },
         "name": "Mauritius",
         "offsetgroup": "Mauritius",
         "orientation": "v",
         "showlegend": true,
         "textposition": "auto",
         "type": "bar",
         "x": [
          "Mauritius"
         ],
         "xaxis": "x",
         "y": [
          100
         ],
         "yaxis": "y"
        },
        {
         "alignmentgroup": "True",
         "hovertemplate": "Country=%{x}<br>Number of children who need ART=%{y}<extra></extra>",
         "legendgroup": "Mozambique",
         "marker": {
          "color": "#636efa",
          "pattern": {
           "shape": ""
          }
         },
         "name": "Mozambique",
         "offsetgroup": "Mozambique",
         "orientation": "v",
         "showlegend": true,
         "textposition": "auto",
         "type": "bar",
         "x": [
          "Mozambique"
         ],
         "xaxis": "x",
         "y": [
          140000
         ],
         "yaxis": "y"
        },
        {
         "alignmentgroup": "True",
         "hovertemplate": "Country=%{x}<br>Number of children who need ART=%{y}<extra></extra>",
         "legendgroup": "Namibia",
         "marker": {
          "color": "#EF553B",
          "pattern": {
           "shape": ""
          }
         },
         "name": "Namibia",
         "offsetgroup": "Namibia",
         "orientation": "v",
         "showlegend": true,
         "textposition": "auto",
         "type": "bar",
         "x": [
          "Namibia"
         ],
         "xaxis": "x",
         "y": [
          11000
         ],
         "yaxis": "y"
        },
        {
         "alignmentgroup": "True",
         "hovertemplate": "Country=%{x}<br>Number of children who need ART=%{y}<extra></extra>",
         "legendgroup": "Niger",
         "marker": {
          "color": "#00cc96",
          "pattern": {
           "shape": ""
          }
         },
         "name": "Niger",
         "offsetgroup": "Niger",
         "orientation": "v",
         "showlegend": true,
         "textposition": "auto",
         "type": "bar",
         "x": [
          "Niger"
         ],
         "xaxis": "x",
         "y": [
          2500
         ],
         "yaxis": "y"
        },
        {
         "alignmentgroup": "True",
         "hovertemplate": "Country=%{x}<br>Number of children who need ART=%{y}<extra></extra>",
         "legendgroup": "Nigeria",
         "marker": {
          "color": "#ab63fa",
          "pattern": {
           "shape": ""
          }
         },
         "name": "Nigeria",
         "offsetgroup": "Nigeria",
         "orientation": "v",
         "showlegend": true,
         "textposition": "auto",
         "type": "bar",
         "x": [
          "Nigeria"
         ],
         "xaxis": "x",
         "y": [
          140000
         ],
         "yaxis": "y"
        },
        {
         "alignmentgroup": "True",
         "hovertemplate": "Country=%{x}<br>Number of children who need ART=%{y}<extra></extra>",
         "legendgroup": "Rwanda",
         "marker": {
          "color": "#FFA15A",
          "pattern": {
           "shape": ""
          }
         },
         "name": "Rwanda",
         "offsetgroup": "Rwanda",
         "orientation": "v",
         "showlegend": true,
         "textposition": "auto",
         "type": "bar",
         "x": [
          "Rwanda"
         ],
         "xaxis": "x",
         "y": [
          12000
         ],
         "yaxis": "y"
        },
        {
         "alignmentgroup": "True",
         "hovertemplate": "Country=%{x}<br>Number of children who need ART=%{y}<extra></extra>",
         "legendgroup": "Senegal",
         "marker": {
          "color": "#19d3f3",
          "pattern": {
           "shape": ""
          }
         },
         "name": "Senegal",
         "offsetgroup": "Senegal",
         "orientation": "v",
         "showlegend": true,
         "textposition": "auto",
         "type": "bar",
         "x": [
          "Senegal"
         ],
         "xaxis": "x",
         "y": [
          4500
         ],
         "yaxis": "y"
        },
        {
         "alignmentgroup": "True",
         "hovertemplate": "Country=%{x}<br>Number of children who need ART=%{y}<extra></extra>",
         "legendgroup": "Sierra Leone",
         "marker": {
          "color": "#FF6692",
          "pattern": {
           "shape": ""
          }
         },
         "name": "Sierra Leone",
         "offsetgroup": "Sierra Leone",
         "orientation": "v",
         "showlegend": true,
         "textposition": "auto",
         "type": "bar",
         "x": [
          "Sierra Leone"
         ],
         "xaxis": "x",
         "y": [
          6600
         ],
         "yaxis": "y"
        },
        {
         "alignmentgroup": "True",
         "hovertemplate": "Country=%{x}<br>Number of children who need ART=%{y}<extra></extra>",
         "legendgroup": "South Africa",
         "marker": {
          "color": "#B6E880",
          "pattern": {
           "shape": ""
          }
         },
         "name": "South Africa",
         "offsetgroup": "South Africa",
         "orientation": "v",
         "showlegend": true,
         "textposition": "auto",
         "type": "bar",
         "x": [
          "South Africa"
         ],
         "xaxis": "x",
         "y": [
          260000
         ],
         "yaxis": "y"
        },
        {
         "alignmentgroup": "True",
         "hovertemplate": "Country=%{x}<br>Number of children who need ART=%{y}<extra></extra>",
         "legendgroup": "South Sudan",
         "marker": {
          "color": "#FF97FF",
          "pattern": {
           "shape": ""
          }
         },
         "name": "South Sudan",
         "offsetgroup": "South Sudan",
         "orientation": "v",
         "showlegend": true,
         "textposition": "auto",
         "type": "bar",
         "x": [
          "South Sudan"
         ],
         "xaxis": "x",
         "y": [
          16000
         ],
         "yaxis": "y"
        },
        {
         "alignmentgroup": "True",
         "hovertemplate": "Country=%{x}<br>Number of children who need ART=%{y}<extra></extra>",
         "legendgroup": "Togo",
         "marker": {
          "color": "#FECB52",
          "pattern": {
           "shape": ""
          }
         },
         "name": "Togo",
         "offsetgroup": "Togo",
         "orientation": "v",
         "showlegend": true,
         "textposition": "auto",
         "type": "bar",
         "x": [
          "Togo"
         ],
         "xaxis": "x",
         "y": [
          12000
         ],
         "yaxis": "y"
        },
        {
         "alignmentgroup": "True",
         "hovertemplate": "Country=%{x}<br>Number of children who need ART=%{y}<extra></extra>",
         "legendgroup": "Uganda",
         "marker": {
          "color": "#636efa",
          "pattern": {
           "shape": ""
          }
         },
         "name": "Uganda",
         "offsetgroup": "Uganda",
         "orientation": "v",
         "showlegend": true,
         "textposition": "auto",
         "type": "bar",
         "x": [
          "Uganda"
         ],
         "xaxis": "x",
         "y": [
          100000
         ],
         "yaxis": "y"
        },
        {
         "alignmentgroup": "True",
         "hovertemplate": "Country=%{x}<br>Number of children who need ART=%{y}<extra></extra>",
         "legendgroup": "United Republic of Tanzania",
         "marker": {
          "color": "#EF553B",
          "pattern": {
           "shape": ""
          }
         },
         "name": "United Republic of Tanzania",
         "offsetgroup": "United Republic of Tanzania",
         "orientation": "v",
         "showlegend": true,
         "textposition": "auto",
         "type": "bar",
         "x": [
          "United Republic of Tanzania"
         ],
         "xaxis": "x",
         "y": [
          92000
         ],
         "yaxis": "y"
        },
        {
         "alignmentgroup": "True",
         "hovertemplate": "Country=%{x}<br>Number of children who need ART=%{y}<extra></extra>",
         "legendgroup": "Zambia",
         "marker": {
          "color": "#00cc96",
          "pattern": {
           "shape": ""
          }
         },
         "name": "Zambia",
         "offsetgroup": "Zambia",
         "orientation": "v",
         "showlegend": true,
         "textposition": "auto",
         "type": "bar",
         "x": [
          "Zambia"
         ],
         "xaxis": "x",
         "y": [
          62000
         ],
         "yaxis": "y"
        },
        {
         "alignmentgroup": "True",
         "hovertemplate": "Country=%{x}<br>Number of children who need ART=%{y}<extra></extra>",
         "legendgroup": "Zimbabwe",
         "marker": {
          "color": "#ab63fa",
          "pattern": {
           "shape": ""
          }
         },
         "name": "Zimbabwe",
         "offsetgroup": "Zimbabwe",
         "orientation": "v",
         "showlegend": true,
         "textposition": "auto",
         "type": "bar",
         "x": [
          "Zimbabwe"
         ],
         "xaxis": "x",
         "y": [
          84000
         ],
         "yaxis": "y"
        }
       ],
       "layout": {
        "barmode": "relative",
        "height": 500,
        "legend": {
         "title": {
          "text": "Country"
         },
         "tracegroupgap": 0
        },
        "template": {
         "data": {
          "bar": [
           {
            "error_x": {
             "color": "#2a3f5f"
            },
            "error_y": {
             "color": "#2a3f5f"
            },
            "marker": {
             "line": {
              "color": "#E5ECF6",
              "width": 0.5
             },
             "pattern": {
              "fillmode": "overlay",
              "size": 10,
              "solidity": 0.2
             }
            },
            "type": "bar"
           }
          ],
          "barpolar": [
           {
            "marker": {
             "line": {
              "color": "#E5ECF6",
              "width": 0.5
             },
             "pattern": {
              "fillmode": "overlay",
              "size": 10,
              "solidity": 0.2
             }
            },
            "type": "barpolar"
           }
          ],
          "carpet": [
           {
            "aaxis": {
             "endlinecolor": "#2a3f5f",
             "gridcolor": "white",
             "linecolor": "white",
             "minorgridcolor": "white",
             "startlinecolor": "#2a3f5f"
            },
            "baxis": {
             "endlinecolor": "#2a3f5f",
             "gridcolor": "white",
             "linecolor": "white",
             "minorgridcolor": "white",
             "startlinecolor": "#2a3f5f"
            },
            "type": "carpet"
           }
          ],
          "choropleth": [
           {
            "colorbar": {
             "outlinewidth": 0,
             "ticks": ""
            },
            "type": "choropleth"
           }
          ],
          "contour": [
           {
            "colorbar": {
             "outlinewidth": 0,
             "ticks": ""
            },
            "colorscale": [
             [
              0,
              "#0d0887"
             ],
             [
              0.1111111111111111,
              "#46039f"
             ],
             [
              0.2222222222222222,
              "#7201a8"
             ],
             [
              0.3333333333333333,
              "#9c179e"
             ],
             [
              0.4444444444444444,
              "#bd3786"
             ],
             [
              0.5555555555555556,
              "#d8576b"
             ],
             [
              0.6666666666666666,
              "#ed7953"
             ],
             [
              0.7777777777777778,
              "#fb9f3a"
             ],
             [
              0.8888888888888888,
              "#fdca26"
             ],
             [
              1,
              "#f0f921"
             ]
            ],
            "type": "contour"
           }
          ],
          "contourcarpet": [
           {
            "colorbar": {
             "outlinewidth": 0,
             "ticks": ""
            },
            "type": "contourcarpet"
           }
          ],
          "heatmap": [
           {
            "colorbar": {
             "outlinewidth": 0,
             "ticks": ""
            },
            "colorscale": [
             [
              0,
              "#0d0887"
             ],
             [
              0.1111111111111111,
              "#46039f"
             ],
             [
              0.2222222222222222,
              "#7201a8"
             ],
             [
              0.3333333333333333,
              "#9c179e"
             ],
             [
              0.4444444444444444,
              "#bd3786"
             ],
             [
              0.5555555555555556,
              "#d8576b"
             ],
             [
              0.6666666666666666,
              "#ed7953"
             ],
             [
              0.7777777777777778,
              "#fb9f3a"
             ],
             [
              0.8888888888888888,
              "#fdca26"
             ],
             [
              1,
              "#f0f921"
             ]
            ],
            "type": "heatmap"
           }
          ],
          "heatmapgl": [
           {
            "colorbar": {
             "outlinewidth": 0,
             "ticks": ""
            },
            "colorscale": [
             [
              0,
              "#0d0887"
             ],
             [
              0.1111111111111111,
              "#46039f"
             ],
             [
              0.2222222222222222,
              "#7201a8"
             ],
             [
              0.3333333333333333,
              "#9c179e"
             ],
             [
              0.4444444444444444,
              "#bd3786"
             ],
             [
              0.5555555555555556,
              "#d8576b"
             ],
             [
              0.6666666666666666,
              "#ed7953"
             ],
             [
              0.7777777777777778,
              "#fb9f3a"
             ],
             [
              0.8888888888888888,
              "#fdca26"
             ],
             [
              1,
              "#f0f921"
             ]
            ],
            "type": "heatmapgl"
           }
          ],
          "histogram": [
           {
            "marker": {
             "pattern": {
              "fillmode": "overlay",
              "size": 10,
              "solidity": 0.2
             }
            },
            "type": "histogram"
           }
          ],
          "histogram2d": [
           {
            "colorbar": {
             "outlinewidth": 0,
             "ticks": ""
            },
            "colorscale": [
             [
              0,
              "#0d0887"
             ],
             [
              0.1111111111111111,
              "#46039f"
             ],
             [
              0.2222222222222222,
              "#7201a8"
             ],
             [
              0.3333333333333333,
              "#9c179e"
             ],
             [
              0.4444444444444444,
              "#bd3786"
             ],
             [
              0.5555555555555556,
              "#d8576b"
             ],
             [
              0.6666666666666666,
              "#ed7953"
             ],
             [
              0.7777777777777778,
              "#fb9f3a"
             ],
             [
              0.8888888888888888,
              "#fdca26"
             ],
             [
              1,
              "#f0f921"
             ]
            ],
            "type": "histogram2d"
           }
          ],
          "histogram2dcontour": [
           {
            "colorbar": {
             "outlinewidth": 0,
             "ticks": ""
            },
            "colorscale": [
             [
              0,
              "#0d0887"
             ],
             [
              0.1111111111111111,
              "#46039f"
             ],
             [
              0.2222222222222222,
              "#7201a8"
             ],
             [
              0.3333333333333333,
              "#9c179e"
             ],
             [
              0.4444444444444444,
              "#bd3786"
             ],
             [
              0.5555555555555556,
              "#d8576b"
             ],
             [
              0.6666666666666666,
              "#ed7953"
             ],
             [
              0.7777777777777778,
              "#fb9f3a"
             ],
             [
              0.8888888888888888,
              "#fdca26"
             ],
             [
              1,
              "#f0f921"
             ]
            ],
            "type": "histogram2dcontour"
           }
          ],
          "mesh3d": [
           {
            "colorbar": {
             "outlinewidth": 0,
             "ticks": ""
            },
            "type": "mesh3d"
           }
          ],
          "parcoords": [
           {
            "line": {
             "colorbar": {
              "outlinewidth": 0,
              "ticks": ""
             }
            },
            "type": "parcoords"
           }
          ],
          "pie": [
           {
            "automargin": true,
            "type": "pie"
           }
          ],
          "scatter": [
           {
            "fillpattern": {
             "fillmode": "overlay",
             "size": 10,
             "solidity": 0.2
            },
            "type": "scatter"
           }
          ],
          "scatter3d": [
           {
            "line": {
             "colorbar": {
              "outlinewidth": 0,
              "ticks": ""
             }
            },
            "marker": {
             "colorbar": {
              "outlinewidth": 0,
              "ticks": ""
             }
            },
            "type": "scatter3d"
           }
          ],
          "scattercarpet": [
           {
            "marker": {
             "colorbar": {
              "outlinewidth": 0,
              "ticks": ""
             }
            },
            "type": "scattercarpet"
           }
          ],
          "scattergeo": [
           {
            "marker": {
             "colorbar": {
              "outlinewidth": 0,
              "ticks": ""
             }
            },
            "type": "scattergeo"
           }
          ],
          "scattergl": [
           {
            "marker": {
             "colorbar": {
              "outlinewidth": 0,
              "ticks": ""
             }
            },
            "type": "scattergl"
           }
          ],
          "scattermapbox": [
           {
            "marker": {
             "colorbar": {
              "outlinewidth": 0,
              "ticks": ""
             }
            },
            "type": "scattermapbox"
           }
          ],
          "scatterpolar": [
           {
            "marker": {
             "colorbar": {
              "outlinewidth": 0,
              "ticks": ""
             }
            },
            "type": "scatterpolar"
           }
          ],
          "scatterpolargl": [
           {
            "marker": {
             "colorbar": {
              "outlinewidth": 0,
              "ticks": ""
             }
            },
            "type": "scatterpolargl"
           }
          ],
          "scatterternary": [
           {
            "marker": {
             "colorbar": {
              "outlinewidth": 0,
              "ticks": ""
             }
            },
            "type": "scatterternary"
           }
          ],
          "surface": [
           {
            "colorbar": {
             "outlinewidth": 0,
             "ticks": ""
            },
            "colorscale": [
             [
              0,
              "#0d0887"
             ],
             [
              0.1111111111111111,
              "#46039f"
             ],
             [
              0.2222222222222222,
              "#7201a8"
             ],
             [
              0.3333333333333333,
              "#9c179e"
             ],
             [
              0.4444444444444444,
              "#bd3786"
             ],
             [
              0.5555555555555556,
              "#d8576b"
             ],
             [
              0.6666666666666666,
              "#ed7953"
             ],
             [
              0.7777777777777778,
              "#fb9f3a"
             ],
             [
              0.8888888888888888,
              "#fdca26"
             ],
             [
              1,
              "#f0f921"
             ]
            ],
            "type": "surface"
           }
          ],
          "table": [
           {
            "cells": {
             "fill": {
              "color": "#EBF0F8"
             },
             "line": {
              "color": "white"
             }
            },
            "header": {
             "fill": {
              "color": "#C8D4E3"
             },
             "line": {
              "color": "white"
             }
            },
            "type": "table"
           }
          ]
         },
         "layout": {
          "annotationdefaults": {
           "arrowcolor": "#2a3f5f",
           "arrowhead": 0,
           "arrowwidth": 1
          },
          "autotypenumbers": "strict",
          "coloraxis": {
           "colorbar": {
            "outlinewidth": 0,
            "ticks": ""
           }
          },
          "colorscale": {
           "diverging": [
            [
             0,
             "#8e0152"
            ],
            [
             0.1,
             "#c51b7d"
            ],
            [
             0.2,
             "#de77ae"
            ],
            [
             0.3,
             "#f1b6da"
            ],
            [
             0.4,
             "#fde0ef"
            ],
            [
             0.5,
             "#f7f7f7"
            ],
            [
             0.6,
             "#e6f5d0"
            ],
            [
             0.7,
             "#b8e186"
            ],
            [
             0.8,
             "#7fbc41"
            ],
            [
             0.9,
             "#4d9221"
            ],
            [
             1,
             "#276419"
            ]
           ],
           "sequential": [
            [
             0,
             "#0d0887"
            ],
            [
             0.1111111111111111,
             "#46039f"
            ],
            [
             0.2222222222222222,
             "#7201a8"
            ],
            [
             0.3333333333333333,
             "#9c179e"
            ],
            [
             0.4444444444444444,
             "#bd3786"
            ],
            [
             0.5555555555555556,
             "#d8576b"
            ],
            [
             0.6666666666666666,
             "#ed7953"
            ],
            [
             0.7777777777777778,
             "#fb9f3a"
            ],
            [
             0.8888888888888888,
             "#fdca26"
            ],
            [
             1,
             "#f0f921"
            ]
           ],
           "sequentialminus": [
            [
             0,
             "#0d0887"
            ],
            [
             0.1111111111111111,
             "#46039f"
            ],
            [
             0.2222222222222222,
             "#7201a8"
            ],
            [
             0.3333333333333333,
             "#9c179e"
            ],
            [
             0.4444444444444444,
             "#bd3786"
            ],
            [
             0.5555555555555556,
             "#d8576b"
            ],
            [
             0.6666666666666666,
             "#ed7953"
            ],
            [
             0.7777777777777778,
             "#fb9f3a"
            ],
            [
             0.8888888888888888,
             "#fdca26"
            ],
            [
             1,
             "#f0f921"
            ]
           ]
          },
          "colorway": [
           "#636efa",
           "#EF553B",
           "#00cc96",
           "#ab63fa",
           "#FFA15A",
           "#19d3f3",
           "#FF6692",
           "#B6E880",
           "#FF97FF",
           "#FECB52"
          ],
          "font": {
           "color": "#2a3f5f"
          },
          "geo": {
           "bgcolor": "white",
           "lakecolor": "white",
           "landcolor": "#E5ECF6",
           "showlakes": true,
           "showland": true,
           "subunitcolor": "white"
          },
          "hoverlabel": {
           "align": "left"
          },
          "hovermode": "closest",
          "mapbox": {
           "style": "light"
          },
          "paper_bgcolor": "white",
          "plot_bgcolor": "#E5ECF6",
          "polar": {
           "angularaxis": {
            "gridcolor": "white",
            "linecolor": "white",
            "ticks": ""
           },
           "bgcolor": "#E5ECF6",
           "radialaxis": {
            "gridcolor": "white",
            "linecolor": "white",
            "ticks": ""
           }
          },
          "scene": {
           "xaxis": {
            "backgroundcolor": "#E5ECF6",
            "gridcolor": "white",
            "gridwidth": 2,
            "linecolor": "white",
            "showbackground": true,
            "ticks": "",
            "zerolinecolor": "white"
           },
           "yaxis": {
            "backgroundcolor": "#E5ECF6",
            "gridcolor": "white",
            "gridwidth": 2,
            "linecolor": "white",
            "showbackground": true,
            "ticks": "",
            "zerolinecolor": "white"
           },
           "zaxis": {
            "backgroundcolor": "#E5ECF6",
            "gridcolor": "white",
            "gridwidth": 2,
            "linecolor": "white",
            "showbackground": true,
            "ticks": "",
            "zerolinecolor": "white"
           }
          },
          "shapedefaults": {
           "line": {
            "color": "#2a3f5f"
           }
          },
          "ternary": {
           "aaxis": {
            "gridcolor": "white",
            "linecolor": "white",
            "ticks": ""
           },
           "baxis": {
            "gridcolor": "white",
            "linecolor": "white",
            "ticks": ""
           },
           "bgcolor": "#E5ECF6",
           "caxis": {
            "gridcolor": "white",
            "linecolor": "white",
            "ticks": ""
           }
          },
          "title": {
           "x": 0.05
          },
          "xaxis": {
           "automargin": true,
           "gridcolor": "white",
           "linecolor": "white",
           "ticks": "",
           "title": {
            "standoff": 15
           },
           "zerolinecolor": "white",
           "zerolinewidth": 2
          },
          "yaxis": {
           "automargin": true,
           "gridcolor": "white",
           "linecolor": "white",
           "ticks": "",
           "title": {
            "standoff": 15
           },
           "zerolinecolor": "white",
           "zerolinewidth": 2
          }
         }
        },
        "title": {
         "text": "Children who need ART - Country"
        },
        "width": 1100,
        "xaxis": {
         "anchor": "y",
         "categoryarray": [
          "Algeria",
          "Angola",
          "Benin",
          "Botswana",
          "Burkina Faso",
          "Burundi",
          "Cabo Verde",
          "Cameroon",
          "Central African Republic",
          "Chad",
          "Comoros",
          "Côte d'Ivoire",
          "Democratic Republic of the Congo",
          "Equatorial Guinea",
          "Eritrea",
          "Eswatini",
          "Ethiopia",
          "Gabon",
          "Gambia",
          "Ghana",
          "Guinea",
          "Guinea-Bissau",
          "Kenya",
          "Lesotho",
          "Liberia",
          "Madagascar",
          "Malawi",
          "Mali",
          "Mauritania",
          "Mauritius",
          "Mozambique",
          "Namibia",
          "Niger",
          "Nigeria",
          "Rwanda",
          "Senegal",
          "Sierra Leone",
          "South Africa",
          "South Sudan",
          "Togo",
          "Uganda",
          "United Republic of Tanzania",
          "Zambia",
          "Zimbabwe"
         ],
         "categoryorder": "array",
         "domain": [
          0,
          1
         ],
         "tickangle": 90,
         "title": {
          "text": "Country"
         }
        },
        "yaxis": {
         "anchor": "x",
         "domain": [
          0,
          1
         ],
         "title": {
          "text": "Number of children who need ART"
         }
        }
       }
      },
      "text/html": [
       "<div>                            <div id=\"0e1acd11-deaa-4be1-97ee-8429d9ccd071\" class=\"plotly-graph-div\" style=\"height:500px; width:1100px;\"></div>            <script type=\"text/javascript\">                require([\"plotly\"], function(Plotly) {                    window.PLOTLYENV=window.PLOTLYENV || {};                                    if (document.getElementById(\"0e1acd11-deaa-4be1-97ee-8429d9ccd071\")) {                    Plotly.newPlot(                        \"0e1acd11-deaa-4be1-97ee-8429d9ccd071\",                        [{\"alignmentgroup\":\"True\",\"hovertemplate\":\"Country=%{x}<br>Number of children who need ART=%{y}<extra></extra>\",\"legendgroup\":\"Algeria\",\"marker\":{\"color\":\"#636efa\",\"pattern\":{\"shape\":\"\"}},\"name\":\"Algeria\",\"offsetgroup\":\"Algeria\",\"orientation\":\"v\",\"showlegend\":true,\"textposition\":\"auto\",\"x\":[\"Algeria\"],\"xaxis\":\"x\",\"y\":[500.0],\"yaxis\":\"y\",\"type\":\"bar\"},{\"alignmentgroup\":\"True\",\"hovertemplate\":\"Country=%{x}<br>Number of children who need ART=%{y}<extra></extra>\",\"legendgroup\":\"Angola\",\"marker\":{\"color\":\"#EF553B\",\"pattern\":{\"shape\":\"\"}},\"name\":\"Angola\",\"offsetgroup\":\"Angola\",\"orientation\":\"v\",\"showlegend\":true,\"textposition\":\"auto\",\"x\":[\"Angola\"],\"xaxis\":\"x\",\"y\":[38000.0],\"yaxis\":\"y\",\"type\":\"bar\"},{\"alignmentgroup\":\"True\",\"hovertemplate\":\"Country=%{x}<br>Number of children who need ART=%{y}<extra></extra>\",\"legendgroup\":\"Benin\",\"marker\":{\"color\":\"#00cc96\",\"pattern\":{\"shape\":\"\"}},\"name\":\"Benin\",\"offsetgroup\":\"Benin\",\"orientation\":\"v\",\"showlegend\":true,\"textposition\":\"auto\",\"x\":[\"Benin\"],\"xaxis\":\"x\",\"y\":[4600.0],\"yaxis\":\"y\",\"type\":\"bar\"},{\"alignmentgroup\":\"True\",\"hovertemplate\":\"Country=%{x}<br>Number of children who need ART=%{y}<extra></extra>\",\"legendgroup\":\"Botswana\",\"marker\":{\"color\":\"#ab63fa\",\"pattern\":{\"shape\":\"\"}},\"name\":\"Botswana\",\"offsetgroup\":\"Botswana\",\"orientation\":\"v\",\"showlegend\":true,\"textposition\":\"auto\",\"x\":[\"Botswana\"],\"xaxis\":\"x\",\"y\":[14000.0],\"yaxis\":\"y\",\"type\":\"bar\"},{\"alignmentgroup\":\"True\",\"hovertemplate\":\"Country=%{x}<br>Number of children who need ART=%{y}<extra></extra>\",\"legendgroup\":\"Burkina Faso\",\"marker\":{\"color\":\"#FFA15A\",\"pattern\":{\"shape\":\"\"}},\"name\":\"Burkina Faso\",\"offsetgroup\":\"Burkina Faso\",\"orientation\":\"v\",\"showlegend\":true,\"textposition\":\"auto\",\"x\":[\"Burkina Faso\"],\"xaxis\":\"x\",\"y\":[9100.0],\"yaxis\":\"y\",\"type\":\"bar\"},{\"alignmentgroup\":\"True\",\"hovertemplate\":\"Country=%{x}<br>Number of children who need ART=%{y}<extra></extra>\",\"legendgroup\":\"Burundi\",\"marker\":{\"color\":\"#19d3f3\",\"pattern\":{\"shape\":\"\"}},\"name\":\"Burundi\",\"offsetgroup\":\"Burundi\",\"orientation\":\"v\",\"showlegend\":true,\"textposition\":\"auto\",\"x\":[\"Burundi\"],\"xaxis\":\"x\",\"y\":[11000.0],\"yaxis\":\"y\",\"type\":\"bar\"},{\"alignmentgroup\":\"True\",\"hovertemplate\":\"Country=%{x}<br>Number of children who need ART=%{y}<extra></extra>\",\"legendgroup\":\"Cabo Verde\",\"marker\":{\"color\":\"#FF6692\",\"pattern\":{\"shape\":\"\"}},\"name\":\"Cabo Verde\",\"offsetgroup\":\"Cabo Verde\",\"orientation\":\"v\",\"showlegend\":true,\"textposition\":\"auto\",\"x\":[\"Cabo Verde\"],\"xaxis\":\"x\",\"y\":[36200.0],\"yaxis\":\"y\",\"type\":\"bar\"},{\"alignmentgroup\":\"True\",\"hovertemplate\":\"Country=%{x}<br>Number of children who need ART=%{y}<extra></extra>\",\"legendgroup\":\"Cameroon\",\"marker\":{\"color\":\"#B6E880\",\"pattern\":{\"shape\":\"\"}},\"name\":\"Cameroon\",\"offsetgroup\":\"Cameroon\",\"orientation\":\"v\",\"showlegend\":true,\"textposition\":\"auto\",\"x\":[\"Cameroon\"],\"xaxis\":\"x\",\"y\":[43000.0],\"yaxis\":\"y\",\"type\":\"bar\"},{\"alignmentgroup\":\"True\",\"hovertemplate\":\"Country=%{x}<br>Number of children who need ART=%{y}<extra></extra>\",\"legendgroup\":\"Central African Republic\",\"marker\":{\"color\":\"#FF97FF\",\"pattern\":{\"shape\":\"\"}},\"name\":\"Central African Republic\",\"offsetgroup\":\"Central African Republic\",\"orientation\":\"v\",\"showlegend\":true,\"textposition\":\"auto\",\"x\":[\"Central African Republic\"],\"xaxis\":\"x\",\"y\":[11000.0],\"yaxis\":\"y\",\"type\":\"bar\"},{\"alignmentgroup\":\"True\",\"hovertemplate\":\"Country=%{x}<br>Number of children who need ART=%{y}<extra></extra>\",\"legendgroup\":\"Chad\",\"marker\":{\"color\":\"#FECB52\",\"pattern\":{\"shape\":\"\"}},\"name\":\"Chad\",\"offsetgroup\":\"Chad\",\"orientation\":\"v\",\"showlegend\":true,\"textposition\":\"auto\",\"x\":[\"Chad\"],\"xaxis\":\"x\",\"y\":[16000.0],\"yaxis\":\"y\",\"type\":\"bar\"},{\"alignmentgroup\":\"True\",\"hovertemplate\":\"Country=%{x}<br>Number of children who need ART=%{y}<extra></extra>\",\"legendgroup\":\"Comoros\",\"marker\":{\"color\":\"#636efa\",\"pattern\":{\"shape\":\"\"}},\"name\":\"Comoros\",\"offsetgroup\":\"Comoros\",\"orientation\":\"v\",\"showlegend\":true,\"textposition\":\"auto\",\"x\":[\"Comoros\"],\"xaxis\":\"x\",\"y\":[36200.0],\"yaxis\":\"y\",\"type\":\"bar\"},{\"alignmentgroup\":\"True\",\"hovertemplate\":\"Country=%{x}<br>Number of children who need ART=%{y}<extra></extra>\",\"legendgroup\":\"C\\u00f4te d'Ivoire\",\"marker\":{\"color\":\"#EF553B\",\"pattern\":{\"shape\":\"\"}},\"name\":\"C\\u00f4te d'Ivoire\",\"offsetgroup\":\"C\\u00f4te d'Ivoire\",\"orientation\":\"v\",\"showlegend\":true,\"textposition\":\"auto\",\"x\":[\"C\\u00f4te d'Ivoire\"],\"xaxis\":\"x\",\"y\":[31000.0],\"yaxis\":\"y\",\"type\":\"bar\"},{\"alignmentgroup\":\"True\",\"hovertemplate\":\"Country=%{x}<br>Number of children who need ART=%{y}<extra></extra>\",\"legendgroup\":\"Democratic Republic of the Congo\",\"marker\":{\"color\":\"#00cc96\",\"pattern\":{\"shape\":\"\"}},\"name\":\"Democratic Republic of the Congo\",\"offsetgroup\":\"Democratic Republic of the Congo\",\"orientation\":\"v\",\"showlegend\":true,\"textposition\":\"auto\",\"x\":[\"Democratic Republic of the Congo\"],\"xaxis\":\"x\",\"y\":[64000.0],\"yaxis\":\"y\",\"type\":\"bar\"},{\"alignmentgroup\":\"True\",\"hovertemplate\":\"Country=%{x}<br>Number of children who need ART=%{y}<extra></extra>\",\"legendgroup\":\"Equatorial Guinea\",\"marker\":{\"color\":\"#ab63fa\",\"pattern\":{\"shape\":\"\"}},\"name\":\"Equatorial Guinea\",\"offsetgroup\":\"Equatorial Guinea\",\"orientation\":\"v\",\"showlegend\":true,\"textposition\":\"auto\",\"x\":[\"Equatorial Guinea\"],\"xaxis\":\"x\",\"y\":[5300.0],\"yaxis\":\"y\",\"type\":\"bar\"},{\"alignmentgroup\":\"True\",\"hovertemplate\":\"Country=%{x}<br>Number of children who need ART=%{y}<extra></extra>\",\"legendgroup\":\"Eritrea\",\"marker\":{\"color\":\"#FFA15A\",\"pattern\":{\"shape\":\"\"}},\"name\":\"Eritrea\",\"offsetgroup\":\"Eritrea\",\"orientation\":\"v\",\"showlegend\":true,\"textposition\":\"auto\",\"x\":[\"Eritrea\"],\"xaxis\":\"x\",\"y\":[1300.0],\"yaxis\":\"y\",\"type\":\"bar\"},{\"alignmentgroup\":\"True\",\"hovertemplate\":\"Country=%{x}<br>Number of children who need ART=%{y}<extra></extra>\",\"legendgroup\":\"Eswatini\",\"marker\":{\"color\":\"#19d3f3\",\"pattern\":{\"shape\":\"\"}},\"name\":\"Eswatini\",\"offsetgroup\":\"Eswatini\",\"orientation\":\"v\",\"showlegend\":true,\"textposition\":\"auto\",\"x\":[\"Eswatini\"],\"xaxis\":\"x\",\"y\":[11000.0],\"yaxis\":\"y\",\"type\":\"bar\"},{\"alignmentgroup\":\"True\",\"hovertemplate\":\"Country=%{x}<br>Number of children who need ART=%{y}<extra></extra>\",\"legendgroup\":\"Ethiopia\",\"marker\":{\"color\":\"#FF6692\",\"pattern\":{\"shape\":\"\"}},\"name\":\"Ethiopia\",\"offsetgroup\":\"Ethiopia\",\"orientation\":\"v\",\"showlegend\":true,\"textposition\":\"auto\",\"x\":[\"Ethiopia\"],\"xaxis\":\"x\",\"y\":[36000.0],\"yaxis\":\"y\",\"type\":\"bar\"},{\"alignmentgroup\":\"True\",\"hovertemplate\":\"Country=%{x}<br>Number of children who need ART=%{y}<extra></extra>\",\"legendgroup\":\"Gabon\",\"marker\":{\"color\":\"#B6E880\",\"pattern\":{\"shape\":\"\"}},\"name\":\"Gabon\",\"offsetgroup\":\"Gabon\",\"orientation\":\"v\",\"showlegend\":true,\"textposition\":\"auto\",\"x\":[\"Gabon\"],\"xaxis\":\"x\",\"y\":[3200.0],\"yaxis\":\"y\",\"type\":\"bar\"},{\"alignmentgroup\":\"True\",\"hovertemplate\":\"Country=%{x}<br>Number of children who need ART=%{y}<extra></extra>\",\"legendgroup\":\"Gambia\",\"marker\":{\"color\":\"#FF97FF\",\"pattern\":{\"shape\":\"\"}},\"name\":\"Gambia\",\"offsetgroup\":\"Gambia\",\"orientation\":\"v\",\"showlegend\":true,\"textposition\":\"auto\",\"x\":[\"Gambia\"],\"xaxis\":\"x\",\"y\":[1900.0],\"yaxis\":\"y\",\"type\":\"bar\"},{\"alignmentgroup\":\"True\",\"hovertemplate\":\"Country=%{x}<br>Number of children who need ART=%{y}<extra></extra>\",\"legendgroup\":\"Ghana\",\"marker\":{\"color\":\"#FECB52\",\"pattern\":{\"shape\":\"\"}},\"name\":\"Ghana\",\"offsetgroup\":\"Ghana\",\"orientation\":\"v\",\"showlegend\":true,\"textposition\":\"auto\",\"x\":[\"Ghana\"],\"xaxis\":\"x\",\"y\":[30000.0],\"yaxis\":\"y\",\"type\":\"bar\"},{\"alignmentgroup\":\"True\",\"hovertemplate\":\"Country=%{x}<br>Number of children who need ART=%{y}<extra></extra>\",\"legendgroup\":\"Guinea\",\"marker\":{\"color\":\"#636efa\",\"pattern\":{\"shape\":\"\"}},\"name\":\"Guinea\",\"offsetgroup\":\"Guinea\",\"orientation\":\"v\",\"showlegend\":true,\"textposition\":\"auto\",\"x\":[\"Guinea\"],\"xaxis\":\"x\",\"y\":[10000.0],\"yaxis\":\"y\",\"type\":\"bar\"},{\"alignmentgroup\":\"True\",\"hovertemplate\":\"Country=%{x}<br>Number of children who need ART=%{y}<extra></extra>\",\"legendgroup\":\"Guinea-Bissau\",\"marker\":{\"color\":\"#EF553B\",\"pattern\":{\"shape\":\"\"}},\"name\":\"Guinea-Bissau\",\"offsetgroup\":\"Guinea-Bissau\",\"orientation\":\"v\",\"showlegend\":true,\"textposition\":\"auto\",\"x\":[\"Guinea-Bissau\"],\"xaxis\":\"x\",\"y\":[5700.0],\"yaxis\":\"y\",\"type\":\"bar\"},{\"alignmentgroup\":\"True\",\"hovertemplate\":\"Country=%{x}<br>Number of children who need ART=%{y}<extra></extra>\",\"legendgroup\":\"Kenya\",\"marker\":{\"color\":\"#00cc96\",\"pattern\":{\"shape\":\"\"}},\"name\":\"Kenya\",\"offsetgroup\":\"Kenya\",\"orientation\":\"v\",\"showlegend\":true,\"textposition\":\"auto\",\"x\":[\"Kenya\"],\"xaxis\":\"x\",\"y\":[120000.0],\"yaxis\":\"y\",\"type\":\"bar\"},{\"alignmentgroup\":\"True\",\"hovertemplate\":\"Country=%{x}<br>Number of children who need ART=%{y}<extra></extra>\",\"legendgroup\":\"Lesotho\",\"marker\":{\"color\":\"#ab63fa\",\"pattern\":{\"shape\":\"\"}},\"name\":\"Lesotho\",\"offsetgroup\":\"Lesotho\",\"orientation\":\"v\",\"showlegend\":true,\"textposition\":\"auto\",\"x\":[\"Lesotho\"],\"xaxis\":\"x\",\"y\":[12000.0],\"yaxis\":\"y\",\"type\":\"bar\"},{\"alignmentgroup\":\"True\",\"hovertemplate\":\"Country=%{x}<br>Number of children who need ART=%{y}<extra></extra>\",\"legendgroup\":\"Liberia\",\"marker\":{\"color\":\"#FFA15A\",\"pattern\":{\"shape\":\"\"}},\"name\":\"Liberia\",\"offsetgroup\":\"Liberia\",\"orientation\":\"v\",\"showlegend\":true,\"textposition\":\"auto\",\"x\":[\"Liberia\"],\"xaxis\":\"x\",\"y\":[3700.0],\"yaxis\":\"y\",\"type\":\"bar\"},{\"alignmentgroup\":\"True\",\"hovertemplate\":\"Country=%{x}<br>Number of children who need ART=%{y}<extra></extra>\",\"legendgroup\":\"Madagascar\",\"marker\":{\"color\":\"#19d3f3\",\"pattern\":{\"shape\":\"\"}},\"name\":\"Madagascar\",\"offsetgroup\":\"Madagascar\",\"orientation\":\"v\",\"showlegend\":true,\"textposition\":\"auto\",\"x\":[\"Madagascar\"],\"xaxis\":\"x\",\"y\":[1900.0],\"yaxis\":\"y\",\"type\":\"bar\"},{\"alignmentgroup\":\"True\",\"hovertemplate\":\"Country=%{x}<br>Number of children who need ART=%{y}<extra></extra>\",\"legendgroup\":\"Malawi\",\"marker\":{\"color\":\"#FF6692\",\"pattern\":{\"shape\":\"\"}},\"name\":\"Malawi\",\"offsetgroup\":\"Malawi\",\"orientation\":\"v\",\"showlegend\":true,\"textposition\":\"auto\",\"x\":[\"Malawi\"],\"xaxis\":\"x\",\"y\":[74000.0],\"yaxis\":\"y\",\"type\":\"bar\"},{\"alignmentgroup\":\"True\",\"hovertemplate\":\"Country=%{x}<br>Number of children who need ART=%{y}<extra></extra>\",\"legendgroup\":\"Mali\",\"marker\":{\"color\":\"#B6E880\",\"pattern\":{\"shape\":\"\"}},\"name\":\"Mali\",\"offsetgroup\":\"Mali\",\"orientation\":\"v\",\"showlegend\":true,\"textposition\":\"auto\",\"x\":[\"Mali\"],\"xaxis\":\"x\",\"y\":[19000.0],\"yaxis\":\"y\",\"type\":\"bar\"},{\"alignmentgroup\":\"True\",\"hovertemplate\":\"Country=%{x}<br>Number of children who need ART=%{y}<extra></extra>\",\"legendgroup\":\"Mauritania\",\"marker\":{\"color\":\"#FF97FF\",\"pattern\":{\"shape\":\"\"}},\"name\":\"Mauritania\",\"offsetgroup\":\"Mauritania\",\"orientation\":\"v\",\"showlegend\":true,\"textposition\":\"auto\",\"x\":[\"Mauritania\"],\"xaxis\":\"x\",\"y\":[500.0],\"yaxis\":\"y\",\"type\":\"bar\"},{\"alignmentgroup\":\"True\",\"hovertemplate\":\"Country=%{x}<br>Number of children who need ART=%{y}<extra></extra>\",\"legendgroup\":\"Mauritius\",\"marker\":{\"color\":\"#FECB52\",\"pattern\":{\"shape\":\"\"}},\"name\":\"Mauritius\",\"offsetgroup\":\"Mauritius\",\"orientation\":\"v\",\"showlegend\":true,\"textposition\":\"auto\",\"x\":[\"Mauritius\"],\"xaxis\":\"x\",\"y\":[100.0],\"yaxis\":\"y\",\"type\":\"bar\"},{\"alignmentgroup\":\"True\",\"hovertemplate\":\"Country=%{x}<br>Number of children who need ART=%{y}<extra></extra>\",\"legendgroup\":\"Mozambique\",\"marker\":{\"color\":\"#636efa\",\"pattern\":{\"shape\":\"\"}},\"name\":\"Mozambique\",\"offsetgroup\":\"Mozambique\",\"orientation\":\"v\",\"showlegend\":true,\"textposition\":\"auto\",\"x\":[\"Mozambique\"],\"xaxis\":\"x\",\"y\":[140000.0],\"yaxis\":\"y\",\"type\":\"bar\"},{\"alignmentgroup\":\"True\",\"hovertemplate\":\"Country=%{x}<br>Number of children who need ART=%{y}<extra></extra>\",\"legendgroup\":\"Namibia\",\"marker\":{\"color\":\"#EF553B\",\"pattern\":{\"shape\":\"\"}},\"name\":\"Namibia\",\"offsetgroup\":\"Namibia\",\"orientation\":\"v\",\"showlegend\":true,\"textposition\":\"auto\",\"x\":[\"Namibia\"],\"xaxis\":\"x\",\"y\":[11000.0],\"yaxis\":\"y\",\"type\":\"bar\"},{\"alignmentgroup\":\"True\",\"hovertemplate\":\"Country=%{x}<br>Number of children who need ART=%{y}<extra></extra>\",\"legendgroup\":\"Niger\",\"marker\":{\"color\":\"#00cc96\",\"pattern\":{\"shape\":\"\"}},\"name\":\"Niger\",\"offsetgroup\":\"Niger\",\"orientation\":\"v\",\"showlegend\":true,\"textposition\":\"auto\",\"x\":[\"Niger\"],\"xaxis\":\"x\",\"y\":[2500.0],\"yaxis\":\"y\",\"type\":\"bar\"},{\"alignmentgroup\":\"True\",\"hovertemplate\":\"Country=%{x}<br>Number of children who need ART=%{y}<extra></extra>\",\"legendgroup\":\"Nigeria\",\"marker\":{\"color\":\"#ab63fa\",\"pattern\":{\"shape\":\"\"}},\"name\":\"Nigeria\",\"offsetgroup\":\"Nigeria\",\"orientation\":\"v\",\"showlegend\":true,\"textposition\":\"auto\",\"x\":[\"Nigeria\"],\"xaxis\":\"x\",\"y\":[140000.0],\"yaxis\":\"y\",\"type\":\"bar\"},{\"alignmentgroup\":\"True\",\"hovertemplate\":\"Country=%{x}<br>Number of children who need ART=%{y}<extra></extra>\",\"legendgroup\":\"Rwanda\",\"marker\":{\"color\":\"#FFA15A\",\"pattern\":{\"shape\":\"\"}},\"name\":\"Rwanda\",\"offsetgroup\":\"Rwanda\",\"orientation\":\"v\",\"showlegend\":true,\"textposition\":\"auto\",\"x\":[\"Rwanda\"],\"xaxis\":\"x\",\"y\":[12000.0],\"yaxis\":\"y\",\"type\":\"bar\"},{\"alignmentgroup\":\"True\",\"hovertemplate\":\"Country=%{x}<br>Number of children who need ART=%{y}<extra></extra>\",\"legendgroup\":\"Senegal\",\"marker\":{\"color\":\"#19d3f3\",\"pattern\":{\"shape\":\"\"}},\"name\":\"Senegal\",\"offsetgroup\":\"Senegal\",\"orientation\":\"v\",\"showlegend\":true,\"textposition\":\"auto\",\"x\":[\"Senegal\"],\"xaxis\":\"x\",\"y\":[4500.0],\"yaxis\":\"y\",\"type\":\"bar\"},{\"alignmentgroup\":\"True\",\"hovertemplate\":\"Country=%{x}<br>Number of children who need ART=%{y}<extra></extra>\",\"legendgroup\":\"Sierra Leone\",\"marker\":{\"color\":\"#FF6692\",\"pattern\":{\"shape\":\"\"}},\"name\":\"Sierra Leone\",\"offsetgroup\":\"Sierra Leone\",\"orientation\":\"v\",\"showlegend\":true,\"textposition\":\"auto\",\"x\":[\"Sierra Leone\"],\"xaxis\":\"x\",\"y\":[6600.0],\"yaxis\":\"y\",\"type\":\"bar\"},{\"alignmentgroup\":\"True\",\"hovertemplate\":\"Country=%{x}<br>Number of children who need ART=%{y}<extra></extra>\",\"legendgroup\":\"South Africa\",\"marker\":{\"color\":\"#B6E880\",\"pattern\":{\"shape\":\"\"}},\"name\":\"South Africa\",\"offsetgroup\":\"South Africa\",\"orientation\":\"v\",\"showlegend\":true,\"textposition\":\"auto\",\"x\":[\"South Africa\"],\"xaxis\":\"x\",\"y\":[260000.0],\"yaxis\":\"y\",\"type\":\"bar\"},{\"alignmentgroup\":\"True\",\"hovertemplate\":\"Country=%{x}<br>Number of children who need ART=%{y}<extra></extra>\",\"legendgroup\":\"South Sudan\",\"marker\":{\"color\":\"#FF97FF\",\"pattern\":{\"shape\":\"\"}},\"name\":\"South Sudan\",\"offsetgroup\":\"South Sudan\",\"orientation\":\"v\",\"showlegend\":true,\"textposition\":\"auto\",\"x\":[\"South Sudan\"],\"xaxis\":\"x\",\"y\":[16000.0],\"yaxis\":\"y\",\"type\":\"bar\"},{\"alignmentgroup\":\"True\",\"hovertemplate\":\"Country=%{x}<br>Number of children who need ART=%{y}<extra></extra>\",\"legendgroup\":\"Togo\",\"marker\":{\"color\":\"#FECB52\",\"pattern\":{\"shape\":\"\"}},\"name\":\"Togo\",\"offsetgroup\":\"Togo\",\"orientation\":\"v\",\"showlegend\":true,\"textposition\":\"auto\",\"x\":[\"Togo\"],\"xaxis\":\"x\",\"y\":[12000.0],\"yaxis\":\"y\",\"type\":\"bar\"},{\"alignmentgroup\":\"True\",\"hovertemplate\":\"Country=%{x}<br>Number of children who need ART=%{y}<extra></extra>\",\"legendgroup\":\"Uganda\",\"marker\":{\"color\":\"#636efa\",\"pattern\":{\"shape\":\"\"}},\"name\":\"Uganda\",\"offsetgroup\":\"Uganda\",\"orientation\":\"v\",\"showlegend\":true,\"textposition\":\"auto\",\"x\":[\"Uganda\"],\"xaxis\":\"x\",\"y\":[100000.0],\"yaxis\":\"y\",\"type\":\"bar\"},{\"alignmentgroup\":\"True\",\"hovertemplate\":\"Country=%{x}<br>Number of children who need ART=%{y}<extra></extra>\",\"legendgroup\":\"United Republic of Tanzania\",\"marker\":{\"color\":\"#EF553B\",\"pattern\":{\"shape\":\"\"}},\"name\":\"United Republic of Tanzania\",\"offsetgroup\":\"United Republic of Tanzania\",\"orientation\":\"v\",\"showlegend\":true,\"textposition\":\"auto\",\"x\":[\"United Republic of Tanzania\"],\"xaxis\":\"x\",\"y\":[92000.0],\"yaxis\":\"y\",\"type\":\"bar\"},{\"alignmentgroup\":\"True\",\"hovertemplate\":\"Country=%{x}<br>Number of children who need ART=%{y}<extra></extra>\",\"legendgroup\":\"Zambia\",\"marker\":{\"color\":\"#00cc96\",\"pattern\":{\"shape\":\"\"}},\"name\":\"Zambia\",\"offsetgroup\":\"Zambia\",\"orientation\":\"v\",\"showlegend\":true,\"textposition\":\"auto\",\"x\":[\"Zambia\"],\"xaxis\":\"x\",\"y\":[62000.0],\"yaxis\":\"y\",\"type\":\"bar\"},{\"alignmentgroup\":\"True\",\"hovertemplate\":\"Country=%{x}<br>Number of children who need ART=%{y}<extra></extra>\",\"legendgroup\":\"Zimbabwe\",\"marker\":{\"color\":\"#ab63fa\",\"pattern\":{\"shape\":\"\"}},\"name\":\"Zimbabwe\",\"offsetgroup\":\"Zimbabwe\",\"orientation\":\"v\",\"showlegend\":true,\"textposition\":\"auto\",\"x\":[\"Zimbabwe\"],\"xaxis\":\"x\",\"y\":[84000.0],\"yaxis\":\"y\",\"type\":\"bar\"}],                        {\"template\":{\"data\":{\"histogram2dcontour\":[{\"type\":\"histogram2dcontour\",\"colorbar\":{\"outlinewidth\":0,\"ticks\":\"\"},\"colorscale\":[[0.0,\"#0d0887\"],[0.1111111111111111,\"#46039f\"],[0.2222222222222222,\"#7201a8\"],[0.3333333333333333,\"#9c179e\"],[0.4444444444444444,\"#bd3786\"],[0.5555555555555556,\"#d8576b\"],[0.6666666666666666,\"#ed7953\"],[0.7777777777777778,\"#fb9f3a\"],[0.8888888888888888,\"#fdca26\"],[1.0,\"#f0f921\"]]}],\"choropleth\":[{\"type\":\"choropleth\",\"colorbar\":{\"outlinewidth\":0,\"ticks\":\"\"}}],\"histogram2d\":[{\"type\":\"histogram2d\",\"colorbar\":{\"outlinewidth\":0,\"ticks\":\"\"},\"colorscale\":[[0.0,\"#0d0887\"],[0.1111111111111111,\"#46039f\"],[0.2222222222222222,\"#7201a8\"],[0.3333333333333333,\"#9c179e\"],[0.4444444444444444,\"#bd3786\"],[0.5555555555555556,\"#d8576b\"],[0.6666666666666666,\"#ed7953\"],[0.7777777777777778,\"#fb9f3a\"],[0.8888888888888888,\"#fdca26\"],[1.0,\"#f0f921\"]]}],\"heatmap\":[{\"type\":\"heatmap\",\"colorbar\":{\"outlinewidth\":0,\"ticks\":\"\"},\"colorscale\":[[0.0,\"#0d0887\"],[0.1111111111111111,\"#46039f\"],[0.2222222222222222,\"#7201a8\"],[0.3333333333333333,\"#9c179e\"],[0.4444444444444444,\"#bd3786\"],[0.5555555555555556,\"#d8576b\"],[0.6666666666666666,\"#ed7953\"],[0.7777777777777778,\"#fb9f3a\"],[0.8888888888888888,\"#fdca26\"],[1.0,\"#f0f921\"]]}],\"heatmapgl\":[{\"type\":\"heatmapgl\",\"colorbar\":{\"outlinewidth\":0,\"ticks\":\"\"},\"colorscale\":[[0.0,\"#0d0887\"],[0.1111111111111111,\"#46039f\"],[0.2222222222222222,\"#7201a8\"],[0.3333333333333333,\"#9c179e\"],[0.4444444444444444,\"#bd3786\"],[0.5555555555555556,\"#d8576b\"],[0.6666666666666666,\"#ed7953\"],[0.7777777777777778,\"#fb9f3a\"],[0.8888888888888888,\"#fdca26\"],[1.0,\"#f0f921\"]]}],\"contourcarpet\":[{\"type\":\"contourcarpet\",\"colorbar\":{\"outlinewidth\":0,\"ticks\":\"\"}}],\"contour\":[{\"type\":\"contour\",\"colorbar\":{\"outlinewidth\":0,\"ticks\":\"\"},\"colorscale\":[[0.0,\"#0d0887\"],[0.1111111111111111,\"#46039f\"],[0.2222222222222222,\"#7201a8\"],[0.3333333333333333,\"#9c179e\"],[0.4444444444444444,\"#bd3786\"],[0.5555555555555556,\"#d8576b\"],[0.6666666666666666,\"#ed7953\"],[0.7777777777777778,\"#fb9f3a\"],[0.8888888888888888,\"#fdca26\"],[1.0,\"#f0f921\"]]}],\"surface\":[{\"type\":\"surface\",\"colorbar\":{\"outlinewidth\":0,\"ticks\":\"\"},\"colorscale\":[[0.0,\"#0d0887\"],[0.1111111111111111,\"#46039f\"],[0.2222222222222222,\"#7201a8\"],[0.3333333333333333,\"#9c179e\"],[0.4444444444444444,\"#bd3786\"],[0.5555555555555556,\"#d8576b\"],[0.6666666666666666,\"#ed7953\"],[0.7777777777777778,\"#fb9f3a\"],[0.8888888888888888,\"#fdca26\"],[1.0,\"#f0f921\"]]}],\"mesh3d\":[{\"type\":\"mesh3d\",\"colorbar\":{\"outlinewidth\":0,\"ticks\":\"\"}}],\"scatter\":[{\"fillpattern\":{\"fillmode\":\"overlay\",\"size\":10,\"solidity\":0.2},\"type\":\"scatter\"}],\"parcoords\":[{\"type\":\"parcoords\",\"line\":{\"colorbar\":{\"outlinewidth\":0,\"ticks\":\"\"}}}],\"scatterpolargl\":[{\"type\":\"scatterpolargl\",\"marker\":{\"colorbar\":{\"outlinewidth\":0,\"ticks\":\"\"}}}],\"bar\":[{\"error_x\":{\"color\":\"#2a3f5f\"},\"error_y\":{\"color\":\"#2a3f5f\"},\"marker\":{\"line\":{\"color\":\"#E5ECF6\",\"width\":0.5},\"pattern\":{\"fillmode\":\"overlay\",\"size\":10,\"solidity\":0.2}},\"type\":\"bar\"}],\"scattergeo\":[{\"type\":\"scattergeo\",\"marker\":{\"colorbar\":{\"outlinewidth\":0,\"ticks\":\"\"}}}],\"scatterpolar\":[{\"type\":\"scatterpolar\",\"marker\":{\"colorbar\":{\"outlinewidth\":0,\"ticks\":\"\"}}}],\"histogram\":[{\"marker\":{\"pattern\":{\"fillmode\":\"overlay\",\"size\":10,\"solidity\":0.2}},\"type\":\"histogram\"}],\"scattergl\":[{\"type\":\"scattergl\",\"marker\":{\"colorbar\":{\"outlinewidth\":0,\"ticks\":\"\"}}}],\"scatter3d\":[{\"type\":\"scatter3d\",\"line\":{\"colorbar\":{\"outlinewidth\":0,\"ticks\":\"\"}},\"marker\":{\"colorbar\":{\"outlinewidth\":0,\"ticks\":\"\"}}}],\"scattermapbox\":[{\"type\":\"scattermapbox\",\"marker\":{\"colorbar\":{\"outlinewidth\":0,\"ticks\":\"\"}}}],\"scatterternary\":[{\"type\":\"scatterternary\",\"marker\":{\"colorbar\":{\"outlinewidth\":0,\"ticks\":\"\"}}}],\"scattercarpet\":[{\"type\":\"scattercarpet\",\"marker\":{\"colorbar\":{\"outlinewidth\":0,\"ticks\":\"\"}}}],\"carpet\":[{\"aaxis\":{\"endlinecolor\":\"#2a3f5f\",\"gridcolor\":\"white\",\"linecolor\":\"white\",\"minorgridcolor\":\"white\",\"startlinecolor\":\"#2a3f5f\"},\"baxis\":{\"endlinecolor\":\"#2a3f5f\",\"gridcolor\":\"white\",\"linecolor\":\"white\",\"minorgridcolor\":\"white\",\"startlinecolor\":\"#2a3f5f\"},\"type\":\"carpet\"}],\"table\":[{\"cells\":{\"fill\":{\"color\":\"#EBF0F8\"},\"line\":{\"color\":\"white\"}},\"header\":{\"fill\":{\"color\":\"#C8D4E3\"},\"line\":{\"color\":\"white\"}},\"type\":\"table\"}],\"barpolar\":[{\"marker\":{\"line\":{\"color\":\"#E5ECF6\",\"width\":0.5},\"pattern\":{\"fillmode\":\"overlay\",\"size\":10,\"solidity\":0.2}},\"type\":\"barpolar\"}],\"pie\":[{\"automargin\":true,\"type\":\"pie\"}]},\"layout\":{\"autotypenumbers\":\"strict\",\"colorway\":[\"#636efa\",\"#EF553B\",\"#00cc96\",\"#ab63fa\",\"#FFA15A\",\"#19d3f3\",\"#FF6692\",\"#B6E880\",\"#FF97FF\",\"#FECB52\"],\"font\":{\"color\":\"#2a3f5f\"},\"hovermode\":\"closest\",\"hoverlabel\":{\"align\":\"left\"},\"paper_bgcolor\":\"white\",\"plot_bgcolor\":\"#E5ECF6\",\"polar\":{\"bgcolor\":\"#E5ECF6\",\"angularaxis\":{\"gridcolor\":\"white\",\"linecolor\":\"white\",\"ticks\":\"\"},\"radialaxis\":{\"gridcolor\":\"white\",\"linecolor\":\"white\",\"ticks\":\"\"}},\"ternary\":{\"bgcolor\":\"#E5ECF6\",\"aaxis\":{\"gridcolor\":\"white\",\"linecolor\":\"white\",\"ticks\":\"\"},\"baxis\":{\"gridcolor\":\"white\",\"linecolor\":\"white\",\"ticks\":\"\"},\"caxis\":{\"gridcolor\":\"white\",\"linecolor\":\"white\",\"ticks\":\"\"}},\"coloraxis\":{\"colorbar\":{\"outlinewidth\":0,\"ticks\":\"\"}},\"colorscale\":{\"sequential\":[[0.0,\"#0d0887\"],[0.1111111111111111,\"#46039f\"],[0.2222222222222222,\"#7201a8\"],[0.3333333333333333,\"#9c179e\"],[0.4444444444444444,\"#bd3786\"],[0.5555555555555556,\"#d8576b\"],[0.6666666666666666,\"#ed7953\"],[0.7777777777777778,\"#fb9f3a\"],[0.8888888888888888,\"#fdca26\"],[1.0,\"#f0f921\"]],\"sequentialminus\":[[0.0,\"#0d0887\"],[0.1111111111111111,\"#46039f\"],[0.2222222222222222,\"#7201a8\"],[0.3333333333333333,\"#9c179e\"],[0.4444444444444444,\"#bd3786\"],[0.5555555555555556,\"#d8576b\"],[0.6666666666666666,\"#ed7953\"],[0.7777777777777778,\"#fb9f3a\"],[0.8888888888888888,\"#fdca26\"],[1.0,\"#f0f921\"]],\"diverging\":[[0,\"#8e0152\"],[0.1,\"#c51b7d\"],[0.2,\"#de77ae\"],[0.3,\"#f1b6da\"],[0.4,\"#fde0ef\"],[0.5,\"#f7f7f7\"],[0.6,\"#e6f5d0\"],[0.7,\"#b8e186\"],[0.8,\"#7fbc41\"],[0.9,\"#4d9221\"],[1,\"#276419\"]]},\"xaxis\":{\"gridcolor\":\"white\",\"linecolor\":\"white\",\"ticks\":\"\",\"title\":{\"standoff\":15},\"zerolinecolor\":\"white\",\"automargin\":true,\"zerolinewidth\":2},\"yaxis\":{\"gridcolor\":\"white\",\"linecolor\":\"white\",\"ticks\":\"\",\"title\":{\"standoff\":15},\"zerolinecolor\":\"white\",\"automargin\":true,\"zerolinewidth\":2},\"scene\":{\"xaxis\":{\"backgroundcolor\":\"#E5ECF6\",\"gridcolor\":\"white\",\"linecolor\":\"white\",\"showbackground\":true,\"ticks\":\"\",\"zerolinecolor\":\"white\",\"gridwidth\":2},\"yaxis\":{\"backgroundcolor\":\"#E5ECF6\",\"gridcolor\":\"white\",\"linecolor\":\"white\",\"showbackground\":true,\"ticks\":\"\",\"zerolinecolor\":\"white\",\"gridwidth\":2},\"zaxis\":{\"backgroundcolor\":\"#E5ECF6\",\"gridcolor\":\"white\",\"linecolor\":\"white\",\"showbackground\":true,\"ticks\":\"\",\"zerolinecolor\":\"white\",\"gridwidth\":2}},\"shapedefaults\":{\"line\":{\"color\":\"#2a3f5f\"}},\"annotationdefaults\":{\"arrowcolor\":\"#2a3f5f\",\"arrowhead\":0,\"arrowwidth\":1},\"geo\":{\"bgcolor\":\"white\",\"landcolor\":\"#E5ECF6\",\"subunitcolor\":\"white\",\"showland\":true,\"showlakes\":true,\"lakecolor\":\"white\"},\"title\":{\"x\":0.05},\"mapbox\":{\"style\":\"light\"}}},\"xaxis\":{\"anchor\":\"y\",\"domain\":[0.0,1.0],\"title\":{\"text\":\"Country\"},\"categoryorder\":\"array\",\"categoryarray\":[\"Algeria\",\"Angola\",\"Benin\",\"Botswana\",\"Burkina Faso\",\"Burundi\",\"Cabo Verde\",\"Cameroon\",\"Central African Republic\",\"Chad\",\"Comoros\",\"C\\u00f4te d'Ivoire\",\"Democratic Republic of the Congo\",\"Equatorial Guinea\",\"Eritrea\",\"Eswatini\",\"Ethiopia\",\"Gabon\",\"Gambia\",\"Ghana\",\"Guinea\",\"Guinea-Bissau\",\"Kenya\",\"Lesotho\",\"Liberia\",\"Madagascar\",\"Malawi\",\"Mali\",\"Mauritania\",\"Mauritius\",\"Mozambique\",\"Namibia\",\"Niger\",\"Nigeria\",\"Rwanda\",\"Senegal\",\"Sierra Leone\",\"South Africa\",\"South Sudan\",\"Togo\",\"Uganda\",\"United Republic of Tanzania\",\"Zambia\",\"Zimbabwe\"],\"tickangle\":90},\"yaxis\":{\"anchor\":\"x\",\"domain\":[0.0,1.0],\"title\":{\"text\":\"Number of children who need ART\"}},\"legend\":{\"title\":{\"text\":\"Country\"},\"tracegroupgap\":0},\"title\":{\"text\":\"Children who need ART - Country\"},\"barmode\":\"relative\",\"height\":500,\"width\":1100},                        {\"responsive\": true}                    ).then(function(){\n",
       "                            \n",
       "var gd = document.getElementById('0e1acd11-deaa-4be1-97ee-8429d9ccd071');\n",
       "var x = new MutationObserver(function (mutations, observer) {{\n",
       "        var display = window.getComputedStyle(gd).display;\n",
       "        if (!display || display === 'none') {{\n",
       "            console.log([gd, 'removed!']);\n",
       "            Plotly.purge(gd);\n",
       "            observer.disconnect();\n",
       "        }}\n",
       "}});\n",
       "\n",
       "// Listen for the removal of the full notebook cells\n",
       "var notebookContainer = gd.closest('#notebook-container');\n",
       "if (notebookContainer) {{\n",
       "    x.observe(notebookContainer, {childList: true});\n",
       "}}\n",
       "\n",
       "// Listen for the clearing of the current output cell\n",
       "var outputEl = gd.closest('.output');\n",
       "if (outputEl) {{\n",
       "    x.observe(outputEl, {childList: true});\n",
       "}}\n",
       "\n",
       "                        })                };                });            </script>        </div>"
      ]
     },
     "metadata": {},
     "output_type": "display_data"
    }
   ],
   "source": [
    "fig = px.bar(childrenneedingART, x=childrenneedingART.index, \n",
    "             y='Estimated number of children needing ART based on WHO methods_median', \n",
    "             title=\"Children who need ART - Country\",\n",
    "             labels={'Estimated number of children needing ART based on WHO methods_median': 'Number of children who need ART'},\n",
    "             color=childrenneedingART.index,  # Color by the index\n",
    "             height=500, width=1100)\n",
    "\n",
    "fig.update_xaxes(tickangle=90)\n",
    "fig.show()\n"
   ]
  },
  {
   "cell_type": "markdown",
   "id": "1714d800",
   "metadata": {},
   "source": [
    "### South Africa has the tremendously highest number of children who needs ART rather than those who are receiving it!!"
   ]
  },
  {
   "cell_type": "code",
   "execution_count": 199,
   "id": "5cef30bc",
   "metadata": {
    "collapsed": true
   },
   "outputs": [
    {
     "data": {
      "text/html": [
       "<div>\n",
       "<style scoped>\n",
       "    .dataframe tbody tr th:only-of-type {\n",
       "        vertical-align: middle;\n",
       "    }\n",
       "\n",
       "    .dataframe tbody tr th {\n",
       "        vertical-align: top;\n",
       "    }\n",
       "\n",
       "    .dataframe thead th {\n",
       "        text-align: right;\n",
       "    }\n",
       "</style>\n",
       "<table border=\"1\" class=\"dataframe\">\n",
       "  <thead>\n",
       "    <tr style=\"text-align: right;\">\n",
       "      <th></th>\n",
       "      <th>Estimated ART coverage among children (%)_median</th>\n",
       "    </tr>\n",
       "    <tr>\n",
       "      <th>Country</th>\n",
       "      <th></th>\n",
       "    </tr>\n",
       "  </thead>\n",
       "  <tbody>\n",
       "    <tr>\n",
       "      <th>Algeria</th>\n",
       "      <td>95.000000</td>\n",
       "    </tr>\n",
       "    <tr>\n",
       "      <th>Angola</th>\n",
       "      <td>13.000000</td>\n",
       "    </tr>\n",
       "    <tr>\n",
       "      <th>Benin</th>\n",
       "      <td>44.000000</td>\n",
       "    </tr>\n",
       "    <tr>\n",
       "      <th>Botswana</th>\n",
       "      <td>38.000000</td>\n",
       "    </tr>\n",
       "    <tr>\n",
       "      <th>Burkina Faso</th>\n",
       "      <td>21.000000</td>\n",
       "    </tr>\n",
       "    <tr>\n",
       "      <th>Burundi</th>\n",
       "      <td>30.000000</td>\n",
       "    </tr>\n",
       "    <tr>\n",
       "      <th>Cabo Verde</th>\n",
       "      <td>41.619048</td>\n",
       "    </tr>\n",
       "    <tr>\n",
       "      <th>Cameroon</th>\n",
       "      <td>24.000000</td>\n",
       "    </tr>\n",
       "    <tr>\n",
       "      <th>Central African Republic</th>\n",
       "      <td>23.000000</td>\n",
       "    </tr>\n",
       "    <tr>\n",
       "      <th>Chad</th>\n",
       "      <td>16.000000</td>\n",
       "    </tr>\n",
       "    <tr>\n",
       "      <th>Comoros</th>\n",
       "      <td>41.619048</td>\n",
       "    </tr>\n",
       "    <tr>\n",
       "      <th>Côte d'Ivoire</th>\n",
       "      <td>40.000000</td>\n",
       "    </tr>\n",
       "    <tr>\n",
       "      <th>Democratic Republic of the Congo</th>\n",
       "      <td>25.000000</td>\n",
       "    </tr>\n",
       "    <tr>\n",
       "      <th>Equatorial Guinea</th>\n",
       "      <td>14.000000</td>\n",
       "    </tr>\n",
       "    <tr>\n",
       "      <th>Eritrea</th>\n",
       "      <td>37.000000</td>\n",
       "    </tr>\n",
       "    <tr>\n",
       "      <th>Eswatini</th>\n",
       "      <td>76.000000</td>\n",
       "    </tr>\n",
       "    <tr>\n",
       "      <th>Ethiopia</th>\n",
       "      <td>59.000000</td>\n",
       "    </tr>\n",
       "    <tr>\n",
       "      <th>Gabon</th>\n",
       "      <td>57.000000</td>\n",
       "    </tr>\n",
       "    <tr>\n",
       "      <th>Gambia</th>\n",
       "      <td>30.000000</td>\n",
       "    </tr>\n",
       "    <tr>\n",
       "      <th>Ghana</th>\n",
       "      <td>20.000000</td>\n",
       "    </tr>\n",
       "    <tr>\n",
       "      <th>Guinea</th>\n",
       "      <td>20.000000</td>\n",
       "    </tr>\n",
       "    <tr>\n",
       "      <th>Guinea-Bissau</th>\n",
       "      <td>6.000000</td>\n",
       "    </tr>\n",
       "    <tr>\n",
       "      <th>Kenya</th>\n",
       "      <td>61.000000</td>\n",
       "    </tr>\n",
       "    <tr>\n",
       "      <th>Lesotho</th>\n",
       "      <td>70.000000</td>\n",
       "    </tr>\n",
       "    <tr>\n",
       "      <th>Liberia</th>\n",
       "      <td>18.000000</td>\n",
       "    </tr>\n",
       "    <tr>\n",
       "      <th>Madagascar</th>\n",
       "      <td>5.000000</td>\n",
       "    </tr>\n",
       "    <tr>\n",
       "      <th>Malawi</th>\n",
       "      <td>61.000000</td>\n",
       "    </tr>\n",
       "    <tr>\n",
       "      <th>Mali</th>\n",
       "      <td>18.000000</td>\n",
       "    </tr>\n",
       "    <tr>\n",
       "      <th>Mauritania</th>\n",
       "      <td>54.000000</td>\n",
       "    </tr>\n",
       "    <tr>\n",
       "      <th>Mauritius</th>\n",
       "      <td>45.000000</td>\n",
       "    </tr>\n",
       "    <tr>\n",
       "      <th>Mozambique</th>\n",
       "      <td>60.000000</td>\n",
       "    </tr>\n",
       "    <tr>\n",
       "      <th>Namibia</th>\n",
       "      <td>78.000000</td>\n",
       "    </tr>\n",
       "    <tr>\n",
       "      <th>Niger</th>\n",
       "      <td>52.000000</td>\n",
       "    </tr>\n",
       "    <tr>\n",
       "      <th>Nigeria</th>\n",
       "      <td>35.000000</td>\n",
       "    </tr>\n",
       "    <tr>\n",
       "      <th>Rwanda</th>\n",
       "      <td>63.000000</td>\n",
       "    </tr>\n",
       "    <tr>\n",
       "      <th>Senegal</th>\n",
       "      <td>31.000000</td>\n",
       "    </tr>\n",
       "    <tr>\n",
       "      <th>Sierra Leone</th>\n",
       "      <td>17.000000</td>\n",
       "    </tr>\n",
       "    <tr>\n",
       "      <th>South Africa</th>\n",
       "      <td>63.000000</td>\n",
       "    </tr>\n",
       "    <tr>\n",
       "      <th>South Sudan</th>\n",
       "      <td>9.000000</td>\n",
       "    </tr>\n",
       "    <tr>\n",
       "      <th>Togo</th>\n",
       "      <td>34.000000</td>\n",
       "    </tr>\n",
       "    <tr>\n",
       "      <th>Uganda</th>\n",
       "      <td>66.000000</td>\n",
       "    </tr>\n",
       "    <tr>\n",
       "      <th>United Republic of Tanzania</th>\n",
       "      <td>65.000000</td>\n",
       "    </tr>\n",
       "    <tr>\n",
       "      <th>Zambia</th>\n",
       "      <td>79.000000</td>\n",
       "    </tr>\n",
       "    <tr>\n",
       "      <th>Zimbabwe</th>\n",
       "      <td>76.000000</td>\n",
       "    </tr>\n",
       "  </tbody>\n",
       "</table>\n",
       "</div>"
      ],
      "text/plain": [
       "                                  Estimated ART coverage among children (%)_median\n",
       "Country                                                                           \n",
       "Algeria                                                                  95.000000\n",
       "Angola                                                                   13.000000\n",
       "Benin                                                                    44.000000\n",
       "Botswana                                                                 38.000000\n",
       "Burkina Faso                                                             21.000000\n",
       "Burundi                                                                  30.000000\n",
       "Cabo Verde                                                               41.619048\n",
       "Cameroon                                                                 24.000000\n",
       "Central African Republic                                                 23.000000\n",
       "Chad                                                                     16.000000\n",
       "Comoros                                                                  41.619048\n",
       "Côte d'Ivoire                                                            40.000000\n",
       "Democratic Republic of the Congo                                         25.000000\n",
       "Equatorial Guinea                                                        14.000000\n",
       "Eritrea                                                                  37.000000\n",
       "Eswatini                                                                 76.000000\n",
       "Ethiopia                                                                 59.000000\n",
       "Gabon                                                                    57.000000\n",
       "Gambia                                                                   30.000000\n",
       "Ghana                                                                    20.000000\n",
       "Guinea                                                                   20.000000\n",
       "Guinea-Bissau                                                             6.000000\n",
       "Kenya                                                                    61.000000\n",
       "Lesotho                                                                  70.000000\n",
       "Liberia                                                                  18.000000\n",
       "Madagascar                                                                5.000000\n",
       "Malawi                                                                   61.000000\n",
       "Mali                                                                     18.000000\n",
       "Mauritania                                                               54.000000\n",
       "Mauritius                                                                45.000000\n",
       "Mozambique                                                               60.000000\n",
       "Namibia                                                                  78.000000\n",
       "Niger                                                                    52.000000\n",
       "Nigeria                                                                  35.000000\n",
       "Rwanda                                                                   63.000000\n",
       "Senegal                                                                  31.000000\n",
       "Sierra Leone                                                             17.000000\n",
       "South Africa                                                             63.000000\n",
       "South Sudan                                                               9.000000\n",
       "Togo                                                                     34.000000\n",
       "Uganda                                                                   66.000000\n",
       "United Republic of Tanzania                                              65.000000\n",
       "Zambia                                                                   79.000000\n",
       "Zimbabwe                                                                 76.000000"
      ]
     },
     "execution_count": 199,
     "metadata": {},
     "output_type": "execute_result"
    }
   ],
   "source": [
    "ChildARTcoverage = pd.DataFrame(afr_pediatricCoverage_df.groupby('Country').mean()['Estimated ART coverage among children (%)_median'])\n",
    "ChildARTcoverage"
   ]
  },
  {
   "cell_type": "code",
   "execution_count": 200,
   "id": "0f604c9c",
   "metadata": {},
   "outputs": [
    {
     "data": {
      "application/vnd.plotly.v1+json": {
       "config": {
        "plotlyServerURL": "https://plot.ly"
       },
       "data": [
        {
         "alignmentgroup": "True",
         "hovertemplate": "Country=%{x}<br>Estimated ART coverage=%{y}<extra></extra>",
         "legendgroup": "Algeria",
         "marker": {
          "color": "#636efa",
          "pattern": {
           "shape": ""
          }
         },
         "name": "Algeria",
         "offsetgroup": "Algeria",
         "orientation": "v",
         "showlegend": true,
         "textposition": "auto",
         "type": "bar",
         "x": [
          "Algeria"
         ],
         "xaxis": "x",
         "y": [
          95
         ],
         "yaxis": "y"
        },
        {
         "alignmentgroup": "True",
         "hovertemplate": "Country=%{x}<br>Estimated ART coverage=%{y}<extra></extra>",
         "legendgroup": "Angola",
         "marker": {
          "color": "#EF553B",
          "pattern": {
           "shape": ""
          }
         },
         "name": "Angola",
         "offsetgroup": "Angola",
         "orientation": "v",
         "showlegend": true,
         "textposition": "auto",
         "type": "bar",
         "x": [
          "Angola"
         ],
         "xaxis": "x",
         "y": [
          13
         ],
         "yaxis": "y"
        },
        {
         "alignmentgroup": "True",
         "hovertemplate": "Country=%{x}<br>Estimated ART coverage=%{y}<extra></extra>",
         "legendgroup": "Benin",
         "marker": {
          "color": "#00cc96",
          "pattern": {
           "shape": ""
          }
         },
         "name": "Benin",
         "offsetgroup": "Benin",
         "orientation": "v",
         "showlegend": true,
         "textposition": "auto",
         "type": "bar",
         "x": [
          "Benin"
         ],
         "xaxis": "x",
         "y": [
          44
         ],
         "yaxis": "y"
        },
        {
         "alignmentgroup": "True",
         "hovertemplate": "Country=%{x}<br>Estimated ART coverage=%{y}<extra></extra>",
         "legendgroup": "Botswana",
         "marker": {
          "color": "#ab63fa",
          "pattern": {
           "shape": ""
          }
         },
         "name": "Botswana",
         "offsetgroup": "Botswana",
         "orientation": "v",
         "showlegend": true,
         "textposition": "auto",
         "type": "bar",
         "x": [
          "Botswana"
         ],
         "xaxis": "x",
         "y": [
          38
         ],
         "yaxis": "y"
        },
        {
         "alignmentgroup": "True",
         "hovertemplate": "Country=%{x}<br>Estimated ART coverage=%{y}<extra></extra>",
         "legendgroup": "Burkina Faso",
         "marker": {
          "color": "#FFA15A",
          "pattern": {
           "shape": ""
          }
         },
         "name": "Burkina Faso",
         "offsetgroup": "Burkina Faso",
         "orientation": "v",
         "showlegend": true,
         "textposition": "auto",
         "type": "bar",
         "x": [
          "Burkina Faso"
         ],
         "xaxis": "x",
         "y": [
          21
         ],
         "yaxis": "y"
        },
        {
         "alignmentgroup": "True",
         "hovertemplate": "Country=%{x}<br>Estimated ART coverage=%{y}<extra></extra>",
         "legendgroup": "Burundi",
         "marker": {
          "color": "#19d3f3",
          "pattern": {
           "shape": ""
          }
         },
         "name": "Burundi",
         "offsetgroup": "Burundi",
         "orientation": "v",
         "showlegend": true,
         "textposition": "auto",
         "type": "bar",
         "x": [
          "Burundi"
         ],
         "xaxis": "x",
         "y": [
          30
         ],
         "yaxis": "y"
        },
        {
         "alignmentgroup": "True",
         "hovertemplate": "Country=%{x}<br>Estimated ART coverage=%{y}<extra></extra>",
         "legendgroup": "Cabo Verde",
         "marker": {
          "color": "#FF6692",
          "pattern": {
           "shape": ""
          }
         },
         "name": "Cabo Verde",
         "offsetgroup": "Cabo Verde",
         "orientation": "v",
         "showlegend": true,
         "textposition": "auto",
         "type": "bar",
         "x": [
          "Cabo Verde"
         ],
         "xaxis": "x",
         "y": [
          41.61904761904762
         ],
         "yaxis": "y"
        },
        {
         "alignmentgroup": "True",
         "hovertemplate": "Country=%{x}<br>Estimated ART coverage=%{y}<extra></extra>",
         "legendgroup": "Cameroon",
         "marker": {
          "color": "#B6E880",
          "pattern": {
           "shape": ""
          }
         },
         "name": "Cameroon",
         "offsetgroup": "Cameroon",
         "orientation": "v",
         "showlegend": true,
         "textposition": "auto",
         "type": "bar",
         "x": [
          "Cameroon"
         ],
         "xaxis": "x",
         "y": [
          24
         ],
         "yaxis": "y"
        },
        {
         "alignmentgroup": "True",
         "hovertemplate": "Country=%{x}<br>Estimated ART coverage=%{y}<extra></extra>",
         "legendgroup": "Central African Republic",
         "marker": {
          "color": "#FF97FF",
          "pattern": {
           "shape": ""
          }
         },
         "name": "Central African Republic",
         "offsetgroup": "Central African Republic",
         "orientation": "v",
         "showlegend": true,
         "textposition": "auto",
         "type": "bar",
         "x": [
          "Central African Republic"
         ],
         "xaxis": "x",
         "y": [
          23
         ],
         "yaxis": "y"
        },
        {
         "alignmentgroup": "True",
         "hovertemplate": "Country=%{x}<br>Estimated ART coverage=%{y}<extra></extra>",
         "legendgroup": "Chad",
         "marker": {
          "color": "#FECB52",
          "pattern": {
           "shape": ""
          }
         },
         "name": "Chad",
         "offsetgroup": "Chad",
         "orientation": "v",
         "showlegend": true,
         "textposition": "auto",
         "type": "bar",
         "x": [
          "Chad"
         ],
         "xaxis": "x",
         "y": [
          16
         ],
         "yaxis": "y"
        },
        {
         "alignmentgroup": "True",
         "hovertemplate": "Country=%{x}<br>Estimated ART coverage=%{y}<extra></extra>",
         "legendgroup": "Comoros",
         "marker": {
          "color": "#636efa",
          "pattern": {
           "shape": ""
          }
         },
         "name": "Comoros",
         "offsetgroup": "Comoros",
         "orientation": "v",
         "showlegend": true,
         "textposition": "auto",
         "type": "bar",
         "x": [
          "Comoros"
         ],
         "xaxis": "x",
         "y": [
          41.61904761904762
         ],
         "yaxis": "y"
        },
        {
         "alignmentgroup": "True",
         "hovertemplate": "Country=%{x}<br>Estimated ART coverage=%{y}<extra></extra>",
         "legendgroup": "Côte d'Ivoire",
         "marker": {
          "color": "#EF553B",
          "pattern": {
           "shape": ""
          }
         },
         "name": "Côte d'Ivoire",
         "offsetgroup": "Côte d'Ivoire",
         "orientation": "v",
         "showlegend": true,
         "textposition": "auto",
         "type": "bar",
         "x": [
          "Côte d'Ivoire"
         ],
         "xaxis": "x",
         "y": [
          40
         ],
         "yaxis": "y"
        },
        {
         "alignmentgroup": "True",
         "hovertemplate": "Country=%{x}<br>Estimated ART coverage=%{y}<extra></extra>",
         "legendgroup": "Democratic Republic of the Congo",
         "marker": {
          "color": "#00cc96",
          "pattern": {
           "shape": ""
          }
         },
         "name": "Democratic Republic of the Congo",
         "offsetgroup": "Democratic Republic of the Congo",
         "orientation": "v",
         "showlegend": true,
         "textposition": "auto",
         "type": "bar",
         "x": [
          "Democratic Republic of the Congo"
         ],
         "xaxis": "x",
         "y": [
          25
         ],
         "yaxis": "y"
        },
        {
         "alignmentgroup": "True",
         "hovertemplate": "Country=%{x}<br>Estimated ART coverage=%{y}<extra></extra>",
         "legendgroup": "Equatorial Guinea",
         "marker": {
          "color": "#ab63fa",
          "pattern": {
           "shape": ""
          }
         },
         "name": "Equatorial Guinea",
         "offsetgroup": "Equatorial Guinea",
         "orientation": "v",
         "showlegend": true,
         "textposition": "auto",
         "type": "bar",
         "x": [
          "Equatorial Guinea"
         ],
         "xaxis": "x",
         "y": [
          14
         ],
         "yaxis": "y"
        },
        {
         "alignmentgroup": "True",
         "hovertemplate": "Country=%{x}<br>Estimated ART coverage=%{y}<extra></extra>",
         "legendgroup": "Eritrea",
         "marker": {
          "color": "#FFA15A",
          "pattern": {
           "shape": ""
          }
         },
         "name": "Eritrea",
         "offsetgroup": "Eritrea",
         "orientation": "v",
         "showlegend": true,
         "textposition": "auto",
         "type": "bar",
         "x": [
          "Eritrea"
         ],
         "xaxis": "x",
         "y": [
          37
         ],
         "yaxis": "y"
        },
        {
         "alignmentgroup": "True",
         "hovertemplate": "Country=%{x}<br>Estimated ART coverage=%{y}<extra></extra>",
         "legendgroup": "Eswatini",
         "marker": {
          "color": "#19d3f3",
          "pattern": {
           "shape": ""
          }
         },
         "name": "Eswatini",
         "offsetgroup": "Eswatini",
         "orientation": "v",
         "showlegend": true,
         "textposition": "auto",
         "type": "bar",
         "x": [
          "Eswatini"
         ],
         "xaxis": "x",
         "y": [
          76
         ],
         "yaxis": "y"
        },
        {
         "alignmentgroup": "True",
         "hovertemplate": "Country=%{x}<br>Estimated ART coverage=%{y}<extra></extra>",
         "legendgroup": "Ethiopia",
         "marker": {
          "color": "#FF6692",
          "pattern": {
           "shape": ""
          }
         },
         "name": "Ethiopia",
         "offsetgroup": "Ethiopia",
         "orientation": "v",
         "showlegend": true,
         "textposition": "auto",
         "type": "bar",
         "x": [
          "Ethiopia"
         ],
         "xaxis": "x",
         "y": [
          59
         ],
         "yaxis": "y"
        },
        {
         "alignmentgroup": "True",
         "hovertemplate": "Country=%{x}<br>Estimated ART coverage=%{y}<extra></extra>",
         "legendgroup": "Gabon",
         "marker": {
          "color": "#B6E880",
          "pattern": {
           "shape": ""
          }
         },
         "name": "Gabon",
         "offsetgroup": "Gabon",
         "orientation": "v",
         "showlegend": true,
         "textposition": "auto",
         "type": "bar",
         "x": [
          "Gabon"
         ],
         "xaxis": "x",
         "y": [
          57
         ],
         "yaxis": "y"
        },
        {
         "alignmentgroup": "True",
         "hovertemplate": "Country=%{x}<br>Estimated ART coverage=%{y}<extra></extra>",
         "legendgroup": "Gambia",
         "marker": {
          "color": "#FF97FF",
          "pattern": {
           "shape": ""
          }
         },
         "name": "Gambia",
         "offsetgroup": "Gambia",
         "orientation": "v",
         "showlegend": true,
         "textposition": "auto",
         "type": "bar",
         "x": [
          "Gambia"
         ],
         "xaxis": "x",
         "y": [
          30
         ],
         "yaxis": "y"
        },
        {
         "alignmentgroup": "True",
         "hovertemplate": "Country=%{x}<br>Estimated ART coverage=%{y}<extra></extra>",
         "legendgroup": "Ghana",
         "marker": {
          "color": "#FECB52",
          "pattern": {
           "shape": ""
          }
         },
         "name": "Ghana",
         "offsetgroup": "Ghana",
         "orientation": "v",
         "showlegend": true,
         "textposition": "auto",
         "type": "bar",
         "x": [
          "Ghana"
         ],
         "xaxis": "x",
         "y": [
          20
         ],
         "yaxis": "y"
        },
        {
         "alignmentgroup": "True",
         "hovertemplate": "Country=%{x}<br>Estimated ART coverage=%{y}<extra></extra>",
         "legendgroup": "Guinea",
         "marker": {
          "color": "#636efa",
          "pattern": {
           "shape": ""
          }
         },
         "name": "Guinea",
         "offsetgroup": "Guinea",
         "orientation": "v",
         "showlegend": true,
         "textposition": "auto",
         "type": "bar",
         "x": [
          "Guinea"
         ],
         "xaxis": "x",
         "y": [
          20
         ],
         "yaxis": "y"
        },
        {
         "alignmentgroup": "True",
         "hovertemplate": "Country=%{x}<br>Estimated ART coverage=%{y}<extra></extra>",
         "legendgroup": "Guinea-Bissau",
         "marker": {
          "color": "#EF553B",
          "pattern": {
           "shape": ""
          }
         },
         "name": "Guinea-Bissau",
         "offsetgroup": "Guinea-Bissau",
         "orientation": "v",
         "showlegend": true,
         "textposition": "auto",
         "type": "bar",
         "x": [
          "Guinea-Bissau"
         ],
         "xaxis": "x",
         "y": [
          6
         ],
         "yaxis": "y"
        },
        {
         "alignmentgroup": "True",
         "hovertemplate": "Country=%{x}<br>Estimated ART coverage=%{y}<extra></extra>",
         "legendgroup": "Kenya",
         "marker": {
          "color": "#00cc96",
          "pattern": {
           "shape": ""
          }
         },
         "name": "Kenya",
         "offsetgroup": "Kenya",
         "orientation": "v",
         "showlegend": true,
         "textposition": "auto",
         "type": "bar",
         "x": [
          "Kenya"
         ],
         "xaxis": "x",
         "y": [
          61
         ],
         "yaxis": "y"
        },
        {
         "alignmentgroup": "True",
         "hovertemplate": "Country=%{x}<br>Estimated ART coverage=%{y}<extra></extra>",
         "legendgroup": "Lesotho",
         "marker": {
          "color": "#ab63fa",
          "pattern": {
           "shape": ""
          }
         },
         "name": "Lesotho",
         "offsetgroup": "Lesotho",
         "orientation": "v",
         "showlegend": true,
         "textposition": "auto",
         "type": "bar",
         "x": [
          "Lesotho"
         ],
         "xaxis": "x",
         "y": [
          70
         ],
         "yaxis": "y"
        },
        {
         "alignmentgroup": "True",
         "hovertemplate": "Country=%{x}<br>Estimated ART coverage=%{y}<extra></extra>",
         "legendgroup": "Liberia",
         "marker": {
          "color": "#FFA15A",
          "pattern": {
           "shape": ""
          }
         },
         "name": "Liberia",
         "offsetgroup": "Liberia",
         "orientation": "v",
         "showlegend": true,
         "textposition": "auto",
         "type": "bar",
         "x": [
          "Liberia"
         ],
         "xaxis": "x",
         "y": [
          18
         ],
         "yaxis": "y"
        },
        {
         "alignmentgroup": "True",
         "hovertemplate": "Country=%{x}<br>Estimated ART coverage=%{y}<extra></extra>",
         "legendgroup": "Madagascar",
         "marker": {
          "color": "#19d3f3",
          "pattern": {
           "shape": ""
          }
         },
         "name": "Madagascar",
         "offsetgroup": "Madagascar",
         "orientation": "v",
         "showlegend": true,
         "textposition": "auto",
         "type": "bar",
         "x": [
          "Madagascar"
         ],
         "xaxis": "x",
         "y": [
          5
         ],
         "yaxis": "y"
        },
        {
         "alignmentgroup": "True",
         "hovertemplate": "Country=%{x}<br>Estimated ART coverage=%{y}<extra></extra>",
         "legendgroup": "Malawi",
         "marker": {
          "color": "#FF6692",
          "pattern": {
           "shape": ""
          }
         },
         "name": "Malawi",
         "offsetgroup": "Malawi",
         "orientation": "v",
         "showlegend": true,
         "textposition": "auto",
         "type": "bar",
         "x": [
          "Malawi"
         ],
         "xaxis": "x",
         "y": [
          61
         ],
         "yaxis": "y"
        },
        {
         "alignmentgroup": "True",
         "hovertemplate": "Country=%{x}<br>Estimated ART coverage=%{y}<extra></extra>",
         "legendgroup": "Mali",
         "marker": {
          "color": "#B6E880",
          "pattern": {
           "shape": ""
          }
         },
         "name": "Mali",
         "offsetgroup": "Mali",
         "orientation": "v",
         "showlegend": true,
         "textposition": "auto",
         "type": "bar",
         "x": [
          "Mali"
         ],
         "xaxis": "x",
         "y": [
          18
         ],
         "yaxis": "y"
        },
        {
         "alignmentgroup": "True",
         "hovertemplate": "Country=%{x}<br>Estimated ART coverage=%{y}<extra></extra>",
         "legendgroup": "Mauritania",
         "marker": {
          "color": "#FF97FF",
          "pattern": {
           "shape": ""
          }
         },
         "name": "Mauritania",
         "offsetgroup": "Mauritania",
         "orientation": "v",
         "showlegend": true,
         "textposition": "auto",
         "type": "bar",
         "x": [
          "Mauritania"
         ],
         "xaxis": "x",
         "y": [
          54
         ],
         "yaxis": "y"
        },
        {
         "alignmentgroup": "True",
         "hovertemplate": "Country=%{x}<br>Estimated ART coverage=%{y}<extra></extra>",
         "legendgroup": "Mauritius",
         "marker": {
          "color": "#FECB52",
          "pattern": {
           "shape": ""
          }
         },
         "name": "Mauritius",
         "offsetgroup": "Mauritius",
         "orientation": "v",
         "showlegend": true,
         "textposition": "auto",
         "type": "bar",
         "x": [
          "Mauritius"
         ],
         "xaxis": "x",
         "y": [
          45
         ],
         "yaxis": "y"
        },
        {
         "alignmentgroup": "True",
         "hovertemplate": "Country=%{x}<br>Estimated ART coverage=%{y}<extra></extra>",
         "legendgroup": "Mozambique",
         "marker": {
          "color": "#636efa",
          "pattern": {
           "shape": ""
          }
         },
         "name": "Mozambique",
         "offsetgroup": "Mozambique",
         "orientation": "v",
         "showlegend": true,
         "textposition": "auto",
         "type": "bar",
         "x": [
          "Mozambique"
         ],
         "xaxis": "x",
         "y": [
          60
         ],
         "yaxis": "y"
        },
        {
         "alignmentgroup": "True",
         "hovertemplate": "Country=%{x}<br>Estimated ART coverage=%{y}<extra></extra>",
         "legendgroup": "Namibia",
         "marker": {
          "color": "#EF553B",
          "pattern": {
           "shape": ""
          }
         },
         "name": "Namibia",
         "offsetgroup": "Namibia",
         "orientation": "v",
         "showlegend": true,
         "textposition": "auto",
         "type": "bar",
         "x": [
          "Namibia"
         ],
         "xaxis": "x",
         "y": [
          78
         ],
         "yaxis": "y"
        },
        {
         "alignmentgroup": "True",
         "hovertemplate": "Country=%{x}<br>Estimated ART coverage=%{y}<extra></extra>",
         "legendgroup": "Niger",
         "marker": {
          "color": "#00cc96",
          "pattern": {
           "shape": ""
          }
         },
         "name": "Niger",
         "offsetgroup": "Niger",
         "orientation": "v",
         "showlegend": true,
         "textposition": "auto",
         "type": "bar",
         "x": [
          "Niger"
         ],
         "xaxis": "x",
         "y": [
          52
         ],
         "yaxis": "y"
        },
        {
         "alignmentgroup": "True",
         "hovertemplate": "Country=%{x}<br>Estimated ART coverage=%{y}<extra></extra>",
         "legendgroup": "Nigeria",
         "marker": {
          "color": "#ab63fa",
          "pattern": {
           "shape": ""
          }
         },
         "name": "Nigeria",
         "offsetgroup": "Nigeria",
         "orientation": "v",
         "showlegend": true,
         "textposition": "auto",
         "type": "bar",
         "x": [
          "Nigeria"
         ],
         "xaxis": "x",
         "y": [
          35
         ],
         "yaxis": "y"
        },
        {
         "alignmentgroup": "True",
         "hovertemplate": "Country=%{x}<br>Estimated ART coverage=%{y}<extra></extra>",
         "legendgroup": "Rwanda",
         "marker": {
          "color": "#FFA15A",
          "pattern": {
           "shape": ""
          }
         },
         "name": "Rwanda",
         "offsetgroup": "Rwanda",
         "orientation": "v",
         "showlegend": true,
         "textposition": "auto",
         "type": "bar",
         "x": [
          "Rwanda"
         ],
         "xaxis": "x",
         "y": [
          63
         ],
         "yaxis": "y"
        },
        {
         "alignmentgroup": "True",
         "hovertemplate": "Country=%{x}<br>Estimated ART coverage=%{y}<extra></extra>",
         "legendgroup": "Senegal",
         "marker": {
          "color": "#19d3f3",
          "pattern": {
           "shape": ""
          }
         },
         "name": "Senegal",
         "offsetgroup": "Senegal",
         "orientation": "v",
         "showlegend": true,
         "textposition": "auto",
         "type": "bar",
         "x": [
          "Senegal"
         ],
         "xaxis": "x",
         "y": [
          31
         ],
         "yaxis": "y"
        },
        {
         "alignmentgroup": "True",
         "hovertemplate": "Country=%{x}<br>Estimated ART coverage=%{y}<extra></extra>",
         "legendgroup": "Sierra Leone",
         "marker": {
          "color": "#FF6692",
          "pattern": {
           "shape": ""
          }
         },
         "name": "Sierra Leone",
         "offsetgroup": "Sierra Leone",
         "orientation": "v",
         "showlegend": true,
         "textposition": "auto",
         "type": "bar",
         "x": [
          "Sierra Leone"
         ],
         "xaxis": "x",
         "y": [
          17
         ],
         "yaxis": "y"
        },
        {
         "alignmentgroup": "True",
         "hovertemplate": "Country=%{x}<br>Estimated ART coverage=%{y}<extra></extra>",
         "legendgroup": "South Africa",
         "marker": {
          "color": "#B6E880",
          "pattern": {
           "shape": ""
          }
         },
         "name": "South Africa",
         "offsetgroup": "South Africa",
         "orientation": "v",
         "showlegend": true,
         "textposition": "auto",
         "type": "bar",
         "x": [
          "South Africa"
         ],
         "xaxis": "x",
         "y": [
          63
         ],
         "yaxis": "y"
        },
        {
         "alignmentgroup": "True",
         "hovertemplate": "Country=%{x}<br>Estimated ART coverage=%{y}<extra></extra>",
         "legendgroup": "South Sudan",
         "marker": {
          "color": "#FF97FF",
          "pattern": {
           "shape": ""
          }
         },
         "name": "South Sudan",
         "offsetgroup": "South Sudan",
         "orientation": "v",
         "showlegend": true,
         "textposition": "auto",
         "type": "bar",
         "x": [
          "South Sudan"
         ],
         "xaxis": "x",
         "y": [
          9
         ],
         "yaxis": "y"
        },
        {
         "alignmentgroup": "True",
         "hovertemplate": "Country=%{x}<br>Estimated ART coverage=%{y}<extra></extra>",
         "legendgroup": "Togo",
         "marker": {
          "color": "#FECB52",
          "pattern": {
           "shape": ""
          }
         },
         "name": "Togo",
         "offsetgroup": "Togo",
         "orientation": "v",
         "showlegend": true,
         "textposition": "auto",
         "type": "bar",
         "x": [
          "Togo"
         ],
         "xaxis": "x",
         "y": [
          34
         ],
         "yaxis": "y"
        },
        {
         "alignmentgroup": "True",
         "hovertemplate": "Country=%{x}<br>Estimated ART coverage=%{y}<extra></extra>",
         "legendgroup": "Uganda",
         "marker": {
          "color": "#636efa",
          "pattern": {
           "shape": ""
          }
         },
         "name": "Uganda",
         "offsetgroup": "Uganda",
         "orientation": "v",
         "showlegend": true,
         "textposition": "auto",
         "type": "bar",
         "x": [
          "Uganda"
         ],
         "xaxis": "x",
         "y": [
          66
         ],
         "yaxis": "y"
        },
        {
         "alignmentgroup": "True",
         "hovertemplate": "Country=%{x}<br>Estimated ART coverage=%{y}<extra></extra>",
         "legendgroup": "United Republic of Tanzania",
         "marker": {
          "color": "#EF553B",
          "pattern": {
           "shape": ""
          }
         },
         "name": "United Republic of Tanzania",
         "offsetgroup": "United Republic of Tanzania",
         "orientation": "v",
         "showlegend": true,
         "textposition": "auto",
         "type": "bar",
         "x": [
          "United Republic of Tanzania"
         ],
         "xaxis": "x",
         "y": [
          65
         ],
         "yaxis": "y"
        },
        {
         "alignmentgroup": "True",
         "hovertemplate": "Country=%{x}<br>Estimated ART coverage=%{y}<extra></extra>",
         "legendgroup": "Zambia",
         "marker": {
          "color": "#00cc96",
          "pattern": {
           "shape": ""
          }
         },
         "name": "Zambia",
         "offsetgroup": "Zambia",
         "orientation": "v",
         "showlegend": true,
         "textposition": "auto",
         "type": "bar",
         "x": [
          "Zambia"
         ],
         "xaxis": "x",
         "y": [
          79
         ],
         "yaxis": "y"
        },
        {
         "alignmentgroup": "True",
         "hovertemplate": "Country=%{x}<br>Estimated ART coverage=%{y}<extra></extra>",
         "legendgroup": "Zimbabwe",
         "marker": {
          "color": "#ab63fa",
          "pattern": {
           "shape": ""
          }
         },
         "name": "Zimbabwe",
         "offsetgroup": "Zimbabwe",
         "orientation": "v",
         "showlegend": true,
         "textposition": "auto",
         "type": "bar",
         "x": [
          "Zimbabwe"
         ],
         "xaxis": "x",
         "y": [
          76
         ],
         "yaxis": "y"
        }
       ],
       "layout": {
        "barmode": "relative",
        "height": 500,
        "legend": {
         "title": {
          "text": "Country"
         },
         "tracegroupgap": 0
        },
        "template": {
         "data": {
          "bar": [
           {
            "error_x": {
             "color": "#2a3f5f"
            },
            "error_y": {
             "color": "#2a3f5f"
            },
            "marker": {
             "line": {
              "color": "#E5ECF6",
              "width": 0.5
             },
             "pattern": {
              "fillmode": "overlay",
              "size": 10,
              "solidity": 0.2
             }
            },
            "type": "bar"
           }
          ],
          "barpolar": [
           {
            "marker": {
             "line": {
              "color": "#E5ECF6",
              "width": 0.5
             },
             "pattern": {
              "fillmode": "overlay",
              "size": 10,
              "solidity": 0.2
             }
            },
            "type": "barpolar"
           }
          ],
          "carpet": [
           {
            "aaxis": {
             "endlinecolor": "#2a3f5f",
             "gridcolor": "white",
             "linecolor": "white",
             "minorgridcolor": "white",
             "startlinecolor": "#2a3f5f"
            },
            "baxis": {
             "endlinecolor": "#2a3f5f",
             "gridcolor": "white",
             "linecolor": "white",
             "minorgridcolor": "white",
             "startlinecolor": "#2a3f5f"
            },
            "type": "carpet"
           }
          ],
          "choropleth": [
           {
            "colorbar": {
             "outlinewidth": 0,
             "ticks": ""
            },
            "type": "choropleth"
           }
          ],
          "contour": [
           {
            "colorbar": {
             "outlinewidth": 0,
             "ticks": ""
            },
            "colorscale": [
             [
              0,
              "#0d0887"
             ],
             [
              0.1111111111111111,
              "#46039f"
             ],
             [
              0.2222222222222222,
              "#7201a8"
             ],
             [
              0.3333333333333333,
              "#9c179e"
             ],
             [
              0.4444444444444444,
              "#bd3786"
             ],
             [
              0.5555555555555556,
              "#d8576b"
             ],
             [
              0.6666666666666666,
              "#ed7953"
             ],
             [
              0.7777777777777778,
              "#fb9f3a"
             ],
             [
              0.8888888888888888,
              "#fdca26"
             ],
             [
              1,
              "#f0f921"
             ]
            ],
            "type": "contour"
           }
          ],
          "contourcarpet": [
           {
            "colorbar": {
             "outlinewidth": 0,
             "ticks": ""
            },
            "type": "contourcarpet"
           }
          ],
          "heatmap": [
           {
            "colorbar": {
             "outlinewidth": 0,
             "ticks": ""
            },
            "colorscale": [
             [
              0,
              "#0d0887"
             ],
             [
              0.1111111111111111,
              "#46039f"
             ],
             [
              0.2222222222222222,
              "#7201a8"
             ],
             [
              0.3333333333333333,
              "#9c179e"
             ],
             [
              0.4444444444444444,
              "#bd3786"
             ],
             [
              0.5555555555555556,
              "#d8576b"
             ],
             [
              0.6666666666666666,
              "#ed7953"
             ],
             [
              0.7777777777777778,
              "#fb9f3a"
             ],
             [
              0.8888888888888888,
              "#fdca26"
             ],
             [
              1,
              "#f0f921"
             ]
            ],
            "type": "heatmap"
           }
          ],
          "heatmapgl": [
           {
            "colorbar": {
             "outlinewidth": 0,
             "ticks": ""
            },
            "colorscale": [
             [
              0,
              "#0d0887"
             ],
             [
              0.1111111111111111,
              "#46039f"
             ],
             [
              0.2222222222222222,
              "#7201a8"
             ],
             [
              0.3333333333333333,
              "#9c179e"
             ],
             [
              0.4444444444444444,
              "#bd3786"
             ],
             [
              0.5555555555555556,
              "#d8576b"
             ],
             [
              0.6666666666666666,
              "#ed7953"
             ],
             [
              0.7777777777777778,
              "#fb9f3a"
             ],
             [
              0.8888888888888888,
              "#fdca26"
             ],
             [
              1,
              "#f0f921"
             ]
            ],
            "type": "heatmapgl"
           }
          ],
          "histogram": [
           {
            "marker": {
             "pattern": {
              "fillmode": "overlay",
              "size": 10,
              "solidity": 0.2
             }
            },
            "type": "histogram"
           }
          ],
          "histogram2d": [
           {
            "colorbar": {
             "outlinewidth": 0,
             "ticks": ""
            },
            "colorscale": [
             [
              0,
              "#0d0887"
             ],
             [
              0.1111111111111111,
              "#46039f"
             ],
             [
              0.2222222222222222,
              "#7201a8"
             ],
             [
              0.3333333333333333,
              "#9c179e"
             ],
             [
              0.4444444444444444,
              "#bd3786"
             ],
             [
              0.5555555555555556,
              "#d8576b"
             ],
             [
              0.6666666666666666,
              "#ed7953"
             ],
             [
              0.7777777777777778,
              "#fb9f3a"
             ],
             [
              0.8888888888888888,
              "#fdca26"
             ],
             [
              1,
              "#f0f921"
             ]
            ],
            "type": "histogram2d"
           }
          ],
          "histogram2dcontour": [
           {
            "colorbar": {
             "outlinewidth": 0,
             "ticks": ""
            },
            "colorscale": [
             [
              0,
              "#0d0887"
             ],
             [
              0.1111111111111111,
              "#46039f"
             ],
             [
              0.2222222222222222,
              "#7201a8"
             ],
             [
              0.3333333333333333,
              "#9c179e"
             ],
             [
              0.4444444444444444,
              "#bd3786"
             ],
             [
              0.5555555555555556,
              "#d8576b"
             ],
             [
              0.6666666666666666,
              "#ed7953"
             ],
             [
              0.7777777777777778,
              "#fb9f3a"
             ],
             [
              0.8888888888888888,
              "#fdca26"
             ],
             [
              1,
              "#f0f921"
             ]
            ],
            "type": "histogram2dcontour"
           }
          ],
          "mesh3d": [
           {
            "colorbar": {
             "outlinewidth": 0,
             "ticks": ""
            },
            "type": "mesh3d"
           }
          ],
          "parcoords": [
           {
            "line": {
             "colorbar": {
              "outlinewidth": 0,
              "ticks": ""
             }
            },
            "type": "parcoords"
           }
          ],
          "pie": [
           {
            "automargin": true,
            "type": "pie"
           }
          ],
          "scatter": [
           {
            "fillpattern": {
             "fillmode": "overlay",
             "size": 10,
             "solidity": 0.2
            },
            "type": "scatter"
           }
          ],
          "scatter3d": [
           {
            "line": {
             "colorbar": {
              "outlinewidth": 0,
              "ticks": ""
             }
            },
            "marker": {
             "colorbar": {
              "outlinewidth": 0,
              "ticks": ""
             }
            },
            "type": "scatter3d"
           }
          ],
          "scattercarpet": [
           {
            "marker": {
             "colorbar": {
              "outlinewidth": 0,
              "ticks": ""
             }
            },
            "type": "scattercarpet"
           }
          ],
          "scattergeo": [
           {
            "marker": {
             "colorbar": {
              "outlinewidth": 0,
              "ticks": ""
             }
            },
            "type": "scattergeo"
           }
          ],
          "scattergl": [
           {
            "marker": {
             "colorbar": {
              "outlinewidth": 0,
              "ticks": ""
             }
            },
            "type": "scattergl"
           }
          ],
          "scattermapbox": [
           {
            "marker": {
             "colorbar": {
              "outlinewidth": 0,
              "ticks": ""
             }
            },
            "type": "scattermapbox"
           }
          ],
          "scatterpolar": [
           {
            "marker": {
             "colorbar": {
              "outlinewidth": 0,
              "ticks": ""
             }
            },
            "type": "scatterpolar"
           }
          ],
          "scatterpolargl": [
           {
            "marker": {
             "colorbar": {
              "outlinewidth": 0,
              "ticks": ""
             }
            },
            "type": "scatterpolargl"
           }
          ],
          "scatterternary": [
           {
            "marker": {
             "colorbar": {
              "outlinewidth": 0,
              "ticks": ""
             }
            },
            "type": "scatterternary"
           }
          ],
          "surface": [
           {
            "colorbar": {
             "outlinewidth": 0,
             "ticks": ""
            },
            "colorscale": [
             [
              0,
              "#0d0887"
             ],
             [
              0.1111111111111111,
              "#46039f"
             ],
             [
              0.2222222222222222,
              "#7201a8"
             ],
             [
              0.3333333333333333,
              "#9c179e"
             ],
             [
              0.4444444444444444,
              "#bd3786"
             ],
             [
              0.5555555555555556,
              "#d8576b"
             ],
             [
              0.6666666666666666,
              "#ed7953"
             ],
             [
              0.7777777777777778,
              "#fb9f3a"
             ],
             [
              0.8888888888888888,
              "#fdca26"
             ],
             [
              1,
              "#f0f921"
             ]
            ],
            "type": "surface"
           }
          ],
          "table": [
           {
            "cells": {
             "fill": {
              "color": "#EBF0F8"
             },
             "line": {
              "color": "white"
             }
            },
            "header": {
             "fill": {
              "color": "#C8D4E3"
             },
             "line": {
              "color": "white"
             }
            },
            "type": "table"
           }
          ]
         },
         "layout": {
          "annotationdefaults": {
           "arrowcolor": "#2a3f5f",
           "arrowhead": 0,
           "arrowwidth": 1
          },
          "autotypenumbers": "strict",
          "coloraxis": {
           "colorbar": {
            "outlinewidth": 0,
            "ticks": ""
           }
          },
          "colorscale": {
           "diverging": [
            [
             0,
             "#8e0152"
            ],
            [
             0.1,
             "#c51b7d"
            ],
            [
             0.2,
             "#de77ae"
            ],
            [
             0.3,
             "#f1b6da"
            ],
            [
             0.4,
             "#fde0ef"
            ],
            [
             0.5,
             "#f7f7f7"
            ],
            [
             0.6,
             "#e6f5d0"
            ],
            [
             0.7,
             "#b8e186"
            ],
            [
             0.8,
             "#7fbc41"
            ],
            [
             0.9,
             "#4d9221"
            ],
            [
             1,
             "#276419"
            ]
           ],
           "sequential": [
            [
             0,
             "#0d0887"
            ],
            [
             0.1111111111111111,
             "#46039f"
            ],
            [
             0.2222222222222222,
             "#7201a8"
            ],
            [
             0.3333333333333333,
             "#9c179e"
            ],
            [
             0.4444444444444444,
             "#bd3786"
            ],
            [
             0.5555555555555556,
             "#d8576b"
            ],
            [
             0.6666666666666666,
             "#ed7953"
            ],
            [
             0.7777777777777778,
             "#fb9f3a"
            ],
            [
             0.8888888888888888,
             "#fdca26"
            ],
            [
             1,
             "#f0f921"
            ]
           ],
           "sequentialminus": [
            [
             0,
             "#0d0887"
            ],
            [
             0.1111111111111111,
             "#46039f"
            ],
            [
             0.2222222222222222,
             "#7201a8"
            ],
            [
             0.3333333333333333,
             "#9c179e"
            ],
            [
             0.4444444444444444,
             "#bd3786"
            ],
            [
             0.5555555555555556,
             "#d8576b"
            ],
            [
             0.6666666666666666,
             "#ed7953"
            ],
            [
             0.7777777777777778,
             "#fb9f3a"
            ],
            [
             0.8888888888888888,
             "#fdca26"
            ],
            [
             1,
             "#f0f921"
            ]
           ]
          },
          "colorway": [
           "#636efa",
           "#EF553B",
           "#00cc96",
           "#ab63fa",
           "#FFA15A",
           "#19d3f3",
           "#FF6692",
           "#B6E880",
           "#FF97FF",
           "#FECB52"
          ],
          "font": {
           "color": "#2a3f5f"
          },
          "geo": {
           "bgcolor": "white",
           "lakecolor": "white",
           "landcolor": "#E5ECF6",
           "showlakes": true,
           "showland": true,
           "subunitcolor": "white"
          },
          "hoverlabel": {
           "align": "left"
          },
          "hovermode": "closest",
          "mapbox": {
           "style": "light"
          },
          "paper_bgcolor": "white",
          "plot_bgcolor": "#E5ECF6",
          "polar": {
           "angularaxis": {
            "gridcolor": "white",
            "linecolor": "white",
            "ticks": ""
           },
           "bgcolor": "#E5ECF6",
           "radialaxis": {
            "gridcolor": "white",
            "linecolor": "white",
            "ticks": ""
           }
          },
          "scene": {
           "xaxis": {
            "backgroundcolor": "#E5ECF6",
            "gridcolor": "white",
            "gridwidth": 2,
            "linecolor": "white",
            "showbackground": true,
            "ticks": "",
            "zerolinecolor": "white"
           },
           "yaxis": {
            "backgroundcolor": "#E5ECF6",
            "gridcolor": "white",
            "gridwidth": 2,
            "linecolor": "white",
            "showbackground": true,
            "ticks": "",
            "zerolinecolor": "white"
           },
           "zaxis": {
            "backgroundcolor": "#E5ECF6",
            "gridcolor": "white",
            "gridwidth": 2,
            "linecolor": "white",
            "showbackground": true,
            "ticks": "",
            "zerolinecolor": "white"
           }
          },
          "shapedefaults": {
           "line": {
            "color": "#2a3f5f"
           }
          },
          "ternary": {
           "aaxis": {
            "gridcolor": "white",
            "linecolor": "white",
            "ticks": ""
           },
           "baxis": {
            "gridcolor": "white",
            "linecolor": "white",
            "ticks": ""
           },
           "bgcolor": "#E5ECF6",
           "caxis": {
            "gridcolor": "white",
            "linecolor": "white",
            "ticks": ""
           }
          },
          "title": {
           "x": 0.05
          },
          "xaxis": {
           "automargin": true,
           "gridcolor": "white",
           "linecolor": "white",
           "ticks": "",
           "title": {
            "standoff": 15
           },
           "zerolinecolor": "white",
           "zerolinewidth": 2
          },
          "yaxis": {
           "automargin": true,
           "gridcolor": "white",
           "linecolor": "white",
           "ticks": "",
           "title": {
            "standoff": 15
           },
           "zerolinecolor": "white",
           "zerolinewidth": 2
          }
         }
        },
        "title": {
         "text": "Estimated ART coverage in children - Country"
        },
        "width": 1000,
        "xaxis": {
         "anchor": "y",
         "categoryarray": [
          "Algeria",
          "Angola",
          "Benin",
          "Botswana",
          "Burkina Faso",
          "Burundi",
          "Cabo Verde",
          "Cameroon",
          "Central African Republic",
          "Chad",
          "Comoros",
          "Côte d'Ivoire",
          "Democratic Republic of the Congo",
          "Equatorial Guinea",
          "Eritrea",
          "Eswatini",
          "Ethiopia",
          "Gabon",
          "Gambia",
          "Ghana",
          "Guinea",
          "Guinea-Bissau",
          "Kenya",
          "Lesotho",
          "Liberia",
          "Madagascar",
          "Malawi",
          "Mali",
          "Mauritania",
          "Mauritius",
          "Mozambique",
          "Namibia",
          "Niger",
          "Nigeria",
          "Rwanda",
          "Senegal",
          "Sierra Leone",
          "South Africa",
          "South Sudan",
          "Togo",
          "Uganda",
          "United Republic of Tanzania",
          "Zambia",
          "Zimbabwe"
         ],
         "categoryorder": "array",
         "domain": [
          0,
          1
         ],
         "tickangle": 90,
         "title": {
          "text": "Country"
         }
        },
        "yaxis": {
         "anchor": "x",
         "domain": [
          0,
          1
         ],
         "title": {
          "text": "Estimated ART coverage"
         }
        }
       }
      },
      "text/html": [
       "<div>                            <div id=\"b0a7fda6-02b5-4784-9426-9c3f8c5c529c\" class=\"plotly-graph-div\" style=\"height:500px; width:1000px;\"></div>            <script type=\"text/javascript\">                require([\"plotly\"], function(Plotly) {                    window.PLOTLYENV=window.PLOTLYENV || {};                                    if (document.getElementById(\"b0a7fda6-02b5-4784-9426-9c3f8c5c529c\")) {                    Plotly.newPlot(                        \"b0a7fda6-02b5-4784-9426-9c3f8c5c529c\",                        [{\"alignmentgroup\":\"True\",\"hovertemplate\":\"Country=%{x}<br>Estimated ART coverage=%{y}<extra></extra>\",\"legendgroup\":\"Algeria\",\"marker\":{\"color\":\"#636efa\",\"pattern\":{\"shape\":\"\"}},\"name\":\"Algeria\",\"offsetgroup\":\"Algeria\",\"orientation\":\"v\",\"showlegend\":true,\"textposition\":\"auto\",\"x\":[\"Algeria\"],\"xaxis\":\"x\",\"y\":[95.0],\"yaxis\":\"y\",\"type\":\"bar\"},{\"alignmentgroup\":\"True\",\"hovertemplate\":\"Country=%{x}<br>Estimated ART coverage=%{y}<extra></extra>\",\"legendgroup\":\"Angola\",\"marker\":{\"color\":\"#EF553B\",\"pattern\":{\"shape\":\"\"}},\"name\":\"Angola\",\"offsetgroup\":\"Angola\",\"orientation\":\"v\",\"showlegend\":true,\"textposition\":\"auto\",\"x\":[\"Angola\"],\"xaxis\":\"x\",\"y\":[13.0],\"yaxis\":\"y\",\"type\":\"bar\"},{\"alignmentgroup\":\"True\",\"hovertemplate\":\"Country=%{x}<br>Estimated ART coverage=%{y}<extra></extra>\",\"legendgroup\":\"Benin\",\"marker\":{\"color\":\"#00cc96\",\"pattern\":{\"shape\":\"\"}},\"name\":\"Benin\",\"offsetgroup\":\"Benin\",\"orientation\":\"v\",\"showlegend\":true,\"textposition\":\"auto\",\"x\":[\"Benin\"],\"xaxis\":\"x\",\"y\":[44.0],\"yaxis\":\"y\",\"type\":\"bar\"},{\"alignmentgroup\":\"True\",\"hovertemplate\":\"Country=%{x}<br>Estimated ART coverage=%{y}<extra></extra>\",\"legendgroup\":\"Botswana\",\"marker\":{\"color\":\"#ab63fa\",\"pattern\":{\"shape\":\"\"}},\"name\":\"Botswana\",\"offsetgroup\":\"Botswana\",\"orientation\":\"v\",\"showlegend\":true,\"textposition\":\"auto\",\"x\":[\"Botswana\"],\"xaxis\":\"x\",\"y\":[38.0],\"yaxis\":\"y\",\"type\":\"bar\"},{\"alignmentgroup\":\"True\",\"hovertemplate\":\"Country=%{x}<br>Estimated ART coverage=%{y}<extra></extra>\",\"legendgroup\":\"Burkina Faso\",\"marker\":{\"color\":\"#FFA15A\",\"pattern\":{\"shape\":\"\"}},\"name\":\"Burkina Faso\",\"offsetgroup\":\"Burkina Faso\",\"orientation\":\"v\",\"showlegend\":true,\"textposition\":\"auto\",\"x\":[\"Burkina Faso\"],\"xaxis\":\"x\",\"y\":[21.0],\"yaxis\":\"y\",\"type\":\"bar\"},{\"alignmentgroup\":\"True\",\"hovertemplate\":\"Country=%{x}<br>Estimated ART coverage=%{y}<extra></extra>\",\"legendgroup\":\"Burundi\",\"marker\":{\"color\":\"#19d3f3\",\"pattern\":{\"shape\":\"\"}},\"name\":\"Burundi\",\"offsetgroup\":\"Burundi\",\"orientation\":\"v\",\"showlegend\":true,\"textposition\":\"auto\",\"x\":[\"Burundi\"],\"xaxis\":\"x\",\"y\":[30.0],\"yaxis\":\"y\",\"type\":\"bar\"},{\"alignmentgroup\":\"True\",\"hovertemplate\":\"Country=%{x}<br>Estimated ART coverage=%{y}<extra></extra>\",\"legendgroup\":\"Cabo Verde\",\"marker\":{\"color\":\"#FF6692\",\"pattern\":{\"shape\":\"\"}},\"name\":\"Cabo Verde\",\"offsetgroup\":\"Cabo Verde\",\"orientation\":\"v\",\"showlegend\":true,\"textposition\":\"auto\",\"x\":[\"Cabo Verde\"],\"xaxis\":\"x\",\"y\":[41.61904761904762],\"yaxis\":\"y\",\"type\":\"bar\"},{\"alignmentgroup\":\"True\",\"hovertemplate\":\"Country=%{x}<br>Estimated ART coverage=%{y}<extra></extra>\",\"legendgroup\":\"Cameroon\",\"marker\":{\"color\":\"#B6E880\",\"pattern\":{\"shape\":\"\"}},\"name\":\"Cameroon\",\"offsetgroup\":\"Cameroon\",\"orientation\":\"v\",\"showlegend\":true,\"textposition\":\"auto\",\"x\":[\"Cameroon\"],\"xaxis\":\"x\",\"y\":[24.0],\"yaxis\":\"y\",\"type\":\"bar\"},{\"alignmentgroup\":\"True\",\"hovertemplate\":\"Country=%{x}<br>Estimated ART coverage=%{y}<extra></extra>\",\"legendgroup\":\"Central African Republic\",\"marker\":{\"color\":\"#FF97FF\",\"pattern\":{\"shape\":\"\"}},\"name\":\"Central African Republic\",\"offsetgroup\":\"Central African Republic\",\"orientation\":\"v\",\"showlegend\":true,\"textposition\":\"auto\",\"x\":[\"Central African Republic\"],\"xaxis\":\"x\",\"y\":[23.0],\"yaxis\":\"y\",\"type\":\"bar\"},{\"alignmentgroup\":\"True\",\"hovertemplate\":\"Country=%{x}<br>Estimated ART coverage=%{y}<extra></extra>\",\"legendgroup\":\"Chad\",\"marker\":{\"color\":\"#FECB52\",\"pattern\":{\"shape\":\"\"}},\"name\":\"Chad\",\"offsetgroup\":\"Chad\",\"orientation\":\"v\",\"showlegend\":true,\"textposition\":\"auto\",\"x\":[\"Chad\"],\"xaxis\":\"x\",\"y\":[16.0],\"yaxis\":\"y\",\"type\":\"bar\"},{\"alignmentgroup\":\"True\",\"hovertemplate\":\"Country=%{x}<br>Estimated ART coverage=%{y}<extra></extra>\",\"legendgroup\":\"Comoros\",\"marker\":{\"color\":\"#636efa\",\"pattern\":{\"shape\":\"\"}},\"name\":\"Comoros\",\"offsetgroup\":\"Comoros\",\"orientation\":\"v\",\"showlegend\":true,\"textposition\":\"auto\",\"x\":[\"Comoros\"],\"xaxis\":\"x\",\"y\":[41.61904761904762],\"yaxis\":\"y\",\"type\":\"bar\"},{\"alignmentgroup\":\"True\",\"hovertemplate\":\"Country=%{x}<br>Estimated ART coverage=%{y}<extra></extra>\",\"legendgroup\":\"C\\u00f4te d'Ivoire\",\"marker\":{\"color\":\"#EF553B\",\"pattern\":{\"shape\":\"\"}},\"name\":\"C\\u00f4te d'Ivoire\",\"offsetgroup\":\"C\\u00f4te d'Ivoire\",\"orientation\":\"v\",\"showlegend\":true,\"textposition\":\"auto\",\"x\":[\"C\\u00f4te d'Ivoire\"],\"xaxis\":\"x\",\"y\":[40.0],\"yaxis\":\"y\",\"type\":\"bar\"},{\"alignmentgroup\":\"True\",\"hovertemplate\":\"Country=%{x}<br>Estimated ART coverage=%{y}<extra></extra>\",\"legendgroup\":\"Democratic Republic of the Congo\",\"marker\":{\"color\":\"#00cc96\",\"pattern\":{\"shape\":\"\"}},\"name\":\"Democratic Republic of the Congo\",\"offsetgroup\":\"Democratic Republic of the Congo\",\"orientation\":\"v\",\"showlegend\":true,\"textposition\":\"auto\",\"x\":[\"Democratic Republic of the Congo\"],\"xaxis\":\"x\",\"y\":[25.0],\"yaxis\":\"y\",\"type\":\"bar\"},{\"alignmentgroup\":\"True\",\"hovertemplate\":\"Country=%{x}<br>Estimated ART coverage=%{y}<extra></extra>\",\"legendgroup\":\"Equatorial Guinea\",\"marker\":{\"color\":\"#ab63fa\",\"pattern\":{\"shape\":\"\"}},\"name\":\"Equatorial Guinea\",\"offsetgroup\":\"Equatorial Guinea\",\"orientation\":\"v\",\"showlegend\":true,\"textposition\":\"auto\",\"x\":[\"Equatorial Guinea\"],\"xaxis\":\"x\",\"y\":[14.0],\"yaxis\":\"y\",\"type\":\"bar\"},{\"alignmentgroup\":\"True\",\"hovertemplate\":\"Country=%{x}<br>Estimated ART coverage=%{y}<extra></extra>\",\"legendgroup\":\"Eritrea\",\"marker\":{\"color\":\"#FFA15A\",\"pattern\":{\"shape\":\"\"}},\"name\":\"Eritrea\",\"offsetgroup\":\"Eritrea\",\"orientation\":\"v\",\"showlegend\":true,\"textposition\":\"auto\",\"x\":[\"Eritrea\"],\"xaxis\":\"x\",\"y\":[37.0],\"yaxis\":\"y\",\"type\":\"bar\"},{\"alignmentgroup\":\"True\",\"hovertemplate\":\"Country=%{x}<br>Estimated ART coverage=%{y}<extra></extra>\",\"legendgroup\":\"Eswatini\",\"marker\":{\"color\":\"#19d3f3\",\"pattern\":{\"shape\":\"\"}},\"name\":\"Eswatini\",\"offsetgroup\":\"Eswatini\",\"orientation\":\"v\",\"showlegend\":true,\"textposition\":\"auto\",\"x\":[\"Eswatini\"],\"xaxis\":\"x\",\"y\":[76.0],\"yaxis\":\"y\",\"type\":\"bar\"},{\"alignmentgroup\":\"True\",\"hovertemplate\":\"Country=%{x}<br>Estimated ART coverage=%{y}<extra></extra>\",\"legendgroup\":\"Ethiopia\",\"marker\":{\"color\":\"#FF6692\",\"pattern\":{\"shape\":\"\"}},\"name\":\"Ethiopia\",\"offsetgroup\":\"Ethiopia\",\"orientation\":\"v\",\"showlegend\":true,\"textposition\":\"auto\",\"x\":[\"Ethiopia\"],\"xaxis\":\"x\",\"y\":[59.0],\"yaxis\":\"y\",\"type\":\"bar\"},{\"alignmentgroup\":\"True\",\"hovertemplate\":\"Country=%{x}<br>Estimated ART coverage=%{y}<extra></extra>\",\"legendgroup\":\"Gabon\",\"marker\":{\"color\":\"#B6E880\",\"pattern\":{\"shape\":\"\"}},\"name\":\"Gabon\",\"offsetgroup\":\"Gabon\",\"orientation\":\"v\",\"showlegend\":true,\"textposition\":\"auto\",\"x\":[\"Gabon\"],\"xaxis\":\"x\",\"y\":[57.0],\"yaxis\":\"y\",\"type\":\"bar\"},{\"alignmentgroup\":\"True\",\"hovertemplate\":\"Country=%{x}<br>Estimated ART coverage=%{y}<extra></extra>\",\"legendgroup\":\"Gambia\",\"marker\":{\"color\":\"#FF97FF\",\"pattern\":{\"shape\":\"\"}},\"name\":\"Gambia\",\"offsetgroup\":\"Gambia\",\"orientation\":\"v\",\"showlegend\":true,\"textposition\":\"auto\",\"x\":[\"Gambia\"],\"xaxis\":\"x\",\"y\":[30.0],\"yaxis\":\"y\",\"type\":\"bar\"},{\"alignmentgroup\":\"True\",\"hovertemplate\":\"Country=%{x}<br>Estimated ART coverage=%{y}<extra></extra>\",\"legendgroup\":\"Ghana\",\"marker\":{\"color\":\"#FECB52\",\"pattern\":{\"shape\":\"\"}},\"name\":\"Ghana\",\"offsetgroup\":\"Ghana\",\"orientation\":\"v\",\"showlegend\":true,\"textposition\":\"auto\",\"x\":[\"Ghana\"],\"xaxis\":\"x\",\"y\":[20.0],\"yaxis\":\"y\",\"type\":\"bar\"},{\"alignmentgroup\":\"True\",\"hovertemplate\":\"Country=%{x}<br>Estimated ART coverage=%{y}<extra></extra>\",\"legendgroup\":\"Guinea\",\"marker\":{\"color\":\"#636efa\",\"pattern\":{\"shape\":\"\"}},\"name\":\"Guinea\",\"offsetgroup\":\"Guinea\",\"orientation\":\"v\",\"showlegend\":true,\"textposition\":\"auto\",\"x\":[\"Guinea\"],\"xaxis\":\"x\",\"y\":[20.0],\"yaxis\":\"y\",\"type\":\"bar\"},{\"alignmentgroup\":\"True\",\"hovertemplate\":\"Country=%{x}<br>Estimated ART coverage=%{y}<extra></extra>\",\"legendgroup\":\"Guinea-Bissau\",\"marker\":{\"color\":\"#EF553B\",\"pattern\":{\"shape\":\"\"}},\"name\":\"Guinea-Bissau\",\"offsetgroup\":\"Guinea-Bissau\",\"orientation\":\"v\",\"showlegend\":true,\"textposition\":\"auto\",\"x\":[\"Guinea-Bissau\"],\"xaxis\":\"x\",\"y\":[6.0],\"yaxis\":\"y\",\"type\":\"bar\"},{\"alignmentgroup\":\"True\",\"hovertemplate\":\"Country=%{x}<br>Estimated ART coverage=%{y}<extra></extra>\",\"legendgroup\":\"Kenya\",\"marker\":{\"color\":\"#00cc96\",\"pattern\":{\"shape\":\"\"}},\"name\":\"Kenya\",\"offsetgroup\":\"Kenya\",\"orientation\":\"v\",\"showlegend\":true,\"textposition\":\"auto\",\"x\":[\"Kenya\"],\"xaxis\":\"x\",\"y\":[61.0],\"yaxis\":\"y\",\"type\":\"bar\"},{\"alignmentgroup\":\"True\",\"hovertemplate\":\"Country=%{x}<br>Estimated ART coverage=%{y}<extra></extra>\",\"legendgroup\":\"Lesotho\",\"marker\":{\"color\":\"#ab63fa\",\"pattern\":{\"shape\":\"\"}},\"name\":\"Lesotho\",\"offsetgroup\":\"Lesotho\",\"orientation\":\"v\",\"showlegend\":true,\"textposition\":\"auto\",\"x\":[\"Lesotho\"],\"xaxis\":\"x\",\"y\":[70.0],\"yaxis\":\"y\",\"type\":\"bar\"},{\"alignmentgroup\":\"True\",\"hovertemplate\":\"Country=%{x}<br>Estimated ART coverage=%{y}<extra></extra>\",\"legendgroup\":\"Liberia\",\"marker\":{\"color\":\"#FFA15A\",\"pattern\":{\"shape\":\"\"}},\"name\":\"Liberia\",\"offsetgroup\":\"Liberia\",\"orientation\":\"v\",\"showlegend\":true,\"textposition\":\"auto\",\"x\":[\"Liberia\"],\"xaxis\":\"x\",\"y\":[18.0],\"yaxis\":\"y\",\"type\":\"bar\"},{\"alignmentgroup\":\"True\",\"hovertemplate\":\"Country=%{x}<br>Estimated ART coverage=%{y}<extra></extra>\",\"legendgroup\":\"Madagascar\",\"marker\":{\"color\":\"#19d3f3\",\"pattern\":{\"shape\":\"\"}},\"name\":\"Madagascar\",\"offsetgroup\":\"Madagascar\",\"orientation\":\"v\",\"showlegend\":true,\"textposition\":\"auto\",\"x\":[\"Madagascar\"],\"xaxis\":\"x\",\"y\":[5.0],\"yaxis\":\"y\",\"type\":\"bar\"},{\"alignmentgroup\":\"True\",\"hovertemplate\":\"Country=%{x}<br>Estimated ART coverage=%{y}<extra></extra>\",\"legendgroup\":\"Malawi\",\"marker\":{\"color\":\"#FF6692\",\"pattern\":{\"shape\":\"\"}},\"name\":\"Malawi\",\"offsetgroup\":\"Malawi\",\"orientation\":\"v\",\"showlegend\":true,\"textposition\":\"auto\",\"x\":[\"Malawi\"],\"xaxis\":\"x\",\"y\":[61.0],\"yaxis\":\"y\",\"type\":\"bar\"},{\"alignmentgroup\":\"True\",\"hovertemplate\":\"Country=%{x}<br>Estimated ART coverage=%{y}<extra></extra>\",\"legendgroup\":\"Mali\",\"marker\":{\"color\":\"#B6E880\",\"pattern\":{\"shape\":\"\"}},\"name\":\"Mali\",\"offsetgroup\":\"Mali\",\"orientation\":\"v\",\"showlegend\":true,\"textposition\":\"auto\",\"x\":[\"Mali\"],\"xaxis\":\"x\",\"y\":[18.0],\"yaxis\":\"y\",\"type\":\"bar\"},{\"alignmentgroup\":\"True\",\"hovertemplate\":\"Country=%{x}<br>Estimated ART coverage=%{y}<extra></extra>\",\"legendgroup\":\"Mauritania\",\"marker\":{\"color\":\"#FF97FF\",\"pattern\":{\"shape\":\"\"}},\"name\":\"Mauritania\",\"offsetgroup\":\"Mauritania\",\"orientation\":\"v\",\"showlegend\":true,\"textposition\":\"auto\",\"x\":[\"Mauritania\"],\"xaxis\":\"x\",\"y\":[54.0],\"yaxis\":\"y\",\"type\":\"bar\"},{\"alignmentgroup\":\"True\",\"hovertemplate\":\"Country=%{x}<br>Estimated ART coverage=%{y}<extra></extra>\",\"legendgroup\":\"Mauritius\",\"marker\":{\"color\":\"#FECB52\",\"pattern\":{\"shape\":\"\"}},\"name\":\"Mauritius\",\"offsetgroup\":\"Mauritius\",\"orientation\":\"v\",\"showlegend\":true,\"textposition\":\"auto\",\"x\":[\"Mauritius\"],\"xaxis\":\"x\",\"y\":[45.0],\"yaxis\":\"y\",\"type\":\"bar\"},{\"alignmentgroup\":\"True\",\"hovertemplate\":\"Country=%{x}<br>Estimated ART coverage=%{y}<extra></extra>\",\"legendgroup\":\"Mozambique\",\"marker\":{\"color\":\"#636efa\",\"pattern\":{\"shape\":\"\"}},\"name\":\"Mozambique\",\"offsetgroup\":\"Mozambique\",\"orientation\":\"v\",\"showlegend\":true,\"textposition\":\"auto\",\"x\":[\"Mozambique\"],\"xaxis\":\"x\",\"y\":[60.0],\"yaxis\":\"y\",\"type\":\"bar\"},{\"alignmentgroup\":\"True\",\"hovertemplate\":\"Country=%{x}<br>Estimated ART coverage=%{y}<extra></extra>\",\"legendgroup\":\"Namibia\",\"marker\":{\"color\":\"#EF553B\",\"pattern\":{\"shape\":\"\"}},\"name\":\"Namibia\",\"offsetgroup\":\"Namibia\",\"orientation\":\"v\",\"showlegend\":true,\"textposition\":\"auto\",\"x\":[\"Namibia\"],\"xaxis\":\"x\",\"y\":[78.0],\"yaxis\":\"y\",\"type\":\"bar\"},{\"alignmentgroup\":\"True\",\"hovertemplate\":\"Country=%{x}<br>Estimated ART coverage=%{y}<extra></extra>\",\"legendgroup\":\"Niger\",\"marker\":{\"color\":\"#00cc96\",\"pattern\":{\"shape\":\"\"}},\"name\":\"Niger\",\"offsetgroup\":\"Niger\",\"orientation\":\"v\",\"showlegend\":true,\"textposition\":\"auto\",\"x\":[\"Niger\"],\"xaxis\":\"x\",\"y\":[52.0],\"yaxis\":\"y\",\"type\":\"bar\"},{\"alignmentgroup\":\"True\",\"hovertemplate\":\"Country=%{x}<br>Estimated ART coverage=%{y}<extra></extra>\",\"legendgroup\":\"Nigeria\",\"marker\":{\"color\":\"#ab63fa\",\"pattern\":{\"shape\":\"\"}},\"name\":\"Nigeria\",\"offsetgroup\":\"Nigeria\",\"orientation\":\"v\",\"showlegend\":true,\"textposition\":\"auto\",\"x\":[\"Nigeria\"],\"xaxis\":\"x\",\"y\":[35.0],\"yaxis\":\"y\",\"type\":\"bar\"},{\"alignmentgroup\":\"True\",\"hovertemplate\":\"Country=%{x}<br>Estimated ART coverage=%{y}<extra></extra>\",\"legendgroup\":\"Rwanda\",\"marker\":{\"color\":\"#FFA15A\",\"pattern\":{\"shape\":\"\"}},\"name\":\"Rwanda\",\"offsetgroup\":\"Rwanda\",\"orientation\":\"v\",\"showlegend\":true,\"textposition\":\"auto\",\"x\":[\"Rwanda\"],\"xaxis\":\"x\",\"y\":[63.0],\"yaxis\":\"y\",\"type\":\"bar\"},{\"alignmentgroup\":\"True\",\"hovertemplate\":\"Country=%{x}<br>Estimated ART coverage=%{y}<extra></extra>\",\"legendgroup\":\"Senegal\",\"marker\":{\"color\":\"#19d3f3\",\"pattern\":{\"shape\":\"\"}},\"name\":\"Senegal\",\"offsetgroup\":\"Senegal\",\"orientation\":\"v\",\"showlegend\":true,\"textposition\":\"auto\",\"x\":[\"Senegal\"],\"xaxis\":\"x\",\"y\":[31.0],\"yaxis\":\"y\",\"type\":\"bar\"},{\"alignmentgroup\":\"True\",\"hovertemplate\":\"Country=%{x}<br>Estimated ART coverage=%{y}<extra></extra>\",\"legendgroup\":\"Sierra Leone\",\"marker\":{\"color\":\"#FF6692\",\"pattern\":{\"shape\":\"\"}},\"name\":\"Sierra Leone\",\"offsetgroup\":\"Sierra Leone\",\"orientation\":\"v\",\"showlegend\":true,\"textposition\":\"auto\",\"x\":[\"Sierra Leone\"],\"xaxis\":\"x\",\"y\":[17.0],\"yaxis\":\"y\",\"type\":\"bar\"},{\"alignmentgroup\":\"True\",\"hovertemplate\":\"Country=%{x}<br>Estimated ART coverage=%{y}<extra></extra>\",\"legendgroup\":\"South Africa\",\"marker\":{\"color\":\"#B6E880\",\"pattern\":{\"shape\":\"\"}},\"name\":\"South Africa\",\"offsetgroup\":\"South Africa\",\"orientation\":\"v\",\"showlegend\":true,\"textposition\":\"auto\",\"x\":[\"South Africa\"],\"xaxis\":\"x\",\"y\":[63.0],\"yaxis\":\"y\",\"type\":\"bar\"},{\"alignmentgroup\":\"True\",\"hovertemplate\":\"Country=%{x}<br>Estimated ART coverage=%{y}<extra></extra>\",\"legendgroup\":\"South Sudan\",\"marker\":{\"color\":\"#FF97FF\",\"pattern\":{\"shape\":\"\"}},\"name\":\"South Sudan\",\"offsetgroup\":\"South Sudan\",\"orientation\":\"v\",\"showlegend\":true,\"textposition\":\"auto\",\"x\":[\"South Sudan\"],\"xaxis\":\"x\",\"y\":[9.0],\"yaxis\":\"y\",\"type\":\"bar\"},{\"alignmentgroup\":\"True\",\"hovertemplate\":\"Country=%{x}<br>Estimated ART coverage=%{y}<extra></extra>\",\"legendgroup\":\"Togo\",\"marker\":{\"color\":\"#FECB52\",\"pattern\":{\"shape\":\"\"}},\"name\":\"Togo\",\"offsetgroup\":\"Togo\",\"orientation\":\"v\",\"showlegend\":true,\"textposition\":\"auto\",\"x\":[\"Togo\"],\"xaxis\":\"x\",\"y\":[34.0],\"yaxis\":\"y\",\"type\":\"bar\"},{\"alignmentgroup\":\"True\",\"hovertemplate\":\"Country=%{x}<br>Estimated ART coverage=%{y}<extra></extra>\",\"legendgroup\":\"Uganda\",\"marker\":{\"color\":\"#636efa\",\"pattern\":{\"shape\":\"\"}},\"name\":\"Uganda\",\"offsetgroup\":\"Uganda\",\"orientation\":\"v\",\"showlegend\":true,\"textposition\":\"auto\",\"x\":[\"Uganda\"],\"xaxis\":\"x\",\"y\":[66.0],\"yaxis\":\"y\",\"type\":\"bar\"},{\"alignmentgroup\":\"True\",\"hovertemplate\":\"Country=%{x}<br>Estimated ART coverage=%{y}<extra></extra>\",\"legendgroup\":\"United Republic of Tanzania\",\"marker\":{\"color\":\"#EF553B\",\"pattern\":{\"shape\":\"\"}},\"name\":\"United Republic of Tanzania\",\"offsetgroup\":\"United Republic of Tanzania\",\"orientation\":\"v\",\"showlegend\":true,\"textposition\":\"auto\",\"x\":[\"United Republic of Tanzania\"],\"xaxis\":\"x\",\"y\":[65.0],\"yaxis\":\"y\",\"type\":\"bar\"},{\"alignmentgroup\":\"True\",\"hovertemplate\":\"Country=%{x}<br>Estimated ART coverage=%{y}<extra></extra>\",\"legendgroup\":\"Zambia\",\"marker\":{\"color\":\"#00cc96\",\"pattern\":{\"shape\":\"\"}},\"name\":\"Zambia\",\"offsetgroup\":\"Zambia\",\"orientation\":\"v\",\"showlegend\":true,\"textposition\":\"auto\",\"x\":[\"Zambia\"],\"xaxis\":\"x\",\"y\":[79.0],\"yaxis\":\"y\",\"type\":\"bar\"},{\"alignmentgroup\":\"True\",\"hovertemplate\":\"Country=%{x}<br>Estimated ART coverage=%{y}<extra></extra>\",\"legendgroup\":\"Zimbabwe\",\"marker\":{\"color\":\"#ab63fa\",\"pattern\":{\"shape\":\"\"}},\"name\":\"Zimbabwe\",\"offsetgroup\":\"Zimbabwe\",\"orientation\":\"v\",\"showlegend\":true,\"textposition\":\"auto\",\"x\":[\"Zimbabwe\"],\"xaxis\":\"x\",\"y\":[76.0],\"yaxis\":\"y\",\"type\":\"bar\"}],                        {\"template\":{\"data\":{\"histogram2dcontour\":[{\"type\":\"histogram2dcontour\",\"colorbar\":{\"outlinewidth\":0,\"ticks\":\"\"},\"colorscale\":[[0.0,\"#0d0887\"],[0.1111111111111111,\"#46039f\"],[0.2222222222222222,\"#7201a8\"],[0.3333333333333333,\"#9c179e\"],[0.4444444444444444,\"#bd3786\"],[0.5555555555555556,\"#d8576b\"],[0.6666666666666666,\"#ed7953\"],[0.7777777777777778,\"#fb9f3a\"],[0.8888888888888888,\"#fdca26\"],[1.0,\"#f0f921\"]]}],\"choropleth\":[{\"type\":\"choropleth\",\"colorbar\":{\"outlinewidth\":0,\"ticks\":\"\"}}],\"histogram2d\":[{\"type\":\"histogram2d\",\"colorbar\":{\"outlinewidth\":0,\"ticks\":\"\"},\"colorscale\":[[0.0,\"#0d0887\"],[0.1111111111111111,\"#46039f\"],[0.2222222222222222,\"#7201a8\"],[0.3333333333333333,\"#9c179e\"],[0.4444444444444444,\"#bd3786\"],[0.5555555555555556,\"#d8576b\"],[0.6666666666666666,\"#ed7953\"],[0.7777777777777778,\"#fb9f3a\"],[0.8888888888888888,\"#fdca26\"],[1.0,\"#f0f921\"]]}],\"heatmap\":[{\"type\":\"heatmap\",\"colorbar\":{\"outlinewidth\":0,\"ticks\":\"\"},\"colorscale\":[[0.0,\"#0d0887\"],[0.1111111111111111,\"#46039f\"],[0.2222222222222222,\"#7201a8\"],[0.3333333333333333,\"#9c179e\"],[0.4444444444444444,\"#bd3786\"],[0.5555555555555556,\"#d8576b\"],[0.6666666666666666,\"#ed7953\"],[0.7777777777777778,\"#fb9f3a\"],[0.8888888888888888,\"#fdca26\"],[1.0,\"#f0f921\"]]}],\"heatmapgl\":[{\"type\":\"heatmapgl\",\"colorbar\":{\"outlinewidth\":0,\"ticks\":\"\"},\"colorscale\":[[0.0,\"#0d0887\"],[0.1111111111111111,\"#46039f\"],[0.2222222222222222,\"#7201a8\"],[0.3333333333333333,\"#9c179e\"],[0.4444444444444444,\"#bd3786\"],[0.5555555555555556,\"#d8576b\"],[0.6666666666666666,\"#ed7953\"],[0.7777777777777778,\"#fb9f3a\"],[0.8888888888888888,\"#fdca26\"],[1.0,\"#f0f921\"]]}],\"contourcarpet\":[{\"type\":\"contourcarpet\",\"colorbar\":{\"outlinewidth\":0,\"ticks\":\"\"}}],\"contour\":[{\"type\":\"contour\",\"colorbar\":{\"outlinewidth\":0,\"ticks\":\"\"},\"colorscale\":[[0.0,\"#0d0887\"],[0.1111111111111111,\"#46039f\"],[0.2222222222222222,\"#7201a8\"],[0.3333333333333333,\"#9c179e\"],[0.4444444444444444,\"#bd3786\"],[0.5555555555555556,\"#d8576b\"],[0.6666666666666666,\"#ed7953\"],[0.7777777777777778,\"#fb9f3a\"],[0.8888888888888888,\"#fdca26\"],[1.0,\"#f0f921\"]]}],\"surface\":[{\"type\":\"surface\",\"colorbar\":{\"outlinewidth\":0,\"ticks\":\"\"},\"colorscale\":[[0.0,\"#0d0887\"],[0.1111111111111111,\"#46039f\"],[0.2222222222222222,\"#7201a8\"],[0.3333333333333333,\"#9c179e\"],[0.4444444444444444,\"#bd3786\"],[0.5555555555555556,\"#d8576b\"],[0.6666666666666666,\"#ed7953\"],[0.7777777777777778,\"#fb9f3a\"],[0.8888888888888888,\"#fdca26\"],[1.0,\"#f0f921\"]]}],\"mesh3d\":[{\"type\":\"mesh3d\",\"colorbar\":{\"outlinewidth\":0,\"ticks\":\"\"}}],\"scatter\":[{\"fillpattern\":{\"fillmode\":\"overlay\",\"size\":10,\"solidity\":0.2},\"type\":\"scatter\"}],\"parcoords\":[{\"type\":\"parcoords\",\"line\":{\"colorbar\":{\"outlinewidth\":0,\"ticks\":\"\"}}}],\"scatterpolargl\":[{\"type\":\"scatterpolargl\",\"marker\":{\"colorbar\":{\"outlinewidth\":0,\"ticks\":\"\"}}}],\"bar\":[{\"error_x\":{\"color\":\"#2a3f5f\"},\"error_y\":{\"color\":\"#2a3f5f\"},\"marker\":{\"line\":{\"color\":\"#E5ECF6\",\"width\":0.5},\"pattern\":{\"fillmode\":\"overlay\",\"size\":10,\"solidity\":0.2}},\"type\":\"bar\"}],\"scattergeo\":[{\"type\":\"scattergeo\",\"marker\":{\"colorbar\":{\"outlinewidth\":0,\"ticks\":\"\"}}}],\"scatterpolar\":[{\"type\":\"scatterpolar\",\"marker\":{\"colorbar\":{\"outlinewidth\":0,\"ticks\":\"\"}}}],\"histogram\":[{\"marker\":{\"pattern\":{\"fillmode\":\"overlay\",\"size\":10,\"solidity\":0.2}},\"type\":\"histogram\"}],\"scattergl\":[{\"type\":\"scattergl\",\"marker\":{\"colorbar\":{\"outlinewidth\":0,\"ticks\":\"\"}}}],\"scatter3d\":[{\"type\":\"scatter3d\",\"line\":{\"colorbar\":{\"outlinewidth\":0,\"ticks\":\"\"}},\"marker\":{\"colorbar\":{\"outlinewidth\":0,\"ticks\":\"\"}}}],\"scattermapbox\":[{\"type\":\"scattermapbox\",\"marker\":{\"colorbar\":{\"outlinewidth\":0,\"ticks\":\"\"}}}],\"scatterternary\":[{\"type\":\"scatterternary\",\"marker\":{\"colorbar\":{\"outlinewidth\":0,\"ticks\":\"\"}}}],\"scattercarpet\":[{\"type\":\"scattercarpet\",\"marker\":{\"colorbar\":{\"outlinewidth\":0,\"ticks\":\"\"}}}],\"carpet\":[{\"aaxis\":{\"endlinecolor\":\"#2a3f5f\",\"gridcolor\":\"white\",\"linecolor\":\"white\",\"minorgridcolor\":\"white\",\"startlinecolor\":\"#2a3f5f\"},\"baxis\":{\"endlinecolor\":\"#2a3f5f\",\"gridcolor\":\"white\",\"linecolor\":\"white\",\"minorgridcolor\":\"white\",\"startlinecolor\":\"#2a3f5f\"},\"type\":\"carpet\"}],\"table\":[{\"cells\":{\"fill\":{\"color\":\"#EBF0F8\"},\"line\":{\"color\":\"white\"}},\"header\":{\"fill\":{\"color\":\"#C8D4E3\"},\"line\":{\"color\":\"white\"}},\"type\":\"table\"}],\"barpolar\":[{\"marker\":{\"line\":{\"color\":\"#E5ECF6\",\"width\":0.5},\"pattern\":{\"fillmode\":\"overlay\",\"size\":10,\"solidity\":0.2}},\"type\":\"barpolar\"}],\"pie\":[{\"automargin\":true,\"type\":\"pie\"}]},\"layout\":{\"autotypenumbers\":\"strict\",\"colorway\":[\"#636efa\",\"#EF553B\",\"#00cc96\",\"#ab63fa\",\"#FFA15A\",\"#19d3f3\",\"#FF6692\",\"#B6E880\",\"#FF97FF\",\"#FECB52\"],\"font\":{\"color\":\"#2a3f5f\"},\"hovermode\":\"closest\",\"hoverlabel\":{\"align\":\"left\"},\"paper_bgcolor\":\"white\",\"plot_bgcolor\":\"#E5ECF6\",\"polar\":{\"bgcolor\":\"#E5ECF6\",\"angularaxis\":{\"gridcolor\":\"white\",\"linecolor\":\"white\",\"ticks\":\"\"},\"radialaxis\":{\"gridcolor\":\"white\",\"linecolor\":\"white\",\"ticks\":\"\"}},\"ternary\":{\"bgcolor\":\"#E5ECF6\",\"aaxis\":{\"gridcolor\":\"white\",\"linecolor\":\"white\",\"ticks\":\"\"},\"baxis\":{\"gridcolor\":\"white\",\"linecolor\":\"white\",\"ticks\":\"\"},\"caxis\":{\"gridcolor\":\"white\",\"linecolor\":\"white\",\"ticks\":\"\"}},\"coloraxis\":{\"colorbar\":{\"outlinewidth\":0,\"ticks\":\"\"}},\"colorscale\":{\"sequential\":[[0.0,\"#0d0887\"],[0.1111111111111111,\"#46039f\"],[0.2222222222222222,\"#7201a8\"],[0.3333333333333333,\"#9c179e\"],[0.4444444444444444,\"#bd3786\"],[0.5555555555555556,\"#d8576b\"],[0.6666666666666666,\"#ed7953\"],[0.7777777777777778,\"#fb9f3a\"],[0.8888888888888888,\"#fdca26\"],[1.0,\"#f0f921\"]],\"sequentialminus\":[[0.0,\"#0d0887\"],[0.1111111111111111,\"#46039f\"],[0.2222222222222222,\"#7201a8\"],[0.3333333333333333,\"#9c179e\"],[0.4444444444444444,\"#bd3786\"],[0.5555555555555556,\"#d8576b\"],[0.6666666666666666,\"#ed7953\"],[0.7777777777777778,\"#fb9f3a\"],[0.8888888888888888,\"#fdca26\"],[1.0,\"#f0f921\"]],\"diverging\":[[0,\"#8e0152\"],[0.1,\"#c51b7d\"],[0.2,\"#de77ae\"],[0.3,\"#f1b6da\"],[0.4,\"#fde0ef\"],[0.5,\"#f7f7f7\"],[0.6,\"#e6f5d0\"],[0.7,\"#b8e186\"],[0.8,\"#7fbc41\"],[0.9,\"#4d9221\"],[1,\"#276419\"]]},\"xaxis\":{\"gridcolor\":\"white\",\"linecolor\":\"white\",\"ticks\":\"\",\"title\":{\"standoff\":15},\"zerolinecolor\":\"white\",\"automargin\":true,\"zerolinewidth\":2},\"yaxis\":{\"gridcolor\":\"white\",\"linecolor\":\"white\",\"ticks\":\"\",\"title\":{\"standoff\":15},\"zerolinecolor\":\"white\",\"automargin\":true,\"zerolinewidth\":2},\"scene\":{\"xaxis\":{\"backgroundcolor\":\"#E5ECF6\",\"gridcolor\":\"white\",\"linecolor\":\"white\",\"showbackground\":true,\"ticks\":\"\",\"zerolinecolor\":\"white\",\"gridwidth\":2},\"yaxis\":{\"backgroundcolor\":\"#E5ECF6\",\"gridcolor\":\"white\",\"linecolor\":\"white\",\"showbackground\":true,\"ticks\":\"\",\"zerolinecolor\":\"white\",\"gridwidth\":2},\"zaxis\":{\"backgroundcolor\":\"#E5ECF6\",\"gridcolor\":\"white\",\"linecolor\":\"white\",\"showbackground\":true,\"ticks\":\"\",\"zerolinecolor\":\"white\",\"gridwidth\":2}},\"shapedefaults\":{\"line\":{\"color\":\"#2a3f5f\"}},\"annotationdefaults\":{\"arrowcolor\":\"#2a3f5f\",\"arrowhead\":0,\"arrowwidth\":1},\"geo\":{\"bgcolor\":\"white\",\"landcolor\":\"#E5ECF6\",\"subunitcolor\":\"white\",\"showland\":true,\"showlakes\":true,\"lakecolor\":\"white\"},\"title\":{\"x\":0.05},\"mapbox\":{\"style\":\"light\"}}},\"xaxis\":{\"anchor\":\"y\",\"domain\":[0.0,1.0],\"title\":{\"text\":\"Country\"},\"categoryorder\":\"array\",\"categoryarray\":[\"Algeria\",\"Angola\",\"Benin\",\"Botswana\",\"Burkina Faso\",\"Burundi\",\"Cabo Verde\",\"Cameroon\",\"Central African Republic\",\"Chad\",\"Comoros\",\"C\\u00f4te d'Ivoire\",\"Democratic Republic of the Congo\",\"Equatorial Guinea\",\"Eritrea\",\"Eswatini\",\"Ethiopia\",\"Gabon\",\"Gambia\",\"Ghana\",\"Guinea\",\"Guinea-Bissau\",\"Kenya\",\"Lesotho\",\"Liberia\",\"Madagascar\",\"Malawi\",\"Mali\",\"Mauritania\",\"Mauritius\",\"Mozambique\",\"Namibia\",\"Niger\",\"Nigeria\",\"Rwanda\",\"Senegal\",\"Sierra Leone\",\"South Africa\",\"South Sudan\",\"Togo\",\"Uganda\",\"United Republic of Tanzania\",\"Zambia\",\"Zimbabwe\"],\"tickangle\":90},\"yaxis\":{\"anchor\":\"x\",\"domain\":[0.0,1.0],\"title\":{\"text\":\"Estimated ART coverage\"}},\"legend\":{\"title\":{\"text\":\"Country\"},\"tracegroupgap\":0},\"title\":{\"text\":\"Estimated ART coverage in children - Country\"},\"barmode\":\"relative\",\"height\":500,\"width\":1000},                        {\"responsive\": true}                    ).then(function(){\n",
       "                            \n",
       "var gd = document.getElementById('b0a7fda6-02b5-4784-9426-9c3f8c5c529c');\n",
       "var x = new MutationObserver(function (mutations, observer) {{\n",
       "        var display = window.getComputedStyle(gd).display;\n",
       "        if (!display || display === 'none') {{\n",
       "            console.log([gd, 'removed!']);\n",
       "            Plotly.purge(gd);\n",
       "            observer.disconnect();\n",
       "        }}\n",
       "}});\n",
       "\n",
       "// Listen for the removal of the full notebook cells\n",
       "var notebookContainer = gd.closest('#notebook-container');\n",
       "if (notebookContainer) {{\n",
       "    x.observe(notebookContainer, {childList: true});\n",
       "}}\n",
       "\n",
       "// Listen for the clearing of the current output cell\n",
       "var outputEl = gd.closest('.output');\n",
       "if (outputEl) {{\n",
       "    x.observe(outputEl, {childList: true});\n",
       "}}\n",
       "\n",
       "                        })                };                });            </script>        </div>"
      ]
     },
     "metadata": {},
     "output_type": "display_data"
    }
   ],
   "source": [
    "fig = px.bar(ChildARTcoverage, x=ChildARTcoverage.index, \n",
    "             y='Estimated ART coverage among children (%)_median', \n",
    "             title=\"Estimated ART coverage in children - Country\",\n",
    "             labels={'Estimated ART coverage among children (%)_median': 'Estimated ART coverage'},\n",
    "             color=ChildARTcoverage.index,  # Color by the index\n",
    "             height=500, width=1000)\n",
    "\n",
    "fig.update_xaxes(tickangle=90)\n",
    "fig.show()\n"
   ]
  },
  {
   "cell_type": "markdown",
   "id": "30d56d26",
   "metadata": {},
   "source": [
    "### Though the South Africa has the highest number of children who needs ART, percent wise Algeria has the highest value of ART coverage in children."
   ]
  },
  {
   "cell_type": "markdown",
   "id": "3d1e4c80",
   "metadata": {},
   "source": [
    "## Conclusion:\n",
    "\n",
    "The detailed exploration and cleaning of the datasets have provided valuable insights into the HIV/AIDS epidemic. The analysis highlights South Africa's central role in the epidemic, with the highest number of people living with HIV, the greatest need for pediatric antiretroviral treatment, the highest number of HIV-related deaths, and a substantial number of women receiving antiretrovirals.\n",
    "\n",
    "These findings underscore the persistent global health challenge posed by HIV/AIDS. While progress has been made in specific regions, it is evident that targeted interventions, heightened awareness, enhanced treatment access, and comprehensive prevention strategies remain essential to effectively combat this enduring health crisis. The data analysis serves as a crucial foundation for informed decision-making and resource allocation in the ongoing fight against HIV/AIDS.\n",
    "\n",
    "### Thank you :) Hope it is insightful!!"
   ]
  },
  {
   "cell_type": "code",
   "execution_count": null,
   "id": "7c8ac9e7",
   "metadata": {},
   "outputs": [],
   "source": []
  }
 ],
 "metadata": {
  "kernelspec": {
   "display_name": "Python 3 (ipykernel)",
   "language": "python",
   "name": "python3"
  },
  "language_info": {
   "codemirror_mode": {
    "name": "ipython",
    "version": 3
   },
   "file_extension": ".py",
   "mimetype": "text/x-python",
   "name": "python",
   "nbconvert_exporter": "python",
   "pygments_lexer": "ipython3",
   "version": "3.11.3"
  }
 },
 "nbformat": 4,
 "nbformat_minor": 5
}
